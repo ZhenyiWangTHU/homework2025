{
 "cells": [
  {
   "cell_type": "code",
   "execution_count": 1,
   "id": "94869943-0292-4aac-bfa9-6bbda7b81216",
   "metadata": {},
   "outputs": [],
   "source": [
    "# class Encoder(nn.Module):\n",
    "#     def __init__(self, in_channels, hidden_channels, num_layers, heads, dropout=0.1):\n",
    "#         super(Encoder, self).__init__()\n",
    "#         self.num_layers = num_layers\n",
    "#         self.convs = nn.ModuleList()\n",
    "        \n",
    "#         # 添加多层 GATConv\n",
    "#         self.convs.append(GATConv(in_channels, hidden_channels, heads=heads))\n",
    "#         for _ in range(num_layers - 1):\n",
    "#             self.convs.append(GATConv(hidden_channels * heads, hidden_channels, heads=heads))\n",
    "        \n",
    "#         # 根据隐藏特征的维度设置 PReLU 参数数量\n",
    "#         self.prelu = nn.PReLU(num_parameters=hidden_channels)\n",
    "\n",
    "#         # 添加 Dropout 层\n",
    "#         self.dropout = nn.Dropout(dropout)\n",
    "\n",
    "#     def forward(self, x, edge_index):\n",
    "#         # 定义一个变量用于保存输入特征，以便进行跳跃连接\n",
    "#         residual = x\n",
    "        \n",
    "#         for conv in self.convs:\n",
    "#             # 对输入特征进行图注意力操作\n",
    "#             x = conv(x, edge_index)\n",
    "            \n",
    "#             # 将图注意力操作的结果与原始输入特征相加\n",
    "#             x = x + residual\n",
    "\n",
    "#             # 应用 Dropout 正则化\n",
    "#             x = self.dropout(x)\n",
    "            \n",
    "#             # 应用 PReLU 激活函数\n",
    "#             x = self.prelu(x)\n",
    "            \n",
    "#             # 更新跳跃连接的输入特征为当前层的输出\n",
    "#             residual = x\n",
    "        \n",
    "#         return x"
   ]
  },
  {
   "cell_type": "markdown",
   "id": "b4516ab0-21ba-41d5-9518-a07eb4d79a48",
   "metadata": {},
   "source": [
    "### Prepare data"
   ]
  },
  {
   "cell_type": "code",
   "execution_count": 2,
   "id": "92fa8f86-3ba2-45d0-882a-304d7891352d",
   "metadata": {},
   "outputs": [],
   "source": [
    "import pandas as pd\n",
    "import pickle\n",
    "import numpy as np"
   ]
  },
  {
   "cell_type": "code",
   "execution_count": 3,
   "id": "514ca9a6-29cd-468c-9f2f-7c0aff863f5c",
   "metadata": {},
   "outputs": [],
   "source": [
    "# 读取原始数据（假设每个诊断记录为一行）\n",
    "clinical_df = pd.read_csv(\"/home/llma/wzy/comorbidity/Data/ICD10_long.csv\")"
   ]
  },
  {
   "cell_type": "code",
   "execution_count": 4,
   "id": "0a2967d5-f242-4b88-a7a1-4d259fcea0f5",
   "metadata": {},
   "outputs": [
    {
     "data": {
      "text/plain": [
       "(7015554, 5)"
      ]
     },
     "execution_count": 4,
     "metadata": {},
     "output_type": "execute_result"
    }
   ],
   "source": [
    "clinical_df.shape"
   ]
  },
  {
   "cell_type": "code",
   "execution_count": 5,
   "id": "8bff5a80-2af8-46c3-8bc9-5b3b9f841734",
   "metadata": {},
   "outputs": [
    {
     "data": {
      "text/html": [
       "<div>\n",
       "<style scoped>\n",
       "    .dataframe tbody tr th:only-of-type {\n",
       "        vertical-align: middle;\n",
       "    }\n",
       "\n",
       "    .dataframe tbody tr th {\n",
       "        vertical-align: top;\n",
       "    }\n",
       "\n",
       "    .dataframe thead th {\n",
       "        text-align: right;\n",
       "    }\n",
       "</style>\n",
       "<table border=\"1\" class=\"dataframe\">\n",
       "  <thead>\n",
       "    <tr style=\"text-align: right;\">\n",
       "      <th></th>\n",
       "      <th>eid</th>\n",
       "      <th>ICD10_codes</th>\n",
       "      <th>Date</th>\n",
       "      <th>p40000_i0</th>\n",
       "      <th>p40023</th>\n",
       "    </tr>\n",
       "  </thead>\n",
       "  <tbody>\n",
       "    <tr>\n",
       "      <th>0</th>\n",
       "      <td>1000122</td>\n",
       "      <td>J383</td>\n",
       "      <td>1999-07-06</td>\n",
       "      <td>2014-12-22</td>\n",
       "      <td>1.0</td>\n",
       "    </tr>\n",
       "    <tr>\n",
       "      <th>1</th>\n",
       "      <td>1000122</td>\n",
       "      <td>M255</td>\n",
       "      <td>2001-07-31</td>\n",
       "      <td>2014-12-22</td>\n",
       "      <td>1.0</td>\n",
       "    </tr>\n",
       "  </tbody>\n",
       "</table>\n",
       "</div>"
      ],
      "text/plain": [
       "       eid ICD10_codes        Date   p40000_i0  p40023\n",
       "0  1000122        J383  1999-07-06  2014-12-22     1.0\n",
       "1  1000122        M255  2001-07-31  2014-12-22     1.0"
      ]
     },
     "execution_count": 5,
     "metadata": {},
     "output_type": "execute_result"
    }
   ],
   "source": [
    "clinical_df.head(2)"
   ]
  },
  {
   "cell_type": "code",
   "execution_count": 6,
   "id": "17c1a149-8c1f-497a-bbbe-bfb9d8c93c4e",
   "metadata": {},
   "outputs": [
    {
     "data": {
      "text/plain": [
       "12315"
      ]
     },
     "execution_count": 6,
     "metadata": {},
     "output_type": "execute_result"
    }
   ],
   "source": [
    "len(clinical_df['ICD10_codes'].unique())"
   ]
  },
  {
   "cell_type": "code",
   "execution_count": 7,
   "id": "98848fc7-516f-43f2-b7ce-b72ef9bd5d78",
   "metadata": {},
   "outputs": [],
   "source": [
    "Olink_df = pd.read_csv(\"/home/llma/wzy/comorbidity/Data/Olink.csv\")"
   ]
  },
  {
   "cell_type": "code",
   "execution_count": 8,
   "id": "c89910d4-49f9-43ff-9b82-b1b51e60ddda",
   "metadata": {},
   "outputs": [
    {
     "data": {
      "text/html": [
       "<div>\n",
       "<style scoped>\n",
       "    .dataframe tbody tr th:only-of-type {\n",
       "        vertical-align: middle;\n",
       "    }\n",
       "\n",
       "    .dataframe tbody tr th {\n",
       "        vertical-align: top;\n",
       "    }\n",
       "\n",
       "    .dataframe thead th {\n",
       "        text-align: right;\n",
       "    }\n",
       "</style>\n",
       "<table border=\"1\" class=\"dataframe\">\n",
       "  <thead>\n",
       "    <tr style=\"text-align: right;\">\n",
       "      <th></th>\n",
       "      <th>olink_instance_0.eid</th>\n",
       "      <th>olink_instance_0.a1bg</th>\n",
       "      <th>olink_instance_0.aamdc</th>\n",
       "      <th>olink_instance_0.aarsd1</th>\n",
       "      <th>olink_instance_0.abca2</th>\n",
       "      <th>olink_instance_0.abhd14b</th>\n",
       "      <th>olink_instance_0.abl1</th>\n",
       "      <th>olink_instance_0.abo</th>\n",
       "      <th>olink_instance_0.abraxas2</th>\n",
       "      <th>olink_instance_0.acaa1</th>\n",
       "      <th>...</th>\n",
       "      <th>olink_instance_0.zfyve19</th>\n",
       "      <th>olink_instance_0.zhx2</th>\n",
       "      <th>olink_instance_0.znf174</th>\n",
       "      <th>olink_instance_0.znf75d</th>\n",
       "      <th>olink_instance_0.znf830</th>\n",
       "      <th>olink_instance_0.znrd2</th>\n",
       "      <th>olink_instance_0.znrf4</th>\n",
       "      <th>olink_instance_0.zp3</th>\n",
       "      <th>olink_instance_0.zp4</th>\n",
       "      <th>olink_instance_0.zpr1</th>\n",
       "    </tr>\n",
       "  </thead>\n",
       "  <tbody>\n",
       "    <tr>\n",
       "      <th>0</th>\n",
       "      <td>1002133</td>\n",
       "      <td>0.0957</td>\n",
       "      <td>0.59795</td>\n",
       "      <td>1.33215</td>\n",
       "      <td>-0.6441</td>\n",
       "      <td>0.76325</td>\n",
       "      <td>0.3784</td>\n",
       "      <td>0.5446</td>\n",
       "      <td>0.4682</td>\n",
       "      <td>0.21920</td>\n",
       "      <td>...</td>\n",
       "      <td>-0.2728</td>\n",
       "      <td>0.1954</td>\n",
       "      <td>-0.2586</td>\n",
       "      <td>-0.0127</td>\n",
       "      <td>0.0235</td>\n",
       "      <td>-0.26245</td>\n",
       "      <td>-0.1236</td>\n",
       "      <td>-6.0773</td>\n",
       "      <td>-0.0136</td>\n",
       "      <td>0.4131</td>\n",
       "    </tr>\n",
       "    <tr>\n",
       "      <th>1</th>\n",
       "      <td>1002201</td>\n",
       "      <td>-0.0473</td>\n",
       "      <td>0.39585</td>\n",
       "      <td>0.26585</td>\n",
       "      <td>0.0604</td>\n",
       "      <td>1.07765</td>\n",
       "      <td>1.3977</td>\n",
       "      <td>0.5830</td>\n",
       "      <td>1.0740</td>\n",
       "      <td>0.75625</td>\n",
       "      <td>...</td>\n",
       "      <td>0.9153</td>\n",
       "      <td>-0.0274</td>\n",
       "      <td>-0.3048</td>\n",
       "      <td>-0.8814</td>\n",
       "      <td>-0.5342</td>\n",
       "      <td>1.12255</td>\n",
       "      <td>-0.5537</td>\n",
       "      <td>-5.1443</td>\n",
       "      <td>-0.1713</td>\n",
       "      <td>-0.5605</td>\n",
       "    </tr>\n",
       "  </tbody>\n",
       "</table>\n",
       "<p>2 rows × 2924 columns</p>\n",
       "</div>"
      ],
      "text/plain": [
       "   olink_instance_0.eid  olink_instance_0.a1bg  olink_instance_0.aamdc  \\\n",
       "0               1002133                 0.0957                 0.59795   \n",
       "1               1002201                -0.0473                 0.39585   \n",
       "\n",
       "   olink_instance_0.aarsd1  olink_instance_0.abca2  olink_instance_0.abhd14b  \\\n",
       "0                  1.33215                 -0.6441                   0.76325   \n",
       "1                  0.26585                  0.0604                   1.07765   \n",
       "\n",
       "   olink_instance_0.abl1  olink_instance_0.abo  olink_instance_0.abraxas2  \\\n",
       "0                 0.3784                0.5446                     0.4682   \n",
       "1                 1.3977                0.5830                     1.0740   \n",
       "\n",
       "   olink_instance_0.acaa1  ...  olink_instance_0.zfyve19  \\\n",
       "0                 0.21920  ...                   -0.2728   \n",
       "1                 0.75625  ...                    0.9153   \n",
       "\n",
       "   olink_instance_0.zhx2  olink_instance_0.znf174  olink_instance_0.znf75d  \\\n",
       "0                 0.1954                  -0.2586                  -0.0127   \n",
       "1                -0.0274                  -0.3048                  -0.8814   \n",
       "\n",
       "   olink_instance_0.znf830  olink_instance_0.znrd2  olink_instance_0.znrf4  \\\n",
       "0                   0.0235                -0.26245                 -0.1236   \n",
       "1                  -0.5342                 1.12255                 -0.5537   \n",
       "\n",
       "   olink_instance_0.zp3  olink_instance_0.zp4  olink_instance_0.zpr1  \n",
       "0               -6.0773               -0.0136                 0.4131  \n",
       "1               -5.1443               -0.1713                -0.5605  \n",
       "\n",
       "[2 rows x 2924 columns]"
      ]
     },
     "execution_count": 8,
     "metadata": {},
     "output_type": "execute_result"
    }
   ],
   "source": [
    "Olink_df.head(2)"
   ]
  },
  {
   "cell_type": "code",
   "execution_count": 9,
   "id": "bbb0fc7f-c48d-485e-8f3f-89ccc9581755",
   "metadata": {},
   "outputs": [],
   "source": [
    "Olink_df = Olink_df.rename(columns={'olink_instance_0.eid': 'eid'})"
   ]
  },
  {
   "cell_type": "code",
   "execution_count": 10,
   "id": "d5c10151-694f-4d8c-a931-2816d5679e80",
   "metadata": {},
   "outputs": [
    {
     "data": {
      "text/html": [
       "<div>\n",
       "<style scoped>\n",
       "    .dataframe tbody tr th:only-of-type {\n",
       "        vertical-align: middle;\n",
       "    }\n",
       "\n",
       "    .dataframe tbody tr th {\n",
       "        vertical-align: top;\n",
       "    }\n",
       "\n",
       "    .dataframe thead th {\n",
       "        text-align: right;\n",
       "    }\n",
       "</style>\n",
       "<table border=\"1\" class=\"dataframe\">\n",
       "  <thead>\n",
       "    <tr style=\"text-align: right;\">\n",
       "      <th></th>\n",
       "      <th>eid</th>\n",
       "      <th>olink_instance_0.a1bg</th>\n",
       "      <th>olink_instance_0.aamdc</th>\n",
       "      <th>olink_instance_0.aarsd1</th>\n",
       "      <th>olink_instance_0.abca2</th>\n",
       "      <th>olink_instance_0.abhd14b</th>\n",
       "      <th>olink_instance_0.abl1</th>\n",
       "      <th>olink_instance_0.abo</th>\n",
       "      <th>olink_instance_0.abraxas2</th>\n",
       "      <th>olink_instance_0.acaa1</th>\n",
       "      <th>...</th>\n",
       "      <th>olink_instance_0.zfyve19</th>\n",
       "      <th>olink_instance_0.zhx2</th>\n",
       "      <th>olink_instance_0.znf174</th>\n",
       "      <th>olink_instance_0.znf75d</th>\n",
       "      <th>olink_instance_0.znf830</th>\n",
       "      <th>olink_instance_0.znrd2</th>\n",
       "      <th>olink_instance_0.znrf4</th>\n",
       "      <th>olink_instance_0.zp3</th>\n",
       "      <th>olink_instance_0.zp4</th>\n",
       "      <th>olink_instance_0.zpr1</th>\n",
       "    </tr>\n",
       "  </thead>\n",
       "  <tbody>\n",
       "    <tr>\n",
       "      <th>0</th>\n",
       "      <td>1002133</td>\n",
       "      <td>0.0957</td>\n",
       "      <td>0.59795</td>\n",
       "      <td>1.33215</td>\n",
       "      <td>-0.6441</td>\n",
       "      <td>0.76325</td>\n",
       "      <td>0.3784</td>\n",
       "      <td>0.5446</td>\n",
       "      <td>0.4682</td>\n",
       "      <td>0.21920</td>\n",
       "      <td>...</td>\n",
       "      <td>-0.2728</td>\n",
       "      <td>0.1954</td>\n",
       "      <td>-0.2586</td>\n",
       "      <td>-0.0127</td>\n",
       "      <td>0.0235</td>\n",
       "      <td>-0.26245</td>\n",
       "      <td>-0.1236</td>\n",
       "      <td>-6.0773</td>\n",
       "      <td>-0.0136</td>\n",
       "      <td>0.4131</td>\n",
       "    </tr>\n",
       "    <tr>\n",
       "      <th>1</th>\n",
       "      <td>1002201</td>\n",
       "      <td>-0.0473</td>\n",
       "      <td>0.39585</td>\n",
       "      <td>0.26585</td>\n",
       "      <td>0.0604</td>\n",
       "      <td>1.07765</td>\n",
       "      <td>1.3977</td>\n",
       "      <td>0.5830</td>\n",
       "      <td>1.0740</td>\n",
       "      <td>0.75625</td>\n",
       "      <td>...</td>\n",
       "      <td>0.9153</td>\n",
       "      <td>-0.0274</td>\n",
       "      <td>-0.3048</td>\n",
       "      <td>-0.8814</td>\n",
       "      <td>-0.5342</td>\n",
       "      <td>1.12255</td>\n",
       "      <td>-0.5537</td>\n",
       "      <td>-5.1443</td>\n",
       "      <td>-0.1713</td>\n",
       "      <td>-0.5605</td>\n",
       "    </tr>\n",
       "  </tbody>\n",
       "</table>\n",
       "<p>2 rows × 2924 columns</p>\n",
       "</div>"
      ],
      "text/plain": [
       "       eid  olink_instance_0.a1bg  olink_instance_0.aamdc  \\\n",
       "0  1002133                 0.0957                 0.59795   \n",
       "1  1002201                -0.0473                 0.39585   \n",
       "\n",
       "   olink_instance_0.aarsd1  olink_instance_0.abca2  olink_instance_0.abhd14b  \\\n",
       "0                  1.33215                 -0.6441                   0.76325   \n",
       "1                  0.26585                  0.0604                   1.07765   \n",
       "\n",
       "   olink_instance_0.abl1  olink_instance_0.abo  olink_instance_0.abraxas2  \\\n",
       "0                 0.3784                0.5446                     0.4682   \n",
       "1                 1.3977                0.5830                     1.0740   \n",
       "\n",
       "   olink_instance_0.acaa1  ...  olink_instance_0.zfyve19  \\\n",
       "0                 0.21920  ...                   -0.2728   \n",
       "1                 0.75625  ...                    0.9153   \n",
       "\n",
       "   olink_instance_0.zhx2  olink_instance_0.znf174  olink_instance_0.znf75d  \\\n",
       "0                 0.1954                  -0.2586                  -0.0127   \n",
       "1                -0.0274                  -0.3048                  -0.8814   \n",
       "\n",
       "   olink_instance_0.znf830  olink_instance_0.znrd2  olink_instance_0.znrf4  \\\n",
       "0                   0.0235                -0.26245                 -0.1236   \n",
       "1                  -0.5342                 1.12255                 -0.5537   \n",
       "\n",
       "   olink_instance_0.zp3  olink_instance_0.zp4  olink_instance_0.zpr1  \n",
       "0               -6.0773               -0.0136                 0.4131  \n",
       "1               -5.1443               -0.1713                -0.5605  \n",
       "\n",
       "[2 rows x 2924 columns]"
      ]
     },
     "execution_count": 10,
     "metadata": {},
     "output_type": "execute_result"
    }
   ],
   "source": [
    "Olink_df.head(2)"
   ]
  },
  {
   "cell_type": "code",
   "execution_count": 11,
   "id": "ff3d14ad-6ecf-42a2-b77f-aa71514ec5ba",
   "metadata": {},
   "outputs": [
    {
     "data": {
      "text/plain": [
       "(53013, 2924)"
      ]
     },
     "execution_count": 11,
     "metadata": {},
     "output_type": "execute_result"
    }
   ],
   "source": [
    "Olink_df.shape"
   ]
  },
  {
   "cell_type": "code",
   "execution_count": 12,
   "id": "3e160da0-7288-425a-b2fd-fc7c146c4059",
   "metadata": {},
   "outputs": [
    {
     "name": "stdout",
     "output_type": "stream",
     "text": [
      "               eid           protein_name  protein_expression\n",
      "0          1002133  olink_instance_0.a1bg              0.0957\n",
      "1          1002201  olink_instance_0.a1bg             -0.0473\n",
      "2          1002534  olink_instance_0.a1bg             -0.2239\n",
      "3          1003548  olink_instance_0.a1bg              0.0255\n",
      "4          1003599  olink_instance_0.a1bg              0.2003\n",
      "...            ...                    ...                 ...\n",
      "154956994  6021692  olink_instance_0.zpr1              1.2116\n",
      "154956995  6021914  olink_instance_0.zpr1             -0.0460\n",
      "154956996  6022081  olink_instance_0.zpr1             -0.6499\n",
      "154956997  6022213  olink_instance_0.zpr1             -0.1758\n",
      "154956998  6022247  olink_instance_0.zpr1              1.4512\n",
      "\n",
      "[154956999 rows x 3 columns]\n"
     ]
    }
   ],
   "source": [
    "# 将数据框从宽格式转换为长格式\n",
    "Olink_long_df = pd.melt(Olink_df, id_vars=['eid'], var_name='protein_name', value_name='protein_expression')\n",
    "\n",
    "print(Olink_long_df)  "
   ]
  },
  {
   "cell_type": "code",
   "execution_count": 13,
   "id": "b37da54c-5dae-4537-bdf0-9f82e421d765",
   "metadata": {},
   "outputs": [
    {
     "data": {
      "text/plain": [
       "154956999"
      ]
     },
     "execution_count": 13,
     "metadata": {},
     "output_type": "execute_result"
    }
   ],
   "source": [
    "53013 * 2923"
   ]
  },
  {
   "cell_type": "code",
   "execution_count": 14,
   "id": "b9fd5692-79bd-412f-843b-975ab4ac69f8",
   "metadata": {},
   "outputs": [],
   "source": [
    "Olink_long_df = Olink_long_df.dropna(subset=['protein_expression'])"
   ]
  },
  {
   "cell_type": "code",
   "execution_count": 15,
   "id": "b96c4f4f-7ad9-4700-a146-df5dc8d9ec31",
   "metadata": {},
   "outputs": [
    {
     "data": {
      "text/plain": [
       "(138994642, 3)"
      ]
     },
     "execution_count": 15,
     "metadata": {},
     "output_type": "execute_result"
    }
   ],
   "source": [
    "Olink_long_df.shape"
   ]
  },
  {
   "cell_type": "code",
   "execution_count": 16,
   "id": "0e8a505f-8417-4ca4-8bbe-465dd58ab6bc",
   "metadata": {},
   "outputs": [],
   "source": [
    "NMR_df = pd.read_csv(\"/home/llma/wzy/comorbidity/Data/NMR.csv\")"
   ]
  },
  {
   "cell_type": "code",
   "execution_count": 17,
   "id": "3947d2e8-e85f-462b-82fd-c81f0598bbfc",
   "metadata": {},
   "outputs": [
    {
     "data": {
      "text/html": [
       "<div>\n",
       "<style scoped>\n",
       "    .dataframe tbody tr th:only-of-type {\n",
       "        vertical-align: middle;\n",
       "    }\n",
       "\n",
       "    .dataframe tbody tr th {\n",
       "        vertical-align: top;\n",
       "    }\n",
       "\n",
       "    .dataframe thead th {\n",
       "        text-align: right;\n",
       "    }\n",
       "</style>\n",
       "<table border=\"1\" class=\"dataframe\">\n",
       "  <thead>\n",
       "    <tr style=\"text-align: right;\">\n",
       "      <th></th>\n",
       "      <th>participant.eid</th>\n",
       "      <th>participant.p20280_i0</th>\n",
       "      <th>participant.p20281_i0</th>\n",
       "      <th>participant.p23400_i0</th>\n",
       "      <th>participant.p23401_i0</th>\n",
       "      <th>participant.p23402_i0</th>\n",
       "      <th>participant.p23403_i0</th>\n",
       "      <th>participant.p23404_i0</th>\n",
       "      <th>participant.p23405_i0</th>\n",
       "      <th>participant.p23406_i0</th>\n",
       "      <th>...</th>\n",
       "      <th>participant.p23639_i0</th>\n",
       "      <th>participant.p23640_i0</th>\n",
       "      <th>participant.p23641_i0</th>\n",
       "      <th>participant.p23642_i0</th>\n",
       "      <th>participant.p23643_i0</th>\n",
       "      <th>participant.p23644_i0</th>\n",
       "      <th>participant.p23645_i0</th>\n",
       "      <th>participant.p23646_i0</th>\n",
       "      <th>participant.p23647_i0</th>\n",
       "      <th>participant.p23648_i0</th>\n",
       "    </tr>\n",
       "  </thead>\n",
       "  <tbody>\n",
       "    <tr>\n",
       "      <th>0</th>\n",
       "      <td>1000053</td>\n",
       "      <td>2.9721</td>\n",
       "      <td>0.282259</td>\n",
       "      <td>3.8459</td>\n",
       "      <td>2.9413</td>\n",
       "      <td>1.5075</td>\n",
       "      <td>0.83349</td>\n",
       "      <td>1.9998</td>\n",
       "      <td>1.4338</td>\n",
       "      <td>0.90459</td>\n",
       "      <td>...</td>\n",
       "      <td>49.941</td>\n",
       "      <td>40.646</td>\n",
       "      <td>33.031</td>\n",
       "      <td>7.6145</td>\n",
       "      <td>9.413</td>\n",
       "      <td>58.373</td>\n",
       "      <td>34.427</td>\n",
       "      <td>24.479</td>\n",
       "      <td>9.9478</td>\n",
       "      <td>7.2007</td>\n",
       "    </tr>\n",
       "    <tr>\n",
       "      <th>1</th>\n",
       "      <td>1000122</td>\n",
       "      <td>NaN</td>\n",
       "      <td>NaN</td>\n",
       "      <td>NaN</td>\n",
       "      <td>NaN</td>\n",
       "      <td>NaN</td>\n",
       "      <td>NaN</td>\n",
       "      <td>NaN</td>\n",
       "      <td>NaN</td>\n",
       "      <td>NaN</td>\n",
       "      <td>...</td>\n",
       "      <td>NaN</td>\n",
       "      <td>NaN</td>\n",
       "      <td>NaN</td>\n",
       "      <td>NaN</td>\n",
       "      <td>NaN</td>\n",
       "      <td>NaN</td>\n",
       "      <td>NaN</td>\n",
       "      <td>NaN</td>\n",
       "      <td>NaN</td>\n",
       "      <td>NaN</td>\n",
       "    </tr>\n",
       "  </tbody>\n",
       "</table>\n",
       "<p>2 rows × 252 columns</p>\n",
       "</div>"
      ],
      "text/plain": [
       "   participant.eid  participant.p20280_i0  participant.p20281_i0  \\\n",
       "0          1000053                 2.9721               0.282259   \n",
       "1          1000122                    NaN                    NaN   \n",
       "\n",
       "   participant.p23400_i0  participant.p23401_i0  participant.p23402_i0  \\\n",
       "0                 3.8459                 2.9413                 1.5075   \n",
       "1                    NaN                    NaN                    NaN   \n",
       "\n",
       "   participant.p23403_i0  participant.p23404_i0  participant.p23405_i0  \\\n",
       "0                0.83349                 1.9998                 1.4338   \n",
       "1                    NaN                    NaN                    NaN   \n",
       "\n",
       "   participant.p23406_i0  ...  participant.p23639_i0  participant.p23640_i0  \\\n",
       "0                0.90459  ...                 49.941                 40.646   \n",
       "1                    NaN  ...                    NaN                    NaN   \n",
       "\n",
       "   participant.p23641_i0  participant.p23642_i0  participant.p23643_i0  \\\n",
       "0                 33.031                 7.6145                  9.413   \n",
       "1                    NaN                    NaN                    NaN   \n",
       "\n",
       "   participant.p23644_i0  participant.p23645_i0  participant.p23646_i0  \\\n",
       "0                 58.373                 34.427                 24.479   \n",
       "1                    NaN                    NaN                    NaN   \n",
       "\n",
       "   participant.p23647_i0  participant.p23648_i0  \n",
       "0                 9.9478                 7.2007  \n",
       "1                    NaN                    NaN  \n",
       "\n",
       "[2 rows x 252 columns]"
      ]
     },
     "execution_count": 17,
     "metadata": {},
     "output_type": "execute_result"
    }
   ],
   "source": [
    "NMR_df.head(2)"
   ]
  },
  {
   "cell_type": "code",
   "execution_count": 18,
   "id": "f40224ef-b761-4f72-9c2d-999925a82d6d",
   "metadata": {},
   "outputs": [],
   "source": [
    "NMR_df = NMR_df.rename(columns={'participant.eid': 'eid'})"
   ]
  },
  {
   "cell_type": "code",
   "execution_count": 19,
   "id": "bad16193-1b0a-42e5-9833-05fd981a50d8",
   "metadata": {},
   "outputs": [
    {
     "data": {
      "text/html": [
       "<div>\n",
       "<style scoped>\n",
       "    .dataframe tbody tr th:only-of-type {\n",
       "        vertical-align: middle;\n",
       "    }\n",
       "\n",
       "    .dataframe tbody tr th {\n",
       "        vertical-align: top;\n",
       "    }\n",
       "\n",
       "    .dataframe thead th {\n",
       "        text-align: right;\n",
       "    }\n",
       "</style>\n",
       "<table border=\"1\" class=\"dataframe\">\n",
       "  <thead>\n",
       "    <tr style=\"text-align: right;\">\n",
       "      <th></th>\n",
       "      <th>eid</th>\n",
       "      <th>participant.p20280_i0</th>\n",
       "      <th>participant.p20281_i0</th>\n",
       "      <th>participant.p23400_i0</th>\n",
       "      <th>participant.p23401_i0</th>\n",
       "      <th>participant.p23402_i0</th>\n",
       "      <th>participant.p23403_i0</th>\n",
       "      <th>participant.p23404_i0</th>\n",
       "      <th>participant.p23405_i0</th>\n",
       "      <th>participant.p23406_i0</th>\n",
       "      <th>...</th>\n",
       "      <th>participant.p23639_i0</th>\n",
       "      <th>participant.p23640_i0</th>\n",
       "      <th>participant.p23641_i0</th>\n",
       "      <th>participant.p23642_i0</th>\n",
       "      <th>participant.p23643_i0</th>\n",
       "      <th>participant.p23644_i0</th>\n",
       "      <th>participant.p23645_i0</th>\n",
       "      <th>participant.p23646_i0</th>\n",
       "      <th>participant.p23647_i0</th>\n",
       "      <th>participant.p23648_i0</th>\n",
       "    </tr>\n",
       "  </thead>\n",
       "  <tbody>\n",
       "    <tr>\n",
       "      <th>0</th>\n",
       "      <td>1000053</td>\n",
       "      <td>2.9721</td>\n",
       "      <td>0.282259</td>\n",
       "      <td>3.8459</td>\n",
       "      <td>2.9413</td>\n",
       "      <td>1.5075</td>\n",
       "      <td>0.83349</td>\n",
       "      <td>1.9998</td>\n",
       "      <td>1.4338</td>\n",
       "      <td>0.90459</td>\n",
       "      <td>...</td>\n",
       "      <td>49.941</td>\n",
       "      <td>40.646</td>\n",
       "      <td>33.031</td>\n",
       "      <td>7.6145</td>\n",
       "      <td>9.413</td>\n",
       "      <td>58.373</td>\n",
       "      <td>34.427</td>\n",
       "      <td>24.479</td>\n",
       "      <td>9.9478</td>\n",
       "      <td>7.2007</td>\n",
       "    </tr>\n",
       "    <tr>\n",
       "      <th>1</th>\n",
       "      <td>1000122</td>\n",
       "      <td>NaN</td>\n",
       "      <td>NaN</td>\n",
       "      <td>NaN</td>\n",
       "      <td>NaN</td>\n",
       "      <td>NaN</td>\n",
       "      <td>NaN</td>\n",
       "      <td>NaN</td>\n",
       "      <td>NaN</td>\n",
       "      <td>NaN</td>\n",
       "      <td>...</td>\n",
       "      <td>NaN</td>\n",
       "      <td>NaN</td>\n",
       "      <td>NaN</td>\n",
       "      <td>NaN</td>\n",
       "      <td>NaN</td>\n",
       "      <td>NaN</td>\n",
       "      <td>NaN</td>\n",
       "      <td>NaN</td>\n",
       "      <td>NaN</td>\n",
       "      <td>NaN</td>\n",
       "    </tr>\n",
       "  </tbody>\n",
       "</table>\n",
       "<p>2 rows × 252 columns</p>\n",
       "</div>"
      ],
      "text/plain": [
       "       eid  participant.p20280_i0  participant.p20281_i0  \\\n",
       "0  1000053                 2.9721               0.282259   \n",
       "1  1000122                    NaN                    NaN   \n",
       "\n",
       "   participant.p23400_i0  participant.p23401_i0  participant.p23402_i0  \\\n",
       "0                 3.8459                 2.9413                 1.5075   \n",
       "1                    NaN                    NaN                    NaN   \n",
       "\n",
       "   participant.p23403_i0  participant.p23404_i0  participant.p23405_i0  \\\n",
       "0                0.83349                 1.9998                 1.4338   \n",
       "1                    NaN                    NaN                    NaN   \n",
       "\n",
       "   participant.p23406_i0  ...  participant.p23639_i0  participant.p23640_i0  \\\n",
       "0                0.90459  ...                 49.941                 40.646   \n",
       "1                    NaN  ...                    NaN                    NaN   \n",
       "\n",
       "   participant.p23641_i0  participant.p23642_i0  participant.p23643_i0  \\\n",
       "0                 33.031                 7.6145                  9.413   \n",
       "1                    NaN                    NaN                    NaN   \n",
       "\n",
       "   participant.p23644_i0  participant.p23645_i0  participant.p23646_i0  \\\n",
       "0                 58.373                 34.427                 24.479   \n",
       "1                    NaN                    NaN                    NaN   \n",
       "\n",
       "   participant.p23647_i0  participant.p23648_i0  \n",
       "0                 9.9478                 7.2007  \n",
       "1                    NaN                    NaN  \n",
       "\n",
       "[2 rows x 252 columns]"
      ]
     },
     "execution_count": 19,
     "metadata": {},
     "output_type": "execute_result"
    }
   ],
   "source": [
    "NMR_df.head(2)"
   ]
  },
  {
   "cell_type": "code",
   "execution_count": 20,
   "id": "289723d3-490b-408c-8ca6-521278a2d353",
   "metadata": {},
   "outputs": [
    {
     "name": "stdout",
     "output_type": "stream",
     "text": [
      "               eid               NMR_name  NMR_expression\n",
      "0          1000053  participant.p20280_i0         2.97210\n",
      "1          1000122  participant.p20280_i0             NaN\n",
      "2          1000148  participant.p20280_i0         5.79763\n",
      "3          1000150  participant.p20280_i0         5.32703\n",
      "4          1000163  participant.p20280_i0             NaN\n",
      "...            ...                    ...             ...\n",
      "126034876  6022213  participant.p23648_i0             NaN\n",
      "126034877  6022230  participant.p23648_i0             NaN\n",
      "126034878  6022247  participant.p23648_i0             NaN\n",
      "126034879  6022252  participant.p23648_i0         5.26830\n",
      "126034880  6022444  participant.p23648_i0             NaN\n",
      "\n",
      "[126034881 rows x 3 columns]\n"
     ]
    }
   ],
   "source": [
    "# 将数据框从宽格式转换为长格式\n",
    "NMR_long_df = pd.melt(NMR_df, id_vars=['eid'], var_name='NMR_name', value_name='NMR_expression')\n",
    "\n",
    "print(NMR_long_df)  "
   ]
  },
  {
   "cell_type": "code",
   "execution_count": 21,
   "id": "6702d38d-e18a-440d-83f6-25e8cf6ae021",
   "metadata": {},
   "outputs": [
    {
     "data": {
      "text/plain": [
       "(502131, 252)"
      ]
     },
     "execution_count": 21,
     "metadata": {},
     "output_type": "execute_result"
    }
   ],
   "source": [
    "NMR_df.shape"
   ]
  },
  {
   "cell_type": "code",
   "execution_count": 22,
   "id": "a0afc86a-9dd2-4bd2-af40-972051a769ed",
   "metadata": {},
   "outputs": [
    {
     "data": {
      "text/plain": [
       "126034881"
      ]
     },
     "execution_count": 22,
     "metadata": {},
     "output_type": "execute_result"
    }
   ],
   "source": [
    "502131 * 251"
   ]
  },
  {
   "cell_type": "code",
   "execution_count": 23,
   "id": "e9e18a2b-ce46-448d-a555-a0dfaaabeb7b",
   "metadata": {},
   "outputs": [
    {
     "name": "stdout",
     "output_type": "stream",
     "text": [
      "               eid               NMR_name  NMR_expression\n",
      "0          1000053  participant.p20280_i0         2.97210\n",
      "2          1000148  participant.p20280_i0         5.79763\n",
      "3          1000150  participant.p20280_i0         5.32703\n",
      "5          1000199  participant.p20280_i0         5.73236\n",
      "8          1000428  participant.p20280_i0         5.26226\n",
      "...            ...                    ...             ...\n",
      "126034871  6022081  participant.p23648_i0         5.61880\n",
      "126034872  6022102  participant.p23648_i0         5.26160\n",
      "126034874  6022141  participant.p23648_i0         4.78620\n",
      "126034875  6022197  participant.p23648_i0         3.85360\n",
      "126034879  6022252  participant.p23648_i0         5.26830\n",
      "\n",
      "[68736894 rows x 3 columns]\n"
     ]
    }
   ],
   "source": [
    "# 移除 NMR_expression 列中值为 NaN 的行\n",
    "NMR_long_df = NMR_long_df.dropna(subset=['NMR_expression'])\n",
    "\n",
    "print(NMR_long_df) "
   ]
  },
  {
   "cell_type": "code",
   "execution_count": 24,
   "id": "8f22752e-3202-4bc4-86e2-f53551dbf2b5",
   "metadata": {},
   "outputs": [],
   "source": [
    "# 筛选出 clinical_df 中 eid 也存在于 Olink_df 的 eid 列中的行\n",
    "subset_clinical_df = clinical_df[clinical_df['eid'].isin(Olink_df['eid'])]"
   ]
  },
  {
   "cell_type": "code",
   "execution_count": 25,
   "id": "623a29d6-ff3c-4093-b0d2-51d2083c8656",
   "metadata": {},
   "outputs": [
    {
     "data": {
      "text/plain": [
       "(805376, 5)"
      ]
     },
     "execution_count": 25,
     "metadata": {},
     "output_type": "execute_result"
    }
   ],
   "source": [
    "subset_clinical_df.shape"
   ]
  },
  {
   "cell_type": "code",
   "execution_count": 26,
   "id": "d279ccac-9b6b-4d98-809e-f3f6a349456e",
   "metadata": {},
   "outputs": [],
   "source": [
    "# 筛选出 clinical_df 中 eid 也存在于 Olink_df 的 eid 列中的行\n",
    "subset_clinical_df = subset_clinical_df[subset_clinical_df['eid'].isin(NMR_df['eid'])]"
   ]
  },
  {
   "cell_type": "code",
   "execution_count": 27,
   "id": "e28cad5e-dbb8-4285-b120-78ea483bb3ba",
   "metadata": {},
   "outputs": [
    {
     "data": {
      "text/plain": [
       "(805376, 5)"
      ]
     },
     "execution_count": 27,
     "metadata": {},
     "output_type": "execute_result"
    }
   ],
   "source": [
    "subset_clinical_df.shape"
   ]
  },
  {
   "cell_type": "code",
   "execution_count": 28,
   "id": "78773e5d-e3e6-44f4-a64c-be476f8ce4f5",
   "metadata": {},
   "outputs": [
    {
     "data": {
      "text/html": [
       "<div>\n",
       "<style scoped>\n",
       "    .dataframe tbody tr th:only-of-type {\n",
       "        vertical-align: middle;\n",
       "    }\n",
       "\n",
       "    .dataframe tbody tr th {\n",
       "        vertical-align: top;\n",
       "    }\n",
       "\n",
       "    .dataframe thead th {\n",
       "        text-align: right;\n",
       "    }\n",
       "</style>\n",
       "<table border=\"1\" class=\"dataframe\">\n",
       "  <thead>\n",
       "    <tr style=\"text-align: right;\">\n",
       "      <th></th>\n",
       "      <th>eid</th>\n",
       "      <th>ICD10_codes</th>\n",
       "      <th>Date</th>\n",
       "      <th>p40000_i0</th>\n",
       "      <th>p40023</th>\n",
       "    </tr>\n",
       "  </thead>\n",
       "  <tbody>\n",
       "    <tr>\n",
       "      <th>743</th>\n",
       "      <td>1002133</td>\n",
       "      <td>I802</td>\n",
       "      <td>2003-04-02</td>\n",
       "      <td>NaN</td>\n",
       "      <td>NaN</td>\n",
       "    </tr>\n",
       "    <tr>\n",
       "      <th>744</th>\n",
       "      <td>1002133</td>\n",
       "      <td>M1997</td>\n",
       "      <td>2009-04-17</td>\n",
       "      <td>NaN</td>\n",
       "      <td>NaN</td>\n",
       "    </tr>\n",
       "  </tbody>\n",
       "</table>\n",
       "</div>"
      ],
      "text/plain": [
       "         eid ICD10_codes        Date p40000_i0  p40023\n",
       "743  1002133        I802  2003-04-02       NaN     NaN\n",
       "744  1002133       M1997  2009-04-17       NaN     NaN"
      ]
     },
     "execution_count": 28,
     "metadata": {},
     "output_type": "execute_result"
    }
   ],
   "source": [
    "subset_clinical_df.head(2)"
   ]
  },
  {
   "cell_type": "code",
   "execution_count": 32,
   "id": "a7feb7ff-3fba-4bea-9920-e3b96b446e9d",
   "metadata": {},
   "outputs": [
    {
     "data": {
      "text/html": [
       "<div>\n",
       "<style scoped>\n",
       "    .dataframe tbody tr th:only-of-type {\n",
       "        vertical-align: middle;\n",
       "    }\n",
       "\n",
       "    .dataframe tbody tr th {\n",
       "        vertical-align: top;\n",
       "    }\n",
       "\n",
       "    .dataframe thead th {\n",
       "        text-align: right;\n",
       "    }\n",
       "</style>\n",
       "<table border=\"1\" class=\"dataframe\">\n",
       "  <thead>\n",
       "    <tr style=\"text-align: right;\">\n",
       "      <th></th>\n",
       "      <th>eid</th>\n",
       "      <th>ICD10_codes</th>\n",
       "      <th>Date</th>\n",
       "      <th>p40000_i0</th>\n",
       "      <th>p40023</th>\n",
       "    </tr>\n",
       "  </thead>\n",
       "  <tbody>\n",
       "  </tbody>\n",
       "</table>\n",
       "</div>"
      ],
      "text/plain": [
       "Empty DataFrame\n",
       "Columns: [eid, ICD10_codes, Date, p40000_i0, p40023]\n",
       "Index: []"
      ]
     },
     "execution_count": 32,
     "metadata": {},
     "output_type": "execute_result"
    }
   ],
   "source": [
    "subset_clinical_df[subset_clinical_df['ICD10_codes'].isin(['C925', 'C926'])]"
   ]
  },
  {
   "cell_type": "code",
   "execution_count": 33,
   "id": "99f16fd8-967b-4285-b707-b43d3b7d6903",
   "metadata": {
    "collapsed": true,
    "jupyter": {
     "outputs_hidden": true
    }
   },
   "outputs": [
    {
     "data": {
      "text/html": [
       "<div>\n",
       "<style scoped>\n",
       "    .dataframe tbody tr th:only-of-type {\n",
       "        vertical-align: middle;\n",
       "    }\n",
       "\n",
       "    .dataframe tbody tr th {\n",
       "        vertical-align: top;\n",
       "    }\n",
       "\n",
       "    .dataframe thead th {\n",
       "        text-align: right;\n",
       "    }\n",
       "</style>\n",
       "<table border=\"1\" class=\"dataframe\">\n",
       "  <thead>\n",
       "    <tr style=\"text-align: right;\">\n",
       "      <th></th>\n",
       "      <th>eid</th>\n",
       "      <th>ICD10_codes</th>\n",
       "      <th>Date</th>\n",
       "      <th>p40000_i0</th>\n",
       "      <th>p40023</th>\n",
       "    </tr>\n",
       "  </thead>\n",
       "  <tbody>\n",
       "    <tr>\n",
       "      <th>244572</th>\n",
       "      <td>1885791</td>\n",
       "      <td>C925</td>\n",
       "      <td>2020-09-24</td>\n",
       "      <td>NaN</td>\n",
       "      <td>NaN</td>\n",
       "    </tr>\n",
       "    <tr>\n",
       "      <th>906343</th>\n",
       "      <td>4271193</td>\n",
       "      <td>C925</td>\n",
       "      <td>2022-09-01</td>\n",
       "      <td>2022-11-05</td>\n",
       "      <td>1.0</td>\n",
       "    </tr>\n",
       "    <tr>\n",
       "      <th>924419</th>\n",
       "      <td>4333041</td>\n",
       "      <td>C925</td>\n",
       "      <td>2018-05-01</td>\n",
       "      <td>2019-11-24</td>\n",
       "      <td>1.0</td>\n",
       "    </tr>\n",
       "    <tr>\n",
       "      <th>932795</th>\n",
       "      <td>4363997</td>\n",
       "      <td>C925</td>\n",
       "      <td>2019-03-18</td>\n",
       "      <td>2019-05-30</td>\n",
       "      <td>1.0</td>\n",
       "    </tr>\n",
       "    <tr>\n",
       "      <th>1026479</th>\n",
       "      <td>4702284</td>\n",
       "      <td>C926</td>\n",
       "      <td>2018-11-29</td>\n",
       "      <td>2019-01-30</td>\n",
       "      <td>1.0</td>\n",
       "    </tr>\n",
       "    <tr>\n",
       "      <th>1363326</th>\n",
       "      <td>5896025</td>\n",
       "      <td>C925</td>\n",
       "      <td>2019-12-28</td>\n",
       "      <td>NaN</td>\n",
       "      <td>NaN</td>\n",
       "    </tr>\n",
       "    <tr>\n",
       "      <th>1446130</th>\n",
       "      <td>1175085</td>\n",
       "      <td>C925</td>\n",
       "      <td>2021-04-03</td>\n",
       "      <td>2021-05-26</td>\n",
       "      <td>1.0</td>\n",
       "    </tr>\n",
       "    <tr>\n",
       "      <th>1462049</th>\n",
       "      <td>1234772</td>\n",
       "      <td>C925</td>\n",
       "      <td>2008-12-18</td>\n",
       "      <td>NaN</td>\n",
       "      <td>NaN</td>\n",
       "    </tr>\n",
       "    <tr>\n",
       "      <th>1625939</th>\n",
       "      <td>1805440</td>\n",
       "      <td>C925</td>\n",
       "      <td>2018-10-24</td>\n",
       "      <td>NaN</td>\n",
       "      <td>NaN</td>\n",
       "    </tr>\n",
       "    <tr>\n",
       "      <th>1684242</th>\n",
       "      <td>2011862</td>\n",
       "      <td>C925</td>\n",
       "      <td>2016-08-09</td>\n",
       "      <td>2018-12-29</td>\n",
       "      <td>1.0</td>\n",
       "    </tr>\n",
       "    <tr>\n",
       "      <th>1723076</th>\n",
       "      <td>2152641</td>\n",
       "      <td>C925</td>\n",
       "      <td>2022-05-17</td>\n",
       "      <td>NaN</td>\n",
       "      <td>NaN</td>\n",
       "    </tr>\n",
       "    <tr>\n",
       "      <th>1737666</th>\n",
       "      <td>2202427</td>\n",
       "      <td>C926</td>\n",
       "      <td>2013-11-04</td>\n",
       "      <td>2013-11-15</td>\n",
       "      <td>1.0</td>\n",
       "    </tr>\n",
       "    <tr>\n",
       "      <th>1790315</th>\n",
       "      <td>2395695</td>\n",
       "      <td>C925</td>\n",
       "      <td>2014-05-07</td>\n",
       "      <td>2015-02-23</td>\n",
       "      <td>1.0</td>\n",
       "    </tr>\n",
       "    <tr>\n",
       "      <th>1796069</th>\n",
       "      <td>2414670</td>\n",
       "      <td>C925</td>\n",
       "      <td>2021-07-30</td>\n",
       "      <td>2022-02-17</td>\n",
       "      <td>1.0</td>\n",
       "    </tr>\n",
       "    <tr>\n",
       "      <th>2049254</th>\n",
       "      <td>3328864</td>\n",
       "      <td>C925</td>\n",
       "      <td>2009-07-25</td>\n",
       "      <td>2009-08-12</td>\n",
       "      <td>1.0</td>\n",
       "    </tr>\n",
       "    <tr>\n",
       "      <th>2117651</th>\n",
       "      <td>3575847</td>\n",
       "      <td>C925</td>\n",
       "      <td>2008-02-11</td>\n",
       "      <td>2008-02-19</td>\n",
       "      <td>1.0</td>\n",
       "    </tr>\n",
       "    <tr>\n",
       "      <th>2461688</th>\n",
       "      <td>4804984</td>\n",
       "      <td>C925</td>\n",
       "      <td>2013-08-03</td>\n",
       "      <td>2015-11-12</td>\n",
       "      <td>1.0</td>\n",
       "    </tr>\n",
       "    <tr>\n",
       "      <th>2782645</th>\n",
       "      <td>5951360</td>\n",
       "      <td>C925</td>\n",
       "      <td>2012-01-31</td>\n",
       "      <td>2014-02-07</td>\n",
       "      <td>1.0</td>\n",
       "    </tr>\n",
       "    <tr>\n",
       "      <th>3034210</th>\n",
       "      <td>1821217</td>\n",
       "      <td>C926</td>\n",
       "      <td>2021-06-23</td>\n",
       "      <td>NaN</td>\n",
       "      <td>NaN</td>\n",
       "    </tr>\n",
       "    <tr>\n",
       "      <th>3520148</th>\n",
       "      <td>3551003</td>\n",
       "      <td>C925</td>\n",
       "      <td>2018-11-01</td>\n",
       "      <td>2020-01-03</td>\n",
       "      <td>1.0</td>\n",
       "    </tr>\n",
       "    <tr>\n",
       "      <th>4241157</th>\n",
       "      <td>1104330</td>\n",
       "      <td>C925</td>\n",
       "      <td>2020-03-02</td>\n",
       "      <td>NaN</td>\n",
       "      <td>NaN</td>\n",
       "    </tr>\n",
       "    <tr>\n",
       "      <th>4252307</th>\n",
       "      <td>1146621</td>\n",
       "      <td>C925</td>\n",
       "      <td>2013-10-29</td>\n",
       "      <td>2014-02-09</td>\n",
       "      <td>1.0</td>\n",
       "    </tr>\n",
       "    <tr>\n",
       "      <th>4419575</th>\n",
       "      <td>1751365</td>\n",
       "      <td>C925</td>\n",
       "      <td>2019-06-19</td>\n",
       "      <td>2021-04-06</td>\n",
       "      <td>1.0</td>\n",
       "    </tr>\n",
       "    <tr>\n",
       "      <th>4434156</th>\n",
       "      <td>1804104</td>\n",
       "      <td>C925</td>\n",
       "      <td>2019-08-05</td>\n",
       "      <td>NaN</td>\n",
       "      <td>NaN</td>\n",
       "    </tr>\n",
       "    <tr>\n",
       "      <th>4763732</th>\n",
       "      <td>2973100</td>\n",
       "      <td>C925</td>\n",
       "      <td>2011-09-13</td>\n",
       "      <td>NaN</td>\n",
       "      <td>NaN</td>\n",
       "    </tr>\n",
       "    <tr>\n",
       "      <th>4790733</th>\n",
       "      <td>3071648</td>\n",
       "      <td>C925</td>\n",
       "      <td>2013-04-08</td>\n",
       "      <td>2013-04-12</td>\n",
       "      <td>1.0</td>\n",
       "    </tr>\n",
       "    <tr>\n",
       "      <th>4960191</th>\n",
       "      <td>3691107</td>\n",
       "      <td>C926</td>\n",
       "      <td>2013-02-14</td>\n",
       "      <td>2014-10-23</td>\n",
       "      <td>1.0</td>\n",
       "    </tr>\n",
       "    <tr>\n",
       "      <th>5419726</th>\n",
       "      <td>5358562</td>\n",
       "      <td>C925</td>\n",
       "      <td>2013-11-26</td>\n",
       "      <td>NaN</td>\n",
       "      <td>NaN</td>\n",
       "    </tr>\n",
       "    <tr>\n",
       "      <th>5477125</th>\n",
       "      <td>5563504</td>\n",
       "      <td>C925</td>\n",
       "      <td>2018-01-04</td>\n",
       "      <td>2018-01-10</td>\n",
       "      <td>1.0</td>\n",
       "    </tr>\n",
       "    <tr>\n",
       "      <th>5724639</th>\n",
       "      <td>1430093</td>\n",
       "      <td>C926</td>\n",
       "      <td>2020-07-24</td>\n",
       "      <td>NaN</td>\n",
       "      <td>NaN</td>\n",
       "    </tr>\n",
       "    <tr>\n",
       "      <th>6062903</th>\n",
       "      <td>2635552</td>\n",
       "      <td>C925</td>\n",
       "      <td>2021-02-10</td>\n",
       "      <td>2021-09-24</td>\n",
       "      <td>1.0</td>\n",
       "    </tr>\n",
       "    <tr>\n",
       "      <th>6228192</th>\n",
       "      <td>3223868</td>\n",
       "      <td>C925</td>\n",
       "      <td>2019-07-08</td>\n",
       "      <td>2019-11-23</td>\n",
       "      <td>1.0</td>\n",
       "    </tr>\n",
       "    <tr>\n",
       "      <th>6668021</th>\n",
       "      <td>4795469</td>\n",
       "      <td>C925</td>\n",
       "      <td>2021-09-07</td>\n",
       "      <td>2021-11-26</td>\n",
       "      <td>1.0</td>\n",
       "    </tr>\n",
       "    <tr>\n",
       "      <th>6780303</th>\n",
       "      <td>5196624</td>\n",
       "      <td>C926</td>\n",
       "      <td>2013-11-04</td>\n",
       "      <td>NaN</td>\n",
       "      <td>NaN</td>\n",
       "    </tr>\n",
       "  </tbody>\n",
       "</table>\n",
       "</div>"
      ],
      "text/plain": [
       "             eid ICD10_codes        Date   p40000_i0  p40023\n",
       "244572   1885791        C925  2020-09-24         NaN     NaN\n",
       "906343   4271193        C925  2022-09-01  2022-11-05     1.0\n",
       "924419   4333041        C925  2018-05-01  2019-11-24     1.0\n",
       "932795   4363997        C925  2019-03-18  2019-05-30     1.0\n",
       "1026479  4702284        C926  2018-11-29  2019-01-30     1.0\n",
       "1363326  5896025        C925  2019-12-28         NaN     NaN\n",
       "1446130  1175085        C925  2021-04-03  2021-05-26     1.0\n",
       "1462049  1234772        C925  2008-12-18         NaN     NaN\n",
       "1625939  1805440        C925  2018-10-24         NaN     NaN\n",
       "1684242  2011862        C925  2016-08-09  2018-12-29     1.0\n",
       "1723076  2152641        C925  2022-05-17         NaN     NaN\n",
       "1737666  2202427        C926  2013-11-04  2013-11-15     1.0\n",
       "1790315  2395695        C925  2014-05-07  2015-02-23     1.0\n",
       "1796069  2414670        C925  2021-07-30  2022-02-17     1.0\n",
       "2049254  3328864        C925  2009-07-25  2009-08-12     1.0\n",
       "2117651  3575847        C925  2008-02-11  2008-02-19     1.0\n",
       "2461688  4804984        C925  2013-08-03  2015-11-12     1.0\n",
       "2782645  5951360        C925  2012-01-31  2014-02-07     1.0\n",
       "3034210  1821217        C926  2021-06-23         NaN     NaN\n",
       "3520148  3551003        C925  2018-11-01  2020-01-03     1.0\n",
       "4241157  1104330        C925  2020-03-02         NaN     NaN\n",
       "4252307  1146621        C925  2013-10-29  2014-02-09     1.0\n",
       "4419575  1751365        C925  2019-06-19  2021-04-06     1.0\n",
       "4434156  1804104        C925  2019-08-05         NaN     NaN\n",
       "4763732  2973100        C925  2011-09-13         NaN     NaN\n",
       "4790733  3071648        C925  2013-04-08  2013-04-12     1.0\n",
       "4960191  3691107        C926  2013-02-14  2014-10-23     1.0\n",
       "5419726  5358562        C925  2013-11-26         NaN     NaN\n",
       "5477125  5563504        C925  2018-01-04  2018-01-10     1.0\n",
       "5724639  1430093        C926  2020-07-24         NaN     NaN\n",
       "6062903  2635552        C925  2021-02-10  2021-09-24     1.0\n",
       "6228192  3223868        C925  2019-07-08  2019-11-23     1.0\n",
       "6668021  4795469        C925  2021-09-07  2021-11-26     1.0\n",
       "6780303  5196624        C926  2013-11-04         NaN     NaN"
      ]
     },
     "execution_count": 33,
     "metadata": {},
     "output_type": "execute_result"
    }
   ],
   "source": [
    "clinical_df[clinical_df['ICD10_codes'].isin(['C925', 'C926'])]"
   ]
  },
  {
   "cell_type": "code",
   "execution_count": 29,
   "id": "2e5b3fdf-9bbf-4cf6-81a4-036df22ca50e",
   "metadata": {},
   "outputs": [
    {
     "data": {
      "text/plain": [
       "47626"
      ]
     },
     "execution_count": 29,
     "metadata": {},
     "output_type": "execute_result"
    }
   ],
   "source": [
    "len(subset_clinical_df['eid'].unique())"
   ]
  },
  {
   "cell_type": "code",
   "execution_count": 30,
   "id": "d26995b4-700f-4a3f-82cf-62471c12a8f3",
   "metadata": {},
   "outputs": [
    {
     "data": {
      "text/plain": [
       "47626"
      ]
     },
     "execution_count": 30,
     "metadata": {},
     "output_type": "execute_result"
    }
   ],
   "source": [
    "Olink_df['eid'].isin(clinical_df['eid']).sum()"
   ]
  },
  {
   "cell_type": "code",
   "execution_count": 31,
   "id": "1d35cf34-6766-424c-bffc-bd24ec8b1be9",
   "metadata": {},
   "outputs": [
    {
     "data": {
      "text/plain": [
       "47626"
      ]
     },
     "execution_count": 31,
     "metadata": {},
     "output_type": "execute_result"
    }
   ],
   "source": [
    "Olink_df['eid'].isin(subset_clinical_df['eid']).sum()"
   ]
  },
  {
   "cell_type": "code",
   "execution_count": 32,
   "id": "71fbdcb2-4318-4e80-8e43-0b2304458300",
   "metadata": {
    "scrolled": true
   },
   "outputs": [],
   "source": [
    "# 保存为以制表符分隔的文本文件\n",
    "file_path = '/home/llma/wzy/comorbidity/Data/subset_ICD10_in_Olink_long.txt'\n",
    "subset_clinical_df.to_csv(file_path, sep='\\t', na_rep='nan', index=False)"
   ]
  },
  {
   "cell_type": "code",
   "execution_count": 33,
   "id": "1026d796-2345-4b9d-9007-e719318271dd",
   "metadata": {},
   "outputs": [
    {
     "data": {
      "text/html": [
       "<div>\n",
       "<style scoped>\n",
       "    .dataframe tbody tr th:only-of-type {\n",
       "        vertical-align: middle;\n",
       "    }\n",
       "\n",
       "    .dataframe tbody tr th {\n",
       "        vertical-align: top;\n",
       "    }\n",
       "\n",
       "    .dataframe thead th {\n",
       "        text-align: right;\n",
       "    }\n",
       "</style>\n",
       "<table border=\"1\" class=\"dataframe\">\n",
       "  <thead>\n",
       "    <tr style=\"text-align: right;\">\n",
       "      <th></th>\n",
       "      <th>eid</th>\n",
       "      <th>ICD10_codes</th>\n",
       "      <th>Date</th>\n",
       "      <th>p40000_i0</th>\n",
       "      <th>p40023</th>\n",
       "    </tr>\n",
       "  </thead>\n",
       "  <tbody>\n",
       "    <tr>\n",
       "      <th>743</th>\n",
       "      <td>1002133</td>\n",
       "      <td>I802</td>\n",
       "      <td>2003-04-02</td>\n",
       "      <td>NaN</td>\n",
       "      <td>NaN</td>\n",
       "    </tr>\n",
       "    <tr>\n",
       "      <th>744</th>\n",
       "      <td>1002133</td>\n",
       "      <td>M1997</td>\n",
       "      <td>2009-04-17</td>\n",
       "      <td>NaN</td>\n",
       "      <td>NaN</td>\n",
       "    </tr>\n",
       "  </tbody>\n",
       "</table>\n",
       "</div>"
      ],
      "text/plain": [
       "         eid ICD10_codes        Date p40000_i0  p40023\n",
       "743  1002133        I802  2003-04-02       NaN     NaN\n",
       "744  1002133       M1997  2009-04-17       NaN     NaN"
      ]
     },
     "execution_count": 33,
     "metadata": {},
     "output_type": "execute_result"
    }
   ],
   "source": [
    "subset_clinical_df.head(2)"
   ]
  },
  {
   "cell_type": "code",
   "execution_count": 34,
   "id": "cbee59b0-b75e-4359-8a2b-bc447d1773f3",
   "metadata": {},
   "outputs": [],
   "source": [
    "subset_clinical_df = subset_clinical_df.drop(columns=['Date', 'p40000_i0', 'p40023'])"
   ]
  },
  {
   "cell_type": "code",
   "execution_count": 35,
   "id": "d1ea5d7a-896f-404c-9dc7-1dfd3f265d80",
   "metadata": {},
   "outputs": [],
   "source": [
    "subset_clinical_df['relationship'] = 1"
   ]
  },
  {
   "cell_type": "code",
   "execution_count": 36,
   "id": "fda5121f-c3a0-4be4-a87d-c5860241c1ed",
   "metadata": {},
   "outputs": [
    {
     "data": {
      "text/html": [
       "<div>\n",
       "<style scoped>\n",
       "    .dataframe tbody tr th:only-of-type {\n",
       "        vertical-align: middle;\n",
       "    }\n",
       "\n",
       "    .dataframe tbody tr th {\n",
       "        vertical-align: top;\n",
       "    }\n",
       "\n",
       "    .dataframe thead th {\n",
       "        text-align: right;\n",
       "    }\n",
       "</style>\n",
       "<table border=\"1\" class=\"dataframe\">\n",
       "  <thead>\n",
       "    <tr style=\"text-align: right;\">\n",
       "      <th></th>\n",
       "      <th>eid</th>\n",
       "      <th>ICD10_codes</th>\n",
       "      <th>relationship</th>\n",
       "    </tr>\n",
       "  </thead>\n",
       "  <tbody>\n",
       "    <tr>\n",
       "      <th>743</th>\n",
       "      <td>1002133</td>\n",
       "      <td>I802</td>\n",
       "      <td>1</td>\n",
       "    </tr>\n",
       "    <tr>\n",
       "      <th>744</th>\n",
       "      <td>1002133</td>\n",
       "      <td>M1997</td>\n",
       "      <td>1</td>\n",
       "    </tr>\n",
       "  </tbody>\n",
       "</table>\n",
       "</div>"
      ],
      "text/plain": [
       "         eid ICD10_codes  relationship\n",
       "743  1002133        I802             1\n",
       "744  1002133       M1997             1"
      ]
     },
     "execution_count": 36,
     "metadata": {},
     "output_type": "execute_result"
    }
   ],
   "source": [
    "subset_clinical_df.head(2)"
   ]
  },
  {
   "cell_type": "code",
   "execution_count": 37,
   "id": "10b3fdb4-785b-4329-aae5-e3abfe37960f",
   "metadata": {},
   "outputs": [],
   "source": [
    "subset_Olink_long_df = Olink_long_df[Olink_long_df['eid'].isin(subset_clinical_df['eid'])]"
   ]
  },
  {
   "cell_type": "code",
   "execution_count": 38,
   "id": "2ef937d1-3a3b-4945-b2d6-95cece1ab14a",
   "metadata": {},
   "outputs": [
    {
     "data": {
      "text/html": [
       "<div>\n",
       "<style scoped>\n",
       "    .dataframe tbody tr th:only-of-type {\n",
       "        vertical-align: middle;\n",
       "    }\n",
       "\n",
       "    .dataframe tbody tr th {\n",
       "        vertical-align: top;\n",
       "    }\n",
       "\n",
       "    .dataframe thead th {\n",
       "        text-align: right;\n",
       "    }\n",
       "</style>\n",
       "<table border=\"1\" class=\"dataframe\">\n",
       "  <thead>\n",
       "    <tr style=\"text-align: right;\">\n",
       "      <th></th>\n",
       "      <th>eid</th>\n",
       "      <th>protein_name</th>\n",
       "      <th>protein_expression</th>\n",
       "    </tr>\n",
       "  </thead>\n",
       "  <tbody>\n",
       "    <tr>\n",
       "      <th>0</th>\n",
       "      <td>1002133</td>\n",
       "      <td>olink_instance_0.a1bg</td>\n",
       "      <td>0.0957</td>\n",
       "    </tr>\n",
       "    <tr>\n",
       "      <th>1</th>\n",
       "      <td>1002201</td>\n",
       "      <td>olink_instance_0.a1bg</td>\n",
       "      <td>-0.0473</td>\n",
       "    </tr>\n",
       "  </tbody>\n",
       "</table>\n",
       "</div>"
      ],
      "text/plain": [
       "       eid           protein_name  protein_expression\n",
       "0  1002133  olink_instance_0.a1bg              0.0957\n",
       "1  1002201  olink_instance_0.a1bg             -0.0473"
      ]
     },
     "execution_count": 38,
     "metadata": {},
     "output_type": "execute_result"
    }
   ],
   "source": [
    "subset_Olink_long_df.head(2)"
   ]
  },
  {
   "cell_type": "code",
   "execution_count": 39,
   "id": "2cce0aec-2c29-4ddc-9ac1-d491d6f847f4",
   "metadata": {},
   "outputs": [
    {
     "data": {
      "text/plain": [
       "(124814467, 3)"
      ]
     },
     "execution_count": 39,
     "metadata": {},
     "output_type": "execute_result"
    }
   ],
   "source": [
    "subset_Olink_long_df.shape"
   ]
  },
  {
   "cell_type": "code",
   "execution_count": 40,
   "id": "bf7ea66b-2b6d-44a2-a83d-8a521d3261fc",
   "metadata": {},
   "outputs": [
    {
     "name": "stdout",
     "output_type": "stream",
     "text": [
      "记录数量少于 200 的 eid: [1949202, 2292307, 3139172, 3783685, 4156288]\n"
     ]
    }
   ],
   "source": [
    "# 按 eid 分组并统计每组的记录数量\n",
    "eid_counts = subset_Olink_long_df.groupby('eid').size()\n",
    "\n",
    "# 找出记录数量少于 200 的 eid\n",
    "eid_less_than_200 = eid_counts[eid_counts < 200].index.tolist()\n",
    "\n",
    "print(\"记录数量少于 200 的 eid:\", eid_less_than_200)"
   ]
  },
  {
   "cell_type": "code",
   "execution_count": 41,
   "id": "3d49a606-580e-48d0-9353-9d4c8bc0ac86",
   "metadata": {},
   "outputs": [
    {
     "name": "stdout",
     "output_type": "stream",
     "text": [
      "               eid             protein_name  protein_expression\n",
      "19805682   1000021   olink_instance_0.ccar2             9.35690\n",
      "103884300  1000021    olink_instance_0.paep             4.74010\n",
      "121378590  1000021    olink_instance_0.rln2             4.67330\n",
      "88775595   1000021  olink_instance_0.mapre3             4.55670\n",
      "54476184   1000021    olink_instance_0.fdx2             3.96610\n",
      "...            ...                      ...                 ...\n",
      "123159717  6022412   olink_instance_0.rtn4r             0.70720\n",
      "805713     6022412  olink_instance_0.acot13             0.70610\n",
      "134663538  6022412  olink_instance_0.spink6             0.70325\n",
      "44488425   6022412   olink_instance_0.dnpep             0.70310\n",
      "147068580  6022412    olink_instance_0.treh             0.70270\n",
      "\n",
      "[9524997 rows x 3 columns]\n"
     ]
    }
   ],
   "source": [
    "# 按 eid 分组，对每个分组内按 protein_expression 降序排序\n",
    "sorted_Olink_df = subset_Olink_long_df.sort_values(['eid', 'protein_expression'], ascending=[True, False])\n",
    "\n",
    "# 对每个分组保留前 200 行\n",
    "result_Olink_df = sorted_Olink_df.groupby('eid').head(200)\n",
    "\n",
    "print(result_Olink_df)"
   ]
  },
  {
   "cell_type": "code",
   "execution_count": 42,
   "id": "d61e89bd-f49b-4a33-a81d-4d202bdfcdc6",
   "metadata": {},
   "outputs": [
    {
     "data": {
      "text/plain": [
       "(9524997, 3)"
      ]
     },
     "execution_count": 42,
     "metadata": {},
     "output_type": "execute_result"
    }
   ],
   "source": [
    "result_Olink_df.shape"
   ]
  },
  {
   "cell_type": "code",
   "execution_count": 43,
   "id": "e0106a56-983a-4f79-a749-c33b003bd949",
   "metadata": {},
   "outputs": [
    {
     "data": {
      "text/plain": [
       "47626"
      ]
     },
     "execution_count": 43,
     "metadata": {},
     "output_type": "execute_result"
    }
   ],
   "source": [
    "len(result_Olink_df['eid'].unique())"
   ]
  },
  {
   "cell_type": "code",
   "execution_count": 44,
   "id": "d34fae44-ab8b-4d5b-ab88-86f211bb35cb",
   "metadata": {},
   "outputs": [
    {
     "data": {
      "text/plain": [
       "203"
      ]
     },
     "execution_count": 44,
     "metadata": {},
     "output_type": "execute_result"
    }
   ],
   "source": [
    "47626 * 200 - 9524997"
   ]
  },
  {
   "cell_type": "code",
   "execution_count": 45,
   "id": "3c0e5531-4880-4690-a5c1-8c7ab69b33c5",
   "metadata": {},
   "outputs": [],
   "source": [
    "subset_NMR_long_df = NMR_long_df[NMR_long_df['eid'].isin(subset_clinical_df['eid'])]"
   ]
  },
  {
   "cell_type": "code",
   "execution_count": 46,
   "id": "caac1e97-b428-4706-9287-0a4122e63ceb",
   "metadata": {},
   "outputs": [
    {
     "data": {
      "text/plain": [
       "(6841649, 3)"
      ]
     },
     "execution_count": 46,
     "metadata": {},
     "output_type": "execute_result"
    }
   ],
   "source": [
    "subset_NMR_long_df.shape"
   ]
  },
  {
   "cell_type": "code",
   "execution_count": 47,
   "id": "157132dc-b368-4020-95b4-2724b236f44f",
   "metadata": {},
   "outputs": [
    {
     "data": {
      "text/html": [
       "<div>\n",
       "<style scoped>\n",
       "    .dataframe tbody tr th:only-of-type {\n",
       "        vertical-align: middle;\n",
       "    }\n",
       "\n",
       "    .dataframe tbody tr th {\n",
       "        vertical-align: top;\n",
       "    }\n",
       "\n",
       "    .dataframe thead th {\n",
       "        text-align: right;\n",
       "    }\n",
       "</style>\n",
       "<table border=\"1\" class=\"dataframe\">\n",
       "  <thead>\n",
       "    <tr style=\"text-align: right;\">\n",
       "      <th></th>\n",
       "      <th>eid</th>\n",
       "      <th>NMR_name</th>\n",
       "      <th>NMR_expression</th>\n",
       "    </tr>\n",
       "  </thead>\n",
       "  <tbody>\n",
       "    <tr>\n",
       "      <th>44</th>\n",
       "      <td>1002133</td>\n",
       "      <td>participant.p20280_i0</td>\n",
       "      <td>4.06436</td>\n",
       "    </tr>\n",
       "    <tr>\n",
       "      <th>47</th>\n",
       "      <td>1002201</td>\n",
       "      <td>participant.p20280_i0</td>\n",
       "      <td>5.62458</td>\n",
       "    </tr>\n",
       "  </tbody>\n",
       "</table>\n",
       "</div>"
      ],
      "text/plain": [
       "        eid               NMR_name  NMR_expression\n",
       "44  1002133  participant.p20280_i0         4.06436\n",
       "47  1002201  participant.p20280_i0         5.62458"
      ]
     },
     "execution_count": 47,
     "metadata": {},
     "output_type": "execute_result"
    }
   ],
   "source": [
    "subset_NMR_long_df.head(2)"
   ]
  },
  {
   "cell_type": "code",
   "execution_count": 48,
   "id": "fca0b258-ae30-45db-983b-ef8a9f58bd00",
   "metadata": {},
   "outputs": [
    {
     "name": "stdout",
     "output_type": "stream",
     "text": [
      "记录数量少于 200 的 eid: []\n"
     ]
    }
   ],
   "source": [
    "# 按 eid 分组并统计每组的记录数量\n",
    "eid_counts = subset_NMR_long_df.groupby('eid').size()\n",
    "\n",
    "# 找出记录数量少于 200 的 eid\n",
    "eid_less_than_200 = eid_counts[eid_counts < 200].index.tolist()\n",
    "\n",
    "print(\"记录数量少于 200 的 eid:\", eid_less_than_200)"
   ]
  },
  {
   "cell_type": "code",
   "execution_count": 49,
   "id": "63422ac3-a085-4c09-8cb7-ef8f99ef462c",
   "metadata": {},
   "outputs": [
    {
     "name": "stdout",
     "output_type": "stream",
     "text": [
      "               eid               NMR_name  NMR_expression\n",
      "93195467   1000021  participant.p23583_i0       87.447000\n",
      "109263659  1000021  participant.p23615_i0       73.625000\n",
      "98216777   1000021  participant.p23593_i0       73.483000\n",
      "106753004  1000021  participant.p23610_i0       71.083000\n",
      "111774314  1000021  participant.p23620_i0       68.700000\n",
      "...            ...                    ...             ...\n",
      "54832534   6022412  participant.p23507_i0        0.092613\n",
      "54330403   6022412  participant.p23506_i0        0.086871\n",
      "46798438   6022412  participant.p23491_i0        0.085022\n",
      "37257949   6022412  participant.p23472_i0        0.085019\n",
      "62364499   6022412  participant.p23522_i0        0.085007\n",
      "\n",
      "[5459000 rows x 3 columns]\n"
     ]
    }
   ],
   "source": [
    "# 按 eid 分组，对每个分组内按 NMR_expression 降序排序\n",
    "sorted_NMR_df = subset_NMR_long_df.sort_values(['eid', 'NMR_expression'], ascending=[True, False])\n",
    "\n",
    "# 对每个分组保留前 200 行\n",
    "result_NMR_df = sorted_NMR_df.groupby('eid').head(200)\n",
    "\n",
    "print(result_NMR_df)"
   ]
  },
  {
   "cell_type": "code",
   "execution_count": 50,
   "id": "79aa12bd-c18c-49bd-820d-65b89b0ad2cd",
   "metadata": {},
   "outputs": [
    {
     "data": {
      "text/plain": [
       "27295"
      ]
     },
     "execution_count": 50,
     "metadata": {},
     "output_type": "execute_result"
    }
   ],
   "source": [
    "len(subset_NMR_long_df['eid'].unique())"
   ]
  },
  {
   "cell_type": "code",
   "execution_count": 51,
   "id": "56650edb-c424-4560-8177-c20904763022",
   "metadata": {},
   "outputs": [
    {
     "data": {
      "text/plain": [
       "5459000"
      ]
     },
     "execution_count": 51,
     "metadata": {},
     "output_type": "execute_result"
    }
   ],
   "source": [
    "27295*200"
   ]
  },
  {
   "cell_type": "code",
   "execution_count": 52,
   "id": "8b0e0eb9-cf4a-4f5a-a27f-be52590fa6cb",
   "metadata": {},
   "outputs": [],
   "source": [
    "subset_clinical_df = subset_clinical_df.rename(columns={'eid': 'node1'})\n",
    "subset_clinical_df = subset_clinical_df.rename(columns={'ICD10_codes': 'node2'})\n",
    "\n",
    "# subset_Olink_long_df = subset_Olink_long_df.rename(columns={'eid': 'node1'})\n",
    "# subset_Olink_long_df = subset_Olink_long_df.rename(columns={'protein_name': 'node2'})\n",
    "# subset_Olink_long_df = subset_Olink_long_df.rename(columns={'protein_expression': 'relationship'})\n",
    "\n",
    "# subset_NMR_long_df = subset_NMR_long_df.rename(columns={'eid': 'node1'})\n",
    "# subset_NMR_long_df = subset_NMR_long_df.rename(columns={'NMR_name': 'node2'})\n",
    "# subset_NMR_long_df = subset_NMR_long_df.rename(columns={'NMR_expression': 'relationship'})\n",
    "\n",
    "result_Olink_df = result_Olink_df.rename(columns={'eid': 'node1'})\n",
    "result_Olink_df = result_Olink_df.rename(columns={'protein_name': 'node2'})\n",
    "result_Olink_df = result_Olink_df.rename(columns={'protein_expression': 'relationship'})\n",
    "\n",
    "result_NMR_df = result_NMR_df.rename(columns={'eid': 'node1'})\n",
    "result_NMR_df = result_NMR_df.rename(columns={'NMR_name': 'node2'})\n",
    "result_NMR_df = result_NMR_df.rename(columns={'NMR_expression': 'relationship'})"
   ]
  },
  {
   "cell_type": "code",
   "execution_count": 53,
   "id": "3b417fcf-6b8a-4aa0-8454-503d42b62a90",
   "metadata": {},
   "outputs": [
    {
     "name": "stdout",
     "output_type": "stream",
     "text": [
      "            node1                  node2  relationship\n",
      "0         1002133                   I802      1.000000\n",
      "1         1002133                  M1997      1.000000\n",
      "2         1002133                   M201      1.000000\n",
      "3         1002133                   M798      1.000000\n",
      "4         1002133                   D120      1.000000\n",
      "...           ...                    ...           ...\n",
      "15789368  6022412  participant.p23507_i0      0.092613\n",
      "15789369  6022412  participant.p23506_i0      0.086871\n",
      "15789370  6022412  participant.p23491_i0      0.085022\n",
      "15789371  6022412  participant.p23472_i0      0.085019\n",
      "15789372  6022412  participant.p23522_i0      0.085007\n",
      "\n",
      "[15789373 rows x 3 columns]\n"
     ]
    }
   ],
   "source": [
    "# 合并三个数据框\n",
    "# merged_df = pd.concat([subset_clinical_df, subset_Olink_long_df, subset_NMR_long_df], ignore_index=True)\n",
    "merged_df = pd.concat([subset_clinical_df, result_Olink_df, result_NMR_df], ignore_index=True)\n",
    "print(merged_df)"
   ]
  },
  {
   "cell_type": "code",
   "execution_count": 54,
   "id": "9654e7f4-2de5-42d9-84bb-f5e07a5a3cd5",
   "metadata": {},
   "outputs": [],
   "source": [
    "# 保存为以制表符分隔的文本文件\n",
    "file_path = '/home/llma/wzy/comorbidity/Data/merged_df_long.txt'\n",
    "merged_df.to_csv(file_path, sep='\\t', na_rep='nan', index=False)"
   ]
  },
  {
   "cell_type": "code",
   "execution_count": 55,
   "id": "8fb2d7d1-4fd6-4a6b-b713-4bd8cfa5bb4d",
   "metadata": {},
   "outputs": [
    {
     "data": {
      "text/html": [
       "<div>\n",
       "<style scoped>\n",
       "    .dataframe tbody tr th:only-of-type {\n",
       "        vertical-align: middle;\n",
       "    }\n",
       "\n",
       "    .dataframe tbody tr th {\n",
       "        vertical-align: top;\n",
       "    }\n",
       "\n",
       "    .dataframe thead th {\n",
       "        text-align: right;\n",
       "    }\n",
       "</style>\n",
       "<table border=\"1\" class=\"dataframe\">\n",
       "  <thead>\n",
       "    <tr style=\"text-align: right;\">\n",
       "      <th></th>\n",
       "      <th>node1</th>\n",
       "      <th>node2</th>\n",
       "      <th>relationship</th>\n",
       "    </tr>\n",
       "  </thead>\n",
       "  <tbody>\n",
       "    <tr>\n",
       "      <th>0</th>\n",
       "      <td>1002133</td>\n",
       "      <td>I802</td>\n",
       "      <td>1.0</td>\n",
       "    </tr>\n",
       "    <tr>\n",
       "      <th>1</th>\n",
       "      <td>1002133</td>\n",
       "      <td>M1997</td>\n",
       "      <td>1.0</td>\n",
       "    </tr>\n",
       "  </tbody>\n",
       "</table>\n",
       "</div>"
      ],
      "text/plain": [
       "     node1  node2  relationship\n",
       "0  1002133   I802           1.0\n",
       "1  1002133  M1997           1.0"
      ]
     },
     "execution_count": 55,
     "metadata": {},
     "output_type": "execute_result"
    }
   ],
   "source": [
    "merged_df = pd.read_csv('/home/llma/wzy/comorbidity/Data/merged_df_long.txt', sep='\\t')\n",
    "\n",
    "merged_df.head(2)"
   ]
  },
  {
   "cell_type": "code",
   "execution_count": 56,
   "id": "6b572471-775d-47b7-afee-091f6f0fedbc",
   "metadata": {},
   "outputs": [
    {
     "name": "stdout",
     "output_type": "stream",
     "text": [
      "            node1                      node2  relationship\n",
      "10890217  1509466      participant.p23580_i0      20.27500\n",
      "8972900   5308238    olink_instance_0.itgbl1       0.88600\n",
      "14002659  4380370      participant.p23471_i0       3.48600\n",
      "74229     3351479                       H185       1.00000\n",
      "6305790   3905089  olink_instance_0.fam171a2       5.24180\n",
      "...           ...                        ...           ...\n",
      "1265761   1241521      olink_instance_0.tshb       1.90755\n",
      "8766054   5199637     olink_instance_0.cdh17       1.13260\n",
      "5134481   3282256      olink_instance_0.cd69       0.57720\n",
      "13483563  3903901      participant.p23511_i0       0.09834\n",
      "11273352  1850949      participant.p23410_i0       0.17939\n",
      "\n",
      "[100000 rows x 3 columns]\n"
     ]
    }
   ],
   "source": [
    "# 随机抽取 50000000 行数据\n",
    "sampled_df = merged_df.sample(n=100000, random_state=42)\n",
    "\n",
    "print(sampled_df)"
   ]
  },
  {
   "cell_type": "code",
   "execution_count": 57,
   "id": "ddcba8f2-00d1-4292-b75b-d61948195902",
   "metadata": {},
   "outputs": [],
   "source": [
    "# 保存为以制表符分隔的文本文件\n",
    "file_path = '/home/llma/wzy/comorbidity/Data/sampled_df_long.txt'\n",
    "sampled_df.to_csv(file_path, sep='\\t', na_rep='nan', index=False)"
   ]
  },
  {
   "cell_type": "markdown",
   "id": "9d23de4a-f8fc-4dae-9c7d-9b796d29ed21",
   "metadata": {},
   "source": [
    "## prapare data for GPT embedding"
   ]
  },
  {
   "cell_type": "code",
   "execution_count": 66,
   "id": "38260d0f-93eb-4de2-b9b9-b6e6a65b4f96",
   "metadata": {},
   "outputs": [
    {
     "data": {
      "text/plain": [
       "47626"
      ]
     },
     "execution_count": 66,
     "metadata": {},
     "output_type": "execute_result"
    }
   ],
   "source": [
    "len(merged_df['node1'].unique())"
   ]
  },
  {
   "cell_type": "code",
   "execution_count": 67,
   "id": "02cfaecc-3b1a-44a5-81de-2378be10117d",
   "metadata": {},
   "outputs": [
    {
     "data": {
      "text/plain": [
       "numpy.ndarray"
      ]
     },
     "execution_count": 67,
     "metadata": {},
     "output_type": "execute_result"
    }
   ],
   "source": [
    "type(merged_df['node1'].unique())"
   ]
  },
  {
   "cell_type": "code",
   "execution_count": 68,
   "id": "82d6f060-6dfb-48d6-b1c5-94b4e409704c",
   "metadata": {},
   "outputs": [
    {
     "data": {
      "text/plain": [
       "array([1002133, 1002201, 1002534, ..., 6022081, 6022213, 6022247])"
      ]
     },
     "execution_count": 68,
     "metadata": {},
     "output_type": "execute_result"
    }
   ],
   "source": [
    "merged_df['node1'].unique()"
   ]
  },
  {
   "cell_type": "code",
   "execution_count": 69,
   "id": "d102ac90-4a7f-417a-992d-fd41241be880",
   "metadata": {},
   "outputs": [
    {
     "data": {
      "text/plain": [
       "0           1002133\n",
       "1           1002133\n",
       "2           1002133\n",
       "3           1002133\n",
       "4           1002133\n",
       "             ...   \n",
       "15789368    6022412\n",
       "15789369    6022412\n",
       "15789370    6022412\n",
       "15789371    6022412\n",
       "15789372    6022412\n",
       "Name: node1, Length: 15789373, dtype: int64"
      ]
     },
     "execution_count": 69,
     "metadata": {},
     "output_type": "execute_result"
    }
   ],
   "source": [
    "merged_df['node1']"
   ]
  },
  {
   "cell_type": "code",
   "execution_count": 72,
   "id": "c1c35ed1-6146-4cb8-896a-ad64572aa1d8",
   "metadata": {},
   "outputs": [],
   "source": [
    "import numpy as np\n",
    "np.savetxt('/home/llma/wzy/comorbidity/Data/patient_id_select.txt', merged_df['node1'].unique(), fmt='%d')"
   ]
  },
  {
   "cell_type": "code",
   "execution_count": 73,
   "id": "629fdbd0-290d-48d3-b094-afdc7ce0b950",
   "metadata": {},
   "outputs": [],
   "source": [
    "import numpy as np\n",
    "X = np.load('/home/llma/wzy/comorbidity/Data/UKB_node_feature.npy')"
   ]
  },
  {
   "cell_type": "code",
   "execution_count": 79,
   "id": "5e2a7f4e-8ca9-4eaa-823a-12316cb407b1",
   "metadata": {},
   "outputs": [
    {
     "data": {
      "text/plain": [
       "(59341, 512)"
      ]
     },
     "execution_count": 79,
     "metadata": {},
     "output_type": "execute_result"
    }
   ],
   "source": [
    "X.shape"
   ]
  },
  {
   "cell_type": "code",
   "execution_count": 2,
   "id": "a5bfff1a-8a8e-4914-af6f-33ac4bf19f1a",
   "metadata": {},
   "outputs": [
    {
     "name": "stderr",
     "output_type": "stream",
     "text": [
      "/home/llma/anaconda3/envs/GAT/lib/python3.12/site-packages/tqdm/auto.py:21: TqdmWarning: IProgress not found. Please update jupyter and ipywidgets. See https://ipywidgets.readthedocs.io/en/stable/user_install.html\n",
      "  from .autonotebook import tqdm as notebook_tqdm\n"
     ]
    }
   ],
   "source": [
    "from embedding import load_graph_network\n",
    "from train import fit_transform\n",
    "import torch\n",
    "import numpy as np\n",
    "from scipy.sparse import identity, csr_matrix"
   ]
  },
  {
   "cell_type": "code",
   "execution_count": null,
   "id": "55981609-5bce-42fd-9e71-0478814aeecb",
   "metadata": {},
   "outputs": [],
   "source": [
    "relationship_file = '/home/llma/wzy/comorbidity/Data/merged_df_long.txt'\n",
    "node_feature_file = '/home/llma/wzy/comorbidity/Data/UKB_node_feature.npy'\n",
    "features, adj = load_graph_network(relationship_file, node_feature_file)"
   ]
  },
  {
   "cell_type": "code",
   "execution_count": null,
   "id": "8f02360c-edbb-4c37-8de3-b9addbed21e3",
   "metadata": {},
   "outputs": [],
   "source": [
    "type(features)"
   ]
  },
  {
   "cell_type": "code",
   "execution_count": null,
   "id": "5306d9cd-a79b-421b-a4f0-a6e1ba578b4e",
   "metadata": {},
   "outputs": [],
   "source": [
    "features.shape"
   ]
  },
  {
   "cell_type": "code",
   "execution_count": null,
   "id": "49c1bb49-d917-464c-9e15-d37c6501622f",
   "metadata": {},
   "outputs": [],
   "source": [
    "type(adj)"
   ]
  },
  {
   "cell_type": "code",
   "execution_count": null,
   "id": "983e8cc4-317a-4dfe-a9ef-df3716ce3f91",
   "metadata": {},
   "outputs": [],
   "source": [
    "adj.shape"
   ]
  },
  {
   "cell_type": "code",
   "execution_count": 86,
   "id": "1f5c873c-02cb-4667-babd-e86f4ed74869",
   "metadata": {},
   "outputs": [],
   "source": [
    "edge_index = torch.LongTensor(np.column_stack(adj.nonzero())).T"
   ]
  },
  {
   "cell_type": "code",
   "execution_count": 87,
   "id": "d6a0509d-0982-460f-a8c3-827c6aa936b9",
   "metadata": {},
   "outputs": [
    {
     "data": {
      "text/plain": [
       "torch.Tensor"
      ]
     },
     "execution_count": 87,
     "metadata": {},
     "output_type": "execute_result"
    }
   ],
   "source": [
    "type(edge_index)"
   ]
  },
  {
   "cell_type": "code",
   "execution_count": 88,
   "id": "b067234b-c4ae-4ec3-a8d5-e855691f889d",
   "metadata": {},
   "outputs": [
    {
     "data": {
      "text/plain": [
       "torch.Size([2, 31578678])"
      ]
     },
     "execution_count": 88,
     "metadata": {},
     "output_type": "execute_result"
    }
   ],
   "source": [
    "edge_index.shape"
   ]
  },
  {
   "cell_type": "code",
   "execution_count": 89,
   "id": "4628e59d-cb69-41be-a48b-3b390641fd41",
   "metadata": {},
   "outputs": [
    {
     "data": {
      "text/plain": [
       "tensor([[    0,     0,     0,  ..., 59340, 59340, 59340],\n",
       "        [48395, 50305, 52968,  ..., 47621, 47622, 47625]])"
      ]
     },
     "execution_count": 89,
     "metadata": {},
     "output_type": "execute_result"
    }
   ],
   "source": [
    "edge_index"
   ]
  },
  {
   "cell_type": "code",
   "execution_count": 91,
   "id": "9cbc6ae4-4b95-4839-9612-ec0155d54cfd",
   "metadata": {},
   "outputs": [],
   "source": [
    "features = torch.FloatTensor(features)"
   ]
  },
  {
   "cell_type": "code",
   "execution_count": 92,
   "id": "293f599c-cfc6-4e43-962b-4efecbdc7ab4",
   "metadata": {},
   "outputs": [
    {
     "data": {
      "text/plain": [
       "torch.Tensor"
      ]
     },
     "execution_count": 92,
     "metadata": {},
     "output_type": "execute_result"
    }
   ],
   "source": [
    "type(features)"
   ]
  },
  {
   "cell_type": "code",
   "execution_count": 93,
   "id": "1fbe483a-c1f1-40c2-9053-ec5d7a16ac25",
   "metadata": {},
   "outputs": [
    {
     "data": {
      "text/plain": [
       "tensor([[ 7.8593e-02,  3.7167e-02, -2.5264e-05,  ...,  1.0927e-01,\n",
       "          4.2039e-02, -4.3163e-02],\n",
       "        [-3.1614e-02,  3.3373e-02, -4.1725e-02,  ...,  6.1832e-02,\n",
       "          3.3184e-02, -7.6527e-02],\n",
       "        [ 6.3645e-02, -6.6597e-02, -1.7813e-02,  ...,  8.3573e-02,\n",
       "          1.1757e-01,  7.7124e-02],\n",
       "        ...,\n",
       "        [ 4.8801e-02, -1.5700e-02, -8.0005e-02,  ...,  1.8323e-01,\n",
       "         -4.8555e-02, -8.9389e-02],\n",
       "        [ 4.1061e-02, -3.6173e-03, -4.3467e-02,  ...,  1.9806e-01,\n",
       "         -2.3962e-02, -9.1589e-02],\n",
       "        [ 4.6492e-02, -1.6612e-02, -4.4272e-02,  ...,  1.7582e-01,\n",
       "         -2.1368e-02, -9.3193e-02]])"
      ]
     },
     "execution_count": 93,
     "metadata": {},
     "output_type": "execute_result"
    }
   ],
   "source": [
    "features"
   ]
  },
  {
   "cell_type": "code",
   "execution_count": 1,
   "id": "5ba7dd49-2bee-4e4b-a66f-7f3e9ce52546",
   "metadata": {},
   "outputs": [],
   "source": [
    "import numpy as np"
   ]
  },
  {
   "cell_type": "code",
   "execution_count": 2,
   "id": "baa2a15c-ca2d-4c69-b3e2-de2ecad2c310",
   "metadata": {},
   "outputs": [],
   "source": [
    "# 读取 .npy 文件\n",
    "UKB_node_feature = np.load(\"/home/llma/wzy/comorbidity/Data/UKB_node_feature.npy\")  # 替换为你的文件路径"
   ]
  },
  {
   "cell_type": "code",
   "execution_count": 3,
   "id": "4ca03861-a2f7-4516-b916-6a268a1e4548",
   "metadata": {},
   "outputs": [
    {
     "name": "stdout",
     "output_type": "stream",
     "text": [
      "(59341, 512)\n",
      "float32\n",
      "[[ 7.8592859e-02  3.7166961e-02 -2.5264493e-05 ...  1.0927329e-01\n",
      "   4.2039458e-02 -4.3163471e-02]\n",
      " [-3.1613640e-02  3.3372585e-02 -4.1725088e-02 ...  6.1832469e-02\n",
      "   3.3184074e-02 -7.6527424e-02]\n",
      " [ 6.3645303e-02 -6.6597082e-02 -1.7813137e-02 ...  8.3572939e-02\n",
      "   1.1757230e-01  7.7123806e-02]\n",
      " ...\n",
      " [ 4.8800856e-02 -1.5699746e-02 -8.0004506e-02 ...  1.8323483e-01\n",
      "  -4.8554923e-02 -8.9388750e-02]\n",
      " [ 4.1061401e-02 -3.6173388e-03 -4.3467034e-02 ...  1.9806254e-01\n",
      "  -2.3962140e-02 -9.1588542e-02]\n",
      " [ 4.6492204e-02 -1.6611662e-02 -4.4271532e-02 ...  1.7581843e-01\n",
      "  -2.1368263e-02 -9.3193032e-02]]\n"
     ]
    }
   ],
   "source": [
    "# 查看数据\n",
    "print(UKB_node_feature.shape)  # 查看数组形状\n",
    "print(UKB_node_feature.dtype)  # 查看数据类型\n",
    "print(UKB_node_feature)        # 打印数组内容"
   ]
  },
  {
   "cell_type": "markdown",
   "id": "09051fe6-15c0-4d5e-b841-7b4072c80283",
   "metadata": {},
   "source": [
    "## get the order of nodes"
   ]
  },
  {
   "cell_type": "code",
   "execution_count": 34,
   "id": "6a17c1e4-620e-4b36-85f9-c6a7e128a09f",
   "metadata": {},
   "outputs": [
    {
     "name": "stderr",
     "output_type": "stream",
     "text": [
      "/home/llma/anaconda3/envs/GAT/lib/python3.12/site-packages/tqdm/auto.py:21: TqdmWarning: IProgress not found. Please update jupyter and ipywidgets. See https://ipywidgets.readthedocs.io/en/stable/user_install.html\n",
      "  from .autonotebook import tqdm as notebook_tqdm\n"
     ]
    }
   ],
   "source": [
    "import numpy as np\n",
    "import os\n",
    "from scipy.sparse import csr_matrix\n",
    "from utils import N2V\n",
    "import pandas as pd\n",
    "from fastnode2vec import Graph, Node2Vec "
   ]
  },
  {
   "cell_type": "code",
   "execution_count": 35,
   "id": "b1af2a45-4312-4ab4-b2e0-30dc99811daa",
   "metadata": {},
   "outputs": [],
   "source": [
    "adj_path = '/home/llma/wzy/comorbidity/Data/merged_df_long_convert.txt'"
   ]
  },
  {
   "cell_type": "code",
   "execution_count": 36,
   "id": "8d1fa154-fa4d-4673-9f7e-d239e1764ed1",
   "metadata": {},
   "outputs": [
    {
     "data": {
      "text/html": [
       "<div>\n",
       "<style scoped>\n",
       "    .dataframe tbody tr th:only-of-type {\n",
       "        vertical-align: middle;\n",
       "    }\n",
       "\n",
       "    .dataframe tbody tr th {\n",
       "        vertical-align: top;\n",
       "    }\n",
       "\n",
       "    .dataframe thead th {\n",
       "        text-align: right;\n",
       "    }\n",
       "</style>\n",
       "<table border=\"1\" class=\"dataframe\">\n",
       "  <thead>\n",
       "    <tr style=\"text-align: right;\">\n",
       "      <th></th>\n",
       "      <th>node1</th>\n",
       "      <th>node2</th>\n",
       "      <th>relationship</th>\n",
       "    </tr>\n",
       "  </thead>\n",
       "  <tbody>\n",
       "    <tr>\n",
       "      <th>0</th>\n",
       "      <td>1002133</td>\n",
       "      <td>I802</td>\n",
       "      <td>1</td>\n",
       "    </tr>\n",
       "    <tr>\n",
       "      <th>1</th>\n",
       "      <td>1002133</td>\n",
       "      <td>M1997</td>\n",
       "      <td>1</td>\n",
       "    </tr>\n",
       "  </tbody>\n",
       "</table>\n",
       "</div>"
      ],
      "text/plain": [
       "     node1  node2  relationship\n",
       "0  1002133   I802             1\n",
       "1  1002133  M1997             1"
      ]
     },
     "execution_count": 36,
     "metadata": {},
     "output_type": "execute_result"
    }
   ],
   "source": [
    "merged_df = pd.read_csv(adj_path, sep='\\t')\n",
    "\n",
    "merged_df.head(2)"
   ]
  },
  {
   "cell_type": "code",
   "execution_count": 37,
   "id": "ed177f50-7254-46f0-9537-94e3b70e938e",
   "metadata": {},
   "outputs": [
    {
     "data": {
      "text/html": [
       "<div>\n",
       "<style scoped>\n",
       "    .dataframe tbody tr th:only-of-type {\n",
       "        vertical-align: middle;\n",
       "    }\n",
       "\n",
       "    .dataframe tbody tr th {\n",
       "        vertical-align: top;\n",
       "    }\n",
       "\n",
       "    .dataframe thead th {\n",
       "        text-align: right;\n",
       "    }\n",
       "</style>\n",
       "<table border=\"1\" class=\"dataframe\">\n",
       "  <thead>\n",
       "    <tr style=\"text-align: right;\">\n",
       "      <th></th>\n",
       "      <th>node1</th>\n",
       "      <th>node2</th>\n",
       "      <th>relationship</th>\n",
       "    </tr>\n",
       "  </thead>\n",
       "  <tbody>\n",
       "  </tbody>\n",
       "</table>\n",
       "</div>"
      ],
      "text/plain": [
       "Empty DataFrame\n",
       "Columns: [node1, node2, relationship]\n",
       "Index: []"
      ]
     },
     "execution_count": 37,
     "metadata": {},
     "output_type": "execute_result"
    }
   ],
   "source": [
    "merged_df[merged_df['node2'].isin(['C925', 'C926', 'C940'])]"
   ]
  },
  {
   "cell_type": "code",
   "execution_count": 38,
   "id": "decb3abf-f7ee-4d6a-8d35-4d8fa523519e",
   "metadata": {},
   "outputs": [
    {
     "name": "stderr",
     "output_type": "stream",
     "text": [
      "                                                                                                                                                            "
     ]
    }
   ],
   "source": [
    "X, A, Y = [], None, []\n",
    "n_node = 0\n",
    "\n",
    "# Acquire Edges\n",
    "edge_list = []\n",
    "node_list = []\n",
    "node_type = {}\n",
    "relationship_list = []\n",
    "\n",
    "with open(adj_path, 'rt', encoding='utf-8') as f:\n",
    "    next(f)\n",
    "    for line in f.readlines():\n",
    "        node1, node2, relationship, *_ = line.strip().split('\\t')\n",
    "        edge_list.append((node1, node2))\n",
    "        node_list.extend([node1, node2])\n",
    "        relationship_list.append(relationship)\n",
    "\n",
    "node_map = {item: i for i, item in enumerate(sorted(list(set(node_list))))}\n",
    "n_node = len(node_map)\n",
    "\n",
    "# 使用稀疏矩阵存储邻接关系\n",
    "row = []\n",
    "col = []\n",
    "data = []\n",
    "for i, (node1, node2) in enumerate(edge_list):\n",
    "    row.append(node_map[node1])\n",
    "    col.append(node_map[node2])\n",
    "    data.append(relationship_list[i])  # 使用实际的关系值\n",
    "    row.append(node_map[node2])\n",
    "    col.append(node_map[node1])\n",
    "    data.append(relationship_list[i])  # 使用实际的关系值\n",
    "A = csr_matrix((data, (row, col)), shape=(n_node, n_node), dtype=np.float32)\n",
    "\n",
    "adj_matrix = pd.read_csv(adj_path, sep='\\t')\n",
    "# 构建图所需的边列表\n",
    "edges = [(row['node1'], row['node2'], row['relationship']) for _, row in adj_matrix.iterrows()]\n",
    "\n",
    "# 构建图\n",
    "graph = Graph(edges, directed=False, weighted=True)"
   ]
  },
  {
   "cell_type": "code",
   "execution_count": 39,
   "id": "269b64c7-6d01-4ce7-931e-b9407b705995",
   "metadata": {},
   "outputs": [
    {
     "data": {
      "text/plain": [
       "array(['1002133', 'I802', 'M1997', ...,\n",
       "       'Concentration of Very Large HDL Particles',\n",
       "       'Concentration of IDL Particles',\n",
       "       'Concentration of Medium LDL Particles'], dtype='<U86')"
      ]
     },
     "execution_count": 39,
     "metadata": {},
     "output_type": "execute_result"
    }
   ],
   "source": [
    "graph.node_names"
   ]
  },
  {
   "cell_type": "code",
   "execution_count": 40,
   "id": "9ec224ea-b6a6-411a-96db-757d96f692d8",
   "metadata": {},
   "outputs": [
    {
     "data": {
      "text/plain": [
       "<fastnode2vec.graph.Graph at 0x7f41bc4e45c0>"
      ]
     },
     "execution_count": 40,
     "metadata": {},
     "output_type": "execute_result"
    }
   ],
   "source": [
    "graph"
   ]
  },
  {
   "cell_type": "code",
   "execution_count": 41,
   "id": "ef8ee197-a292-47cf-806a-755b8f5ffaab",
   "metadata": {},
   "outputs": [],
   "source": [
    "# 保存图对象\n",
    "with open('/home/llma/wzy/comorbidity/Data/graph.pkl', 'wb') as f:\n",
    "    pickle.dump(graph, f)"
   ]
  },
  {
   "cell_type": "code",
   "execution_count": 42,
   "id": "9aabe4fd-67a7-41e0-915a-7d267c2a920e",
   "metadata": {},
   "outputs": [],
   "source": [
    "import pickle\n",
    "import numpy as np"
   ]
  },
  {
   "cell_type": "code",
   "execution_count": 43,
   "id": "9faeef01-5f56-4e5f-85ad-af4591acf29f",
   "metadata": {},
   "outputs": [
    {
     "name": "stdout",
     "output_type": "stream",
     "text": [
      "1.26.4\n"
     ]
    }
   ],
   "source": [
    "print(np.__version__)"
   ]
  },
  {
   "cell_type": "code",
   "execution_count": 44,
   "id": "86986277-717e-41a9-ab89-ef4de779eea9",
   "metadata": {},
   "outputs": [],
   "source": [
    "with open('/home/llma/wzy/comorbidity/Data/gpt_protein_embeddings_dict.pkl', 'rb') as f:\n",
    "    protein_embeddings_dict = pickle.load(f)"
   ]
  },
  {
   "cell_type": "code",
   "execution_count": 45,
   "id": "2194bbc0-9d7d-4e57-bcd9-8d948b6b30a3",
   "metadata": {},
   "outputs": [],
   "source": [
    "with open('/home/llma/wzy/comorbidity/Data/gpt_embeddings_dict.pkl', 'rb') as f:\n",
    "    embeddings_dict = pickle.load(f)"
   ]
  },
  {
   "cell_type": "code",
   "execution_count": 46,
   "id": "7f164987-1e80-4bf5-9fce-08386335831b",
   "metadata": {},
   "outputs": [],
   "source": [
    "with open('/home/llma/wzy/comorbidity/Data/metabolite_embeddings_dict.pkl', 'rb') as f:\n",
    "    metabolite_embeddings_dict = pickle.load(f)"
   ]
  },
  {
   "cell_type": "markdown",
   "id": "b7f68bdb-f2a9-4622-8242-1c9c57f219a6",
   "metadata": {},
   "source": [
    "## ICD10 embedding"
   ]
  },
  {
   "cell_type": "code",
   "execution_count": 47,
   "id": "416050dd-61c3-42ba-b1e6-d67b8f6743fd",
   "metadata": {},
   "outputs": [],
   "source": [
    "import glob\n",
    "import json\n",
    "import string"
   ]
  },
  {
   "cell_type": "code",
   "execution_count": 48,
   "id": "1f04b567-d06a-41ff-9b6e-26a2d495ba73",
   "metadata": {},
   "outputs": [],
   "source": [
    "values = []\n",
    "icd_index = []\n",
    "for index in list(string.ascii_uppercase):\n",
    "    file = glob.glob(f'/home/llma/wzy/comorbidity/Data/icd10_embedding/{index}/icd10_results_*.json')[0]\n",
    "    with open(file, 'r', encoding='utf-8') as f:\n",
    "        data = json.load(f)\n",
    "        for key, value in data['embeddings'].items():\n",
    "            values.append(value)\n",
    "            icd_index.append(key)\n",
    "\n",
    "embeddings = np.array(values)"
   ]
  },
  {
   "cell_type": "code",
   "execution_count": 49,
   "id": "2c76709f-90b0-48c1-a505-7cdc111ff6fe",
   "metadata": {},
   "outputs": [
    {
     "data": {
      "text/plain": [
       "['A00', 'A00.0', 'A00.1']"
      ]
     },
     "execution_count": 49,
     "metadata": {},
     "output_type": "execute_result"
    }
   ],
   "source": [
    "icd_index[0:3]"
   ]
  },
  {
   "cell_type": "code",
   "execution_count": 50,
   "id": "218eeaaf-05d1-4e8b-806c-9d48e4a2a7b8",
   "metadata": {},
   "outputs": [],
   "source": [
    "icd10_embeddings = {}\n",
    "\n",
    "for index in string.ascii_uppercase:\n",
    "    try:\n",
    "        file = glob.glob(f'/home/llma/wzy/comorbidity/Data/icd10_embedding/{index}/icd10_results_*.json')[0]\n",
    "        \n",
    "        with open(file, 'r', encoding='utf-8') as f:\n",
    "            data = json.load(f)\n",
    "            \n",
    "            # 处理每个键，移除小数点后再添加到总字典\n",
    "            for key, value in data['embeddings'].items():\n",
    "                clean_key = key.replace('.', '')  # 移除小数点\n",
    "                icd10_embeddings[clean_key] = value\n",
    "                \n",
    "    except (IndexError, FileNotFoundError):\n",
    "        print(f\"未找到字母 {index} 对应的文件\")\n",
    "    except Exception as e:\n",
    "        print(f\"处理字母 {index} 时出错: {e}\")"
   ]
  },
  {
   "cell_type": "code",
   "execution_count": 51,
   "id": "3b66d15a-a5b9-4319-aeb8-84ba0a50f18e",
   "metadata": {},
   "outputs": [
    {
     "data": {
      "text/plain": [
       "dict"
      ]
     },
     "execution_count": 51,
     "metadata": {},
     "output_type": "execute_result"
    }
   ],
   "source": [
    "type(icd10_embeddings)"
   ]
  },
  {
   "cell_type": "code",
   "execution_count": 52,
   "id": "28dccb68-874b-4235-a991-1e690667821d",
   "metadata": {},
   "outputs": [
    {
     "name": "stdout",
     "output_type": "stream",
     "text": [
      "键存在于字典中\n"
     ]
    }
   ],
   "source": [
    "# 检查键是否存在\n",
    "if \"C926\" in icd10_embeddings:\n",
    "    print(\"键存在于字典中\")\n",
    "else:\n",
    "    print(\"键不存在于字典中\")"
   ]
  },
  {
   "cell_type": "code",
   "execution_count": 53,
   "id": "abf30c0b-dd04-419d-a0c8-ea5393208ca3",
   "metadata": {},
   "outputs": [],
   "source": [
    "with open('/home/llma/wzy/comorbidity/Data/icd10_embeddings_dict.pkl', 'wb') as f:\n",
    "    pickle.dump(icd10_embeddings, f)"
   ]
  },
  {
   "cell_type": "code",
   "execution_count": 54,
   "id": "807109d9-918d-485e-9ba4-ecf9a24a181e",
   "metadata": {},
   "outputs": [],
   "source": [
    "# 创建新字典，保留原始字典不变\n",
    "merged_dict = {**protein_embeddings_dict, **embeddings_dict, **metabolite_embeddings_dict, **icd10_embeddings}"
   ]
  },
  {
   "cell_type": "code",
   "execution_count": 55,
   "id": "82548e78-b471-4c3e-b285-463388571ee0",
   "metadata": {},
   "outputs": [
    {
     "name": "stdout",
     "output_type": "stream",
     "text": [
      "矩阵形状: (59341, 1536)\n",
      "前3行:\n",
      " [[-0.0182373  -0.02098356  0.02359651 ... -0.01561102 -0.01053844\n",
      "  -0.00612576]\n",
      " [-0.02499108 -0.0067757   0.02219337 ... -0.02719697 -0.01021568\n",
      "  -0.02587882]\n",
      " [ 0.00454228 -0.00239301  0.02163428 ... -0.01282641 -0.01000684\n",
      "  -0.05185902]]\n"
     ]
    }
   ],
   "source": [
    "# 提取所有键并保持顺序（Python 3.7+ 字典保持插入顺序）\n",
    "keys = list(graph.node_names)\n",
    "\n",
    "# 将字典值转换为NumPy矩阵（每行一个向量）\n",
    "matrix = np.array([merged_dict[key] for key in keys])\n",
    "\n",
    "# 检查矩阵形状\n",
    "print(\"矩阵形状:\", matrix.shape)  # 输出: (47626, 向量维度)\n",
    "\n",
    "# 示例：查看前3行\n",
    "print(\"前3行:\\n\", matrix[:3])"
   ]
  },
  {
   "cell_type": "code",
   "execution_count": 56,
   "id": "71fdd14a-6828-488c-90d5-d41bc74652fe",
   "metadata": {
    "collapsed": true,
    "jupyter": {
     "outputs_hidden": true
    }
   },
   "outputs": [
    {
     "data": {
      "text/plain": [
       "['1002133',\n",
       " 'I802',\n",
       " 'M1997',\n",
       " 'M201',\n",
       " 'M798',\n",
       " 'D120',\n",
       " 'D123',\n",
       " 'D649',\n",
       " 'K296',\n",
       " 'K318',\n",
       " 'K640',\n",
       " 'D371',\n",
       " 'K298',\n",
       " 'C884',\n",
       " 'I10',\n",
       " 'Z864',\n",
       " 'K295',\n",
       " 'Z128',\n",
       " 'Z807',\n",
       " 'Z861',\n",
       " 'K297',\n",
       " 'Z082',\n",
       " 'Z857',\n",
       " 'C443',\n",
       " 'Z926',\n",
       " '1002201',\n",
       " 'C445',\n",
       " 'M8090',\n",
       " 'R31',\n",
       " 'R391',\n",
       " 'Z139',\n",
       " 'D223',\n",
       " 'L82',\n",
       " 'K20',\n",
       " 'K269',\n",
       " 'K30',\n",
       " 'E780',\n",
       " 'H251',\n",
       " 'J459',\n",
       " 'Z961',\n",
       " 'C97',\n",
       " 'K920',\n",
       " 'R634',\n",
       " 'Z871',\n",
       " 'K644',\n",
       " 'K649',\n",
       " 'K851',\n",
       " 'K800',\n",
       " 'K801',\n",
       " 'I489',\n",
       " 'I501',\n",
       " 'J449',\n",
       " 'I259',\n",
       " 'I451',\n",
       " 'J90',\n",
       " 'I500',\n",
       " 'R54',\n",
       " 'Z921',\n",
       " 'K068',\n",
       " 'Z950',\n",
       " 'F002',\n",
       " 'G308',\n",
       " 'I051',\n",
       " 'M199',\n",
       " 'N183',\n",
       " 'R103',\n",
       " 'H269',\n",
       " 'H353',\n",
       " 'H401',\n",
       " 'I340',\n",
       " 'N179',\n",
       " 'R074',\n",
       " 'Z034',\n",
       " 'F019',\n",
       " 'I951',\n",
       " 'I959',\n",
       " 'R55',\n",
       " 'Z858',\n",
       " 'I509',\n",
       " 'J181',\n",
       " 'R441',\n",
       " 'T509',\n",
       " 'Y95',\n",
       " 'I209',\n",
       " '1002534',\n",
       " 'D361',\n",
       " 'E149',\n",
       " 'H028',\n",
       " 'E119',\n",
       " 'K635',\n",
       " 'D128',\n",
       " 'M139',\n",
       " 'Z866',\n",
       " 'K621',\n",
       " 'Z090',\n",
       " 'B961',\n",
       " 'D334',\n",
       " 'E871',\n",
       " 'G992',\n",
       " 'L891',\n",
       " 'N390',\n",
       " 'R33',\n",
       " 'R53',\n",
       " 'T810',\n",
       " 'T812',\n",
       " 'Z038',\n",
       " 'Z501',\n",
       " 'Z507',\n",
       " 'B965',\n",
       " 'G825',\n",
       " 'I517',\n",
       " 'K592',\n",
       " 'L309',\n",
       " 'L988',\n",
       " 'M1394',\n",
       " 'M4782',\n",
       " 'N319',\n",
       " 'R251',\n",
       " 'R418',\n",
       " 'T913',\n",
       " 'U073',\n",
       " 'Y883',\n",
       " 'Z115',\n",
       " 'Z860',\n",
       " '1003548',\n",
       " 'K048',\n",
       " 'C679',\n",
       " 'N40',\n",
       " 'N302',\n",
       " 'Z855',\n",
       " 'N309',\n",
       " 'Z087',\n",
       " 'N328',\n",
       " 'M159',\n",
       " 'C671',\n",
       " '1003599',\n",
       " 'C187',\n",
       " 'R073',\n",
       " 'R91',\n",
       " 'Z850',\n",
       " 'Z851',\n",
       " 'Z902',\n",
       " 'C799',\n",
       " 'Z880',\n",
       " 'B378',\n",
       " 'K598',\n",
       " 'Z852',\n",
       " 'Z888',\n",
       " '1003651',\n",
       " 'I839',\n",
       " '1005171',\n",
       " 'A099',\n",
       " 'K922',\n",
       " 'R194',\n",
       " '1005543',\n",
       " 'K221',\n",
       " 'R104',\n",
       " 'K409',\n",
       " 'C61',\n",
       " '1005732',\n",
       " 'N950',\n",
       " 'C189',\n",
       " 'I849',\n",
       " 'C180',\n",
       " 'Z080',\n",
       " 'L814',\n",
       " 'W909',\n",
       " 'K573',\n",
       " 'Z904',\n",
       " '1005756',\n",
       " 'B349',\n",
       " 'S610',\n",
       " 'S618',\n",
       " 'W250',\n",
       " 'K610',\n",
       " 'T814',\n",
       " 'Y838',\n",
       " '1005827',\n",
       " 'H250',\n",
       " 'C444',\n",
       " '1007591',\n",
       " 'M161',\n",
       " 'M1996',\n",
       " 'M179',\n",
       " 'M171',\n",
       " 'K802',\n",
       " 'M2575',\n",
       " 'Z966',\n",
       " 'M1099',\n",
       " 'M7967',\n",
       " 'H268',\n",
       " 'L031',\n",
       " 'M109',\n",
       " 'N189',\n",
       " 'N19',\n",
       " 'R001',\n",
       " 'Z854',\n",
       " 'L539',\n",
       " 'E875',\n",
       " 'F059',\n",
       " 'N184',\n",
       " 'R268',\n",
       " 'R945',\n",
       " 'U071',\n",
       " 'Z874',\n",
       " 'Z923',\n",
       " 'T827',\n",
       " '1008850',\n",
       " 'J383',\n",
       " 'R42',\n",
       " 'G939',\n",
       " 'H830',\n",
       " 'T598',\n",
       " 'X090',\n",
       " '1009845',\n",
       " 'R69',\n",
       " 'K219',\n",
       " 'K810',\n",
       " '1010393',\n",
       " 'M545',\n",
       " 'K449',\n",
       " 'C341',\n",
       " 'D125',\n",
       " '1010766',\n",
       " 'M2555',\n",
       " 'E039',\n",
       " 'M513',\n",
       " 'S5250',\n",
       " 'W199',\n",
       " 'M5456',\n",
       " 'M758',\n",
       " 'T925',\n",
       " 'Y86',\n",
       " '1011576',\n",
       " 'N921',\n",
       " 'N72',\n",
       " 'N841',\n",
       " 'N800',\n",
       " 'N830',\n",
       " 'N840',\n",
       " 'E109',\n",
       " '1013216',\n",
       " 'O13',\n",
       " 'O700',\n",
       " 'Z370',\n",
       " '1013477',\n",
       " 'K210',\n",
       " 'K579',\n",
       " 'M7986',\n",
       " 'R600',\n",
       " 'I251',\n",
       " 'Z824',\n",
       " 'H258',\n",
       " '1013654',\n",
       " 'D24',\n",
       " 'N63',\n",
       " '1013666',\n",
       " 'G551',\n",
       " 'M511',\n",
       " 'Z924',\n",
       " 'C440',\n",
       " '1016220',\n",
       " 'L905',\n",
       " '1016238',\n",
       " 'I48',\n",
       " 'Z867',\n",
       " 'Z922',\n",
       " 'F171',\n",
       " 'Z951',\n",
       " '1016355',\n",
       " 'N920',\n",
       " 'Z121',\n",
       " '1017363',\n",
       " 'H189',\n",
       " 'H438',\n",
       " 'H578',\n",
       " 'H259',\n",
       " '1017594',\n",
       " 'K638',\n",
       " '1017753',\n",
       " 'A419',\n",
       " 'Y836',\n",
       " 'Z466',\n",
       " '1018052',\n",
       " 'Z720',\n",
       " '1018836',\n",
       " 'D259',\n",
       " 'N831',\n",
       " 'N832',\n",
       " 'N838',\n",
       " '1019086',\n",
       " 'F329',\n",
       " 'F023',\n",
       " 'G20',\n",
       " 'R32',\n",
       " 'G318',\n",
       " 'R296',\n",
       " 'Z739',\n",
       " 'J690',\n",
       " 'R05',\n",
       " 'R068',\n",
       " 'R060',\n",
       " 'R13',\n",
       " 'E86',\n",
       " 'E870',\n",
       " '1019301',\n",
       " 'C504',\n",
       " 'C442',\n",
       " 'C446',\n",
       " 'L400',\n",
       " 'Z901',\n",
       " 'Z907',\n",
       " 'L989',\n",
       " 'G439',\n",
       " 'Z853',\n",
       " 'C434',\n",
       " 'E669',\n",
       " 'I639',\n",
       " 'C787',\n",
       " 'I678',\n",
       " 'I679',\n",
       " 'K768',\n",
       " 'M8098',\n",
       " 'C447',\n",
       " 'C509',\n",
       " 'I260',\n",
       " 'C435',\n",
       " 'D509',\n",
       " 'Z928',\n",
       " '1021269',\n",
       " '1021804',\n",
       " 'M4806',\n",
       " 'M2424',\n",
       " 'G409',\n",
       " 'N811',\n",
       " 'I38',\n",
       " 'S0280',\n",
       " 'S0660',\n",
       " 'W019',\n",
       " 'I730',\n",
       " 'L022',\n",
       " 'Z721',\n",
       " '1022314',\n",
       " 'D27',\n",
       " 'K352',\n",
       " 'K439',\n",
       " 'K469',\n",
       " 'R101',\n",
       " 'K227',\n",
       " '1022342',\n",
       " 'F100',\n",
       " 'S008',\n",
       " 'W100',\n",
       " 'E078',\n",
       " 'H570',\n",
       " 'N871',\n",
       " 'K631',\n",
       " 'K650',\n",
       " 'C56',\n",
       " 'R21',\n",
       " 'D70',\n",
       " 'Z530',\n",
       " 'K660',\n",
       " 'G629',\n",
       " 'B968',\n",
       " 'L738',\n",
       " '1022731',\n",
       " 'J351',\n",
       " 'R065',\n",
       " 'L021',\n",
       " 'R590',\n",
       " 'L721',\n",
       " 'J22',\n",
       " 'B953',\n",
       " 'J981',\n",
       " 'F420',\n",
       " 'I712',\n",
       " 'R208',\n",
       " 'Z823',\n",
       " '1023134',\n",
       " 'N411',\n",
       " 'I200',\n",
       " 'N428',\n",
       " 'K625',\n",
       " 'I252',\n",
       " 'I443',\n",
       " 'Z538',\n",
       " 'Z870',\n",
       " 'I422',\n",
       " 'I442',\n",
       " 'Z514',\n",
       " 'R931',\n",
       " 'I441',\n",
       " '1023646',\n",
       " 'Z885',\n",
       " 'F402',\n",
       " 'I272',\n",
       " 'Z092',\n",
       " 'I270',\n",
       " 'Z048',\n",
       " '1023657',\n",
       " 'M202',\n",
       " 'H522',\n",
       " '1024170',\n",
       " '1024267',\n",
       " 'F051',\n",
       " 'R908',\n",
       " 'E538',\n",
       " '1024484',\n",
       " 'M720',\n",
       " '1024741',\n",
       " 'K590',\n",
       " 'K267',\n",
       " 'K760',\n",
       " 'G510',\n",
       " 'K317',\n",
       " 'H024',\n",
       " '1025115',\n",
       " 'W015',\n",
       " 'M8199',\n",
       " 'W220',\n",
       " 'Z028',\n",
       " 'M819',\n",
       " 'S5200',\n",
       " '1025164',\n",
       " 'M512',\n",
       " '1025259',\n",
       " 'R51',\n",
       " '1025494',\n",
       " 'T841',\n",
       " 'M4799',\n",
       " 'M5459',\n",
       " 'Z031',\n",
       " '1025610',\n",
       " 'K805',\n",
       " 'T855',\n",
       " 'Z458',\n",
       " '1026436',\n",
       " 'I841',\n",
       " 'I846',\n",
       " 'K620',\n",
       " 'L720',\n",
       " 'K602',\n",
       " 'K623',\n",
       " 'K529',\n",
       " 'K603',\n",
       " 'Z136',\n",
       " '1026572',\n",
       " 'R11',\n",
       " 'T845',\n",
       " 'Y831',\n",
       " '1026735',\n",
       " 'J029',\n",
       " 'A048',\n",
       " 'I739',\n",
       " 'J111',\n",
       " 'S009',\n",
       " 'W190',\n",
       " '1027107',\n",
       " 'L578',\n",
       " 'D033',\n",
       " '1027362',\n",
       " 'E872',\n",
       " 'K565',\n",
       " 'Q430',\n",
       " 'Z873',\n",
       " '1028298',\n",
       " 'N858',\n",
       " 'Z800',\n",
       " '1028618',\n",
       " 'Z882',\n",
       " 'Z886',\n",
       " '1029166',\n",
       " 'I269',\n",
       " 'M205',\n",
       " 'M960',\n",
       " '1030858',\n",
       " 'H669',\n",
       " 'R011',\n",
       " 'H71',\n",
       " 'I351',\n",
       " 'K148',\n",
       " '1031306',\n",
       " 'N23',\n",
       " '1032224',\n",
       " 'M2577',\n",
       " '1032282',\n",
       " 'Z512',\n",
       " 'M8198',\n",
       " 'M1999',\n",
       " 'L439',\n",
       " 'M8190',\n",
       " '1032787',\n",
       " 'M5499',\n",
       " 'R202',\n",
       " '1033236',\n",
       " 'S826',\n",
       " 'X509',\n",
       " '1033402',\n",
       " 'H045',\n",
       " 'R221',\n",
       " 'D039',\n",
       " 'M069',\n",
       " 'M6594',\n",
       " 'A045',\n",
       " 'Z035',\n",
       " 'K222',\n",
       " '1033534',\n",
       " 'C505',\n",
       " 'Z511',\n",
       " 'Z510',\n",
       " 'M7909',\n",
       " 'T825',\n",
       " 'R933',\n",
       " 'M350',\n",
       " 'M674',\n",
       " 'M7979',\n",
       " '1034062',\n",
       " 'D131',\n",
       " 'G442',\n",
       " 'N816',\n",
       " 'D313',\n",
       " 'F412',\n",
       " 'H023',\n",
       " 'R630',\n",
       " 'F419',\n",
       " 'K291',\n",
       " 'K921',\n",
       " 'J010',\n",
       " 'J069',\n",
       " '1034297',\n",
       " 'H402',\n",
       " 'T858',\n",
       " 'C772',\n",
       " 'C786',\n",
       " 'C809',\n",
       " 'C796',\n",
       " 'H538',\n",
       " 'R410',\n",
       " 'I634',\n",
       " 'G819',\n",
       " 'H534',\n",
       " 'I669',\n",
       " 'R470',\n",
       " 'R509',\n",
       " 'Z452',\n",
       " 'B962',\n",
       " 'C785',\n",
       " 'D508',\n",
       " 'J81',\n",
       " 'T835',\n",
       " 'C570',\n",
       " 'S7200',\n",
       " 'W060',\n",
       " 'I64',\n",
       " 'U85',\n",
       " 'Z803',\n",
       " 'R298',\n",
       " 'S709',\n",
       " 'W070',\n",
       " 'A415',\n",
       " 'H409',\n",
       " 'H919',\n",
       " 'R798',\n",
       " 'Z738',\n",
       " 'J9600',\n",
       " 'N136',\n",
       " 'Z505',\n",
       " 'Z713',\n",
       " 'N132',\n",
       " '1034470',\n",
       " 'J969',\n",
       " 'M419',\n",
       " 'H400',\n",
       " 'I279',\n",
       " 'Q675',\n",
       " 'Z223',\n",
       " 'Z991',\n",
       " 'Z999',\n",
       " 'Z998',\n",
       " 'Q244',\n",
       " 'J961',\n",
       " 'Q248',\n",
       " 'J00',\n",
       " 'Z098',\n",
       " 'M4199',\n",
       " 'G560',\n",
       " 'I421',\n",
       " 'H809',\n",
       " 'J960',\n",
       " 'J984',\n",
       " 'M4194',\n",
       " 'R090',\n",
       " 'J988',\n",
       " 'R730',\n",
       " 'Z990',\n",
       " 'E559',\n",
       " 'I498',\n",
       " 'J9691',\n",
       " 'E611',\n",
       " 'Z993',\n",
       " 'J9619',\n",
       " 'L892',\n",
       " 'I271',\n",
       " 'J9611',\n",
       " 'J9601',\n",
       " 'I460',\n",
       " 'R680',\n",
       " '1035035',\n",
       " 'S8280',\n",
       " 'W0131',\n",
       " '1035200',\n",
       " 'F410',\n",
       " 'B980',\n",
       " 'M480',\n",
       " 'M543',\n",
       " 'E876',\n",
       " 'W180',\n",
       " '1035745',\n",
       " 'N508',\n",
       " 'Q213',\n",
       " 'J301',\n",
       " 'K831',\n",
       " 'K859',\n",
       " '1035806',\n",
       " 'N280',\n",
       " 'S0630',\n",
       " 'S0680',\n",
       " 'S2210',\n",
       " 'S2240',\n",
       " 'S2720',\n",
       " 'S2780',\n",
       " 'S3270',\n",
       " 'S353',\n",
       " 'S3600',\n",
       " 'S3610',\n",
       " 'S3680',\n",
       " 'S3700',\n",
       " 'K918',\n",
       " 'Z509',\n",
       " 'J189',\n",
       " 'K29',\n",
       " 'Z931',\n",
       " 'H109',\n",
       " 'H532',\n",
       " 'K117',\n",
       " 'S018',\n",
       " 'W062',\n",
       " 'R451',\n",
       " 'R471',\n",
       " 'Z431',\n",
       " 'G122',\n",
       " 'Z878',\n",
       " 'W789',\n",
       " 'G119',\n",
       " 'T905',\n",
       " 'Y833',\n",
       " 'Y850',\n",
       " 'G931',\n",
       " 'E833',\n",
       " '1037521',\n",
       " 'M7966',\n",
       " 'D172',\n",
       " '1037553',\n",
       " 'L570',\n",
       " 'R234',\n",
       " 'S4220',\n",
       " 'W198',\n",
       " 'G700',\n",
       " 'K224',\n",
       " 'N182',\n",
       " '1040365',\n",
       " 'I258',\n",
       " 'N308',\n",
       " 'N359',\n",
       " 'Z910',\n",
       " 'I208',\n",
       " '1040633',\n",
       " 'T815',\n",
       " 'E041',\n",
       " '1040723',\n",
       " 'Z340',\n",
       " 'O688',\n",
       " 'O821',\n",
       " 'O039',\n",
       " 'S661',\n",
       " '1040835',\n",
       " 'G500',\n",
       " '1041483',\n",
       " '1041668',\n",
       " 'M2497',\n",
       " 'M2447',\n",
       " '1042123',\n",
       " 'D171',\n",
       " 'K358',\n",
       " '1042263',\n",
       " 'N393',\n",
       " 'Z718',\n",
       " 'Z018',\n",
       " 'L030',\n",
       " 'T793',\n",
       " 'W450',\n",
       " 'R100',\n",
       " 'Z837',\n",
       " 'S0600',\n",
       " 'S099',\n",
       " 'W189',\n",
       " 'H509',\n",
       " 'M518',\n",
       " 'M169',\n",
       " 'M8998',\n",
       " 'I480',\n",
       " 'Q231',\n",
       " 'M542',\n",
       " '1042858',\n",
       " 'L600',\n",
       " '1043447',\n",
       " 'S010',\n",
       " '1044488',\n",
       " 'R12',\n",
       " '1045143',\n",
       " 'E785',\n",
       " 'R35',\n",
       " 'N488',\n",
       " 'J929',\n",
       " 'I652',\n",
       " 'U801',\n",
       " 'I447',\n",
       " 'Z572',\n",
       " 'D638',\n",
       " 'K140',\n",
       " '1045240',\n",
       " '1046705',\n",
       " 'N850',\n",
       " '1046722',\n",
       " 'G253',\n",
       " 'R253',\n",
       " 'E162',\n",
       " 'G258',\n",
       " '1046776',\n",
       " 'C437',\n",
       " 'G249',\n",
       " 'D037',\n",
       " 'C792',\n",
       " '1047415',\n",
       " '1047989',\n",
       " 'S911',\n",
       " 'W270',\n",
       " '1048063',\n",
       " 'O034',\n",
       " 'O680',\n",
       " 'Z302',\n",
       " '1049024',\n",
       " 'F600',\n",
       " 'S6230',\n",
       " 'X792',\n",
       " 'Z915',\n",
       " 'Z916',\n",
       " 'M8646',\n",
       " 'B956',\n",
       " 'L97',\n",
       " 'M8666',\n",
       " 'T932',\n",
       " 'T876',\n",
       " 'Y835',\n",
       " 'H543',\n",
       " 'I211',\n",
       " 'M869',\n",
       " 'Z896',\n",
       " 'Z955',\n",
       " 'K259',\n",
       " '1049578',\n",
       " 'M6596',\n",
       " 'Z881',\n",
       " '1049741',\n",
       " 'I842',\n",
       " 'I845',\n",
       " '1050854',\n",
       " 'Z362',\n",
       " 'O360',\n",
       " '1051043',\n",
       " 'M232',\n",
       " 'N47',\n",
       " 'N480',\n",
       " 'M1901',\n",
       " 'M754',\n",
       " '1051565',\n",
       " 'D051',\n",
       " 'C773',\n",
       " 'K029',\n",
       " 'E042',\n",
       " 'C795',\n",
       " 'M9072',\n",
       " 'S460',\n",
       " 'C903',\n",
       " 'K521',\n",
       " 'R000',\n",
       " 'Y433',\n",
       " 'L299',\n",
       " 'C900',\n",
       " 'M7983',\n",
       " 'D180',\n",
       " 'Z290',\n",
       " '1052143',\n",
       " 'E059',\n",
       " 'M2116',\n",
       " '1052850',\n",
       " 'O639',\n",
       " 'O021',\n",
       " 'H539',\n",
       " 'O120',\n",
       " 'O268',\n",
       " 'O441',\n",
       " 'O993',\n",
       " 'R030',\n",
       " 'O149',\n",
       " 'O342',\n",
       " 'O440',\n",
       " 'Z000',\n",
       " 'N808',\n",
       " '1053572',\n",
       " 'K079',\n",
       " '1054500',\n",
       " '1054975',\n",
       " '1055730',\n",
       " 'C169',\n",
       " 'C798',\n",
       " 'C166',\n",
       " 'Z515',\n",
       " 'C771',\n",
       " 'C780',\n",
       " 'D696',\n",
       " '1056325',\n",
       " '1059096',\n",
       " 'C541',\n",
       " 'C782',\n",
       " 'B374',\n",
       " 'B99',\n",
       " 'Z513',\n",
       " 'R572',\n",
       " '1061751',\n",
       " 'F321',\n",
       " 'F628',\n",
       " 'K359',\n",
       " 'R398',\n",
       " 'G379',\n",
       " 'S399',\n",
       " 'W010',\n",
       " 'G35',\n",
       " 'M4855',\n",
       " 'S001',\n",
       " 'F39',\n",
       " '1063114',\n",
       " 'Z368',\n",
       " 'M206',\n",
       " '1063381',\n",
       " 'I219',\n",
       " 'S159',\n",
       " 'V425',\n",
       " 'F172',\n",
       " 'I808',\n",
       " 'Z602',\n",
       " '1063530',\n",
       " 'Z808',\n",
       " 'Z835',\n",
       " 'F101',\n",
       " 'M6595',\n",
       " '1063696',\n",
       " 'K85',\n",
       " 'K861',\n",
       " 'G900',\n",
       " 'Z450',\n",
       " '1064380',\n",
       " '1065102',\n",
       " 'O800',\n",
       " 'K419',\n",
       " 'Z872',\n",
       " '1065166',\n",
       " 'Y579',\n",
       " 'Z130',\n",
       " 'F102',\n",
       " 'Z089',\n",
       " 'Z539',\n",
       " '1065407',\n",
       " 'M771',\n",
       " 'E804',\n",
       " 'L032',\n",
       " '1065962',\n",
       " 'M2557',\n",
       " '1066434',\n",
       " 'R14',\n",
       " '1066462',\n",
       " '1066902',\n",
       " '1068705',\n",
       " 'X505',\n",
       " 'I471',\n",
       " '1069472',\n",
       " 'J339',\n",
       " 'I518',\n",
       " 'D176',\n",
       " '1069674',\n",
       " 'C441',\n",
       " 'G960',\n",
       " 'G978',\n",
       " 'M2578',\n",
       " 'M500',\n",
       " 'Y600',\n",
       " 'D619',\n",
       " 'G824',\n",
       " 'M213',\n",
       " 'Z960',\n",
       " '1069983',\n",
       " 'S2200',\n",
       " 'W109',\n",
       " 'S019',\n",
       " 'J439',\n",
       " 'J440',\n",
       " 'H333',\n",
       " 'J47',\n",
       " 'J151',\n",
       " 'R040',\n",
       " 'E213',\n",
       " 'R452',\n",
       " 'J441',\n",
       " 'X599',\n",
       " 'Z587',\n",
       " 'J448',\n",
       " 'I249',\n",
       " 'Y450',\n",
       " 'M4024',\n",
       " 'B974',\n",
       " '1070737',\n",
       " '1070748',\n",
       " 'M2411',\n",
       " 'M2421',\n",
       " 'M2441',\n",
       " 'M751',\n",
       " 'M1991',\n",
       " 'K299',\n",
       " '1070776',\n",
       " 'R937',\n",
       " 'C185',\n",
       " 'L858',\n",
       " '1070830',\n",
       " 'N701',\n",
       " 'H610',\n",
       " '1070924',\n",
       " 'D34',\n",
       " 'E890',\n",
       " '1072415',\n",
       " 'N736',\n",
       " 'F339',\n",
       " 'M2323',\n",
       " 'M5439',\n",
       " 'N815',\n",
       " '1073125',\n",
       " 'N946',\n",
       " 'M8796',\n",
       " '1074260',\n",
       " 'C508',\n",
       " '1074593',\n",
       " 'N329',\n",
       " 'R876',\n",
       " 'C539',\n",
       " 'D251',\n",
       " 'D097',\n",
       " 'Z451',\n",
       " 'Y842',\n",
       " 'Z834',\n",
       " '1075082',\n",
       " 'L729',\n",
       " '1075696',\n",
       " 'D124',\n",
       " '1075773',\n",
       " 'L819',\n",
       " 'M2137',\n",
       " 'M544',\n",
       " 'H540',\n",
       " 'M4809',\n",
       " 'M8988',\n",
       " 'S002',\n",
       " 'S012',\n",
       " 'S0240',\n",
       " 'R15',\n",
       " 'R568',\n",
       " 'M5417',\n",
       " 'H355',\n",
       " 'K643',\n",
       " 'M4800',\n",
       " 'F028',\n",
       " 'S000',\n",
       " 'K223',\n",
       " 'K830',\n",
       " 'Z758',\n",
       " '1075961',\n",
       " 'K550',\n",
       " 'Z099',\n",
       " 'K045',\n",
       " 'K088',\n",
       " 'G562',\n",
       " ...]"
      ]
     },
     "execution_count": 56,
     "metadata": {},
     "output_type": "execute_result"
    }
   ],
   "source": [
    "keys"
   ]
  },
  {
   "cell_type": "code",
   "execution_count": 57,
   "id": "5a35106a-8a80-4f35-8a2e-10b5c87989da",
   "metadata": {},
   "outputs": [],
   "source": [
    "# 保存\n",
    "with open('/home/llma/wzy/comorbidity/Data/keys.json', 'w') as f:\n",
    "    json.dump(keys, f)"
   ]
  },
  {
   "cell_type": "code",
   "execution_count": 58,
   "id": "be7aa2b4-01c1-4b84-9081-c2b0d879661d",
   "metadata": {},
   "outputs": [],
   "source": [
    "np.save('/home/llma/wzy/comorbidity/Data/UKB_node_feature_gpt.npy', matrix)"
   ]
  },
  {
   "cell_type": "markdown",
   "id": "efc8354f-b4d7-4f8e-842e-29f46fa8fa47",
   "metadata": {},
   "source": [
    "## split train data, validation data, test data"
   ]
  },
  {
   "cell_type": "code",
   "execution_count": 126,
   "id": "071417c1-b933-45da-bf55-37847c6a77ee",
   "metadata": {},
   "outputs": [],
   "source": [
    "merged_df_long = pd.read_csv('/home/llma/wzy/comorbidity/Data/merged_df_long_convert.txt', sep='\\t')"
   ]
  },
  {
   "cell_type": "code",
   "execution_count": 127,
   "id": "ed47b2df-487c-4837-a0c1-d914e24ed9a4",
   "metadata": {},
   "outputs": [
    {
     "data": {
      "text/html": [
       "<div>\n",
       "<style scoped>\n",
       "    .dataframe tbody tr th:only-of-type {\n",
       "        vertical-align: middle;\n",
       "    }\n",
       "\n",
       "    .dataframe tbody tr th {\n",
       "        vertical-align: top;\n",
       "    }\n",
       "\n",
       "    .dataframe thead th {\n",
       "        text-align: right;\n",
       "    }\n",
       "</style>\n",
       "<table border=\"1\" class=\"dataframe\">\n",
       "  <thead>\n",
       "    <tr style=\"text-align: right;\">\n",
       "      <th></th>\n",
       "      <th>node1</th>\n",
       "      <th>node2</th>\n",
       "      <th>relationship</th>\n",
       "    </tr>\n",
       "  </thead>\n",
       "  <tbody>\n",
       "    <tr>\n",
       "      <th>0</th>\n",
       "      <td>1002133</td>\n",
       "      <td>I802</td>\n",
       "      <td>1</td>\n",
       "    </tr>\n",
       "    <tr>\n",
       "      <th>1</th>\n",
       "      <td>1002133</td>\n",
       "      <td>M1997</td>\n",
       "      <td>1</td>\n",
       "    </tr>\n",
       "  </tbody>\n",
       "</table>\n",
       "</div>"
      ],
      "text/plain": [
       "     node1  node2  relationship\n",
       "0  1002133   I802             1\n",
       "1  1002133  M1997             1"
      ]
     },
     "execution_count": 127,
     "metadata": {},
     "output_type": "execute_result"
    }
   ],
   "source": [
    "merged_df_long.head(2)"
   ]
  },
  {
   "cell_type": "code",
   "execution_count": 119,
   "id": "d41bccfb-50e2-4746-aab2-aebcd879a6d6",
   "metadata": {},
   "outputs": [],
   "source": [
    "def split_data_by_patient_id(data_df, patient_id_col='node1', ratios=[7, 2, 1], random_seed=42):\n",
    "    \"\"\"\n",
    "    根据病人ID将数据框按指定比例划分为多个子集，确保各子集间病人ID无重叠\n",
    "    \n",
    "    参数:\n",
    "    data_df: pandas.DataFrame - 输入的数据框\n",
    "    patient_id_col: str - 病人ID所在的列名，默认为'node1'\n",
    "    ratios: list - 划分比例，默认为[7, 2, 1]\n",
    "    random_seed: int - 随机数种子，确保结果可重现\n",
    "    \n",
    "    返回:\n",
    "    tuple - 划分后的多个数据框\n",
    "    \"\"\"\n",
    "    # 设置随机种子\n",
    "    np.random.seed(random_seed)\n",
    "    \n",
    "    # 获取唯一的病人ID\n",
    "    unique_patient_ids = data_df[patient_id_col].unique()\n",
    "    total_patients = len(unique_patient_ids)\n",
    "    \n",
    "    # 计算各部分应占的病人数量\n",
    "    ratio_sum = sum(ratios)\n",
    "    parts = []\n",
    "    remaining = total_patients\n",
    "    \n",
    "    for i, ratio in enumerate(ratios[:-1]):\n",
    "        # 计算当前部分的病人数量，四舍五入\n",
    "        current_size = round(total_patients * ratio / ratio_sum)\n",
    "        # 确保不会超出总人数\n",
    "        current_size = min(current_size, remaining)\n",
    "        parts.append(current_size)\n",
    "        remaining -= current_size\n",
    "    \n",
    "    # 最后一部分包含剩余的所有病人\n",
    "    parts.append(remaining)\n",
    "    \n",
    "    # 随机打乱病人ID\n",
    "    shuffled_ids = np.random.permutation(unique_patient_ids)\n",
    "    \n",
    "    # 划分病人ID\n",
    "    split_points = [0]\n",
    "    for size in parts:\n",
    "        split_points.append(split_points[-1] + size)\n",
    "    \n",
    "    patient_groups = [\n",
    "        shuffled_ids[split_points[i]:split_points[i+1]]\n",
    "        for i in range(len(parts))\n",
    "    ]\n",
    "    \n",
    "    # 根据病人ID划分数据\n",
    "    data_groups = [\n",
    "        data_df[data_df[patient_id_col].isin(patients)]\n",
    "        for patients in patient_groups\n",
    "    ]\n",
    "    \n",
    "    return tuple(data_groups)"
   ]
  },
  {
   "cell_type": "code",
   "execution_count": 120,
   "id": "d552b069-31bf-4a77-87e3-1423a057e723",
   "metadata": {},
   "outputs": [],
   "source": [
    "train_data, val_data, test_data = split_data_by_patient_id(\n",
    "    data_df=merged_df_long,          # 你的原始数据框\n",
    "    patient_id_col='node1',  # 病人ID列\n",
    "    ratios=[7, 2, 1],   # 对应测试集:验证集:训练集\n",
    "    random_seed=42      # 可设置随机种子确保结果可重现\n",
    ")"
   ]
  },
  {
   "cell_type": "code",
   "execution_count": 121,
   "id": "bdb40a64-fec0-4bd0-935b-2ed5d60a3a6a",
   "metadata": {},
   "outputs": [
    {
     "name": "stdout",
     "output_type": "stream",
     "text": [
      "训练集: 11047782 行\n",
      "验证集: 3158636 行\n",
      "测试集: 1582955 行\n"
     ]
    }
   ],
   "source": [
    "# 查看各部分大小\n",
    "print(f\"训练集: {len(train_data)} 行\")\n",
    "print(f\"验证集: {len(val_data)} 行\")\n",
    "print(f\"测试集: {len(test_data)} 行\")"
   ]
  },
  {
   "cell_type": "code",
   "execution_count": 122,
   "id": "25232b5a-28b1-4894-960e-d55504bf1865",
   "metadata": {},
   "outputs": [],
   "source": [
    "train_data.to_csv('/home/llma/wzy/comorbidity/Data/train_data.txt', sep='\\t', na_rep='nan', index=False)\n",
    "val_data.to_csv('/home/llma/wzy/comorbidity/Data/val_data.txt', sep='\\t', na_rep='nan', index=False)\n",
    "test_data.to_csv('/home/llma/wzy/comorbidity/Data/test_data.txt', sep='\\t', na_rep='nan', index=False)"
   ]
  },
  {
   "cell_type": "code",
   "execution_count": 123,
   "id": "1fc7151e-3110-47c1-9b81-13664271594c",
   "metadata": {},
   "outputs": [
    {
     "data": {
      "text/html": [
       "<div>\n",
       "<style scoped>\n",
       "    .dataframe tbody tr th:only-of-type {\n",
       "        vertical-align: middle;\n",
       "    }\n",
       "\n",
       "    .dataframe tbody tr th {\n",
       "        vertical-align: top;\n",
       "    }\n",
       "\n",
       "    .dataframe thead th {\n",
       "        text-align: right;\n",
       "    }\n",
       "</style>\n",
       "<table border=\"1\" class=\"dataframe\">\n",
       "  <thead>\n",
       "    <tr style=\"text-align: right;\">\n",
       "      <th></th>\n",
       "      <th>node1</th>\n",
       "      <th>node2</th>\n",
       "      <th>relationship</th>\n",
       "    </tr>\n",
       "  </thead>\n",
       "  <tbody>\n",
       "    <tr>\n",
       "      <th>0</th>\n",
       "      <td>1002133</td>\n",
       "      <td>I802</td>\n",
       "      <td>1</td>\n",
       "    </tr>\n",
       "    <tr>\n",
       "      <th>1</th>\n",
       "      <td>1002133</td>\n",
       "      <td>M1997</td>\n",
       "      <td>1</td>\n",
       "    </tr>\n",
       "  </tbody>\n",
       "</table>\n",
       "</div>"
      ],
      "text/plain": [
       "     node1  node2  relationship\n",
       "0  1002133   I802             1\n",
       "1  1002133  M1997             1"
      ]
     },
     "execution_count": 123,
     "metadata": {},
     "output_type": "execute_result"
    }
   ],
   "source": [
    "train_data.head(2)"
   ]
  },
  {
   "cell_type": "code",
   "execution_count": 6,
   "id": "52f5ba34-cb93-4012-a6e2-22b8ffbb49c5",
   "metadata": {},
   "outputs": [],
   "source": [
    "def prepareInputData(adj_path,\n",
    "                     graph_path_save,\n",
    "                     protein_embeddings_path,\n",
    "                     gpt_embeddings_path,\n",
    "                     metabolite_embeddings_path,\n",
    "                     icd10_embeddings_path,\n",
    "                     UKB_node_feature_save\n",
    "                     ):\n",
    "    X, A, Y = [], None, []\n",
    "    n_node = 0\n",
    "    \n",
    "    # Acquire Edges\n",
    "    edge_list = []\n",
    "    node_list = []\n",
    "    node_type = {}\n",
    "    relationship_list = []\n",
    "    \n",
    "    with open(adj_path, 'rt', encoding='utf-8') as f:\n",
    "        next(f)\n",
    "        for line in f.readlines():\n",
    "            node1, node2, relationship, *_ = line.strip().split('\\t')\n",
    "            edge_list.append((node1, node2))\n",
    "            node_list.extend([node1, node2])\n",
    "            relationship_list.append(relationship)\n",
    "    \n",
    "    node_map = {item: i for i, item in enumerate(sorted(list(set(node_list))))}\n",
    "    n_node = len(node_map)\n",
    "    \n",
    "    # 使用稀疏矩阵存储邻接关系\n",
    "    row = []\n",
    "    col = []\n",
    "    data = []\n",
    "    for i, (node1, node2) in enumerate(edge_list):\n",
    "        row.append(node_map[node1])\n",
    "        col.append(node_map[node2])\n",
    "        data.append(relationship_list[i])  # 使用实际的关系值\n",
    "        row.append(node_map[node2])\n",
    "        col.append(node_map[node1])\n",
    "        data.append(relationship_list[i])  # 使用实际的关系值\n",
    "    A = csr_matrix((data, (row, col)), shape=(n_node, n_node), dtype=np.float32)\n",
    "    \n",
    "    adj_matrix = pd.read_csv(adj_path, sep='\\t')\n",
    "    # 构建图所需的边列表\n",
    "    edges = [(row['node1'], row['node2'], row['relationship']) for _, row in adj_matrix.iterrows()]\n",
    "    \n",
    "    # 构建图\n",
    "    graph = Graph(edges, directed=False, weighted=True)\n",
    "    # 保存图对象\n",
    "    with open(graph_path_save, 'wb') as f:\n",
    "        pickle.dump(graph, f)\n",
    "\n",
    "    with open(protein_embeddings_path, 'rb') as f:\n",
    "        protein_embeddings_dict = pickle.load(f)\n",
    "\n",
    "    with open(gpt_embeddings_path, 'rb') as f:\n",
    "        embeddings_dict = pickle.load(f)\n",
    "    \n",
    "    with open(metabolite_embeddings_path, 'rb') as f:\n",
    "        metabolite_embeddings_dict = pickle.load(f)\n",
    "\n",
    "    with open(icd10_embeddings_path, 'rb') as f:\n",
    "        icd10_embeddings_dict = pickle.load(f)\n",
    "    \n",
    "    # 创建新字典，保留原始字典不变\n",
    "    merged_dict = {**protein_embeddings_dict, **embeddings_dict, **metabolite_embeddings_dict, **icd10_embeddings_dict}\n",
    "    # 提取所有键并保持顺序（Python 3.7+ 字典保持插入顺序）\n",
    "    keys = list(graph.node_names)\n",
    "    \n",
    "    # 将字典值转换为NumPy矩阵（每行一个向量）\n",
    "    matrix = np.array([merged_dict[key] for key in keys])\n",
    "    # 检查矩阵形状\n",
    "    print(\"矩阵形状:\", matrix.shape)  # 输出: (47626, 向量维度)\n",
    "    np.save(UKB_node_feature_save, matrix)"
   ]
  },
  {
   "cell_type": "code",
   "execution_count": 125,
   "id": "15f656c5-43a4-42c8-9744-d6a2a2bf9591",
   "metadata": {},
   "outputs": [
    {
     "name": "stderr",
     "output_type": "stream",
     "text": [
      "                                                                                                                                                            "
     ]
    },
    {
     "ename": "KeyError",
     "evalue": "'I802'",
     "output_type": "error",
     "traceback": [
      "\u001b[31m---------------------------------------------------------------------------\u001b[39m",
      "\u001b[31mKeyError\u001b[39m                                  Traceback (most recent call last)",
      "\u001b[36mCell\u001b[39m\u001b[36m \u001b[39m\u001b[32mIn[125]\u001b[39m\u001b[32m, line 1\u001b[39m\n\u001b[32m----> \u001b[39m\u001b[32m1\u001b[39m \u001b[43mprepareInputData\u001b[49m\u001b[43m(\u001b[49m\u001b[43madj_path\u001b[49m\u001b[43m=\u001b[49m\u001b[33;43m'\u001b[39;49m\u001b[33;43m/home/llma/wzy/comorbidity/Data/train_data.txt\u001b[39;49m\u001b[33;43m'\u001b[39;49m\u001b[43m,\u001b[49m\n\u001b[32m      2\u001b[39m \u001b[43m                 \u001b[49m\u001b[43mgraph_path_save\u001b[49m\u001b[43m=\u001b[49m\u001b[33;43m'\u001b[39;49m\u001b[33;43m/home/llma/wzy/comorbidity/Data/train_graph.pkl\u001b[39;49m\u001b[33;43m'\u001b[39;49m\u001b[43m,\u001b[49m\n\u001b[32m      3\u001b[39m \u001b[43m                 \u001b[49m\u001b[43mprotein_embeddings_path\u001b[49m\u001b[43m=\u001b[49m\u001b[33;43m'\u001b[39;49m\u001b[33;43m/home/llma/wzy/comorbidity/Data/gpt_protein_embeddings_dict.pkl\u001b[39;49m\u001b[33;43m'\u001b[39;49m\u001b[43m,\u001b[49m\n\u001b[32m      4\u001b[39m \u001b[43m                 \u001b[49m\u001b[43mgpt_embeddings_path\u001b[49m\u001b[43m=\u001b[49m\u001b[33;43m'\u001b[39;49m\u001b[33;43m/home/llma/wzy/comorbidity/Data/gpt_embeddings_dict.pkl\u001b[39;49m\u001b[33;43m'\u001b[39;49m\u001b[43m,\u001b[49m\n\u001b[32m      5\u001b[39m \u001b[43m                 \u001b[49m\u001b[43mmetabolite_embeddings_path\u001b[49m\u001b[43m=\u001b[49m\u001b[33;43m'\u001b[39;49m\u001b[33;43m/home/llma/wzy/comorbidity/Data/metabolite_embeddings_dict.pkl\u001b[39;49m\u001b[33;43m'\u001b[39;49m\u001b[43m,\u001b[49m\n\u001b[32m      6\u001b[39m \u001b[43m                 \u001b[49m\u001b[43mUKB_node_feature_save\u001b[49m\u001b[43m=\u001b[49m\u001b[33;43m'\u001b[39;49m\u001b[33;43m/home/llma/wzy/comorbidity/Data/UKB_node_feature_gpt_train.npy\u001b[39;49m\u001b[33;43m'\u001b[39;49m\n\u001b[32m      7\u001b[39m \u001b[43m                     \u001b[49m\u001b[43m)\u001b[49m\n",
      "\u001b[36mCell\u001b[39m\u001b[36m \u001b[39m\u001b[32mIn[124]\u001b[39m\u001b[32m, line 66\u001b[39m, in \u001b[36mprepareInputData\u001b[39m\u001b[34m(adj_path, graph_path_save, protein_embeddings_path, gpt_embeddings_path, metabolite_embeddings_path, UKB_node_feature_save)\u001b[39m\n\u001b[32m     63\u001b[39m keys = \u001b[38;5;28mlist\u001b[39m(graph.node_names)\n\u001b[32m     65\u001b[39m \u001b[38;5;66;03m# 将字典值转换为NumPy矩阵（每行一个向量）\u001b[39;00m\n\u001b[32m---> \u001b[39m\u001b[32m66\u001b[39m matrix = np.array([\u001b[43mmerged_dict\u001b[49m\u001b[43m[\u001b[49m\u001b[43mkey\u001b[49m\u001b[43m]\u001b[49m \u001b[38;5;28;01mfor\u001b[39;00m key \u001b[38;5;129;01min\u001b[39;00m keys])\n\u001b[32m     67\u001b[39m \u001b[38;5;66;03m# 检查矩阵形状\u001b[39;00m\n\u001b[32m     68\u001b[39m \u001b[38;5;28mprint\u001b[39m(\u001b[33m\"\u001b[39m\u001b[33m矩阵形状:\u001b[39m\u001b[33m\"\u001b[39m, matrix.shape)  \u001b[38;5;66;03m# 输出: (47626, 向量维度)\u001b[39;00m\n",
      "\u001b[31mKeyError\u001b[39m: 'I802'"
     ]
    }
   ],
   "source": [
    "prepareInputData(adj_path='/home/llma/wzy/comorbidity/Data/train_data.txt',\n",
    "                 graph_path_save='/home/llma/wzy/comorbidity/Data/train_graph.pkl',\n",
    "                 protein_embeddings_path='/home/llma/wzy/comorbidity/Data/gpt_protein_embeddings_dict.pkl',\n",
    "                 gpt_embeddings_path='/home/llma/wzy/comorbidity/Data/gpt_embeddings_dict.pkl',\n",
    "                 metabolite_embeddings_path='/home/llma/wzy/comorbidity/Data/metabolite_embeddings_dict.pkl',\n",
    "                 icd10_embeddings_path='/home/llma/wzy/comorbidity/Data/icd10_embeddings_dict.pkl',\n",
    "                 UKB_node_feature_save='/home/llma/wzy/comorbidity/Data/UKB_node_feature_gpt_train.npy'\n",
    "                     )"
   ]
  },
  {
   "cell_type": "code",
   "execution_count": null,
   "id": "2140a5d6-2d3e-40bf-92fe-13f46110dc22",
   "metadata": {},
   "outputs": [],
   "source": [
    "prepareInputData(adj_path='/home/llma/wzy/comorbidity/Data/val_data.txt',\n",
    "                 graph_path_save='/home/llma/wzy/comorbidity/Data/val_graph.pkl',\n",
    "                 protein_embeddings_path='/home/llma/wzy/comorbidity/Data/gpt_protein_embeddings_dict.pkl',\n",
    "                 gpt_embeddings_path='/home/llma/wzy/comorbidity/Data/gpt_embeddings_dict.pkl',\n",
    "                 metabolite_embeddings_path='/home/llma/wzy/comorbidity/Data/metabolite_embeddings_dict.pkl',\n",
    "                 icd10_embeddings_path='/home/llma/wzy/comorbidity/Data/icd10_embeddings_dict.pkl',\n",
    "                 UKB_node_feature_save='/home/llma/wzy/comorbidity/Data/UKB_node_feature_gpt_val.npy'\n",
    "                     )"
   ]
  },
  {
   "cell_type": "code",
   "execution_count": null,
   "id": "8f757829-7311-412f-b02e-82d4eab5abad",
   "metadata": {},
   "outputs": [],
   "source": [
    "prepareInputData(adj_path='/home/llma/wzy/comorbidity/Data/test_data.txt',\n",
    "                 graph_path_save='/home/llma/wzy/comorbidity/Data/test_graph.pkl',\n",
    "                 protein_embeddings_path='/home/llma/wzy/comorbidity/Data/gpt_protein_embeddings_dict.pkl',\n",
    "                 gpt_embeddings_path='/home/llma/wzy/comorbidity/Data/gpt_embeddings_dict.pkl',\n",
    "                 metabolite_embeddings_path='/home/llma/wzy/comorbidity/Data/metabolite_embeddings_dict.pkl',\n",
    "                 icd10_embeddings_path='/home/llma/wzy/comorbidity/Data/icd10_embeddings_dict.pkl',\n",
    "                 UKB_node_feature_save='/home/llma/wzy/comorbidity/Data/UKB_node_feature_gpt_test.npy'\n",
    "                     )"
   ]
  },
  {
   "cell_type": "markdown",
   "id": "f99f1d9e-8697-4c7a-8d2a-7276e571f5d4",
   "metadata": {},
   "source": [
    "## cluster patients and prepare data"
   ]
  },
  {
   "cell_type": "code",
   "execution_count": 128,
   "id": "48e482f8-e37f-4888-b9d9-7087e0a68846",
   "metadata": {},
   "outputs": [],
   "source": [
    "import numpy as np\n",
    "from sklearn.preprocessing import StandardScaler\n",
    "from sklearn.neighbors import NearestNeighbors\n",
    "import umap  # 需要安装umap-learn包\n",
    "import community as community_louvain  # python-louvain包\n",
    "import networkx as nx\n",
    "import matplotlib.pyplot as plt\n",
    "from sklearn.decomposition import PCA"
   ]
  },
  {
   "cell_type": "code",
   "execution_count": 129,
   "id": "84fe48fd-1c68-4413-9d08-6a24d46d9339",
   "metadata": {},
   "outputs": [],
   "source": [
    "with open('/home/llma/wzy/comorbidity/Data/gpt_embeddings_dict.pkl', 'rb') as f:\n",
    "    embeddings_dict = pickle.load(f)"
   ]
  },
  {
   "cell_type": "code",
   "execution_count": 130,
   "id": "fdb0d206-2bd3-42e9-8045-620e1a4f7ea3",
   "metadata": {},
   "outputs": [
    {
     "name": "stdout",
     "output_type": "stream",
     "text": [
      "键 '1000021' 对应的值:\n",
      "[-0.02587547  0.00406624 -0.00236452 ...  0.00774806 -0.01663612\n",
      " -0.0286592 ]\n"
     ]
    }
   ],
   "source": [
    "# 选取第一个键查看完整值\n",
    "sample_key = list(embeddings_dict.keys())[0]  # '1000021'\n",
    "sample_value = embeddings_dict[sample_key]\n",
    "\n",
    "print(f\"键 '{sample_key}' 对应的值:\")\n",
    "print(sample_value)  # 打印完整内容"
   ]
  },
  {
   "cell_type": "code",
   "execution_count": 131,
   "id": "21c81ff9-aa63-4b1e-b37a-ad3105e3f4f2",
   "metadata": {},
   "outputs": [
    {
     "name": "stdout",
     "output_type": "stream",
     "text": [
      "矩阵形状: (47626, 1536)\n",
      "前3行:\n",
      " [[-0.02587547  0.00406624 -0.00236452 ...  0.00774806 -0.01663612\n",
      "  -0.0286592 ]\n",
      " [-0.00557738  0.00204976  0.02160772 ... -0.00394769 -0.02920619\n",
      "  -0.00697089]\n",
      " [-0.01752493 -0.01542352  0.02232247 ...  0.00777784 -0.00656854\n",
      "  -0.0131503 ]]\n"
     ]
    }
   ],
   "source": [
    "# 提取所有键并保持顺序（Python 3.7+ 字典保持插入顺序）\n",
    "keys = list(embeddings_dict.keys())\n",
    "\n",
    "# 将字典值转换为NumPy矩阵（每行一个向量）\n",
    "matrix = np.array([embeddings_dict[key] for key in keys])\n",
    "\n",
    "# 检查矩阵形状\n",
    "print(\"矩阵形状:\", matrix.shape)  # 输出: (47626, 向量维度)\n",
    "\n",
    "# 示例：查看前3行\n",
    "print(\"前3行:\\n\", matrix[:3])"
   ]
  },
  {
   "cell_type": "code",
   "execution_count": 132,
   "id": "6ba76e45-be66-448f-9f9b-93864e1220ba",
   "metadata": {},
   "outputs": [],
   "source": [
    "# 1. 数据标准化\n",
    "scaler = StandardScaler()\n",
    "matrix_scaled = scaler.fit_transform(matrix)"
   ]
  },
  {
   "cell_type": "code",
   "execution_count": 133,
   "id": "5ff5adfa-3ae5-4226-9567-22e7136b7032",
   "metadata": {},
   "outputs": [
    {
     "data": {
      "text/plain": [
       "-6.632185332777728"
      ]
     },
     "execution_count": 133,
     "metadata": {},
     "output_type": "execute_result"
    }
   ],
   "source": [
    "np.min(matrix_scaled)"
   ]
  },
  {
   "cell_type": "code",
   "execution_count": 134,
   "id": "4a4ecfe0-2b7d-4898-9eb0-2bbd0caae7d7",
   "metadata": {},
   "outputs": [
    {
     "data": {
      "text/plain": [
       "5.618623295888523"
      ]
     },
     "execution_count": 134,
     "metadata": {},
     "output_type": "execute_result"
    }
   ],
   "source": [
    "np.max(matrix_scaled)"
   ]
  },
  {
   "cell_type": "code",
   "execution_count": 135,
   "id": "3360d7d5-a157-4124-9333-3e11c017fce3",
   "metadata": {},
   "outputs": [
    {
     "name": "stdout",
     "output_type": "stream",
     "text": [
      "PCA降维后形状: (47626, 50)\n",
      "解释方差比例: 0.707\n"
     ]
    }
   ],
   "source": [
    "# 2. PCA降维到50维\n",
    "pca = PCA(n_components=50, random_state=42)\n",
    "matrix_pca = pca.fit_transform(matrix_scaled)\n",
    "print(f\"PCA降维后形状: {matrix_pca.shape}\")\n",
    "print(f\"解释方差比例: {np.sum(pca.explained_variance_ratio_):.3f}\")"
   ]
  },
  {
   "cell_type": "code",
   "execution_count": 136,
   "id": "f721ac63-b982-465e-b934-0ef43e28f540",
   "metadata": {},
   "outputs": [
    {
     "data": {
      "text/plain": [
       "(47626, 50)"
      ]
     },
     "execution_count": 136,
     "metadata": {},
     "output_type": "execute_result"
    }
   ],
   "source": [
    "matrix_pca.shape"
   ]
  },
  {
   "cell_type": "code",
   "execution_count": 137,
   "id": "d696a352-ce0e-4418-9ddf-578a0298b83e",
   "metadata": {},
   "outputs": [],
   "source": [
    "# 3. 构建KNN图\n",
    "n_neighbors = 10  # KNN参数，可根据数据特性调整\n",
    "\n",
    "# 计算KNN\n",
    "nbrs = NearestNeighbors(n_neighbors=n_neighbors, algorithm='kd_tree', p=2).fit(matrix_pca)\n",
    "distances, indices = nbrs.kneighbors(matrix_pca)"
   ]
  },
  {
   "cell_type": "code",
   "execution_count": 138,
   "id": "320691ab-4761-4e0d-956b-b3226304f009",
   "metadata": {},
   "outputs": [],
   "source": [
    "# 创建图\n",
    "G = nx.Graph()\n",
    "\n",
    "# 添加节点\n",
    "for i in range(matrix_pca.shape[0]):\n",
    "    G.add_node(i)"
   ]
  },
  {
   "cell_type": "code",
   "execution_count": 139,
   "id": "5df82b97-76ac-41b8-a4d3-f1f45beb7920",
   "metadata": {},
   "outputs": [],
   "source": [
    "# 添加边 (基于KNN)\n",
    "for i in range(matrix_pca.shape[0]):\n",
    "    for j in range(n_neighbors):  # 从1开始，排除自己\n",
    "        neighbor_idx = indices[i, j]\n",
    "        dist = distances[i, j]\n",
    "        # 跳过无效边\n",
    "        if i == neighbor_idx or dist <= 1e-6:\n",
    "            continue\n",
    "        # 添加边（避免重复）\n",
    "        if not G.has_edge(i, neighbor_idx):\n",
    "            weight = 1.0 / dist\n",
    "            G.add_edge(i, neighbor_idx, weight=weight)"
   ]
  },
  {
   "cell_type": "code",
   "execution_count": 140,
   "id": "0242ae90-a432-4ae4-b5a6-48c5ac651399",
   "metadata": {},
   "outputs": [
    {
     "name": "stdout",
     "output_type": "stream",
     "text": [
      "边权重范围: [0.03039151571312543, 16.613693274118894]\n"
     ]
    }
   ],
   "source": [
    "# 假设 G 是已构建的带权图（如通过之前的KNN方法构建）\n",
    "all_weights = [data['weight'] for _, _, data in G.edges(data=True)]\n",
    "\n",
    "min_weight = min(all_weights)\n",
    "max_weight = max(all_weights)\n",
    "\n",
    "print(f\"边权重范围: [{min_weight}, {max_weight}]\")"
   ]
  },
  {
   "cell_type": "code",
   "execution_count": 141,
   "id": "6017f951-ae85-4d3b-814a-1aa115cca031",
   "metadata": {},
   "outputs": [],
   "source": [
    "# 4. 应用Louvain算法进行社区检测\n",
    "partition = community_louvain.best_partition(G, weight='weight', resolution=1.0, random_state=42)"
   ]
  },
  {
   "cell_type": "code",
   "execution_count": 142,
   "id": "122fe7ab-18d2-4c13-8705-91cc1eaca8b7",
   "metadata": {},
   "outputs": [
    {
     "name": "stdout",
     "output_type": "stream",
     "text": [
      "Louvain算法发现了 51 个社区\n"
     ]
    }
   ],
   "source": [
    "# 获取聚类标签\n",
    "cluster_labels = np.array([partition[i] for i in range(matrix_pca.shape[0])])\n",
    "n_clusters = len(set(cluster_labels))\n",
    "print(f\"Louvain算法发现了 {n_clusters} 个社区\")"
   ]
  },
  {
   "cell_type": "code",
   "execution_count": 143,
   "id": "8ec8a0a9-355c-4624-a9ba-3d2a81442028",
   "metadata": {},
   "outputs": [
    {
     "data": {
      "text/plain": [
       "array([ 0,  1,  2, ...,  9, 17, 40])"
      ]
     },
     "execution_count": 143,
     "metadata": {},
     "output_type": "execute_result"
    }
   ],
   "source": [
    "cluster_labels"
   ]
  },
  {
   "cell_type": "code",
   "execution_count": 144,
   "id": "0c20bc8e-d513-429e-af15-9a0f180033a5",
   "metadata": {},
   "outputs": [
    {
     "data": {
      "text/plain": [
       "(47626,)"
      ]
     },
     "execution_count": 144,
     "metadata": {},
     "output_type": "execute_result"
    }
   ],
   "source": [
    "cluster_labels.shape"
   ]
  },
  {
   "cell_type": "code",
   "execution_count": 145,
   "id": "4aa38575-b985-4519-ac08-ed86e754286a",
   "metadata": {},
   "outputs": [
    {
     "name": "stdout",
     "output_type": "stream",
     "text": [
      "元素 0 出现了 801 次\n",
      "元素 1 出现了 2463 次\n",
      "元素 2 出现了 2602 次\n",
      "元素 3 出现了 2285 次\n",
      "元素 4 出现了 2122 次\n",
      "元素 5 出现了 484 次\n",
      "元素 6 出现了 672 次\n",
      "元素 7 出现了 1916 次\n",
      "元素 8 出现了 1331 次\n",
      "元素 9 出现了 2175 次\n",
      "元素 10 出现了 1200 次\n",
      "元素 11 出现了 1271 次\n",
      "元素 12 出现了 987 次\n",
      "元素 13 出现了 1467 次\n",
      "元素 14 出现了 994 次\n",
      "元素 15 出现了 1232 次\n",
      "元素 16 出现了 54 次\n",
      "元素 17 出现了 2368 次\n",
      "元素 18 出现了 36 次\n",
      "元素 19 出现了 3122 次\n",
      "元素 20 出现了 1465 次\n",
      "元素 21 出现了 787 次\n",
      "元素 22 出现了 224 次\n",
      "元素 23 出现了 1259 次\n",
      "元素 24 出现了 963 次\n",
      "元素 25 出现了 1234 次\n",
      "元素 26 出现了 1565 次\n",
      "元素 27 出现了 1152 次\n",
      "元素 28 出现了 90 次\n",
      "元素 29 出现了 1408 次\n",
      "元素 30 出现了 1991 次\n",
      "元素 31 出现了 875 次\n",
      "元素 32 出现了 1090 次\n",
      "元素 33 出现了 921 次\n",
      "元素 34 出现了 666 次\n",
      "元素 35 出现了 58 次\n",
      "元素 36 出现了 189 次\n",
      "元素 37 出现了 27 次\n",
      "元素 38 出现了 939 次\n",
      "元素 39 出现了 58 次\n",
      "元素 40 出现了 307 次\n",
      "元素 41 出现了 128 次\n",
      "元素 42 出现了 97 次\n",
      "元素 43 出现了 145 次\n",
      "元素 44 出现了 57 次\n",
      "元素 45 出现了 123 次\n",
      "元素 46 出现了 64 次\n",
      "元素 47 出现了 69 次\n",
      "元素 48 出现了 33 次\n",
      "元素 49 出现了 30 次\n",
      "元素 50 出现了 30 次\n"
     ]
    }
   ],
   "source": [
    "# 统计每个唯一元素的个数\n",
    "unique_elements, counts = np.unique(cluster_labels, return_counts=True)\n",
    "\n",
    "# 打印结果\n",
    "for element, count in zip(unique_elements, counts):\n",
    "    print(f\"元素 {element} 出现了 {count} 次\")"
   ]
  },
  {
   "cell_type": "code",
   "execution_count": 146,
   "id": "96722b9f-075d-451f-9737-d984d579e4a6",
   "metadata": {},
   "outputs": [
    {
     "name": "stderr",
     "output_type": "stream",
     "text": [
      "/home/llma/anaconda3/envs/GAT/lib/python3.12/site-packages/sklearn/utils/deprecation.py:151: FutureWarning: 'force_all_finite' was renamed to 'ensure_all_finite' in 1.6 and will be removed in 1.8.\n",
      "  warnings.warn(\n"
     ]
    }
   ],
   "source": [
    "import umap\n",
    "reducer = umap.UMAP(n_components=2)\n",
    "matrix_2d = reducer.fit_transform(matrix)"
   ]
  },
  {
   "cell_type": "code",
   "execution_count": 147,
   "id": "b97b6892-f063-44d4-a9b3-c9677fb7b66e",
   "metadata": {},
   "outputs": [
    {
     "data": {
      "text/plain": [
       "<matplotlib.colorbar.Colorbar at 0x7fb7c50fb230>"
      ]
     },
     "execution_count": 147,
     "metadata": {},
     "output_type": "execute_result"
    },
    {
     "data": {
      "image/png": "[encoded data removed]",
      "text/plain": [
       "<Figure size 1200x800 with 2 Axes>"
      ]
     },
     "metadata": {},
     "output_type": "display_data"
    }
   ],
   "source": [
    "# 5. 可视化结果 (使用PCA的前两个主成分)\n",
    "plt.figure(figsize=(12, 8))\n",
    "scatter = plt.scatter(matrix_2d[:, 0], matrix_2d[:, 1], \n",
    "                     c=cluster_labels, cmap='Spectral', alpha=0.6, s=5)\n",
    "plt.colorbar(scatter)\n",
    "# plt.xlabel('PC1 (解释方差: {:.1f}%)'.format(pca.explained_variance_ratio_[0]*100))\n",
    "# plt.ylabel('PC2 (解释方差: {:.1f}%)'.format(pca.explained_variance_ratio_[1]*100))\n",
    "# plt.title(f'Louvain Clustering (PCA50+KNN, k={n_neighbors}, {n_clusters} communities)')\n",
    "# plt.show()"
   ]
  },
  {
   "cell_type": "markdown",
   "id": "eaf4751b-a089-47f3-bdb5-1f49869bb044",
   "metadata": {},
   "source": [
    "## split dataset in clusters"
   ]
  },
  {
   "cell_type": "code",
   "execution_count": 159,
   "id": "d2cd19ae-7b5b-47f0-bef8-8627119f90ec",
   "metadata": {},
   "outputs": [
    {
     "data": {
      "text/plain": [
       "(47626,)"
      ]
     },
     "execution_count": 159,
     "metadata": {},
     "output_type": "execute_result"
    }
   ],
   "source": [
    "cluster_labels.shape"
   ]
  },
  {
   "cell_type": "code",
   "execution_count": 160,
   "id": "d077bee8-286d-4841-8cf6-4b92d98c9363",
   "metadata": {},
   "outputs": [
    {
     "data": {
      "text/plain": [
       "47626"
      ]
     },
     "execution_count": 160,
     "metadata": {},
     "output_type": "execute_result"
    }
   ],
   "source": [
    "len(keys)"
   ]
  },
  {
   "cell_type": "code",
   "execution_count": 161,
   "id": "2f8be465-94f0-408e-b5a7-37da21fd2c3a",
   "metadata": {},
   "outputs": [],
   "source": [
    "numeric_keys = [int(x) for x in keys]"
   ]
  },
  {
   "cell_type": "code",
   "execution_count": 162,
   "id": "8a0e9751-d7de-4b67-84e4-c94720e846a1",
   "metadata": {},
   "outputs": [],
   "source": [
    "def split_data_by_patient_id_with_clusters(\n",
    "    data_df, \n",
    "    patient_id_col='node1',\n",
    "    patient_id=None,\n",
    "    cluster_labels=None, \n",
    "    ratios=[1, 2, 7], \n",
    "    random_seed=42\n",
    "):\n",
    "    \"\"\"\n",
    "    根据病人ID和聚类标签将数据框按指定比例划分为多个子集，\n",
    "    确保每个聚类内部按比例划分，且各子集间病人ID无重叠\n",
    "    \n",
    "    参数:\n",
    "    data_df: pandas.DataFrame - 输入的数据框\n",
    "    patient_id_col: str - 病人ID所在的列名，默认为'node1'\n",
    "    cluster_labels: array-like - 病人的聚类标签，默认为None\n",
    "    ratios: list - 划分比例，默认为[1, 2, 7] (对应test:val:train)\n",
    "    random_seed: int - 随机数种子，确保结果可重现\n",
    "    \n",
    "    返回:\n",
    "    tuple - 划分后的多个数据框 (test_df, val_df, train_df)\n",
    "    \"\"\"\n",
    "    \n",
    "    # 设置随机种子\n",
    "    np.random.seed(random_seed)\n",
    "    \n",
    "    # 确保聚类标签存在\n",
    "    if cluster_labels is None:\n",
    "        raise ValueError(\"必须提供cluster_labels参数\")\n",
    "    \n",
    "    if patient_id is None:\n",
    "        raise ValueError(\"必须提供patient_id参数\")\n",
    "    \n",
    "    # 为每个患者分配聚类标签\n",
    "    patient_clusters = pd.DataFrame({\n",
    "        'patient_id': patient_id,\n",
    "        'cluster': cluster_labels\n",
    "    })\n",
    "    \n",
    "    # 初始化各集合的患者ID列表\n",
    "    test_patients = []\n",
    "    val_patients = []\n",
    "    train_patients = []\n",
    "    \n",
    "    # 对每个聚类进行划分\n",
    "    for cluster_id in patient_clusters['cluster'].unique():\n",
    "        # 获取当前聚类的患者ID\n",
    "        cluster_patients = patient_clusters[\n",
    "            patient_clusters['cluster'] == cluster_id\n",
    "        ]['patient_id'].values\n",
    "        \n",
    "        # 计算各部分应占的患者数量\n",
    "        total_patients = len(cluster_patients)\n",
    "        ratio_sum = sum(ratios)\n",
    "        \n",
    "        # 按比例计算各集合的患者数量\n",
    "        test_size = round(total_patients * ratios[0] / ratio_sum)\n",
    "        val_size = round(total_patients * ratios[1] / ratio_sum)\n",
    "        train_size = total_patients - test_size - val_size\n",
    "        \n",
    "        # 随机打乱患者ID\n",
    "        shuffled_ids = np.random.permutation(cluster_patients)\n",
    "        \n",
    "        # 划分患者ID\n",
    "        test_ids = shuffled_ids[:test_size]\n",
    "        val_ids = shuffled_ids[test_size:test_size+val_size]\n",
    "        train_ids = shuffled_ids[test_size+val_size:]\n",
    "        \n",
    "        # 添加到总体集合\n",
    "        test_patients.extend(test_ids)\n",
    "        val_patients.extend(val_ids)\n",
    "        train_patients.extend(train_ids)\n",
    "    \n",
    "    # 根据患者ID划分数据\n",
    "    test_df = data_df[data_df[patient_id_col].isin(test_patients)]\n",
    "    val_df = data_df[data_df[patient_id_col].isin(val_patients)]\n",
    "    train_df = data_df[data_df[patient_id_col].isin(train_patients)]\n",
    "    \n",
    "    return test_df, val_df, train_df"
   ]
  },
  {
   "cell_type": "code",
   "execution_count": 163,
   "id": "b6548bb0-b84f-44ca-90f9-8c0f0d4c4a26",
   "metadata": {},
   "outputs": [],
   "source": [
    "test_data, val_data, train_data = split_data_by_patient_id_with_clusters(\n",
    "    data_df=merged_df_long, \n",
    "    patient_id_col='node1',\n",
    "    patient_id=numeric_keys,\n",
    "    cluster_labels=cluster_labels, \n",
    "    ratios=[1, 2, 7], \n",
    "    random_seed=42\n",
    ")"
   ]
  },
  {
   "cell_type": "code",
   "execution_count": 164,
   "id": "0cd4c5f1-8c3c-48a9-bc0e-7eb00f58587b",
   "metadata": {},
   "outputs": [
    {
     "name": "stdout",
     "output_type": "stream",
     "text": [
      "(11045004, 3)\n",
      "(3160710, 3)\n",
      "(1583659, 3)\n"
     ]
    }
   ],
   "source": [
    "print(train_data.shape)\n",
    "print(val_data.shape)\n",
    "print(test_data.shape)"
   ]
  },
  {
   "cell_type": "code",
   "execution_count": 165,
   "id": "9cd220c2-8d64-461c-8e31-27a66b46c009",
   "metadata": {},
   "outputs": [
    {
     "data": {
      "text/plain": [
       "(15789373, 3)"
      ]
     },
     "execution_count": 165,
     "metadata": {},
     "output_type": "execute_result"
    }
   ],
   "source": [
    "merged_df_long.shape"
   ]
  },
  {
   "cell_type": "code",
   "execution_count": 22,
   "id": "6c01fa2c-d459-41c0-95fd-25581bc124e0",
   "metadata": {},
   "outputs": [
    {
     "data": {
      "text/plain": [
       "15789373"
      ]
     },
     "execution_count": 22,
     "metadata": {},
     "output_type": "execute_result"
    }
   ],
   "source": [
    "11045004+3160710+1583659"
   ]
  },
  {
   "cell_type": "code",
   "execution_count": 167,
   "id": "8453298a-f5aa-4278-81f3-89371a0e3bef",
   "metadata": {},
   "outputs": [],
   "source": [
    "train_data.to_csv('/home/llma/wzy/comorbidity/Data/train_data_splitClusters.txt', sep='\\t', na_rep='nan', index=False)\n",
    "val_data.to_csv('/home/llma/wzy/comorbidity/Data/val_data_splitClusters.txt', sep='\\t', na_rep='nan', index=False)\n",
    "test_data.to_csv('/home/llma/wzy/comorbidity/Data/test_data_splitClusters.txt', sep='\\t', na_rep='nan', index=False)"
   ]
  },
  {
   "cell_type": "code",
   "execution_count": 8,
   "id": "238bec7d-f56a-4b80-b75e-015dfc32eb5e",
   "metadata": {},
   "outputs": [
    {
     "name": "stderr",
     "output_type": "stream",
     "text": [
      "                                                                                                                                                            "
     ]
    },
    {
     "name": "stdout",
     "output_type": "stream",
     "text": [
      "矩阵形状: (44466, 1536)\n"
     ]
    }
   ],
   "source": [
    "prepareInputData(adj_path='/home/llma/wzy/comorbidity/Data/train_data_splitClusters.txt',\n",
    "                 graph_path_save='/home/llma/wzy/comorbidity/Data/train_graph_splitClusters.pkl',\n",
    "                 protein_embeddings_path='/home/llma/wzy/comorbidity/Data/gpt_protein_embeddings_dict.pkl',\n",
    "                 gpt_embeddings_path='/home/llma/wzy/comorbidity/Data/gpt_embeddings_dict.pkl',\n",
    "                 metabolite_embeddings_path='/home/llma/wzy/comorbidity/Data/metabolite_embeddings_dict.pkl',\n",
    "                 icd10_embeddings_path='/home/llma/wzy/comorbidity/Data/icd10_embeddings_dict.pkl',\n",
    "                 UKB_node_feature_save='/home/llma/wzy/comorbidity/Data/UKB_node_feature_gpt_train_splitClusters.npy'\n",
    "                     )"
   ]
  },
  {
   "cell_type": "code",
   "execution_count": 9,
   "id": "2662e1df-6c3e-4710-9296-99e5f43287e8",
   "metadata": {},
   "outputs": [
    {
     "name": "stderr",
     "output_type": "stream",
     "text": [
      "                                                                                                                                                            "
     ]
    },
    {
     "name": "stdout",
     "output_type": "stream",
     "text": [
      "矩阵形状: (18530, 1536)\n"
     ]
    }
   ],
   "source": [
    "prepareInputData(adj_path='/home/llma/wzy/comorbidity/Data/val_data_splitClusters.txt',\n",
    "                 graph_path_save='/home/llma/wzy/comorbidity/Data/val_graph_splitClusters.pkl',\n",
    "                 protein_embeddings_path='/home/llma/wzy/comorbidity/Data/gpt_protein_embeddings_dict.pkl',\n",
    "                 gpt_embeddings_path='/home/llma/wzy/comorbidity/Data/gpt_embeddings_dict.pkl',\n",
    "                 metabolite_embeddings_path='/home/llma/wzy/comorbidity/Data/metabolite_embeddings_dict.pkl',\n",
    "                 icd10_embeddings_path='/home/llma/wzy/comorbidity/Data/icd10_embeddings_dict.pkl',\n",
    "                 UKB_node_feature_save='/home/llma/wzy/comorbidity/Data/UKB_node_feature_gpt_val_splitClusters.npy'\n",
    "                     )"
   ]
  },
  {
   "cell_type": "code",
   "execution_count": 10,
   "id": "49e8c1c5-7e35-41e0-b7d3-6601bc1e3c76",
   "metadata": {},
   "outputs": [
    {
     "name": "stderr",
     "output_type": "stream",
     "text": [
      "                                                                                                                                                            "
     ]
    },
    {
     "name": "stdout",
     "output_type": "stream",
     "text": [
      "矩阵形状: (12644, 1536)\n"
     ]
    }
   ],
   "source": [
    "prepareInputData(adj_path='/home/llma/wzy/comorbidity/Data/test_data_splitClusters.txt',\n",
    "                 graph_path_save='/home/llma/wzy/comorbidity/Data/test_graph_splitClusters.pkl',\n",
    "                 protein_embeddings_path='/home/llma/wzy/comorbidity/Data/gpt_protein_embeddings_dict.pkl',\n",
    "                 gpt_embeddings_path='/home/llma/wzy/comorbidity/Data/gpt_embeddings_dict.pkl',\n",
    "                 metabolite_embeddings_path='/home/llma/wzy/comorbidity/Data/metabolite_embeddings_dict.pkl',\n",
    "                 icd10_embeddings_path='/home/llma/wzy/comorbidity/Data/icd10_embeddings_dict.pkl',\n",
    "                 UKB_node_feature_save='/home/llma/wzy/comorbidity/Data/UKB_node_feature_gpt_test_splitClusters.npy'\n",
    "                     )"
   ]
  },
  {
   "cell_type": "code",
   "execution_count": null,
   "id": "e6b05998-edaa-41d1-9a99-3b73db1f32f0",
   "metadata": {},
   "outputs": [],
   "source": []
  },
  {
   "cell_type": "code",
   "execution_count": null,
   "id": "a56bee46-9c3c-42c6-b544-499bf7da4f01",
   "metadata": {},
   "outputs": [],
   "source": []
  },
  {
   "cell_type": "code",
   "execution_count": null,
   "id": "9e17a535-5897-409d-b91a-bf964ee9cd57",
   "metadata": {},
   "outputs": [],
   "source": []
  }
 ],
 "metadata": {
  "kernelspec": {
   "display_name": "GAT",
   "language": "python",
   "name": "gat"
  },
  "language_info": {
   "codemirror_mode": {
    "name": "ipython",
    "version": 3
   },
   "file_extension": ".py",
   "mimetype": "text/x-python",
   "name": "python",
   "nbconvert_exporter": "python",
   "pygments_lexer": "ipython3",
   "version": "3.12.10"
  }
 },
 "nbformat": 4,
 "nbformat_minor": 5
}
