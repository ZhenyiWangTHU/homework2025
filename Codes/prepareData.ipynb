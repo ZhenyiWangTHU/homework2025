{
 "cells": [
  {
   "cell_type": "markdown",
   "id": "b4516ab0-21ba-41d5-9518-a07eb4d79a48",
   "metadata": {},
   "source": [
    "### Prepare data"
   ]
  },
  {
   "cell_type": "code",
   "execution_count": 1,
   "id": "92fa8f86-3ba2-45d0-882a-304d7891352d",
   "metadata": {},
   "outputs": [],
   "source": [
    "import pandas as pd\n",
    "import pickle\n",
    "import numpy as np"
   ]
  },
  {
   "cell_type": "code",
   "execution_count": 2,
   "id": "514ca9a6-29cd-468c-9f2f-7c0aff863f5c",
   "metadata": {},
   "outputs": [],
   "source": [
    "# 读取原始数据（假设每个诊断记录为一行）\n",
    "clinical_df = pd.read_csv(\"/home/llma/wzy/comorbidity/Data/ICD10_long.csv\")"
   ]
  },
  {
   "cell_type": "code",
   "execution_count": 3,
   "id": "0a2967d5-f242-4b88-a7a1-4d259fcea0f5",
   "metadata": {},
   "outputs": [
    {
     "data": {
      "text/plain": [
       "(7015554, 5)"
      ]
     },
     "execution_count": 3,
     "metadata": {},
     "output_type": "execute_result"
    }
   ],
   "source": [
    "clinical_df.shape"
   ]
  },
  {
   "cell_type": "code",
   "execution_count": 4,
   "id": "8bff5a80-2af8-46c3-8bc9-5b3b9f841734",
   "metadata": {},
   "outputs": [
    {
     "data": {
      "text/html": [
       "<div>\n",
       "<style scoped>\n",
       "    .dataframe tbody tr th:only-of-type {\n",
       "        vertical-align: middle;\n",
       "    }\n",
       "\n",
       "    .dataframe tbody tr th {\n",
       "        vertical-align: top;\n",
       "    }\n",
       "\n",
       "    .dataframe thead th {\n",
       "        text-align: right;\n",
       "    }\n",
       "</style>\n",
       "<table border=\"1\" class=\"dataframe\">\n",
       "  <thead>\n",
       "    <tr style=\"text-align: right;\">\n",
       "      <th></th>\n",
       "      <th>eid</th>\n",
       "      <th>ICD10_codes</th>\n",
       "      <th>Date</th>\n",
       "      <th>p40000_i0</th>\n",
       "      <th>p40023</th>\n",
       "    </tr>\n",
       "  </thead>\n",
       "  <tbody>\n",
       "    <tr>\n",
       "      <th>0</th>\n",
       "      <td>1000122</td>\n",
       "      <td>J383</td>\n",
       "      <td>1999-07-06</td>\n",
       "      <td>2014-12-22</td>\n",
       "      <td>1.0</td>\n",
       "    </tr>\n",
       "    <tr>\n",
       "      <th>1</th>\n",
       "      <td>1000122</td>\n",
       "      <td>M255</td>\n",
       "      <td>2001-07-31</td>\n",
       "      <td>2014-12-22</td>\n",
       "      <td>1.0</td>\n",
       "    </tr>\n",
       "  </tbody>\n",
       "</table>\n",
       "</div>"
      ],
      "text/plain": [
       "       eid ICD10_codes        Date   p40000_i0  p40023\n",
       "0  1000122        J383  1999-07-06  2014-12-22     1.0\n",
       "1  1000122        M255  2001-07-31  2014-12-22     1.0"
      ]
     },
     "execution_count": 4,
     "metadata": {},
     "output_type": "execute_result"
    }
   ],
   "source": [
    "clinical_df.head(2)"
   ]
  },
  {
   "cell_type": "code",
   "execution_count": 5,
   "id": "17c1a149-8c1f-497a-bbbe-bfb9d8c93c4e",
   "metadata": {},
   "outputs": [
    {
     "data": {
      "text/plain": [
       "12315"
      ]
     },
     "execution_count": 5,
     "metadata": {},
     "output_type": "execute_result"
    }
   ],
   "source": [
    "len(clinical_df['ICD10_codes'].unique())"
   ]
  },
  {
   "cell_type": "code",
   "execution_count": 6,
   "id": "fdcb08e9-aa95-4d51-b7a1-c20e0a5f5e81",
   "metadata": {},
   "outputs": [
    {
     "data": {
      "text/plain": [
       "eid              int64\n",
       "ICD10_codes     object\n",
       "Date            object\n",
       "p40000_i0       object\n",
       "p40023         float64\n",
       "dtype: object"
      ]
     },
     "execution_count": 6,
     "metadata": {},
     "output_type": "execute_result"
    }
   ],
   "source": [
    "clinical_df.dtypes"
   ]
  },
  {
   "cell_type": "code",
   "execution_count": 45,
   "id": "75209ac4-cdcb-4d86-a683-770634dd2831",
   "metadata": {},
   "outputs": [
    {
     "data": {
      "text/plain": [
       "446802"
      ]
     },
     "execution_count": 45,
     "metadata": {},
     "output_type": "execute_result"
    }
   ],
   "source": [
    "len(set(clinical_df['eid']))"
   ]
  },
  {
   "cell_type": "code",
   "execution_count": 7,
   "id": "98848fc7-516f-43f2-b7ce-b72ef9bd5d78",
   "metadata": {},
   "outputs": [],
   "source": [
    "Olink_df = pd.read_csv(\"/home/llma/wzy/comorbidity/Data/Olink.csv\")"
   ]
  },
  {
   "cell_type": "code",
   "execution_count": 8,
   "id": "c89910d4-49f9-43ff-9b82-b1b51e60ddda",
   "metadata": {},
   "outputs": [
    {
     "data": {
      "text/html": [
       "<div>\n",
       "<style scoped>\n",
       "    .dataframe tbody tr th:only-of-type {\n",
       "        vertical-align: middle;\n",
       "    }\n",
       "\n",
       "    .dataframe tbody tr th {\n",
       "        vertical-align: top;\n",
       "    }\n",
       "\n",
       "    .dataframe thead th {\n",
       "        text-align: right;\n",
       "    }\n",
       "</style>\n",
       "<table border=\"1\" class=\"dataframe\">\n",
       "  <thead>\n",
       "    <tr style=\"text-align: right;\">\n",
       "      <th></th>\n",
       "      <th>olink_instance_0.eid</th>\n",
       "      <th>olink_instance_0.a1bg</th>\n",
       "      <th>olink_instance_0.aamdc</th>\n",
       "      <th>olink_instance_0.aarsd1</th>\n",
       "      <th>olink_instance_0.abca2</th>\n",
       "      <th>olink_instance_0.abhd14b</th>\n",
       "      <th>olink_instance_0.abl1</th>\n",
       "      <th>olink_instance_0.abo</th>\n",
       "      <th>olink_instance_0.abraxas2</th>\n",
       "      <th>olink_instance_0.acaa1</th>\n",
       "      <th>...</th>\n",
       "      <th>olink_instance_0.zfyve19</th>\n",
       "      <th>olink_instance_0.zhx2</th>\n",
       "      <th>olink_instance_0.znf174</th>\n",
       "      <th>olink_instance_0.znf75d</th>\n",
       "      <th>olink_instance_0.znf830</th>\n",
       "      <th>olink_instance_0.znrd2</th>\n",
       "      <th>olink_instance_0.znrf4</th>\n",
       "      <th>olink_instance_0.zp3</th>\n",
       "      <th>olink_instance_0.zp4</th>\n",
       "      <th>olink_instance_0.zpr1</th>\n",
       "    </tr>\n",
       "  </thead>\n",
       "  <tbody>\n",
       "    <tr>\n",
       "      <th>0</th>\n",
       "      <td>1002133</td>\n",
       "      <td>0.0957</td>\n",
       "      <td>0.59795</td>\n",
       "      <td>1.33215</td>\n",
       "      <td>-0.6441</td>\n",
       "      <td>0.76325</td>\n",
       "      <td>0.3784</td>\n",
       "      <td>0.5446</td>\n",
       "      <td>0.4682</td>\n",
       "      <td>0.21920</td>\n",
       "      <td>...</td>\n",
       "      <td>-0.2728</td>\n",
       "      <td>0.1954</td>\n",
       "      <td>-0.2586</td>\n",
       "      <td>-0.0127</td>\n",
       "      <td>0.0235</td>\n",
       "      <td>-0.26245</td>\n",
       "      <td>-0.1236</td>\n",
       "      <td>-6.0773</td>\n",
       "      <td>-0.0136</td>\n",
       "      <td>0.4131</td>\n",
       "    </tr>\n",
       "    <tr>\n",
       "      <th>1</th>\n",
       "      <td>1002201</td>\n",
       "      <td>-0.0473</td>\n",
       "      <td>0.39585</td>\n",
       "      <td>0.26585</td>\n",
       "      <td>0.0604</td>\n",
       "      <td>1.07765</td>\n",
       "      <td>1.3977</td>\n",
       "      <td>0.5830</td>\n",
       "      <td>1.0740</td>\n",
       "      <td>0.75625</td>\n",
       "      <td>...</td>\n",
       "      <td>0.9153</td>\n",
       "      <td>-0.0274</td>\n",
       "      <td>-0.3048</td>\n",
       "      <td>-0.8814</td>\n",
       "      <td>-0.5342</td>\n",
       "      <td>1.12255</td>\n",
       "      <td>-0.5537</td>\n",
       "      <td>-5.1443</td>\n",
       "      <td>-0.1713</td>\n",
       "      <td>-0.5605</td>\n",
       "    </tr>\n",
       "  </tbody>\n",
       "</table>\n",
       "<p>2 rows × 2924 columns</p>\n",
       "</div>"
      ],
      "text/plain": [
       "   olink_instance_0.eid  olink_instance_0.a1bg  olink_instance_0.aamdc  \\\n",
       "0               1002133                 0.0957                 0.59795   \n",
       "1               1002201                -0.0473                 0.39585   \n",
       "\n",
       "   olink_instance_0.aarsd1  olink_instance_0.abca2  olink_instance_0.abhd14b  \\\n",
       "0                  1.33215                 -0.6441                   0.76325   \n",
       "1                  0.26585                  0.0604                   1.07765   \n",
       "\n",
       "   olink_instance_0.abl1  olink_instance_0.abo  olink_instance_0.abraxas2  \\\n",
       "0                 0.3784                0.5446                     0.4682   \n",
       "1                 1.3977                0.5830                     1.0740   \n",
       "\n",
       "   olink_instance_0.acaa1  ...  olink_instance_0.zfyve19  \\\n",
       "0                 0.21920  ...                   -0.2728   \n",
       "1                 0.75625  ...                    0.9153   \n",
       "\n",
       "   olink_instance_0.zhx2  olink_instance_0.znf174  olink_instance_0.znf75d  \\\n",
       "0                 0.1954                  -0.2586                  -0.0127   \n",
       "1                -0.0274                  -0.3048                  -0.8814   \n",
       "\n",
       "   olink_instance_0.znf830  olink_instance_0.znrd2  olink_instance_0.znrf4  \\\n",
       "0                   0.0235                -0.26245                 -0.1236   \n",
       "1                  -0.5342                 1.12255                 -0.5537   \n",
       "\n",
       "   olink_instance_0.zp3  olink_instance_0.zp4  olink_instance_0.zpr1  \n",
       "0               -6.0773               -0.0136                 0.4131  \n",
       "1               -5.1443               -0.1713                -0.5605  \n",
       "\n",
       "[2 rows x 2924 columns]"
      ]
     },
     "execution_count": 8,
     "metadata": {},
     "output_type": "execute_result"
    }
   ],
   "source": [
    "Olink_df.head(2)"
   ]
  },
  {
   "cell_type": "code",
   "execution_count": 9,
   "id": "bbb0fc7f-c48d-485e-8f3f-89ccc9581755",
   "metadata": {},
   "outputs": [],
   "source": [
    "Olink_df = Olink_df.rename(columns={'olink_instance_0.eid': 'eid'})"
   ]
  },
  {
   "cell_type": "code",
   "execution_count": 10,
   "id": "d5c10151-694f-4d8c-a931-2816d5679e80",
   "metadata": {},
   "outputs": [
    {
     "data": {
      "text/html": [
       "<div>\n",
       "<style scoped>\n",
       "    .dataframe tbody tr th:only-of-type {\n",
       "        vertical-align: middle;\n",
       "    }\n",
       "\n",
       "    .dataframe tbody tr th {\n",
       "        vertical-align: top;\n",
       "    }\n",
       "\n",
       "    .dataframe thead th {\n",
       "        text-align: right;\n",
       "    }\n",
       "</style>\n",
       "<table border=\"1\" class=\"dataframe\">\n",
       "  <thead>\n",
       "    <tr style=\"text-align: right;\">\n",
       "      <th></th>\n",
       "      <th>eid</th>\n",
       "      <th>olink_instance_0.a1bg</th>\n",
       "      <th>olink_instance_0.aamdc</th>\n",
       "      <th>olink_instance_0.aarsd1</th>\n",
       "      <th>olink_instance_0.abca2</th>\n",
       "      <th>olink_instance_0.abhd14b</th>\n",
       "      <th>olink_instance_0.abl1</th>\n",
       "      <th>olink_instance_0.abo</th>\n",
       "      <th>olink_instance_0.abraxas2</th>\n",
       "      <th>olink_instance_0.acaa1</th>\n",
       "      <th>...</th>\n",
       "      <th>olink_instance_0.zfyve19</th>\n",
       "      <th>olink_instance_0.zhx2</th>\n",
       "      <th>olink_instance_0.znf174</th>\n",
       "      <th>olink_instance_0.znf75d</th>\n",
       "      <th>olink_instance_0.znf830</th>\n",
       "      <th>olink_instance_0.znrd2</th>\n",
       "      <th>olink_instance_0.znrf4</th>\n",
       "      <th>olink_instance_0.zp3</th>\n",
       "      <th>olink_instance_0.zp4</th>\n",
       "      <th>olink_instance_0.zpr1</th>\n",
       "    </tr>\n",
       "  </thead>\n",
       "  <tbody>\n",
       "    <tr>\n",
       "      <th>0</th>\n",
       "      <td>1002133</td>\n",
       "      <td>0.0957</td>\n",
       "      <td>0.59795</td>\n",
       "      <td>1.33215</td>\n",
       "      <td>-0.6441</td>\n",
       "      <td>0.76325</td>\n",
       "      <td>0.3784</td>\n",
       "      <td>0.5446</td>\n",
       "      <td>0.4682</td>\n",
       "      <td>0.21920</td>\n",
       "      <td>...</td>\n",
       "      <td>-0.2728</td>\n",
       "      <td>0.1954</td>\n",
       "      <td>-0.2586</td>\n",
       "      <td>-0.0127</td>\n",
       "      <td>0.02350</td>\n",
       "      <td>-0.26245</td>\n",
       "      <td>-0.1236</td>\n",
       "      <td>-6.0773</td>\n",
       "      <td>-0.0136</td>\n",
       "      <td>0.4131</td>\n",
       "    </tr>\n",
       "    <tr>\n",
       "      <th>1</th>\n",
       "      <td>1002201</td>\n",
       "      <td>-0.0473</td>\n",
       "      <td>0.39585</td>\n",
       "      <td>0.26585</td>\n",
       "      <td>0.0604</td>\n",
       "      <td>1.07765</td>\n",
       "      <td>1.3977</td>\n",
       "      <td>0.5830</td>\n",
       "      <td>1.0740</td>\n",
       "      <td>0.75625</td>\n",
       "      <td>...</td>\n",
       "      <td>0.9153</td>\n",
       "      <td>-0.0274</td>\n",
       "      <td>-0.3048</td>\n",
       "      <td>-0.8814</td>\n",
       "      <td>-0.53420</td>\n",
       "      <td>1.12255</td>\n",
       "      <td>-0.5537</td>\n",
       "      <td>-5.1443</td>\n",
       "      <td>-0.1713</td>\n",
       "      <td>-0.5605</td>\n",
       "    </tr>\n",
       "    <tr>\n",
       "      <th>2</th>\n",
       "      <td>1002534</td>\n",
       "      <td>-0.2239</td>\n",
       "      <td>-0.04545</td>\n",
       "      <td>-0.07580</td>\n",
       "      <td>0.2499</td>\n",
       "      <td>-0.48380</td>\n",
       "      <td>0.4578</td>\n",
       "      <td>-0.0678</td>\n",
       "      <td>-0.1641</td>\n",
       "      <td>-0.29010</td>\n",
       "      <td>...</td>\n",
       "      <td>-0.8164</td>\n",
       "      <td>0.2514</td>\n",
       "      <td>0.4768</td>\n",
       "      <td>-0.4894</td>\n",
       "      <td>-0.21715</td>\n",
       "      <td>0.00550</td>\n",
       "      <td>-0.0715</td>\n",
       "      <td>-5.9309</td>\n",
       "      <td>-0.2436</td>\n",
       "      <td>-0.4368</td>\n",
       "    </tr>\n",
       "    <tr>\n",
       "      <th>3</th>\n",
       "      <td>1003548</td>\n",
       "      <td>0.0255</td>\n",
       "      <td>NaN</td>\n",
       "      <td>NaN</td>\n",
       "      <td>NaN</td>\n",
       "      <td>NaN</td>\n",
       "      <td>NaN</td>\n",
       "      <td>-0.2824</td>\n",
       "      <td>NaN</td>\n",
       "      <td>NaN</td>\n",
       "      <td>...</td>\n",
       "      <td>1.1505</td>\n",
       "      <td>0.1681</td>\n",
       "      <td>0.2402</td>\n",
       "      <td>NaN</td>\n",
       "      <td>0.42805</td>\n",
       "      <td>0.55870</td>\n",
       "      <td>0.4882</td>\n",
       "      <td>NaN</td>\n",
       "      <td>-0.0600</td>\n",
       "      <td>0.7822</td>\n",
       "    </tr>\n",
       "  </tbody>\n",
       "</table>\n",
       "<p>4 rows × 2924 columns</p>\n",
       "</div>"
      ],
      "text/plain": [
       "       eid  olink_instance_0.a1bg  olink_instance_0.aamdc  \\\n",
       "0  1002133                 0.0957                 0.59795   \n",
       "1  1002201                -0.0473                 0.39585   \n",
       "2  1002534                -0.2239                -0.04545   \n",
       "3  1003548                 0.0255                     NaN   \n",
       "\n",
       "   olink_instance_0.aarsd1  olink_instance_0.abca2  olink_instance_0.abhd14b  \\\n",
       "0                  1.33215                 -0.6441                   0.76325   \n",
       "1                  0.26585                  0.0604                   1.07765   \n",
       "2                 -0.07580                  0.2499                  -0.48380   \n",
       "3                      NaN                     NaN                       NaN   \n",
       "\n",
       "   olink_instance_0.abl1  olink_instance_0.abo  olink_instance_0.abraxas2  \\\n",
       "0                 0.3784                0.5446                     0.4682   \n",
       "1                 1.3977                0.5830                     1.0740   \n",
       "2                 0.4578               -0.0678                    -0.1641   \n",
       "3                    NaN               -0.2824                        NaN   \n",
       "\n",
       "   olink_instance_0.acaa1  ...  olink_instance_0.zfyve19  \\\n",
       "0                 0.21920  ...                   -0.2728   \n",
       "1                 0.75625  ...                    0.9153   \n",
       "2                -0.29010  ...                   -0.8164   \n",
       "3                     NaN  ...                    1.1505   \n",
       "\n",
       "   olink_instance_0.zhx2  olink_instance_0.znf174  olink_instance_0.znf75d  \\\n",
       "0                 0.1954                  -0.2586                  -0.0127   \n",
       "1                -0.0274                  -0.3048                  -0.8814   \n",
       "2                 0.2514                   0.4768                  -0.4894   \n",
       "3                 0.1681                   0.2402                      NaN   \n",
       "\n",
       "   olink_instance_0.znf830  olink_instance_0.znrd2  olink_instance_0.znrf4  \\\n",
       "0                  0.02350                -0.26245                 -0.1236   \n",
       "1                 -0.53420                 1.12255                 -0.5537   \n",
       "2                 -0.21715                 0.00550                 -0.0715   \n",
       "3                  0.42805                 0.55870                  0.4882   \n",
       "\n",
       "   olink_instance_0.zp3  olink_instance_0.zp4  olink_instance_0.zpr1  \n",
       "0               -6.0773               -0.0136                 0.4131  \n",
       "1               -5.1443               -0.1713                -0.5605  \n",
       "2               -5.9309               -0.2436                -0.4368  \n",
       "3                   NaN               -0.0600                 0.7822  \n",
       "\n",
       "[4 rows x 2924 columns]"
      ]
     },
     "execution_count": 10,
     "metadata": {},
     "output_type": "execute_result"
    }
   ],
   "source": [
    "Olink_df.head(4)"
   ]
  },
  {
   "cell_type": "code",
   "execution_count": 11,
   "id": "43b3b708-de6d-4ecf-806c-d038591f8701",
   "metadata": {},
   "outputs": [
    {
     "data": {
      "text/plain": [
       "dtype('int64')"
      ]
     },
     "execution_count": 11,
     "metadata": {},
     "output_type": "execute_result"
    }
   ],
   "source": [
    "Olink_df['eid'].dtypes"
   ]
  },
  {
   "cell_type": "code",
   "execution_count": 12,
   "id": "ff3d14ad-6ecf-42a2-b77f-aa71514ec5ba",
   "metadata": {},
   "outputs": [
    {
     "data": {
      "text/plain": [
       "(53013, 2924)"
      ]
     },
     "execution_count": 12,
     "metadata": {},
     "output_type": "execute_result"
    }
   ],
   "source": [
    "Olink_df.shape"
   ]
  },
  {
   "cell_type": "code",
   "execution_count": 13,
   "id": "d487f899-9f57-48bf-b1c6-d37742ef3399",
   "metadata": {},
   "outputs": [],
   "source": [
    "# 提取非eid列（蛋白质表达量列）\n",
    "protein_cols = Olink_df.columns[1:]  # 第一列是eid"
   ]
  },
  {
   "cell_type": "code",
   "execution_count": 14,
   "id": "016f8660-cfb9-40d2-a79a-faef9e9807ce",
   "metadata": {},
   "outputs": [],
   "source": [
    "# 找出蛋白质表达量全为NaN的病人行\n",
    "all_nan_mask = Olink_df[protein_cols].isna().all(axis=1)"
   ]
  },
  {
   "cell_type": "code",
   "execution_count": 15,
   "id": "0c5683b8-603b-47a7-a334-f8229e18e595",
   "metadata": {},
   "outputs": [],
   "source": [
    "# 过滤掉全NaN的病人\n",
    "Olink_df_filtered = Olink_df[~all_nan_mask].copy()"
   ]
  },
  {
   "cell_type": "code",
   "execution_count": 16,
   "id": "2f5ebdb5-af45-4bcd-bf8c-4281bd398c30",
   "metadata": {},
   "outputs": [
    {
     "data": {
      "text/plain": [
       "(53013, 2924)"
      ]
     },
     "execution_count": 16,
     "metadata": {},
     "output_type": "execute_result"
    }
   ],
   "source": [
    "Olink_df_filtered.shape"
   ]
  },
  {
   "cell_type": "code",
   "execution_count": 17,
   "id": "0783ef6d-367b-4346-95ad-791039408e16",
   "metadata": {},
   "outputs": [],
   "source": [
    "# 2. 用各列最小值填补NaN\n",
    "# 计算各列最小值（排除NaN）\n",
    "col_min_values = Olink_df_filtered[protein_cols].min()\n",
    "\n",
    "# 填补NaN（使用广播机制）\n",
    "Olink_df_imputed = Olink_df_filtered.copy()\n",
    "Olink_df_imputed[protein_cols] = Olink_df_filtered[protein_cols].fillna(col_min_values)"
   ]
  },
  {
   "cell_type": "code",
   "execution_count": 18,
   "id": "309f3790-c428-4e2a-86da-3a26b2dd96a2",
   "metadata": {},
   "outputs": [
    {
     "data": {
      "text/html": [
       "<div>\n",
       "<style scoped>\n",
       "    .dataframe tbody tr th:only-of-type {\n",
       "        vertical-align: middle;\n",
       "    }\n",
       "\n",
       "    .dataframe tbody tr th {\n",
       "        vertical-align: top;\n",
       "    }\n",
       "\n",
       "    .dataframe thead th {\n",
       "        text-align: right;\n",
       "    }\n",
       "</style>\n",
       "<table border=\"1\" class=\"dataframe\">\n",
       "  <thead>\n",
       "    <tr style=\"text-align: right;\">\n",
       "      <th></th>\n",
       "      <th>eid</th>\n",
       "      <th>olink_instance_0.a1bg</th>\n",
       "      <th>olink_instance_0.aamdc</th>\n",
       "      <th>olink_instance_0.aarsd1</th>\n",
       "      <th>olink_instance_0.abca2</th>\n",
       "      <th>olink_instance_0.abhd14b</th>\n",
       "      <th>olink_instance_0.abl1</th>\n",
       "      <th>olink_instance_0.abo</th>\n",
       "      <th>olink_instance_0.abraxas2</th>\n",
       "      <th>olink_instance_0.acaa1</th>\n",
       "      <th>...</th>\n",
       "      <th>olink_instance_0.zfyve19</th>\n",
       "      <th>olink_instance_0.zhx2</th>\n",
       "      <th>olink_instance_0.znf174</th>\n",
       "      <th>olink_instance_0.znf75d</th>\n",
       "      <th>olink_instance_0.znf830</th>\n",
       "      <th>olink_instance_0.znrd2</th>\n",
       "      <th>olink_instance_0.znrf4</th>\n",
       "      <th>olink_instance_0.zp3</th>\n",
       "      <th>olink_instance_0.zp4</th>\n",
       "      <th>olink_instance_0.zpr1</th>\n",
       "    </tr>\n",
       "  </thead>\n",
       "  <tbody>\n",
       "    <tr>\n",
       "      <th>0</th>\n",
       "      <td>1002133</td>\n",
       "      <td>0.0957</td>\n",
       "      <td>0.59795</td>\n",
       "      <td>1.33215</td>\n",
       "      <td>-0.6441</td>\n",
       "      <td>0.76325</td>\n",
       "      <td>0.37840</td>\n",
       "      <td>0.5446</td>\n",
       "      <td>0.4682</td>\n",
       "      <td>0.21920</td>\n",
       "      <td>...</td>\n",
       "      <td>-0.2728</td>\n",
       "      <td>0.1954</td>\n",
       "      <td>-0.2586</td>\n",
       "      <td>-0.0127</td>\n",
       "      <td>0.02350</td>\n",
       "      <td>-0.26245</td>\n",
       "      <td>-0.1236</td>\n",
       "      <td>-6.0773</td>\n",
       "      <td>-0.0136</td>\n",
       "      <td>0.4131</td>\n",
       "    </tr>\n",
       "    <tr>\n",
       "      <th>1</th>\n",
       "      <td>1002201</td>\n",
       "      <td>-0.0473</td>\n",
       "      <td>0.39585</td>\n",
       "      <td>0.26585</td>\n",
       "      <td>0.0604</td>\n",
       "      <td>1.07765</td>\n",
       "      <td>1.39770</td>\n",
       "      <td>0.5830</td>\n",
       "      <td>1.0740</td>\n",
       "      <td>0.75625</td>\n",
       "      <td>...</td>\n",
       "      <td>0.9153</td>\n",
       "      <td>-0.0274</td>\n",
       "      <td>-0.3048</td>\n",
       "      <td>-0.8814</td>\n",
       "      <td>-0.53420</td>\n",
       "      <td>1.12255</td>\n",
       "      <td>-0.5537</td>\n",
       "      <td>-5.1443</td>\n",
       "      <td>-0.1713</td>\n",
       "      <td>-0.5605</td>\n",
       "    </tr>\n",
       "    <tr>\n",
       "      <th>2</th>\n",
       "      <td>1002534</td>\n",
       "      <td>-0.2239</td>\n",
       "      <td>-0.04545</td>\n",
       "      <td>-0.07580</td>\n",
       "      <td>0.2499</td>\n",
       "      <td>-0.48380</td>\n",
       "      <td>0.45780</td>\n",
       "      <td>-0.0678</td>\n",
       "      <td>-0.1641</td>\n",
       "      <td>-0.29010</td>\n",
       "      <td>...</td>\n",
       "      <td>-0.8164</td>\n",
       "      <td>0.2514</td>\n",
       "      <td>0.4768</td>\n",
       "      <td>-0.4894</td>\n",
       "      <td>-0.21715</td>\n",
       "      <td>0.00550</td>\n",
       "      <td>-0.0715</td>\n",
       "      <td>-5.9309</td>\n",
       "      <td>-0.2436</td>\n",
       "      <td>-0.4368</td>\n",
       "    </tr>\n",
       "    <tr>\n",
       "      <th>3</th>\n",
       "      <td>1003548</td>\n",
       "      <td>0.0255</td>\n",
       "      <td>-1.97485</td>\n",
       "      <td>-4.52005</td>\n",
       "      <td>-1.5961</td>\n",
       "      <td>-5.09210</td>\n",
       "      <td>-2.67535</td>\n",
       "      <td>-0.2824</td>\n",
       "      <td>-2.4128</td>\n",
       "      <td>-6.44710</td>\n",
       "      <td>...</td>\n",
       "      <td>1.1505</td>\n",
       "      <td>0.1681</td>\n",
       "      <td>0.2402</td>\n",
       "      <td>-5.0317</td>\n",
       "      <td>0.42805</td>\n",
       "      <td>0.55870</td>\n",
       "      <td>0.4882</td>\n",
       "      <td>-7.2245</td>\n",
       "      <td>-0.0600</td>\n",
       "      <td>0.7822</td>\n",
       "    </tr>\n",
       "  </tbody>\n",
       "</table>\n",
       "<p>4 rows × 2924 columns</p>\n",
       "</div>"
      ],
      "text/plain": [
       "       eid  olink_instance_0.a1bg  olink_instance_0.aamdc  \\\n",
       "0  1002133                 0.0957                 0.59795   \n",
       "1  1002201                -0.0473                 0.39585   \n",
       "2  1002534                -0.2239                -0.04545   \n",
       "3  1003548                 0.0255                -1.97485   \n",
       "\n",
       "   olink_instance_0.aarsd1  olink_instance_0.abca2  olink_instance_0.abhd14b  \\\n",
       "0                  1.33215                 -0.6441                   0.76325   \n",
       "1                  0.26585                  0.0604                   1.07765   \n",
       "2                 -0.07580                  0.2499                  -0.48380   \n",
       "3                 -4.52005                 -1.5961                  -5.09210   \n",
       "\n",
       "   olink_instance_0.abl1  olink_instance_0.abo  olink_instance_0.abraxas2  \\\n",
       "0                0.37840                0.5446                     0.4682   \n",
       "1                1.39770                0.5830                     1.0740   \n",
       "2                0.45780               -0.0678                    -0.1641   \n",
       "3               -2.67535               -0.2824                    -2.4128   \n",
       "\n",
       "   olink_instance_0.acaa1  ...  olink_instance_0.zfyve19  \\\n",
       "0                 0.21920  ...                   -0.2728   \n",
       "1                 0.75625  ...                    0.9153   \n",
       "2                -0.29010  ...                   -0.8164   \n",
       "3                -6.44710  ...                    1.1505   \n",
       "\n",
       "   olink_instance_0.zhx2  olink_instance_0.znf174  olink_instance_0.znf75d  \\\n",
       "0                 0.1954                  -0.2586                  -0.0127   \n",
       "1                -0.0274                  -0.3048                  -0.8814   \n",
       "2                 0.2514                   0.4768                  -0.4894   \n",
       "3                 0.1681                   0.2402                  -5.0317   \n",
       "\n",
       "   olink_instance_0.znf830  olink_instance_0.znrd2  olink_instance_0.znrf4  \\\n",
       "0                  0.02350                -0.26245                 -0.1236   \n",
       "1                 -0.53420                 1.12255                 -0.5537   \n",
       "2                 -0.21715                 0.00550                 -0.0715   \n",
       "3                  0.42805                 0.55870                  0.4882   \n",
       "\n",
       "   olink_instance_0.zp3  olink_instance_0.zp4  olink_instance_0.zpr1  \n",
       "0               -6.0773               -0.0136                 0.4131  \n",
       "1               -5.1443               -0.1713                -0.5605  \n",
       "2               -5.9309               -0.2436                -0.4368  \n",
       "3               -7.2245               -0.0600                 0.7822  \n",
       "\n",
       "[4 rows x 2924 columns]"
      ]
     },
     "execution_count": 18,
     "metadata": {},
     "output_type": "execute_result"
    }
   ],
   "source": [
    "Olink_df_imputed.head(4)"
   ]
  },
  {
   "cell_type": "code",
   "execution_count": 19,
   "id": "3e160da0-7288-425a-b2fd-fc7c146c4059",
   "metadata": {},
   "outputs": [
    {
     "name": "stdout",
     "output_type": "stream",
     "text": [
      "               eid           protein_name  protein_expression\n",
      "0          1002133  olink_instance_0.a1bg              0.0957\n",
      "1          1002201  olink_instance_0.a1bg             -0.0473\n",
      "2          1002534  olink_instance_0.a1bg             -0.2239\n",
      "3          1003548  olink_instance_0.a1bg              0.0255\n",
      "4          1003599  olink_instance_0.a1bg              0.2003\n",
      "...            ...                    ...                 ...\n",
      "154956994  6021692  olink_instance_0.zpr1              1.2116\n",
      "154956995  6021914  olink_instance_0.zpr1             -0.0460\n",
      "154956996  6022081  olink_instance_0.zpr1             -0.6499\n",
      "154956997  6022213  olink_instance_0.zpr1             -0.1758\n",
      "154956998  6022247  olink_instance_0.zpr1              1.4512\n",
      "\n",
      "[154956999 rows x 3 columns]\n"
     ]
    }
   ],
   "source": [
    "# 将数据框从宽格式转换为长格式\n",
    "Olink_long_df = pd.melt(Olink_df_imputed, id_vars=['eid'], var_name='protein_name', value_name='protein_expression')\n",
    "\n",
    "print(Olink_long_df)  "
   ]
  },
  {
   "cell_type": "code",
   "execution_count": 20,
   "id": "b37da54c-5dae-4537-bdf0-9f82e421d765",
   "metadata": {},
   "outputs": [
    {
     "data": {
      "text/plain": [
       "154956999"
      ]
     },
     "execution_count": 20,
     "metadata": {},
     "output_type": "execute_result"
    }
   ],
   "source": [
    "53013 * 2923"
   ]
  },
  {
   "cell_type": "code",
   "execution_count": 21,
   "id": "1c552fb4-298f-4ef4-977e-58cb680a538d",
   "metadata": {},
   "outputs": [
    {
     "name": "stdout",
     "output_type": "stream",
     "text": [
      "-9.66045\n",
      "13.4435\n"
     ]
    }
   ],
   "source": [
    "print(Olink_long_df['protein_expression'].min())\n",
    "print(Olink_long_df['protein_expression'].max())"
   ]
  },
  {
   "cell_type": "code",
   "execution_count": 22,
   "id": "1525f06a-cb66-44c1-b29d-aec97982e58c",
   "metadata": {},
   "outputs": [
    {
     "data": {
      "text/plain": [
       "count    1.549570e+08\n",
       "mean    -2.591068e-01\n",
       "std      1.175336e+00\n",
       "min     -9.660450e+00\n",
       "25%     -4.430000e-01\n",
       "50%     -5.570000e-02\n",
       "75%      2.548500e-01\n",
       "max      1.344350e+01\n",
       "Name: protein_expression, dtype: float64"
      ]
     },
     "execution_count": 22,
     "metadata": {},
     "output_type": "execute_result"
    }
   ],
   "source": [
    "Olink_long_df['protein_expression'].describe()"
   ]
  },
  {
   "cell_type": "code",
   "execution_count": 23,
   "id": "b9fd5692-79bd-412f-843b-975ab4ac69f8",
   "metadata": {},
   "outputs": [],
   "source": [
    "Olink_long_df = Olink_long_df.dropna(subset=['protein_expression'])"
   ]
  },
  {
   "cell_type": "code",
   "execution_count": 24,
   "id": "b96c4f4f-7ad9-4700-a146-df5dc8d9ec31",
   "metadata": {},
   "outputs": [
    {
     "data": {
      "text/plain": [
       "(154956999, 3)"
      ]
     },
     "execution_count": 24,
     "metadata": {},
     "output_type": "execute_result"
    }
   ],
   "source": [
    "Olink_long_df.shape"
   ]
  },
  {
   "cell_type": "code",
   "execution_count": 25,
   "id": "0e8a505f-8417-4ca4-8bbe-465dd58ab6bc",
   "metadata": {},
   "outputs": [],
   "source": [
    "NMR_df = pd.read_csv(\"/home/llma/wzy/comorbidity/Data/NMR.csv\")"
   ]
  },
  {
   "cell_type": "code",
   "execution_count": 26,
   "id": "79e3d09a-07fe-4060-93a1-da73ad91413f",
   "metadata": {},
   "outputs": [
    {
     "data": {
      "text/plain": [
       "(502131, 252)"
      ]
     },
     "execution_count": 26,
     "metadata": {},
     "output_type": "execute_result"
    }
   ],
   "source": [
    "NMR_df.shape"
   ]
  },
  {
   "cell_type": "code",
   "execution_count": 27,
   "id": "3947d2e8-e85f-462b-82fd-c81f0598bbfc",
   "metadata": {},
   "outputs": [
    {
     "data": {
      "text/html": [
       "<div>\n",
       "<style scoped>\n",
       "    .dataframe tbody tr th:only-of-type {\n",
       "        vertical-align: middle;\n",
       "    }\n",
       "\n",
       "    .dataframe tbody tr th {\n",
       "        vertical-align: top;\n",
       "    }\n",
       "\n",
       "    .dataframe thead th {\n",
       "        text-align: right;\n",
       "    }\n",
       "</style>\n",
       "<table border=\"1\" class=\"dataframe\">\n",
       "  <thead>\n",
       "    <tr style=\"text-align: right;\">\n",
       "      <th></th>\n",
       "      <th>participant.eid</th>\n",
       "      <th>participant.p20280_i0</th>\n",
       "      <th>participant.p20281_i0</th>\n",
       "      <th>participant.p23400_i0</th>\n",
       "      <th>participant.p23401_i0</th>\n",
       "      <th>participant.p23402_i0</th>\n",
       "      <th>participant.p23403_i0</th>\n",
       "      <th>participant.p23404_i0</th>\n",
       "      <th>participant.p23405_i0</th>\n",
       "      <th>participant.p23406_i0</th>\n",
       "      <th>...</th>\n",
       "      <th>participant.p23639_i0</th>\n",
       "      <th>participant.p23640_i0</th>\n",
       "      <th>participant.p23641_i0</th>\n",
       "      <th>participant.p23642_i0</th>\n",
       "      <th>participant.p23643_i0</th>\n",
       "      <th>participant.p23644_i0</th>\n",
       "      <th>participant.p23645_i0</th>\n",
       "      <th>participant.p23646_i0</th>\n",
       "      <th>participant.p23647_i0</th>\n",
       "      <th>participant.p23648_i0</th>\n",
       "    </tr>\n",
       "  </thead>\n",
       "  <tbody>\n",
       "    <tr>\n",
       "      <th>0</th>\n",
       "      <td>1000053</td>\n",
       "      <td>2.9721</td>\n",
       "      <td>0.282259</td>\n",
       "      <td>3.8459</td>\n",
       "      <td>2.9413</td>\n",
       "      <td>1.5075</td>\n",
       "      <td>0.83349</td>\n",
       "      <td>1.9998</td>\n",
       "      <td>1.4338</td>\n",
       "      <td>0.90459</td>\n",
       "      <td>...</td>\n",
       "      <td>49.941</td>\n",
       "      <td>40.646</td>\n",
       "      <td>33.031</td>\n",
       "      <td>7.6145</td>\n",
       "      <td>9.413</td>\n",
       "      <td>58.373</td>\n",
       "      <td>34.427</td>\n",
       "      <td>24.479</td>\n",
       "      <td>9.9478</td>\n",
       "      <td>7.2007</td>\n",
       "    </tr>\n",
       "    <tr>\n",
       "      <th>1</th>\n",
       "      <td>1000122</td>\n",
       "      <td>NaN</td>\n",
       "      <td>NaN</td>\n",
       "      <td>NaN</td>\n",
       "      <td>NaN</td>\n",
       "      <td>NaN</td>\n",
       "      <td>NaN</td>\n",
       "      <td>NaN</td>\n",
       "      <td>NaN</td>\n",
       "      <td>NaN</td>\n",
       "      <td>...</td>\n",
       "      <td>NaN</td>\n",
       "      <td>NaN</td>\n",
       "      <td>NaN</td>\n",
       "      <td>NaN</td>\n",
       "      <td>NaN</td>\n",
       "      <td>NaN</td>\n",
       "      <td>NaN</td>\n",
       "      <td>NaN</td>\n",
       "      <td>NaN</td>\n",
       "      <td>NaN</td>\n",
       "    </tr>\n",
       "  </tbody>\n",
       "</table>\n",
       "<p>2 rows × 252 columns</p>\n",
       "</div>"
      ],
      "text/plain": [
       "   participant.eid  participant.p20280_i0  participant.p20281_i0  \\\n",
       "0          1000053                 2.9721               0.282259   \n",
       "1          1000122                    NaN                    NaN   \n",
       "\n",
       "   participant.p23400_i0  participant.p23401_i0  participant.p23402_i0  \\\n",
       "0                 3.8459                 2.9413                 1.5075   \n",
       "1                    NaN                    NaN                    NaN   \n",
       "\n",
       "   participant.p23403_i0  participant.p23404_i0  participant.p23405_i0  \\\n",
       "0                0.83349                 1.9998                 1.4338   \n",
       "1                    NaN                    NaN                    NaN   \n",
       "\n",
       "   participant.p23406_i0  ...  participant.p23639_i0  participant.p23640_i0  \\\n",
       "0                0.90459  ...                 49.941                 40.646   \n",
       "1                    NaN  ...                    NaN                    NaN   \n",
       "\n",
       "   participant.p23641_i0  participant.p23642_i0  participant.p23643_i0  \\\n",
       "0                 33.031                 7.6145                  9.413   \n",
       "1                    NaN                    NaN                    NaN   \n",
       "\n",
       "   participant.p23644_i0  participant.p23645_i0  participant.p23646_i0  \\\n",
       "0                 58.373                 34.427                 24.479   \n",
       "1                    NaN                    NaN                    NaN   \n",
       "\n",
       "   participant.p23647_i0  participant.p23648_i0  \n",
       "0                 9.9478                 7.2007  \n",
       "1                    NaN                    NaN  \n",
       "\n",
       "[2 rows x 252 columns]"
      ]
     },
     "execution_count": 27,
     "metadata": {},
     "output_type": "execute_result"
    }
   ],
   "source": [
    "NMR_df.head(2)"
   ]
  },
  {
   "cell_type": "code",
   "execution_count": 28,
   "id": "f40224ef-b761-4f72-9c2d-999925a82d6d",
   "metadata": {},
   "outputs": [],
   "source": [
    "NMR_df = NMR_df.rename(columns={'participant.eid': 'eid'})"
   ]
  },
  {
   "cell_type": "code",
   "execution_count": 29,
   "id": "bad16193-1b0a-42e5-9833-05fd981a50d8",
   "metadata": {},
   "outputs": [
    {
     "data": {
      "text/html": [
       "<div>\n",
       "<style scoped>\n",
       "    .dataframe tbody tr th:only-of-type {\n",
       "        vertical-align: middle;\n",
       "    }\n",
       "\n",
       "    .dataframe tbody tr th {\n",
       "        vertical-align: top;\n",
       "    }\n",
       "\n",
       "    .dataframe thead th {\n",
       "        text-align: right;\n",
       "    }\n",
       "</style>\n",
       "<table border=\"1\" class=\"dataframe\">\n",
       "  <thead>\n",
       "    <tr style=\"text-align: right;\">\n",
       "      <th></th>\n",
       "      <th>eid</th>\n",
       "      <th>participant.p20280_i0</th>\n",
       "      <th>participant.p20281_i0</th>\n",
       "      <th>participant.p23400_i0</th>\n",
       "      <th>participant.p23401_i0</th>\n",
       "      <th>participant.p23402_i0</th>\n",
       "      <th>participant.p23403_i0</th>\n",
       "      <th>participant.p23404_i0</th>\n",
       "      <th>participant.p23405_i0</th>\n",
       "      <th>participant.p23406_i0</th>\n",
       "      <th>...</th>\n",
       "      <th>participant.p23639_i0</th>\n",
       "      <th>participant.p23640_i0</th>\n",
       "      <th>participant.p23641_i0</th>\n",
       "      <th>participant.p23642_i0</th>\n",
       "      <th>participant.p23643_i0</th>\n",
       "      <th>participant.p23644_i0</th>\n",
       "      <th>participant.p23645_i0</th>\n",
       "      <th>participant.p23646_i0</th>\n",
       "      <th>participant.p23647_i0</th>\n",
       "      <th>participant.p23648_i0</th>\n",
       "    </tr>\n",
       "  </thead>\n",
       "  <tbody>\n",
       "    <tr>\n",
       "      <th>0</th>\n",
       "      <td>1000053</td>\n",
       "      <td>2.97210</td>\n",
       "      <td>0.282259</td>\n",
       "      <td>3.8459</td>\n",
       "      <td>2.9413</td>\n",
       "      <td>1.5075</td>\n",
       "      <td>0.83349</td>\n",
       "      <td>1.9998</td>\n",
       "      <td>1.4338</td>\n",
       "      <td>0.90459</td>\n",
       "      <td>...</td>\n",
       "      <td>49.941</td>\n",
       "      <td>40.646</td>\n",
       "      <td>33.031</td>\n",
       "      <td>7.6145</td>\n",
       "      <td>9.4130</td>\n",
       "      <td>58.373</td>\n",
       "      <td>34.427</td>\n",
       "      <td>24.479</td>\n",
       "      <td>9.9478</td>\n",
       "      <td>7.2007</td>\n",
       "    </tr>\n",
       "    <tr>\n",
       "      <th>1</th>\n",
       "      <td>1000122</td>\n",
       "      <td>NaN</td>\n",
       "      <td>NaN</td>\n",
       "      <td>NaN</td>\n",
       "      <td>NaN</td>\n",
       "      <td>NaN</td>\n",
       "      <td>NaN</td>\n",
       "      <td>NaN</td>\n",
       "      <td>NaN</td>\n",
       "      <td>NaN</td>\n",
       "      <td>...</td>\n",
       "      <td>NaN</td>\n",
       "      <td>NaN</td>\n",
       "      <td>NaN</td>\n",
       "      <td>NaN</td>\n",
       "      <td>NaN</td>\n",
       "      <td>NaN</td>\n",
       "      <td>NaN</td>\n",
       "      <td>NaN</td>\n",
       "      <td>NaN</td>\n",
       "      <td>NaN</td>\n",
       "    </tr>\n",
       "    <tr>\n",
       "      <th>2</th>\n",
       "      <td>1000148</td>\n",
       "      <td>5.79763</td>\n",
       "      <td>0.407074</td>\n",
       "      <td>6.5412</td>\n",
       "      <td>4.7789</td>\n",
       "      <td>2.1906</td>\n",
       "      <td>0.94260</td>\n",
       "      <td>3.9233</td>\n",
       "      <td>2.5883</td>\n",
       "      <td>1.76230</td>\n",
       "      <td>...</td>\n",
       "      <td>46.042</td>\n",
       "      <td>50.345</td>\n",
       "      <td>40.931</td>\n",
       "      <td>9.4135</td>\n",
       "      <td>3.6133</td>\n",
       "      <td>56.367</td>\n",
       "      <td>40.318</td>\n",
       "      <td>29.758</td>\n",
       "      <td>10.5600</td>\n",
       "      <td>3.3156</td>\n",
       "    </tr>\n",
       "    <tr>\n",
       "      <th>3</th>\n",
       "      <td>1000150</td>\n",
       "      <td>5.32703</td>\n",
       "      <td>0.436711</td>\n",
       "      <td>4.2633</td>\n",
       "      <td>3.1027</td>\n",
       "      <td>1.4863</td>\n",
       "      <td>0.82748</td>\n",
       "      <td>1.9775</td>\n",
       "      <td>1.6164</td>\n",
       "      <td>1.16060</td>\n",
       "      <td>...</td>\n",
       "      <td>49.781</td>\n",
       "      <td>40.044</td>\n",
       "      <td>32.094</td>\n",
       "      <td>7.9500</td>\n",
       "      <td>10.1750</td>\n",
       "      <td>58.825</td>\n",
       "      <td>32.954</td>\n",
       "      <td>23.077</td>\n",
       "      <td>9.8765</td>\n",
       "      <td>8.2210</td>\n",
       "    </tr>\n",
       "  </tbody>\n",
       "</table>\n",
       "<p>4 rows × 252 columns</p>\n",
       "</div>"
      ],
      "text/plain": [
       "       eid  participant.p20280_i0  participant.p20281_i0  \\\n",
       "0  1000053                2.97210               0.282259   \n",
       "1  1000122                    NaN                    NaN   \n",
       "2  1000148                5.79763               0.407074   \n",
       "3  1000150                5.32703               0.436711   \n",
       "\n",
       "   participant.p23400_i0  participant.p23401_i0  participant.p23402_i0  \\\n",
       "0                 3.8459                 2.9413                 1.5075   \n",
       "1                    NaN                    NaN                    NaN   \n",
       "2                 6.5412                 4.7789                 2.1906   \n",
       "3                 4.2633                 3.1027                 1.4863   \n",
       "\n",
       "   participant.p23403_i0  participant.p23404_i0  participant.p23405_i0  \\\n",
       "0                0.83349                 1.9998                 1.4338   \n",
       "1                    NaN                    NaN                    NaN   \n",
       "2                0.94260                 3.9233                 2.5883   \n",
       "3                0.82748                 1.9775                 1.6164   \n",
       "\n",
       "   participant.p23406_i0  ...  participant.p23639_i0  participant.p23640_i0  \\\n",
       "0                0.90459  ...                 49.941                 40.646   \n",
       "1                    NaN  ...                    NaN                    NaN   \n",
       "2                1.76230  ...                 46.042                 50.345   \n",
       "3                1.16060  ...                 49.781                 40.044   \n",
       "\n",
       "   participant.p23641_i0  participant.p23642_i0  participant.p23643_i0  \\\n",
       "0                 33.031                 7.6145                 9.4130   \n",
       "1                    NaN                    NaN                    NaN   \n",
       "2                 40.931                 9.4135                 3.6133   \n",
       "3                 32.094                 7.9500                10.1750   \n",
       "\n",
       "   participant.p23644_i0  participant.p23645_i0  participant.p23646_i0  \\\n",
       "0                 58.373                 34.427                 24.479   \n",
       "1                    NaN                    NaN                    NaN   \n",
       "2                 56.367                 40.318                 29.758   \n",
       "3                 58.825                 32.954                 23.077   \n",
       "\n",
       "   participant.p23647_i0  participant.p23648_i0  \n",
       "0                 9.9478                 7.2007  \n",
       "1                    NaN                    NaN  \n",
       "2                10.5600                 3.3156  \n",
       "3                 9.8765                 8.2210  \n",
       "\n",
       "[4 rows x 252 columns]"
      ]
     },
     "execution_count": 29,
     "metadata": {},
     "output_type": "execute_result"
    }
   ],
   "source": [
    "NMR_df.head(4)"
   ]
  },
  {
   "cell_type": "code",
   "execution_count": 30,
   "id": "d3896345-a01b-43db-83dd-15e34ad65145",
   "metadata": {},
   "outputs": [],
   "source": [
    "# 提取非eid列\n",
    "NMR_cols = NMR_df.columns[1:]  # 第一列是eid"
   ]
  },
  {
   "cell_type": "code",
   "execution_count": 31,
   "id": "ec4dd921-9baa-4330-9d38-682119ed3222",
   "metadata": {},
   "outputs": [],
   "source": [
    "# 找出表达量全为NaN的病人行\n",
    "all_nan_mask = NMR_df[NMR_cols].isna().all(axis=1)"
   ]
  },
  {
   "cell_type": "code",
   "execution_count": 32,
   "id": "5c4b0414-bb21-41c2-a945-44d8cc3130bb",
   "metadata": {},
   "outputs": [],
   "source": [
    "# 过滤掉全NaN的病人\n",
    "NMR_df_filtered = NMR_df[~all_nan_mask].copy()"
   ]
  },
  {
   "cell_type": "code",
   "execution_count": 33,
   "id": "2e666e42-926e-4093-b91b-9cf761b96778",
   "metadata": {},
   "outputs": [
    {
     "data": {
      "text/plain": [
       "(274236, 252)"
      ]
     },
     "execution_count": 33,
     "metadata": {},
     "output_type": "execute_result"
    }
   ],
   "source": [
    "NMR_df_filtered.shape"
   ]
  },
  {
   "cell_type": "code",
   "execution_count": 34,
   "id": "1b802a18-9d6f-4fa7-a44e-cd8377f8dda5",
   "metadata": {},
   "outputs": [],
   "source": [
    "# 2. 用各列最小值填补NaN\n",
    "# 计算各列最小值（排除NaN）\n",
    "col_min_values = NMR_df_filtered[NMR_cols].min()\n",
    "\n",
    "# 填补NaN（使用广播机制）\n",
    "NMR_df_imputed = NMR_df_filtered.copy()\n",
    "NMR_df_imputed[NMR_cols] = NMR_df_filtered[NMR_cols].fillna(col_min_values)"
   ]
  },
  {
   "cell_type": "code",
   "execution_count": 35,
   "id": "7098264c-2f8a-4feb-b05f-f080161b663c",
   "metadata": {},
   "outputs": [
    {
     "data": {
      "text/html": [
       "<div>\n",
       "<style scoped>\n",
       "    .dataframe tbody tr th:only-of-type {\n",
       "        vertical-align: middle;\n",
       "    }\n",
       "\n",
       "    .dataframe tbody tr th {\n",
       "        vertical-align: top;\n",
       "    }\n",
       "\n",
       "    .dataframe thead th {\n",
       "        text-align: right;\n",
       "    }\n",
       "</style>\n",
       "<table border=\"1\" class=\"dataframe\">\n",
       "  <thead>\n",
       "    <tr style=\"text-align: right;\">\n",
       "      <th></th>\n",
       "      <th>eid</th>\n",
       "      <th>participant.p20280_i0</th>\n",
       "      <th>participant.p20281_i0</th>\n",
       "      <th>participant.p23400_i0</th>\n",
       "      <th>participant.p23401_i0</th>\n",
       "      <th>participant.p23402_i0</th>\n",
       "      <th>participant.p23403_i0</th>\n",
       "      <th>participant.p23404_i0</th>\n",
       "      <th>participant.p23405_i0</th>\n",
       "      <th>participant.p23406_i0</th>\n",
       "      <th>...</th>\n",
       "      <th>participant.p23639_i0</th>\n",
       "      <th>participant.p23640_i0</th>\n",
       "      <th>participant.p23641_i0</th>\n",
       "      <th>participant.p23642_i0</th>\n",
       "      <th>participant.p23643_i0</th>\n",
       "      <th>participant.p23644_i0</th>\n",
       "      <th>participant.p23645_i0</th>\n",
       "      <th>participant.p23646_i0</th>\n",
       "      <th>participant.p23647_i0</th>\n",
       "      <th>participant.p23648_i0</th>\n",
       "    </tr>\n",
       "  </thead>\n",
       "  <tbody>\n",
       "    <tr>\n",
       "      <th>0</th>\n",
       "      <td>1000053</td>\n",
       "      <td>2.97210</td>\n",
       "      <td>0.282259</td>\n",
       "      <td>3.8459</td>\n",
       "      <td>2.9413</td>\n",
       "      <td>1.5075</td>\n",
       "      <td>0.83349</td>\n",
       "      <td>1.9998</td>\n",
       "      <td>1.4338</td>\n",
       "      <td>0.90459</td>\n",
       "      <td>...</td>\n",
       "      <td>49.941</td>\n",
       "      <td>40.646</td>\n",
       "      <td>33.031</td>\n",
       "      <td>7.6145</td>\n",
       "      <td>9.4130</td>\n",
       "      <td>58.373</td>\n",
       "      <td>34.427</td>\n",
       "      <td>24.479</td>\n",
       "      <td>9.9478</td>\n",
       "      <td>7.2007</td>\n",
       "    </tr>\n",
       "    <tr>\n",
       "      <th>2</th>\n",
       "      <td>1000148</td>\n",
       "      <td>5.79763</td>\n",
       "      <td>0.407074</td>\n",
       "      <td>6.5412</td>\n",
       "      <td>4.7789</td>\n",
       "      <td>2.1906</td>\n",
       "      <td>0.94260</td>\n",
       "      <td>3.9233</td>\n",
       "      <td>2.5883</td>\n",
       "      <td>1.76230</td>\n",
       "      <td>...</td>\n",
       "      <td>46.042</td>\n",
       "      <td>50.345</td>\n",
       "      <td>40.931</td>\n",
       "      <td>9.4135</td>\n",
       "      <td>3.6133</td>\n",
       "      <td>56.367</td>\n",
       "      <td>40.318</td>\n",
       "      <td>29.758</td>\n",
       "      <td>10.5600</td>\n",
       "      <td>3.3156</td>\n",
       "    </tr>\n",
       "    <tr>\n",
       "      <th>3</th>\n",
       "      <td>1000150</td>\n",
       "      <td>5.32703</td>\n",
       "      <td>0.436711</td>\n",
       "      <td>4.2633</td>\n",
       "      <td>3.1027</td>\n",
       "      <td>1.4863</td>\n",
       "      <td>0.82748</td>\n",
       "      <td>1.9775</td>\n",
       "      <td>1.6164</td>\n",
       "      <td>1.16060</td>\n",
       "      <td>...</td>\n",
       "      <td>49.781</td>\n",
       "      <td>40.044</td>\n",
       "      <td>32.094</td>\n",
       "      <td>7.9500</td>\n",
       "      <td>10.1750</td>\n",
       "      <td>58.825</td>\n",
       "      <td>32.954</td>\n",
       "      <td>23.077</td>\n",
       "      <td>9.8765</td>\n",
       "      <td>8.2210</td>\n",
       "    </tr>\n",
       "    <tr>\n",
       "      <th>5</th>\n",
       "      <td>1000199</td>\n",
       "      <td>5.73236</td>\n",
       "      <td>0.384780</td>\n",
       "      <td>5.8360</td>\n",
       "      <td>3.8974</td>\n",
       "      <td>1.8090</td>\n",
       "      <td>0.81030</td>\n",
       "      <td>3.0389</td>\n",
       "      <td>2.0885</td>\n",
       "      <td>1.93860</td>\n",
       "      <td>...</td>\n",
       "      <td>46.181</td>\n",
       "      <td>48.841</td>\n",
       "      <td>39.874</td>\n",
       "      <td>8.9677</td>\n",
       "      <td>4.9780</td>\n",
       "      <td>58.066</td>\n",
       "      <td>37.815</td>\n",
       "      <td>28.076</td>\n",
       "      <td>9.7397</td>\n",
       "      <td>4.1188</td>\n",
       "    </tr>\n",
       "  </tbody>\n",
       "</table>\n",
       "<p>4 rows × 252 columns</p>\n",
       "</div>"
      ],
      "text/plain": [
       "       eid  participant.p20280_i0  participant.p20281_i0  \\\n",
       "0  1000053                2.97210               0.282259   \n",
       "2  1000148                5.79763               0.407074   \n",
       "3  1000150                5.32703               0.436711   \n",
       "5  1000199                5.73236               0.384780   \n",
       "\n",
       "   participant.p23400_i0  participant.p23401_i0  participant.p23402_i0  \\\n",
       "0                 3.8459                 2.9413                 1.5075   \n",
       "2                 6.5412                 4.7789                 2.1906   \n",
       "3                 4.2633                 3.1027                 1.4863   \n",
       "5                 5.8360                 3.8974                 1.8090   \n",
       "\n",
       "   participant.p23403_i0  participant.p23404_i0  participant.p23405_i0  \\\n",
       "0                0.83349                 1.9998                 1.4338   \n",
       "2                0.94260                 3.9233                 2.5883   \n",
       "3                0.82748                 1.9775                 1.6164   \n",
       "5                0.81030                 3.0389                 2.0885   \n",
       "\n",
       "   participant.p23406_i0  ...  participant.p23639_i0  participant.p23640_i0  \\\n",
       "0                0.90459  ...                 49.941                 40.646   \n",
       "2                1.76230  ...                 46.042                 50.345   \n",
       "3                1.16060  ...                 49.781                 40.044   \n",
       "5                1.93860  ...                 46.181                 48.841   \n",
       "\n",
       "   participant.p23641_i0  participant.p23642_i0  participant.p23643_i0  \\\n",
       "0                 33.031                 7.6145                 9.4130   \n",
       "2                 40.931                 9.4135                 3.6133   \n",
       "3                 32.094                 7.9500                10.1750   \n",
       "5                 39.874                 8.9677                 4.9780   \n",
       "\n",
       "   participant.p23644_i0  participant.p23645_i0  participant.p23646_i0  \\\n",
       "0                 58.373                 34.427                 24.479   \n",
       "2                 56.367                 40.318                 29.758   \n",
       "3                 58.825                 32.954                 23.077   \n",
       "5                 58.066                 37.815                 28.076   \n",
       "\n",
       "   participant.p23647_i0  participant.p23648_i0  \n",
       "0                 9.9478                 7.2007  \n",
       "2                10.5600                 3.3156  \n",
       "3                 9.8765                 8.2210  \n",
       "5                 9.7397                 4.1188  \n",
       "\n",
       "[4 rows x 252 columns]"
      ]
     },
     "execution_count": 35,
     "metadata": {},
     "output_type": "execute_result"
    }
   ],
   "source": [
    "NMR_df_imputed.head(4)"
   ]
  },
  {
   "cell_type": "code",
   "execution_count": 36,
   "id": "289723d3-490b-408c-8ca6-521278a2d353",
   "metadata": {},
   "outputs": [
    {
     "name": "stdout",
     "output_type": "stream",
     "text": [
      "              eid               NMR_name  NMR_expression\n",
      "0         1000053  participant.p20280_i0         2.97210\n",
      "1         1000148  participant.p20280_i0         5.79763\n",
      "2         1000150  participant.p20280_i0         5.32703\n",
      "3         1000199  participant.p20280_i0         5.73236\n",
      "4         1000428  participant.p20280_i0         5.26226\n",
      "...           ...                    ...             ...\n",
      "68833231  6022081  participant.p23648_i0         5.61880\n",
      "68833232  6022102  participant.p23648_i0         5.26160\n",
      "68833233  6022141  participant.p23648_i0         4.78620\n",
      "68833234  6022197  participant.p23648_i0         3.85360\n",
      "68833235  6022252  participant.p23648_i0         5.26830\n",
      "\n",
      "[68833236 rows x 3 columns]\n"
     ]
    }
   ],
   "source": [
    "# 将数据框从宽格式转换为长格式\n",
    "NMR_long_df = pd.melt(NMR_df_imputed, id_vars=['eid'], var_name='NMR_name', value_name='NMR_expression')\n",
    "\n",
    "print(NMR_long_df)  "
   ]
  },
  {
   "cell_type": "code",
   "execution_count": 37,
   "id": "6702d38d-e18a-440d-83f6-25e8cf6ae021",
   "metadata": {},
   "outputs": [
    {
     "data": {
      "text/plain": [
       "(274236, 252)"
      ]
     },
     "execution_count": 37,
     "metadata": {},
     "output_type": "execute_result"
    }
   ],
   "source": [
    "NMR_df_imputed.shape"
   ]
  },
  {
   "cell_type": "code",
   "execution_count": 38,
   "id": "a0afc86a-9dd2-4bd2-af40-972051a769ed",
   "metadata": {},
   "outputs": [
    {
     "data": {
      "text/plain": [
       "68833236"
      ]
     },
     "execution_count": 38,
     "metadata": {},
     "output_type": "execute_result"
    }
   ],
   "source": [
    "274236 * 251"
   ]
  },
  {
   "cell_type": "code",
   "execution_count": 39,
   "id": "e9e18a2b-ce46-448d-a555-a0dfaaabeb7b",
   "metadata": {},
   "outputs": [
    {
     "name": "stdout",
     "output_type": "stream",
     "text": [
      "              eid               NMR_name  NMR_expression\n",
      "0         1000053  participant.p20280_i0         2.97210\n",
      "1         1000148  participant.p20280_i0         5.79763\n",
      "2         1000150  participant.p20280_i0         5.32703\n",
      "3         1000199  participant.p20280_i0         5.73236\n",
      "4         1000428  participant.p20280_i0         5.26226\n",
      "...           ...                    ...             ...\n",
      "68833231  6022081  participant.p23648_i0         5.61880\n",
      "68833232  6022102  participant.p23648_i0         5.26160\n",
      "68833233  6022141  participant.p23648_i0         4.78620\n",
      "68833234  6022197  participant.p23648_i0         3.85360\n",
      "68833235  6022252  participant.p23648_i0         5.26830\n",
      "\n",
      "[68833236 rows x 3 columns]\n"
     ]
    }
   ],
   "source": [
    "# 移除 NMR_expression 列中值为 NaN 的行\n",
    "NMR_long_df = NMR_long_df.dropna(subset=['NMR_expression'])\n",
    "\n",
    "print(NMR_long_df) "
   ]
  },
  {
   "cell_type": "code",
   "execution_count": 40,
   "id": "fec3be35-b141-4d02-8994-8153328be576",
   "metadata": {},
   "outputs": [
    {
     "data": {
      "text/plain": [
       "27295"
      ]
     },
     "execution_count": 40,
     "metadata": {},
     "output_type": "execute_result"
    }
   ],
   "source": [
    "len(set(clinical_df['eid'])&set(Olink_df_imputed['eid'])&set(NMR_df_imputed['eid']))"
   ]
  },
  {
   "cell_type": "code",
   "execution_count": 41,
   "id": "8641cf18-d44c-468e-9224-4988709fa6af",
   "metadata": {},
   "outputs": [
    {
     "data": {
      "text/plain": [
       "47626"
      ]
     },
     "execution_count": 41,
     "metadata": {},
     "output_type": "execute_result"
    }
   ],
   "source": [
    "len(set(clinical_df['eid'])&set(Olink_df_imputed['eid']))"
   ]
  },
  {
   "cell_type": "code",
   "execution_count": 42,
   "id": "42a938a2-1402-460d-9f80-fc342f3ce369",
   "metadata": {},
   "outputs": [
    {
     "data": {
      "text/plain": [
       "244823"
      ]
     },
     "execution_count": 42,
     "metadata": {},
     "output_type": "execute_result"
    }
   ],
   "source": [
    "len(set(clinical_df['eid'])&set(NMR_df_imputed['eid']))"
   ]
  },
  {
   "cell_type": "code",
   "execution_count": 43,
   "id": "002a6470-9fe8-4b96-8ffa-481ff7b8bedc",
   "metadata": {},
   "outputs": [
    {
     "data": {
      "text/plain": [
       "30294"
      ]
     },
     "execution_count": 43,
     "metadata": {},
     "output_type": "execute_result"
    }
   ],
   "source": [
    "len(set(Olink_df_imputed['eid'])&set(NMR_df_imputed['eid']))"
   ]
  },
  {
   "cell_type": "code",
   "execution_count": 46,
   "id": "8f22752e-3202-4bc4-86e2-f53551dbf2b5",
   "metadata": {},
   "outputs": [],
   "source": [
    "# 筛选出 clinical_df 中 eid 也存在于 Olink 的 eid 列中的行\n",
    "subset_clinical_df = clinical_df[clinical_df['eid'].isin(Olink_long_df['eid'])]"
   ]
  },
  {
   "cell_type": "code",
   "execution_count": 47,
   "id": "623a29d6-ff3c-4093-b0d2-51d2083c8656",
   "metadata": {},
   "outputs": [
    {
     "data": {
      "text/plain": [
       "(805376, 5)"
      ]
     },
     "execution_count": 47,
     "metadata": {},
     "output_type": "execute_result"
    }
   ],
   "source": [
    "subset_clinical_df.shape"
   ]
  },
  {
   "cell_type": "code",
   "execution_count": 51,
   "id": "d279ccac-9b6b-4d98-809e-f3f6a349456e",
   "metadata": {},
   "outputs": [],
   "source": [
    "# 筛选出 clinical_df 中 eid 也存在于 NMR 的 eid 列中的行\n",
    "subset_clinical_df = subset_clinical_df[subset_clinical_df['eid'].isin(NMR_long_df['eid'])]"
   ]
  },
  {
   "cell_type": "code",
   "execution_count": 52,
   "id": "e28cad5e-dbb8-4285-b120-78ea483bb3ba",
   "metadata": {},
   "outputs": [
    {
     "data": {
      "text/plain": [
       "(474560, 5)"
      ]
     },
     "execution_count": 52,
     "metadata": {},
     "output_type": "execute_result"
    }
   ],
   "source": [
    "subset_clinical_df.shape"
   ]
  },
  {
   "cell_type": "code",
   "execution_count": 53,
   "id": "78773e5d-e3e6-44f4-a64c-be476f8ce4f5",
   "metadata": {},
   "outputs": [
    {
     "data": {
      "text/html": [
       "<div>\n",
       "<style scoped>\n",
       "    .dataframe tbody tr th:only-of-type {\n",
       "        vertical-align: middle;\n",
       "    }\n",
       "\n",
       "    .dataframe tbody tr th {\n",
       "        vertical-align: top;\n",
       "    }\n",
       "\n",
       "    .dataframe thead th {\n",
       "        text-align: right;\n",
       "    }\n",
       "</style>\n",
       "<table border=\"1\" class=\"dataframe\">\n",
       "  <thead>\n",
       "    <tr style=\"text-align: right;\">\n",
       "      <th></th>\n",
       "      <th>eid</th>\n",
       "      <th>ICD10_codes</th>\n",
       "      <th>Date</th>\n",
       "      <th>p40000_i0</th>\n",
       "      <th>p40023</th>\n",
       "    </tr>\n",
       "  </thead>\n",
       "  <tbody>\n",
       "    <tr>\n",
       "      <th>743</th>\n",
       "      <td>1002133</td>\n",
       "      <td>I802</td>\n",
       "      <td>2003-04-02</td>\n",
       "      <td>NaN</td>\n",
       "      <td>NaN</td>\n",
       "    </tr>\n",
       "    <tr>\n",
       "      <th>744</th>\n",
       "      <td>1002133</td>\n",
       "      <td>M1997</td>\n",
       "      <td>2009-04-17</td>\n",
       "      <td>NaN</td>\n",
       "      <td>NaN</td>\n",
       "    </tr>\n",
       "  </tbody>\n",
       "</table>\n",
       "</div>"
      ],
      "text/plain": [
       "         eid ICD10_codes        Date p40000_i0  p40023\n",
       "743  1002133        I802  2003-04-02       NaN     NaN\n",
       "744  1002133       M1997  2009-04-17       NaN     NaN"
      ]
     },
     "execution_count": 53,
     "metadata": {},
     "output_type": "execute_result"
    }
   ],
   "source": [
    "subset_clinical_df.head(2)"
   ]
  },
  {
   "cell_type": "code",
   "execution_count": 60,
   "id": "7b26b4eb-8d3f-4e01-af96-8bcb184aa434",
   "metadata": {},
   "outputs": [
    {
     "data": {
      "text/plain": [
       "27295"
      ]
     },
     "execution_count": 60,
     "metadata": {},
     "output_type": "execute_result"
    }
   ],
   "source": [
    "len(set(subset_clinical_df['eid']))"
   ]
  },
  {
   "cell_type": "code",
   "execution_count": 61,
   "id": "a7feb7ff-3fba-4bea-9920-e3b96b446e9d",
   "metadata": {},
   "outputs": [
    {
     "data": {
      "text/html": [
       "<div>\n",
       "<style scoped>\n",
       "    .dataframe tbody tr th:only-of-type {\n",
       "        vertical-align: middle;\n",
       "    }\n",
       "\n",
       "    .dataframe tbody tr th {\n",
       "        vertical-align: top;\n",
       "    }\n",
       "\n",
       "    .dataframe thead th {\n",
       "        text-align: right;\n",
       "    }\n",
       "</style>\n",
       "<table border=\"1\" class=\"dataframe\">\n",
       "  <thead>\n",
       "    <tr style=\"text-align: right;\">\n",
       "      <th></th>\n",
       "      <th>eid</th>\n",
       "      <th>ICD10_codes</th>\n",
       "      <th>Date</th>\n",
       "      <th>p40000_i0</th>\n",
       "      <th>p40023</th>\n",
       "    </tr>\n",
       "  </thead>\n",
       "  <tbody>\n",
       "  </tbody>\n",
       "</table>\n",
       "</div>"
      ],
      "text/plain": [
       "Empty DataFrame\n",
       "Columns: [eid, ICD10_codes, Date, p40000_i0, p40023]\n",
       "Index: []"
      ]
     },
     "execution_count": 61,
     "metadata": {},
     "output_type": "execute_result"
    }
   ],
   "source": [
    "subset_clinical_df[subset_clinical_df['ICD10_codes'].isin(['C925', 'C926'])]"
   ]
  },
  {
   "cell_type": "code",
   "execution_count": 62,
   "id": "99f16fd8-967b-4285-b707-b43d3b7d6903",
   "metadata": {
    "collapsed": true,
    "jupyter": {
     "outputs_hidden": true
    }
   },
   "outputs": [
    {
     "data": {
      "text/html": [
       "<div>\n",
       "<style scoped>\n",
       "    .dataframe tbody tr th:only-of-type {\n",
       "        vertical-align: middle;\n",
       "    }\n",
       "\n",
       "    .dataframe tbody tr th {\n",
       "        vertical-align: top;\n",
       "    }\n",
       "\n",
       "    .dataframe thead th {\n",
       "        text-align: right;\n",
       "    }\n",
       "</style>\n",
       "<table border=\"1\" class=\"dataframe\">\n",
       "  <thead>\n",
       "    <tr style=\"text-align: right;\">\n",
       "      <th></th>\n",
       "      <th>eid</th>\n",
       "      <th>ICD10_codes</th>\n",
       "      <th>Date</th>\n",
       "      <th>p40000_i0</th>\n",
       "      <th>p40023</th>\n",
       "    </tr>\n",
       "  </thead>\n",
       "  <tbody>\n",
       "    <tr>\n",
       "      <th>244572</th>\n",
       "      <td>1885791</td>\n",
       "      <td>C925</td>\n",
       "      <td>2020-09-24</td>\n",
       "      <td>NaN</td>\n",
       "      <td>NaN</td>\n",
       "    </tr>\n",
       "    <tr>\n",
       "      <th>906343</th>\n",
       "      <td>4271193</td>\n",
       "      <td>C925</td>\n",
       "      <td>2022-09-01</td>\n",
       "      <td>2022-11-05</td>\n",
       "      <td>1.0</td>\n",
       "    </tr>\n",
       "    <tr>\n",
       "      <th>924419</th>\n",
       "      <td>4333041</td>\n",
       "      <td>C925</td>\n",
       "      <td>2018-05-01</td>\n",
       "      <td>2019-11-24</td>\n",
       "      <td>1.0</td>\n",
       "    </tr>\n",
       "    <tr>\n",
       "      <th>932795</th>\n",
       "      <td>4363997</td>\n",
       "      <td>C925</td>\n",
       "      <td>2019-03-18</td>\n",
       "      <td>2019-05-30</td>\n",
       "      <td>1.0</td>\n",
       "    </tr>\n",
       "    <tr>\n",
       "      <th>1026479</th>\n",
       "      <td>4702284</td>\n",
       "      <td>C926</td>\n",
       "      <td>2018-11-29</td>\n",
       "      <td>2019-01-30</td>\n",
       "      <td>1.0</td>\n",
       "    </tr>\n",
       "    <tr>\n",
       "      <th>1363326</th>\n",
       "      <td>5896025</td>\n",
       "      <td>C925</td>\n",
       "      <td>2019-12-28</td>\n",
       "      <td>NaN</td>\n",
       "      <td>NaN</td>\n",
       "    </tr>\n",
       "    <tr>\n",
       "      <th>1446130</th>\n",
       "      <td>1175085</td>\n",
       "      <td>C925</td>\n",
       "      <td>2021-04-03</td>\n",
       "      <td>2021-05-26</td>\n",
       "      <td>1.0</td>\n",
       "    </tr>\n",
       "    <tr>\n",
       "      <th>1462049</th>\n",
       "      <td>1234772</td>\n",
       "      <td>C925</td>\n",
       "      <td>2008-12-18</td>\n",
       "      <td>NaN</td>\n",
       "      <td>NaN</td>\n",
       "    </tr>\n",
       "    <tr>\n",
       "      <th>1625939</th>\n",
       "      <td>1805440</td>\n",
       "      <td>C925</td>\n",
       "      <td>2018-10-24</td>\n",
       "      <td>NaN</td>\n",
       "      <td>NaN</td>\n",
       "    </tr>\n",
       "    <tr>\n",
       "      <th>1684242</th>\n",
       "      <td>2011862</td>\n",
       "      <td>C925</td>\n",
       "      <td>2016-08-09</td>\n",
       "      <td>2018-12-29</td>\n",
       "      <td>1.0</td>\n",
       "    </tr>\n",
       "    <tr>\n",
       "      <th>1723076</th>\n",
       "      <td>2152641</td>\n",
       "      <td>C925</td>\n",
       "      <td>2022-05-17</td>\n",
       "      <td>NaN</td>\n",
       "      <td>NaN</td>\n",
       "    </tr>\n",
       "    <tr>\n",
       "      <th>1737666</th>\n",
       "      <td>2202427</td>\n",
       "      <td>C926</td>\n",
       "      <td>2013-11-04</td>\n",
       "      <td>2013-11-15</td>\n",
       "      <td>1.0</td>\n",
       "    </tr>\n",
       "    <tr>\n",
       "      <th>1790315</th>\n",
       "      <td>2395695</td>\n",
       "      <td>C925</td>\n",
       "      <td>2014-05-07</td>\n",
       "      <td>2015-02-23</td>\n",
       "      <td>1.0</td>\n",
       "    </tr>\n",
       "    <tr>\n",
       "      <th>1796069</th>\n",
       "      <td>2414670</td>\n",
       "      <td>C925</td>\n",
       "      <td>2021-07-30</td>\n",
       "      <td>2022-02-17</td>\n",
       "      <td>1.0</td>\n",
       "    </tr>\n",
       "    <tr>\n",
       "      <th>2049254</th>\n",
       "      <td>3328864</td>\n",
       "      <td>C925</td>\n",
       "      <td>2009-07-25</td>\n",
       "      <td>2009-08-12</td>\n",
       "      <td>1.0</td>\n",
       "    </tr>\n",
       "    <tr>\n",
       "      <th>2117651</th>\n",
       "      <td>3575847</td>\n",
       "      <td>C925</td>\n",
       "      <td>2008-02-11</td>\n",
       "      <td>2008-02-19</td>\n",
       "      <td>1.0</td>\n",
       "    </tr>\n",
       "    <tr>\n",
       "      <th>2461688</th>\n",
       "      <td>4804984</td>\n",
       "      <td>C925</td>\n",
       "      <td>2013-08-03</td>\n",
       "      <td>2015-11-12</td>\n",
       "      <td>1.0</td>\n",
       "    </tr>\n",
       "    <tr>\n",
       "      <th>2782645</th>\n",
       "      <td>5951360</td>\n",
       "      <td>C925</td>\n",
       "      <td>2012-01-31</td>\n",
       "      <td>2014-02-07</td>\n",
       "      <td>1.0</td>\n",
       "    </tr>\n",
       "    <tr>\n",
       "      <th>3034210</th>\n",
       "      <td>1821217</td>\n",
       "      <td>C926</td>\n",
       "      <td>2021-06-23</td>\n",
       "      <td>NaN</td>\n",
       "      <td>NaN</td>\n",
       "    </tr>\n",
       "    <tr>\n",
       "      <th>3520148</th>\n",
       "      <td>3551003</td>\n",
       "      <td>C925</td>\n",
       "      <td>2018-11-01</td>\n",
       "      <td>2020-01-03</td>\n",
       "      <td>1.0</td>\n",
       "    </tr>\n",
       "    <tr>\n",
       "      <th>4241157</th>\n",
       "      <td>1104330</td>\n",
       "      <td>C925</td>\n",
       "      <td>2020-03-02</td>\n",
       "      <td>NaN</td>\n",
       "      <td>NaN</td>\n",
       "    </tr>\n",
       "    <tr>\n",
       "      <th>4252307</th>\n",
       "      <td>1146621</td>\n",
       "      <td>C925</td>\n",
       "      <td>2013-10-29</td>\n",
       "      <td>2014-02-09</td>\n",
       "      <td>1.0</td>\n",
       "    </tr>\n",
       "    <tr>\n",
       "      <th>4419575</th>\n",
       "      <td>1751365</td>\n",
       "      <td>C925</td>\n",
       "      <td>2019-06-19</td>\n",
       "      <td>2021-04-06</td>\n",
       "      <td>1.0</td>\n",
       "    </tr>\n",
       "    <tr>\n",
       "      <th>4434156</th>\n",
       "      <td>1804104</td>\n",
       "      <td>C925</td>\n",
       "      <td>2019-08-05</td>\n",
       "      <td>NaN</td>\n",
       "      <td>NaN</td>\n",
       "    </tr>\n",
       "    <tr>\n",
       "      <th>4763732</th>\n",
       "      <td>2973100</td>\n",
       "      <td>C925</td>\n",
       "      <td>2011-09-13</td>\n",
       "      <td>NaN</td>\n",
       "      <td>NaN</td>\n",
       "    </tr>\n",
       "    <tr>\n",
       "      <th>4790733</th>\n",
       "      <td>3071648</td>\n",
       "      <td>C925</td>\n",
       "      <td>2013-04-08</td>\n",
       "      <td>2013-04-12</td>\n",
       "      <td>1.0</td>\n",
       "    </tr>\n",
       "    <tr>\n",
       "      <th>4960191</th>\n",
       "      <td>3691107</td>\n",
       "      <td>C926</td>\n",
       "      <td>2013-02-14</td>\n",
       "      <td>2014-10-23</td>\n",
       "      <td>1.0</td>\n",
       "    </tr>\n",
       "    <tr>\n",
       "      <th>5419726</th>\n",
       "      <td>5358562</td>\n",
       "      <td>C925</td>\n",
       "      <td>2013-11-26</td>\n",
       "      <td>NaN</td>\n",
       "      <td>NaN</td>\n",
       "    </tr>\n",
       "    <tr>\n",
       "      <th>5477125</th>\n",
       "      <td>5563504</td>\n",
       "      <td>C925</td>\n",
       "      <td>2018-01-04</td>\n",
       "      <td>2018-01-10</td>\n",
       "      <td>1.0</td>\n",
       "    </tr>\n",
       "    <tr>\n",
       "      <th>5724639</th>\n",
       "      <td>1430093</td>\n",
       "      <td>C926</td>\n",
       "      <td>2020-07-24</td>\n",
       "      <td>NaN</td>\n",
       "      <td>NaN</td>\n",
       "    </tr>\n",
       "    <tr>\n",
       "      <th>6062903</th>\n",
       "      <td>2635552</td>\n",
       "      <td>C925</td>\n",
       "      <td>2021-02-10</td>\n",
       "      <td>2021-09-24</td>\n",
       "      <td>1.0</td>\n",
       "    </tr>\n",
       "    <tr>\n",
       "      <th>6228192</th>\n",
       "      <td>3223868</td>\n",
       "      <td>C925</td>\n",
       "      <td>2019-07-08</td>\n",
       "      <td>2019-11-23</td>\n",
       "      <td>1.0</td>\n",
       "    </tr>\n",
       "    <tr>\n",
       "      <th>6668021</th>\n",
       "      <td>4795469</td>\n",
       "      <td>C925</td>\n",
       "      <td>2021-09-07</td>\n",
       "      <td>2021-11-26</td>\n",
       "      <td>1.0</td>\n",
       "    </tr>\n",
       "    <tr>\n",
       "      <th>6780303</th>\n",
       "      <td>5196624</td>\n",
       "      <td>C926</td>\n",
       "      <td>2013-11-04</td>\n",
       "      <td>NaN</td>\n",
       "      <td>NaN</td>\n",
       "    </tr>\n",
       "  </tbody>\n",
       "</table>\n",
       "</div>"
      ],
      "text/plain": [
       "             eid ICD10_codes        Date   p40000_i0  p40023\n",
       "244572   1885791        C925  2020-09-24         NaN     NaN\n",
       "906343   4271193        C925  2022-09-01  2022-11-05     1.0\n",
       "924419   4333041        C925  2018-05-01  2019-11-24     1.0\n",
       "932795   4363997        C925  2019-03-18  2019-05-30     1.0\n",
       "1026479  4702284        C926  2018-11-29  2019-01-30     1.0\n",
       "1363326  5896025        C925  2019-12-28         NaN     NaN\n",
       "1446130  1175085        C925  2021-04-03  2021-05-26     1.0\n",
       "1462049  1234772        C925  2008-12-18         NaN     NaN\n",
       "1625939  1805440        C925  2018-10-24         NaN     NaN\n",
       "1684242  2011862        C925  2016-08-09  2018-12-29     1.0\n",
       "1723076  2152641        C925  2022-05-17         NaN     NaN\n",
       "1737666  2202427        C926  2013-11-04  2013-11-15     1.0\n",
       "1790315  2395695        C925  2014-05-07  2015-02-23     1.0\n",
       "1796069  2414670        C925  2021-07-30  2022-02-17     1.0\n",
       "2049254  3328864        C925  2009-07-25  2009-08-12     1.0\n",
       "2117651  3575847        C925  2008-02-11  2008-02-19     1.0\n",
       "2461688  4804984        C925  2013-08-03  2015-11-12     1.0\n",
       "2782645  5951360        C925  2012-01-31  2014-02-07     1.0\n",
       "3034210  1821217        C926  2021-06-23         NaN     NaN\n",
       "3520148  3551003        C925  2018-11-01  2020-01-03     1.0\n",
       "4241157  1104330        C925  2020-03-02         NaN     NaN\n",
       "4252307  1146621        C925  2013-10-29  2014-02-09     1.0\n",
       "4419575  1751365        C925  2019-06-19  2021-04-06     1.0\n",
       "4434156  1804104        C925  2019-08-05         NaN     NaN\n",
       "4763732  2973100        C925  2011-09-13         NaN     NaN\n",
       "4790733  3071648        C925  2013-04-08  2013-04-12     1.0\n",
       "4960191  3691107        C926  2013-02-14  2014-10-23     1.0\n",
       "5419726  5358562        C925  2013-11-26         NaN     NaN\n",
       "5477125  5563504        C925  2018-01-04  2018-01-10     1.0\n",
       "5724639  1430093        C926  2020-07-24         NaN     NaN\n",
       "6062903  2635552        C925  2021-02-10  2021-09-24     1.0\n",
       "6228192  3223868        C925  2019-07-08  2019-11-23     1.0\n",
       "6668021  4795469        C925  2021-09-07  2021-11-26     1.0\n",
       "6780303  5196624        C926  2013-11-04         NaN     NaN"
      ]
     },
     "execution_count": 62,
     "metadata": {},
     "output_type": "execute_result"
    }
   ],
   "source": [
    "clinical_df[clinical_df['ICD10_codes'].isin(['C925', 'C926'])]"
   ]
  },
  {
   "cell_type": "code",
   "execution_count": 63,
   "id": "2e5b3fdf-9bbf-4cf6-81a4-036df22ca50e",
   "metadata": {},
   "outputs": [
    {
     "data": {
      "text/plain": [
       "27295"
      ]
     },
     "execution_count": 63,
     "metadata": {},
     "output_type": "execute_result"
    }
   ],
   "source": [
    "len(subset_clinical_df['eid'].unique())"
   ]
  },
  {
   "cell_type": "code",
   "execution_count": 67,
   "id": "1026d796-2345-4b9d-9007-e719318271dd",
   "metadata": {},
   "outputs": [
    {
     "data": {
      "text/html": [
       "<div>\n",
       "<style scoped>\n",
       "    .dataframe tbody tr th:only-of-type {\n",
       "        vertical-align: middle;\n",
       "    }\n",
       "\n",
       "    .dataframe tbody tr th {\n",
       "        vertical-align: top;\n",
       "    }\n",
       "\n",
       "    .dataframe thead th {\n",
       "        text-align: right;\n",
       "    }\n",
       "</style>\n",
       "<table border=\"1\" class=\"dataframe\">\n",
       "  <thead>\n",
       "    <tr style=\"text-align: right;\">\n",
       "      <th></th>\n",
       "      <th>eid</th>\n",
       "      <th>ICD10_codes</th>\n",
       "      <th>Date</th>\n",
       "      <th>p40000_i0</th>\n",
       "      <th>p40023</th>\n",
       "    </tr>\n",
       "  </thead>\n",
       "  <tbody>\n",
       "    <tr>\n",
       "      <th>743</th>\n",
       "      <td>1002133</td>\n",
       "      <td>I802</td>\n",
       "      <td>2003-04-02</td>\n",
       "      <td>NaN</td>\n",
       "      <td>NaN</td>\n",
       "    </tr>\n",
       "    <tr>\n",
       "      <th>744</th>\n",
       "      <td>1002133</td>\n",
       "      <td>M1997</td>\n",
       "      <td>2009-04-17</td>\n",
       "      <td>NaN</td>\n",
       "      <td>NaN</td>\n",
       "    </tr>\n",
       "  </tbody>\n",
       "</table>\n",
       "</div>"
      ],
      "text/plain": [
       "         eid ICD10_codes        Date p40000_i0  p40023\n",
       "743  1002133        I802  2003-04-02       NaN     NaN\n",
       "744  1002133       M1997  2009-04-17       NaN     NaN"
      ]
     },
     "execution_count": 67,
     "metadata": {},
     "output_type": "execute_result"
    }
   ],
   "source": [
    "subset_clinical_df.head(2)"
   ]
  },
  {
   "cell_type": "code",
   "execution_count": 68,
   "id": "cbee59b0-b75e-4359-8a2b-bc447d1773f3",
   "metadata": {},
   "outputs": [],
   "source": [
    "subset_clinical_df = subset_clinical_df.drop(columns=['Date', 'p40000_i0', 'p40023'])"
   ]
  },
  {
   "cell_type": "code",
   "execution_count": 69,
   "id": "d1ea5d7a-896f-404c-9dc7-1dfd3f265d80",
   "metadata": {},
   "outputs": [],
   "source": [
    "subset_clinical_df['relationship'] = 1"
   ]
  },
  {
   "cell_type": "code",
   "execution_count": 70,
   "id": "fda5121f-c3a0-4be4-a87d-c5860241c1ed",
   "metadata": {},
   "outputs": [
    {
     "data": {
      "text/html": [
       "<div>\n",
       "<style scoped>\n",
       "    .dataframe tbody tr th:only-of-type {\n",
       "        vertical-align: middle;\n",
       "    }\n",
       "\n",
       "    .dataframe tbody tr th {\n",
       "        vertical-align: top;\n",
       "    }\n",
       "\n",
       "    .dataframe thead th {\n",
       "        text-align: right;\n",
       "    }\n",
       "</style>\n",
       "<table border=\"1\" class=\"dataframe\">\n",
       "  <thead>\n",
       "    <tr style=\"text-align: right;\">\n",
       "      <th></th>\n",
       "      <th>eid</th>\n",
       "      <th>ICD10_codes</th>\n",
       "      <th>relationship</th>\n",
       "    </tr>\n",
       "  </thead>\n",
       "  <tbody>\n",
       "    <tr>\n",
       "      <th>743</th>\n",
       "      <td>1002133</td>\n",
       "      <td>I802</td>\n",
       "      <td>1</td>\n",
       "    </tr>\n",
       "    <tr>\n",
       "      <th>744</th>\n",
       "      <td>1002133</td>\n",
       "      <td>M1997</td>\n",
       "      <td>1</td>\n",
       "    </tr>\n",
       "  </tbody>\n",
       "</table>\n",
       "</div>"
      ],
      "text/plain": [
       "         eid ICD10_codes  relationship\n",
       "743  1002133        I802             1\n",
       "744  1002133       M1997             1"
      ]
     },
     "execution_count": 70,
     "metadata": {},
     "output_type": "execute_result"
    }
   ],
   "source": [
    "subset_clinical_df.head(2)"
   ]
  },
  {
   "cell_type": "code",
   "execution_count": 71,
   "id": "71fbdcb2-4318-4e80-8e43-0b2304458300",
   "metadata": {
    "scrolled": true
   },
   "outputs": [],
   "source": [
    "# 保存为以制表符分隔的文本文件\n",
    "file_path = '/home/llma/wzy/comorbidity/Data/subset_ICD10_in_Olink_long.txt'\n",
    "subset_clinical_df.to_csv(file_path, sep='\\t', na_rep='nan', index=False)"
   ]
  },
  {
   "cell_type": "code",
   "execution_count": 72,
   "id": "10b3fdb4-785b-4329-aae5-e3abfe37960f",
   "metadata": {},
   "outputs": [],
   "source": [
    "subset_Olink_long_df = Olink_long_df[Olink_long_df['eid'].isin(subset_clinical_df['eid'])]"
   ]
  },
  {
   "cell_type": "code",
   "execution_count": 73,
   "id": "2ef937d1-3a3b-4945-b2d6-95cece1ab14a",
   "metadata": {},
   "outputs": [
    {
     "data": {
      "text/html": [
       "<div>\n",
       "<style scoped>\n",
       "    .dataframe tbody tr th:only-of-type {\n",
       "        vertical-align: middle;\n",
       "    }\n",
       "\n",
       "    .dataframe tbody tr th {\n",
       "        vertical-align: top;\n",
       "    }\n",
       "\n",
       "    .dataframe thead th {\n",
       "        text-align: right;\n",
       "    }\n",
       "</style>\n",
       "<table border=\"1\" class=\"dataframe\">\n",
       "  <thead>\n",
       "    <tr style=\"text-align: right;\">\n",
       "      <th></th>\n",
       "      <th>eid</th>\n",
       "      <th>protein_name</th>\n",
       "      <th>protein_expression</th>\n",
       "    </tr>\n",
       "  </thead>\n",
       "  <tbody>\n",
       "    <tr>\n",
       "      <th>0</th>\n",
       "      <td>1002133</td>\n",
       "      <td>olink_instance_0.a1bg</td>\n",
       "      <td>0.0957</td>\n",
       "    </tr>\n",
       "    <tr>\n",
       "      <th>1</th>\n",
       "      <td>1002201</td>\n",
       "      <td>olink_instance_0.a1bg</td>\n",
       "      <td>-0.0473</td>\n",
       "    </tr>\n",
       "  </tbody>\n",
       "</table>\n",
       "</div>"
      ],
      "text/plain": [
       "       eid           protein_name  protein_expression\n",
       "0  1002133  olink_instance_0.a1bg              0.0957\n",
       "1  1002201  olink_instance_0.a1bg             -0.0473"
      ]
     },
     "execution_count": 73,
     "metadata": {},
     "output_type": "execute_result"
    }
   ],
   "source": [
    "subset_Olink_long_df.head(2)"
   ]
  },
  {
   "cell_type": "code",
   "execution_count": 74,
   "id": "2cce0aec-2c29-4ddc-9ac1-d491d6f847f4",
   "metadata": {},
   "outputs": [
    {
     "data": {
      "text/plain": [
       "27295"
      ]
     },
     "execution_count": 74,
     "metadata": {},
     "output_type": "execute_result"
    }
   ],
   "source": [
    "len(set(subset_Olink_long_df['eid']))"
   ]
  },
  {
   "cell_type": "code",
   "execution_count": 75,
   "id": "b9b82f67-191c-469c-a219-78089c20b89f",
   "metadata": {},
   "outputs": [],
   "source": [
    "# 按 eid 分组，对每个分组内按 protein_expression 降序排序\n",
    "sorted_Olink_df = subset_Olink_long_df.sort_values(['eid', 'protein_expression'], ascending=[True, False])"
   ]
  },
  {
   "cell_type": "code",
   "execution_count": 77,
   "id": "00c56be0-8643-444d-a48f-75a339a2204d",
   "metadata": {},
   "outputs": [
    {
     "name": "stdout",
     "output_type": "stream",
     "text": [
      "               eid             protein_name  protein_expression\n",
      "19805682   1000021   olink_instance_0.ccar2             9.35690\n",
      "103884300  1000021    olink_instance_0.paep             4.74010\n",
      "121378590  1000021    olink_instance_0.rln2             4.67330\n",
      "88775595   1000021  olink_instance_0.mapre3             4.55670\n",
      "54476184   1000021    olink_instance_0.fdx2             3.96610\n",
      "...            ...                      ...                 ...\n",
      "123159717  6022412   olink_instance_0.rtn4r             0.70720\n",
      "805713     6022412  olink_instance_0.acot13             0.70610\n",
      "134663538  6022412  olink_instance_0.spink6             0.70325\n",
      "44488425   6022412   olink_instance_0.dnpep             0.70310\n",
      "147068580  6022412    olink_instance_0.treh             0.70270\n",
      "\n",
      "[5459000 rows x 3 columns]\n"
     ]
    }
   ],
   "source": [
    "# 对每个分组保留前 200 行\n",
    "result_Olink_df = sorted_Olink_df.groupby('eid').head(200)\n",
    "\n",
    "print(result_Olink_df)"
   ]
  },
  {
   "cell_type": "code",
   "execution_count": 78,
   "id": "d61e89bd-f49b-4a33-a81d-4d202bdfcdc6",
   "metadata": {},
   "outputs": [
    {
     "data": {
      "text/plain": [
       "(5459000, 3)"
      ]
     },
     "execution_count": 78,
     "metadata": {},
     "output_type": "execute_result"
    }
   ],
   "source": [
    "result_Olink_df.shape"
   ]
  },
  {
   "cell_type": "code",
   "execution_count": 79,
   "id": "e0106a56-983a-4f79-a749-c33b003bd949",
   "metadata": {},
   "outputs": [
    {
     "data": {
      "text/plain": [
       "27295"
      ]
     },
     "execution_count": 79,
     "metadata": {},
     "output_type": "execute_result"
    }
   ],
   "source": [
    "len(result_Olink_df['eid'].unique())"
   ]
  },
  {
   "cell_type": "code",
   "execution_count": 81,
   "id": "3c0e5531-4880-4690-a5c1-8c7ab69b33c5",
   "metadata": {},
   "outputs": [],
   "source": [
    "subset_NMR_long_df = NMR_long_df[NMR_long_df['eid'].isin(subset_clinical_df['eid'])]"
   ]
  },
  {
   "cell_type": "code",
   "execution_count": 82,
   "id": "caac1e97-b428-4706-9287-0a4122e63ceb",
   "metadata": {},
   "outputs": [
    {
     "data": {
      "text/plain": [
       "27295"
      ]
     },
     "execution_count": 82,
     "metadata": {},
     "output_type": "execute_result"
    }
   ],
   "source": [
    "len(subset_NMR_long_df['eid'].unique())"
   ]
  },
  {
   "cell_type": "code",
   "execution_count": 83,
   "id": "157132dc-b368-4020-95b4-2724b236f44f",
   "metadata": {},
   "outputs": [
    {
     "data": {
      "text/html": [
       "<div>\n",
       "<style scoped>\n",
       "    .dataframe tbody tr th:only-of-type {\n",
       "        vertical-align: middle;\n",
       "    }\n",
       "\n",
       "    .dataframe tbody tr th {\n",
       "        vertical-align: top;\n",
       "    }\n",
       "\n",
       "    .dataframe thead th {\n",
       "        text-align: right;\n",
       "    }\n",
       "</style>\n",
       "<table border=\"1\" class=\"dataframe\">\n",
       "  <thead>\n",
       "    <tr style=\"text-align: right;\">\n",
       "      <th></th>\n",
       "      <th>eid</th>\n",
       "      <th>NMR_name</th>\n",
       "      <th>NMR_expression</th>\n",
       "    </tr>\n",
       "  </thead>\n",
       "  <tbody>\n",
       "    <tr>\n",
       "      <th>26</th>\n",
       "      <td>1002133</td>\n",
       "      <td>participant.p20280_i0</td>\n",
       "      <td>4.06436</td>\n",
       "    </tr>\n",
       "    <tr>\n",
       "      <th>28</th>\n",
       "      <td>1002201</td>\n",
       "      <td>participant.p20280_i0</td>\n",
       "      <td>5.62458</td>\n",
       "    </tr>\n",
       "  </tbody>\n",
       "</table>\n",
       "</div>"
      ],
      "text/plain": [
       "        eid               NMR_name  NMR_expression\n",
       "26  1002133  participant.p20280_i0         4.06436\n",
       "28  1002201  participant.p20280_i0         5.62458"
      ]
     },
     "execution_count": 83,
     "metadata": {},
     "output_type": "execute_result"
    }
   ],
   "source": [
    "subset_NMR_long_df.head(2)"
   ]
  },
  {
   "cell_type": "code",
   "execution_count": 84,
   "id": "63422ac3-a085-4c09-8cb7-ef8f99ef462c",
   "metadata": {},
   "outputs": [
    {
     "name": "stdout",
     "output_type": "stream",
     "text": [
      "              eid               NMR_name  NMR_expression\n",
      "50897992  1000021  participant.p23583_i0       87.447000\n",
      "59673544  1000021  participant.p23615_i0       73.625000\n",
      "53640352  1000021  participant.p23593_i0       73.483000\n",
      "58302364  1000021  participant.p23610_i0       71.083000\n",
      "61044724  1000021  participant.p23620_i0       68.700000\n",
      "...           ...                    ...             ...\n",
      "29946465  6022412  participant.p23507_i0        0.092613\n",
      "29672229  6022412  participant.p23506_i0        0.086871\n",
      "25558689  6022412  participant.p23491_i0        0.085022\n",
      "20348205  6022412  participant.p23472_i0        0.085019\n",
      "34060005  6022412  participant.p23522_i0        0.085007\n",
      "\n",
      "[5459000 rows x 3 columns]\n"
     ]
    }
   ],
   "source": [
    "# 按 eid 分组，对每个分组内按 NMR_expression 降序排序\n",
    "sorted_NMR_df = subset_NMR_long_df.sort_values(['eid', 'NMR_expression'], ascending=[True, False])\n",
    "\n",
    "# 对每个分组保留前 200 行\n",
    "result_NMR_df = sorted_NMR_df.groupby('eid').head(200)\n",
    "\n",
    "print(result_NMR_df)"
   ]
  },
  {
   "cell_type": "code",
   "execution_count": 85,
   "id": "79aa12bd-c18c-49bd-820d-65b89b0ad2cd",
   "metadata": {},
   "outputs": [
    {
     "data": {
      "text/plain": [
       "27295"
      ]
     },
     "execution_count": 85,
     "metadata": {},
     "output_type": "execute_result"
    }
   ],
   "source": [
    "len(subset_NMR_long_df['eid'].unique())"
   ]
  },
  {
   "cell_type": "code",
   "execution_count": 86,
   "id": "8b0e0eb9-cf4a-4f5a-a27f-be52590fa6cb",
   "metadata": {},
   "outputs": [],
   "source": [
    "subset_clinical_df = subset_clinical_df.rename(columns={'eid': 'node1'})\n",
    "subset_clinical_df = subset_clinical_df.rename(columns={'ICD10_codes': 'node2'})\n",
    "\n",
    "# subset_Olink_long_df = subset_Olink_long_df.rename(columns={'eid': 'node1'})\n",
    "# subset_Olink_long_df = subset_Olink_long_df.rename(columns={'protein_name': 'node2'})\n",
    "# subset_Olink_long_df = subset_Olink_long_df.rename(columns={'protein_expression': 'relationship'})\n",
    "\n",
    "# subset_NMR_long_df = subset_NMR_long_df.rename(columns={'eid': 'node1'})\n",
    "# subset_NMR_long_df = subset_NMR_long_df.rename(columns={'NMR_name': 'node2'})\n",
    "# subset_NMR_long_df = subset_NMR_long_df.rename(columns={'NMR_expression': 'relationship'})\n",
    "\n",
    "result_Olink_df = result_Olink_df.rename(columns={'eid': 'node1'})\n",
    "result_Olink_df = result_Olink_df.rename(columns={'protein_name': 'node2'})\n",
    "result_Olink_df = result_Olink_df.rename(columns={'protein_expression': 'relationship'})\n",
    "\n",
    "result_NMR_df = result_NMR_df.rename(columns={'eid': 'node1'})\n",
    "result_NMR_df = result_NMR_df.rename(columns={'NMR_name': 'node2'})\n",
    "result_NMR_df = result_NMR_df.rename(columns={'NMR_expression': 'relationship'})"
   ]
  },
  {
   "cell_type": "code",
   "execution_count": 87,
   "id": "3b417fcf-6b8a-4aa0-8454-503d42b62a90",
   "metadata": {},
   "outputs": [
    {
     "name": "stdout",
     "output_type": "stream",
     "text": [
      "            node1                  node2  relationship\n",
      "0         1002133                   I802      1.000000\n",
      "1         1002133                  M1997      1.000000\n",
      "2         1002133                   M201      1.000000\n",
      "3         1002133                   M798      1.000000\n",
      "4         1002133                   D120      1.000000\n",
      "...           ...                    ...           ...\n",
      "11392555  6022412  participant.p23507_i0      0.092613\n",
      "11392556  6022412  participant.p23506_i0      0.086871\n",
      "11392557  6022412  participant.p23491_i0      0.085022\n",
      "11392558  6022412  participant.p23472_i0      0.085019\n",
      "11392559  6022412  participant.p23522_i0      0.085007\n",
      "\n",
      "[11392560 rows x 3 columns]\n"
     ]
    }
   ],
   "source": [
    "# 合并三个数据框\n",
    "# merged_df = pd.concat([subset_clinical_df, subset_Olink_long_df, subset_NMR_long_df], ignore_index=True)\n",
    "merged_df = pd.concat([subset_clinical_df, result_Olink_df, result_NMR_df], ignore_index=True)\n",
    "print(merged_df)"
   ]
  },
  {
   "cell_type": "code",
   "execution_count": 88,
   "id": "9654e7f4-2de5-42d9-84bb-f5e07a5a3cd5",
   "metadata": {},
   "outputs": [],
   "source": [
    "# 保存为以制表符分隔的文本文件\n",
    "file_path = '/home/llma/wzy/comorbidity/Data/merged_df_long.txt'\n",
    "merged_df.to_csv(file_path, sep='\\t', na_rep='nan', index=False)"
   ]
  },
  {
   "cell_type": "code",
   "execution_count": 89,
   "id": "8fb2d7d1-4fd6-4a6b-b713-4bd8cfa5bb4d",
   "metadata": {},
   "outputs": [
    {
     "data": {
      "text/html": [
       "<div>\n",
       "<style scoped>\n",
       "    .dataframe tbody tr th:only-of-type {\n",
       "        vertical-align: middle;\n",
       "    }\n",
       "\n",
       "    .dataframe tbody tr th {\n",
       "        vertical-align: top;\n",
       "    }\n",
       "\n",
       "    .dataframe thead th {\n",
       "        text-align: right;\n",
       "    }\n",
       "</style>\n",
       "<table border=\"1\" class=\"dataframe\">\n",
       "  <thead>\n",
       "    <tr style=\"text-align: right;\">\n",
       "      <th></th>\n",
       "      <th>node1</th>\n",
       "      <th>node2</th>\n",
       "      <th>relationship</th>\n",
       "    </tr>\n",
       "  </thead>\n",
       "  <tbody>\n",
       "    <tr>\n",
       "      <th>0</th>\n",
       "      <td>1002133</td>\n",
       "      <td>I802</td>\n",
       "      <td>1.0</td>\n",
       "    </tr>\n",
       "    <tr>\n",
       "      <th>1</th>\n",
       "      <td>1002133</td>\n",
       "      <td>M1997</td>\n",
       "      <td>1.0</td>\n",
       "    </tr>\n",
       "  </tbody>\n",
       "</table>\n",
       "</div>"
      ],
      "text/plain": [
       "     node1  node2  relationship\n",
       "0  1002133   I802           1.0\n",
       "1  1002133  M1997           1.0"
      ]
     },
     "execution_count": 89,
     "metadata": {},
     "output_type": "execute_result"
    }
   ],
   "source": [
    "merged_df = pd.read_csv('/home/llma/wzy/comorbidity/Data/merged_df_long.txt', sep='\\t')\n",
    "\n",
    "merged_df.head(2)"
   ]
  },
  {
   "cell_type": "markdown",
   "id": "9d23de4a-f8fc-4dae-9c7d-9b796d29ed21",
   "metadata": {},
   "source": [
    "## prapare data for GPT embedding"
   ]
  },
  {
   "cell_type": "code",
   "execution_count": 90,
   "id": "38260d0f-93eb-4de2-b9b9-b6e6a65b4f96",
   "metadata": {},
   "outputs": [
    {
     "data": {
      "text/plain": [
       "27295"
      ]
     },
     "execution_count": 90,
     "metadata": {},
     "output_type": "execute_result"
    }
   ],
   "source": [
    "len(merged_df['node1'].unique())"
   ]
  },
  {
   "cell_type": "code",
   "execution_count": 91,
   "id": "02cfaecc-3b1a-44a5-81de-2378be10117d",
   "metadata": {},
   "outputs": [
    {
     "data": {
      "text/plain": [
       "numpy.ndarray"
      ]
     },
     "execution_count": 91,
     "metadata": {},
     "output_type": "execute_result"
    }
   ],
   "source": [
    "type(merged_df['node1'].unique())"
   ]
  },
  {
   "cell_type": "code",
   "execution_count": 92,
   "id": "82d6f060-6dfb-48d6-b1c5-94b4e409704c",
   "metadata": {},
   "outputs": [
    {
     "data": {
      "text/plain": [
       "array([1002133, 1002201, 1003548, ..., 6020195, 6021268, 6022081])"
      ]
     },
     "execution_count": 92,
     "metadata": {},
     "output_type": "execute_result"
    }
   ],
   "source": [
    "merged_df['node1'].unique()"
   ]
  },
  {
   "cell_type": "code",
   "execution_count": 93,
   "id": "d102ac90-4a7f-417a-992d-fd41241be880",
   "metadata": {},
   "outputs": [
    {
     "data": {
      "text/plain": [
       "0           1002133\n",
       "1           1002133\n",
       "2           1002133\n",
       "3           1002133\n",
       "4           1002133\n",
       "             ...   \n",
       "11392555    6022412\n",
       "11392556    6022412\n",
       "11392557    6022412\n",
       "11392558    6022412\n",
       "11392559    6022412\n",
       "Name: node1, Length: 11392560, dtype: int64"
      ]
     },
     "execution_count": 93,
     "metadata": {},
     "output_type": "execute_result"
    }
   ],
   "source": [
    "merged_df['node1']"
   ]
  },
  {
   "cell_type": "code",
   "execution_count": 94,
   "id": "c1c35ed1-6146-4cb8-896a-ad64572aa1d8",
   "metadata": {},
   "outputs": [],
   "source": [
    "import numpy as np\n",
    "np.savetxt('/home/llma/wzy/comorbidity/Data/patient_id_select.txt', merged_df['node1'].unique(), fmt='%d')"
   ]
  },
  {
   "cell_type": "markdown",
   "id": "09051fe6-15c0-4d5e-b841-7b4072c80283",
   "metadata": {},
   "source": [
    "## get the order of nodes"
   ]
  },
  {
   "cell_type": "code",
   "execution_count": 99,
   "id": "6dc8e91e-8793-4647-8c1e-5e06559db523",
   "metadata": {},
   "outputs": [],
   "source": [
    "merged_df['node2'] = merged_df['node2'].str.replace(\"olink_instance_0.\", \"\", regex=False)\n",
    "\n",
    "merged_df['node2'] = merged_df['node2'].str.replace(\"participant.\", \"\", regex=False)"
   ]
  },
  {
   "cell_type": "code",
   "execution_count": 101,
   "id": "d6d416e1-21ad-4f9d-beae-2571690ad03b",
   "metadata": {},
   "outputs": [],
   "source": [
    "NMR_name_description_mapping = pd.read_csv('../Data/NMR_name_description_mapping.csv',\n",
    "                                           encoding='utf-8')"
   ]
  },
  {
   "cell_type": "code",
   "execution_count": 102,
   "id": "0c702e07-6c07-402d-88b4-810b09d0fb81",
   "metadata": {},
   "outputs": [
    {
     "data": {
      "text/html": [
       "<div>\n",
       "<style scoped>\n",
       "    .dataframe tbody tr th:only-of-type {\n",
       "        vertical-align: middle;\n",
       "    }\n",
       "\n",
       "    .dataframe tbody tr th {\n",
       "        vertical-align: top;\n",
       "    }\n",
       "\n",
       "    .dataframe thead th {\n",
       "        text-align: right;\n",
       "    }\n",
       "</style>\n",
       "<table border=\"1\" class=\"dataframe\">\n",
       "  <thead>\n",
       "    <tr style=\"text-align: right;\">\n",
       "      <th></th>\n",
       "      <th>NMR_name</th>\n",
       "      <th>full_name</th>\n",
       "    </tr>\n",
       "  </thead>\n",
       "  <tbody>\n",
       "    <tr>\n",
       "      <th>0</th>\n",
       "      <td>p20280_i0</td>\n",
       "      <td>Glucose-lactate | Instance 0</td>\n",
       "    </tr>\n",
       "    <tr>\n",
       "      <th>1</th>\n",
       "      <td>p20281_i0</td>\n",
       "      <td>Spectrometer-corrected alanine | Instance 0</td>\n",
       "    </tr>\n",
       "  </tbody>\n",
       "</table>\n",
       "</div>"
      ],
      "text/plain": [
       "    NMR_name                                    full_name\n",
       "0  p20280_i0                 Glucose-lactate | Instance 0\n",
       "1  p20281_i0  Spectrometer-corrected alanine | Instance 0"
      ]
     },
     "execution_count": 102,
     "metadata": {},
     "output_type": "execute_result"
    }
   ],
   "source": [
    "NMR_name_description_mapping.head(2)"
   ]
  },
  {
   "cell_type": "code",
   "execution_count": 103,
   "id": "41f4b287-35c9-4069-9539-92e13e4c9d59",
   "metadata": {},
   "outputs": [],
   "source": [
    "NMR_name_description_mapping['full_name'] = NMR_name_description_mapping['full_name'].str.replace(\" | Instance 0\", \"\", regex=False)"
   ]
  },
  {
   "cell_type": "code",
   "execution_count": 104,
   "id": "b3cda1a1-0b62-4bea-bda7-a5fe361bb64c",
   "metadata": {},
   "outputs": [
    {
     "data": {
      "text/html": [
       "<div>\n",
       "<style scoped>\n",
       "    .dataframe tbody tr th:only-of-type {\n",
       "        vertical-align: middle;\n",
       "    }\n",
       "\n",
       "    .dataframe tbody tr th {\n",
       "        vertical-align: top;\n",
       "    }\n",
       "\n",
       "    .dataframe thead th {\n",
       "        text-align: right;\n",
       "    }\n",
       "</style>\n",
       "<table border=\"1\" class=\"dataframe\">\n",
       "  <thead>\n",
       "    <tr style=\"text-align: right;\">\n",
       "      <th></th>\n",
       "      <th>NMR_name</th>\n",
       "      <th>full_name</th>\n",
       "    </tr>\n",
       "  </thead>\n",
       "  <tbody>\n",
       "    <tr>\n",
       "      <th>0</th>\n",
       "      <td>p20280_i0</td>\n",
       "      <td>Glucose-lactate</td>\n",
       "    </tr>\n",
       "    <tr>\n",
       "      <th>1</th>\n",
       "      <td>p20281_i0</td>\n",
       "      <td>Spectrometer-corrected alanine</td>\n",
       "    </tr>\n",
       "  </tbody>\n",
       "</table>\n",
       "</div>"
      ],
      "text/plain": [
       "    NMR_name                       full_name\n",
       "0  p20280_i0                 Glucose-lactate\n",
       "1  p20281_i0  Spectrometer-corrected alanine"
      ]
     },
     "execution_count": 104,
     "metadata": {},
     "output_type": "execute_result"
    }
   ],
   "source": [
    "NMR_name_description_mapping.head(2)"
   ]
  },
  {
   "cell_type": "code",
   "execution_count": 105,
   "id": "a190bfa8-a7d2-4ae7-be39-3ea10a516ab4",
   "metadata": {},
   "outputs": [],
   "source": [
    "# 创建一个映射字典\n",
    "name_mapping = dict(zip(NMR_name_description_mapping['NMR_name'], \n",
    "                        NMR_name_description_mapping['full_name']))"
   ]
  },
  {
   "cell_type": "code",
   "execution_count": 106,
   "id": "ab28a31b-58ec-40a3-91b8-548d59189ba7",
   "metadata": {},
   "outputs": [],
   "source": [
    "# 定义一个函数来执行映射\n",
    "def map_node2(name):\n",
    "    return name_mapping.get(name, name)  # 如果找不到映射，返回原值"
   ]
  },
  {
   "cell_type": "code",
   "execution_count": 107,
   "id": "a6060c1a-c8dd-4525-a0e1-e1f7cc932f58",
   "metadata": {},
   "outputs": [],
   "source": [
    "# 应用映射到node2列\n",
    "merged_df['node2'] = merged_df['node2'].apply(map_node2)"
   ]
  },
  {
   "cell_type": "code",
   "execution_count": 108,
   "id": "f2de2bc8-9061-4863-83be-719b52ec4de2",
   "metadata": {},
   "outputs": [
    {
     "name": "stdout",
     "output_type": "stream",
     "text": [
      "     node1  node2  relationship\n",
      "0  1002133   I802           1.0\n",
      "1  1002133  M1997           1.0\n",
      "            node1                             node2  relationship\n",
      "11392558  6022412                          Pyruvate      0.085019\n",
      "11392559  6022412  Triglycerides in Very Small VLDL      0.085007\n"
     ]
    }
   ],
   "source": [
    "# 查看结果\n",
    "print(merged_df.head(2))\n",
    "print(merged_df.tail(2))"
   ]
  },
  {
   "cell_type": "code",
   "execution_count": 109,
   "id": "695a5efe-a8a4-4de5-8daf-54da2096d275",
   "metadata": {},
   "outputs": [],
   "source": [
    "# 保存为以制表符分隔的文本文件\n",
    "file_path = '../Data/merged_df_long_convert.txt'\n",
    "merged_df.to_csv(file_path, sep='\\t', na_rep='nan', index=False)"
   ]
  },
  {
   "cell_type": "code",
   "execution_count": 110,
   "id": "6a17c1e4-620e-4b36-85f9-c6a7e128a09f",
   "metadata": {},
   "outputs": [],
   "source": [
    "import numpy as np\n",
    "import os\n",
    "from scipy.sparse import csr_matrix\n",
    "from utils import N2V\n",
    "import pandas as pd\n",
    "from fastnode2vec import Graph, Node2Vec "
   ]
  },
  {
   "cell_type": "code",
   "execution_count": 111,
   "id": "b1af2a45-4312-4ab4-b2e0-30dc99811daa",
   "metadata": {},
   "outputs": [],
   "source": [
    "adj_path = '/home/llma/wzy/comorbidity/Data/merged_df_long_convert.txt'"
   ]
  },
  {
   "cell_type": "code",
   "execution_count": 112,
   "id": "8d1fa154-fa4d-4673-9f7e-d239e1764ed1",
   "metadata": {},
   "outputs": [
    {
     "data": {
      "text/html": [
       "<div>\n",
       "<style scoped>\n",
       "    .dataframe tbody tr th:only-of-type {\n",
       "        vertical-align: middle;\n",
       "    }\n",
       "\n",
       "    .dataframe tbody tr th {\n",
       "        vertical-align: top;\n",
       "    }\n",
       "\n",
       "    .dataframe thead th {\n",
       "        text-align: right;\n",
       "    }\n",
       "</style>\n",
       "<table border=\"1\" class=\"dataframe\">\n",
       "  <thead>\n",
       "    <tr style=\"text-align: right;\">\n",
       "      <th></th>\n",
       "      <th>node1</th>\n",
       "      <th>node2</th>\n",
       "      <th>relationship</th>\n",
       "    </tr>\n",
       "  </thead>\n",
       "  <tbody>\n",
       "    <tr>\n",
       "      <th>0</th>\n",
       "      <td>1002133</td>\n",
       "      <td>I802</td>\n",
       "      <td>1.0</td>\n",
       "    </tr>\n",
       "    <tr>\n",
       "      <th>1</th>\n",
       "      <td>1002133</td>\n",
       "      <td>M1997</td>\n",
       "      <td>1.0</td>\n",
       "    </tr>\n",
       "  </tbody>\n",
       "</table>\n",
       "</div>"
      ],
      "text/plain": [
       "     node1  node2  relationship\n",
       "0  1002133   I802           1.0\n",
       "1  1002133  M1997           1.0"
      ]
     },
     "execution_count": 112,
     "metadata": {},
     "output_type": "execute_result"
    }
   ],
   "source": [
    "merged_df = pd.read_csv(adj_path, sep='\\t')\n",
    "\n",
    "merged_df.head(2)"
   ]
  },
  {
   "cell_type": "code",
   "execution_count": 114,
   "id": "decb3abf-f7ee-4d6a-8d35-4d8fa523519e",
   "metadata": {},
   "outputs": [
    {
     "name": "stderr",
     "output_type": "stream",
     "text": [
      "                                                                                                                                                            "
     ]
    }
   ],
   "source": [
    "X, A, Y = [], None, []\n",
    "n_node = 0\n",
    "\n",
    "# Acquire Edges\n",
    "edge_list = []\n",
    "node_list = []\n",
    "node_type = {}\n",
    "relationship_list = []\n",
    "\n",
    "with open(adj_path, 'rt', encoding='utf-8') as f:\n",
    "    next(f)\n",
    "    for line in f.readlines():\n",
    "        node1, node2, relationship, *_ = line.strip().split('\\t')\n",
    "        edge_list.append((node1, node2))\n",
    "        node_list.extend([node1, node2])\n",
    "        relationship_list.append(relationship)\n",
    "\n",
    "node_map = {item: i for i, item in enumerate(sorted(list(set(node_list))))}\n",
    "n_node = len(node_map)\n",
    "\n",
    "# 使用稀疏矩阵存储邻接关系\n",
    "row = []\n",
    "col = []\n",
    "data = []\n",
    "for i, (node1, node2) in enumerate(edge_list):\n",
    "    row.append(node_map[node1])\n",
    "    col.append(node_map[node2])\n",
    "    data.append(relationship_list[i])  # 使用实际的关系值\n",
    "    row.append(node_map[node2])\n",
    "    col.append(node_map[node1])\n",
    "    data.append(relationship_list[i])  # 使用实际的关系值\n",
    "A = csr_matrix((data, (row, col)), shape=(n_node, n_node), dtype=np.float32)\n",
    "\n",
    "adj_matrix = pd.read_csv(adj_path, sep='\\t')\n",
    "# 构建图所需的边列表\n",
    "edges = [(row['node1'], row['node2'], row['relationship']) for _, row in adj_matrix.iterrows()]\n",
    "\n",
    "# 构建图\n",
    "graph = Graph(edges, directed=False, weighted=True)"
   ]
  },
  {
   "cell_type": "code",
   "execution_count": 115,
   "id": "269b64c7-6d01-4ce7-931e-b9407b705995",
   "metadata": {},
   "outputs": [
    {
     "data": {
      "text/plain": [
       "array(['1002133', 'I802', 'M1997', ...,\n",
       "       'Free Cholesterol in Very Large VLDL',\n",
       "       'Triglycerides in Small LDL',\n",
       "       'Cholesteryl Esters in Very Large VLDL'], dtype='<U86')"
      ]
     },
     "execution_count": 115,
     "metadata": {},
     "output_type": "execute_result"
    }
   ],
   "source": [
    "graph.node_names"
   ]
  },
  {
   "cell_type": "code",
   "execution_count": 116,
   "id": "9ec224ea-b6a6-411a-96db-757d96f692d8",
   "metadata": {},
   "outputs": [
    {
     "data": {
      "text/plain": [
       "<fastnode2vec.graph.Graph at 0x7fed7ffc9550>"
      ]
     },
     "execution_count": 116,
     "metadata": {},
     "output_type": "execute_result"
    }
   ],
   "source": [
    "graph"
   ]
  },
  {
   "cell_type": "code",
   "execution_count": 117,
   "id": "ef8ee197-a292-47cf-806a-755b8f5ffaab",
   "metadata": {},
   "outputs": [],
   "source": [
    "# 保存图对象\n",
    "with open('/home/llma/wzy/comorbidity/Data/graph.pkl', 'wb') as f:\n",
    "    pickle.dump(graph, f)"
   ]
  },
  {
   "cell_type": "code",
   "execution_count": 118,
   "id": "9aabe4fd-67a7-41e0-915a-7d267c2a920e",
   "metadata": {},
   "outputs": [],
   "source": [
    "import pickle\n",
    "import numpy as np"
   ]
  },
  {
   "cell_type": "code",
   "execution_count": 119,
   "id": "9faeef01-5f56-4e5f-85ad-af4591acf29f",
   "metadata": {},
   "outputs": [
    {
     "name": "stdout",
     "output_type": "stream",
     "text": [
      "1.26.4\n"
     ]
    }
   ],
   "source": [
    "print(np.__version__)"
   ]
  },
  {
   "cell_type": "code",
   "execution_count": 120,
   "id": "86986277-717e-41a9-ab89-ef4de779eea9",
   "metadata": {},
   "outputs": [],
   "source": [
    "with open('/home/llma/wzy/comorbidity/Data/gpt_protein_embeddings_dict.pkl', 'rb') as f:\n",
    "    protein_embeddings_dict = pickle.load(f)"
   ]
  },
  {
   "cell_type": "code",
   "execution_count": 121,
   "id": "2194bbc0-9d7d-4e57-bcd9-8d948b6b30a3",
   "metadata": {},
   "outputs": [],
   "source": [
    "with open('/home/llma/wzy/comorbidity/Data/gpt_embeddings_dict.pkl', 'rb') as f:\n",
    "    embeddings_dict = pickle.load(f)"
   ]
  },
  {
   "cell_type": "code",
   "execution_count": 122,
   "id": "7f164987-1e80-4bf5-9fce-08386335831b",
   "metadata": {},
   "outputs": [],
   "source": [
    "with open('/home/llma/wzy/comorbidity/Data/metabolite_embeddings_dict.pkl', 'rb') as f:\n",
    "    metabolite_embeddings_dict = pickle.load(f)"
   ]
  },
  {
   "cell_type": "markdown",
   "id": "b7f68bdb-f2a9-4622-8242-1c9c57f219a6",
   "metadata": {},
   "source": [
    "## ICD10 embedding"
   ]
  },
  {
   "cell_type": "code",
   "execution_count": 123,
   "id": "416050dd-61c3-42ba-b1e6-d67b8f6743fd",
   "metadata": {},
   "outputs": [],
   "source": [
    "import glob\n",
    "import json\n",
    "import string"
   ]
  },
  {
   "cell_type": "code",
   "execution_count": 124,
   "id": "1f04b567-d06a-41ff-9b6e-26a2d495ba73",
   "metadata": {},
   "outputs": [],
   "source": [
    "values = []\n",
    "icd_index = []\n",
    "for index in list(string.ascii_uppercase):\n",
    "    file = glob.glob(f'/home/llma/wzy/comorbidity/Data/icd10_embedding/{index}/icd10_results_*.json')[0]\n",
    "    with open(file, 'r', encoding='utf-8') as f:\n",
    "        data = json.load(f)\n",
    "        for key, value in data['embeddings'].items():\n",
    "            values.append(value)\n",
    "            icd_index.append(key)\n",
    "\n",
    "embeddings = np.array(values)"
   ]
  },
  {
   "cell_type": "code",
   "execution_count": 125,
   "id": "2c76709f-90b0-48c1-a505-7cdc111ff6fe",
   "metadata": {},
   "outputs": [
    {
     "data": {
      "text/plain": [
       "['A00', 'A00.0', 'A00.1']"
      ]
     },
     "execution_count": 125,
     "metadata": {},
     "output_type": "execute_result"
    }
   ],
   "source": [
    "icd_index[0:3]"
   ]
  },
  {
   "cell_type": "code",
   "execution_count": 126,
   "id": "218eeaaf-05d1-4e8b-806c-9d48e4a2a7b8",
   "metadata": {},
   "outputs": [],
   "source": [
    "icd10_embeddings = {}\n",
    "\n",
    "for index in string.ascii_uppercase:\n",
    "    try:\n",
    "        file = glob.glob(f'/home/llma/wzy/comorbidity/Data/icd10_embedding/{index}/icd10_results_*.json')[0]\n",
    "        \n",
    "        with open(file, 'r', encoding='utf-8') as f:\n",
    "            data = json.load(f)\n",
    "            \n",
    "            # 处理每个键，移除小数点后再添加到总字典\n",
    "            for key, value in data['embeddings'].items():\n",
    "                clean_key = key.replace('.', '')  # 移除小数点\n",
    "                icd10_embeddings[clean_key] = value\n",
    "                \n",
    "    except (IndexError, FileNotFoundError):\n",
    "        print(f\"未找到字母 {index} 对应的文件\")\n",
    "    except Exception as e:\n",
    "        print(f\"处理字母 {index} 时出错: {e}\")"
   ]
  },
  {
   "cell_type": "code",
   "execution_count": 127,
   "id": "3b66d15a-a5b9-4319-aeb8-84ba0a50f18e",
   "metadata": {},
   "outputs": [
    {
     "data": {
      "text/plain": [
       "dict"
      ]
     },
     "execution_count": 127,
     "metadata": {},
     "output_type": "execute_result"
    }
   ],
   "source": [
    "type(icd10_embeddings)"
   ]
  },
  {
   "cell_type": "code",
   "execution_count": 128,
   "id": "28dccb68-874b-4235-a991-1e690667821d",
   "metadata": {},
   "outputs": [
    {
     "name": "stdout",
     "output_type": "stream",
     "text": [
      "键存在于字典中\n"
     ]
    }
   ],
   "source": [
    "# 检查键是否存在\n",
    "if \"C926\" in icd10_embeddings:\n",
    "    print(\"键存在于字典中\")\n",
    "else:\n",
    "    print(\"键不存在于字典中\")"
   ]
  },
  {
   "cell_type": "code",
   "execution_count": 129,
   "id": "abf30c0b-dd04-419d-a0c8-ea5393208ca3",
   "metadata": {},
   "outputs": [],
   "source": [
    "with open('/home/llma/wzy/comorbidity/Data/icd10_embeddings_dict.pkl', 'wb') as f:\n",
    "    pickle.dump(icd10_embeddings, f)"
   ]
  },
  {
   "cell_type": "code",
   "execution_count": 130,
   "id": "807109d9-918d-485e-9ba4-ecf9a24a181e",
   "metadata": {},
   "outputs": [],
   "source": [
    "# 创建新字典，保留原始字典不变\n",
    "merged_dict = {**protein_embeddings_dict, **embeddings_dict, **metabolite_embeddings_dict, **icd10_embeddings}"
   ]
  },
  {
   "cell_type": "code",
   "execution_count": 131,
   "id": "82548e78-b471-4c3e-b285-463388571ee0",
   "metadata": {},
   "outputs": [
    {
     "name": "stdout",
     "output_type": "stream",
     "text": [
      "矩阵形状: (38061, 1536)\n",
      "前3行:\n",
      " [[-0.0182373  -0.02098356  0.02359651 ... -0.01561102 -0.01053844\n",
      "  -0.00612576]\n",
      " [-0.02499108 -0.0067757   0.02219337 ... -0.02719697 -0.01021568\n",
      "  -0.02587882]\n",
      " [ 0.00454228 -0.00239301  0.02163428 ... -0.01282641 -0.01000684\n",
      "  -0.05185902]]\n"
     ]
    }
   ],
   "source": [
    "# 提取所有键并保持顺序（Python 3.7+ 字典保持插入顺序）\n",
    "keys = list(graph.node_names)\n",
    "\n",
    "# 将字典值转换为NumPy矩阵（每行一个向量）\n",
    "matrix = np.array([merged_dict[key] for key in keys])\n",
    "\n",
    "# 检查矩阵形状\n",
    "print(\"矩阵形状:\", matrix.shape)  # 输出: (47626, 向量维度)\n",
    "\n",
    "# 示例：查看前3行\n",
    "print(\"前3行:\\n\", matrix[:3])"
   ]
  },
  {
   "cell_type": "code",
   "execution_count": 133,
   "id": "5a35106a-8a80-4f35-8a2e-10b5c87989da",
   "metadata": {},
   "outputs": [],
   "source": [
    "# 保存\n",
    "with open('/home/llma/wzy/comorbidity/Data/keys.json', 'w') as f:\n",
    "    json.dump(keys, f)"
   ]
  },
  {
   "cell_type": "code",
   "execution_count": 134,
   "id": "be7aa2b4-01c1-4b84-9081-c2b0d879661d",
   "metadata": {},
   "outputs": [],
   "source": [
    "np.save('/home/llma/wzy/comorbidity/Data/UKB_node_feature_gpt.npy', matrix)"
   ]
  },
  {
   "cell_type": "markdown",
   "id": "efc8354f-b4d7-4f8e-842e-29f46fa8fa47",
   "metadata": {},
   "source": [
    "## split train data, validation data, test data"
   ]
  },
  {
   "cell_type": "code",
   "execution_count": 136,
   "id": "071417c1-b933-45da-bf55-37847c6a77ee",
   "metadata": {},
   "outputs": [],
   "source": [
    "merged_df_long = pd.read_csv('/home/llma/wzy/comorbidity/Data/merged_df_long_convert.txt', sep='\\t')"
   ]
  },
  {
   "cell_type": "code",
   "execution_count": 137,
   "id": "ed47b2df-487c-4837-a0c1-d914e24ed9a4",
   "metadata": {},
   "outputs": [
    {
     "data": {
      "text/html": [
       "<div>\n",
       "<style scoped>\n",
       "    .dataframe tbody tr th:only-of-type {\n",
       "        vertical-align: middle;\n",
       "    }\n",
       "\n",
       "    .dataframe tbody tr th {\n",
       "        vertical-align: top;\n",
       "    }\n",
       "\n",
       "    .dataframe thead th {\n",
       "        text-align: right;\n",
       "    }\n",
       "</style>\n",
       "<table border=\"1\" class=\"dataframe\">\n",
       "  <thead>\n",
       "    <tr style=\"text-align: right;\">\n",
       "      <th></th>\n",
       "      <th>node1</th>\n",
       "      <th>node2</th>\n",
       "      <th>relationship</th>\n",
       "    </tr>\n",
       "  </thead>\n",
       "  <tbody>\n",
       "    <tr>\n",
       "      <th>0</th>\n",
       "      <td>1002133</td>\n",
       "      <td>I802</td>\n",
       "      <td>1.0</td>\n",
       "    </tr>\n",
       "    <tr>\n",
       "      <th>1</th>\n",
       "      <td>1002133</td>\n",
       "      <td>M1997</td>\n",
       "      <td>1.0</td>\n",
       "    </tr>\n",
       "  </tbody>\n",
       "</table>\n",
       "</div>"
      ],
      "text/plain": [
       "     node1  node2  relationship\n",
       "0  1002133   I802           1.0\n",
       "1  1002133  M1997           1.0"
      ]
     },
     "execution_count": 137,
     "metadata": {},
     "output_type": "execute_result"
    }
   ],
   "source": [
    "merged_df_long.head(2)"
   ]
  },
  {
   "cell_type": "markdown",
   "id": "a158f87e-88a0-4c53-ab1e-f582cd78ff76",
   "metadata": {},
   "source": [
    "### randomly (deprecated)"
   ]
  },
  {
   "cell_type": "code",
   "execution_count": 119,
   "id": "d41bccfb-50e2-4746-aab2-aebcd879a6d6",
   "metadata": {},
   "outputs": [],
   "source": [
    "# def split_data_by_patient_id(data_df, patient_id_col='node1', ratios=[7, 2, 1], random_seed=42):\n",
    "#     \"\"\"\n",
    "#     根据病人ID将数据框按指定比例划分为多个子集，确保各子集间病人ID无重叠\n",
    "    \n",
    "#     参数:\n",
    "#     data_df: pandas.DataFrame - 输入的数据框\n",
    "#     patient_id_col: str - 病人ID所在的列名，默认为'node1'\n",
    "#     ratios: list - 划分比例，默认为[7, 2, 1]\n",
    "#     random_seed: int - 随机数种子，确保结果可重现\n",
    "    \n",
    "#     返回:\n",
    "#     tuple - 划分后的多个数据框\n",
    "#     \"\"\"\n",
    "#     # 设置随机种子\n",
    "#     np.random.seed(random_seed)\n",
    "    \n",
    "#     # 获取唯一的病人ID\n",
    "#     unique_patient_ids = data_df[patient_id_col].unique()\n",
    "#     total_patients = len(unique_patient_ids)\n",
    "    \n",
    "#     # 计算各部分应占的病人数量\n",
    "#     ratio_sum = sum(ratios)\n",
    "#     parts = []\n",
    "#     remaining = total_patients\n",
    "    \n",
    "#     for i, ratio in enumerate(ratios[:-1]):\n",
    "#         # 计算当前部分的病人数量，四舍五入\n",
    "#         current_size = round(total_patients * ratio / ratio_sum)\n",
    "#         # 确保不会超出总人数\n",
    "#         current_size = min(current_size, remaining)\n",
    "#         parts.append(current_size)\n",
    "#         remaining -= current_size\n",
    "    \n",
    "#     # 最后一部分包含剩余的所有病人\n",
    "#     parts.append(remaining)\n",
    "    \n",
    "#     # 随机打乱病人ID\n",
    "#     shuffled_ids = np.random.permutation(unique_patient_ids)\n",
    "    \n",
    "#     # 划分病人ID\n",
    "#     split_points = [0]\n",
    "#     for size in parts:\n",
    "#         split_points.append(split_points[-1] + size)\n",
    "    \n",
    "#     patient_groups = [\n",
    "#         shuffled_ids[split_points[i]:split_points[i+1]]\n",
    "#         for i in range(len(parts))\n",
    "#     ]\n",
    "    \n",
    "#     # 根据病人ID划分数据\n",
    "#     data_groups = [\n",
    "#         data_df[data_df[patient_id_col].isin(patients)]\n",
    "#         for patients in patient_groups\n",
    "#     ]\n",
    "    \n",
    "#     return tuple(data_groups)"
   ]
  },
  {
   "cell_type": "code",
   "execution_count": 120,
   "id": "d552b069-31bf-4a77-87e3-1423a057e723",
   "metadata": {},
   "outputs": [],
   "source": [
    "# train_data, val_data, test_data = split_data_by_patient_id(\n",
    "#     data_df=merged_df_long,          # 你的原始数据框\n",
    "#     patient_id_col='node1',  # 病人ID列\n",
    "#     ratios=[7, 2, 1],   # 对应测试集:验证集:训练集\n",
    "#     random_seed=42      # 可设置随机种子确保结果可重现\n",
    "# )"
   ]
  },
  {
   "cell_type": "code",
   "execution_count": 121,
   "id": "bdb40a64-fec0-4bd0-935b-2ed5d60a3a6a",
   "metadata": {},
   "outputs": [
    {
     "name": "stdout",
     "output_type": "stream",
     "text": [
      "训练集: 11047782 行\n",
      "验证集: 3158636 行\n",
      "测试集: 1582955 行\n"
     ]
    }
   ],
   "source": [
    "# # 查看各部分大小\n",
    "# print(f\"训练集: {len(train_data)} 行\")\n",
    "# print(f\"验证集: {len(val_data)} 行\")\n",
    "# print(f\"测试集: {len(test_data)} 行\")"
   ]
  },
  {
   "cell_type": "code",
   "execution_count": 122,
   "id": "25232b5a-28b1-4894-960e-d55504bf1865",
   "metadata": {},
   "outputs": [],
   "source": [
    "# train_data.to_csv('/home/llma/wzy/comorbidity/Data/train_data.txt', sep='\\t', na_rep='nan', index=False)\n",
    "# val_data.to_csv('/home/llma/wzy/comorbidity/Data/val_data.txt', sep='\\t', na_rep='nan', index=False)\n",
    "# test_data.to_csv('/home/llma/wzy/comorbidity/Data/test_data.txt', sep='\\t', na_rep='nan', index=False)"
   ]
  },
  {
   "cell_type": "code",
   "execution_count": 141,
   "id": "52f5ba34-cb93-4012-a6e2-22b8ffbb49c5",
   "metadata": {},
   "outputs": [],
   "source": [
    "def prepareInputData(adj_path,\n",
    "                     graph_path_save,\n",
    "                     protein_embeddings_path,\n",
    "                     gpt_embeddings_path,\n",
    "                     metabolite_embeddings_path,\n",
    "                     icd10_embeddings_path,\n",
    "                     UKB_node_feature_save\n",
    "                     ):\n",
    "    X, A, Y = [], None, []\n",
    "    n_node = 0\n",
    "    \n",
    "    # Acquire Edges\n",
    "    edge_list = []\n",
    "    node_list = []\n",
    "    node_type = {}\n",
    "    relationship_list = []\n",
    "    \n",
    "    with open(adj_path, 'rt', encoding='utf-8') as f:\n",
    "        next(f)\n",
    "        for line in f.readlines():\n",
    "            node1, node2, relationship, *_ = line.strip().split('\\t')\n",
    "            edge_list.append((node1, node2))\n",
    "            node_list.extend([node1, node2])\n",
    "            relationship_list.append(relationship)\n",
    "    \n",
    "    node_map = {item: i for i, item in enumerate(sorted(list(set(node_list))))}\n",
    "    n_node = len(node_map)\n",
    "    \n",
    "    # 使用稀疏矩阵存储邻接关系\n",
    "    row = []\n",
    "    col = []\n",
    "    data = []\n",
    "    for i, (node1, node2) in enumerate(edge_list):\n",
    "        row.append(node_map[node1])\n",
    "        col.append(node_map[node2])\n",
    "        data.append(relationship_list[i])  # 使用实际的关系值\n",
    "        row.append(node_map[node2])\n",
    "        col.append(node_map[node1])\n",
    "        data.append(relationship_list[i])  # 使用实际的关系值\n",
    "    A = csr_matrix((data, (row, col)), shape=(n_node, n_node), dtype=np.float32)\n",
    "    \n",
    "    adj_matrix = pd.read_csv(adj_path, sep='\\t')\n",
    "    # 构建图所需的边列表\n",
    "    edges = [(row['node1'], row['node2'], row['relationship']) for _, row in adj_matrix.iterrows()]\n",
    "    \n",
    "    # 构建图\n",
    "    graph = Graph(edges, directed=False, weighted=True)\n",
    "    # 保存图对象\n",
    "    with open(graph_path_save, 'wb') as f:\n",
    "        pickle.dump(graph, f)\n",
    "\n",
    "    with open(protein_embeddings_path, 'rb') as f:\n",
    "        protein_embeddings_dict = pickle.load(f)\n",
    "\n",
    "    with open(gpt_embeddings_path, 'rb') as f:\n",
    "        embeddings_dict = pickle.load(f)\n",
    "    \n",
    "    with open(metabolite_embeddings_path, 'rb') as f:\n",
    "        metabolite_embeddings_dict = pickle.load(f)\n",
    "\n",
    "    with open(icd10_embeddings_path, 'rb') as f:\n",
    "        icd10_embeddings_dict = pickle.load(f)\n",
    "    \n",
    "    # 创建新字典，保留原始字典不变\n",
    "    merged_dict = {**protein_embeddings_dict, **embeddings_dict, **metabolite_embeddings_dict, **icd10_embeddings_dict}\n",
    "    # 提取所有键并保持顺序（Python 3.7+ 字典保持插入顺序）\n",
    "    keys = list(graph.node_names)\n",
    "    \n",
    "    # 将字典值转换为NumPy矩阵（每行一个向量）\n",
    "    matrix = np.array([merged_dict[key] for key in keys])\n",
    "    # 检查矩阵形状\n",
    "    print(\"矩阵形状:\", matrix.shape)  # 输出: (47626, 向量维度)\n",
    "    np.save(UKB_node_feature_save, matrix)"
   ]
  },
  {
   "cell_type": "code",
   "execution_count": 139,
   "id": "15f656c5-43a4-42c8-9744-d6a2a2bf9591",
   "metadata": {},
   "outputs": [],
   "source": [
    "# prepareInputData(adj_path='/home/llma/wzy/comorbidity/Data/train_data.txt',\n",
    "#                  graph_path_save='/home/llma/wzy/comorbidity/Data/train_graph.pkl',\n",
    "#                  protein_embeddings_path='/home/llma/wzy/comorbidity/Data/gpt_protein_embeddings_dict.pkl',\n",
    "#                  gpt_embeddings_path='/home/llma/wzy/comorbidity/Data/gpt_embeddings_dict.pkl',\n",
    "#                  metabolite_embeddings_path='/home/llma/wzy/comorbidity/Data/metabolite_embeddings_dict.pkl',\n",
    "#                  icd10_embeddings_path='/home/llma/wzy/comorbidity/Data/icd10_embeddings_dict.pkl',\n",
    "#                  UKB_node_feature_save='/home/llma/wzy/comorbidity/Data/UKB_node_feature_gpt_train.npy'\n",
    "#                      )"
   ]
  },
  {
   "cell_type": "code",
   "execution_count": null,
   "id": "2140a5d6-2d3e-40bf-92fe-13f46110dc22",
   "metadata": {},
   "outputs": [],
   "source": [
    "# prepareInputData(adj_path='/home/llma/wzy/comorbidity/Data/val_data.txt',\n",
    "#                  graph_path_save='/home/llma/wzy/comorbidity/Data/val_graph.pkl',\n",
    "#                  protein_embeddings_path='/home/llma/wzy/comorbidity/Data/gpt_protein_embeddings_dict.pkl',\n",
    "#                  gpt_embeddings_path='/home/llma/wzy/comorbidity/Data/gpt_embeddings_dict.pkl',\n",
    "#                  metabolite_embeddings_path='/home/llma/wzy/comorbidity/Data/metabolite_embeddings_dict.pkl',\n",
    "#                  icd10_embeddings_path='/home/llma/wzy/comorbidity/Data/icd10_embeddings_dict.pkl',\n",
    "#                  UKB_node_feature_save='/home/llma/wzy/comorbidity/Data/UKB_node_feature_gpt_val.npy'\n",
    "#                      )"
   ]
  },
  {
   "cell_type": "code",
   "execution_count": null,
   "id": "8f757829-7311-412f-b02e-82d4eab5abad",
   "metadata": {},
   "outputs": [],
   "source": [
    "# prepareInputData(adj_path='/home/llma/wzy/comorbidity/Data/test_data.txt',\n",
    "#                  graph_path_save='/home/llma/wzy/comorbidity/Data/test_graph.pkl',\n",
    "#                  protein_embeddings_path='/home/llma/wzy/comorbidity/Data/gpt_protein_embeddings_dict.pkl',\n",
    "#                  gpt_embeddings_path='/home/llma/wzy/comorbidity/Data/gpt_embeddings_dict.pkl',\n",
    "#                  metabolite_embeddings_path='/home/llma/wzy/comorbidity/Data/metabolite_embeddings_dict.pkl',\n",
    "#                  icd10_embeddings_path='/home/llma/wzy/comorbidity/Data/icd10_embeddings_dict.pkl',\n",
    "#                  UKB_node_feature_save='/home/llma/wzy/comorbidity/Data/UKB_node_feature_gpt_test.npy'\n",
    "#                      )"
   ]
  },
  {
   "cell_type": "markdown",
   "id": "f99f1d9e-8697-4c7a-8d2a-7276e571f5d4",
   "metadata": {},
   "source": [
    "## cluster patients and prepare data"
   ]
  },
  {
   "cell_type": "code",
   "execution_count": 142,
   "id": "48e482f8-e37f-4888-b9d9-7087e0a68846",
   "metadata": {},
   "outputs": [],
   "source": [
    "import numpy as np\n",
    "from sklearn.preprocessing import StandardScaler\n",
    "from sklearn.neighbors import NearestNeighbors\n",
    "import umap  # 需要安装umap-learn包\n",
    "import community as community_louvain  # python-louvain包\n",
    "import networkx as nx\n",
    "import matplotlib.pyplot as plt\n",
    "from sklearn.decomposition import PCA"
   ]
  },
  {
   "cell_type": "code",
   "execution_count": 143,
   "id": "84fe48fd-1c68-4413-9d08-6a24d46d9339",
   "metadata": {},
   "outputs": [],
   "source": [
    "with open('/home/llma/wzy/comorbidity/Data/gpt_embeddings_dict.pkl', 'rb') as f:\n",
    "    embeddings_dict = pickle.load(f)"
   ]
  },
  {
   "cell_type": "code",
   "execution_count": 144,
   "id": "fdb0d206-2bd3-42e9-8045-620e1a4f7ea3",
   "metadata": {},
   "outputs": [
    {
     "name": "stdout",
     "output_type": "stream",
     "text": [
      "键 '1000021' 对应的值:\n",
      "[-0.02587547  0.00406624 -0.00236452 ...  0.00774806 -0.01663612\n",
      " -0.0286592 ]\n"
     ]
    }
   ],
   "source": [
    "# 选取第一个键查看完整值\n",
    "sample_key = list(embeddings_dict.keys())[0]  # '1000021'\n",
    "sample_value = embeddings_dict[sample_key]\n",
    "\n",
    "print(f\"键 '{sample_key}' 对应的值:\")\n",
    "print(sample_value)  # 打印完整内容"
   ]
  },
  {
   "cell_type": "code",
   "execution_count": 145,
   "id": "21c81ff9-aa63-4b1e-b37a-ad3105e3f4f2",
   "metadata": {},
   "outputs": [
    {
     "name": "stdout",
     "output_type": "stream",
     "text": [
      "矩阵形状: (47626, 1536)\n",
      "前3行:\n",
      " [[-0.02587547  0.00406624 -0.00236452 ...  0.00774806 -0.01663612\n",
      "  -0.0286592 ]\n",
      " [-0.00557738  0.00204976  0.02160772 ... -0.00394769 -0.02920619\n",
      "  -0.00697089]\n",
      " [-0.01752493 -0.01542352  0.02232247 ...  0.00777784 -0.00656854\n",
      "  -0.0131503 ]]\n"
     ]
    }
   ],
   "source": [
    "# 提取所有键并保持顺序（Python 3.7+ 字典保持插入顺序）\n",
    "keys = list(embeddings_dict.keys())\n",
    "\n",
    "# 将字典值转换为NumPy矩阵（每行一个向量）\n",
    "matrix = np.array([embeddings_dict[key] for key in keys])\n",
    "\n",
    "# 检查矩阵形状\n",
    "print(\"矩阵形状:\", matrix.shape)  # 输出: (47626, 向量维度)\n",
    "\n",
    "# 示例：查看前3行\n",
    "print(\"前3行:\\n\", matrix[:3])"
   ]
  },
  {
   "cell_type": "code",
   "execution_count": 146,
   "id": "6ba76e45-be66-448f-9f9b-93864e1220ba",
   "metadata": {},
   "outputs": [],
   "source": [
    "# 1. 数据标准化\n",
    "scaler = StandardScaler()\n",
    "matrix_scaled = scaler.fit_transform(matrix)"
   ]
  },
  {
   "cell_type": "code",
   "execution_count": 147,
   "id": "5ff5adfa-3ae5-4226-9567-22e7136b7032",
   "metadata": {},
   "outputs": [
    {
     "data": {
      "text/plain": [
       "-6.632185332777728"
      ]
     },
     "execution_count": 147,
     "metadata": {},
     "output_type": "execute_result"
    }
   ],
   "source": [
    "np.min(matrix_scaled)"
   ]
  },
  {
   "cell_type": "code",
   "execution_count": 148,
   "id": "4a4ecfe0-2b7d-4898-9eb0-2bbd0caae7d7",
   "metadata": {},
   "outputs": [
    {
     "data": {
      "text/plain": [
       "5.618623295888523"
      ]
     },
     "execution_count": 148,
     "metadata": {},
     "output_type": "execute_result"
    }
   ],
   "source": [
    "np.max(matrix_scaled)"
   ]
  },
  {
   "cell_type": "code",
   "execution_count": 149,
   "id": "3360d7d5-a157-4124-9333-3e11c017fce3",
   "metadata": {},
   "outputs": [
    {
     "name": "stdout",
     "output_type": "stream",
     "text": [
      "PCA降维后形状: (47626, 50)\n",
      "解释方差比例: 0.707\n"
     ]
    }
   ],
   "source": [
    "# 2. PCA降维到50维\n",
    "pca = PCA(n_components=50, random_state=42)\n",
    "matrix_pca = pca.fit_transform(matrix_scaled)\n",
    "print(f\"PCA降维后形状: {matrix_pca.shape}\")\n",
    "print(f\"解释方差比例: {np.sum(pca.explained_variance_ratio_):.3f}\")"
   ]
  },
  {
   "cell_type": "code",
   "execution_count": 150,
   "id": "f721ac63-b982-465e-b934-0ef43e28f540",
   "metadata": {},
   "outputs": [
    {
     "data": {
      "text/plain": [
       "(47626, 50)"
      ]
     },
     "execution_count": 150,
     "metadata": {},
     "output_type": "execute_result"
    }
   ],
   "source": [
    "matrix_pca.shape"
   ]
  },
  {
   "cell_type": "code",
   "execution_count": 151,
   "id": "d696a352-ce0e-4418-9ddf-578a0298b83e",
   "metadata": {},
   "outputs": [],
   "source": [
    "# 3. 构建KNN图\n",
    "n_neighbors = 10  # KNN参数，可根据数据特性调整\n",
    "\n",
    "# 计算KNN\n",
    "nbrs = NearestNeighbors(n_neighbors=n_neighbors, algorithm='kd_tree', p=2).fit(matrix_pca)\n",
    "distances, indices = nbrs.kneighbors(matrix_pca)"
   ]
  },
  {
   "cell_type": "code",
   "execution_count": 152,
   "id": "320691ab-4761-4e0d-956b-b3226304f009",
   "metadata": {},
   "outputs": [],
   "source": [
    "# 创建图\n",
    "G = nx.Graph()\n",
    "\n",
    "# 添加节点\n",
    "for i in range(matrix_pca.shape[0]):\n",
    "    G.add_node(i)"
   ]
  },
  {
   "cell_type": "code",
   "execution_count": 153,
   "id": "5df82b97-76ac-41b8-a4d3-f1f45beb7920",
   "metadata": {},
   "outputs": [],
   "source": [
    "# 添加边 (基于KNN)\n",
    "for i in range(matrix_pca.shape[0]):\n",
    "    for j in range(n_neighbors):  # 从1开始，排除自己\n",
    "        neighbor_idx = indices[i, j]\n",
    "        dist = distances[i, j]\n",
    "        # 跳过无效边\n",
    "        if i == neighbor_idx or dist <= 1e-6:\n",
    "            continue\n",
    "        # 添加边（避免重复）\n",
    "        if not G.has_edge(i, neighbor_idx):\n",
    "            weight = 1.0 / dist\n",
    "            G.add_edge(i, neighbor_idx, weight=weight)"
   ]
  },
  {
   "cell_type": "code",
   "execution_count": 154,
   "id": "0242ae90-a432-4ae4-b5a6-48c5ac651399",
   "metadata": {},
   "outputs": [
    {
     "name": "stdout",
     "output_type": "stream",
     "text": [
      "边权重范围: [0.03039151571312543, 16.613693274118894]\n"
     ]
    }
   ],
   "source": [
    "# 假设 G 是已构建的带权图（如通过之前的KNN方法构建）\n",
    "all_weights = [data['weight'] for _, _, data in G.edges(data=True)]\n",
    "\n",
    "min_weight = min(all_weights)\n",
    "max_weight = max(all_weights)\n",
    "\n",
    "print(f\"边权重范围: [{min_weight}, {max_weight}]\")"
   ]
  },
  {
   "cell_type": "code",
   "execution_count": 155,
   "id": "6017f951-ae85-4d3b-814a-1aa115cca031",
   "metadata": {},
   "outputs": [],
   "source": [
    "# 4. 应用Louvain算法进行社区检测\n",
    "partition = community_louvain.best_partition(G, weight='weight', resolution=1.0, random_state=42)"
   ]
  },
  {
   "cell_type": "code",
   "execution_count": 156,
   "id": "122fe7ab-18d2-4c13-8705-91cc1eaca8b7",
   "metadata": {},
   "outputs": [
    {
     "name": "stdout",
     "output_type": "stream",
     "text": [
      "Louvain算法发现了 51 个社区\n"
     ]
    }
   ],
   "source": [
    "# 获取聚类标签\n",
    "cluster_labels = np.array([partition[i] for i in range(matrix_pca.shape[0])])\n",
    "n_clusters = len(set(cluster_labels))\n",
    "print(f\"Louvain算法发现了 {n_clusters} 个社区\")"
   ]
  },
  {
   "cell_type": "code",
   "execution_count": 157,
   "id": "8ec8a0a9-355c-4624-a9ba-3d2a81442028",
   "metadata": {},
   "outputs": [
    {
     "data": {
      "text/plain": [
       "array([ 0,  1,  2, ...,  9, 17, 40])"
      ]
     },
     "execution_count": 157,
     "metadata": {},
     "output_type": "execute_result"
    }
   ],
   "source": [
    "cluster_labels"
   ]
  },
  {
   "cell_type": "code",
   "execution_count": 158,
   "id": "0c20bc8e-d513-429e-af15-9a0f180033a5",
   "metadata": {},
   "outputs": [
    {
     "data": {
      "text/plain": [
       "(47626,)"
      ]
     },
     "execution_count": 158,
     "metadata": {},
     "output_type": "execute_result"
    }
   ],
   "source": [
    "cluster_labels.shape"
   ]
  },
  {
   "cell_type": "code",
   "execution_count": 159,
   "id": "4aa38575-b985-4519-ac08-ed86e754286a",
   "metadata": {},
   "outputs": [
    {
     "name": "stdout",
     "output_type": "stream",
     "text": [
      "元素 0 出现了 801 次\n",
      "元素 1 出现了 2463 次\n",
      "元素 2 出现了 2602 次\n",
      "元素 3 出现了 2285 次\n",
      "元素 4 出现了 2122 次\n",
      "元素 5 出现了 484 次\n",
      "元素 6 出现了 672 次\n",
      "元素 7 出现了 1916 次\n",
      "元素 8 出现了 1331 次\n",
      "元素 9 出现了 2175 次\n",
      "元素 10 出现了 1200 次\n",
      "元素 11 出现了 1271 次\n",
      "元素 12 出现了 987 次\n",
      "元素 13 出现了 1467 次\n",
      "元素 14 出现了 994 次\n",
      "元素 15 出现了 1232 次\n",
      "元素 16 出现了 54 次\n",
      "元素 17 出现了 2368 次\n",
      "元素 18 出现了 36 次\n",
      "元素 19 出现了 3122 次\n",
      "元素 20 出现了 1465 次\n",
      "元素 21 出现了 787 次\n",
      "元素 22 出现了 224 次\n",
      "元素 23 出现了 1259 次\n",
      "元素 24 出现了 963 次\n",
      "元素 25 出现了 1234 次\n",
      "元素 26 出现了 1565 次\n",
      "元素 27 出现了 1152 次\n",
      "元素 28 出现了 90 次\n",
      "元素 29 出现了 1408 次\n",
      "元素 30 出现了 1991 次\n",
      "元素 31 出现了 875 次\n",
      "元素 32 出现了 1090 次\n",
      "元素 33 出现了 921 次\n",
      "元素 34 出现了 666 次\n",
      "元素 35 出现了 58 次\n",
      "元素 36 出现了 189 次\n",
      "元素 37 出现了 27 次\n",
      "元素 38 出现了 939 次\n",
      "元素 39 出现了 58 次\n",
      "元素 40 出现了 307 次\n",
      "元素 41 出现了 128 次\n",
      "元素 42 出现了 97 次\n",
      "元素 43 出现了 145 次\n",
      "元素 44 出现了 57 次\n",
      "元素 45 出现了 123 次\n",
      "元素 46 出现了 64 次\n",
      "元素 47 出现了 69 次\n",
      "元素 48 出现了 33 次\n",
      "元素 49 出现了 30 次\n",
      "元素 50 出现了 30 次\n"
     ]
    }
   ],
   "source": [
    "# 统计每个唯一元素的个数\n",
    "unique_elements, counts = np.unique(cluster_labels, return_counts=True)\n",
    "\n",
    "# 打印结果\n",
    "for element, count in zip(unique_elements, counts):\n",
    "    print(f\"元素 {element} 出现了 {count} 次\")"
   ]
  },
  {
   "cell_type": "code",
   "execution_count": 160,
   "id": "96722b9f-075d-451f-9737-d984d579e4a6",
   "metadata": {},
   "outputs": [
    {
     "name": "stderr",
     "output_type": "stream",
     "text": [
      "/home/llma/anaconda3/envs/GAT/lib/python3.12/site-packages/sklearn/utils/deprecation.py:151: FutureWarning: 'force_all_finite' was renamed to 'ensure_all_finite' in 1.6 and will be removed in 1.8.\n",
      "  warnings.warn(\n"
     ]
    }
   ],
   "source": [
    "import umap\n",
    "reducer = umap.UMAP(n_components=2)\n",
    "matrix_2d = reducer.fit_transform(matrix)"
   ]
  },
  {
   "cell_type": "code",
   "execution_count": 161,
   "id": "b97b6892-f063-44d4-a9b3-c9677fb7b66e",
   "metadata": {},
   "outputs": [
    {
     "data": {
      "text/plain": [
       "<matplotlib.colorbar.Colorbar at 0x7feb90d1fef0>"
      ]
     },
     "execution_count": 161,
     "metadata": {},
     "output_type": "execute_result"
    },
    {
     "data": {
      "image/png": "[encoded data removed]",
      "text/plain": [
       "<Figure size 1200x800 with 2 Axes>"
      ]
     },
     "metadata": {},
     "output_type": "display_data"
    }
   ],
   "source": [
    "# 5. 可视化结果 (使用PCA的前两个主成分)\n",
    "plt.figure(figsize=(12, 8))\n",
    "scatter = plt.scatter(matrix_2d[:, 0], matrix_2d[:, 1], \n",
    "                     c=cluster_labels, cmap='Spectral', alpha=0.6, s=5)\n",
    "plt.colorbar(scatter)\n",
    "# plt.xlabel('PC1 (解释方差: {:.1f}%)'.format(pca.explained_variance_ratio_[0]*100))\n",
    "# plt.ylabel('PC2 (解释方差: {:.1f}%)'.format(pca.explained_variance_ratio_[1]*100))\n",
    "# plt.title(f'Louvain Clustering (PCA50+KNN, k={n_neighbors}, {n_clusters} communities)')\n",
    "# plt.show()"
   ]
  },
  {
   "cell_type": "markdown",
   "id": "eaf4751b-a089-47f3-bdb5-1f49869bb044",
   "metadata": {},
   "source": [
    "## split dataset in clusters"
   ]
  },
  {
   "cell_type": "code",
   "execution_count": 162,
   "id": "d2cd19ae-7b5b-47f0-bef8-8627119f90ec",
   "metadata": {},
   "outputs": [
    {
     "data": {
      "text/plain": [
       "(47626,)"
      ]
     },
     "execution_count": 162,
     "metadata": {},
     "output_type": "execute_result"
    }
   ],
   "source": [
    "cluster_labels.shape"
   ]
  },
  {
   "cell_type": "code",
   "execution_count": 163,
   "id": "d077bee8-286d-4841-8cf6-4b92d98c9363",
   "metadata": {},
   "outputs": [
    {
     "data": {
      "text/plain": [
       "47626"
      ]
     },
     "execution_count": 163,
     "metadata": {},
     "output_type": "execute_result"
    }
   ],
   "source": [
    "len(keys)"
   ]
  },
  {
   "cell_type": "code",
   "execution_count": 164,
   "id": "2f8be465-94f0-408e-b5a7-37da21fd2c3a",
   "metadata": {},
   "outputs": [],
   "source": [
    "numeric_keys = [int(x) for x in keys]"
   ]
  },
  {
   "cell_type": "code",
   "execution_count": 165,
   "id": "8a0e9751-d7de-4b67-84e4-c94720e846a1",
   "metadata": {},
   "outputs": [],
   "source": [
    "def split_data_by_patient_id_with_clusters(\n",
    "    data_df, \n",
    "    patient_id_col='node1',\n",
    "    patient_id=None,\n",
    "    cluster_labels=None, \n",
    "    ratios=[1, 2, 7], \n",
    "    random_seed=42\n",
    "):\n",
    "    \"\"\"\n",
    "    根据病人ID和聚类标签将数据框按指定比例划分为多个子集，\n",
    "    确保每个聚类内部按比例划分，且各子集间病人ID无重叠\n",
    "    \n",
    "    参数:\n",
    "    data_df: pandas.DataFrame - 输入的数据框\n",
    "    patient_id_col: str - 病人ID所在的列名，默认为'node1'\n",
    "    cluster_labels: array-like - 病人的聚类标签，默认为None\n",
    "    ratios: list - 划分比例，默认为[1, 2, 7] (对应test:val:train)\n",
    "    random_seed: int - 随机数种子，确保结果可重现\n",
    "    \n",
    "    返回:\n",
    "    tuple - 划分后的多个数据框 (test_df, val_df, train_df)\n",
    "    \"\"\"\n",
    "    \n",
    "    # 设置随机种子\n",
    "    np.random.seed(random_seed)\n",
    "    \n",
    "    # 确保聚类标签存在\n",
    "    if cluster_labels is None:\n",
    "        raise ValueError(\"必须提供cluster_labels参数\")\n",
    "    \n",
    "    if patient_id is None:\n",
    "        raise ValueError(\"必须提供patient_id参数\")\n",
    "    \n",
    "    # 为每个患者分配聚类标签\n",
    "    patient_clusters = pd.DataFrame({\n",
    "        'patient_id': patient_id,\n",
    "        'cluster': cluster_labels\n",
    "    })\n",
    "    \n",
    "    # 初始化各集合的患者ID列表\n",
    "    test_patients = []\n",
    "    val_patients = []\n",
    "    train_patients = []\n",
    "    \n",
    "    # 对每个聚类进行划分\n",
    "    for cluster_id in patient_clusters['cluster'].unique():\n",
    "        # 获取当前聚类的患者ID\n",
    "        cluster_patients = patient_clusters[\n",
    "            patient_clusters['cluster'] == cluster_id\n",
    "        ]['patient_id'].values\n",
    "        \n",
    "        # 计算各部分应占的患者数量\n",
    "        total_patients = len(cluster_patients)\n",
    "        ratio_sum = sum(ratios)\n",
    "        \n",
    "        # 按比例计算各集合的患者数量\n",
    "        test_size = round(total_patients * ratios[0] / ratio_sum)\n",
    "        val_size = round(total_patients * ratios[1] / ratio_sum)\n",
    "        train_size = total_patients - test_size - val_size\n",
    "        \n",
    "        # 随机打乱患者ID\n",
    "        shuffled_ids = np.random.permutation(cluster_patients)\n",
    "        \n",
    "        # 划分患者ID\n",
    "        test_ids = shuffled_ids[:test_size]\n",
    "        val_ids = shuffled_ids[test_size:test_size+val_size]\n",
    "        train_ids = shuffled_ids[test_size+val_size:]\n",
    "        \n",
    "        # 添加到总体集合\n",
    "        test_patients.extend(test_ids)\n",
    "        val_patients.extend(val_ids)\n",
    "        train_patients.extend(train_ids)\n",
    "    \n",
    "    # 根据患者ID划分数据\n",
    "    test_df = data_df[data_df[patient_id_col].isin(test_patients)]\n",
    "    val_df = data_df[data_df[patient_id_col].isin(val_patients)]\n",
    "    train_df = data_df[data_df[patient_id_col].isin(train_patients)]\n",
    "    \n",
    "    return test_df, val_df, train_df"
   ]
  },
  {
   "cell_type": "code",
   "execution_count": 166,
   "id": "b6548bb0-b84f-44ca-90f9-8c0f0d4c4a26",
   "metadata": {},
   "outputs": [],
   "source": [
    "test_data, val_data, train_data = split_data_by_patient_id_with_clusters(\n",
    "    data_df=merged_df_long, \n",
    "    patient_id_col='node1',\n",
    "    patient_id=numeric_keys,\n",
    "    cluster_labels=cluster_labels, \n",
    "    ratios=[1, 2, 7], \n",
    "    random_seed=42\n",
    ")"
   ]
  },
  {
   "cell_type": "code",
   "execution_count": 167,
   "id": "0cd4c5f1-8c3c-48a9-bc0e-7eb00f58587b",
   "metadata": {},
   "outputs": [
    {
     "name": "stdout",
     "output_type": "stream",
     "text": [
      "(7955779, 3)\n",
      "(2286395, 3)\n",
      "(1150386, 3)\n"
     ]
    }
   ],
   "source": [
    "print(train_data.shape)\n",
    "print(val_data.shape)\n",
    "print(test_data.shape)"
   ]
  },
  {
   "cell_type": "code",
   "execution_count": 168,
   "id": "9cd220c2-8d64-461c-8e31-27a66b46c009",
   "metadata": {},
   "outputs": [
    {
     "data": {
      "text/plain": [
       "(11392560, 3)"
      ]
     },
     "execution_count": 168,
     "metadata": {},
     "output_type": "execute_result"
    }
   ],
   "source": [
    "merged_df_long.shape"
   ]
  },
  {
   "cell_type": "code",
   "execution_count": 170,
   "id": "8453298a-f5aa-4278-81f3-89371a0e3bef",
   "metadata": {},
   "outputs": [],
   "source": [
    "train_data.to_csv('/home/llma/wzy/comorbidity/Data/train_data_splitClusters.txt', sep='\\t', na_rep='nan', index=False)\n",
    "val_data.to_csv('/home/llma/wzy/comorbidity/Data/val_data_splitClusters.txt', sep='\\t', na_rep='nan', index=False)\n",
    "test_data.to_csv('/home/llma/wzy/comorbidity/Data/test_data_splitClusters.txt', sep='\\t', na_rep='nan', index=False)"
   ]
  },
  {
   "cell_type": "code",
   "execution_count": 171,
   "id": "238bec7d-f56a-4b80-b75e-015dfc32eb5e",
   "metadata": {},
   "outputs": [
    {
     "name": "stderr",
     "output_type": "stream",
     "text": [
      "                                                                                                                                                            "
     ]
    },
    {
     "name": "stdout",
     "output_type": "stream",
     "text": [
      "矩阵形状: (29210, 1536)\n"
     ]
    }
   ],
   "source": [
    "prepareInputData(adj_path='/home/llma/wzy/comorbidity/Data/train_data_splitClusters.txt',\n",
    "                 graph_path_save='/home/llma/wzy/comorbidity/Data/train_graph_splitClusters.pkl',\n",
    "                 protein_embeddings_path='/home/llma/wzy/comorbidity/Data/gpt_protein_embeddings_dict.pkl',\n",
    "                 gpt_embeddings_path='/home/llma/wzy/comorbidity/Data/gpt_embeddings_dict.pkl',\n",
    "                 metabolite_embeddings_path='/home/llma/wzy/comorbidity/Data/metabolite_embeddings_dict.pkl',\n",
    "                 icd10_embeddings_path='/home/llma/wzy/comorbidity/Data/icd10_embeddings_dict.pkl',\n",
    "                 UKB_node_feature_save='/home/llma/wzy/comorbidity/Data/UKB_node_feature_gpt_train_splitClusters.npy'\n",
    "                     )"
   ]
  },
  {
   "cell_type": "code",
   "execution_count": 172,
   "id": "2662e1df-6c3e-4710-9296-99e5f43287e8",
   "metadata": {},
   "outputs": [
    {
     "name": "stderr",
     "output_type": "stream",
     "text": [
      "                                                                                                                                                            "
     ]
    },
    {
     "name": "stdout",
     "output_type": "stream",
     "text": [
      "矩阵形状: (13607, 1536)\n"
     ]
    }
   ],
   "source": [
    "prepareInputData(adj_path='/home/llma/wzy/comorbidity/Data/val_data_splitClusters.txt',\n",
    "                 graph_path_save='/home/llma/wzy/comorbidity/Data/val_graph_splitClusters.pkl',\n",
    "                 protein_embeddings_path='/home/llma/wzy/comorbidity/Data/gpt_protein_embeddings_dict.pkl',\n",
    "                 gpt_embeddings_path='/home/llma/wzy/comorbidity/Data/gpt_embeddings_dict.pkl',\n",
    "                 metabolite_embeddings_path='/home/llma/wzy/comorbidity/Data/metabolite_embeddings_dict.pkl',\n",
    "                 icd10_embeddings_path='/home/llma/wzy/comorbidity/Data/icd10_embeddings_dict.pkl',\n",
    "                 UKB_node_feature_save='/home/llma/wzy/comorbidity/Data/UKB_node_feature_gpt_val_splitClusters.npy'\n",
    "                     )"
   ]
  },
  {
   "cell_type": "code",
   "execution_count": 173,
   "id": "49e8c1c5-7e35-41e0-b7d3-6601bc1e3c76",
   "metadata": {},
   "outputs": [
    {
     "name": "stderr",
     "output_type": "stream",
     "text": [
      "                                                                                                                                                            "
     ]
    },
    {
     "name": "stdout",
     "output_type": "stream",
     "text": [
      "矩阵形状: (9883, 1536)\n"
     ]
    }
   ],
   "source": [
    "prepareInputData(adj_path='/home/llma/wzy/comorbidity/Data/test_data_splitClusters.txt',\n",
    "                 graph_path_save='/home/llma/wzy/comorbidity/Data/test_graph_splitClusters.pkl',\n",
    "                 protein_embeddings_path='/home/llma/wzy/comorbidity/Data/gpt_protein_embeddings_dict.pkl',\n",
    "                 gpt_embeddings_path='/home/llma/wzy/comorbidity/Data/gpt_embeddings_dict.pkl',\n",
    "                 metabolite_embeddings_path='/home/llma/wzy/comorbidity/Data/metabolite_embeddings_dict.pkl',\n",
    "                 icd10_embeddings_path='/home/llma/wzy/comorbidity/Data/icd10_embeddings_dict.pkl',\n",
    "                 UKB_node_feature_save='/home/llma/wzy/comorbidity/Data/UKB_node_feature_gpt_test_splitClusters.npy'\n",
    "                     )"
   ]
  },
  {
   "cell_type": "code",
   "execution_count": null,
   "id": "e6b05998-edaa-41d1-9a99-3b73db1f32f0",
   "metadata": {},
   "outputs": [],
   "source": []
  },
  {
   "cell_type": "code",
   "execution_count": null,
   "id": "a56bee46-9c3c-42c6-b544-499bf7da4f01",
   "metadata": {},
   "outputs": [],
   "source": []
  },
  {
   "cell_type": "code",
   "execution_count": null,
   "id": "9e17a535-5897-409d-b91a-bf964ee9cd57",
   "metadata": {},
   "outputs": [],
   "source": []
  }
 ],
 "metadata": {
  "kernelspec": {
   "display_name": "GAT",
   "language": "python",
   "name": "gat"
  },
  "language_info": {
   "codemirror_mode": {
    "name": "ipython",
    "version": 3
   },
   "file_extension": ".py",
   "mimetype": "text/x-python",
   "name": "python",
   "nbconvert_exporter": "python",
   "pygments_lexer": "ipython3",
   "version": "3.12.10"
  }
 },
 "nbformat": 4,
 "nbformat_minor": 5
}
