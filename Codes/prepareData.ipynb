{
 "cells": [
  {
   "cell_type": "code",
   "execution_count": 1,
   "id": "94869943-0292-4aac-bfa9-6bbda7b81216",
   "metadata": {},
   "outputs": [],
   "source": [
    "# class Encoder(nn.Module):\n",
    "#     def __init__(self, in_channels, hidden_channels, num_layers, heads, dropout=0.1):\n",
    "#         super(Encoder, self).__init__()\n",
    "#         self.num_layers = num_layers\n",
    "#         self.convs = nn.ModuleList()\n",
    "        \n",
    "#         # 添加多层 GATConv\n",
    "#         self.convs.append(GATConv(in_channels, hidden_channels, heads=heads))\n",
    "#         for _ in range(num_layers - 1):\n",
    "#             self.convs.append(GATConv(hidden_channels * heads, hidden_channels, heads=heads))\n",
    "        \n",
    "#         # 根据隐藏特征的维度设置 PReLU 参数数量\n",
    "#         self.prelu = nn.PReLU(num_parameters=hidden_channels)\n",
    "\n",
    "#         # 添加 Dropout 层\n",
    "#         self.dropout = nn.Dropout(dropout)\n",
    "\n",
    "#     def forward(self, x, edge_index):\n",
    "#         # 定义一个变量用于保存输入特征，以便进行跳跃连接\n",
    "#         residual = x\n",
    "        \n",
    "#         for conv in self.convs:\n",
    "#             # 对输入特征进行图注意力操作\n",
    "#             x = conv(x, edge_index)\n",
    "            \n",
    "#             # 将图注意力操作的结果与原始输入特征相加\n",
    "#             x = x + residual\n",
    "\n",
    "#             # 应用 Dropout 正则化\n",
    "#             x = self.dropout(x)\n",
    "            \n",
    "#             # 应用 PReLU 激活函数\n",
    "#             x = self.prelu(x)\n",
    "            \n",
    "#             # 更新跳跃连接的输入特征为当前层的输出\n",
    "#             residual = x\n",
    "        \n",
    "#         return x"
   ]
  },
  {
   "cell_type": "markdown",
   "id": "b4516ab0-21ba-41d5-9518-a07eb4d79a48",
   "metadata": {},
   "source": [
    "### Prepare data"
   ]
  },
  {
   "cell_type": "code",
   "execution_count": 66,
   "id": "92fa8f86-3ba2-45d0-882a-304d7891352d",
   "metadata": {},
   "outputs": [],
   "source": [
    "import pandas as pd\n",
    "import pickle\n",
    "import numpy as np"
   ]
  },
  {
   "cell_type": "code",
   "execution_count": 3,
   "id": "514ca9a6-29cd-468c-9f2f-7c0aff863f5c",
   "metadata": {},
   "outputs": [],
   "source": [
    "# 读取原始数据（假设每个诊断记录为一行）\n",
    "clinical_df = pd.read_csv(\"/home/llma/wzy/comorbidity/Data/ICD10_long.csv\")"
   ]
  },
  {
   "cell_type": "code",
   "execution_count": 4,
   "id": "0a2967d5-f242-4b88-a7a1-4d259fcea0f5",
   "metadata": {},
   "outputs": [
    {
     "data": {
      "text/plain": [
       "(7015554, 5)"
      ]
     },
     "execution_count": 4,
     "metadata": {},
     "output_type": "execute_result"
    }
   ],
   "source": [
    "clinical_df.shape"
   ]
  },
  {
   "cell_type": "code",
   "execution_count": 5,
   "id": "8bff5a80-2af8-46c3-8bc9-5b3b9f841734",
   "metadata": {},
   "outputs": [
    {
     "data": {
      "text/html": [
       "<div>\n",
       "<style scoped>\n",
       "    .dataframe tbody tr th:only-of-type {\n",
       "        vertical-align: middle;\n",
       "    }\n",
       "\n",
       "    .dataframe tbody tr th {\n",
       "        vertical-align: top;\n",
       "    }\n",
       "\n",
       "    .dataframe thead th {\n",
       "        text-align: right;\n",
       "    }\n",
       "</style>\n",
       "<table border=\"1\" class=\"dataframe\">\n",
       "  <thead>\n",
       "    <tr style=\"text-align: right;\">\n",
       "      <th></th>\n",
       "      <th>eid</th>\n",
       "      <th>ICD10_codes</th>\n",
       "      <th>Date</th>\n",
       "      <th>p40000_i0</th>\n",
       "      <th>p40023</th>\n",
       "    </tr>\n",
       "  </thead>\n",
       "  <tbody>\n",
       "    <tr>\n",
       "      <th>0</th>\n",
       "      <td>1000122</td>\n",
       "      <td>J383</td>\n",
       "      <td>1999-07-06</td>\n",
       "      <td>2014-12-22</td>\n",
       "      <td>1.0</td>\n",
       "    </tr>\n",
       "    <tr>\n",
       "      <th>1</th>\n",
       "      <td>1000122</td>\n",
       "      <td>M255</td>\n",
       "      <td>2001-07-31</td>\n",
       "      <td>2014-12-22</td>\n",
       "      <td>1.0</td>\n",
       "    </tr>\n",
       "  </tbody>\n",
       "</table>\n",
       "</div>"
      ],
      "text/plain": [
       "       eid ICD10_codes        Date   p40000_i0  p40023\n",
       "0  1000122        J383  1999-07-06  2014-12-22     1.0\n",
       "1  1000122        M255  2001-07-31  2014-12-22     1.0"
      ]
     },
     "execution_count": 5,
     "metadata": {},
     "output_type": "execute_result"
    }
   ],
   "source": [
    "clinical_df.head(2)"
   ]
  },
  {
   "cell_type": "code",
   "execution_count": 6,
   "id": "17c1a149-8c1f-497a-bbbe-bfb9d8c93c4e",
   "metadata": {},
   "outputs": [
    {
     "data": {
      "text/plain": [
       "12315"
      ]
     },
     "execution_count": 6,
     "metadata": {},
     "output_type": "execute_result"
    }
   ],
   "source": [
    "len(clinical_df['ICD10_codes'].unique())"
   ]
  },
  {
   "cell_type": "code",
   "execution_count": 7,
   "id": "98848fc7-516f-43f2-b7ce-b72ef9bd5d78",
   "metadata": {},
   "outputs": [],
   "source": [
    "Olink_df = pd.read_csv(\"/home/llma/wzy/comorbidity/Data/Olink.csv\")"
   ]
  },
  {
   "cell_type": "code",
   "execution_count": 8,
   "id": "c89910d4-49f9-43ff-9b82-b1b51e60ddda",
   "metadata": {},
   "outputs": [
    {
     "data": {
      "text/html": [
       "<div>\n",
       "<style scoped>\n",
       "    .dataframe tbody tr th:only-of-type {\n",
       "        vertical-align: middle;\n",
       "    }\n",
       "\n",
       "    .dataframe tbody tr th {\n",
       "        vertical-align: top;\n",
       "    }\n",
       "\n",
       "    .dataframe thead th {\n",
       "        text-align: right;\n",
       "    }\n",
       "</style>\n",
       "<table border=\"1\" class=\"dataframe\">\n",
       "  <thead>\n",
       "    <tr style=\"text-align: right;\">\n",
       "      <th></th>\n",
       "      <th>olink_instance_0.eid</th>\n",
       "      <th>olink_instance_0.a1bg</th>\n",
       "      <th>olink_instance_0.aamdc</th>\n",
       "      <th>olink_instance_0.aarsd1</th>\n",
       "      <th>olink_instance_0.abca2</th>\n",
       "      <th>olink_instance_0.abhd14b</th>\n",
       "      <th>olink_instance_0.abl1</th>\n",
       "      <th>olink_instance_0.abo</th>\n",
       "      <th>olink_instance_0.abraxas2</th>\n",
       "      <th>olink_instance_0.acaa1</th>\n",
       "      <th>...</th>\n",
       "      <th>olink_instance_0.zfyve19</th>\n",
       "      <th>olink_instance_0.zhx2</th>\n",
       "      <th>olink_instance_0.znf174</th>\n",
       "      <th>olink_instance_0.znf75d</th>\n",
       "      <th>olink_instance_0.znf830</th>\n",
       "      <th>olink_instance_0.znrd2</th>\n",
       "      <th>olink_instance_0.znrf4</th>\n",
       "      <th>olink_instance_0.zp3</th>\n",
       "      <th>olink_instance_0.zp4</th>\n",
       "      <th>olink_instance_0.zpr1</th>\n",
       "    </tr>\n",
       "  </thead>\n",
       "  <tbody>\n",
       "    <tr>\n",
       "      <th>0</th>\n",
       "      <td>1002133</td>\n",
       "      <td>0.0957</td>\n",
       "      <td>0.59795</td>\n",
       "      <td>1.33215</td>\n",
       "      <td>-0.6441</td>\n",
       "      <td>0.76325</td>\n",
       "      <td>0.3784</td>\n",
       "      <td>0.5446</td>\n",
       "      <td>0.4682</td>\n",
       "      <td>0.21920</td>\n",
       "      <td>...</td>\n",
       "      <td>-0.2728</td>\n",
       "      <td>0.1954</td>\n",
       "      <td>-0.2586</td>\n",
       "      <td>-0.0127</td>\n",
       "      <td>0.0235</td>\n",
       "      <td>-0.26245</td>\n",
       "      <td>-0.1236</td>\n",
       "      <td>-6.0773</td>\n",
       "      <td>-0.0136</td>\n",
       "      <td>0.4131</td>\n",
       "    </tr>\n",
       "    <tr>\n",
       "      <th>1</th>\n",
       "      <td>1002201</td>\n",
       "      <td>-0.0473</td>\n",
       "      <td>0.39585</td>\n",
       "      <td>0.26585</td>\n",
       "      <td>0.0604</td>\n",
       "      <td>1.07765</td>\n",
       "      <td>1.3977</td>\n",
       "      <td>0.5830</td>\n",
       "      <td>1.0740</td>\n",
       "      <td>0.75625</td>\n",
       "      <td>...</td>\n",
       "      <td>0.9153</td>\n",
       "      <td>-0.0274</td>\n",
       "      <td>-0.3048</td>\n",
       "      <td>-0.8814</td>\n",
       "      <td>-0.5342</td>\n",
       "      <td>1.12255</td>\n",
       "      <td>-0.5537</td>\n",
       "      <td>-5.1443</td>\n",
       "      <td>-0.1713</td>\n",
       "      <td>-0.5605</td>\n",
       "    </tr>\n",
       "  </tbody>\n",
       "</table>\n",
       "<p>2 rows × 2924 columns</p>\n",
       "</div>"
      ],
      "text/plain": [
       "   olink_instance_0.eid  olink_instance_0.a1bg  olink_instance_0.aamdc  \\\n",
       "0               1002133                 0.0957                 0.59795   \n",
       "1               1002201                -0.0473                 0.39585   \n",
       "\n",
       "   olink_instance_0.aarsd1  olink_instance_0.abca2  olink_instance_0.abhd14b  \\\n",
       "0                  1.33215                 -0.6441                   0.76325   \n",
       "1                  0.26585                  0.0604                   1.07765   \n",
       "\n",
       "   olink_instance_0.abl1  olink_instance_0.abo  olink_instance_0.abraxas2  \\\n",
       "0                 0.3784                0.5446                     0.4682   \n",
       "1                 1.3977                0.5830                     1.0740   \n",
       "\n",
       "   olink_instance_0.acaa1  ...  olink_instance_0.zfyve19  \\\n",
       "0                 0.21920  ...                   -0.2728   \n",
       "1                 0.75625  ...                    0.9153   \n",
       "\n",
       "   olink_instance_0.zhx2  olink_instance_0.znf174  olink_instance_0.znf75d  \\\n",
       "0                 0.1954                  -0.2586                  -0.0127   \n",
       "1                -0.0274                  -0.3048                  -0.8814   \n",
       "\n",
       "   olink_instance_0.znf830  olink_instance_0.znrd2  olink_instance_0.znrf4  \\\n",
       "0                   0.0235                -0.26245                 -0.1236   \n",
       "1                  -0.5342                 1.12255                 -0.5537   \n",
       "\n",
       "   olink_instance_0.zp3  olink_instance_0.zp4  olink_instance_0.zpr1  \n",
       "0               -6.0773               -0.0136                 0.4131  \n",
       "1               -5.1443               -0.1713                -0.5605  \n",
       "\n",
       "[2 rows x 2924 columns]"
      ]
     },
     "execution_count": 8,
     "metadata": {},
     "output_type": "execute_result"
    }
   ],
   "source": [
    "Olink_df.head(2)"
   ]
  },
  {
   "cell_type": "code",
   "execution_count": 9,
   "id": "bbb0fc7f-c48d-485e-8f3f-89ccc9581755",
   "metadata": {},
   "outputs": [],
   "source": [
    "Olink_df = Olink_df.rename(columns={'olink_instance_0.eid': 'eid'})"
   ]
  },
  {
   "cell_type": "code",
   "execution_count": 10,
   "id": "d5c10151-694f-4d8c-a931-2816d5679e80",
   "metadata": {},
   "outputs": [
    {
     "data": {
      "text/html": [
       "<div>\n",
       "<style scoped>\n",
       "    .dataframe tbody tr th:only-of-type {\n",
       "        vertical-align: middle;\n",
       "    }\n",
       "\n",
       "    .dataframe tbody tr th {\n",
       "        vertical-align: top;\n",
       "    }\n",
       "\n",
       "    .dataframe thead th {\n",
       "        text-align: right;\n",
       "    }\n",
       "</style>\n",
       "<table border=\"1\" class=\"dataframe\">\n",
       "  <thead>\n",
       "    <tr style=\"text-align: right;\">\n",
       "      <th></th>\n",
       "      <th>eid</th>\n",
       "      <th>olink_instance_0.a1bg</th>\n",
       "      <th>olink_instance_0.aamdc</th>\n",
       "      <th>olink_instance_0.aarsd1</th>\n",
       "      <th>olink_instance_0.abca2</th>\n",
       "      <th>olink_instance_0.abhd14b</th>\n",
       "      <th>olink_instance_0.abl1</th>\n",
       "      <th>olink_instance_0.abo</th>\n",
       "      <th>olink_instance_0.abraxas2</th>\n",
       "      <th>olink_instance_0.acaa1</th>\n",
       "      <th>...</th>\n",
       "      <th>olink_instance_0.zfyve19</th>\n",
       "      <th>olink_instance_0.zhx2</th>\n",
       "      <th>olink_instance_0.znf174</th>\n",
       "      <th>olink_instance_0.znf75d</th>\n",
       "      <th>olink_instance_0.znf830</th>\n",
       "      <th>olink_instance_0.znrd2</th>\n",
       "      <th>olink_instance_0.znrf4</th>\n",
       "      <th>olink_instance_0.zp3</th>\n",
       "      <th>olink_instance_0.zp4</th>\n",
       "      <th>olink_instance_0.zpr1</th>\n",
       "    </tr>\n",
       "  </thead>\n",
       "  <tbody>\n",
       "    <tr>\n",
       "      <th>0</th>\n",
       "      <td>1002133</td>\n",
       "      <td>0.0957</td>\n",
       "      <td>0.59795</td>\n",
       "      <td>1.33215</td>\n",
       "      <td>-0.6441</td>\n",
       "      <td>0.76325</td>\n",
       "      <td>0.3784</td>\n",
       "      <td>0.5446</td>\n",
       "      <td>0.4682</td>\n",
       "      <td>0.21920</td>\n",
       "      <td>...</td>\n",
       "      <td>-0.2728</td>\n",
       "      <td>0.1954</td>\n",
       "      <td>-0.2586</td>\n",
       "      <td>-0.0127</td>\n",
       "      <td>0.0235</td>\n",
       "      <td>-0.26245</td>\n",
       "      <td>-0.1236</td>\n",
       "      <td>-6.0773</td>\n",
       "      <td>-0.0136</td>\n",
       "      <td>0.4131</td>\n",
       "    </tr>\n",
       "    <tr>\n",
       "      <th>1</th>\n",
       "      <td>1002201</td>\n",
       "      <td>-0.0473</td>\n",
       "      <td>0.39585</td>\n",
       "      <td>0.26585</td>\n",
       "      <td>0.0604</td>\n",
       "      <td>1.07765</td>\n",
       "      <td>1.3977</td>\n",
       "      <td>0.5830</td>\n",
       "      <td>1.0740</td>\n",
       "      <td>0.75625</td>\n",
       "      <td>...</td>\n",
       "      <td>0.9153</td>\n",
       "      <td>-0.0274</td>\n",
       "      <td>-0.3048</td>\n",
       "      <td>-0.8814</td>\n",
       "      <td>-0.5342</td>\n",
       "      <td>1.12255</td>\n",
       "      <td>-0.5537</td>\n",
       "      <td>-5.1443</td>\n",
       "      <td>-0.1713</td>\n",
       "      <td>-0.5605</td>\n",
       "    </tr>\n",
       "  </tbody>\n",
       "</table>\n",
       "<p>2 rows × 2924 columns</p>\n",
       "</div>"
      ],
      "text/plain": [
       "       eid  olink_instance_0.a1bg  olink_instance_0.aamdc  \\\n",
       "0  1002133                 0.0957                 0.59795   \n",
       "1  1002201                -0.0473                 0.39585   \n",
       "\n",
       "   olink_instance_0.aarsd1  olink_instance_0.abca2  olink_instance_0.abhd14b  \\\n",
       "0                  1.33215                 -0.6441                   0.76325   \n",
       "1                  0.26585                  0.0604                   1.07765   \n",
       "\n",
       "   olink_instance_0.abl1  olink_instance_0.abo  olink_instance_0.abraxas2  \\\n",
       "0                 0.3784                0.5446                     0.4682   \n",
       "1                 1.3977                0.5830                     1.0740   \n",
       "\n",
       "   olink_instance_0.acaa1  ...  olink_instance_0.zfyve19  \\\n",
       "0                 0.21920  ...                   -0.2728   \n",
       "1                 0.75625  ...                    0.9153   \n",
       "\n",
       "   olink_instance_0.zhx2  olink_instance_0.znf174  olink_instance_0.znf75d  \\\n",
       "0                 0.1954                  -0.2586                  -0.0127   \n",
       "1                -0.0274                  -0.3048                  -0.8814   \n",
       "\n",
       "   olink_instance_0.znf830  olink_instance_0.znrd2  olink_instance_0.znrf4  \\\n",
       "0                   0.0235                -0.26245                 -0.1236   \n",
       "1                  -0.5342                 1.12255                 -0.5537   \n",
       "\n",
       "   olink_instance_0.zp3  olink_instance_0.zp4  olink_instance_0.zpr1  \n",
       "0               -6.0773               -0.0136                 0.4131  \n",
       "1               -5.1443               -0.1713                -0.5605  \n",
       "\n",
       "[2 rows x 2924 columns]"
      ]
     },
     "execution_count": 10,
     "metadata": {},
     "output_type": "execute_result"
    }
   ],
   "source": [
    "Olink_df.head(2)"
   ]
  },
  {
   "cell_type": "code",
   "execution_count": 11,
   "id": "ff3d14ad-6ecf-42a2-b77f-aa71514ec5ba",
   "metadata": {},
   "outputs": [
    {
     "data": {
      "text/plain": [
       "(53013, 2924)"
      ]
     },
     "execution_count": 11,
     "metadata": {},
     "output_type": "execute_result"
    }
   ],
   "source": [
    "Olink_df.shape"
   ]
  },
  {
   "cell_type": "code",
   "execution_count": 12,
   "id": "3e160da0-7288-425a-b2fd-fc7c146c4059",
   "metadata": {},
   "outputs": [
    {
     "name": "stdout",
     "output_type": "stream",
     "text": [
      "               eid           protein_name  protein_expression\n",
      "0          1002133  olink_instance_0.a1bg              0.0957\n",
      "1          1002201  olink_instance_0.a1bg             -0.0473\n",
      "2          1002534  olink_instance_0.a1bg             -0.2239\n",
      "3          1003548  olink_instance_0.a1bg              0.0255\n",
      "4          1003599  olink_instance_0.a1bg              0.2003\n",
      "...            ...                    ...                 ...\n",
      "154956994  6021692  olink_instance_0.zpr1              1.2116\n",
      "154956995  6021914  olink_instance_0.zpr1             -0.0460\n",
      "154956996  6022081  olink_instance_0.zpr1             -0.6499\n",
      "154956997  6022213  olink_instance_0.zpr1             -0.1758\n",
      "154956998  6022247  olink_instance_0.zpr1              1.4512\n",
      "\n",
      "[154956999 rows x 3 columns]\n"
     ]
    }
   ],
   "source": [
    "# 将数据框从宽格式转换为长格式\n",
    "Olink_long_df = pd.melt(Olink_df, id_vars=['eid'], var_name='protein_name', value_name='protein_expression')\n",
    "\n",
    "print(Olink_long_df)  "
   ]
  },
  {
   "cell_type": "code",
   "execution_count": 13,
   "id": "b37da54c-5dae-4537-bdf0-9f82e421d765",
   "metadata": {},
   "outputs": [
    {
     "data": {
      "text/plain": [
       "154956999"
      ]
     },
     "execution_count": 13,
     "metadata": {},
     "output_type": "execute_result"
    }
   ],
   "source": [
    "53013 * 2923"
   ]
  },
  {
   "cell_type": "code",
   "execution_count": 14,
   "id": "b9fd5692-79bd-412f-843b-975ab4ac69f8",
   "metadata": {},
   "outputs": [],
   "source": [
    "Olink_long_df = Olink_long_df.dropna(subset=['protein_expression'])"
   ]
  },
  {
   "cell_type": "code",
   "execution_count": 15,
   "id": "b96c4f4f-7ad9-4700-a146-df5dc8d9ec31",
   "metadata": {},
   "outputs": [
    {
     "data": {
      "text/plain": [
       "(138994642, 3)"
      ]
     },
     "execution_count": 15,
     "metadata": {},
     "output_type": "execute_result"
    }
   ],
   "source": [
    "Olink_long_df.shape"
   ]
  },
  {
   "cell_type": "code",
   "execution_count": 16,
   "id": "0e8a505f-8417-4ca4-8bbe-465dd58ab6bc",
   "metadata": {},
   "outputs": [],
   "source": [
    "NMR_df = pd.read_csv(\"/home/llma/wzy/comorbidity/Data/NMR.csv\")"
   ]
  },
  {
   "cell_type": "code",
   "execution_count": 17,
   "id": "3947d2e8-e85f-462b-82fd-c81f0598bbfc",
   "metadata": {},
   "outputs": [
    {
     "data": {
      "text/html": [
       "<div>\n",
       "<style scoped>\n",
       "    .dataframe tbody tr th:only-of-type {\n",
       "        vertical-align: middle;\n",
       "    }\n",
       "\n",
       "    .dataframe tbody tr th {\n",
       "        vertical-align: top;\n",
       "    }\n",
       "\n",
       "    .dataframe thead th {\n",
       "        text-align: right;\n",
       "    }\n",
       "</style>\n",
       "<table border=\"1\" class=\"dataframe\">\n",
       "  <thead>\n",
       "    <tr style=\"text-align: right;\">\n",
       "      <th></th>\n",
       "      <th>participant.eid</th>\n",
       "      <th>participant.p20280_i0</th>\n",
       "      <th>participant.p20281_i0</th>\n",
       "      <th>participant.p23400_i0</th>\n",
       "      <th>participant.p23401_i0</th>\n",
       "      <th>participant.p23402_i0</th>\n",
       "      <th>participant.p23403_i0</th>\n",
       "      <th>participant.p23404_i0</th>\n",
       "      <th>participant.p23405_i0</th>\n",
       "      <th>participant.p23406_i0</th>\n",
       "      <th>...</th>\n",
       "      <th>participant.p23639_i0</th>\n",
       "      <th>participant.p23640_i0</th>\n",
       "      <th>participant.p23641_i0</th>\n",
       "      <th>participant.p23642_i0</th>\n",
       "      <th>participant.p23643_i0</th>\n",
       "      <th>participant.p23644_i0</th>\n",
       "      <th>participant.p23645_i0</th>\n",
       "      <th>participant.p23646_i0</th>\n",
       "      <th>participant.p23647_i0</th>\n",
       "      <th>participant.p23648_i0</th>\n",
       "    </tr>\n",
       "  </thead>\n",
       "  <tbody>\n",
       "    <tr>\n",
       "      <th>0</th>\n",
       "      <td>1000053</td>\n",
       "      <td>2.9721</td>\n",
       "      <td>0.282259</td>\n",
       "      <td>3.8459</td>\n",
       "      <td>2.9413</td>\n",
       "      <td>1.5075</td>\n",
       "      <td>0.83349</td>\n",
       "      <td>1.9998</td>\n",
       "      <td>1.4338</td>\n",
       "      <td>0.90459</td>\n",
       "      <td>...</td>\n",
       "      <td>49.941</td>\n",
       "      <td>40.646</td>\n",
       "      <td>33.031</td>\n",
       "      <td>7.6145</td>\n",
       "      <td>9.413</td>\n",
       "      <td>58.373</td>\n",
       "      <td>34.427</td>\n",
       "      <td>24.479</td>\n",
       "      <td>9.9478</td>\n",
       "      <td>7.2007</td>\n",
       "    </tr>\n",
       "    <tr>\n",
       "      <th>1</th>\n",
       "      <td>1000122</td>\n",
       "      <td>NaN</td>\n",
       "      <td>NaN</td>\n",
       "      <td>NaN</td>\n",
       "      <td>NaN</td>\n",
       "      <td>NaN</td>\n",
       "      <td>NaN</td>\n",
       "      <td>NaN</td>\n",
       "      <td>NaN</td>\n",
       "      <td>NaN</td>\n",
       "      <td>...</td>\n",
       "      <td>NaN</td>\n",
       "      <td>NaN</td>\n",
       "      <td>NaN</td>\n",
       "      <td>NaN</td>\n",
       "      <td>NaN</td>\n",
       "      <td>NaN</td>\n",
       "      <td>NaN</td>\n",
       "      <td>NaN</td>\n",
       "      <td>NaN</td>\n",
       "      <td>NaN</td>\n",
       "    </tr>\n",
       "  </tbody>\n",
       "</table>\n",
       "<p>2 rows × 252 columns</p>\n",
       "</div>"
      ],
      "text/plain": [
       "   participant.eid  participant.p20280_i0  participant.p20281_i0  \\\n",
       "0          1000053                 2.9721               0.282259   \n",
       "1          1000122                    NaN                    NaN   \n",
       "\n",
       "   participant.p23400_i0  participant.p23401_i0  participant.p23402_i0  \\\n",
       "0                 3.8459                 2.9413                 1.5075   \n",
       "1                    NaN                    NaN                    NaN   \n",
       "\n",
       "   participant.p23403_i0  participant.p23404_i0  participant.p23405_i0  \\\n",
       "0                0.83349                 1.9998                 1.4338   \n",
       "1                    NaN                    NaN                    NaN   \n",
       "\n",
       "   participant.p23406_i0  ...  participant.p23639_i0  participant.p23640_i0  \\\n",
       "0                0.90459  ...                 49.941                 40.646   \n",
       "1                    NaN  ...                    NaN                    NaN   \n",
       "\n",
       "   participant.p23641_i0  participant.p23642_i0  participant.p23643_i0  \\\n",
       "0                 33.031                 7.6145                  9.413   \n",
       "1                    NaN                    NaN                    NaN   \n",
       "\n",
       "   participant.p23644_i0  participant.p23645_i0  participant.p23646_i0  \\\n",
       "0                 58.373                 34.427                 24.479   \n",
       "1                    NaN                    NaN                    NaN   \n",
       "\n",
       "   participant.p23647_i0  participant.p23648_i0  \n",
       "0                 9.9478                 7.2007  \n",
       "1                    NaN                    NaN  \n",
       "\n",
       "[2 rows x 252 columns]"
      ]
     },
     "execution_count": 17,
     "metadata": {},
     "output_type": "execute_result"
    }
   ],
   "source": [
    "NMR_df.head(2)"
   ]
  },
  {
   "cell_type": "code",
   "execution_count": 18,
   "id": "f40224ef-b761-4f72-9c2d-999925a82d6d",
   "metadata": {},
   "outputs": [],
   "source": [
    "NMR_df = NMR_df.rename(columns={'participant.eid': 'eid'})"
   ]
  },
  {
   "cell_type": "code",
   "execution_count": 19,
   "id": "bad16193-1b0a-42e5-9833-05fd981a50d8",
   "metadata": {},
   "outputs": [
    {
     "data": {
      "text/html": [
       "<div>\n",
       "<style scoped>\n",
       "    .dataframe tbody tr th:only-of-type {\n",
       "        vertical-align: middle;\n",
       "    }\n",
       "\n",
       "    .dataframe tbody tr th {\n",
       "        vertical-align: top;\n",
       "    }\n",
       "\n",
       "    .dataframe thead th {\n",
       "        text-align: right;\n",
       "    }\n",
       "</style>\n",
       "<table border=\"1\" class=\"dataframe\">\n",
       "  <thead>\n",
       "    <tr style=\"text-align: right;\">\n",
       "      <th></th>\n",
       "      <th>eid</th>\n",
       "      <th>participant.p20280_i0</th>\n",
       "      <th>participant.p20281_i0</th>\n",
       "      <th>participant.p23400_i0</th>\n",
       "      <th>participant.p23401_i0</th>\n",
       "      <th>participant.p23402_i0</th>\n",
       "      <th>participant.p23403_i0</th>\n",
       "      <th>participant.p23404_i0</th>\n",
       "      <th>participant.p23405_i0</th>\n",
       "      <th>participant.p23406_i0</th>\n",
       "      <th>...</th>\n",
       "      <th>participant.p23639_i0</th>\n",
       "      <th>participant.p23640_i0</th>\n",
       "      <th>participant.p23641_i0</th>\n",
       "      <th>participant.p23642_i0</th>\n",
       "      <th>participant.p23643_i0</th>\n",
       "      <th>participant.p23644_i0</th>\n",
       "      <th>participant.p23645_i0</th>\n",
       "      <th>participant.p23646_i0</th>\n",
       "      <th>participant.p23647_i0</th>\n",
       "      <th>participant.p23648_i0</th>\n",
       "    </tr>\n",
       "  </thead>\n",
       "  <tbody>\n",
       "    <tr>\n",
       "      <th>0</th>\n",
       "      <td>1000053</td>\n",
       "      <td>2.9721</td>\n",
       "      <td>0.282259</td>\n",
       "      <td>3.8459</td>\n",
       "      <td>2.9413</td>\n",
       "      <td>1.5075</td>\n",
       "      <td>0.83349</td>\n",
       "      <td>1.9998</td>\n",
       "      <td>1.4338</td>\n",
       "      <td>0.90459</td>\n",
       "      <td>...</td>\n",
       "      <td>49.941</td>\n",
       "      <td>40.646</td>\n",
       "      <td>33.031</td>\n",
       "      <td>7.6145</td>\n",
       "      <td>9.413</td>\n",
       "      <td>58.373</td>\n",
       "      <td>34.427</td>\n",
       "      <td>24.479</td>\n",
       "      <td>9.9478</td>\n",
       "      <td>7.2007</td>\n",
       "    </tr>\n",
       "    <tr>\n",
       "      <th>1</th>\n",
       "      <td>1000122</td>\n",
       "      <td>NaN</td>\n",
       "      <td>NaN</td>\n",
       "      <td>NaN</td>\n",
       "      <td>NaN</td>\n",
       "      <td>NaN</td>\n",
       "      <td>NaN</td>\n",
       "      <td>NaN</td>\n",
       "      <td>NaN</td>\n",
       "      <td>NaN</td>\n",
       "      <td>...</td>\n",
       "      <td>NaN</td>\n",
       "      <td>NaN</td>\n",
       "      <td>NaN</td>\n",
       "      <td>NaN</td>\n",
       "      <td>NaN</td>\n",
       "      <td>NaN</td>\n",
       "      <td>NaN</td>\n",
       "      <td>NaN</td>\n",
       "      <td>NaN</td>\n",
       "      <td>NaN</td>\n",
       "    </tr>\n",
       "  </tbody>\n",
       "</table>\n",
       "<p>2 rows × 252 columns</p>\n",
       "</div>"
      ],
      "text/plain": [
       "       eid  participant.p20280_i0  participant.p20281_i0  \\\n",
       "0  1000053                 2.9721               0.282259   \n",
       "1  1000122                    NaN                    NaN   \n",
       "\n",
       "   participant.p23400_i0  participant.p23401_i0  participant.p23402_i0  \\\n",
       "0                 3.8459                 2.9413                 1.5075   \n",
       "1                    NaN                    NaN                    NaN   \n",
       "\n",
       "   participant.p23403_i0  participant.p23404_i0  participant.p23405_i0  \\\n",
       "0                0.83349                 1.9998                 1.4338   \n",
       "1                    NaN                    NaN                    NaN   \n",
       "\n",
       "   participant.p23406_i0  ...  participant.p23639_i0  participant.p23640_i0  \\\n",
       "0                0.90459  ...                 49.941                 40.646   \n",
       "1                    NaN  ...                    NaN                    NaN   \n",
       "\n",
       "   participant.p23641_i0  participant.p23642_i0  participant.p23643_i0  \\\n",
       "0                 33.031                 7.6145                  9.413   \n",
       "1                    NaN                    NaN                    NaN   \n",
       "\n",
       "   participant.p23644_i0  participant.p23645_i0  participant.p23646_i0  \\\n",
       "0                 58.373                 34.427                 24.479   \n",
       "1                    NaN                    NaN                    NaN   \n",
       "\n",
       "   participant.p23647_i0  participant.p23648_i0  \n",
       "0                 9.9478                 7.2007  \n",
       "1                    NaN                    NaN  \n",
       "\n",
       "[2 rows x 252 columns]"
      ]
     },
     "execution_count": 19,
     "metadata": {},
     "output_type": "execute_result"
    }
   ],
   "source": [
    "NMR_df.head(2)"
   ]
  },
  {
   "cell_type": "code",
   "execution_count": 20,
   "id": "289723d3-490b-408c-8ca6-521278a2d353",
   "metadata": {},
   "outputs": [
    {
     "name": "stdout",
     "output_type": "stream",
     "text": [
      "               eid               NMR_name  NMR_expression\n",
      "0          1000053  participant.p20280_i0         2.97210\n",
      "1          1000122  participant.p20280_i0             NaN\n",
      "2          1000148  participant.p20280_i0         5.79763\n",
      "3          1000150  participant.p20280_i0         5.32703\n",
      "4          1000163  participant.p20280_i0             NaN\n",
      "...            ...                    ...             ...\n",
      "126034876  6022213  participant.p23648_i0             NaN\n",
      "126034877  6022230  participant.p23648_i0             NaN\n",
      "126034878  6022247  participant.p23648_i0             NaN\n",
      "126034879  6022252  participant.p23648_i0         5.26830\n",
      "126034880  6022444  participant.p23648_i0             NaN\n",
      "\n",
      "[126034881 rows x 3 columns]\n"
     ]
    }
   ],
   "source": [
    "# 将数据框从宽格式转换为长格式\n",
    "NMR_long_df = pd.melt(NMR_df, id_vars=['eid'], var_name='NMR_name', value_name='NMR_expression')\n",
    "\n",
    "print(NMR_long_df)  "
   ]
  },
  {
   "cell_type": "code",
   "execution_count": 21,
   "id": "6702d38d-e18a-440d-83f6-25e8cf6ae021",
   "metadata": {},
   "outputs": [
    {
     "data": {
      "text/plain": [
       "(502131, 252)"
      ]
     },
     "execution_count": 21,
     "metadata": {},
     "output_type": "execute_result"
    }
   ],
   "source": [
    "NMR_df.shape"
   ]
  },
  {
   "cell_type": "code",
   "execution_count": 22,
   "id": "a0afc86a-9dd2-4bd2-af40-972051a769ed",
   "metadata": {},
   "outputs": [
    {
     "data": {
      "text/plain": [
       "126034881"
      ]
     },
     "execution_count": 22,
     "metadata": {},
     "output_type": "execute_result"
    }
   ],
   "source": [
    "502131 * 251"
   ]
  },
  {
   "cell_type": "code",
   "execution_count": 23,
   "id": "e9e18a2b-ce46-448d-a555-a0dfaaabeb7b",
   "metadata": {},
   "outputs": [
    {
     "name": "stdout",
     "output_type": "stream",
     "text": [
      "               eid               NMR_name  NMR_expression\n",
      "0          1000053  participant.p20280_i0         2.97210\n",
      "2          1000148  participant.p20280_i0         5.79763\n",
      "3          1000150  participant.p20280_i0         5.32703\n",
      "5          1000199  participant.p20280_i0         5.73236\n",
      "8          1000428  participant.p20280_i0         5.26226\n",
      "...            ...                    ...             ...\n",
      "126034871  6022081  participant.p23648_i0         5.61880\n",
      "126034872  6022102  participant.p23648_i0         5.26160\n",
      "126034874  6022141  participant.p23648_i0         4.78620\n",
      "126034875  6022197  participant.p23648_i0         3.85360\n",
      "126034879  6022252  participant.p23648_i0         5.26830\n",
      "\n",
      "[68736894 rows x 3 columns]\n"
     ]
    }
   ],
   "source": [
    "# 移除 NMR_expression 列中值为 NaN 的行\n",
    "NMR_long_df = NMR_long_df.dropna(subset=['NMR_expression'])\n",
    "\n",
    "print(NMR_long_df) "
   ]
  },
  {
   "cell_type": "code",
   "execution_count": 24,
   "id": "8f22752e-3202-4bc4-86e2-f53551dbf2b5",
   "metadata": {},
   "outputs": [],
   "source": [
    "# 筛选出 clinical_df 中 eid 也存在于 Olink_df 的 eid 列中的行\n",
    "subset_clinical_df = clinical_df[clinical_df['eid'].isin(Olink_df['eid'])]"
   ]
  },
  {
   "cell_type": "code",
   "execution_count": 25,
   "id": "623a29d6-ff3c-4093-b0d2-51d2083c8656",
   "metadata": {},
   "outputs": [
    {
     "data": {
      "text/plain": [
       "(805376, 5)"
      ]
     },
     "execution_count": 25,
     "metadata": {},
     "output_type": "execute_result"
    }
   ],
   "source": [
    "subset_clinical_df.shape"
   ]
  },
  {
   "cell_type": "code",
   "execution_count": 26,
   "id": "d279ccac-9b6b-4d98-809e-f3f6a349456e",
   "metadata": {},
   "outputs": [],
   "source": [
    "# 筛选出 clinical_df 中 eid 也存在于 Olink_df 的 eid 列中的行\n",
    "subset_clinical_df = subset_clinical_df[subset_clinical_df['eid'].isin(NMR_df['eid'])]"
   ]
  },
  {
   "cell_type": "code",
   "execution_count": 27,
   "id": "e28cad5e-dbb8-4285-b120-78ea483bb3ba",
   "metadata": {},
   "outputs": [
    {
     "data": {
      "text/plain": [
       "(805376, 5)"
      ]
     },
     "execution_count": 27,
     "metadata": {},
     "output_type": "execute_result"
    }
   ],
   "source": [
    "subset_clinical_df.shape"
   ]
  },
  {
   "cell_type": "code",
   "execution_count": 28,
   "id": "78773e5d-e3e6-44f4-a64c-be476f8ce4f5",
   "metadata": {},
   "outputs": [
    {
     "data": {
      "text/html": [
       "<div>\n",
       "<style scoped>\n",
       "    .dataframe tbody tr th:only-of-type {\n",
       "        vertical-align: middle;\n",
       "    }\n",
       "\n",
       "    .dataframe tbody tr th {\n",
       "        vertical-align: top;\n",
       "    }\n",
       "\n",
       "    .dataframe thead th {\n",
       "        text-align: right;\n",
       "    }\n",
       "</style>\n",
       "<table border=\"1\" class=\"dataframe\">\n",
       "  <thead>\n",
       "    <tr style=\"text-align: right;\">\n",
       "      <th></th>\n",
       "      <th>eid</th>\n",
       "      <th>ICD10_codes</th>\n",
       "      <th>Date</th>\n",
       "      <th>p40000_i0</th>\n",
       "      <th>p40023</th>\n",
       "    </tr>\n",
       "  </thead>\n",
       "  <tbody>\n",
       "    <tr>\n",
       "      <th>743</th>\n",
       "      <td>1002133</td>\n",
       "      <td>I802</td>\n",
       "      <td>2003-04-02</td>\n",
       "      <td>NaN</td>\n",
       "      <td>NaN</td>\n",
       "    </tr>\n",
       "    <tr>\n",
       "      <th>744</th>\n",
       "      <td>1002133</td>\n",
       "      <td>M1997</td>\n",
       "      <td>2009-04-17</td>\n",
       "      <td>NaN</td>\n",
       "      <td>NaN</td>\n",
       "    </tr>\n",
       "  </tbody>\n",
       "</table>\n",
       "</div>"
      ],
      "text/plain": [
       "         eid ICD10_codes        Date p40000_i0  p40023\n",
       "743  1002133        I802  2003-04-02       NaN     NaN\n",
       "744  1002133       M1997  2009-04-17       NaN     NaN"
      ]
     },
     "execution_count": 28,
     "metadata": {},
     "output_type": "execute_result"
    }
   ],
   "source": [
    "subset_clinical_df.head(2)"
   ]
  },
  {
   "cell_type": "code",
   "execution_count": 29,
   "id": "2e5b3fdf-9bbf-4cf6-81a4-036df22ca50e",
   "metadata": {},
   "outputs": [
    {
     "data": {
      "text/plain": [
       "47626"
      ]
     },
     "execution_count": 29,
     "metadata": {},
     "output_type": "execute_result"
    }
   ],
   "source": [
    "len(subset_clinical_df['eid'].unique())"
   ]
  },
  {
   "cell_type": "code",
   "execution_count": 30,
   "id": "d26995b4-700f-4a3f-82cf-62471c12a8f3",
   "metadata": {},
   "outputs": [
    {
     "data": {
      "text/plain": [
       "47626"
      ]
     },
     "execution_count": 30,
     "metadata": {},
     "output_type": "execute_result"
    }
   ],
   "source": [
    "Olink_df['eid'].isin(clinical_df['eid']).sum()"
   ]
  },
  {
   "cell_type": "code",
   "execution_count": 31,
   "id": "1d35cf34-6766-424c-bffc-bd24ec8b1be9",
   "metadata": {},
   "outputs": [
    {
     "data": {
      "text/plain": [
       "47626"
      ]
     },
     "execution_count": 31,
     "metadata": {},
     "output_type": "execute_result"
    }
   ],
   "source": [
    "Olink_df['eid'].isin(subset_clinical_df['eid']).sum()"
   ]
  },
  {
   "cell_type": "code",
   "execution_count": 32,
   "id": "71fbdcb2-4318-4e80-8e43-0b2304458300",
   "metadata": {
    "scrolled": true
   },
   "outputs": [],
   "source": [
    "# 保存为以制表符分隔的文本文件\n",
    "file_path = '/home/llma/wzy/comorbidity/Data/subset_ICD10_in_Olink_long.txt'\n",
    "subset_clinical_df.to_csv(file_path, sep='\\t', na_rep='nan', index=False)"
   ]
  },
  {
   "cell_type": "code",
   "execution_count": 33,
   "id": "1026d796-2345-4b9d-9007-e719318271dd",
   "metadata": {},
   "outputs": [
    {
     "data": {
      "text/html": [
       "<div>\n",
       "<style scoped>\n",
       "    .dataframe tbody tr th:only-of-type {\n",
       "        vertical-align: middle;\n",
       "    }\n",
       "\n",
       "    .dataframe tbody tr th {\n",
       "        vertical-align: top;\n",
       "    }\n",
       "\n",
       "    .dataframe thead th {\n",
       "        text-align: right;\n",
       "    }\n",
       "</style>\n",
       "<table border=\"1\" class=\"dataframe\">\n",
       "  <thead>\n",
       "    <tr style=\"text-align: right;\">\n",
       "      <th></th>\n",
       "      <th>eid</th>\n",
       "      <th>ICD10_codes</th>\n",
       "      <th>Date</th>\n",
       "      <th>p40000_i0</th>\n",
       "      <th>p40023</th>\n",
       "    </tr>\n",
       "  </thead>\n",
       "  <tbody>\n",
       "    <tr>\n",
       "      <th>743</th>\n",
       "      <td>1002133</td>\n",
       "      <td>I802</td>\n",
       "      <td>2003-04-02</td>\n",
       "      <td>NaN</td>\n",
       "      <td>NaN</td>\n",
       "    </tr>\n",
       "    <tr>\n",
       "      <th>744</th>\n",
       "      <td>1002133</td>\n",
       "      <td>M1997</td>\n",
       "      <td>2009-04-17</td>\n",
       "      <td>NaN</td>\n",
       "      <td>NaN</td>\n",
       "    </tr>\n",
       "  </tbody>\n",
       "</table>\n",
       "</div>"
      ],
      "text/plain": [
       "         eid ICD10_codes        Date p40000_i0  p40023\n",
       "743  1002133        I802  2003-04-02       NaN     NaN\n",
       "744  1002133       M1997  2009-04-17       NaN     NaN"
      ]
     },
     "execution_count": 33,
     "metadata": {},
     "output_type": "execute_result"
    }
   ],
   "source": [
    "subset_clinical_df.head(2)"
   ]
  },
  {
   "cell_type": "code",
   "execution_count": 34,
   "id": "cbee59b0-b75e-4359-8a2b-bc447d1773f3",
   "metadata": {},
   "outputs": [],
   "source": [
    "subset_clinical_df = subset_clinical_df.drop(columns=['Date', 'p40000_i0', 'p40023'])"
   ]
  },
  {
   "cell_type": "code",
   "execution_count": 35,
   "id": "d1ea5d7a-896f-404c-9dc7-1dfd3f265d80",
   "metadata": {},
   "outputs": [],
   "source": [
    "subset_clinical_df['relationship'] = 1"
   ]
  },
  {
   "cell_type": "code",
   "execution_count": 36,
   "id": "fda5121f-c3a0-4be4-a87d-c5860241c1ed",
   "metadata": {},
   "outputs": [
    {
     "data": {
      "text/html": [
       "<div>\n",
       "<style scoped>\n",
       "    .dataframe tbody tr th:only-of-type {\n",
       "        vertical-align: middle;\n",
       "    }\n",
       "\n",
       "    .dataframe tbody tr th {\n",
       "        vertical-align: top;\n",
       "    }\n",
       "\n",
       "    .dataframe thead th {\n",
       "        text-align: right;\n",
       "    }\n",
       "</style>\n",
       "<table border=\"1\" class=\"dataframe\">\n",
       "  <thead>\n",
       "    <tr style=\"text-align: right;\">\n",
       "      <th></th>\n",
       "      <th>eid</th>\n",
       "      <th>ICD10_codes</th>\n",
       "      <th>relationship</th>\n",
       "    </tr>\n",
       "  </thead>\n",
       "  <tbody>\n",
       "    <tr>\n",
       "      <th>743</th>\n",
       "      <td>1002133</td>\n",
       "      <td>I802</td>\n",
       "      <td>1</td>\n",
       "    </tr>\n",
       "    <tr>\n",
       "      <th>744</th>\n",
       "      <td>1002133</td>\n",
       "      <td>M1997</td>\n",
       "      <td>1</td>\n",
       "    </tr>\n",
       "  </tbody>\n",
       "</table>\n",
       "</div>"
      ],
      "text/plain": [
       "         eid ICD10_codes  relationship\n",
       "743  1002133        I802             1\n",
       "744  1002133       M1997             1"
      ]
     },
     "execution_count": 36,
     "metadata": {},
     "output_type": "execute_result"
    }
   ],
   "source": [
    "subset_clinical_df.head(2)"
   ]
  },
  {
   "cell_type": "code",
   "execution_count": 37,
   "id": "10b3fdb4-785b-4329-aae5-e3abfe37960f",
   "metadata": {},
   "outputs": [],
   "source": [
    "subset_Olink_long_df = Olink_long_df[Olink_long_df['eid'].isin(subset_clinical_df['eid'])]"
   ]
  },
  {
   "cell_type": "code",
   "execution_count": 38,
   "id": "2ef937d1-3a3b-4945-b2d6-95cece1ab14a",
   "metadata": {},
   "outputs": [
    {
     "data": {
      "text/html": [
       "<div>\n",
       "<style scoped>\n",
       "    .dataframe tbody tr th:only-of-type {\n",
       "        vertical-align: middle;\n",
       "    }\n",
       "\n",
       "    .dataframe tbody tr th {\n",
       "        vertical-align: top;\n",
       "    }\n",
       "\n",
       "    .dataframe thead th {\n",
       "        text-align: right;\n",
       "    }\n",
       "</style>\n",
       "<table border=\"1\" class=\"dataframe\">\n",
       "  <thead>\n",
       "    <tr style=\"text-align: right;\">\n",
       "      <th></th>\n",
       "      <th>eid</th>\n",
       "      <th>protein_name</th>\n",
       "      <th>protein_expression</th>\n",
       "    </tr>\n",
       "  </thead>\n",
       "  <tbody>\n",
       "    <tr>\n",
       "      <th>0</th>\n",
       "      <td>1002133</td>\n",
       "      <td>olink_instance_0.a1bg</td>\n",
       "      <td>0.0957</td>\n",
       "    </tr>\n",
       "    <tr>\n",
       "      <th>1</th>\n",
       "      <td>1002201</td>\n",
       "      <td>olink_instance_0.a1bg</td>\n",
       "      <td>-0.0473</td>\n",
       "    </tr>\n",
       "  </tbody>\n",
       "</table>\n",
       "</div>"
      ],
      "text/plain": [
       "       eid           protein_name  protein_expression\n",
       "0  1002133  olink_instance_0.a1bg              0.0957\n",
       "1  1002201  olink_instance_0.a1bg             -0.0473"
      ]
     },
     "execution_count": 38,
     "metadata": {},
     "output_type": "execute_result"
    }
   ],
   "source": [
    "subset_Olink_long_df.head(2)"
   ]
  },
  {
   "cell_type": "code",
   "execution_count": 39,
   "id": "2cce0aec-2c29-4ddc-9ac1-d491d6f847f4",
   "metadata": {},
   "outputs": [
    {
     "data": {
      "text/plain": [
       "(124814467, 3)"
      ]
     },
     "execution_count": 39,
     "metadata": {},
     "output_type": "execute_result"
    }
   ],
   "source": [
    "subset_Olink_long_df.shape"
   ]
  },
  {
   "cell_type": "code",
   "execution_count": 40,
   "id": "bf7ea66b-2b6d-44a2-a83d-8a521d3261fc",
   "metadata": {},
   "outputs": [
    {
     "name": "stdout",
     "output_type": "stream",
     "text": [
      "记录数量少于 200 的 eid: [1949202, 2292307, 3139172, 3783685, 4156288]\n"
     ]
    }
   ],
   "source": [
    "# 按 eid 分组并统计每组的记录数量\n",
    "eid_counts = subset_Olink_long_df.groupby('eid').size()\n",
    "\n",
    "# 找出记录数量少于 200 的 eid\n",
    "eid_less_than_200 = eid_counts[eid_counts < 200].index.tolist()\n",
    "\n",
    "print(\"记录数量少于 200 的 eid:\", eid_less_than_200)"
   ]
  },
  {
   "cell_type": "code",
   "execution_count": 41,
   "id": "3d49a606-580e-48d0-9353-9d4c8bc0ac86",
   "metadata": {},
   "outputs": [
    {
     "name": "stdout",
     "output_type": "stream",
     "text": [
      "               eid             protein_name  protein_expression\n",
      "19805682   1000021   olink_instance_0.ccar2             9.35690\n",
      "103884300  1000021    olink_instance_0.paep             4.74010\n",
      "121378590  1000021    olink_instance_0.rln2             4.67330\n",
      "88775595   1000021  olink_instance_0.mapre3             4.55670\n",
      "54476184   1000021    olink_instance_0.fdx2             3.96610\n",
      "...            ...                      ...                 ...\n",
      "123159717  6022412   olink_instance_0.rtn4r             0.70720\n",
      "805713     6022412  olink_instance_0.acot13             0.70610\n",
      "134663538  6022412  olink_instance_0.spink6             0.70325\n",
      "44488425   6022412   olink_instance_0.dnpep             0.70310\n",
      "147068580  6022412    olink_instance_0.treh             0.70270\n",
      "\n",
      "[9524997 rows x 3 columns]\n"
     ]
    }
   ],
   "source": [
    "# 按 eid 分组，对每个分组内按 protein_expression 降序排序\n",
    "sorted_Olink_df = subset_Olink_long_df.sort_values(['eid', 'protein_expression'], ascending=[True, False])\n",
    "\n",
    "# 对每个分组保留前 200 行\n",
    "result_Olink_df = sorted_Olink_df.groupby('eid').head(200)\n",
    "\n",
    "print(result_Olink_df)"
   ]
  },
  {
   "cell_type": "code",
   "execution_count": 42,
   "id": "d61e89bd-f49b-4a33-a81d-4d202bdfcdc6",
   "metadata": {},
   "outputs": [
    {
     "data": {
      "text/plain": [
       "(9524997, 3)"
      ]
     },
     "execution_count": 42,
     "metadata": {},
     "output_type": "execute_result"
    }
   ],
   "source": [
    "result_Olink_df.shape"
   ]
  },
  {
   "cell_type": "code",
   "execution_count": 43,
   "id": "e0106a56-983a-4f79-a749-c33b003bd949",
   "metadata": {},
   "outputs": [
    {
     "data": {
      "text/plain": [
       "47626"
      ]
     },
     "execution_count": 43,
     "metadata": {},
     "output_type": "execute_result"
    }
   ],
   "source": [
    "len(result_Olink_df['eid'].unique())"
   ]
  },
  {
   "cell_type": "code",
   "execution_count": 44,
   "id": "d34fae44-ab8b-4d5b-ab88-86f211bb35cb",
   "metadata": {},
   "outputs": [
    {
     "data": {
      "text/plain": [
       "203"
      ]
     },
     "execution_count": 44,
     "metadata": {},
     "output_type": "execute_result"
    }
   ],
   "source": [
    "47626 * 200 - 9524997"
   ]
  },
  {
   "cell_type": "code",
   "execution_count": 45,
   "id": "3c0e5531-4880-4690-a5c1-8c7ab69b33c5",
   "metadata": {},
   "outputs": [],
   "source": [
    "subset_NMR_long_df = NMR_long_df[NMR_long_df['eid'].isin(subset_clinical_df['eid'])]"
   ]
  },
  {
   "cell_type": "code",
   "execution_count": 46,
   "id": "caac1e97-b428-4706-9287-0a4122e63ceb",
   "metadata": {},
   "outputs": [
    {
     "data": {
      "text/plain": [
       "(6841649, 3)"
      ]
     },
     "execution_count": 46,
     "metadata": {},
     "output_type": "execute_result"
    }
   ],
   "source": [
    "subset_NMR_long_df.shape"
   ]
  },
  {
   "cell_type": "code",
   "execution_count": 47,
   "id": "157132dc-b368-4020-95b4-2724b236f44f",
   "metadata": {},
   "outputs": [
    {
     "data": {
      "text/html": [
       "<div>\n",
       "<style scoped>\n",
       "    .dataframe tbody tr th:only-of-type {\n",
       "        vertical-align: middle;\n",
       "    }\n",
       "\n",
       "    .dataframe tbody tr th {\n",
       "        vertical-align: top;\n",
       "    }\n",
       "\n",
       "    .dataframe thead th {\n",
       "        text-align: right;\n",
       "    }\n",
       "</style>\n",
       "<table border=\"1\" class=\"dataframe\">\n",
       "  <thead>\n",
       "    <tr style=\"text-align: right;\">\n",
       "      <th></th>\n",
       "      <th>eid</th>\n",
       "      <th>NMR_name</th>\n",
       "      <th>NMR_expression</th>\n",
       "    </tr>\n",
       "  </thead>\n",
       "  <tbody>\n",
       "    <tr>\n",
       "      <th>44</th>\n",
       "      <td>1002133</td>\n",
       "      <td>participant.p20280_i0</td>\n",
       "      <td>4.06436</td>\n",
       "    </tr>\n",
       "    <tr>\n",
       "      <th>47</th>\n",
       "      <td>1002201</td>\n",
       "      <td>participant.p20280_i0</td>\n",
       "      <td>5.62458</td>\n",
       "    </tr>\n",
       "  </tbody>\n",
       "</table>\n",
       "</div>"
      ],
      "text/plain": [
       "        eid               NMR_name  NMR_expression\n",
       "44  1002133  participant.p20280_i0         4.06436\n",
       "47  1002201  participant.p20280_i0         5.62458"
      ]
     },
     "execution_count": 47,
     "metadata": {},
     "output_type": "execute_result"
    }
   ],
   "source": [
    "subset_NMR_long_df.head(2)"
   ]
  },
  {
   "cell_type": "code",
   "execution_count": 48,
   "id": "fca0b258-ae30-45db-983b-ef8a9f58bd00",
   "metadata": {},
   "outputs": [
    {
     "name": "stdout",
     "output_type": "stream",
     "text": [
      "记录数量少于 200 的 eid: []\n"
     ]
    }
   ],
   "source": [
    "# 按 eid 分组并统计每组的记录数量\n",
    "eid_counts = subset_NMR_long_df.groupby('eid').size()\n",
    "\n",
    "# 找出记录数量少于 200 的 eid\n",
    "eid_less_than_200 = eid_counts[eid_counts < 200].index.tolist()\n",
    "\n",
    "print(\"记录数量少于 200 的 eid:\", eid_less_than_200)"
   ]
  },
  {
   "cell_type": "code",
   "execution_count": 49,
   "id": "63422ac3-a085-4c09-8cb7-ef8f99ef462c",
   "metadata": {},
   "outputs": [
    {
     "name": "stdout",
     "output_type": "stream",
     "text": [
      "               eid               NMR_name  NMR_expression\n",
      "93195467   1000021  participant.p23583_i0       87.447000\n",
      "109263659  1000021  participant.p23615_i0       73.625000\n",
      "98216777   1000021  participant.p23593_i0       73.483000\n",
      "106753004  1000021  participant.p23610_i0       71.083000\n",
      "111774314  1000021  participant.p23620_i0       68.700000\n",
      "...            ...                    ...             ...\n",
      "54832534   6022412  participant.p23507_i0        0.092613\n",
      "54330403   6022412  participant.p23506_i0        0.086871\n",
      "46798438   6022412  participant.p23491_i0        0.085022\n",
      "37257949   6022412  participant.p23472_i0        0.085019\n",
      "62364499   6022412  participant.p23522_i0        0.085007\n",
      "\n",
      "[5459000 rows x 3 columns]\n"
     ]
    }
   ],
   "source": [
    "# 按 eid 分组，对每个分组内按 NMR_expression 降序排序\n",
    "sorted_NMR_df = subset_NMR_long_df.sort_values(['eid', 'NMR_expression'], ascending=[True, False])\n",
    "\n",
    "# 对每个分组保留前 200 行\n",
    "result_NMR_df = sorted_NMR_df.groupby('eid').head(200)\n",
    "\n",
    "print(result_NMR_df)"
   ]
  },
  {
   "cell_type": "code",
   "execution_count": 50,
   "id": "79aa12bd-c18c-49bd-820d-65b89b0ad2cd",
   "metadata": {},
   "outputs": [
    {
     "data": {
      "text/plain": [
       "27295"
      ]
     },
     "execution_count": 50,
     "metadata": {},
     "output_type": "execute_result"
    }
   ],
   "source": [
    "len(subset_NMR_long_df['eid'].unique())"
   ]
  },
  {
   "cell_type": "code",
   "execution_count": 51,
   "id": "56650edb-c424-4560-8177-c20904763022",
   "metadata": {},
   "outputs": [
    {
     "data": {
      "text/plain": [
       "5459000"
      ]
     },
     "execution_count": 51,
     "metadata": {},
     "output_type": "execute_result"
    }
   ],
   "source": [
    "27295*200"
   ]
  },
  {
   "cell_type": "code",
   "execution_count": 52,
   "id": "8b0e0eb9-cf4a-4f5a-a27f-be52590fa6cb",
   "metadata": {},
   "outputs": [],
   "source": [
    "subset_clinical_df = subset_clinical_df.rename(columns={'eid': 'node1'})\n",
    "subset_clinical_df = subset_clinical_df.rename(columns={'ICD10_codes': 'node2'})\n",
    "\n",
    "# subset_Olink_long_df = subset_Olink_long_df.rename(columns={'eid': 'node1'})\n",
    "# subset_Olink_long_df = subset_Olink_long_df.rename(columns={'protein_name': 'node2'})\n",
    "# subset_Olink_long_df = subset_Olink_long_df.rename(columns={'protein_expression': 'relationship'})\n",
    "\n",
    "# subset_NMR_long_df = subset_NMR_long_df.rename(columns={'eid': 'node1'})\n",
    "# subset_NMR_long_df = subset_NMR_long_df.rename(columns={'NMR_name': 'node2'})\n",
    "# subset_NMR_long_df = subset_NMR_long_df.rename(columns={'NMR_expression': 'relationship'})\n",
    "\n",
    "result_Olink_df = result_Olink_df.rename(columns={'eid': 'node1'})\n",
    "result_Olink_df = result_Olink_df.rename(columns={'protein_name': 'node2'})\n",
    "result_Olink_df = result_Olink_df.rename(columns={'protein_expression': 'relationship'})\n",
    "\n",
    "result_NMR_df = result_NMR_df.rename(columns={'eid': 'node1'})\n",
    "result_NMR_df = result_NMR_df.rename(columns={'NMR_name': 'node2'})\n",
    "result_NMR_df = result_NMR_df.rename(columns={'NMR_expression': 'relationship'})"
   ]
  },
  {
   "cell_type": "code",
   "execution_count": 53,
   "id": "3b417fcf-6b8a-4aa0-8454-503d42b62a90",
   "metadata": {},
   "outputs": [
    {
     "name": "stdout",
     "output_type": "stream",
     "text": [
      "            node1                  node2  relationship\n",
      "0         1002133                   I802      1.000000\n",
      "1         1002133                  M1997      1.000000\n",
      "2         1002133                   M201      1.000000\n",
      "3         1002133                   M798      1.000000\n",
      "4         1002133                   D120      1.000000\n",
      "...           ...                    ...           ...\n",
      "15789368  6022412  participant.p23507_i0      0.092613\n",
      "15789369  6022412  participant.p23506_i0      0.086871\n",
      "15789370  6022412  participant.p23491_i0      0.085022\n",
      "15789371  6022412  participant.p23472_i0      0.085019\n",
      "15789372  6022412  participant.p23522_i0      0.085007\n",
      "\n",
      "[15789373 rows x 3 columns]\n"
     ]
    }
   ],
   "source": [
    "# 合并三个数据框\n",
    "# merged_df = pd.concat([subset_clinical_df, subset_Olink_long_df, subset_NMR_long_df], ignore_index=True)\n",
    "merged_df = pd.concat([subset_clinical_df, result_Olink_df, result_NMR_df], ignore_index=True)\n",
    "print(merged_df)"
   ]
  },
  {
   "cell_type": "code",
   "execution_count": 54,
   "id": "9654e7f4-2de5-42d9-84bb-f5e07a5a3cd5",
   "metadata": {},
   "outputs": [],
   "source": [
    "# 保存为以制表符分隔的文本文件\n",
    "file_path = '/home/llma/wzy/comorbidity/Data/merged_df_long.txt'\n",
    "merged_df.to_csv(file_path, sep='\\t', na_rep='nan', index=False)"
   ]
  },
  {
   "cell_type": "code",
   "execution_count": 55,
   "id": "8fb2d7d1-4fd6-4a6b-b713-4bd8cfa5bb4d",
   "metadata": {},
   "outputs": [
    {
     "data": {
      "text/html": [
       "<div>\n",
       "<style scoped>\n",
       "    .dataframe tbody tr th:only-of-type {\n",
       "        vertical-align: middle;\n",
       "    }\n",
       "\n",
       "    .dataframe tbody tr th {\n",
       "        vertical-align: top;\n",
       "    }\n",
       "\n",
       "    .dataframe thead th {\n",
       "        text-align: right;\n",
       "    }\n",
       "</style>\n",
       "<table border=\"1\" class=\"dataframe\">\n",
       "  <thead>\n",
       "    <tr style=\"text-align: right;\">\n",
       "      <th></th>\n",
       "      <th>node1</th>\n",
       "      <th>node2</th>\n",
       "      <th>relationship</th>\n",
       "    </tr>\n",
       "  </thead>\n",
       "  <tbody>\n",
       "    <tr>\n",
       "      <th>0</th>\n",
       "      <td>1002133</td>\n",
       "      <td>I802</td>\n",
       "      <td>1.0</td>\n",
       "    </tr>\n",
       "    <tr>\n",
       "      <th>1</th>\n",
       "      <td>1002133</td>\n",
       "      <td>M1997</td>\n",
       "      <td>1.0</td>\n",
       "    </tr>\n",
       "  </tbody>\n",
       "</table>\n",
       "</div>"
      ],
      "text/plain": [
       "     node1  node2  relationship\n",
       "0  1002133   I802           1.0\n",
       "1  1002133  M1997           1.0"
      ]
     },
     "execution_count": 55,
     "metadata": {},
     "output_type": "execute_result"
    }
   ],
   "source": [
    "merged_df = pd.read_csv('/home/llma/wzy/comorbidity/Data/merged_df_long.txt', sep='\\t')\n",
    "\n",
    "merged_df.head(2)"
   ]
  },
  {
   "cell_type": "code",
   "execution_count": 56,
   "id": "6b572471-775d-47b7-afee-091f6f0fedbc",
   "metadata": {},
   "outputs": [
    {
     "name": "stdout",
     "output_type": "stream",
     "text": [
      "            node1                      node2  relationship\n",
      "10890217  1509466      participant.p23580_i0      20.27500\n",
      "8972900   5308238    olink_instance_0.itgbl1       0.88600\n",
      "14002659  4380370      participant.p23471_i0       3.48600\n",
      "74229     3351479                       H185       1.00000\n",
      "6305790   3905089  olink_instance_0.fam171a2       5.24180\n",
      "...           ...                        ...           ...\n",
      "1265761   1241521      olink_instance_0.tshb       1.90755\n",
      "8766054   5199637     olink_instance_0.cdh17       1.13260\n",
      "5134481   3282256      olink_instance_0.cd69       0.57720\n",
      "13483563  3903901      participant.p23511_i0       0.09834\n",
      "11273352  1850949      participant.p23410_i0       0.17939\n",
      "\n",
      "[100000 rows x 3 columns]\n"
     ]
    }
   ],
   "source": [
    "# 随机抽取 50000000 行数据\n",
    "sampled_df = merged_df.sample(n=100000, random_state=42)\n",
    "\n",
    "print(sampled_df)"
   ]
  },
  {
   "cell_type": "code",
   "execution_count": 57,
   "id": "ddcba8f2-00d1-4292-b75b-d61948195902",
   "metadata": {},
   "outputs": [],
   "source": [
    "# 保存为以制表符分隔的文本文件\n",
    "file_path = '/home/llma/wzy/comorbidity/Data/sampled_df_long.txt'\n",
    "sampled_df.to_csv(file_path, sep='\\t', na_rep='nan', index=False)"
   ]
  },
  {
   "cell_type": "markdown",
   "id": "9d23de4a-f8fc-4dae-9c7d-9b796d29ed21",
   "metadata": {},
   "source": [
    "## prapare data for GPT embedding"
   ]
  },
  {
   "cell_type": "code",
   "execution_count": 66,
   "id": "38260d0f-93eb-4de2-b9b9-b6e6a65b4f96",
   "metadata": {},
   "outputs": [
    {
     "data": {
      "text/plain": [
       "47626"
      ]
     },
     "execution_count": 66,
     "metadata": {},
     "output_type": "execute_result"
    }
   ],
   "source": [
    "len(merged_df['node1'].unique())"
   ]
  },
  {
   "cell_type": "code",
   "execution_count": 67,
   "id": "02cfaecc-3b1a-44a5-81de-2378be10117d",
   "metadata": {},
   "outputs": [
    {
     "data": {
      "text/plain": [
       "numpy.ndarray"
      ]
     },
     "execution_count": 67,
     "metadata": {},
     "output_type": "execute_result"
    }
   ],
   "source": [
    "type(merged_df['node1'].unique())"
   ]
  },
  {
   "cell_type": "code",
   "execution_count": 68,
   "id": "82d6f060-6dfb-48d6-b1c5-94b4e409704c",
   "metadata": {},
   "outputs": [
    {
     "data": {
      "text/plain": [
       "array([1002133, 1002201, 1002534, ..., 6022081, 6022213, 6022247])"
      ]
     },
     "execution_count": 68,
     "metadata": {},
     "output_type": "execute_result"
    }
   ],
   "source": [
    "merged_df['node1'].unique()"
   ]
  },
  {
   "cell_type": "code",
   "execution_count": 69,
   "id": "d102ac90-4a7f-417a-992d-fd41241be880",
   "metadata": {},
   "outputs": [
    {
     "data": {
      "text/plain": [
       "0           1002133\n",
       "1           1002133\n",
       "2           1002133\n",
       "3           1002133\n",
       "4           1002133\n",
       "             ...   \n",
       "15789368    6022412\n",
       "15789369    6022412\n",
       "15789370    6022412\n",
       "15789371    6022412\n",
       "15789372    6022412\n",
       "Name: node1, Length: 15789373, dtype: int64"
      ]
     },
     "execution_count": 69,
     "metadata": {},
     "output_type": "execute_result"
    }
   ],
   "source": [
    "merged_df['node1']"
   ]
  },
  {
   "cell_type": "code",
   "execution_count": 72,
   "id": "c1c35ed1-6146-4cb8-896a-ad64572aa1d8",
   "metadata": {},
   "outputs": [],
   "source": [
    "import numpy as np\n",
    "np.savetxt('/home/llma/wzy/comorbidity/Data/patient_id_select.txt', merged_df['node1'].unique(), fmt='%d')"
   ]
  },
  {
   "cell_type": "code",
   "execution_count": 73,
   "id": "629fdbd0-290d-48d3-b094-afdc7ce0b950",
   "metadata": {},
   "outputs": [],
   "source": [
    "import numpy as np\n",
    "X = np.load('/home/llma/wzy/comorbidity/Data/UKB_node_feature.npy')"
   ]
  },
  {
   "cell_type": "code",
   "execution_count": 79,
   "id": "5e2a7f4e-8ca9-4eaa-823a-12316cb407b1",
   "metadata": {},
   "outputs": [
    {
     "data": {
      "text/plain": [
       "(59341, 512)"
      ]
     },
     "execution_count": 79,
     "metadata": {},
     "output_type": "execute_result"
    }
   ],
   "source": [
    "X.shape"
   ]
  },
  {
   "cell_type": "code",
   "execution_count": 4,
   "id": "a5bfff1a-8a8e-4914-af6f-33ac4bf19f1a",
   "metadata": {},
   "outputs": [
    {
     "name": "stderr",
     "output_type": "stream",
     "text": [
      "/home/llma/anaconda3/envs/GAT/lib/python3.12/site-packages/tqdm/auto.py:21: TqdmWarning: IProgress not found. Please update jupyter and ipywidgets. See https://ipywidgets.readthedocs.io/en/stable/user_install.html\n",
      "  from .autonotebook import tqdm as notebook_tqdm\n"
     ]
    }
   ],
   "source": [
    "from embedding import load_graph_network\n",
    "from train import fit_transform\n",
    "import torch\n",
    "import numpy as np\n",
    "from scipy.sparse import identity, csr_matrix"
   ]
  },
  {
   "cell_type": "code",
   "execution_count": null,
   "id": "55981609-5bce-42fd-9e71-0478814aeecb",
   "metadata": {},
   "outputs": [],
   "source": [
    "relationship_file = '/home/llma/wzy/comorbidity/Data/merged_df_long.txt'\n",
    "node_feature_file = '/home/llma/wzy/comorbidity/Data/UKB_node_feature.npy'\n",
    "features, adj = load_graph_network(relationship_file, node_feature_file)"
   ]
  },
  {
   "cell_type": "code",
   "execution_count": null,
   "id": "8f02360c-edbb-4c37-8de3-b9addbed21e3",
   "metadata": {},
   "outputs": [],
   "source": [
    "type(features)"
   ]
  },
  {
   "cell_type": "code",
   "execution_count": null,
   "id": "5306d9cd-a79b-421b-a4f0-a6e1ba578b4e",
   "metadata": {},
   "outputs": [],
   "source": [
    "features.shape"
   ]
  },
  {
   "cell_type": "code",
   "execution_count": null,
   "id": "49c1bb49-d917-464c-9e15-d37c6501622f",
   "metadata": {},
   "outputs": [],
   "source": [
    "type(adj)"
   ]
  },
  {
   "cell_type": "code",
   "execution_count": null,
   "id": "983e8cc4-317a-4dfe-a9ef-df3716ce3f91",
   "metadata": {},
   "outputs": [],
   "source": [
    "adj.shape"
   ]
  },
  {
   "cell_type": "code",
   "execution_count": 86,
   "id": "1f5c873c-02cb-4667-babd-e86f4ed74869",
   "metadata": {},
   "outputs": [],
   "source": [
    "edge_index = torch.LongTensor(np.column_stack(adj.nonzero())).T"
   ]
  },
  {
   "cell_type": "code",
   "execution_count": 87,
   "id": "d6a0509d-0982-460f-a8c3-827c6aa936b9",
   "metadata": {},
   "outputs": [
    {
     "data": {
      "text/plain": [
       "torch.Tensor"
      ]
     },
     "execution_count": 87,
     "metadata": {},
     "output_type": "execute_result"
    }
   ],
   "source": [
    "type(edge_index)"
   ]
  },
  {
   "cell_type": "code",
   "execution_count": 88,
   "id": "b067234b-c4ae-4ec3-a8d5-e855691f889d",
   "metadata": {},
   "outputs": [
    {
     "data": {
      "text/plain": [
       "torch.Size([2, 31578678])"
      ]
     },
     "execution_count": 88,
     "metadata": {},
     "output_type": "execute_result"
    }
   ],
   "source": [
    "edge_index.shape"
   ]
  },
  {
   "cell_type": "code",
   "execution_count": 89,
   "id": "4628e59d-cb69-41be-a48b-3b390641fd41",
   "metadata": {},
   "outputs": [
    {
     "data": {
      "text/plain": [
       "tensor([[    0,     0,     0,  ..., 59340, 59340, 59340],\n",
       "        [48395, 50305, 52968,  ..., 47621, 47622, 47625]])"
      ]
     },
     "execution_count": 89,
     "metadata": {},
     "output_type": "execute_result"
    }
   ],
   "source": [
    "edge_index"
   ]
  },
  {
   "cell_type": "code",
   "execution_count": 91,
   "id": "9cbc6ae4-4b95-4839-9612-ec0155d54cfd",
   "metadata": {},
   "outputs": [],
   "source": [
    "features = torch.FloatTensor(features)"
   ]
  },
  {
   "cell_type": "code",
   "execution_count": 92,
   "id": "293f599c-cfc6-4e43-962b-4efecbdc7ab4",
   "metadata": {},
   "outputs": [
    {
     "data": {
      "text/plain": [
       "torch.Tensor"
      ]
     },
     "execution_count": 92,
     "metadata": {},
     "output_type": "execute_result"
    }
   ],
   "source": [
    "type(features)"
   ]
  },
  {
   "cell_type": "code",
   "execution_count": 93,
   "id": "1fbe483a-c1f1-40c2-9053-ec5d7a16ac25",
   "metadata": {},
   "outputs": [
    {
     "data": {
      "text/plain": [
       "tensor([[ 7.8593e-02,  3.7167e-02, -2.5264e-05,  ...,  1.0927e-01,\n",
       "          4.2039e-02, -4.3163e-02],\n",
       "        [-3.1614e-02,  3.3373e-02, -4.1725e-02,  ...,  6.1832e-02,\n",
       "          3.3184e-02, -7.6527e-02],\n",
       "        [ 6.3645e-02, -6.6597e-02, -1.7813e-02,  ...,  8.3573e-02,\n",
       "          1.1757e-01,  7.7124e-02],\n",
       "        ...,\n",
       "        [ 4.8801e-02, -1.5700e-02, -8.0005e-02,  ...,  1.8323e-01,\n",
       "         -4.8555e-02, -8.9389e-02],\n",
       "        [ 4.1061e-02, -3.6173e-03, -4.3467e-02,  ...,  1.9806e-01,\n",
       "         -2.3962e-02, -9.1589e-02],\n",
       "        [ 4.6492e-02, -1.6612e-02, -4.4272e-02,  ...,  1.7582e-01,\n",
       "         -2.1368e-02, -9.3193e-02]])"
      ]
     },
     "execution_count": 93,
     "metadata": {},
     "output_type": "execute_result"
    }
   ],
   "source": [
    "features"
   ]
  },
  {
   "cell_type": "code",
   "execution_count": 1,
   "id": "5ba7dd49-2bee-4e4b-a66f-7f3e9ce52546",
   "metadata": {},
   "outputs": [],
   "source": [
    "import numpy as np"
   ]
  },
  {
   "cell_type": "code",
   "execution_count": 2,
   "id": "baa2a15c-ca2d-4c69-b3e2-de2ecad2c310",
   "metadata": {},
   "outputs": [],
   "source": [
    "# 读取 .npy 文件\n",
    "UKB_node_feature = np.load(\"/home/llma/wzy/comorbidity/Data/UKB_node_feature.npy\")  # 替换为你的文件路径"
   ]
  },
  {
   "cell_type": "code",
   "execution_count": 3,
   "id": "4ca03861-a2f7-4516-b916-6a268a1e4548",
   "metadata": {},
   "outputs": [
    {
     "name": "stdout",
     "output_type": "stream",
     "text": [
      "(59341, 512)\n",
      "float32\n",
      "[[ 7.8592859e-02  3.7166961e-02 -2.5264493e-05 ...  1.0927329e-01\n",
      "   4.2039458e-02 -4.3163471e-02]\n",
      " [-3.1613640e-02  3.3372585e-02 -4.1725088e-02 ...  6.1832469e-02\n",
      "   3.3184074e-02 -7.6527424e-02]\n",
      " [ 6.3645303e-02 -6.6597082e-02 -1.7813137e-02 ...  8.3572939e-02\n",
      "   1.1757230e-01  7.7123806e-02]\n",
      " ...\n",
      " [ 4.8800856e-02 -1.5699746e-02 -8.0004506e-02 ...  1.8323483e-01\n",
      "  -4.8554923e-02 -8.9388750e-02]\n",
      " [ 4.1061401e-02 -3.6173388e-03 -4.3467034e-02 ...  1.9806254e-01\n",
      "  -2.3962140e-02 -9.1588542e-02]\n",
      " [ 4.6492204e-02 -1.6611662e-02 -4.4271532e-02 ...  1.7581843e-01\n",
      "  -2.1368263e-02 -9.3193032e-02]]\n"
     ]
    }
   ],
   "source": [
    "# 查看数据\n",
    "print(UKB_node_feature.shape)  # 查看数组形状\n",
    "print(UKB_node_feature.dtype)  # 查看数据类型\n",
    "print(UKB_node_feature)        # 打印数组内容"
   ]
  },
  {
   "cell_type": "markdown",
   "id": "09051fe6-15c0-4d5e-b841-7b4072c80283",
   "metadata": {},
   "source": [
    "## get the order of nodes"
   ]
  },
  {
   "cell_type": "code",
   "execution_count": 39,
   "id": "6a17c1e4-620e-4b36-85f9-c6a7e128a09f",
   "metadata": {},
   "outputs": [],
   "source": [
    "import numpy as np\n",
    "import os\n",
    "from scipy.sparse import csr_matrix\n",
    "from utils import N2V\n",
    "import pandas as pd\n",
    "from fastnode2vec import Graph, Node2Vec "
   ]
  },
  {
   "cell_type": "code",
   "execution_count": 40,
   "id": "b1af2a45-4312-4ab4-b2e0-30dc99811daa",
   "metadata": {},
   "outputs": [],
   "source": [
    "adj_path = '/home/llma/wzy/comorbidity/Data/merged_df_long_subset.txt'"
   ]
  },
  {
   "cell_type": "code",
   "execution_count": 41,
   "id": "decb3abf-f7ee-4d6a-8d35-4d8fa523519e",
   "metadata": {},
   "outputs": [
    {
     "name": "stderr",
     "output_type": "stream",
     "text": [
      "                                                                                                                                                            "
     ]
    }
   ],
   "source": [
    "X, A, Y = [], None, []\n",
    "n_node = 0\n",
    "\n",
    "# Acquire Edges\n",
    "edge_list = []\n",
    "node_list = []\n",
    "node_type = {}\n",
    "relationship_list = []\n",
    "\n",
    "with open(adj_path, 'rt', encoding='utf-8') as f:\n",
    "    next(f)\n",
    "    for line in f.readlines():\n",
    "        node1, node2, relationship, *_ = line.strip().split('\\t')\n",
    "        edge_list.append((node1, node2))\n",
    "        node_list.extend([node1, node2])\n",
    "        relationship_list.append(relationship)\n",
    "\n",
    "node_map = {item: i for i, item in enumerate(sorted(list(set(node_list))))}\n",
    "n_node = len(node_map)\n",
    "\n",
    "# 使用稀疏矩阵存储邻接关系\n",
    "row = []\n",
    "col = []\n",
    "data = []\n",
    "for i, (node1, node2) in enumerate(edge_list):\n",
    "    row.append(node_map[node1])\n",
    "    col.append(node_map[node2])\n",
    "    data.append(relationship_list[i])  # 使用实际的关系值\n",
    "    row.append(node_map[node2])\n",
    "    col.append(node_map[node1])\n",
    "    data.append(relationship_list[i])  # 使用实际的关系值\n",
    "A = csr_matrix((data, (row, col)), shape=(n_node, n_node), dtype=np.float32)\n",
    "\n",
    "adj_matrix = pd.read_csv(adj_path, sep='\\t')\n",
    "# 构建图所需的边列表\n",
    "edges = [(row['node1'], row['node2'], row['relationship']) for _, row in adj_matrix.iterrows()]\n",
    "\n",
    "# 构建图\n",
    "graph = Graph(edges, directed=False, weighted=True)"
   ]
  },
  {
   "cell_type": "code",
   "execution_count": 42,
   "id": "269b64c7-6d01-4ce7-931e-b9407b705995",
   "metadata": {},
   "outputs": [
    {
     "data": {
      "text/plain": [
       "array(['1000021', 'ccar2', 'paep', ...,\n",
       "       'Concentration of Very Large HDL Particles',\n",
       "       'Concentration of IDL Particles',\n",
       "       'Concentration of Medium LDL Particles'], dtype='<U86')"
      ]
     },
     "execution_count": 42,
     "metadata": {},
     "output_type": "execute_result"
    }
   ],
   "source": [
    "graph.node_names"
   ]
  },
  {
   "cell_type": "code",
   "execution_count": 43,
   "id": "9ec224ea-b6a6-411a-96db-757d96f692d8",
   "metadata": {},
   "outputs": [
    {
     "data": {
      "text/plain": [
       "<fastnode2vec.graph.Graph at 0x7f4f4e409040>"
      ]
     },
     "execution_count": 43,
     "metadata": {},
     "output_type": "execute_result"
    }
   ],
   "source": [
    "graph"
   ]
  },
  {
   "cell_type": "code",
   "execution_count": 44,
   "id": "ef8ee197-a292-47cf-806a-755b8f5ffaab",
   "metadata": {},
   "outputs": [],
   "source": [
    "# 保存图对象\n",
    "with open('/home/llma/wzy/comorbidity/Data/graph.pkl', 'wb') as f:\n",
    "    pickle.dump(graph, f)"
   ]
  },
  {
   "cell_type": "code",
   "execution_count": 45,
   "id": "9aabe4fd-67a7-41e0-915a-7d267c2a920e",
   "metadata": {},
   "outputs": [],
   "source": [
    "import pickle\n",
    "import numpy as np"
   ]
  },
  {
   "cell_type": "code",
   "execution_count": 46,
   "id": "9faeef01-5f56-4e5f-85ad-af4591acf29f",
   "metadata": {},
   "outputs": [
    {
     "name": "stdout",
     "output_type": "stream",
     "text": [
      "1.26.4\n"
     ]
    }
   ],
   "source": [
    "print(np.__version__)"
   ]
  },
  {
   "cell_type": "code",
   "execution_count": 47,
   "id": "86986277-717e-41a9-ab89-ef4de779eea9",
   "metadata": {},
   "outputs": [],
   "source": [
    "with open('/home/llma/wzy/comorbidity/Data/gpt_protein_embeddings_dict.pkl', 'rb') as f:\n",
    "    protein_embeddings_dict = pickle.load(f)"
   ]
  },
  {
   "cell_type": "code",
   "execution_count": 48,
   "id": "2194bbc0-9d7d-4e57-bcd9-8d948b6b30a3",
   "metadata": {},
   "outputs": [],
   "source": [
    "with open('/home/llma/wzy/comorbidity/Data/gpt_embeddings_dict.pkl', 'rb') as f:\n",
    "    embeddings_dict = pickle.load(f)"
   ]
  },
  {
   "cell_type": "code",
   "execution_count": 49,
   "id": "7f164987-1e80-4bf5-9fce-08386335831b",
   "metadata": {},
   "outputs": [],
   "source": [
    "with open('/home/llma/wzy/comorbidity/Data/metabolite_embeddings_dict.pkl', 'rb') as f:\n",
    "    metabolite_embeddings_dict = pickle.load(f)"
   ]
  },
  {
   "cell_type": "code",
   "execution_count": 50,
   "id": "807109d9-918d-485e-9ba4-ecf9a24a181e",
   "metadata": {},
   "outputs": [],
   "source": [
    "# 创建新字典，保留原始字典不变\n",
    "merged_dict = {**protein_embeddings_dict, **embeddings_dict, **metabolite_embeddings_dict}"
   ]
  },
  {
   "cell_type": "code",
   "execution_count": 51,
   "id": "82548e78-b471-4c3e-b285-463388571ee0",
   "metadata": {},
   "outputs": [
    {
     "name": "stdout",
     "output_type": "stream",
     "text": [
      "矩阵形状: (50792, 1536)\n",
      "前3行:\n",
      " [[-0.02587547  0.00406624 -0.00236452 ...  0.00774806 -0.01663612\n",
      "  -0.0286592 ]\n",
      " [-0.0407948  -0.00324398 -0.00015634 ... -0.0127301  -0.0239985\n",
      "   0.00535847]\n",
      " [-0.0363668  -0.01535156 -0.00880039 ... -0.01902346 -0.00901718\n",
      "  -0.02430776]]\n"
     ]
    }
   ],
   "source": [
    "# 提取所有键并保持顺序（Python 3.7+ 字典保持插入顺序）\n",
    "keys = list(graph.node_names)\n",
    "\n",
    "# 将字典值转换为NumPy矩阵（每行一个向量）\n",
    "matrix = np.array([merged_dict[key] for key in keys])\n",
    "\n",
    "# 检查矩阵形状\n",
    "print(\"矩阵形状:\", matrix.shape)  # 输出: (47626, 向量维度)\n",
    "\n",
    "# 示例：查看前3行\n",
    "print(\"前3行:\\n\", matrix[:3])"
   ]
  },
  {
   "cell_type": "code",
   "execution_count": 52,
   "id": "be7aa2b4-01c1-4b84-9081-c2b0d879661d",
   "metadata": {},
   "outputs": [],
   "source": [
    "np.save('/home/llma/wzy/comorbidity/Data/UKB_node_feature_gpt.npy', matrix)"
   ]
  },
  {
   "cell_type": "markdown",
   "id": "efc8354f-b4d7-4f8e-842e-29f46fa8fa47",
   "metadata": {},
   "source": [
    "## split train data, validation data, test data"
   ]
  },
  {
   "cell_type": "code",
   "execution_count": 57,
   "id": "071417c1-b933-45da-bf55-37847c6a77ee",
   "metadata": {},
   "outputs": [],
   "source": [
    "merged_df_long = pd.read_csv('/home/llma/wzy/comorbidity/Data/merged_df_long_subset.txt', sep='\\t')"
   ]
  },
  {
   "cell_type": "code",
   "execution_count": 58,
   "id": "ed47b2df-487c-4837-a0c1-d914e24ed9a4",
   "metadata": {},
   "outputs": [
    {
     "data": {
      "text/html": [
       "<div>\n",
       "<style scoped>\n",
       "    .dataframe tbody tr th:only-of-type {\n",
       "        vertical-align: middle;\n",
       "    }\n",
       "\n",
       "    .dataframe tbody tr th {\n",
       "        vertical-align: top;\n",
       "    }\n",
       "\n",
       "    .dataframe thead th {\n",
       "        text-align: right;\n",
       "    }\n",
       "</style>\n",
       "<table border=\"1\" class=\"dataframe\">\n",
       "  <thead>\n",
       "    <tr style=\"text-align: right;\">\n",
       "      <th></th>\n",
       "      <th>node1</th>\n",
       "      <th>node2</th>\n",
       "      <th>relationship</th>\n",
       "    </tr>\n",
       "  </thead>\n",
       "  <tbody>\n",
       "    <tr>\n",
       "      <th>0</th>\n",
       "      <td>1000021</td>\n",
       "      <td>ccar2</td>\n",
       "      <td>1</td>\n",
       "    </tr>\n",
       "    <tr>\n",
       "      <th>1</th>\n",
       "      <td>1000021</td>\n",
       "      <td>paep</td>\n",
       "      <td>1</td>\n",
       "    </tr>\n",
       "  </tbody>\n",
       "</table>\n",
       "</div>"
      ],
      "text/plain": [
       "     node1  node2  relationship\n",
       "0  1000021  ccar2             1\n",
       "1  1000021   paep             1"
      ]
     },
     "execution_count": 58,
     "metadata": {},
     "output_type": "execute_result"
    }
   ],
   "source": [
    "merged_df_long.head(2)"
   ]
  },
  {
   "cell_type": "code",
   "execution_count": 60,
   "id": "d41bccfb-50e2-4746-aab2-aebcd879a6d6",
   "metadata": {},
   "outputs": [],
   "source": [
    "def split_data_by_patient_id(data_df, patient_id_col='node1', ratios=[7, 2, 1], random_seed=42):\n",
    "    \"\"\"\n",
    "    根据病人ID将数据框按指定比例划分为多个子集，确保各子集间病人ID无重叠\n",
    "    \n",
    "    参数:\n",
    "    data_df: pandas.DataFrame - 输入的数据框\n",
    "    patient_id_col: str - 病人ID所在的列名，默认为'node1'\n",
    "    ratios: list - 划分比例，默认为[7, 2, 1]\n",
    "    random_seed: int - 随机数种子，确保结果可重现\n",
    "    \n",
    "    返回:\n",
    "    tuple - 划分后的多个数据框\n",
    "    \"\"\"\n",
    "    # 设置随机种子\n",
    "    np.random.seed(random_seed)\n",
    "    \n",
    "    # 获取唯一的病人ID\n",
    "    unique_patient_ids = data_df[patient_id_col].unique()\n",
    "    total_patients = len(unique_patient_ids)\n",
    "    \n",
    "    # 计算各部分应占的病人数量\n",
    "    ratio_sum = sum(ratios)\n",
    "    parts = []\n",
    "    remaining = total_patients\n",
    "    \n",
    "    for i, ratio in enumerate(ratios[:-1]):\n",
    "        # 计算当前部分的病人数量，四舍五入\n",
    "        current_size = round(total_patients * ratio / ratio_sum)\n",
    "        # 确保不会超出总人数\n",
    "        current_size = min(current_size, remaining)\n",
    "        parts.append(current_size)\n",
    "        remaining -= current_size\n",
    "    \n",
    "    # 最后一部分包含剩余的所有病人\n",
    "    parts.append(remaining)\n",
    "    \n",
    "    # 随机打乱病人ID\n",
    "    shuffled_ids = np.random.permutation(unique_patient_ids)\n",
    "    \n",
    "    # 划分病人ID\n",
    "    split_points = [0]\n",
    "    for size in parts:\n",
    "        split_points.append(split_points[-1] + size)\n",
    "    \n",
    "    patient_groups = [\n",
    "        shuffled_ids[split_points[i]:split_points[i+1]]\n",
    "        for i in range(len(parts))\n",
    "    ]\n",
    "    \n",
    "    # 根据病人ID划分数据\n",
    "    data_groups = [\n",
    "        data_df[data_df[patient_id_col].isin(patients)]\n",
    "        for patients in patient_groups\n",
    "    ]\n",
    "    \n",
    "    return tuple(data_groups)"
   ]
  },
  {
   "cell_type": "code",
   "execution_count": 61,
   "id": "d552b069-31bf-4a77-87e3-1423a057e723",
   "metadata": {},
   "outputs": [],
   "source": [
    "train_data, val_data, test_data = split_data_by_patient_id(\n",
    "    data_df=merged_df_long,          # 你的原始数据框\n",
    "    patient_id_col='node1',  # 病人ID列\n",
    "    ratios=[7, 2, 1],   # 对应测试集:验证集:训练集\n",
    "    random_seed=42      # 可设置随机种子确保结果可重现\n",
    ")"
   ]
  },
  {
   "cell_type": "code",
   "execution_count": 62,
   "id": "bdb40a64-fec0-4bd0-935b-2ed5d60a3a6a",
   "metadata": {},
   "outputs": [
    {
     "name": "stdout",
     "output_type": "stream",
     "text": [
      "训练集: 10493322 行\n",
      "验证集: 2999875 行\n",
      "测试集: 1490800 行\n"
     ]
    }
   ],
   "source": [
    "# 查看各部分大小\n",
    "print(f\"训练集: {len(train_data)} 行\")\n",
    "print(f\"验证集: {len(val_data)} 行\")\n",
    "print(f\"测试集: {len(test_data)} 行\")"
   ]
  },
  {
   "cell_type": "code",
   "execution_count": 65,
   "id": "25232b5a-28b1-4894-960e-d55504bf1865",
   "metadata": {},
   "outputs": [],
   "source": [
    "train_data.to_csv('/home/llma/wzy/comorbidity/Data/train_data.txt', sep='\\t', na_rep='nan', index=False)\n",
    "val_data.to_csv('/home/llma/wzy/comorbidity/Data/val_data.txt', sep='\\t', na_rep='nan', index=False)\n",
    "test_data.to_csv('/home/llma/wzy/comorbidity/Data/test_data.txt', sep='\\t', na_rep='nan', index=False)"
   ]
  },
  {
   "cell_type": "code",
   "execution_count": 64,
   "id": "1fc7151e-3110-47c1-9b81-13664271594c",
   "metadata": {},
   "outputs": [
    {
     "data": {
      "text/html": [
       "<div>\n",
       "<style scoped>\n",
       "    .dataframe tbody tr th:only-of-type {\n",
       "        vertical-align: middle;\n",
       "    }\n",
       "\n",
       "    .dataframe tbody tr th {\n",
       "        vertical-align: top;\n",
       "    }\n",
       "\n",
       "    .dataframe thead th {\n",
       "        text-align: right;\n",
       "    }\n",
       "</style>\n",
       "<table border=\"1\" class=\"dataframe\">\n",
       "  <thead>\n",
       "    <tr style=\"text-align: right;\">\n",
       "      <th></th>\n",
       "      <th>node1</th>\n",
       "      <th>node2</th>\n",
       "      <th>relationship</th>\n",
       "    </tr>\n",
       "  </thead>\n",
       "  <tbody>\n",
       "    <tr>\n",
       "      <th>0</th>\n",
       "      <td>1000021</td>\n",
       "      <td>ccar2</td>\n",
       "      <td>1</td>\n",
       "    </tr>\n",
       "    <tr>\n",
       "      <th>1</th>\n",
       "      <td>1000021</td>\n",
       "      <td>paep</td>\n",
       "      <td>1</td>\n",
       "    </tr>\n",
       "  </tbody>\n",
       "</table>\n",
       "</div>"
      ],
      "text/plain": [
       "     node1  node2  relationship\n",
       "0  1000021  ccar2             1\n",
       "1  1000021   paep             1"
      ]
     },
     "execution_count": 64,
     "metadata": {},
     "output_type": "execute_result"
    }
   ],
   "source": [
    "train_data.head(2)"
   ]
  },
  {
   "cell_type": "code",
   "execution_count": 68,
   "id": "52f5ba34-cb93-4012-a6e2-22b8ffbb49c5",
   "metadata": {},
   "outputs": [],
   "source": [
    "def prepareInputData(adj_path,\n",
    "                     graph_path_save,\n",
    "                     protein_embeddings_path,\n",
    "                     gpt_embeddings_path,\n",
    "                     metabolite_embeddings_path,\n",
    "                     UKB_node_feature_save\n",
    "                     ):\n",
    "    X, A, Y = [], None, []\n",
    "    n_node = 0\n",
    "    \n",
    "    # Acquire Edges\n",
    "    edge_list = []\n",
    "    node_list = []\n",
    "    node_type = {}\n",
    "    relationship_list = []\n",
    "    \n",
    "    with open(adj_path, 'rt', encoding='utf-8') as f:\n",
    "        next(f)\n",
    "        for line in f.readlines():\n",
    "            node1, node2, relationship, *_ = line.strip().split('\\t')\n",
    "            edge_list.append((node1, node2))\n",
    "            node_list.extend([node1, node2])\n",
    "            relationship_list.append(relationship)\n",
    "    \n",
    "    node_map = {item: i for i, item in enumerate(sorted(list(set(node_list))))}\n",
    "    n_node = len(node_map)\n",
    "    \n",
    "    # 使用稀疏矩阵存储邻接关系\n",
    "    row = []\n",
    "    col = []\n",
    "    data = []\n",
    "    for i, (node1, node2) in enumerate(edge_list):\n",
    "        row.append(node_map[node1])\n",
    "        col.append(node_map[node2])\n",
    "        data.append(relationship_list[i])  # 使用实际的关系值\n",
    "        row.append(node_map[node2])\n",
    "        col.append(node_map[node1])\n",
    "        data.append(relationship_list[i])  # 使用实际的关系值\n",
    "    A = csr_matrix((data, (row, col)), shape=(n_node, n_node), dtype=np.float32)\n",
    "    \n",
    "    adj_matrix = pd.read_csv(adj_path, sep='\\t')\n",
    "    # 构建图所需的边列表\n",
    "    edges = [(row['node1'], row['node2'], row['relationship']) for _, row in adj_matrix.iterrows()]\n",
    "    \n",
    "    # 构建图\n",
    "    graph = Graph(edges, directed=False, weighted=True)\n",
    "    # 保存图对象\n",
    "    with open(graph_path_save, 'wb') as f:\n",
    "        pickle.dump(graph, f)\n",
    "\n",
    "    with open(protein_embeddings_path, 'rb') as f:\n",
    "        protein_embeddings_dict = pickle.load(f)\n",
    "\n",
    "    with open(gpt_embeddings_path, 'rb') as f:\n",
    "        embeddings_dict = pickle.load(f)\n",
    "    \n",
    "    with open(metabolite_embeddings_path, 'rb') as f:\n",
    "        metabolite_embeddings_dict = pickle.load(f)\n",
    "    \n",
    "    # 创建新字典，保留原始字典不变\n",
    "    merged_dict = {**protein_embeddings_dict, **embeddings_dict, **metabolite_embeddings_dict}\n",
    "    # 提取所有键并保持顺序（Python 3.7+ 字典保持插入顺序）\n",
    "    keys = list(graph.node_names)\n",
    "    \n",
    "    # 将字典值转换为NumPy矩阵（每行一个向量）\n",
    "    matrix = np.array([merged_dict[key] for key in keys])\n",
    "    # 检查矩阵形状\n",
    "    print(\"矩阵形状:\", matrix.shape)  # 输出: (47626, 向量维度)\n",
    "    np.save(UKB_node_feature_save, matrix)"
   ]
  },
  {
   "cell_type": "code",
   "execution_count": 69,
   "id": "15f656c5-43a4-42c8-9744-d6a2a2bf9591",
   "metadata": {},
   "outputs": [
    {
     "name": "stderr",
     "output_type": "stream",
     "text": [
      "                                                                                                                                                            "
     ]
    },
    {
     "name": "stdout",
     "output_type": "stream",
     "text": [
      "矩阵形状: (36504, 1536)\n"
     ]
    }
   ],
   "source": [
    "prepareInputData(adj_path='/home/llma/wzy/comorbidity/Data/train_data.txt',\n",
    "                 graph_path_save='/home/llma/wzy/comorbidity/Data/train_graph.pkl',\n",
    "                 protein_embeddings_path='/home/llma/wzy/comorbidity/Data/gpt_protein_embeddings_dict.pkl',\n",
    "                 gpt_embeddings_path='/home/llma/wzy/comorbidity/Data/gpt_embeddings_dict.pkl',\n",
    "                 metabolite_embeddings_path='/home/llma/wzy/comorbidity/Data/metabolite_embeddings_dict.pkl',\n",
    "                 UKB_node_feature_save='/home/llma/wzy/comorbidity/Data/UKB_node_feature_gpt_train.npy'\n",
    "                     )"
   ]
  },
  {
   "cell_type": "code",
   "execution_count": 71,
   "id": "2140a5d6-2d3e-40bf-92fe-13f46110dc22",
   "metadata": {},
   "outputs": [
    {
     "name": "stderr",
     "output_type": "stream",
     "text": [
      "                                                                                                                                                            "
     ]
    },
    {
     "name": "stdout",
     "output_type": "stream",
     "text": [
      "矩阵形状: (12681, 1536)\n"
     ]
    }
   ],
   "source": [
    "prepareInputData(adj_path='/home/llma/wzy/comorbidity/Data/val_data.txt',\n",
    "                 graph_path_save='/home/llma/wzy/comorbidity/Data/val_graph.pkl',\n",
    "                 protein_embeddings_path='/home/llma/wzy/comorbidity/Data/gpt_protein_embeddings_dict.pkl',\n",
    "                 gpt_embeddings_path='/home/llma/wzy/comorbidity/Data/gpt_embeddings_dict.pkl',\n",
    "                 metabolite_embeddings_path='/home/llma/wzy/comorbidity/Data/metabolite_embeddings_dict.pkl',\n",
    "                 UKB_node_feature_save='/home/llma/wzy/comorbidity/Data/UKB_node_feature_gpt_val.npy'\n",
    "                     )"
   ]
  },
  {
   "cell_type": "code",
   "execution_count": 70,
   "id": "8f757829-7311-412f-b02e-82d4eab5abad",
   "metadata": {},
   "outputs": [
    {
     "name": "stderr",
     "output_type": "stream",
     "text": [
      "                                                                                                                                                            "
     ]
    },
    {
     "name": "stdout",
     "output_type": "stream",
     "text": [
      "矩阵形状: (7919, 1536)\n"
     ]
    }
   ],
   "source": [
    "prepareInputData(adj_path='/home/llma/wzy/comorbidity/Data/test_data.txt',\n",
    "                 graph_path_save='/home/llma/wzy/comorbidity/Data/test_graph.pkl',\n",
    "                 protein_embeddings_path='/home/llma/wzy/comorbidity/Data/gpt_protein_embeddings_dict.pkl',\n",
    "                 gpt_embeddings_path='/home/llma/wzy/comorbidity/Data/gpt_embeddings_dict.pkl',\n",
    "                 metabolite_embeddings_path='/home/llma/wzy/comorbidity/Data/metabolite_embeddings_dict.pkl',\n",
    "                 UKB_node_feature_save='/home/llma/wzy/comorbidity/Data/UKB_node_feature_gpt_test.npy'\n",
    "                     )"
   ]
  },
  {
   "cell_type": "code",
   "execution_count": null,
   "id": "09819a4a-925b-49c4-9fb0-76199c636fb7",
   "metadata": {},
   "outputs": [],
   "source": []
  }
 ],
 "metadata": {
  "kernelspec": {
   "display_name": "GAT",
   "language": "python",
   "name": "gat"
  },
  "language_info": {
   "codemirror_mode": {
    "name": "ipython",
    "version": 3
   },
   "file_extension": ".py",
   "mimetype": "text/x-python",
   "name": "python",
   "nbconvert_exporter": "python",
   "pygments_lexer": "ipython3",
   "version": "3.12.10"
  }
 },
 "nbformat": 4,
 "nbformat_minor": 5
}
