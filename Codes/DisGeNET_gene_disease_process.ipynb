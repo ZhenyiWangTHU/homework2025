{
 "cells": [
  {
   "cell_type": "code",
   "execution_count": 3,
   "id": "de62c705-6fa6-4a85-b5c9-609d9936ae00",
   "metadata": {},
   "outputs": [],
   "source": [
    "import pandas as pd"
   ]
  },
  {
   "cell_type": "code",
   "execution_count": 6,
   "id": "709882cf-3f7f-433e-94b3-041101a79995",
   "metadata": {},
   "outputs": [],
   "source": [
    "# 读取 Excel 文件\n",
    "df = pd.read_excel('../Data/DisGeNET_Complete_Results_gene_disease_association.xlsx')"
   ]
  },
  {
   "cell_type": "code",
   "execution_count": 9,
   "id": "c0af5fb3-e6dd-4329-b671-cbd779713896",
   "metadata": {},
   "outputs": [
    {
     "data": {
      "text/html": [
       "<div>\n",
       "<style scoped>\n",
       "    .dataframe tbody tr th:only-of-type {\n",
       "        vertical-align: middle;\n",
       "    }\n",
       "\n",
       "    .dataframe tbody tr th {\n",
       "        vertical-align: top;\n",
       "    }\n",
       "\n",
       "    .dataframe thead th {\n",
       "        text-align: right;\n",
       "    }\n",
       "</style>\n",
       "<table border=\"1\" class=\"dataframe\">\n",
       "  <thead>\n",
       "    <tr style=\"text-align: right;\">\n",
       "      <th></th>\n",
       "      <th>Gene_Symbol</th>\n",
       "      <th>Gene_ID</th>\n",
       "      <th>ensemblid</th>\n",
       "      <th>geneNcbiType</th>\n",
       "      <th>geneDSI</th>\n",
       "      <th>geneDPI</th>\n",
       "      <th>genepLI</th>\n",
       "      <th>uniprotids</th>\n",
       "      <th>protein_classid</th>\n",
       "      <th>protein_class_name</th>\n",
       "      <th>...</th>\n",
       "      <th>numberPmidsWithChemsFiltered</th>\n",
       "      <th>Association_Score</th>\n",
       "      <th>yearInitial</th>\n",
       "      <th>yearFinal</th>\n",
       "      <th>evidence_level</th>\n",
       "      <th>evidence_index</th>\n",
       "      <th>diseaseid</th>\n",
       "      <th>Node_ID</th>\n",
       "      <th>ICD_Code</th>\n",
       "      <th>mapped_protein_names_complete</th>\n",
       "    </tr>\n",
       "  </thead>\n",
       "  <tbody>\n",
       "    <tr>\n",
       "      <th>0</th>\n",
       "      <td>TNF</td>\n",
       "      <td>7124</td>\n",
       "      <td>ENSG00000232810</td>\n",
       "      <td>protein-coding</td>\n",
       "      <td>0.229</td>\n",
       "      <td>0.958</td>\n",
       "      <td>8.568700e-01</td>\n",
       "      <td>P01375, Q5STB3</td>\n",
       "      <td>DTO_05007599</td>\n",
       "      <td>Signaling</td>\n",
       "      <td>...</td>\n",
       "      <td>NaN</td>\n",
       "      <td>0.75</td>\n",
       "      <td>NaN</td>\n",
       "      <td>NaN</td>\n",
       "      <td>NaN</td>\n",
       "      <td>0.666667</td>\n",
       "      <td>C0041466</td>\n",
       "      <td>2910</td>\n",
       "      <td>A01.0</td>\n",
       "      <td>Tumor necrosis factor (Cachectin) (TNF-alpha) ...</td>\n",
       "    </tr>\n",
       "    <tr>\n",
       "      <th>1</th>\n",
       "      <td>CFTR</td>\n",
       "      <td>1080</td>\n",
       "      <td>ENSG00000001626</td>\n",
       "      <td>protein-coding</td>\n",
       "      <td>0.384</td>\n",
       "      <td>0.875</td>\n",
       "      <td>2.164600e-39</td>\n",
       "      <td>P13569</td>\n",
       "      <td>DTO_01300327</td>\n",
       "      <td>Ion channel</td>\n",
       "      <td>...</td>\n",
       "      <td>NaN</td>\n",
       "      <td>0.70</td>\n",
       "      <td>NaN</td>\n",
       "      <td>NaN</td>\n",
       "      <td>NaN</td>\n",
       "      <td>1.000000</td>\n",
       "      <td>C0041466</td>\n",
       "      <td>2910</td>\n",
       "      <td>A01.0</td>\n",
       "      <td>Cystic fibrosis transmembrane conductance regu...</td>\n",
       "    </tr>\n",
       "    <tr>\n",
       "      <th>2</th>\n",
       "      <td>HLA-DRB1</td>\n",
       "      <td>3123</td>\n",
       "      <td>ENSG00000196126</td>\n",
       "      <td>protein-coding</td>\n",
       "      <td>0.366</td>\n",
       "      <td>0.875</td>\n",
       "      <td>NaN</td>\n",
       "      <td>D7RIH8, A0A224MM52, P01911, X5DNQ0, Q5Y7D1</td>\n",
       "      <td>DTO_05007608</td>\n",
       "      <td>Immune response</td>\n",
       "      <td>...</td>\n",
       "      <td>NaN</td>\n",
       "      <td>0.70</td>\n",
       "      <td>2014.0</td>\n",
       "      <td>2014.0</td>\n",
       "      <td>NaN</td>\n",
       "      <td>1.000000</td>\n",
       "      <td>C0041466</td>\n",
       "      <td>2910</td>\n",
       "      <td>A01.0</td>\n",
       "      <td>HLA class II histocompatibility antigen DR bet...</td>\n",
       "    </tr>\n",
       "  </tbody>\n",
       "</table>\n",
       "<p>3 rows × 34 columns</p>\n",
       "</div>"
      ],
      "text/plain": [
       "  Gene_Symbol  Gene_ID        ensemblid    geneNcbiType  geneDSI  geneDPI  \\\n",
       "0         TNF     7124  ENSG00000232810  protein-coding    0.229    0.958   \n",
       "1        CFTR     1080  ENSG00000001626  protein-coding    0.384    0.875   \n",
       "2    HLA-DRB1     3123  ENSG00000196126  protein-coding    0.366    0.875   \n",
       "\n",
       "        genepLI                                  uniprotids protein_classid  \\\n",
       "0  8.568700e-01                              P01375, Q5STB3    DTO_05007599   \n",
       "1  2.164600e-39                                      P13569    DTO_01300327   \n",
       "2           NaN  D7RIH8, A0A224MM52, P01911, X5DNQ0, Q5Y7D1    DTO_05007608   \n",
       "\n",
       "  protein_class_name  ... numberPmidsWithChemsFiltered Association_Score  \\\n",
       "0          Signaling  ...                          NaN              0.75   \n",
       "1        Ion channel  ...                          NaN              0.70   \n",
       "2    Immune response  ...                          NaN              0.70   \n",
       "\n",
       "  yearInitial yearFinal evidence_level evidence_index diseaseid Node_ID  \\\n",
       "0         NaN       NaN            NaN       0.666667  C0041466    2910   \n",
       "1         NaN       NaN            NaN       1.000000  C0041466    2910   \n",
       "2      2014.0    2014.0            NaN       1.000000  C0041466    2910   \n",
       "\n",
       "   ICD_Code                      mapped_protein_names_complete  \n",
       "0     A01.0  Tumor necrosis factor (Cachectin) (TNF-alpha) ...  \n",
       "1     A01.0  Cystic fibrosis transmembrane conductance regu...  \n",
       "2     A01.0  HLA class II histocompatibility antigen DR bet...  \n",
       "\n",
       "[3 rows x 34 columns]"
      ]
     },
     "execution_count": 9,
     "metadata": {},
     "output_type": "execute_result"
    }
   ],
   "source": [
    "df.head(3)"
   ]
  },
  {
   "cell_type": "markdown",
   "id": "346a16fb-0fbb-43fb-be3e-108468c86a70",
   "metadata": {},
   "source": [
    "## No need convert id"
   ]
  },
  {
   "cell_type": "code",
   "execution_count": 28,
   "id": "9ab74137-fbf4-4188-8fd5-666345c0e252",
   "metadata": {},
   "outputs": [],
   "source": [
    "from Bio import ExPASy\n",
    "from Bio import SwissProt"
   ]
  },
  {
   "cell_type": "code",
   "execution_count": 33,
   "id": "df54e2b8-22e4-4fff-a25a-c04779368b19",
   "metadata": {},
   "outputs": [],
   "source": [
    "# 假设UniProt ID\n",
    "uniprot_id = \"Q5STB3\"\n",
    "\n",
    "# 获取蛋白质记录\n",
    "handle = ExPASy.get_sprot_raw(uniprot_id)\n",
    "record = SwissProt.read(handle)"
   ]
  },
  {
   "cell_type": "code",
   "execution_count": 42,
   "id": "63302303-efcf-427a-a521-b34fe8525fb0",
   "metadata": {},
   "outputs": [
    {
     "data": {
      "text/plain": [
       "[{'Name': 'TNF {ECO:0000313|EMBL:AHJ25918.1}',\n",
       "  'Synonyms': ['TNF-alpha {ECO:0000313|EMBL:QCI55733.1}',\n",
       "   'TNFA {ECO:0000313|EMBL:BAF31279.1}',\n",
       "   'TNLG1F {ECO:0000313|EMBL:CTQ86082.1}'],\n",
       "  'ORFNames': ['hCG_43716 {ECO:0000313|EMBL:EAX03424.1}']}]"
      ]
     },
     "execution_count": 42,
     "metadata": {},
     "output_type": "execute_result"
    }
   ],
   "source": [
    "record.gene_name"
   ]
  },
  {
   "cell_type": "markdown",
   "id": "55ba3b64-7c22-4c85-9e81-d82e7a052c1d",
   "metadata": {},
   "source": [
    "## use gene symbols as protein names"
   ]
  },
  {
   "cell_type": "code",
   "execution_count": 51,
   "id": "d0394f43-5273-49bd-90c1-a7441d1bca4b",
   "metadata": {},
   "outputs": [],
   "source": [
    "disGeNet_df = df[['Gene_Symbol', 'ICD_Code']]"
   ]
  },
  {
   "cell_type": "code",
   "execution_count": 52,
   "id": "44bd0344-f3a7-4f5b-8067-ffae70efeb59",
   "metadata": {},
   "outputs": [],
   "source": [
    "disGeNet_df = disGeNet_df.rename(columns={'Gene_Symbol': 'node1', 'ICD_Code': 'node2'})"
   ]
  },
  {
   "cell_type": "code",
   "execution_count": 53,
   "id": "c2196e95-8c71-42b3-834d-26a79200d652",
   "metadata": {},
   "outputs": [],
   "source": [
    "disGeNet_df = disGeNet_df.assign(relationship=1.0)"
   ]
  },
  {
   "cell_type": "code",
   "execution_count": 54,
   "id": "45708551-faea-4456-b2de-083aeaf367ac",
   "metadata": {},
   "outputs": [
    {
     "data": {
      "text/html": [
       "<div>\n",
       "<style scoped>\n",
       "    .dataframe tbody tr th:only-of-type {\n",
       "        vertical-align: middle;\n",
       "    }\n",
       "\n",
       "    .dataframe tbody tr th {\n",
       "        vertical-align: top;\n",
       "    }\n",
       "\n",
       "    .dataframe thead th {\n",
       "        text-align: right;\n",
       "    }\n",
       "</style>\n",
       "<table border=\"1\" class=\"dataframe\">\n",
       "  <thead>\n",
       "    <tr style=\"text-align: right;\">\n",
       "      <th></th>\n",
       "      <th>node1</th>\n",
       "      <th>node2</th>\n",
       "      <th>relationship</th>\n",
       "    </tr>\n",
       "  </thead>\n",
       "  <tbody>\n",
       "    <tr>\n",
       "      <th>0</th>\n",
       "      <td>TNF</td>\n",
       "      <td>A01.0</td>\n",
       "      <td>1.0</td>\n",
       "    </tr>\n",
       "    <tr>\n",
       "      <th>1</th>\n",
       "      <td>CFTR</td>\n",
       "      <td>A01.0</td>\n",
       "      <td>1.0</td>\n",
       "    </tr>\n",
       "    <tr>\n",
       "      <th>2</th>\n",
       "      <td>HLA-DRB1</td>\n",
       "      <td>A01.0</td>\n",
       "      <td>1.0</td>\n",
       "    </tr>\n",
       "  </tbody>\n",
       "</table>\n",
       "</div>"
      ],
      "text/plain": [
       "      node1  node2  relationship\n",
       "0       TNF  A01.0           1.0\n",
       "1      CFTR  A01.0           1.0\n",
       "2  HLA-DRB1  A01.0           1.0"
      ]
     },
     "execution_count": 54,
     "metadata": {},
     "output_type": "execute_result"
    }
   ],
   "source": [
    "disGeNet_df.head(3)"
   ]
  },
  {
   "cell_type": "code",
   "execution_count": 55,
   "id": "70e6c938-18ee-4878-9262-cad731bb9ea6",
   "metadata": {},
   "outputs": [],
   "source": [
    "# 1. 将 node1 列的所有大写字母转为小写\n",
    "disGeNet_df['node1'] = disGeNet_df['node1'].str.lower()\n",
    "\n",
    "# 2. 去除 node2 列中的小数点\n",
    "disGeNet_df['node2'] = disGeNet_df['node2'].str.replace('.', '', regex=False)"
   ]
  },
  {
   "cell_type": "code",
   "execution_count": 56,
   "id": "1c73fe5c-066e-4e58-9df6-2ae2dbea4a84",
   "metadata": {},
   "outputs": [
    {
     "data": {
      "text/html": [
       "<div>\n",
       "<style scoped>\n",
       "    .dataframe tbody tr th:only-of-type {\n",
       "        vertical-align: middle;\n",
       "    }\n",
       "\n",
       "    .dataframe tbody tr th {\n",
       "        vertical-align: top;\n",
       "    }\n",
       "\n",
       "    .dataframe thead th {\n",
       "        text-align: right;\n",
       "    }\n",
       "</style>\n",
       "<table border=\"1\" class=\"dataframe\">\n",
       "  <thead>\n",
       "    <tr style=\"text-align: right;\">\n",
       "      <th></th>\n",
       "      <th>node1</th>\n",
       "      <th>node2</th>\n",
       "      <th>relationship</th>\n",
       "    </tr>\n",
       "  </thead>\n",
       "  <tbody>\n",
       "    <tr>\n",
       "      <th>0</th>\n",
       "      <td>tnf</td>\n",
       "      <td>A010</td>\n",
       "      <td>1.0</td>\n",
       "    </tr>\n",
       "    <tr>\n",
       "      <th>1</th>\n",
       "      <td>cftr</td>\n",
       "      <td>A010</td>\n",
       "      <td>1.0</td>\n",
       "    </tr>\n",
       "    <tr>\n",
       "      <th>2</th>\n",
       "      <td>hla-drb1</td>\n",
       "      <td>A010</td>\n",
       "      <td>1.0</td>\n",
       "    </tr>\n",
       "  </tbody>\n",
       "</table>\n",
       "</div>"
      ],
      "text/plain": [
       "      node1 node2  relationship\n",
       "0       tnf  A010           1.0\n",
       "1      cftr  A010           1.0\n",
       "2  hla-drb1  A010           1.0"
      ]
     },
     "execution_count": 56,
     "metadata": {},
     "output_type": "execute_result"
    }
   ],
   "source": [
    "disGeNet_df.head(3)"
   ]
  },
  {
   "cell_type": "code",
   "execution_count": 57,
   "id": "29d4e66d-228a-40b3-a8b9-bcbce8a1de81",
   "metadata": {},
   "outputs": [],
   "source": [
    "merged_df_long = pd.read_csv('../Data/merged_df_long_convert.txt', sep='\\t', dtype={'node1':str, 'node2': str, 'relationship': float})"
   ]
  },
  {
   "cell_type": "code",
   "execution_count": 58,
   "id": "e0c93064-3023-49e8-ac2d-fe9634f4df64",
   "metadata": {},
   "outputs": [
    {
     "data": {
      "text/html": [
       "<div>\n",
       "<style scoped>\n",
       "    .dataframe tbody tr th:only-of-type {\n",
       "        vertical-align: middle;\n",
       "    }\n",
       "\n",
       "    .dataframe tbody tr th {\n",
       "        vertical-align: top;\n",
       "    }\n",
       "\n",
       "    .dataframe thead th {\n",
       "        text-align: right;\n",
       "    }\n",
       "</style>\n",
       "<table border=\"1\" class=\"dataframe\">\n",
       "  <thead>\n",
       "    <tr style=\"text-align: right;\">\n",
       "      <th></th>\n",
       "      <th>node1</th>\n",
       "      <th>node2</th>\n",
       "      <th>relationship</th>\n",
       "    </tr>\n",
       "  </thead>\n",
       "  <tbody>\n",
       "    <tr>\n",
       "      <th>0</th>\n",
       "      <td>1002133</td>\n",
       "      <td>I802</td>\n",
       "      <td>1.0</td>\n",
       "    </tr>\n",
       "    <tr>\n",
       "      <th>1</th>\n",
       "      <td>1002133</td>\n",
       "      <td>M1997</td>\n",
       "      <td>1.0</td>\n",
       "    </tr>\n",
       "    <tr>\n",
       "      <th>2</th>\n",
       "      <td>1002133</td>\n",
       "      <td>M201</td>\n",
       "      <td>1.0</td>\n",
       "    </tr>\n",
       "  </tbody>\n",
       "</table>\n",
       "</div>"
      ],
      "text/plain": [
       "     node1  node2  relationship\n",
       "0  1002133   I802           1.0\n",
       "1  1002133  M1997           1.0\n",
       "2  1002133   M201           1.0"
      ]
     },
     "execution_count": 58,
     "metadata": {},
     "output_type": "execute_result"
    }
   ],
   "source": [
    "merged_df_long.head(3)"
   ]
  },
  {
   "cell_type": "code",
   "execution_count": 63,
   "id": "95e41b28-bf30-4249-ba21-6e815dca09ef",
   "metadata": {},
   "outputs": [
    {
     "name": "stdout",
     "output_type": "stream",
     "text": [
      "7690 unique elements in disGeNet_df node1 column.\n",
      "去重后，disGeNet_df 的 node1 列中有 1547 个元素存在于 merged_df_long 的 node1 或 node2 列中。\n",
      "1356 unique elements in disGeNet_df node1 column.\n",
      "去重后，disGeNet_df 的 node1 列中有 1356 个元素存在于 merged_df_long 的 node1 或 node2 列中。\n"
     ]
    }
   ],
   "source": [
    "# 1. 将 merged_df_long 的 node1 和 node2 列合并为一个集合（用于高效查找）\n",
    "merged_nodes = set(merged_df_long['node1']) | set(merged_df_long['node2'])\n",
    "\n",
    "# 2. 对 disGeNet_df['node1'] 去重，获取唯一元素\n",
    "unique_nodes_node1 = disGeNet_df['node1'].unique()  # 返回 numpy 数组\n",
    "\n",
    "# 3. 检查去重后的元素有多少存在于 merged_nodes 中\n",
    "unique_matches_node1 = pd.Series(unique_nodes_node1).isin(merged_nodes).sum()\n",
    "\n",
    "print(f\"{len(unique_nodes_node1)} unique elements in disGeNet_df node1 column.\")\n",
    "print(f\"去重后，disGeNet_df 的 node1 列中有 {unique_matches_node1} 个元素存在于 merged_df_long 的 node1 或 node2 列中。\")\n",
    "\n",
    "####\n",
    "# 2. 对 disGeNet_df['node2'] 去重，获取唯一元素\n",
    "unique_nodes_node2 = disGeNet_df['node2'].unique()  # 返回 numpy 数组\n",
    "\n",
    "# 3. 检查去重后的元素有多少存在于 merged_nodes 中\n",
    "unique_matches_node2 = pd.Series(unique_nodes_node2).isin(merged_nodes).sum()\n",
    "\n",
    "print(f\"{len(unique_nodes_node2)} unique elements in disGeNet_df node1 column.\")\n",
    "print(f\"去重后，disGeNet_df 的 node1 列中有 {unique_matches_node2} 个元素存在于 merged_df_long 的 node1 或 node2 列中。\")"
   ]
  },
  {
   "cell_type": "markdown",
   "id": "36142cfe-3de0-4868-bcaf-294dbb3db42e",
   "metadata": {},
   "source": [
    "#### I think we should add all known disease-gene pairs from disGeNet, but not only inlcude overlap nodes. Because the detected proteins in Olink data is limitted by the Olink technology, but the known pairs in disGeNet are from various techologies."
   ]
  },
  {
   "cell_type": "code",
   "execution_count": 64,
   "id": "5fbf69fb-8704-49d4-afc1-012532459764",
   "metadata": {},
   "outputs": [],
   "source": [
    "# add disGeNet gene-disease pairs\n",
    "merged_df_add_disGeNet = pd.concat([merged_df_long, disGeNet_df], ignore_index=True)"
   ]
  },
  {
   "cell_type": "code",
   "execution_count": 65,
   "id": "441541bd-1daa-43ea-a870-84c287c6423a",
   "metadata": {},
   "outputs": [
    {
     "data": {
      "text/plain": [
       "(1681546, 3)"
      ]
     },
     "execution_count": 65,
     "metadata": {},
     "output_type": "execute_result"
    }
   ],
   "source": [
    "merged_df_add_disGeNet.shape"
   ]
  },
  {
   "cell_type": "code",
   "execution_count": 66,
   "id": "34141a28-cdfe-4177-bf1f-5abed7ca79c2",
   "metadata": {},
   "outputs": [
    {
     "data": {
      "text/plain": [
       "(1650665, 3)"
      ]
     },
     "execution_count": 66,
     "metadata": {},
     "output_type": "execute_result"
    }
   ],
   "source": [
    "merged_df_long.shape"
   ]
  },
  {
   "cell_type": "code",
   "execution_count": 67,
   "id": "c2472482-fdc8-45e3-8032-9a43409743f5",
   "metadata": {},
   "outputs": [
    {
     "data": {
      "text/plain": [
       "(30881, 3)"
      ]
     },
     "execution_count": 67,
     "metadata": {},
     "output_type": "execute_result"
    }
   ],
   "source": [
    "disGeNet_df.shape"
   ]
  },
  {
   "cell_type": "code",
   "execution_count": 68,
   "id": "568026c1-aff4-4306-8d91-47db1e30f643",
   "metadata": {},
   "outputs": [],
   "source": [
    "# 保存为以制表符分隔的文本文件 \n",
    "merged_df_add_disGeNet.to_csv('../Data/merged_df_add_disGeNet.txt', sep='\\t', na_rep='nan', index=False)"
   ]
  },
  {
   "cell_type": "markdown",
   "id": "48f882bb-2bdd-4cf3-be05-39319ea2c6d6",
   "metadata": {},
   "source": [
    "#### For new nodes need correspong embedding features, we use overlap nodes firstly."
   ]
  },
  {
   "cell_type": "code",
   "execution_count": 71,
   "id": "fb502ac0-2828-429d-88d5-de3297de8900",
   "metadata": {},
   "outputs": [],
   "source": [
    "merged_nodes = set(merged_df_long['node1']) | set(merged_df_long['node2'])\n",
    "\n",
    "# 筛选 disGeNet_df 中 node1 存在于 merged_nodes 的行\n",
    "filtered_df = disGeNet_df[\n",
    "    disGeNet_df['node1'].isin(merged_nodes)\n",
    "]"
   ]
  },
  {
   "cell_type": "code",
   "execution_count": 72,
   "id": "e690d44e-8c69-45eb-b908-5f53977f6c16",
   "metadata": {},
   "outputs": [
    {
     "name": "stdout",
     "output_type": "stream",
     "text": [
      "disGeNet_df行数: 30881\n",
      "筛选后的数据行数: 9740\n",
      "   node1 node2  relationship\n",
      "0    tnf  A010           1.0\n",
      "3    lta  A010           1.0\n",
      "5  il12b  A020           1.0\n",
      "6   mbl2  A072           1.0\n",
      "7  cxcl8   A23           1.0\n"
     ]
    }
   ],
   "source": [
    "print(f\"disGeNet_df行数: {len(disGeNet_df)}\")\n",
    "print(f\"筛选后的数据行数: {len(filtered_df)}\")\n",
    "print(filtered_df.head())"
   ]
  },
  {
   "cell_type": "code",
   "execution_count": 74,
   "id": "7d4ed52c-c308-44a9-b63c-ab63794761fc",
   "metadata": {},
   "outputs": [],
   "source": [
    "# add filtered disGeNet gene-disease pairs\n",
    "merged_df_add_filtered_disGeNet = pd.concat([merged_df_long, filtered_df], ignore_index=True)"
   ]
  },
  {
   "cell_type": "code",
   "execution_count": 75,
   "id": "3c9bcfd3-a4f3-48d8-a2a9-201ccde72b29",
   "metadata": {},
   "outputs": [],
   "source": [
    "# 保存为以制表符分隔的文本文件 \n",
    "merged_df_add_filtered_disGeNet.to_csv('../Data/merged_df_add_filtered_disGeNet.txt', sep='\\t', na_rep='nan', index=False)"
   ]
  },
  {
   "cell_type": "markdown",
   "id": "4a0b58f4-bd1f-4641-8748-5c335e8754cd",
   "metadata": {},
   "source": [
    "## prepare input data"
   ]
  },
  {
   "cell_type": "code",
   "execution_count": 95,
   "id": "e5c8b87c-c02f-440b-94e6-e59815a3071b",
   "metadata": {},
   "outputs": [],
   "source": [
    "import numpy as np\n",
    "import os\n",
    "from scipy.sparse import csr_matrix\n",
    "from utils import N2V\n",
    "import pandas as pd\n",
    "from fastnode2vec import Graph, Node2Vec \n",
    "import pickle\n",
    "import json"
   ]
  },
  {
   "cell_type": "code",
   "execution_count": 98,
   "id": "3560bb63-86a9-4123-9c48-2d7177947cf8",
   "metadata": {},
   "outputs": [],
   "source": [
    "adj_path = '../Data/merged_df_add_filtered_disGeNet.txt'"
   ]
  },
  {
   "cell_type": "code",
   "execution_count": 99,
   "id": "9b8b3199-852b-4030-8702-9cf0cfadf7d0",
   "metadata": {},
   "outputs": [
    {
     "data": {
      "text/html": [
       "<div>\n",
       "<style scoped>\n",
       "    .dataframe tbody tr th:only-of-type {\n",
       "        vertical-align: middle;\n",
       "    }\n",
       "\n",
       "    .dataframe tbody tr th {\n",
       "        vertical-align: top;\n",
       "    }\n",
       "\n",
       "    .dataframe thead th {\n",
       "        text-align: right;\n",
       "    }\n",
       "</style>\n",
       "<table border=\"1\" class=\"dataframe\">\n",
       "  <thead>\n",
       "    <tr style=\"text-align: right;\">\n",
       "      <th></th>\n",
       "      <th>node1</th>\n",
       "      <th>node2</th>\n",
       "      <th>relationship</th>\n",
       "    </tr>\n",
       "  </thead>\n",
       "  <tbody>\n",
       "    <tr>\n",
       "      <th>0</th>\n",
       "      <td>1002133</td>\n",
       "      <td>I802</td>\n",
       "      <td>1.0</td>\n",
       "    </tr>\n",
       "    <tr>\n",
       "      <th>1</th>\n",
       "      <td>1002133</td>\n",
       "      <td>M1997</td>\n",
       "      <td>1.0</td>\n",
       "    </tr>\n",
       "  </tbody>\n",
       "</table>\n",
       "</div>"
      ],
      "text/plain": [
       "     node1  node2  relationship\n",
       "0  1002133   I802           1.0\n",
       "1  1002133  M1997           1.0"
      ]
     },
     "execution_count": 99,
     "metadata": {},
     "output_type": "execute_result"
    }
   ],
   "source": [
    "merged_df = pd.read_csv(adj_path, sep='\\t',\n",
    "    dtype={'node1': str, 'node2': str, 'relationship': float} )\n",
    "merged_df.head(2)"
   ]
  },
  {
   "cell_type": "code",
   "execution_count": 100,
   "id": "16ae2e7b-76a1-4e9b-880a-54b0f7c64c26",
   "metadata": {},
   "outputs": [
    {
     "name": "stderr",
     "output_type": "stream",
     "text": [
      "                                                                                                                                                                                                                                                                                                                                    "
     ]
    }
   ],
   "source": [
    "X, A, Y = [], None, []\n",
    "n_node = 0\n",
    "\n",
    "# Acquire Edges\n",
    "edge_list = []\n",
    "node_list = []\n",
    "node_type = {}\n",
    "relationship_list = []\n",
    "\n",
    "with open(adj_path, 'rt', encoding='utf-8') as f:\n",
    "    next(f)\n",
    "    for line in f.readlines():\n",
    "        node1, node2, relationship, *_ = line.strip().split('\\t')\n",
    "        edge_list.append((node1, node2))\n",
    "        node_list.extend([node1, node2])\n",
    "        relationship_list.append(relationship)\n",
    "\n",
    "node_map = {item: i for i, item in enumerate(sorted(list(set(node_list))))}\n",
    "n_node = len(node_map)\n",
    "\n",
    "# 使用稀疏矩阵存储邻接关系\n",
    "row = []\n",
    "col = []\n",
    "data = []\n",
    "for i, (node1, node2) in enumerate(edge_list):\n",
    "    row.append(node_map[node1])\n",
    "    col.append(node_map[node2])\n",
    "    data.append(relationship_list[i])  # 使用实际的关系值\n",
    "    row.append(node_map[node2])\n",
    "    col.append(node_map[node1])\n",
    "    data.append(relationship_list[i])  # 使用实际的关系值\n",
    "A = csr_matrix((data, (row, col)), shape=(n_node, n_node), dtype=np.float32)\n",
    "\n",
    "adj_matrix = pd.read_csv(adj_path, sep='\\t',\n",
    "    dtype={'node1': str, 'node2': str, 'relationship': float})\n",
    "# 构建图所需的边列表\n",
    "edges = [(row['node1'], row['node2'], row['relationship']) for _, row in adj_matrix.iterrows()]\n",
    "\n",
    "# 构建图\n",
    "graph = Graph(edges, directed=False, weighted=True)"
   ]
  },
  {
   "cell_type": "code",
   "execution_count": 101,
   "id": "bc3d4a31-0915-4bcf-9a42-bfcfb3044150",
   "metadata": {},
   "outputs": [
    {
     "data": {
      "text/plain": [
       "array(['1002133', 'I802', 'M1997', ..., 'Z90', 'Z994', 'Z99'],\n",
       "      dtype='<U86')"
      ]
     },
     "execution_count": 101,
     "metadata": {},
     "output_type": "execute_result"
    }
   ],
   "source": [
    "graph.node_names"
   ]
  },
  {
   "cell_type": "code",
   "execution_count": 102,
   "id": "bcb6d74a-67b0-47b7-aaa1-1f9499b30296",
   "metadata": {},
   "outputs": [
    {
     "data": {
      "text/plain": [
       "<fastnode2vec.graph.Graph at 0x7fa694a4f350>"
      ]
     },
     "execution_count": 102,
     "metadata": {},
     "output_type": "execute_result"
    }
   ],
   "source": [
    "graph"
   ]
  },
  {
   "cell_type": "code",
   "execution_count": 103,
   "id": "8c52aa72-12ec-4176-a773-be2d0dac6708",
   "metadata": {},
   "outputs": [],
   "source": [
    "# 保存图对象\n",
    "with open('../Data/graph_add_filtered_disGeNet.pkl', 'wb') as f:\n",
    "    pickle.dump(graph, f)"
   ]
  },
  {
   "cell_type": "code",
   "execution_count": 85,
   "id": "24f6da61-fe7c-4fed-8030-d2a2145f438f",
   "metadata": {},
   "outputs": [],
   "source": [
    "with open('../Data/gpt_protein_embeddings_dict.pkl', 'rb') as f:\n",
    "    protein_embeddings_dict = pickle.load(f)"
   ]
  },
  {
   "cell_type": "code",
   "execution_count": 86,
   "id": "cd5cf635-fc42-4714-a2f1-e0b285725fdc",
   "metadata": {},
   "outputs": [],
   "source": [
    "with open('../Data/gpt_embeddings_dict.pkl', 'rb') as f:\n",
    "    embeddings_dict = pickle.load(f)"
   ]
  },
  {
   "cell_type": "code",
   "execution_count": 87,
   "id": "53e1c07e-e683-4d96-b94d-67dc5285a6da",
   "metadata": {},
   "outputs": [],
   "source": [
    "with open('../Data/metabolite_embeddings_dict.pkl', 'rb') as f:\n",
    "    metabolite_embeddings_dict = pickle.load(f)"
   ]
  },
  {
   "cell_type": "code",
   "execution_count": 88,
   "id": "241e5c35-1c9a-46f4-afa3-25ae96c608bf",
   "metadata": {},
   "outputs": [],
   "source": [
    "with open('../Data/icd10_embeddings_dict.pkl', 'rb') as f:\n",
    "    icd10_embeddings_dict = pickle.load(f)"
   ]
  },
  {
   "cell_type": "code",
   "execution_count": 90,
   "id": "0724989e-eeb2-4ea1-b4e6-549da5c3e43e",
   "metadata": {},
   "outputs": [],
   "source": [
    "# 创建新字典，保留原始字典不变\n",
    "merged_dict = {**protein_embeddings_dict, **embeddings_dict, **metabolite_embeddings_dict, **icd10_embeddings_dict}"
   ]
  },
  {
   "cell_type": "code",
   "execution_count": 93,
   "id": "95e02948-0c8f-46ca-97be-568d0198ed73",
   "metadata": {},
   "outputs": [
    {
     "name": "stdout",
     "output_type": "stream",
     "text": [
      "矩阵形状: (49373, 1536)\n",
      "前3行:\n",
      " [[-0.0182373  -0.02098356  0.02359651 ... -0.01561102 -0.01053844\n",
      "  -0.00612576]\n",
      " [-0.02499108 -0.0067757   0.02219337 ... -0.02719697 -0.01021568\n",
      "  -0.02587882]\n",
      " [ 0.00454228 -0.00239301  0.02163428 ... -0.01282641 -0.01000684\n",
      "  -0.05185902]]\n"
     ]
    }
   ],
   "source": [
    "# 提取所有键并保持顺序（Python 3.7+ 字典保持插入顺序）\n",
    "keys = list(graph.node_names)\n",
    "\n",
    "# 将字典值转换为NumPy矩阵（每行一个向量）\n",
    "matrix = np.array([merged_dict[key] for key in keys])\n",
    "\n",
    "# 检查矩阵形状\n",
    "print(\"矩阵形状:\", matrix.shape)  # 输出: (47626, 向量维度)\n",
    "\n",
    "# 示例：查看前3行\n",
    "print(\"前3行:\\n\", matrix[:3])"
   ]
  },
  {
   "cell_type": "code",
   "execution_count": 96,
   "id": "3c72a893-1088-4d30-8e38-36a06b29b344",
   "metadata": {},
   "outputs": [],
   "source": [
    "# 保存\n",
    "with open('../Data/keys_add_filtered_disGeNet.json', 'w') as f:\n",
    "    json.dump(keys, f)"
   ]
  },
  {
   "cell_type": "code",
   "execution_count": 97,
   "id": "e52a1432-b52a-4b2e-83e3-ae84bd5c4da2",
   "metadata": {},
   "outputs": [],
   "source": [
    "np.save('../Data/UKB_node_feature_gpt_add_filtered_disGeNet.npy', matrix)"
   ]
  },
  {
   "cell_type": "code",
   "execution_count": null,
   "id": "78bbabf3-90a9-45ee-aefb-263bad94b1b0",
   "metadata": {},
   "outputs": [],
   "source": []
  },
  {
   "cell_type": "code",
   "execution_count": null,
   "id": "7a275091-511d-415a-98cb-2397bafc2f08",
   "metadata": {},
   "outputs": [],
   "source": []
  }
 ],
 "metadata": {
  "kernelspec": {
   "display_name": "GAT",
   "language": "python",
   "name": "gat"
  },
  "language_info": {
   "codemirror_mode": {
    "name": "ipython",
    "version": 3
   },
   "file_extension": ".py",
   "mimetype": "text/x-python",
   "name": "python",
   "nbconvert_exporter": "python",
   "pygments_lexer": "ipython3",
   "version": "3.12.10"
  }
 },
 "nbformat": 4,
 "nbformat_minor": 5
}
