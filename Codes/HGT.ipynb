{
 "cells": [
  {
   "cell_type": "markdown",
   "id": "188e3cc0-a174-4c76-afb2-6bdf08b5faed",
   "metadata": {},
   "source": [
    "https://blog.csdn.net/ARPOSPF/article/details/129929274#:~:text=%E6%9C%AC%E6%96%87%E4%BB%8B%E7%BB%8D%E4%BA%86%E5%A6%82%E4%BD%95%E4%BD%BF%E7%94%A8PyG%E5%BA%93%E4%BB%8E%E9%9B%B6%E5%BC%80%E5%A7%8B%E5%88%9B%E5%BB%BA%E5%BC%82%E6%9E%84%E5%9B%BE%EF%BC%8C%E4%BB%A5MovieLens%E6%95%B0%E6%8D%AE%E9%9B%86%E4%B8%BA%E4%BE%8B%E5%B1%95%E7%A4%BA%E4%BA%86%E5%A6%82%E4%BD%95%E5%A4%84%E7%90%86%E5%8C%85%E5%90%AB%E5%A4%9A%E7%A7%8D%E8%8A%82%E7%82%B9%E7%B1%BB%E5%9E%8B%E5%92%8C%E8%BE%B9%E7%B1%BB%E5%9E%8B%E7%9A%84%E5%9B%BE%E3%80%82,%E9%80%9A%E8%BF%87SentenceTransformers%E5%BA%93%E5%AF%B9%E8%8A%82%E7%82%B9%E8%BF%9B%E8%A1%8C%E5%B5%8C%E5%85%A5%E8%A1%A8%E7%A4%BA%EF%BC%8C%E7%84%B6%E5%90%8E%E6%9E%84%E5%BB%BA%E4%BA%8C%E5%88%86%E5%9B%BE%E6%95%B0%E6%8D%AE%E9%9B%86%E3%80%82%20%E6%8E%A5%E7%9D%80%EF%BC%8C%E5%B0%86%E6%95%B0%E6%8D%AE%E9%9B%86%E8%BD%AC%E6%8D%A2%E4%B8%BA%E5%8F%AF%E8%AE%AD%E7%BB%83%E7%9A%84%E5%BD%A2%E5%BC%8F%EF%BC%8C%E4%BD%BF%E7%94%A8ToUndirected%E5%92%8CRandomLinkSplit%E8%BF%9B%E8%A1%8C%E6%97%A0%E5%90%91%E5%9B%BE%E8%BD%AC%E6%8D%A2%E5%92%8C%E6%95%B0%E6%8D%AE%E9%9B%86%E5%88%92%E5%88%86%E3%80%82"
   ]
  },
  {
   "cell_type": "code",
   "execution_count": null,
   "id": "a0a25507-7842-4b52-9d91-a4bb53393085",
   "metadata": {},
   "outputs": [],
   "source": []
  },
  {
   "cell_type": "code",
   "execution_count": null,
   "id": "b1464768-52f9-45c0-ba9b-fbcc5d9a5206",
   "metadata": {},
   "outputs": [],
   "source": []
  },
  {
   "cell_type": "code",
   "execution_count": null,
   "id": "2480b10f-72b6-4cfc-9de5-33a5130e1f29",
   "metadata": {},
   "outputs": [],
   "source": []
  },
  {
   "cell_type": "code",
   "execution_count": null,
   "id": "a009b536-d007-4bd5-b475-d169af86ee03",
   "metadata": {},
   "outputs": [],
   "source": []
  },
  {
   "cell_type": "code",
   "execution_count": null,
   "id": "2eca19e8-8874-4b28-8b11-b9d362b5abe7",
   "metadata": {},
   "outputs": [],
   "source": []
  },
  {
   "cell_type": "code",
   "execution_count": null,
   "id": "40a040b7-6758-45c8-913c-350c9a9a5291",
   "metadata": {},
   "outputs": [],
   "source": []
  }
 ],
 "metadata": {
  "kernelspec": {
   "display_name": "GAT",
   "language": "python",
   "name": "gat"
  },
  "language_info": {
   "codemirror_mode": {
    "name": "ipython",
    "version": 3
   },
   "file_extension": ".py",
   "mimetype": "text/x-python",
   "name": "python",
   "nbconvert_exporter": "python",
   "pygments_lexer": "ipython3",
   "version": "3.12.10"
  }
 },
 "nbformat": 4,
 "nbformat_minor": 5
}
