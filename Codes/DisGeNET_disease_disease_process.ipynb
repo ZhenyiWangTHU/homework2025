{
 "cells": [
  {
   "cell_type": "code",
   "execution_count": 1,
   "id": "de62c705-6fa6-4a85-b5c9-609d9936ae00",
   "metadata": {},
   "outputs": [],
   "source": [
    "import pandas as pd"
   ]
  },
  {
   "cell_type": "code",
   "execution_count": 2,
   "id": "709882cf-3f7f-433e-94b3-041101a79995",
   "metadata": {},
   "outputs": [],
   "source": [
    "# 读取 Excel 文件\n",
    "df = pd.read_excel('../Data/DisGeNET_Complete_Results_disease_disease_association.xlsx')"
   ]
  },
  {
   "cell_type": "code",
   "execution_count": 3,
   "id": "c0af5fb3-e6dd-4329-b671-cbd779713896",
   "metadata": {},
   "outputs": [
    {
     "data": {
      "text/html": [
       "<div>\n",
       "<style scoped>\n",
       "    .dataframe tbody tr th:only-of-type {\n",
       "        vertical-align: middle;\n",
       "    }\n",
       "\n",
       "    .dataframe tbody tr th {\n",
       "        vertical-align: top;\n",
       "    }\n",
       "\n",
       "    .dataframe thead th {\n",
       "        text-align: right;\n",
       "    }\n",
       "</style>\n",
       "<table border=\"1\" class=\"dataframe\">\n",
       "  <thead>\n",
       "    <tr style=\"text-align: right;\">\n",
       "      <th></th>\n",
       "      <th>assocID</th>\n",
       "      <th>disease1_Vocabularies</th>\n",
       "      <th>disease1_Name</th>\n",
       "      <th>disease1_Type</th>\n",
       "      <th>disease1_Classes_MSH</th>\n",
       "      <th>disease1_Classes_UMLS_ST</th>\n",
       "      <th>disease1_Classes_DO</th>\n",
       "      <th>disease1_Classes_HPO</th>\n",
       "      <th>disease2_Vocabularies</th>\n",
       "      <th>disease2_Name</th>\n",
       "      <th>...</th>\n",
       "      <th>ddaRelation</th>\n",
       "      <th>pvalue_jaccard_genes</th>\n",
       "      <th>pvalue_jaccard_variants</th>\n",
       "      <th>sokal</th>\n",
       "      <th>diseaseid1</th>\n",
       "      <th>diseaseid2</th>\n",
       "      <th>query</th>\n",
       "      <th>Source_Node_ID</th>\n",
       "      <th>Source_ICD_Code</th>\n",
       "      <th>Source_Disease_Name</th>\n",
       "    </tr>\n",
       "  </thead>\n",
       "  <tbody>\n",
       "    <tr>\n",
       "      <th>0</th>\n",
       "      <td>3IVJdZMBL4gz0CyBbYeZ</td>\n",
       "      <td>MESH_D007918, ICD10_A30.9, ICD10_A30, ICD9CM_0...</td>\n",
       "      <td>Leprosy</td>\n",
       "      <td>disease</td>\n",
       "      <td>Infections (C01)</td>\n",
       "      <td>Disease or Syndrome (T047)</td>\n",
       "      <td>disease by infectious agent (0050117)</td>\n",
       "      <td>NaN</td>\n",
       "      <td>ICD10_K51, MESH_D003093, ICD10_K51.9, OMIM_266...</td>\n",
       "      <td>Ulcerative colitis</td>\n",
       "      <td>...</td>\n",
       "      <td>NaN</td>\n",
       "      <td>8.2</td>\n",
       "      <td>4.6</td>\n",
       "      <td>NaN</td>\n",
       "      <td>C0023343</td>\n",
       "      <td>C0009324</td>\n",
       "      <td>C0023343</td>\n",
       "      <td>4530</td>\n",
       "      <td>A30</td>\n",
       "      <td>Leprosy [Hansen's disease]</td>\n",
       "    </tr>\n",
       "    <tr>\n",
       "      <th>1</th>\n",
       "      <td>TyeJcZMBL4gz0CyB7Ien</td>\n",
       "      <td>MESH_D007918, ICD10_A30.9, ICD10_A30, ICD9CM_0...</td>\n",
       "      <td>Leprosy</td>\n",
       "      <td>disease</td>\n",
       "      <td>Infections (C01)</td>\n",
       "      <td>Disease or Syndrome (T047)</td>\n",
       "      <td>disease by infectious agent (0050117)</td>\n",
       "      <td>NaN</td>\n",
       "      <td>MESH_D015212, NCI_C3138, HPO_HP:0002037, DO_00...</td>\n",
       "      <td>Inflammatory Bowel Diseases</td>\n",
       "      <td>...</td>\n",
       "      <td>NaN</td>\n",
       "      <td>6.8</td>\n",
       "      <td>10.3</td>\n",
       "      <td>NaN</td>\n",
       "      <td>C0023343</td>\n",
       "      <td>C0021390</td>\n",
       "      <td>C0023343</td>\n",
       "      <td>4530</td>\n",
       "      <td>A30</td>\n",
       "      <td>Leprosy [Hansen's disease]</td>\n",
       "    </tr>\n",
       "    <tr>\n",
       "      <th>2</th>\n",
       "      <td>Pgx4cJMBL4gz0CyBbIL2</td>\n",
       "      <td>MESH_D007918, ICD10_A30.9, ICD10_A30, ICD9CM_0...</td>\n",
       "      <td>Leprosy</td>\n",
       "      <td>disease</td>\n",
       "      <td>Infections (C01)</td>\n",
       "      <td>Disease or Syndrome (T047)</td>\n",
       "      <td>disease by infectious agent (0050117)</td>\n",
       "      <td>NaN</td>\n",
       "      <td>MESH_D003424, ICD10_K50, ICD10_K50.9, OMIM_266...</td>\n",
       "      <td>Crohn Disease</td>\n",
       "      <td>...</td>\n",
       "      <td>NaN</td>\n",
       "      <td>2.2</td>\n",
       "      <td>22.0</td>\n",
       "      <td>NaN</td>\n",
       "      <td>C0023343</td>\n",
       "      <td>C0010346</td>\n",
       "      <td>C0023343</td>\n",
       "      <td>4530</td>\n",
       "      <td>A30</td>\n",
       "      <td>Leprosy [Hansen's disease]</td>\n",
       "    </tr>\n",
       "  </tbody>\n",
       "</table>\n",
       "<p>3 rows × 36 columns</p>\n",
       "</div>"
      ],
      "text/plain": [
       "                assocID                              disease1_Vocabularies  \\\n",
       "0  3IVJdZMBL4gz0CyBbYeZ  MESH_D007918, ICD10_A30.9, ICD10_A30, ICD9CM_0...   \n",
       "1  TyeJcZMBL4gz0CyB7Ien  MESH_D007918, ICD10_A30.9, ICD10_A30, ICD9CM_0...   \n",
       "2  Pgx4cJMBL4gz0CyBbIL2  MESH_D007918, ICD10_A30.9, ICD10_A30, ICD9CM_0...   \n",
       "\n",
       "  disease1_Name disease1_Type disease1_Classes_MSH  \\\n",
       "0       Leprosy       disease     Infections (C01)   \n",
       "1       Leprosy       disease     Infections (C01)   \n",
       "2       Leprosy       disease     Infections (C01)   \n",
       "\n",
       "     disease1_Classes_UMLS_ST                    disease1_Classes_DO  \\\n",
       "0  Disease or Syndrome (T047)  disease by infectious agent (0050117)   \n",
       "1  Disease or Syndrome (T047)  disease by infectious agent (0050117)   \n",
       "2  Disease or Syndrome (T047)  disease by infectious agent (0050117)   \n",
       "\n",
       "  disease1_Classes_HPO                              disease2_Vocabularies  \\\n",
       "0                  NaN  ICD10_K51, MESH_D003093, ICD10_K51.9, OMIM_266...   \n",
       "1                  NaN  MESH_D015212, NCI_C3138, HPO_HP:0002037, DO_00...   \n",
       "2                  NaN  MESH_D003424, ICD10_K50, ICD10_K50.9, OMIM_266...   \n",
       "\n",
       "                 disease2_Name  ... ddaRelation pvalue_jaccard_genes  \\\n",
       "0           Ulcerative colitis  ...         NaN                  8.2   \n",
       "1  Inflammatory Bowel Diseases  ...         NaN                  6.8   \n",
       "2                Crohn Disease  ...         NaN                  2.2   \n",
       "\n",
       "  pvalue_jaccard_variants sokal diseaseid1 diseaseid2     query  \\\n",
       "0                     4.6   NaN   C0023343   C0009324  C0023343   \n",
       "1                    10.3   NaN   C0023343   C0021390  C0023343   \n",
       "2                    22.0   NaN   C0023343   C0010346  C0023343   \n",
       "\n",
       "   Source_Node_ID  Source_ICD_Code         Source_Disease_Name  \n",
       "0            4530              A30  Leprosy [Hansen's disease]  \n",
       "1            4530              A30  Leprosy [Hansen's disease]  \n",
       "2            4530              A30  Leprosy [Hansen's disease]  \n",
       "\n",
       "[3 rows x 36 columns]"
      ]
     },
     "execution_count": 3,
     "metadata": {},
     "output_type": "execute_result"
    }
   ],
   "source": [
    "df.head(3)"
   ]
  },
  {
   "cell_type": "code",
   "execution_count": 4,
   "id": "4baf015c-8157-4b3b-82d7-fb12273101e3",
   "metadata": {},
   "outputs": [],
   "source": [
    "df = df[['disease2_Vocabularies', 'Source_ICD_Code']]"
   ]
  },
  {
   "cell_type": "code",
   "execution_count": 5,
   "id": "5feb6426-0e58-40ff-aab8-ec7041f083e7",
   "metadata": {},
   "outputs": [
    {
     "data": {
      "text/html": [
       "<div>\n",
       "<style scoped>\n",
       "    .dataframe tbody tr th:only-of-type {\n",
       "        vertical-align: middle;\n",
       "    }\n",
       "\n",
       "    .dataframe tbody tr th {\n",
       "        vertical-align: top;\n",
       "    }\n",
       "\n",
       "    .dataframe thead th {\n",
       "        text-align: right;\n",
       "    }\n",
       "</style>\n",
       "<table border=\"1\" class=\"dataframe\">\n",
       "  <thead>\n",
       "    <tr style=\"text-align: right;\">\n",
       "      <th></th>\n",
       "      <th>disease2_Vocabularies</th>\n",
       "      <th>Source_ICD_Code</th>\n",
       "    </tr>\n",
       "  </thead>\n",
       "  <tbody>\n",
       "    <tr>\n",
       "      <th>0</th>\n",
       "      <td>ICD10_K51, MESH_D003093, ICD10_K51.9, OMIM_266...</td>\n",
       "      <td>A30</td>\n",
       "    </tr>\n",
       "    <tr>\n",
       "      <th>1</th>\n",
       "      <td>MESH_D015212, NCI_C3138, HPO_HP:0002037, DO_00...</td>\n",
       "      <td>A30</td>\n",
       "    </tr>\n",
       "  </tbody>\n",
       "</table>\n",
       "</div>"
      ],
      "text/plain": [
       "                               disease2_Vocabularies Source_ICD_Code\n",
       "0  ICD10_K51, MESH_D003093, ICD10_K51.9, OMIM_266...             A30\n",
       "1  MESH_D015212, NCI_C3138, HPO_HP:0002037, DO_00...             A30"
      ]
     },
     "execution_count": 5,
     "metadata": {},
     "output_type": "execute_result"
    }
   ],
   "source": [
    "df.head(2)"
   ]
  },
  {
   "cell_type": "code",
   "execution_count": 6,
   "id": "922b060e-c46d-4d1a-ba75-d60d549bc6a7",
   "metadata": {},
   "outputs": [],
   "source": [
    "df = df.rename(columns={'disease2_Vocabularies':'node1', 'Source_ICD_Code':'node2'})"
   ]
  },
  {
   "cell_type": "code",
   "execution_count": 8,
   "id": "22bf7d93-99a1-4446-869b-303d5e87c69f",
   "metadata": {},
   "outputs": [],
   "source": [
    "df['node2'] = df['node2'].str.replace('.', '', regex=False)"
   ]
  },
  {
   "cell_type": "code",
   "execution_count": 20,
   "id": "61e8f141-d5f6-4e86-b0a3-e489d9786ea5",
   "metadata": {},
   "outputs": [],
   "source": [
    "# 创建一个空的DataFrame用于存储结果\n",
    "result_df = pd.DataFrame(columns=['node1', 'node2'])\n",
    "\n",
    "# 遍历每一行\n",
    "for index, row in df.iterrows():\n",
    "    # 将node1列按逗号分割并去除空格\n",
    "    codes = [code.strip() for code in row['node1'].split(',')]\n",
    "    # 提取以ICD10_开头的代码，并去除前缀\n",
    "    icd10_codes = [code[6:] for code in codes if code.startswith('ICD10_')]\n",
    "    # 如果有ICD10代码，则添加到结果DataFrame\n",
    "    if icd10_codes:\n",
    "        temp_df = pd.DataFrame({\n",
    "            'node1': icd10_codes,\n",
    "            'node2': [row['node2']] * len(icd10_codes)\n",
    "        })\n",
    "        result_df = pd.concat([result_df, temp_df], ignore_index=True)"
   ]
  },
  {
   "cell_type": "code",
   "execution_count": 21,
   "id": "e276f3ae-c156-4f89-ba11-09a79feb4f2b",
   "metadata": {},
   "outputs": [],
   "source": [
    "result_df['node1'] = result_df['node1'].str.replace('.', '', regex=False)"
   ]
  },
  {
   "cell_type": "code",
   "execution_count": 22,
   "id": "8d8e75d8-8b8b-447a-a185-cf1affae6b84",
   "metadata": {},
   "outputs": [
    {
     "data": {
      "text/plain": [
       "(3386, 2)"
      ]
     },
     "execution_count": 22,
     "metadata": {},
     "output_type": "execute_result"
    }
   ],
   "source": [
    "result_df.shape"
   ]
  },
  {
   "cell_type": "code",
   "execution_count": 23,
   "id": "3198aeb0-d171-4b7a-9c34-e736a19cd515",
   "metadata": {},
   "outputs": [],
   "source": [
    "result_df = result_df.drop_duplicates()"
   ]
  },
  {
   "cell_type": "code",
   "execution_count": 24,
   "id": "0f8aa992-ef19-4229-ad00-e7d0733b21b1",
   "metadata": {},
   "outputs": [
    {
     "data": {
      "text/plain": [
       "(3386, 2)"
      ]
     },
     "execution_count": 24,
     "metadata": {},
     "output_type": "execute_result"
    }
   ],
   "source": [
    "result_df.shape"
   ]
  },
  {
   "cell_type": "code",
   "execution_count": 25,
   "id": "2c3f2b53-b100-4ba6-8c46-bcbfa4db8ca5",
   "metadata": {},
   "outputs": [
    {
     "data": {
      "text/plain": [
       "(8920, 2)"
      ]
     },
     "execution_count": 25,
     "metadata": {},
     "output_type": "execute_result"
    }
   ],
   "source": [
    "df.shape"
   ]
  },
  {
   "cell_type": "code",
   "execution_count": 26,
   "id": "1ae622c8-c9b4-40f4-904d-7c564b38ed73",
   "metadata": {},
   "outputs": [
    {
     "data": {
      "text/html": [
       "<div>\n",
       "<style scoped>\n",
       "    .dataframe tbody tr th:only-of-type {\n",
       "        vertical-align: middle;\n",
       "    }\n",
       "\n",
       "    .dataframe tbody tr th {\n",
       "        vertical-align: top;\n",
       "    }\n",
       "\n",
       "    .dataframe thead th {\n",
       "        text-align: right;\n",
       "    }\n",
       "</style>\n",
       "<table border=\"1\" class=\"dataframe\">\n",
       "  <thead>\n",
       "    <tr style=\"text-align: right;\">\n",
       "      <th></th>\n",
       "      <th>node1</th>\n",
       "      <th>node2</th>\n",
       "    </tr>\n",
       "  </thead>\n",
       "  <tbody>\n",
       "    <tr>\n",
       "      <th>0</th>\n",
       "      <td>K51</td>\n",
       "      <td>A30</td>\n",
       "    </tr>\n",
       "    <tr>\n",
       "      <th>1</th>\n",
       "      <td>K519</td>\n",
       "      <td>A30</td>\n",
       "    </tr>\n",
       "    <tr>\n",
       "      <th>2</th>\n",
       "      <td>K50</td>\n",
       "      <td>A30</td>\n",
       "    </tr>\n",
       "    <tr>\n",
       "      <th>3</th>\n",
       "      <td>K509</td>\n",
       "      <td>A30</td>\n",
       "    </tr>\n",
       "    <tr>\n",
       "      <th>4</th>\n",
       "      <td>K51</td>\n",
       "      <td>A309</td>\n",
       "    </tr>\n",
       "  </tbody>\n",
       "</table>\n",
       "</div>"
      ],
      "text/plain": [
       "  node1 node2\n",
       "0   K51   A30\n",
       "1  K519   A30\n",
       "2   K50   A30\n",
       "3  K509   A30\n",
       "4   K51  A309"
      ]
     },
     "execution_count": 26,
     "metadata": {},
     "output_type": "execute_result"
    }
   ],
   "source": [
    "result_df.head(5)"
   ]
  },
  {
   "cell_type": "code",
   "execution_count": 27,
   "id": "580fc5a8-0520-411f-a43f-c6b2e58f9d41",
   "metadata": {},
   "outputs": [],
   "source": [
    "result_df = result_df.assign(relationship=1.0)"
   ]
  },
  {
   "cell_type": "markdown",
   "id": "55ba3b64-7c22-4c85-9e81-d82e7a052c1d",
   "metadata": {},
   "source": [
    "## Add disease-disease pairs"
   ]
  },
  {
   "cell_type": "code",
   "execution_count": 28,
   "id": "29d4e66d-228a-40b3-a8b9-bcbce8a1de81",
   "metadata": {},
   "outputs": [],
   "source": [
    "merged_df_long = pd.read_csv('../Data/merged_df_add_filtered_disGeNet.txt', sep='\\t', dtype={'node1':str, 'node2': str, 'relationship': float})"
   ]
  },
  {
   "cell_type": "code",
   "execution_count": 29,
   "id": "e0c93064-3023-49e8-ac2d-fe9634f4df64",
   "metadata": {},
   "outputs": [
    {
     "data": {
      "text/html": [
       "<div>\n",
       "<style scoped>\n",
       "    .dataframe tbody tr th:only-of-type {\n",
       "        vertical-align: middle;\n",
       "    }\n",
       "\n",
       "    .dataframe tbody tr th {\n",
       "        vertical-align: top;\n",
       "    }\n",
       "\n",
       "    .dataframe thead th {\n",
       "        text-align: right;\n",
       "    }\n",
       "</style>\n",
       "<table border=\"1\" class=\"dataframe\">\n",
       "  <thead>\n",
       "    <tr style=\"text-align: right;\">\n",
       "      <th></th>\n",
       "      <th>node1</th>\n",
       "      <th>node2</th>\n",
       "      <th>relationship</th>\n",
       "    </tr>\n",
       "  </thead>\n",
       "  <tbody>\n",
       "    <tr>\n",
       "      <th>0</th>\n",
       "      <td>1002133</td>\n",
       "      <td>I802</td>\n",
       "      <td>1.0</td>\n",
       "    </tr>\n",
       "    <tr>\n",
       "      <th>1</th>\n",
       "      <td>1002133</td>\n",
       "      <td>M1997</td>\n",
       "      <td>1.0</td>\n",
       "    </tr>\n",
       "    <tr>\n",
       "      <th>2</th>\n",
       "      <td>1002133</td>\n",
       "      <td>M201</td>\n",
       "      <td>1.0</td>\n",
       "    </tr>\n",
       "  </tbody>\n",
       "</table>\n",
       "</div>"
      ],
      "text/plain": [
       "     node1  node2  relationship\n",
       "0  1002133   I802           1.0\n",
       "1  1002133  M1997           1.0\n",
       "2  1002133   M201           1.0"
      ]
     },
     "execution_count": 29,
     "metadata": {},
     "output_type": "execute_result"
    }
   ],
   "source": [
    "merged_df_long.head(3)"
   ]
  },
  {
   "cell_type": "code",
   "execution_count": 30,
   "id": "95e41b28-bf30-4249-ba21-6e815dca09ef",
   "metadata": {},
   "outputs": [
    {
     "name": "stdout",
     "output_type": "stream",
     "text": [
      "406 unique elements in result_df node1 column.\n",
      "去重后，result_df 的 node1 列中有 397 个元素存在于 merged_df_long 的 node1 或 node2 列中。\n",
      "400 unique elements in result_df node2 column.\n",
      "去重后，result_df 的 node2 列中有 400 个元素存在于 merged_df_long 的 node1 或 node2 列中。\n"
     ]
    }
   ],
   "source": [
    "# 1. 将 merged_df_long 的 node1 和 node2 列合并为一个集合（用于高效查找）\n",
    "merged_nodes = set(merged_df_long['node1']) | set(merged_df_long['node2'])\n",
    "\n",
    "# 2. 对 result_df['node1'] 去重，获取唯一元素\n",
    "unique_nodes_node1 = result_df['node1'].unique()  # 返回 numpy 数组\n",
    "\n",
    "# 3. 检查去重后的元素有多少存在于 merged_nodes 中\n",
    "unique_matches_node1 = pd.Series(unique_nodes_node1).isin(merged_nodes).sum()\n",
    "\n",
    "print(f\"{len(unique_nodes_node1)} unique elements in result_df node1 column.\")\n",
    "print(f\"去重后，result_df 的 node1 列中有 {unique_matches_node1} 个元素存在于 merged_df_long 的 node1 或 node2 列中。\")\n",
    "\n",
    "####\n",
    "# 2. 对 result_df['node2'] 去重，获取唯一元素\n",
    "unique_nodes_node2 = result_df['node2'].unique()  # 返回 numpy 数组\n",
    "\n",
    "# 3. 检查去重后的元素有多少存在于 merged_nodes 中\n",
    "unique_matches_node2 = pd.Series(unique_nodes_node2).isin(merged_nodes).sum()\n",
    "\n",
    "print(f\"{len(unique_nodes_node2)} unique elements in result_df node2 column.\")\n",
    "print(f\"去重后，result_df 的 node2 列中有 {unique_matches_node2} 个元素存在于 merged_df_long 的 node1 或 node2 列中。\")"
   ]
  },
  {
   "cell_type": "markdown",
   "id": "48f882bb-2bdd-4cf3-be05-39319ea2c6d6",
   "metadata": {},
   "source": [
    "#### For new nodes need correspong embedding features, we use overlap nodes firstly."
   ]
  },
  {
   "cell_type": "code",
   "execution_count": 31,
   "id": "fb502ac0-2828-429d-88d5-de3297de8900",
   "metadata": {},
   "outputs": [],
   "source": [
    "merged_nodes = set(merged_df_long['node1']) | set(merged_df_long['node2'])\n",
    "\n",
    "# 筛选 result_df 中 node1 存在于 merged_nodes 的行\n",
    "filtered_df = result_df[\n",
    "    result_df['node1'].isin(merged_nodes)\n",
    "]"
   ]
  },
  {
   "cell_type": "code",
   "execution_count": 32,
   "id": "e690d44e-8c69-45eb-b908-5f53977f6c16",
   "metadata": {},
   "outputs": [
    {
     "name": "stdout",
     "output_type": "stream",
     "text": [
      "result_df行数: 3386\n",
      "筛选后的数据行数: 3264\n",
      "  node1 node2  relationship\n",
      "0   K51   A30           1.0\n",
      "1  K519   A30           1.0\n",
      "2   K50   A30           1.0\n",
      "3  K509   A30           1.0\n",
      "4   K51  A309           1.0\n"
     ]
    }
   ],
   "source": [
    "print(f\"result_df行数: {len(result_df)}\")\n",
    "print(f\"筛选后的数据行数: {len(filtered_df)}\")\n",
    "print(filtered_df.head())"
   ]
  },
  {
   "cell_type": "code",
   "execution_count": 33,
   "id": "7d4ed52c-c308-44a9-b63c-ab63794761fc",
   "metadata": {},
   "outputs": [],
   "source": [
    "# add filtered disease-disease pairs\n",
    "merged_df_add_disease_disease = pd.concat([merged_df_long, filtered_df], ignore_index=True)"
   ]
  },
  {
   "cell_type": "code",
   "execution_count": 34,
   "id": "3c9bcfd3-a4f3-48d8-a2a9-201ccde72b29",
   "metadata": {},
   "outputs": [],
   "source": [
    "# 保存为以制表符分隔的文本文件 \n",
    "merged_df_add_disease_disease.to_csv('../Data/merged_df_add_filtered_disGeNet_disease_disease.txt', sep='\\t', na_rep='nan', index=False)"
   ]
  },
  {
   "cell_type": "markdown",
   "id": "4a0b58f4-bd1f-4641-8748-5c335e8754cd",
   "metadata": {},
   "source": [
    "## prepare input data"
   ]
  },
  {
   "cell_type": "code",
   "execution_count": 35,
   "id": "e5c8b87c-c02f-440b-94e6-e59815a3071b",
   "metadata": {},
   "outputs": [
    {
     "name": "stderr",
     "output_type": "stream",
     "text": [
      "/home/llma/anaconda3/envs/GAT/lib/python3.12/site-packages/tqdm/auto.py:21: TqdmWarning: IProgress not found. Please update jupyter and ipywidgets. See https://ipywidgets.readthedocs.io/en/stable/user_install.html\n",
      "  from .autonotebook import tqdm as notebook_tqdm\n"
     ]
    }
   ],
   "source": [
    "import numpy as np\n",
    "import os\n",
    "from scipy.sparse import csr_matrix\n",
    "from utils import N2V\n",
    "import pandas as pd\n",
    "from fastnode2vec import Graph, Node2Vec \n",
    "import pickle\n",
    "import json"
   ]
  },
  {
   "cell_type": "code",
   "execution_count": 50,
   "id": "3560bb63-86a9-4123-9c48-2d7177947cf8",
   "metadata": {},
   "outputs": [],
   "source": [
    "adj_path = '../Data/merged_df_add_filtered_disGeNet_disease_disease.txt'"
   ]
  },
  {
   "cell_type": "code",
   "execution_count": 51,
   "id": "9b8b3199-852b-4030-8702-9cf0cfadf7d0",
   "metadata": {},
   "outputs": [
    {
     "data": {
      "text/html": [
       "<div>\n",
       "<style scoped>\n",
       "    .dataframe tbody tr th:only-of-type {\n",
       "        vertical-align: middle;\n",
       "    }\n",
       "\n",
       "    .dataframe tbody tr th {\n",
       "        vertical-align: top;\n",
       "    }\n",
       "\n",
       "    .dataframe thead th {\n",
       "        text-align: right;\n",
       "    }\n",
       "</style>\n",
       "<table border=\"1\" class=\"dataframe\">\n",
       "  <thead>\n",
       "    <tr style=\"text-align: right;\">\n",
       "      <th></th>\n",
       "      <th>node1</th>\n",
       "      <th>node2</th>\n",
       "      <th>relationship</th>\n",
       "    </tr>\n",
       "  </thead>\n",
       "  <tbody>\n",
       "    <tr>\n",
       "      <th>0</th>\n",
       "      <td>1002133</td>\n",
       "      <td>I802</td>\n",
       "      <td>1.0</td>\n",
       "    </tr>\n",
       "    <tr>\n",
       "      <th>1</th>\n",
       "      <td>1002133</td>\n",
       "      <td>M1997</td>\n",
       "      <td>1.0</td>\n",
       "    </tr>\n",
       "  </tbody>\n",
       "</table>\n",
       "</div>"
      ],
      "text/plain": [
       "     node1  node2  relationship\n",
       "0  1002133   I802           1.0\n",
       "1  1002133  M1997           1.0"
      ]
     },
     "execution_count": 51,
     "metadata": {},
     "output_type": "execute_result"
    }
   ],
   "source": [
    "merged_df = pd.read_csv(adj_path, sep='\\t',\n",
    "    dtype={'node1': str, 'node2': str, 'relationship': float} )\n",
    "merged_df.head(2)"
   ]
  },
  {
   "cell_type": "code",
   "execution_count": 52,
   "id": "16ae2e7b-76a1-4e9b-880a-54b0f7c64c26",
   "metadata": {},
   "outputs": [
    {
     "name": "stderr",
     "output_type": "stream",
     "text": [
      "                                                                                                                                                                                                                                                                                                                                    "
     ]
    }
   ],
   "source": [
    "adj_matrix = pd.read_csv(adj_path, sep='\\t',\n",
    "    dtype={'node1': str, 'node2': str, 'relationship': float})\n",
    "# 构建图所需的边列表\n",
    "edges = [(row['node1'], row['node2'], row['relationship']) for _, row in adj_matrix.iterrows()]\n",
    "\n",
    "# 构建图\n",
    "graph = Graph(edges, directed=False, weighted=True)"
   ]
  },
  {
   "cell_type": "code",
   "execution_count": 53,
   "id": "bc3d4a31-0915-4bcf-9a42-bfcfb3044150",
   "metadata": {},
   "outputs": [
    {
     "data": {
      "text/plain": [
       "array(['1002133', 'I802', 'M1997', ..., 'Z90', 'Z994', 'Z99'],\n",
       "      dtype='<U86')"
      ]
     },
     "execution_count": 53,
     "metadata": {},
     "output_type": "execute_result"
    }
   ],
   "source": [
    "graph.node_names"
   ]
  },
  {
   "cell_type": "code",
   "execution_count": 54,
   "id": "bcb6d74a-67b0-47b7-aaa1-1f9499b30296",
   "metadata": {},
   "outputs": [
    {
     "data": {
      "text/plain": [
       "<fastnode2vec.graph.Graph at 0x7fab94ccfb90>"
      ]
     },
     "execution_count": 54,
     "metadata": {},
     "output_type": "execute_result"
    }
   ],
   "source": [
    "graph"
   ]
  },
  {
   "cell_type": "code",
   "execution_count": 55,
   "id": "8c52aa72-12ec-4176-a773-be2d0dac6708",
   "metadata": {},
   "outputs": [],
   "source": [
    "# 保存图对象\n",
    "with open('../Data/graph_add_filtered_disGeNet_disease_disease.pkl', 'wb') as f:\n",
    "    pickle.dump(graph, f)"
   ]
  },
  {
   "cell_type": "code",
   "execution_count": 42,
   "id": "24f6da61-fe7c-4fed-8030-d2a2145f438f",
   "metadata": {},
   "outputs": [],
   "source": [
    "with open('../Data/gpt_protein_embeddings_dict.pkl', 'rb') as f:\n",
    "    protein_embeddings_dict = pickle.load(f)"
   ]
  },
  {
   "cell_type": "code",
   "execution_count": 43,
   "id": "cd5cf635-fc42-4714-a2f1-e0b285725fdc",
   "metadata": {},
   "outputs": [],
   "source": [
    "with open('../Data/gpt_embeddings_dict.pkl', 'rb') as f:\n",
    "    embeddings_dict = pickle.load(f)"
   ]
  },
  {
   "cell_type": "code",
   "execution_count": 44,
   "id": "53e1c07e-e683-4d96-b94d-67dc5285a6da",
   "metadata": {},
   "outputs": [],
   "source": [
    "with open('../Data/metabolite_embeddings_dict.pkl', 'rb') as f:\n",
    "    metabolite_embeddings_dict = pickle.load(f)"
   ]
  },
  {
   "cell_type": "code",
   "execution_count": 45,
   "id": "241e5c35-1c9a-46f4-afa3-25ae96c608bf",
   "metadata": {},
   "outputs": [],
   "source": [
    "with open('../Data/icd10_embeddings_dict.pkl', 'rb') as f:\n",
    "    icd10_embeddings_dict = pickle.load(f)"
   ]
  },
  {
   "cell_type": "code",
   "execution_count": 46,
   "id": "0724989e-eeb2-4ea1-b4e6-549da5c3e43e",
   "metadata": {},
   "outputs": [],
   "source": [
    "# 创建新字典，保留原始字典不变\n",
    "merged_dict = {**protein_embeddings_dict, **embeddings_dict, **metabolite_embeddings_dict, **icd10_embeddings_dict}"
   ]
  },
  {
   "cell_type": "code",
   "execution_count": 47,
   "id": "95e02948-0c8f-46ca-97be-568d0198ed73",
   "metadata": {},
   "outputs": [
    {
     "name": "stdout",
     "output_type": "stream",
     "text": [
      "矩阵形状: (49373, 1536)\n",
      "前3行:\n",
      " [[-0.0182373  -0.02098356  0.02359651 ... -0.01561102 -0.01053844\n",
      "  -0.00612576]\n",
      " [-0.02499108 -0.0067757   0.02219337 ... -0.02719697 -0.01021568\n",
      "  -0.02587882]\n",
      " [ 0.00454228 -0.00239301  0.02163428 ... -0.01282641 -0.01000684\n",
      "  -0.05185902]]\n"
     ]
    }
   ],
   "source": [
    "# 提取所有键并保持顺序（Python 3.7+ 字典保持插入顺序）\n",
    "keys = list(graph.node_names)\n",
    "\n",
    "# 将字典值转换为NumPy矩阵（每行一个向量）\n",
    "matrix = np.array([merged_dict[key] for key in keys])\n",
    "\n",
    "# 检查矩阵形状\n",
    "print(\"矩阵形状:\", matrix.shape)  # 输出: (47626, 向量维度)\n",
    "\n",
    "# 示例：查看前3行\n",
    "print(\"前3行:\\n\", matrix[:3])"
   ]
  },
  {
   "cell_type": "code",
   "execution_count": 48,
   "id": "3c72a893-1088-4d30-8e38-36a06b29b344",
   "metadata": {},
   "outputs": [],
   "source": [
    "# 保存\n",
    "with open('../Data/keys_add_filtered_disGeNet_disease_disease.json', 'w') as f:\n",
    "    json.dump(keys, f)"
   ]
  },
  {
   "cell_type": "code",
   "execution_count": 49,
   "id": "e52a1432-b52a-4b2e-83e3-ae84bd5c4da2",
   "metadata": {},
   "outputs": [],
   "source": [
    "np.save('../Data/UKB_node_feature_gpt_add_filtered_disGeNet_disease_disease.npy', matrix)"
   ]
  },
  {
   "cell_type": "code",
   "execution_count": null,
   "id": "78bbabf3-90a9-45ee-aefb-263bad94b1b0",
   "metadata": {},
   "outputs": [],
   "source": []
  },
  {
   "cell_type": "code",
   "execution_count": null,
   "id": "7a275091-511d-415a-98cb-2397bafc2f08",
   "metadata": {},
   "outputs": [],
   "source": []
  }
 ],
 "metadata": {
  "kernelspec": {
   "display_name": "GAT",
   "language": "python",
   "name": "gat"
  },
  "language_info": {
   "codemirror_mode": {
    "name": "ipython",
    "version": 3
   },
   "file_extension": ".py",
   "mimetype": "text/x-python",
   "name": "python",
   "nbconvert_exporter": "python",
   "pygments_lexer": "ipython3",
   "version": "3.12.10"
  }
 },
 "nbformat": 4,
 "nbformat_minor": 5
}
