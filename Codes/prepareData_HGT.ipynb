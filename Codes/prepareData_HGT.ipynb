{
 "cells": [
  {
   "cell_type": "markdown",
   "id": "7218dd5e-f00d-4ebf-ae30-b60ecfb1fd33",
   "metadata": {},
   "source": [
    "### Prepare data"
   ]
  },
  {
   "cell_type": "code",
   "execution_count": 1,
   "id": "34cacfa6-bc11-4f96-8572-47dc78c5dbb4",
   "metadata": {},
   "outputs": [],
   "source": [
    "import pandas as pd\n",
    "import pickle\n",
    "import numpy as np\n",
    "import torch"
   ]
  },
  {
   "cell_type": "markdown",
   "id": "c79497e7-0b7f-4007-a4a7-6f40e8c802d6",
   "metadata": {},
   "source": [
    "### participant-disease pairs"
   ]
  },
  {
   "cell_type": "code",
   "execution_count": 2,
   "id": "e000fdeb-76a3-4255-885c-fbf85c916327",
   "metadata": {},
   "outputs": [],
   "source": [
    "# 读取原始数据（假设每个诊断记录为一行）\n",
    "clinical_df = pd.read_csv(\"../Data/ICD10_long.csv\")"
   ]
  },
  {
   "cell_type": "code",
   "execution_count": 3,
   "id": "3f0afb0c-217d-4bd2-b315-27f64bdbb38c",
   "metadata": {},
   "outputs": [
    {
     "data": {
      "text/plain": [
       "(7015554, 5)"
      ]
     },
     "execution_count": 3,
     "metadata": {},
     "output_type": "execute_result"
    }
   ],
   "source": [
    "clinical_df.shape"
   ]
  },
  {
   "cell_type": "code",
   "execution_count": 4,
   "id": "b48ec175-28f8-49d7-af23-54275319c458",
   "metadata": {},
   "outputs": [],
   "source": [
    "clinical_df['eid'] = clinical_df['eid'].astype(str)"
   ]
  },
  {
   "cell_type": "code",
   "execution_count": 5,
   "id": "fc47e27d-ec50-4847-a0a1-c319426bc9bc",
   "metadata": {},
   "outputs": [
    {
     "data": {
      "text/html": [
       "<div>\n",
       "<style scoped>\n",
       "    .dataframe tbody tr th:only-of-type {\n",
       "        vertical-align: middle;\n",
       "    }\n",
       "\n",
       "    .dataframe tbody tr th {\n",
       "        vertical-align: top;\n",
       "    }\n",
       "\n",
       "    .dataframe thead th {\n",
       "        text-align: right;\n",
       "    }\n",
       "</style>\n",
       "<table border=\"1\" class=\"dataframe\">\n",
       "  <thead>\n",
       "    <tr style=\"text-align: right;\">\n",
       "      <th></th>\n",
       "      <th>eid</th>\n",
       "      <th>ICD10_codes</th>\n",
       "      <th>Date</th>\n",
       "      <th>p40000_i0</th>\n",
       "      <th>p40023</th>\n",
       "    </tr>\n",
       "  </thead>\n",
       "  <tbody>\n",
       "    <tr>\n",
       "      <th>0</th>\n",
       "      <td>1000122</td>\n",
       "      <td>J383</td>\n",
       "      <td>1999-07-06</td>\n",
       "      <td>2014-12-22</td>\n",
       "      <td>1.0</td>\n",
       "    </tr>\n",
       "    <tr>\n",
       "      <th>1</th>\n",
       "      <td>1000122</td>\n",
       "      <td>M255</td>\n",
       "      <td>2001-07-31</td>\n",
       "      <td>2014-12-22</td>\n",
       "      <td>1.0</td>\n",
       "    </tr>\n",
       "  </tbody>\n",
       "</table>\n",
       "</div>"
      ],
      "text/plain": [
       "       eid ICD10_codes        Date   p40000_i0  p40023\n",
       "0  1000122        J383  1999-07-06  2014-12-22     1.0\n",
       "1  1000122        M255  2001-07-31  2014-12-22     1.0"
      ]
     },
     "execution_count": 5,
     "metadata": {},
     "output_type": "execute_result"
    }
   ],
   "source": [
    "clinical_df.head(2)"
   ]
  },
  {
   "cell_type": "code",
   "execution_count": 6,
   "id": "129aa922-01c1-4715-8509-258e43a5f336",
   "metadata": {},
   "outputs": [
    {
     "data": {
      "text/plain": [
       "12315"
      ]
     },
     "execution_count": 6,
     "metadata": {},
     "output_type": "execute_result"
    }
   ],
   "source": [
    "len(clinical_df['ICD10_codes'].unique())"
   ]
  },
  {
   "cell_type": "code",
   "execution_count": 7,
   "id": "d33224c0-d537-4e1c-aa4f-0078d3c5aec2",
   "metadata": {},
   "outputs": [
    {
     "data": {
      "text/plain": [
       "eid             object\n",
       "ICD10_codes     object\n",
       "Date            object\n",
       "p40000_i0       object\n",
       "p40023         float64\n",
       "dtype: object"
      ]
     },
     "execution_count": 7,
     "metadata": {},
     "output_type": "execute_result"
    }
   ],
   "source": [
    "clinical_df.dtypes"
   ]
  },
  {
   "cell_type": "code",
   "execution_count": 8,
   "id": "f7d000af-0654-43ef-ac0b-a1e3e34ebdfb",
   "metadata": {},
   "outputs": [
    {
     "data": {
      "text/plain": [
       "446802"
      ]
     },
     "execution_count": 8,
     "metadata": {},
     "output_type": "execute_result"
    }
   ],
   "source": [
    "len(set(clinical_df['eid']))"
   ]
  },
  {
   "cell_type": "code",
   "execution_count": 9,
   "id": "7d2bde10-14e0-431c-a4a7-4297fe1596c8",
   "metadata": {},
   "outputs": [],
   "source": [
    "BaselineCharacteristics = pd.read_csv(\"../Data/BaselineCharacteristics.csv\")"
   ]
  },
  {
   "cell_type": "code",
   "execution_count": 10,
   "id": "fef15b68-59b8-44c4-9a76-71ece525044e",
   "metadata": {},
   "outputs": [
    {
     "data": {
      "text/plain": [
       "(502131, 6)"
      ]
     },
     "execution_count": 10,
     "metadata": {},
     "output_type": "execute_result"
    }
   ],
   "source": [
    "BaselineCharacteristics.shape"
   ]
  },
  {
   "cell_type": "code",
   "execution_count": 11,
   "id": "93cb6920-9f60-4913-b37f-062072dca12c",
   "metadata": {},
   "outputs": [],
   "source": [
    "BaselineCharacteristics['eid'] = BaselineCharacteristics['eid'].astype(str)"
   ]
  },
  {
   "cell_type": "code",
   "execution_count": 12,
   "id": "0e5c22c8-0bc0-4249-8c86-af79666bf8d8",
   "metadata": {},
   "outputs": [
    {
     "data": {
      "text/html": [
       "<div>\n",
       "<style scoped>\n",
       "    .dataframe tbody tr th:only-of-type {\n",
       "        vertical-align: middle;\n",
       "    }\n",
       "\n",
       "    .dataframe tbody tr th {\n",
       "        vertical-align: top;\n",
       "    }\n",
       "\n",
       "    .dataframe thead th {\n",
       "        text-align: right;\n",
       "    }\n",
       "</style>\n",
       "<table border=\"1\" class=\"dataframe\">\n",
       "  <thead>\n",
       "    <tr style=\"text-align: right;\">\n",
       "      <th></th>\n",
       "      <th>eid</th>\n",
       "      <th>p31</th>\n",
       "      <th>p34</th>\n",
       "      <th>p52</th>\n",
       "      <th>p21022</th>\n",
       "      <th>p22189</th>\n",
       "    </tr>\n",
       "  </thead>\n",
       "  <tbody>\n",
       "    <tr>\n",
       "      <th>0</th>\n",
       "      <td>2600773</td>\n",
       "      <td>0</td>\n",
       "      <td>1946</td>\n",
       "      <td>11</td>\n",
       "      <td>62</td>\n",
       "      <td>-3.11</td>\n",
       "    </tr>\n",
       "    <tr>\n",
       "      <th>1</th>\n",
       "      <td>2163573</td>\n",
       "      <td>1</td>\n",
       "      <td>1948</td>\n",
       "      <td>5</td>\n",
       "      <td>57</td>\n",
       "      <td>5.33</td>\n",
       "    </tr>\n",
       "  </tbody>\n",
       "</table>\n",
       "</div>"
      ],
      "text/plain": [
       "       eid  p31   p34  p52  p21022  p22189\n",
       "0  2600773    0  1946   11      62   -3.11\n",
       "1  2163573    1  1948    5      57    5.33"
      ]
     },
     "execution_count": 12,
     "metadata": {},
     "output_type": "execute_result"
    }
   ],
   "source": [
    "BaselineCharacteristics.head(2)"
   ]
  },
  {
   "cell_type": "code",
   "execution_count": 13,
   "id": "7921bd71-ba68-4bf3-9e60-62db837c76be",
   "metadata": {},
   "outputs": [],
   "source": [
    "# 转换为字符串并补零\n",
    "BaselineCharacteristics['p34_str'] = BaselineCharacteristics['p34'].astype(str)\n",
    "BaselineCharacteristics['p52_str'] = BaselineCharacteristics['p52'].astype(str).str.zfill(2)\n",
    "\n",
    "# 拼接成生日格式\n",
    "BaselineCharacteristics['birthday'] = BaselineCharacteristics['p34_str'] + '-' + BaselineCharacteristics['p52_str'] + '-01'"
   ]
  },
  {
   "cell_type": "code",
   "execution_count": 14,
   "id": "413366b1-e3f3-4dbf-91b9-b1b32529477e",
   "metadata": {},
   "outputs": [
    {
     "data": {
      "text/html": [
       "<div>\n",
       "<style scoped>\n",
       "    .dataframe tbody tr th:only-of-type {\n",
       "        vertical-align: middle;\n",
       "    }\n",
       "\n",
       "    .dataframe tbody tr th {\n",
       "        vertical-align: top;\n",
       "    }\n",
       "\n",
       "    .dataframe thead th {\n",
       "        text-align: right;\n",
       "    }\n",
       "</style>\n",
       "<table border=\"1\" class=\"dataframe\">\n",
       "  <thead>\n",
       "    <tr style=\"text-align: right;\">\n",
       "      <th></th>\n",
       "      <th>eid</th>\n",
       "      <th>p31</th>\n",
       "      <th>p34</th>\n",
       "      <th>p52</th>\n",
       "      <th>p21022</th>\n",
       "      <th>p22189</th>\n",
       "      <th>p34_str</th>\n",
       "      <th>p52_str</th>\n",
       "      <th>birthday</th>\n",
       "    </tr>\n",
       "  </thead>\n",
       "  <tbody>\n",
       "    <tr>\n",
       "      <th>0</th>\n",
       "      <td>2600773</td>\n",
       "      <td>0</td>\n",
       "      <td>1946</td>\n",
       "      <td>11</td>\n",
       "      <td>62</td>\n",
       "      <td>-3.11</td>\n",
       "      <td>1946</td>\n",
       "      <td>11</td>\n",
       "      <td>1946-11-01</td>\n",
       "    </tr>\n",
       "    <tr>\n",
       "      <th>1</th>\n",
       "      <td>2163573</td>\n",
       "      <td>1</td>\n",
       "      <td>1948</td>\n",
       "      <td>5</td>\n",
       "      <td>57</td>\n",
       "      <td>5.33</td>\n",
       "      <td>1948</td>\n",
       "      <td>05</td>\n",
       "      <td>1948-05-01</td>\n",
       "    </tr>\n",
       "  </tbody>\n",
       "</table>\n",
       "</div>"
      ],
      "text/plain": [
       "       eid  p31   p34  p52  p21022  p22189 p34_str p52_str    birthday\n",
       "0  2600773    0  1946   11      62   -3.11    1946      11  1946-11-01\n",
       "1  2163573    1  1948    5      57    5.33    1948      05  1948-05-01"
      ]
     },
     "execution_count": 14,
     "metadata": {},
     "output_type": "execute_result"
    }
   ],
   "source": [
    "BaselineCharacteristics.head(2)"
   ]
  },
  {
   "cell_type": "code",
   "execution_count": 15,
   "id": "576ef723-199e-4d9e-8ed5-30d02793fed3",
   "metadata": {},
   "outputs": [],
   "source": [
    "# 使用左连接将birthday列合并到clinical_df中\n",
    "clinical_df = clinical_df.merge(\n",
    "    BaselineCharacteristics[['eid', 'birthday']],  # 只选择需要的列\n",
    "    on='eid',         # 连接键\n",
    "    how='left'        # 左连接，保留clinical_df的所有行\n",
    ")"
   ]
  },
  {
   "cell_type": "code",
   "execution_count": 16,
   "id": "4dd7ce9a-206c-49d1-8c26-d62a99b59aa9",
   "metadata": {},
   "outputs": [
    {
     "data": {
      "text/html": [
       "<div>\n",
       "<style scoped>\n",
       "    .dataframe tbody tr th:only-of-type {\n",
       "        vertical-align: middle;\n",
       "    }\n",
       "\n",
       "    .dataframe tbody tr th {\n",
       "        vertical-align: top;\n",
       "    }\n",
       "\n",
       "    .dataframe thead th {\n",
       "        text-align: right;\n",
       "    }\n",
       "</style>\n",
       "<table border=\"1\" class=\"dataframe\">\n",
       "  <thead>\n",
       "    <tr style=\"text-align: right;\">\n",
       "      <th></th>\n",
       "      <th>eid</th>\n",
       "      <th>ICD10_codes</th>\n",
       "      <th>Date</th>\n",
       "      <th>p40000_i0</th>\n",
       "      <th>p40023</th>\n",
       "      <th>birthday</th>\n",
       "    </tr>\n",
       "  </thead>\n",
       "  <tbody>\n",
       "    <tr>\n",
       "      <th>0</th>\n",
       "      <td>1000122</td>\n",
       "      <td>J383</td>\n",
       "      <td>1999-07-06</td>\n",
       "      <td>2014-12-22</td>\n",
       "      <td>1.0</td>\n",
       "      <td>1941-01-01</td>\n",
       "    </tr>\n",
       "    <tr>\n",
       "      <th>1</th>\n",
       "      <td>1000122</td>\n",
       "      <td>M255</td>\n",
       "      <td>2001-07-31</td>\n",
       "      <td>2014-12-22</td>\n",
       "      <td>1.0</td>\n",
       "      <td>1941-01-01</td>\n",
       "    </tr>\n",
       "  </tbody>\n",
       "</table>\n",
       "</div>"
      ],
      "text/plain": [
       "       eid ICD10_codes        Date   p40000_i0  p40023    birthday\n",
       "0  1000122        J383  1999-07-06  2014-12-22     1.0  1941-01-01\n",
       "1  1000122        M255  2001-07-31  2014-12-22     1.0  1941-01-01"
      ]
     },
     "execution_count": 16,
     "metadata": {},
     "output_type": "execute_result"
    }
   ],
   "source": [
    "clinical_df.head(2)"
   ]
  },
  {
   "cell_type": "code",
   "execution_count": 17,
   "id": "b392f2fc-e6f9-4321-a88e-5a330c22d5f2",
   "metadata": {},
   "outputs": [
    {
     "data": {
      "text/plain": [
       "False"
      ]
     },
     "execution_count": 17,
     "metadata": {},
     "output_type": "execute_result"
    }
   ],
   "source": [
    "clinical_df['birthday'].isna().any()"
   ]
  },
  {
   "cell_type": "code",
   "execution_count": 18,
   "id": "fb46e6dc-c836-4e33-8bae-15e57df0bec3",
   "metadata": {},
   "outputs": [],
   "source": [
    "# 转换Date和birthday列为datetime类型\n",
    "clinical_df['Date'] = pd.to_datetime(clinical_df['Date'])\n",
    "clinical_df['birthday'] = pd.to_datetime(clinical_df['birthday'])"
   ]
  },
  {
   "cell_type": "code",
   "execution_count": 19,
   "id": "d7cf0a9a-76df-4c7e-92ca-843e5b673cb6",
   "metadata": {},
   "outputs": [],
   "source": [
    "# 计算时间差（天数）\n",
    "clinical_df['DiagnosisAge'] = (clinical_df['Date'] - clinical_df['birthday']).dt.days"
   ]
  },
  {
   "cell_type": "code",
   "execution_count": 20,
   "id": "05a7b669-4a0f-4c6e-b0f8-5565702c58da",
   "metadata": {},
   "outputs": [
    {
     "data": {
      "text/html": [
       "<div>\n",
       "<style scoped>\n",
       "    .dataframe tbody tr th:only-of-type {\n",
       "        vertical-align: middle;\n",
       "    }\n",
       "\n",
       "    .dataframe tbody tr th {\n",
       "        vertical-align: top;\n",
       "    }\n",
       "\n",
       "    .dataframe thead th {\n",
       "        text-align: right;\n",
       "    }\n",
       "</style>\n",
       "<table border=\"1\" class=\"dataframe\">\n",
       "  <thead>\n",
       "    <tr style=\"text-align: right;\">\n",
       "      <th></th>\n",
       "      <th>eid</th>\n",
       "      <th>ICD10_codes</th>\n",
       "      <th>Date</th>\n",
       "      <th>p40000_i0</th>\n",
       "      <th>p40023</th>\n",
       "      <th>birthday</th>\n",
       "      <th>DiagnosisAge</th>\n",
       "    </tr>\n",
       "  </thead>\n",
       "  <tbody>\n",
       "    <tr>\n",
       "      <th>0</th>\n",
       "      <td>1000122</td>\n",
       "      <td>J383</td>\n",
       "      <td>1999-07-06</td>\n",
       "      <td>2014-12-22</td>\n",
       "      <td>1.0</td>\n",
       "      <td>1941-01-01</td>\n",
       "      <td>21370</td>\n",
       "    </tr>\n",
       "    <tr>\n",
       "      <th>1</th>\n",
       "      <td>1000122</td>\n",
       "      <td>M255</td>\n",
       "      <td>2001-07-31</td>\n",
       "      <td>2014-12-22</td>\n",
       "      <td>1.0</td>\n",
       "      <td>1941-01-01</td>\n",
       "      <td>22126</td>\n",
       "    </tr>\n",
       "  </tbody>\n",
       "</table>\n",
       "</div>"
      ],
      "text/plain": [
       "       eid ICD10_codes       Date   p40000_i0  p40023   birthday  DiagnosisAge\n",
       "0  1000122        J383 1999-07-06  2014-12-22     1.0 1941-01-01         21370\n",
       "1  1000122        M255 2001-07-31  2014-12-22     1.0 1941-01-01         22126"
      ]
     },
     "execution_count": 20,
     "metadata": {},
     "output_type": "execute_result"
    }
   ],
   "source": [
    "clinical_df.head(2)"
   ]
  },
  {
   "cell_type": "code",
   "execution_count": 21,
   "id": "1bf0de56-d8ee-4373-9fd7-2c7a2b4e9117",
   "metadata": {},
   "outputs": [],
   "source": [
    "clinical_df_select_columns = clinical_df[['eid', 'ICD10_codes', 'DiagnosisAge']]"
   ]
  },
  {
   "cell_type": "code",
   "execution_count": 22,
   "id": "40bcc1ef-6878-4afe-9426-be92f0bf47b9",
   "metadata": {},
   "outputs": [],
   "source": [
    "clinical_df_select_columns.to_csv(\"../Data/clinical_df_select_columns.csv\", index=False)"
   ]
  },
  {
   "cell_type": "markdown",
   "id": "f8477087-b34a-4144-b77f-830a81fbcdd7",
   "metadata": {},
   "source": [
    "### participant-protein pairs"
   ]
  },
  {
   "cell_type": "code",
   "execution_count": 23,
   "id": "ef5b77d9-5f25-424b-90fe-277e2d7b843e",
   "metadata": {},
   "outputs": [],
   "source": [
    "Olink_df = pd.read_csv(\"../Data/Olink.csv\")"
   ]
  },
  {
   "cell_type": "code",
   "execution_count": 24,
   "id": "23a72cbd-e145-42fd-aa94-1fbaeba0001f",
   "metadata": {},
   "outputs": [],
   "source": [
    "Olink_df['olink_instance_0.eid'] = Olink_df['olink_instance_0.eid'].astype(str)"
   ]
  },
  {
   "cell_type": "code",
   "execution_count": 25,
   "id": "a10957e3-078f-4d33-8f54-7057df6da0e1",
   "metadata": {},
   "outputs": [
    {
     "data": {
      "text/html": [
       "<div>\n",
       "<style scoped>\n",
       "    .dataframe tbody tr th:only-of-type {\n",
       "        vertical-align: middle;\n",
       "    }\n",
       "\n",
       "    .dataframe tbody tr th {\n",
       "        vertical-align: top;\n",
       "    }\n",
       "\n",
       "    .dataframe thead th {\n",
       "        text-align: right;\n",
       "    }\n",
       "</style>\n",
       "<table border=\"1\" class=\"dataframe\">\n",
       "  <thead>\n",
       "    <tr style=\"text-align: right;\">\n",
       "      <th></th>\n",
       "      <th>olink_instance_0.eid</th>\n",
       "      <th>olink_instance_0.a1bg</th>\n",
       "      <th>olink_instance_0.aamdc</th>\n",
       "      <th>olink_instance_0.aarsd1</th>\n",
       "      <th>olink_instance_0.abca2</th>\n",
       "      <th>olink_instance_0.abhd14b</th>\n",
       "      <th>olink_instance_0.abl1</th>\n",
       "      <th>olink_instance_0.abo</th>\n",
       "      <th>olink_instance_0.abraxas2</th>\n",
       "      <th>olink_instance_0.acaa1</th>\n",
       "      <th>...</th>\n",
       "      <th>olink_instance_0.zfyve19</th>\n",
       "      <th>olink_instance_0.zhx2</th>\n",
       "      <th>olink_instance_0.znf174</th>\n",
       "      <th>olink_instance_0.znf75d</th>\n",
       "      <th>olink_instance_0.znf830</th>\n",
       "      <th>olink_instance_0.znrd2</th>\n",
       "      <th>olink_instance_0.znrf4</th>\n",
       "      <th>olink_instance_0.zp3</th>\n",
       "      <th>olink_instance_0.zp4</th>\n",
       "      <th>olink_instance_0.zpr1</th>\n",
       "    </tr>\n",
       "  </thead>\n",
       "  <tbody>\n",
       "    <tr>\n",
       "      <th>0</th>\n",
       "      <td>1002133</td>\n",
       "      <td>0.0957</td>\n",
       "      <td>0.59795</td>\n",
       "      <td>1.33215</td>\n",
       "      <td>-0.6441</td>\n",
       "      <td>0.76325</td>\n",
       "      <td>0.3784</td>\n",
       "      <td>0.5446</td>\n",
       "      <td>0.4682</td>\n",
       "      <td>0.21920</td>\n",
       "      <td>...</td>\n",
       "      <td>-0.2728</td>\n",
       "      <td>0.1954</td>\n",
       "      <td>-0.2586</td>\n",
       "      <td>-0.0127</td>\n",
       "      <td>0.0235</td>\n",
       "      <td>-0.26245</td>\n",
       "      <td>-0.1236</td>\n",
       "      <td>-6.0773</td>\n",
       "      <td>-0.0136</td>\n",
       "      <td>0.4131</td>\n",
       "    </tr>\n",
       "    <tr>\n",
       "      <th>1</th>\n",
       "      <td>1002201</td>\n",
       "      <td>-0.0473</td>\n",
       "      <td>0.39585</td>\n",
       "      <td>0.26585</td>\n",
       "      <td>0.0604</td>\n",
       "      <td>1.07765</td>\n",
       "      <td>1.3977</td>\n",
       "      <td>0.5830</td>\n",
       "      <td>1.0740</td>\n",
       "      <td>0.75625</td>\n",
       "      <td>...</td>\n",
       "      <td>0.9153</td>\n",
       "      <td>-0.0274</td>\n",
       "      <td>-0.3048</td>\n",
       "      <td>-0.8814</td>\n",
       "      <td>-0.5342</td>\n",
       "      <td>1.12255</td>\n",
       "      <td>-0.5537</td>\n",
       "      <td>-5.1443</td>\n",
       "      <td>-0.1713</td>\n",
       "      <td>-0.5605</td>\n",
       "    </tr>\n",
       "  </tbody>\n",
       "</table>\n",
       "<p>2 rows × 2924 columns</p>\n",
       "</div>"
      ],
      "text/plain": [
       "  olink_instance_0.eid  olink_instance_0.a1bg  olink_instance_0.aamdc  \\\n",
       "0              1002133                 0.0957                 0.59795   \n",
       "1              1002201                -0.0473                 0.39585   \n",
       "\n",
       "   olink_instance_0.aarsd1  olink_instance_0.abca2  olink_instance_0.abhd14b  \\\n",
       "0                  1.33215                 -0.6441                   0.76325   \n",
       "1                  0.26585                  0.0604                   1.07765   \n",
       "\n",
       "   olink_instance_0.abl1  olink_instance_0.abo  olink_instance_0.abraxas2  \\\n",
       "0                 0.3784                0.5446                     0.4682   \n",
       "1                 1.3977                0.5830                     1.0740   \n",
       "\n",
       "   olink_instance_0.acaa1  ...  olink_instance_0.zfyve19  \\\n",
       "0                 0.21920  ...                   -0.2728   \n",
       "1                 0.75625  ...                    0.9153   \n",
       "\n",
       "   olink_instance_0.zhx2  olink_instance_0.znf174  olink_instance_0.znf75d  \\\n",
       "0                 0.1954                  -0.2586                  -0.0127   \n",
       "1                -0.0274                  -0.3048                  -0.8814   \n",
       "\n",
       "   olink_instance_0.znf830  olink_instance_0.znrd2  olink_instance_0.znrf4  \\\n",
       "0                   0.0235                -0.26245                 -0.1236   \n",
       "1                  -0.5342                 1.12255                 -0.5537   \n",
       "\n",
       "   olink_instance_0.zp3  olink_instance_0.zp4  olink_instance_0.zpr1  \n",
       "0               -6.0773               -0.0136                 0.4131  \n",
       "1               -5.1443               -0.1713                -0.5605  \n",
       "\n",
       "[2 rows x 2924 columns]"
      ]
     },
     "execution_count": 25,
     "metadata": {},
     "output_type": "execute_result"
    }
   ],
   "source": [
    "Olink_df.head(2)"
   ]
  },
  {
   "cell_type": "code",
   "execution_count": 26,
   "id": "7e4d53a6-740e-4b06-97b7-78f3359c58a3",
   "metadata": {},
   "outputs": [],
   "source": [
    "Olink_df = Olink_df.rename(columns={'olink_instance_0.eid': 'eid'})"
   ]
  },
  {
   "cell_type": "code",
   "execution_count": 27,
   "id": "86f923e4-a52d-4a04-aa17-ef8f985c15e3",
   "metadata": {},
   "outputs": [
    {
     "data": {
      "text/html": [
       "<div>\n",
       "<style scoped>\n",
       "    .dataframe tbody tr th:only-of-type {\n",
       "        vertical-align: middle;\n",
       "    }\n",
       "\n",
       "    .dataframe tbody tr th {\n",
       "        vertical-align: top;\n",
       "    }\n",
       "\n",
       "    .dataframe thead th {\n",
       "        text-align: right;\n",
       "    }\n",
       "</style>\n",
       "<table border=\"1\" class=\"dataframe\">\n",
       "  <thead>\n",
       "    <tr style=\"text-align: right;\">\n",
       "      <th></th>\n",
       "      <th>eid</th>\n",
       "      <th>olink_instance_0.a1bg</th>\n",
       "      <th>olink_instance_0.aamdc</th>\n",
       "      <th>olink_instance_0.aarsd1</th>\n",
       "      <th>olink_instance_0.abca2</th>\n",
       "      <th>olink_instance_0.abhd14b</th>\n",
       "      <th>olink_instance_0.abl1</th>\n",
       "      <th>olink_instance_0.abo</th>\n",
       "      <th>olink_instance_0.abraxas2</th>\n",
       "      <th>olink_instance_0.acaa1</th>\n",
       "      <th>...</th>\n",
       "      <th>olink_instance_0.zfyve19</th>\n",
       "      <th>olink_instance_0.zhx2</th>\n",
       "      <th>olink_instance_0.znf174</th>\n",
       "      <th>olink_instance_0.znf75d</th>\n",
       "      <th>olink_instance_0.znf830</th>\n",
       "      <th>olink_instance_0.znrd2</th>\n",
       "      <th>olink_instance_0.znrf4</th>\n",
       "      <th>olink_instance_0.zp3</th>\n",
       "      <th>olink_instance_0.zp4</th>\n",
       "      <th>olink_instance_0.zpr1</th>\n",
       "    </tr>\n",
       "  </thead>\n",
       "  <tbody>\n",
       "    <tr>\n",
       "      <th>0</th>\n",
       "      <td>1002133</td>\n",
       "      <td>0.0957</td>\n",
       "      <td>0.59795</td>\n",
       "      <td>1.33215</td>\n",
       "      <td>-0.6441</td>\n",
       "      <td>0.76325</td>\n",
       "      <td>0.3784</td>\n",
       "      <td>0.5446</td>\n",
       "      <td>0.4682</td>\n",
       "      <td>0.21920</td>\n",
       "      <td>...</td>\n",
       "      <td>-0.2728</td>\n",
       "      <td>0.1954</td>\n",
       "      <td>-0.2586</td>\n",
       "      <td>-0.0127</td>\n",
       "      <td>0.02350</td>\n",
       "      <td>-0.26245</td>\n",
       "      <td>-0.1236</td>\n",
       "      <td>-6.0773</td>\n",
       "      <td>-0.0136</td>\n",
       "      <td>0.4131</td>\n",
       "    </tr>\n",
       "    <tr>\n",
       "      <th>1</th>\n",
       "      <td>1002201</td>\n",
       "      <td>-0.0473</td>\n",
       "      <td>0.39585</td>\n",
       "      <td>0.26585</td>\n",
       "      <td>0.0604</td>\n",
       "      <td>1.07765</td>\n",
       "      <td>1.3977</td>\n",
       "      <td>0.5830</td>\n",
       "      <td>1.0740</td>\n",
       "      <td>0.75625</td>\n",
       "      <td>...</td>\n",
       "      <td>0.9153</td>\n",
       "      <td>-0.0274</td>\n",
       "      <td>-0.3048</td>\n",
       "      <td>-0.8814</td>\n",
       "      <td>-0.53420</td>\n",
       "      <td>1.12255</td>\n",
       "      <td>-0.5537</td>\n",
       "      <td>-5.1443</td>\n",
       "      <td>-0.1713</td>\n",
       "      <td>-0.5605</td>\n",
       "    </tr>\n",
       "    <tr>\n",
       "      <th>2</th>\n",
       "      <td>1002534</td>\n",
       "      <td>-0.2239</td>\n",
       "      <td>-0.04545</td>\n",
       "      <td>-0.07580</td>\n",
       "      <td>0.2499</td>\n",
       "      <td>-0.48380</td>\n",
       "      <td>0.4578</td>\n",
       "      <td>-0.0678</td>\n",
       "      <td>-0.1641</td>\n",
       "      <td>-0.29010</td>\n",
       "      <td>...</td>\n",
       "      <td>-0.8164</td>\n",
       "      <td>0.2514</td>\n",
       "      <td>0.4768</td>\n",
       "      <td>-0.4894</td>\n",
       "      <td>-0.21715</td>\n",
       "      <td>0.00550</td>\n",
       "      <td>-0.0715</td>\n",
       "      <td>-5.9309</td>\n",
       "      <td>-0.2436</td>\n",
       "      <td>-0.4368</td>\n",
       "    </tr>\n",
       "    <tr>\n",
       "      <th>3</th>\n",
       "      <td>1003548</td>\n",
       "      <td>0.0255</td>\n",
       "      <td>NaN</td>\n",
       "      <td>NaN</td>\n",
       "      <td>NaN</td>\n",
       "      <td>NaN</td>\n",
       "      <td>NaN</td>\n",
       "      <td>-0.2824</td>\n",
       "      <td>NaN</td>\n",
       "      <td>NaN</td>\n",
       "      <td>...</td>\n",
       "      <td>1.1505</td>\n",
       "      <td>0.1681</td>\n",
       "      <td>0.2402</td>\n",
       "      <td>NaN</td>\n",
       "      <td>0.42805</td>\n",
       "      <td>0.55870</td>\n",
       "      <td>0.4882</td>\n",
       "      <td>NaN</td>\n",
       "      <td>-0.0600</td>\n",
       "      <td>0.7822</td>\n",
       "    </tr>\n",
       "  </tbody>\n",
       "</table>\n",
       "<p>4 rows × 2924 columns</p>\n",
       "</div>"
      ],
      "text/plain": [
       "       eid  olink_instance_0.a1bg  olink_instance_0.aamdc  \\\n",
       "0  1002133                 0.0957                 0.59795   \n",
       "1  1002201                -0.0473                 0.39585   \n",
       "2  1002534                -0.2239                -0.04545   \n",
       "3  1003548                 0.0255                     NaN   \n",
       "\n",
       "   olink_instance_0.aarsd1  olink_instance_0.abca2  olink_instance_0.abhd14b  \\\n",
       "0                  1.33215                 -0.6441                   0.76325   \n",
       "1                  0.26585                  0.0604                   1.07765   \n",
       "2                 -0.07580                  0.2499                  -0.48380   \n",
       "3                      NaN                     NaN                       NaN   \n",
       "\n",
       "   olink_instance_0.abl1  olink_instance_0.abo  olink_instance_0.abraxas2  \\\n",
       "0                 0.3784                0.5446                     0.4682   \n",
       "1                 1.3977                0.5830                     1.0740   \n",
       "2                 0.4578               -0.0678                    -0.1641   \n",
       "3                    NaN               -0.2824                        NaN   \n",
       "\n",
       "   olink_instance_0.acaa1  ...  olink_instance_0.zfyve19  \\\n",
       "0                 0.21920  ...                   -0.2728   \n",
       "1                 0.75625  ...                    0.9153   \n",
       "2                -0.29010  ...                   -0.8164   \n",
       "3                     NaN  ...                    1.1505   \n",
       "\n",
       "   olink_instance_0.zhx2  olink_instance_0.znf174  olink_instance_0.znf75d  \\\n",
       "0                 0.1954                  -0.2586                  -0.0127   \n",
       "1                -0.0274                  -0.3048                  -0.8814   \n",
       "2                 0.2514                   0.4768                  -0.4894   \n",
       "3                 0.1681                   0.2402                      NaN   \n",
       "\n",
       "   olink_instance_0.znf830  olink_instance_0.znrd2  olink_instance_0.znrf4  \\\n",
       "0                  0.02350                -0.26245                 -0.1236   \n",
       "1                 -0.53420                 1.12255                 -0.5537   \n",
       "2                 -0.21715                 0.00550                 -0.0715   \n",
       "3                  0.42805                 0.55870                  0.4882   \n",
       "\n",
       "   olink_instance_0.zp3  olink_instance_0.zp4  olink_instance_0.zpr1  \n",
       "0               -6.0773               -0.0136                 0.4131  \n",
       "1               -5.1443               -0.1713                -0.5605  \n",
       "2               -5.9309               -0.2436                -0.4368  \n",
       "3                   NaN               -0.0600                 0.7822  \n",
       "\n",
       "[4 rows x 2924 columns]"
      ]
     },
     "execution_count": 27,
     "metadata": {},
     "output_type": "execute_result"
    }
   ],
   "source": [
    "Olink_df.head(4)"
   ]
  },
  {
   "cell_type": "code",
   "execution_count": 28,
   "id": "dfff1e43-f14b-48bf-bc69-6978f04406b8",
   "metadata": {},
   "outputs": [
    {
     "data": {
      "text/plain": [
       "(53013, 2924)"
      ]
     },
     "execution_count": 28,
     "metadata": {},
     "output_type": "execute_result"
    }
   ],
   "source": [
    "Olink_df.shape"
   ]
  },
  {
   "cell_type": "code",
   "execution_count": 29,
   "id": "78fa379b-e74e-493a-9fa1-d7b1abfe134f",
   "metadata": {},
   "outputs": [],
   "source": [
    "# 提取非eid列（蛋白质表达量列）\n",
    "protein_cols = Olink_df.columns[1:]  # 第一列是eid"
   ]
  },
  {
   "cell_type": "code",
   "execution_count": 30,
   "id": "b010bb07-c9f6-4f59-979d-942800d35bcb",
   "metadata": {},
   "outputs": [],
   "source": [
    "# 找出蛋白质表达量全为NaN的病人行\n",
    "all_nan_mask = Olink_df[protein_cols].isna().all(axis=1)"
   ]
  },
  {
   "cell_type": "code",
   "execution_count": 31,
   "id": "2c2203d6-cb2b-42ec-af22-d42d1bb64178",
   "metadata": {},
   "outputs": [],
   "source": [
    "# 过滤掉全NaN的病人\n",
    "Olink_df_filtered = Olink_df[~all_nan_mask].copy()"
   ]
  },
  {
   "cell_type": "code",
   "execution_count": 32,
   "id": "a38b298d-1895-40fb-afd2-9790ad53c799",
   "metadata": {},
   "outputs": [
    {
     "data": {
      "text/plain": [
       "(53013, 2924)"
      ]
     },
     "execution_count": 32,
     "metadata": {},
     "output_type": "execute_result"
    }
   ],
   "source": [
    "Olink_df_filtered.shape"
   ]
  },
  {
   "cell_type": "code",
   "execution_count": 33,
   "id": "e54ae270-3e9b-42dc-a2dd-31e858f9daee",
   "metadata": {},
   "outputs": [],
   "source": [
    "# 2. 用各列最小值填补NaN\n",
    "# 计算各列最小值（排除NaN）\n",
    "col_min_values = Olink_df_filtered[protein_cols].min()\n",
    "\n",
    "# 填补NaN（使用广播机制）\n",
    "Olink_df_imputed = Olink_df_filtered.copy()\n",
    "Olink_df_imputed[protein_cols] = Olink_df_filtered[protein_cols].fillna(col_min_values)"
   ]
  },
  {
   "cell_type": "code",
   "execution_count": 34,
   "id": "f65e1a12-5930-48b5-a9fc-9b98af08c50d",
   "metadata": {},
   "outputs": [
    {
     "data": {
      "text/html": [
       "<div>\n",
       "<style scoped>\n",
       "    .dataframe tbody tr th:only-of-type {\n",
       "        vertical-align: middle;\n",
       "    }\n",
       "\n",
       "    .dataframe tbody tr th {\n",
       "        vertical-align: top;\n",
       "    }\n",
       "\n",
       "    .dataframe thead th {\n",
       "        text-align: right;\n",
       "    }\n",
       "</style>\n",
       "<table border=\"1\" class=\"dataframe\">\n",
       "  <thead>\n",
       "    <tr style=\"text-align: right;\">\n",
       "      <th></th>\n",
       "      <th>eid</th>\n",
       "      <th>olink_instance_0.a1bg</th>\n",
       "      <th>olink_instance_0.aamdc</th>\n",
       "      <th>olink_instance_0.aarsd1</th>\n",
       "      <th>olink_instance_0.abca2</th>\n",
       "      <th>olink_instance_0.abhd14b</th>\n",
       "      <th>olink_instance_0.abl1</th>\n",
       "      <th>olink_instance_0.abo</th>\n",
       "      <th>olink_instance_0.abraxas2</th>\n",
       "      <th>olink_instance_0.acaa1</th>\n",
       "      <th>...</th>\n",
       "      <th>olink_instance_0.zfyve19</th>\n",
       "      <th>olink_instance_0.zhx2</th>\n",
       "      <th>olink_instance_0.znf174</th>\n",
       "      <th>olink_instance_0.znf75d</th>\n",
       "      <th>olink_instance_0.znf830</th>\n",
       "      <th>olink_instance_0.znrd2</th>\n",
       "      <th>olink_instance_0.znrf4</th>\n",
       "      <th>olink_instance_0.zp3</th>\n",
       "      <th>olink_instance_0.zp4</th>\n",
       "      <th>olink_instance_0.zpr1</th>\n",
       "    </tr>\n",
       "  </thead>\n",
       "  <tbody>\n",
       "    <tr>\n",
       "      <th>0</th>\n",
       "      <td>1002133</td>\n",
       "      <td>0.0957</td>\n",
       "      <td>0.59795</td>\n",
       "      <td>1.33215</td>\n",
       "      <td>-0.6441</td>\n",
       "      <td>0.76325</td>\n",
       "      <td>0.37840</td>\n",
       "      <td>0.5446</td>\n",
       "      <td>0.4682</td>\n",
       "      <td>0.21920</td>\n",
       "      <td>...</td>\n",
       "      <td>-0.2728</td>\n",
       "      <td>0.1954</td>\n",
       "      <td>-0.2586</td>\n",
       "      <td>-0.0127</td>\n",
       "      <td>0.02350</td>\n",
       "      <td>-0.26245</td>\n",
       "      <td>-0.1236</td>\n",
       "      <td>-6.0773</td>\n",
       "      <td>-0.0136</td>\n",
       "      <td>0.4131</td>\n",
       "    </tr>\n",
       "    <tr>\n",
       "      <th>1</th>\n",
       "      <td>1002201</td>\n",
       "      <td>-0.0473</td>\n",
       "      <td>0.39585</td>\n",
       "      <td>0.26585</td>\n",
       "      <td>0.0604</td>\n",
       "      <td>1.07765</td>\n",
       "      <td>1.39770</td>\n",
       "      <td>0.5830</td>\n",
       "      <td>1.0740</td>\n",
       "      <td>0.75625</td>\n",
       "      <td>...</td>\n",
       "      <td>0.9153</td>\n",
       "      <td>-0.0274</td>\n",
       "      <td>-0.3048</td>\n",
       "      <td>-0.8814</td>\n",
       "      <td>-0.53420</td>\n",
       "      <td>1.12255</td>\n",
       "      <td>-0.5537</td>\n",
       "      <td>-5.1443</td>\n",
       "      <td>-0.1713</td>\n",
       "      <td>-0.5605</td>\n",
       "    </tr>\n",
       "    <tr>\n",
       "      <th>2</th>\n",
       "      <td>1002534</td>\n",
       "      <td>-0.2239</td>\n",
       "      <td>-0.04545</td>\n",
       "      <td>-0.07580</td>\n",
       "      <td>0.2499</td>\n",
       "      <td>-0.48380</td>\n",
       "      <td>0.45780</td>\n",
       "      <td>-0.0678</td>\n",
       "      <td>-0.1641</td>\n",
       "      <td>-0.29010</td>\n",
       "      <td>...</td>\n",
       "      <td>-0.8164</td>\n",
       "      <td>0.2514</td>\n",
       "      <td>0.4768</td>\n",
       "      <td>-0.4894</td>\n",
       "      <td>-0.21715</td>\n",
       "      <td>0.00550</td>\n",
       "      <td>-0.0715</td>\n",
       "      <td>-5.9309</td>\n",
       "      <td>-0.2436</td>\n",
       "      <td>-0.4368</td>\n",
       "    </tr>\n",
       "    <tr>\n",
       "      <th>3</th>\n",
       "      <td>1003548</td>\n",
       "      <td>0.0255</td>\n",
       "      <td>-1.97485</td>\n",
       "      <td>-4.52005</td>\n",
       "      <td>-1.5961</td>\n",
       "      <td>-5.09210</td>\n",
       "      <td>-2.67535</td>\n",
       "      <td>-0.2824</td>\n",
       "      <td>-2.4128</td>\n",
       "      <td>-6.44710</td>\n",
       "      <td>...</td>\n",
       "      <td>1.1505</td>\n",
       "      <td>0.1681</td>\n",
       "      <td>0.2402</td>\n",
       "      <td>-5.0317</td>\n",
       "      <td>0.42805</td>\n",
       "      <td>0.55870</td>\n",
       "      <td>0.4882</td>\n",
       "      <td>-7.2245</td>\n",
       "      <td>-0.0600</td>\n",
       "      <td>0.7822</td>\n",
       "    </tr>\n",
       "  </tbody>\n",
       "</table>\n",
       "<p>4 rows × 2924 columns</p>\n",
       "</div>"
      ],
      "text/plain": [
       "       eid  olink_instance_0.a1bg  olink_instance_0.aamdc  \\\n",
       "0  1002133                 0.0957                 0.59795   \n",
       "1  1002201                -0.0473                 0.39585   \n",
       "2  1002534                -0.2239                -0.04545   \n",
       "3  1003548                 0.0255                -1.97485   \n",
       "\n",
       "   olink_instance_0.aarsd1  olink_instance_0.abca2  olink_instance_0.abhd14b  \\\n",
       "0                  1.33215                 -0.6441                   0.76325   \n",
       "1                  0.26585                  0.0604                   1.07765   \n",
       "2                 -0.07580                  0.2499                  -0.48380   \n",
       "3                 -4.52005                 -1.5961                  -5.09210   \n",
       "\n",
       "   olink_instance_0.abl1  olink_instance_0.abo  olink_instance_0.abraxas2  \\\n",
       "0                0.37840                0.5446                     0.4682   \n",
       "1                1.39770                0.5830                     1.0740   \n",
       "2                0.45780               -0.0678                    -0.1641   \n",
       "3               -2.67535               -0.2824                    -2.4128   \n",
       "\n",
       "   olink_instance_0.acaa1  ...  olink_instance_0.zfyve19  \\\n",
       "0                 0.21920  ...                   -0.2728   \n",
       "1                 0.75625  ...                    0.9153   \n",
       "2                -0.29010  ...                   -0.8164   \n",
       "3                -6.44710  ...                    1.1505   \n",
       "\n",
       "   olink_instance_0.zhx2  olink_instance_0.znf174  olink_instance_0.znf75d  \\\n",
       "0                 0.1954                  -0.2586                  -0.0127   \n",
       "1                -0.0274                  -0.3048                  -0.8814   \n",
       "2                 0.2514                   0.4768                  -0.4894   \n",
       "3                 0.1681                   0.2402                  -5.0317   \n",
       "\n",
       "   olink_instance_0.znf830  olink_instance_0.znrd2  olink_instance_0.znrf4  \\\n",
       "0                  0.02350                -0.26245                 -0.1236   \n",
       "1                 -0.53420                 1.12255                 -0.5537   \n",
       "2                 -0.21715                 0.00550                 -0.0715   \n",
       "3                  0.42805                 0.55870                  0.4882   \n",
       "\n",
       "   olink_instance_0.zp3  olink_instance_0.zp4  olink_instance_0.zpr1  \n",
       "0               -6.0773               -0.0136                 0.4131  \n",
       "1               -5.1443               -0.1713                -0.5605  \n",
       "2               -5.9309               -0.2436                -0.4368  \n",
       "3               -7.2245               -0.0600                 0.7822  \n",
       "\n",
       "[4 rows x 2924 columns]"
      ]
     },
     "execution_count": 34,
     "metadata": {},
     "output_type": "execute_result"
    }
   ],
   "source": [
    "Olink_df_imputed.head(4)"
   ]
  },
  {
   "cell_type": "code",
   "execution_count": 35,
   "id": "05474297-86e0-4f01-8c8b-d0ecb52c55a1",
   "metadata": {},
   "outputs": [
    {
     "name": "stdout",
     "output_type": "stream",
     "text": [
      "                              最小值      最大值\n",
      "olink_instance_0.a1bg    -1.24600  1.47870\n",
      "olink_instance_0.aamdc   -1.97485  3.93705\n",
      "olink_instance_0.aarsd1  -4.52005  4.04045\n",
      "olink_instance_0.abca2   -1.59610  5.20110\n",
      "olink_instance_0.abhd14b -5.09210  4.20725\n",
      "...                           ...      ...\n",
      "olink_instance_0.znrd2   -2.03170  7.07165\n",
      "olink_instance_0.znrf4   -1.93520  7.30770\n",
      "olink_instance_0.zp3     -7.22450  4.52160\n",
      "olink_instance_0.zp4     -0.92460  7.15110\n",
      "olink_instance_0.zpr1    -2.15270  9.32450\n",
      "\n",
      "[2923 rows x 2 columns]\n"
     ]
    }
   ],
   "source": [
    "# 计算除第一列外每列的最小值和最大值\n",
    "range_df = Olink_df_imputed.iloc[:, 1:].agg(['min', 'max'])\n",
    "\n",
    "# 转置结果以便更清晰地查看每列的范围\n",
    "range_df = range_df.T\n",
    "range_df.columns = ['最小值', '最大值']\n",
    "\n",
    "# 打印结果\n",
    "print(range_df)"
   ]
  },
  {
   "cell_type": "code",
   "execution_count": 36,
   "id": "fe6f246b-edbf-44af-be37-bed8188167e7",
   "metadata": {},
   "outputs": [],
   "source": [
    "# 计算除第一列外每一行的最小值和最大值\n",
    "range_df = Olink_df_imputed.iloc[:, 1:].agg(['min', 'max'], axis=1)"
   ]
  },
  {
   "cell_type": "code",
   "execution_count": 37,
   "id": "8162e566-fc5e-42e8-bf09-df0b9e56d668",
   "metadata": {},
   "outputs": [
    {
     "name": "stdout",
     "output_type": "stream",
     "text": [
      "           最小值      最大值\n",
      "0     -8.97930  9.32795\n",
      "1     -7.23585  4.90065\n",
      "2     -8.81690  5.32800\n",
      "3     -8.97930  8.92390\n",
      "4     -5.79100  4.68585\n",
      "...        ...      ...\n",
      "53008 -4.42530  7.08710\n",
      "53009 -8.90080  4.43580\n",
      "53010 -5.25605  7.28690\n",
      "53011 -6.38720  3.85655\n",
      "53012 -8.97930  6.40180\n",
      "\n",
      "[53013 rows x 2 columns]\n"
     ]
    }
   ],
   "source": [
    "range_df.columns = ['最小值', '最大值']\n",
    "\n",
    "# 打印结果\n",
    "print(range_df)"
   ]
  },
  {
   "cell_type": "code",
   "execution_count": 38,
   "id": "21407705-e1de-4806-90da-ea518a6faa19",
   "metadata": {},
   "outputs": [
    {
     "name": "stdout",
     "output_type": "stream",
     "text": [
      "0         144.02135\n",
      "1         711.91540\n",
      "2        -418.11685\n",
      "3       -2705.07415\n",
      "4        -589.10660\n",
      "            ...    \n",
      "53008     488.80845\n",
      "53009    -557.52780\n",
      "53010     556.30340\n",
      "53011     279.96150\n",
      "53012     158.69970\n",
      "Length: 53013, dtype: float64\n"
     ]
    }
   ],
   "source": [
    "# 对除第一列外的所有列进行行求和\n",
    "row_sums = Olink_df_imputed.iloc[:, 1:].sum(axis=1)\n",
    "\n",
    "# 显示结果示例（前5行）\n",
    "print(row_sums)"
   ]
  },
  {
   "cell_type": "code",
   "execution_count": 39,
   "id": "c7f6d0be-c2eb-45e5-a8dd-59a6279d69b5",
   "metadata": {},
   "outputs": [
    {
     "name": "stdout",
     "output_type": "stream",
     "text": [
      "olink_instance_0.a1bg      -0.195471\n",
      "olink_instance_0.aamdc     -0.332965\n",
      "olink_instance_0.aarsd1    -0.129088\n",
      "olink_instance_0.abca2     -0.281832\n",
      "olink_instance_0.abhd14b   -0.181393\n",
      "                              ...   \n",
      "olink_instance_0.znrd2     -0.249826\n",
      "olink_instance_0.znrf4     -0.283627\n",
      "olink_instance_0.zp3       -2.180907\n",
      "olink_instance_0.zp4       -0.144332\n",
      "olink_instance_0.zpr1      -0.214294\n",
      "Length: 2923, dtype: float64\n"
     ]
    }
   ],
   "source": [
    "# 对除第一列外的所有列进行列求均值\n",
    "col_means = Olink_df_imputed.iloc[:, 1:].mean()\n",
    "\n",
    "print(col_means)"
   ]
  },
  {
   "cell_type": "code",
   "execution_count": 40,
   "id": "76abc588-877e-474a-9d2d-41c32c2e0ddb",
   "metadata": {},
   "outputs": [
    {
     "name": "stdout",
     "output_type": "stream",
     "text": [
      "               eid           protein_name  protein_expression\n",
      "0          1002133  olink_instance_0.a1bg              0.0957\n",
      "1          1002201  olink_instance_0.a1bg             -0.0473\n",
      "2          1002534  olink_instance_0.a1bg             -0.2239\n",
      "3          1003548  olink_instance_0.a1bg              0.0255\n",
      "4          1003599  olink_instance_0.a1bg              0.2003\n",
      "...            ...                    ...                 ...\n",
      "154956994  6021692  olink_instance_0.zpr1              1.2116\n",
      "154956995  6021914  olink_instance_0.zpr1             -0.0460\n",
      "154956996  6022081  olink_instance_0.zpr1             -0.6499\n",
      "154956997  6022213  olink_instance_0.zpr1             -0.1758\n",
      "154956998  6022247  olink_instance_0.zpr1              1.4512\n",
      "\n",
      "[154956999 rows x 3 columns]\n"
     ]
    }
   ],
   "source": [
    "# 将数据框从宽格式转换为长格式\n",
    "Olink_long_df = pd.melt(Olink_df_imputed, id_vars=['eid'], var_name='protein_name', value_name='protein_expression')\n",
    "\n",
    "print(Olink_long_df)  "
   ]
  },
  {
   "cell_type": "code",
   "execution_count": 41,
   "id": "f9eafd6f-38c9-4bd5-a00e-bd67edd348c1",
   "metadata": {},
   "outputs": [
    {
     "data": {
      "text/plain": [
       "154956999"
      ]
     },
     "execution_count": 41,
     "metadata": {},
     "output_type": "execute_result"
    }
   ],
   "source": [
    "53013 * 2923"
   ]
  },
  {
   "cell_type": "code",
   "execution_count": 42,
   "id": "54c894ff-2347-498a-ab76-5e745529612e",
   "metadata": {},
   "outputs": [
    {
     "name": "stdout",
     "output_type": "stream",
     "text": [
      "-9.66045\n",
      "13.4435\n"
     ]
    }
   ],
   "source": [
    "print(Olink_long_df['protein_expression'].min())\n",
    "print(Olink_long_df['protein_expression'].max())"
   ]
  },
  {
   "cell_type": "code",
   "execution_count": 43,
   "id": "2c2a9d49-930b-4ae5-87b5-64a7ce618a9a",
   "metadata": {},
   "outputs": [
    {
     "data": {
      "text/plain": [
       "count    1.549570e+08\n",
       "mean    -2.591068e-01\n",
       "std      1.175336e+00\n",
       "min     -9.660450e+00\n",
       "25%     -4.430000e-01\n",
       "50%     -5.570000e-02\n",
       "75%      2.548500e-01\n",
       "max      1.344350e+01\n",
       "Name: protein_expression, dtype: float64"
      ]
     },
     "execution_count": 43,
     "metadata": {},
     "output_type": "execute_result"
    }
   ],
   "source": [
    "Olink_long_df['protein_expression'].describe()"
   ]
  },
  {
   "cell_type": "code",
   "execution_count": 44,
   "id": "17f12f34-c656-47e2-aba2-d4e8d8f13bb3",
   "metadata": {},
   "outputs": [],
   "source": [
    "Olink_long_df = Olink_long_df.dropna(subset=['protein_expression'])"
   ]
  },
  {
   "cell_type": "code",
   "execution_count": 45,
   "id": "a220d748-b564-48c0-9dea-7eee69db5f1a",
   "metadata": {},
   "outputs": [
    {
     "data": {
      "text/plain": [
       "(154956999, 3)"
      ]
     },
     "execution_count": 45,
     "metadata": {},
     "output_type": "execute_result"
    }
   ],
   "source": [
    "Olink_long_df.shape"
   ]
  },
  {
   "cell_type": "code",
   "execution_count": 46,
   "id": "3301a42d-3af6-400c-aad1-1ce9f9f30f6e",
   "metadata": {},
   "outputs": [],
   "source": [
    "RecruitmentDate = pd.read_csv(\"../Data/RecruitmentDate.csv\")"
   ]
  },
  {
   "cell_type": "code",
   "execution_count": 47,
   "id": "7718aa9d-7ed8-4f26-8773-23043cc86033",
   "metadata": {},
   "outputs": [],
   "source": [
    "RecruitmentDate[\"eid\"] = RecruitmentDate[\"eid\"].astype(str)"
   ]
  },
  {
   "cell_type": "code",
   "execution_count": 48,
   "id": "a261fa43-ed15-47fe-8aaf-1eda164f5f16",
   "metadata": {},
   "outputs": [
    {
     "data": {
      "text/html": [
       "<div>\n",
       "<style scoped>\n",
       "    .dataframe tbody tr th:only-of-type {\n",
       "        vertical-align: middle;\n",
       "    }\n",
       "\n",
       "    .dataframe tbody tr th {\n",
       "        vertical-align: top;\n",
       "    }\n",
       "\n",
       "    .dataframe thead th {\n",
       "        text-align: right;\n",
       "    }\n",
       "</style>\n",
       "<table border=\"1\" class=\"dataframe\">\n",
       "  <thead>\n",
       "    <tr style=\"text-align: right;\">\n",
       "      <th></th>\n",
       "      <th>eid</th>\n",
       "      <th>p34</th>\n",
       "      <th>p52</th>\n",
       "      <th>p53_i0</th>\n",
       "      <th>p53_i1</th>\n",
       "      <th>p53_i2</th>\n",
       "      <th>p53_i3</th>\n",
       "      <th>p21022</th>\n",
       "    </tr>\n",
       "  </thead>\n",
       "  <tbody>\n",
       "    <tr>\n",
       "      <th>0</th>\n",
       "      <td>2600773</td>\n",
       "      <td>1946</td>\n",
       "      <td>11</td>\n",
       "      <td>2008-12-19</td>\n",
       "      <td>NaN</td>\n",
       "      <td>NaN</td>\n",
       "      <td>NaN</td>\n",
       "      <td>62</td>\n",
       "    </tr>\n",
       "    <tr>\n",
       "      <th>1</th>\n",
       "      <td>2163573</td>\n",
       "      <td>1948</td>\n",
       "      <td>5</td>\n",
       "      <td>2006-03-21</td>\n",
       "      <td>NaN</td>\n",
       "      <td>NaN</td>\n",
       "      <td>NaN</td>\n",
       "      <td>57</td>\n",
       "    </tr>\n",
       "  </tbody>\n",
       "</table>\n",
       "</div>"
      ],
      "text/plain": [
       "       eid   p34  p52      p53_i0 p53_i1 p53_i2 p53_i3  p21022\n",
       "0  2600773  1946   11  2008-12-19    NaN    NaN    NaN      62\n",
       "1  2163573  1948    5  2006-03-21    NaN    NaN    NaN      57"
      ]
     },
     "execution_count": 48,
     "metadata": {},
     "output_type": "execute_result"
    }
   ],
   "source": [
    "RecruitmentDate.head(2)"
   ]
  },
  {
   "cell_type": "code",
   "execution_count": 49,
   "id": "7232cb68-2a24-4043-b632-73e709c57fd5",
   "metadata": {},
   "outputs": [],
   "source": [
    "# 转换为字符串并补零\n",
    "RecruitmentDate['p34_str'] = RecruitmentDate['p34'].astype(str)\n",
    "RecruitmentDate['p52_str'] = RecruitmentDate['p52'].astype(str).str.zfill(2)\n",
    "\n",
    "# 拼接成生日格式\n",
    "RecruitmentDate['birthday'] = RecruitmentDate['p34_str'] + '-' + RecruitmentDate['p52_str'] + '-01'"
   ]
  },
  {
   "cell_type": "code",
   "execution_count": 50,
   "id": "b1024294-8890-418d-8159-25e8f889e489",
   "metadata": {},
   "outputs": [],
   "source": [
    "# 转换Date和birthday列为datetime类型\n",
    "RecruitmentDate['p53_i0'] = pd.to_datetime(RecruitmentDate['p53_i0'])\n",
    "RecruitmentDate['birthday'] = pd.to_datetime(RecruitmentDate['birthday'])"
   ]
  },
  {
   "cell_type": "code",
   "execution_count": 51,
   "id": "45389151-6d27-4e2c-8886-b85946c7b702",
   "metadata": {},
   "outputs": [],
   "source": [
    "# 计算时间差（天数）\n",
    "RecruitmentDate['RecruitmentAge'] = (RecruitmentDate['p53_i0'] - RecruitmentDate['birthday']).dt.days"
   ]
  },
  {
   "cell_type": "code",
   "execution_count": 52,
   "id": "b60d66be-5212-4b4e-9f04-e95605bc3d67",
   "metadata": {},
   "outputs": [
    {
     "data": {
      "text/html": [
       "<div>\n",
       "<style scoped>\n",
       "    .dataframe tbody tr th:only-of-type {\n",
       "        vertical-align: middle;\n",
       "    }\n",
       "\n",
       "    .dataframe tbody tr th {\n",
       "        vertical-align: top;\n",
       "    }\n",
       "\n",
       "    .dataframe thead th {\n",
       "        text-align: right;\n",
       "    }\n",
       "</style>\n",
       "<table border=\"1\" class=\"dataframe\">\n",
       "  <thead>\n",
       "    <tr style=\"text-align: right;\">\n",
       "      <th></th>\n",
       "      <th>eid</th>\n",
       "      <th>p34</th>\n",
       "      <th>p52</th>\n",
       "      <th>p53_i0</th>\n",
       "      <th>p53_i1</th>\n",
       "      <th>p53_i2</th>\n",
       "      <th>p53_i3</th>\n",
       "      <th>p21022</th>\n",
       "      <th>p34_str</th>\n",
       "      <th>p52_str</th>\n",
       "      <th>birthday</th>\n",
       "      <th>RecruitmentAge</th>\n",
       "    </tr>\n",
       "  </thead>\n",
       "  <tbody>\n",
       "    <tr>\n",
       "      <th>0</th>\n",
       "      <td>2600773</td>\n",
       "      <td>1946</td>\n",
       "      <td>11</td>\n",
       "      <td>2008-12-19</td>\n",
       "      <td>NaN</td>\n",
       "      <td>NaN</td>\n",
       "      <td>NaN</td>\n",
       "      <td>62</td>\n",
       "      <td>1946</td>\n",
       "      <td>11</td>\n",
       "      <td>1946-11-01</td>\n",
       "      <td>22694</td>\n",
       "    </tr>\n",
       "    <tr>\n",
       "      <th>1</th>\n",
       "      <td>2163573</td>\n",
       "      <td>1948</td>\n",
       "      <td>5</td>\n",
       "      <td>2006-03-21</td>\n",
       "      <td>NaN</td>\n",
       "      <td>NaN</td>\n",
       "      <td>NaN</td>\n",
       "      <td>57</td>\n",
       "      <td>1948</td>\n",
       "      <td>05</td>\n",
       "      <td>1948-05-01</td>\n",
       "      <td>21143</td>\n",
       "    </tr>\n",
       "  </tbody>\n",
       "</table>\n",
       "</div>"
      ],
      "text/plain": [
       "       eid   p34  p52     p53_i0 p53_i1 p53_i2 p53_i3  p21022 p34_str p52_str  \\\n",
       "0  2600773  1946   11 2008-12-19    NaN    NaN    NaN      62    1946      11   \n",
       "1  2163573  1948    5 2006-03-21    NaN    NaN    NaN      57    1948      05   \n",
       "\n",
       "    birthday  RecruitmentAge  \n",
       "0 1946-11-01           22694  \n",
       "1 1948-05-01           21143  "
      ]
     },
     "execution_count": 52,
     "metadata": {},
     "output_type": "execute_result"
    }
   ],
   "source": [
    "RecruitmentDate.head(2)"
   ]
  },
  {
   "cell_type": "code",
   "execution_count": 53,
   "id": "1c11996a-66c5-4aca-8f13-08fcb3f7024e",
   "metadata": {},
   "outputs": [
    {
     "data": {
      "text/html": [
       "<div>\n",
       "<style scoped>\n",
       "    .dataframe tbody tr th:only-of-type {\n",
       "        vertical-align: middle;\n",
       "    }\n",
       "\n",
       "    .dataframe tbody tr th {\n",
       "        vertical-align: top;\n",
       "    }\n",
       "\n",
       "    .dataframe thead th {\n",
       "        text-align: right;\n",
       "    }\n",
       "</style>\n",
       "<table border=\"1\" class=\"dataframe\">\n",
       "  <thead>\n",
       "    <tr style=\"text-align: right;\">\n",
       "      <th></th>\n",
       "      <th>eid</th>\n",
       "      <th>protein_name</th>\n",
       "      <th>protein_expression</th>\n",
       "    </tr>\n",
       "  </thead>\n",
       "  <tbody>\n",
       "    <tr>\n",
       "      <th>0</th>\n",
       "      <td>1002133</td>\n",
       "      <td>olink_instance_0.a1bg</td>\n",
       "      <td>0.0957</td>\n",
       "    </tr>\n",
       "    <tr>\n",
       "      <th>1</th>\n",
       "      <td>1002201</td>\n",
       "      <td>olink_instance_0.a1bg</td>\n",
       "      <td>-0.0473</td>\n",
       "    </tr>\n",
       "  </tbody>\n",
       "</table>\n",
       "</div>"
      ],
      "text/plain": [
       "       eid           protein_name  protein_expression\n",
       "0  1002133  olink_instance_0.a1bg              0.0957\n",
       "1  1002201  olink_instance_0.a1bg             -0.0473"
      ]
     },
     "execution_count": 53,
     "metadata": {},
     "output_type": "execute_result"
    }
   ],
   "source": [
    "Olink_long_df.head(2)"
   ]
  },
  {
   "cell_type": "code",
   "execution_count": 54,
   "id": "14533ad6-4c61-4a4d-a4da-0b6ad35e28b1",
   "metadata": {},
   "outputs": [],
   "source": [
    "# 使用左连接将Recruitment列合并到Olink_long_df中\n",
    "Olink_long_df = Olink_long_df.merge(\n",
    "    RecruitmentDate[['eid', 'RecruitmentAge']],  # 只选择需要的列\n",
    "    on='eid',         # 连接键\n",
    "    how='left'        # 左连接，保留Olink_long_df的所有行\n",
    ")"
   ]
  },
  {
   "cell_type": "code",
   "execution_count": 55,
   "id": "510e527d-b80a-4355-b9e2-1ae931eb8941",
   "metadata": {},
   "outputs": [
    {
     "data": {
      "text/html": [
       "<div>\n",
       "<style scoped>\n",
       "    .dataframe tbody tr th:only-of-type {\n",
       "        vertical-align: middle;\n",
       "    }\n",
       "\n",
       "    .dataframe tbody tr th {\n",
       "        vertical-align: top;\n",
       "    }\n",
       "\n",
       "    .dataframe thead th {\n",
       "        text-align: right;\n",
       "    }\n",
       "</style>\n",
       "<table border=\"1\" class=\"dataframe\">\n",
       "  <thead>\n",
       "    <tr style=\"text-align: right;\">\n",
       "      <th></th>\n",
       "      <th>eid</th>\n",
       "      <th>protein_name</th>\n",
       "      <th>protein_expression</th>\n",
       "      <th>RecruitmentAge</th>\n",
       "    </tr>\n",
       "  </thead>\n",
       "  <tbody>\n",
       "    <tr>\n",
       "      <th>0</th>\n",
       "      <td>1002133</td>\n",
       "      <td>olink_instance_0.a1bg</td>\n",
       "      <td>0.0957</td>\n",
       "      <td>23090</td>\n",
       "    </tr>\n",
       "    <tr>\n",
       "      <th>1</th>\n",
       "      <td>1002201</td>\n",
       "      <td>olink_instance_0.a1bg</td>\n",
       "      <td>-0.0473</td>\n",
       "      <td>25311</td>\n",
       "    </tr>\n",
       "  </tbody>\n",
       "</table>\n",
       "</div>"
      ],
      "text/plain": [
       "       eid           protein_name  protein_expression  RecruitmentAge\n",
       "0  1002133  olink_instance_0.a1bg              0.0957           23090\n",
       "1  1002201  olink_instance_0.a1bg             -0.0473           25311"
      ]
     },
     "execution_count": 55,
     "metadata": {},
     "output_type": "execute_result"
    }
   ],
   "source": [
    "Olink_long_df.head(2)"
   ]
  },
  {
   "cell_type": "code",
   "execution_count": 56,
   "id": "01756cbd-ea3c-4e6f-95a3-aa6f9dd0a73e",
   "metadata": {},
   "outputs": [
    {
     "data": {
      "text/plain": [
       "False"
      ]
     },
     "execution_count": 56,
     "metadata": {},
     "output_type": "execute_result"
    }
   ],
   "source": [
    "Olink_long_df['RecruitmentAge'].isna().any()"
   ]
  },
  {
   "cell_type": "code",
   "execution_count": 57,
   "id": "b6e678b2-cfe8-4342-b2a5-970b6bb3a21e",
   "metadata": {},
   "outputs": [],
   "source": [
    "Olink_long_df['protein_name'] = Olink_long_df['protein_name'].str.replace(\"olink_instance_0.\", \"\", regex=False)"
   ]
  },
  {
   "cell_type": "code",
   "execution_count": 58,
   "id": "259828f7-d7fc-4435-99c9-b126ce05dcfa",
   "metadata": {},
   "outputs": [
    {
     "data": {
      "text/html": [
       "<div>\n",
       "<style scoped>\n",
       "    .dataframe tbody tr th:only-of-type {\n",
       "        vertical-align: middle;\n",
       "    }\n",
       "\n",
       "    .dataframe tbody tr th {\n",
       "        vertical-align: top;\n",
       "    }\n",
       "\n",
       "    .dataframe thead th {\n",
       "        text-align: right;\n",
       "    }\n",
       "</style>\n",
       "<table border=\"1\" class=\"dataframe\">\n",
       "  <thead>\n",
       "    <tr style=\"text-align: right;\">\n",
       "      <th></th>\n",
       "      <th>eid</th>\n",
       "      <th>protein_name</th>\n",
       "      <th>protein_expression</th>\n",
       "      <th>RecruitmentAge</th>\n",
       "    </tr>\n",
       "  </thead>\n",
       "  <tbody>\n",
       "    <tr>\n",
       "      <th>0</th>\n",
       "      <td>1002133</td>\n",
       "      <td>a1bg</td>\n",
       "      <td>0.0957</td>\n",
       "      <td>23090</td>\n",
       "    </tr>\n",
       "    <tr>\n",
       "      <th>1</th>\n",
       "      <td>1002201</td>\n",
       "      <td>a1bg</td>\n",
       "      <td>-0.0473</td>\n",
       "      <td>25311</td>\n",
       "    </tr>\n",
       "  </tbody>\n",
       "</table>\n",
       "</div>"
      ],
      "text/plain": [
       "       eid protein_name  protein_expression  RecruitmentAge\n",
       "0  1002133         a1bg              0.0957           23090\n",
       "1  1002201         a1bg             -0.0473           25311"
      ]
     },
     "execution_count": 58,
     "metadata": {},
     "output_type": "execute_result"
    }
   ],
   "source": [
    "Olink_long_df.head(2)"
   ]
  },
  {
   "cell_type": "code",
   "execution_count": 59,
   "id": "f5481701-af94-4f42-812b-b292ee2f86d3",
   "metadata": {},
   "outputs": [],
   "source": [
    "Olink_long_df.to_csv(\"../Data/Olink_long_df.csv\", index=False)"
   ]
  },
  {
   "cell_type": "markdown",
   "id": "edfb57e9-953a-4ddf-a80e-3e224cfc9b4a",
   "metadata": {},
   "source": [
    "### participant-metabolite pairs"
   ]
  },
  {
   "cell_type": "code",
   "execution_count": 60,
   "id": "02217498-a69d-4012-adf4-dd5777d3f151",
   "metadata": {},
   "outputs": [],
   "source": [
    "NMR_df = pd.read_csv(\"../Data/NMR.csv\")"
   ]
  },
  {
   "cell_type": "code",
   "execution_count": 61,
   "id": "f118b909-c54f-4598-9546-68b7c3c407eb",
   "metadata": {},
   "outputs": [
    {
     "data": {
      "text/plain": [
       "(502131, 252)"
      ]
     },
     "execution_count": 61,
     "metadata": {},
     "output_type": "execute_result"
    }
   ],
   "source": [
    "NMR_df.shape"
   ]
  },
  {
   "cell_type": "code",
   "execution_count": 62,
   "id": "2f4c5ec1-7dd7-494e-9169-a6f94a766754",
   "metadata": {},
   "outputs": [],
   "source": [
    "NMR_df['participant.eid'] = NMR_df['participant.eid'].astype(str)"
   ]
  },
  {
   "cell_type": "code",
   "execution_count": 63,
   "id": "62996d30-d204-49b7-91e1-17bce79c0ace",
   "metadata": {},
   "outputs": [
    {
     "data": {
      "text/html": [
       "<div>\n",
       "<style scoped>\n",
       "    .dataframe tbody tr th:only-of-type {\n",
       "        vertical-align: middle;\n",
       "    }\n",
       "\n",
       "    .dataframe tbody tr th {\n",
       "        vertical-align: top;\n",
       "    }\n",
       "\n",
       "    .dataframe thead th {\n",
       "        text-align: right;\n",
       "    }\n",
       "</style>\n",
       "<table border=\"1\" class=\"dataframe\">\n",
       "  <thead>\n",
       "    <tr style=\"text-align: right;\">\n",
       "      <th></th>\n",
       "      <th>participant.eid</th>\n",
       "      <th>participant.p20280_i0</th>\n",
       "      <th>participant.p20281_i0</th>\n",
       "      <th>participant.p23400_i0</th>\n",
       "      <th>participant.p23401_i0</th>\n",
       "      <th>participant.p23402_i0</th>\n",
       "      <th>participant.p23403_i0</th>\n",
       "      <th>participant.p23404_i0</th>\n",
       "      <th>participant.p23405_i0</th>\n",
       "      <th>participant.p23406_i0</th>\n",
       "      <th>...</th>\n",
       "      <th>participant.p23639_i0</th>\n",
       "      <th>participant.p23640_i0</th>\n",
       "      <th>participant.p23641_i0</th>\n",
       "      <th>participant.p23642_i0</th>\n",
       "      <th>participant.p23643_i0</th>\n",
       "      <th>participant.p23644_i0</th>\n",
       "      <th>participant.p23645_i0</th>\n",
       "      <th>participant.p23646_i0</th>\n",
       "      <th>participant.p23647_i0</th>\n",
       "      <th>participant.p23648_i0</th>\n",
       "    </tr>\n",
       "  </thead>\n",
       "  <tbody>\n",
       "    <tr>\n",
       "      <th>0</th>\n",
       "      <td>1000053</td>\n",
       "      <td>2.9721</td>\n",
       "      <td>0.282259</td>\n",
       "      <td>3.8459</td>\n",
       "      <td>2.9413</td>\n",
       "      <td>1.5075</td>\n",
       "      <td>0.83349</td>\n",
       "      <td>1.9998</td>\n",
       "      <td>1.4338</td>\n",
       "      <td>0.90459</td>\n",
       "      <td>...</td>\n",
       "      <td>49.941</td>\n",
       "      <td>40.646</td>\n",
       "      <td>33.031</td>\n",
       "      <td>7.6145</td>\n",
       "      <td>9.413</td>\n",
       "      <td>58.373</td>\n",
       "      <td>34.427</td>\n",
       "      <td>24.479</td>\n",
       "      <td>9.9478</td>\n",
       "      <td>7.2007</td>\n",
       "    </tr>\n",
       "    <tr>\n",
       "      <th>1</th>\n",
       "      <td>1000122</td>\n",
       "      <td>NaN</td>\n",
       "      <td>NaN</td>\n",
       "      <td>NaN</td>\n",
       "      <td>NaN</td>\n",
       "      <td>NaN</td>\n",
       "      <td>NaN</td>\n",
       "      <td>NaN</td>\n",
       "      <td>NaN</td>\n",
       "      <td>NaN</td>\n",
       "      <td>...</td>\n",
       "      <td>NaN</td>\n",
       "      <td>NaN</td>\n",
       "      <td>NaN</td>\n",
       "      <td>NaN</td>\n",
       "      <td>NaN</td>\n",
       "      <td>NaN</td>\n",
       "      <td>NaN</td>\n",
       "      <td>NaN</td>\n",
       "      <td>NaN</td>\n",
       "      <td>NaN</td>\n",
       "    </tr>\n",
       "  </tbody>\n",
       "</table>\n",
       "<p>2 rows × 252 columns</p>\n",
       "</div>"
      ],
      "text/plain": [
       "  participant.eid  participant.p20280_i0  participant.p20281_i0  \\\n",
       "0         1000053                 2.9721               0.282259   \n",
       "1         1000122                    NaN                    NaN   \n",
       "\n",
       "   participant.p23400_i0  participant.p23401_i0  participant.p23402_i0  \\\n",
       "0                 3.8459                 2.9413                 1.5075   \n",
       "1                    NaN                    NaN                    NaN   \n",
       "\n",
       "   participant.p23403_i0  participant.p23404_i0  participant.p23405_i0  \\\n",
       "0                0.83349                 1.9998                 1.4338   \n",
       "1                    NaN                    NaN                    NaN   \n",
       "\n",
       "   participant.p23406_i0  ...  participant.p23639_i0  participant.p23640_i0  \\\n",
       "0                0.90459  ...                 49.941                 40.646   \n",
       "1                    NaN  ...                    NaN                    NaN   \n",
       "\n",
       "   participant.p23641_i0  participant.p23642_i0  participant.p23643_i0  \\\n",
       "0                 33.031                 7.6145                  9.413   \n",
       "1                    NaN                    NaN                    NaN   \n",
       "\n",
       "   participant.p23644_i0  participant.p23645_i0  participant.p23646_i0  \\\n",
       "0                 58.373                 34.427                 24.479   \n",
       "1                    NaN                    NaN                    NaN   \n",
       "\n",
       "   participant.p23647_i0  participant.p23648_i0  \n",
       "0                 9.9478                 7.2007  \n",
       "1                    NaN                    NaN  \n",
       "\n",
       "[2 rows x 252 columns]"
      ]
     },
     "execution_count": 63,
     "metadata": {},
     "output_type": "execute_result"
    }
   ],
   "source": [
    "NMR_df.head(2)"
   ]
  },
  {
   "cell_type": "code",
   "execution_count": 64,
   "id": "e9b88748-ab09-4f9c-99c4-46e1d4d9ff5e",
   "metadata": {},
   "outputs": [],
   "source": [
    "NMR_df = NMR_df.rename(columns={'participant.eid': 'eid'})"
   ]
  },
  {
   "cell_type": "code",
   "execution_count": 65,
   "id": "745b4a47-8e47-432a-bb9b-ea38b3a092e8",
   "metadata": {},
   "outputs": [
    {
     "data": {
      "text/html": [
       "<div>\n",
       "<style scoped>\n",
       "    .dataframe tbody tr th:only-of-type {\n",
       "        vertical-align: middle;\n",
       "    }\n",
       "\n",
       "    .dataframe tbody tr th {\n",
       "        vertical-align: top;\n",
       "    }\n",
       "\n",
       "    .dataframe thead th {\n",
       "        text-align: right;\n",
       "    }\n",
       "</style>\n",
       "<table border=\"1\" class=\"dataframe\">\n",
       "  <thead>\n",
       "    <tr style=\"text-align: right;\">\n",
       "      <th></th>\n",
       "      <th>eid</th>\n",
       "      <th>participant.p20280_i0</th>\n",
       "      <th>participant.p20281_i0</th>\n",
       "      <th>participant.p23400_i0</th>\n",
       "      <th>participant.p23401_i0</th>\n",
       "      <th>participant.p23402_i0</th>\n",
       "      <th>participant.p23403_i0</th>\n",
       "      <th>participant.p23404_i0</th>\n",
       "      <th>participant.p23405_i0</th>\n",
       "      <th>participant.p23406_i0</th>\n",
       "      <th>...</th>\n",
       "      <th>participant.p23639_i0</th>\n",
       "      <th>participant.p23640_i0</th>\n",
       "      <th>participant.p23641_i0</th>\n",
       "      <th>participant.p23642_i0</th>\n",
       "      <th>participant.p23643_i0</th>\n",
       "      <th>participant.p23644_i0</th>\n",
       "      <th>participant.p23645_i0</th>\n",
       "      <th>participant.p23646_i0</th>\n",
       "      <th>participant.p23647_i0</th>\n",
       "      <th>participant.p23648_i0</th>\n",
       "    </tr>\n",
       "  </thead>\n",
       "  <tbody>\n",
       "    <tr>\n",
       "      <th>0</th>\n",
       "      <td>1000053</td>\n",
       "      <td>2.97210</td>\n",
       "      <td>0.282259</td>\n",
       "      <td>3.8459</td>\n",
       "      <td>2.9413</td>\n",
       "      <td>1.5075</td>\n",
       "      <td>0.83349</td>\n",
       "      <td>1.9998</td>\n",
       "      <td>1.4338</td>\n",
       "      <td>0.90459</td>\n",
       "      <td>...</td>\n",
       "      <td>49.941</td>\n",
       "      <td>40.646</td>\n",
       "      <td>33.031</td>\n",
       "      <td>7.6145</td>\n",
       "      <td>9.4130</td>\n",
       "      <td>58.373</td>\n",
       "      <td>34.427</td>\n",
       "      <td>24.479</td>\n",
       "      <td>9.9478</td>\n",
       "      <td>7.2007</td>\n",
       "    </tr>\n",
       "    <tr>\n",
       "      <th>1</th>\n",
       "      <td>1000122</td>\n",
       "      <td>NaN</td>\n",
       "      <td>NaN</td>\n",
       "      <td>NaN</td>\n",
       "      <td>NaN</td>\n",
       "      <td>NaN</td>\n",
       "      <td>NaN</td>\n",
       "      <td>NaN</td>\n",
       "      <td>NaN</td>\n",
       "      <td>NaN</td>\n",
       "      <td>...</td>\n",
       "      <td>NaN</td>\n",
       "      <td>NaN</td>\n",
       "      <td>NaN</td>\n",
       "      <td>NaN</td>\n",
       "      <td>NaN</td>\n",
       "      <td>NaN</td>\n",
       "      <td>NaN</td>\n",
       "      <td>NaN</td>\n",
       "      <td>NaN</td>\n",
       "      <td>NaN</td>\n",
       "    </tr>\n",
       "    <tr>\n",
       "      <th>2</th>\n",
       "      <td>1000148</td>\n",
       "      <td>5.79763</td>\n",
       "      <td>0.407074</td>\n",
       "      <td>6.5412</td>\n",
       "      <td>4.7789</td>\n",
       "      <td>2.1906</td>\n",
       "      <td>0.94260</td>\n",
       "      <td>3.9233</td>\n",
       "      <td>2.5883</td>\n",
       "      <td>1.76230</td>\n",
       "      <td>...</td>\n",
       "      <td>46.042</td>\n",
       "      <td>50.345</td>\n",
       "      <td>40.931</td>\n",
       "      <td>9.4135</td>\n",
       "      <td>3.6133</td>\n",
       "      <td>56.367</td>\n",
       "      <td>40.318</td>\n",
       "      <td>29.758</td>\n",
       "      <td>10.5600</td>\n",
       "      <td>3.3156</td>\n",
       "    </tr>\n",
       "    <tr>\n",
       "      <th>3</th>\n",
       "      <td>1000150</td>\n",
       "      <td>5.32703</td>\n",
       "      <td>0.436711</td>\n",
       "      <td>4.2633</td>\n",
       "      <td>3.1027</td>\n",
       "      <td>1.4863</td>\n",
       "      <td>0.82748</td>\n",
       "      <td>1.9775</td>\n",
       "      <td>1.6164</td>\n",
       "      <td>1.16060</td>\n",
       "      <td>...</td>\n",
       "      <td>49.781</td>\n",
       "      <td>40.044</td>\n",
       "      <td>32.094</td>\n",
       "      <td>7.9500</td>\n",
       "      <td>10.1750</td>\n",
       "      <td>58.825</td>\n",
       "      <td>32.954</td>\n",
       "      <td>23.077</td>\n",
       "      <td>9.8765</td>\n",
       "      <td>8.2210</td>\n",
       "    </tr>\n",
       "  </tbody>\n",
       "</table>\n",
       "<p>4 rows × 252 columns</p>\n",
       "</div>"
      ],
      "text/plain": [
       "       eid  participant.p20280_i0  participant.p20281_i0  \\\n",
       "0  1000053                2.97210               0.282259   \n",
       "1  1000122                    NaN                    NaN   \n",
       "2  1000148                5.79763               0.407074   \n",
       "3  1000150                5.32703               0.436711   \n",
       "\n",
       "   participant.p23400_i0  participant.p23401_i0  participant.p23402_i0  \\\n",
       "0                 3.8459                 2.9413                 1.5075   \n",
       "1                    NaN                    NaN                    NaN   \n",
       "2                 6.5412                 4.7789                 2.1906   \n",
       "3                 4.2633                 3.1027                 1.4863   \n",
       "\n",
       "   participant.p23403_i0  participant.p23404_i0  participant.p23405_i0  \\\n",
       "0                0.83349                 1.9998                 1.4338   \n",
       "1                    NaN                    NaN                    NaN   \n",
       "2                0.94260                 3.9233                 2.5883   \n",
       "3                0.82748                 1.9775                 1.6164   \n",
       "\n",
       "   participant.p23406_i0  ...  participant.p23639_i0  participant.p23640_i0  \\\n",
       "0                0.90459  ...                 49.941                 40.646   \n",
       "1                    NaN  ...                    NaN                    NaN   \n",
       "2                1.76230  ...                 46.042                 50.345   \n",
       "3                1.16060  ...                 49.781                 40.044   \n",
       "\n",
       "   participant.p23641_i0  participant.p23642_i0  participant.p23643_i0  \\\n",
       "0                 33.031                 7.6145                 9.4130   \n",
       "1                    NaN                    NaN                    NaN   \n",
       "2                 40.931                 9.4135                 3.6133   \n",
       "3                 32.094                 7.9500                10.1750   \n",
       "\n",
       "   participant.p23644_i0  participant.p23645_i0  participant.p23646_i0  \\\n",
       "0                 58.373                 34.427                 24.479   \n",
       "1                    NaN                    NaN                    NaN   \n",
       "2                 56.367                 40.318                 29.758   \n",
       "3                 58.825                 32.954                 23.077   \n",
       "\n",
       "   participant.p23647_i0  participant.p23648_i0  \n",
       "0                 9.9478                 7.2007  \n",
       "1                    NaN                    NaN  \n",
       "2                10.5600                 3.3156  \n",
       "3                 9.8765                 8.2210  \n",
       "\n",
       "[4 rows x 252 columns]"
      ]
     },
     "execution_count": 65,
     "metadata": {},
     "output_type": "execute_result"
    }
   ],
   "source": [
    "NMR_df.head(4)"
   ]
  },
  {
   "cell_type": "code",
   "execution_count": 66,
   "id": "94ea5845-d8d3-4a11-9640-6239bf48f3a8",
   "metadata": {},
   "outputs": [],
   "source": [
    "# 提取非eid列\n",
    "NMR_cols = NMR_df.columns[1:]  # 第一列是eid"
   ]
  },
  {
   "cell_type": "code",
   "execution_count": 67,
   "id": "ef94f72c-ed33-4223-8766-fab50edd3107",
   "metadata": {},
   "outputs": [],
   "source": [
    "# 找出表达量全为NaN的病人行\n",
    "all_nan_mask = NMR_df[NMR_cols].isna().all(axis=1)"
   ]
  },
  {
   "cell_type": "code",
   "execution_count": 68,
   "id": "d26529e3-2b9f-4b72-93e5-849fe54c1915",
   "metadata": {},
   "outputs": [],
   "source": [
    "# 过滤掉全NaN的病人\n",
    "NMR_df_filtered = NMR_df[~all_nan_mask].copy()"
   ]
  },
  {
   "cell_type": "code",
   "execution_count": 69,
   "id": "d92841d2-7799-4350-a1db-d85f5c3f52f6",
   "metadata": {},
   "outputs": [
    {
     "data": {
      "text/plain": [
       "(274236, 252)"
      ]
     },
     "execution_count": 69,
     "metadata": {},
     "output_type": "execute_result"
    }
   ],
   "source": [
    "NMR_df_filtered.shape"
   ]
  },
  {
   "cell_type": "code",
   "execution_count": 70,
   "id": "d526280f-4380-47a2-94a5-93df1566ed2f",
   "metadata": {},
   "outputs": [],
   "source": [
    "# 2. 用各列最小值填补NaN\n",
    "# 计算各列最小值（排除NaN）\n",
    "col_min_values = NMR_df_filtered[NMR_cols].min()\n",
    "\n",
    "# 填补NaN（使用广播机制）\n",
    "NMR_df_imputed = NMR_df_filtered.copy()\n",
    "NMR_df_imputed[NMR_cols] = NMR_df_filtered[NMR_cols].fillna(col_min_values)"
   ]
  },
  {
   "cell_type": "code",
   "execution_count": 71,
   "id": "7db24a70-d41e-43f0-a6a1-0ff7c6188d05",
   "metadata": {},
   "outputs": [
    {
     "data": {
      "text/html": [
       "<div>\n",
       "<style scoped>\n",
       "    .dataframe tbody tr th:only-of-type {\n",
       "        vertical-align: middle;\n",
       "    }\n",
       "\n",
       "    .dataframe tbody tr th {\n",
       "        vertical-align: top;\n",
       "    }\n",
       "\n",
       "    .dataframe thead th {\n",
       "        text-align: right;\n",
       "    }\n",
       "</style>\n",
       "<table border=\"1\" class=\"dataframe\">\n",
       "  <thead>\n",
       "    <tr style=\"text-align: right;\">\n",
       "      <th></th>\n",
       "      <th>eid</th>\n",
       "      <th>participant.p20280_i0</th>\n",
       "      <th>participant.p20281_i0</th>\n",
       "      <th>participant.p23400_i0</th>\n",
       "      <th>participant.p23401_i0</th>\n",
       "      <th>participant.p23402_i0</th>\n",
       "      <th>participant.p23403_i0</th>\n",
       "      <th>participant.p23404_i0</th>\n",
       "      <th>participant.p23405_i0</th>\n",
       "      <th>participant.p23406_i0</th>\n",
       "      <th>...</th>\n",
       "      <th>participant.p23639_i0</th>\n",
       "      <th>participant.p23640_i0</th>\n",
       "      <th>participant.p23641_i0</th>\n",
       "      <th>participant.p23642_i0</th>\n",
       "      <th>participant.p23643_i0</th>\n",
       "      <th>participant.p23644_i0</th>\n",
       "      <th>participant.p23645_i0</th>\n",
       "      <th>participant.p23646_i0</th>\n",
       "      <th>participant.p23647_i0</th>\n",
       "      <th>participant.p23648_i0</th>\n",
       "    </tr>\n",
       "  </thead>\n",
       "  <tbody>\n",
       "    <tr>\n",
       "      <th>0</th>\n",
       "      <td>1000053</td>\n",
       "      <td>2.97210</td>\n",
       "      <td>0.282259</td>\n",
       "      <td>3.8459</td>\n",
       "      <td>2.9413</td>\n",
       "      <td>1.5075</td>\n",
       "      <td>0.83349</td>\n",
       "      <td>1.9998</td>\n",
       "      <td>1.4338</td>\n",
       "      <td>0.90459</td>\n",
       "      <td>...</td>\n",
       "      <td>49.941</td>\n",
       "      <td>40.646</td>\n",
       "      <td>33.031</td>\n",
       "      <td>7.6145</td>\n",
       "      <td>9.4130</td>\n",
       "      <td>58.373</td>\n",
       "      <td>34.427</td>\n",
       "      <td>24.479</td>\n",
       "      <td>9.9478</td>\n",
       "      <td>7.2007</td>\n",
       "    </tr>\n",
       "    <tr>\n",
       "      <th>2</th>\n",
       "      <td>1000148</td>\n",
       "      <td>5.79763</td>\n",
       "      <td>0.407074</td>\n",
       "      <td>6.5412</td>\n",
       "      <td>4.7789</td>\n",
       "      <td>2.1906</td>\n",
       "      <td>0.94260</td>\n",
       "      <td>3.9233</td>\n",
       "      <td>2.5883</td>\n",
       "      <td>1.76230</td>\n",
       "      <td>...</td>\n",
       "      <td>46.042</td>\n",
       "      <td>50.345</td>\n",
       "      <td>40.931</td>\n",
       "      <td>9.4135</td>\n",
       "      <td>3.6133</td>\n",
       "      <td>56.367</td>\n",
       "      <td>40.318</td>\n",
       "      <td>29.758</td>\n",
       "      <td>10.5600</td>\n",
       "      <td>3.3156</td>\n",
       "    </tr>\n",
       "    <tr>\n",
       "      <th>3</th>\n",
       "      <td>1000150</td>\n",
       "      <td>5.32703</td>\n",
       "      <td>0.436711</td>\n",
       "      <td>4.2633</td>\n",
       "      <td>3.1027</td>\n",
       "      <td>1.4863</td>\n",
       "      <td>0.82748</td>\n",
       "      <td>1.9775</td>\n",
       "      <td>1.6164</td>\n",
       "      <td>1.16060</td>\n",
       "      <td>...</td>\n",
       "      <td>49.781</td>\n",
       "      <td>40.044</td>\n",
       "      <td>32.094</td>\n",
       "      <td>7.9500</td>\n",
       "      <td>10.1750</td>\n",
       "      <td>58.825</td>\n",
       "      <td>32.954</td>\n",
       "      <td>23.077</td>\n",
       "      <td>9.8765</td>\n",
       "      <td>8.2210</td>\n",
       "    </tr>\n",
       "    <tr>\n",
       "      <th>5</th>\n",
       "      <td>1000199</td>\n",
       "      <td>5.73236</td>\n",
       "      <td>0.384780</td>\n",
       "      <td>5.8360</td>\n",
       "      <td>3.8974</td>\n",
       "      <td>1.8090</td>\n",
       "      <td>0.81030</td>\n",
       "      <td>3.0389</td>\n",
       "      <td>2.0885</td>\n",
       "      <td>1.93860</td>\n",
       "      <td>...</td>\n",
       "      <td>46.181</td>\n",
       "      <td>48.841</td>\n",
       "      <td>39.874</td>\n",
       "      <td>8.9677</td>\n",
       "      <td>4.9780</td>\n",
       "      <td>58.066</td>\n",
       "      <td>37.815</td>\n",
       "      <td>28.076</td>\n",
       "      <td>9.7397</td>\n",
       "      <td>4.1188</td>\n",
       "    </tr>\n",
       "  </tbody>\n",
       "</table>\n",
       "<p>4 rows × 252 columns</p>\n",
       "</div>"
      ],
      "text/plain": [
       "       eid  participant.p20280_i0  participant.p20281_i0  \\\n",
       "0  1000053                2.97210               0.282259   \n",
       "2  1000148                5.79763               0.407074   \n",
       "3  1000150                5.32703               0.436711   \n",
       "5  1000199                5.73236               0.384780   \n",
       "\n",
       "   participant.p23400_i0  participant.p23401_i0  participant.p23402_i0  \\\n",
       "0                 3.8459                 2.9413                 1.5075   \n",
       "2                 6.5412                 4.7789                 2.1906   \n",
       "3                 4.2633                 3.1027                 1.4863   \n",
       "5                 5.8360                 3.8974                 1.8090   \n",
       "\n",
       "   participant.p23403_i0  participant.p23404_i0  participant.p23405_i0  \\\n",
       "0                0.83349                 1.9998                 1.4338   \n",
       "2                0.94260                 3.9233                 2.5883   \n",
       "3                0.82748                 1.9775                 1.6164   \n",
       "5                0.81030                 3.0389                 2.0885   \n",
       "\n",
       "   participant.p23406_i0  ...  participant.p23639_i0  participant.p23640_i0  \\\n",
       "0                0.90459  ...                 49.941                 40.646   \n",
       "2                1.76230  ...                 46.042                 50.345   \n",
       "3                1.16060  ...                 49.781                 40.044   \n",
       "5                1.93860  ...                 46.181                 48.841   \n",
       "\n",
       "   participant.p23641_i0  participant.p23642_i0  participant.p23643_i0  \\\n",
       "0                 33.031                 7.6145                 9.4130   \n",
       "2                 40.931                 9.4135                 3.6133   \n",
       "3                 32.094                 7.9500                10.1750   \n",
       "5                 39.874                 8.9677                 4.9780   \n",
       "\n",
       "   participant.p23644_i0  participant.p23645_i0  participant.p23646_i0  \\\n",
       "0                 58.373                 34.427                 24.479   \n",
       "2                 56.367                 40.318                 29.758   \n",
       "3                 58.825                 32.954                 23.077   \n",
       "5                 58.066                 37.815                 28.076   \n",
       "\n",
       "   participant.p23647_i0  participant.p23648_i0  \n",
       "0                 9.9478                 7.2007  \n",
       "2                10.5600                 3.3156  \n",
       "3                 9.8765                 8.2210  \n",
       "5                 9.7397                 4.1188  \n",
       "\n",
       "[4 rows x 252 columns]"
      ]
     },
     "execution_count": 71,
     "metadata": {},
     "output_type": "execute_result"
    }
   ],
   "source": [
    "NMR_df_imputed.head(4)"
   ]
  },
  {
   "cell_type": "code",
   "execution_count": 72,
   "id": "93410768-c556-4958-be93-01f5c60f5f86",
   "metadata": {},
   "outputs": [
    {
     "name": "stdout",
     "output_type": "stream",
     "text": [
      "              eid               NMR_name  NMR_expression\n",
      "0         1000053  participant.p20280_i0         2.97210\n",
      "1         1000148  participant.p20280_i0         5.79763\n",
      "2         1000150  participant.p20280_i0         5.32703\n",
      "3         1000199  participant.p20280_i0         5.73236\n",
      "4         1000428  participant.p20280_i0         5.26226\n",
      "...           ...                    ...             ...\n",
      "68833231  6022081  participant.p23648_i0         5.61880\n",
      "68833232  6022102  participant.p23648_i0         5.26160\n",
      "68833233  6022141  participant.p23648_i0         4.78620\n",
      "68833234  6022197  participant.p23648_i0         3.85360\n",
      "68833235  6022252  participant.p23648_i0         5.26830\n",
      "\n",
      "[68833236 rows x 3 columns]\n"
     ]
    }
   ],
   "source": [
    "# 将数据框从宽格式转换为长格式\n",
    "NMR_long_df = pd.melt(NMR_df_imputed, id_vars=['eid'], var_name='NMR_name', value_name='NMR_expression')\n",
    "\n",
    "print(NMR_long_df)  "
   ]
  },
  {
   "cell_type": "code",
   "execution_count": 73,
   "id": "f140062b-bdc5-48b0-af05-04136d121b4d",
   "metadata": {},
   "outputs": [
    {
     "data": {
      "text/plain": [
       "(274236, 252)"
      ]
     },
     "execution_count": 73,
     "metadata": {},
     "output_type": "execute_result"
    }
   ],
   "source": [
    "NMR_df_imputed.shape"
   ]
  },
  {
   "cell_type": "code",
   "execution_count": 74,
   "id": "ffa90c19-5f97-4ea9-8c05-bdc7a341dcd9",
   "metadata": {},
   "outputs": [
    {
     "data": {
      "text/plain": [
       "68833236"
      ]
     },
     "execution_count": 74,
     "metadata": {},
     "output_type": "execute_result"
    }
   ],
   "source": [
    "274236 * 251"
   ]
  },
  {
   "cell_type": "code",
   "execution_count": 75,
   "id": "fa2aab88-0977-4c8d-98bc-27561d873122",
   "metadata": {},
   "outputs": [
    {
     "name": "stdout",
     "output_type": "stream",
     "text": [
      "              eid               NMR_name  NMR_expression\n",
      "0         1000053  participant.p20280_i0         2.97210\n",
      "1         1000148  participant.p20280_i0         5.79763\n",
      "2         1000150  participant.p20280_i0         5.32703\n",
      "3         1000199  participant.p20280_i0         5.73236\n",
      "4         1000428  participant.p20280_i0         5.26226\n",
      "...           ...                    ...             ...\n",
      "68833231  6022081  participant.p23648_i0         5.61880\n",
      "68833232  6022102  participant.p23648_i0         5.26160\n",
      "68833233  6022141  participant.p23648_i0         4.78620\n",
      "68833234  6022197  participant.p23648_i0         3.85360\n",
      "68833235  6022252  participant.p23648_i0         5.26830\n",
      "\n",
      "[68833236 rows x 3 columns]\n"
     ]
    }
   ],
   "source": [
    "# 移除 NMR_expression 列中值为 NaN 的行\n",
    "NMR_long_df = NMR_long_df.dropna(subset=['NMR_expression'])\n",
    "\n",
    "print(NMR_long_df) "
   ]
  },
  {
   "cell_type": "code",
   "execution_count": 76,
   "id": "6d76794c-5bca-42d8-b86c-09dcda35f026",
   "metadata": {},
   "outputs": [],
   "source": [
    "# 使用左连接将Recruitment列合并到NMR_long_df中\n",
    "NMR_long_df = NMR_long_df.merge(\n",
    "    RecruitmentDate[['eid', 'RecruitmentAge']],  # 只选择需要的列\n",
    "    on='eid',         # 连接键\n",
    "    how='left'        # 左连接，保留NMR_long_df的所有行\n",
    ")"
   ]
  },
  {
   "cell_type": "code",
   "execution_count": 77,
   "id": "4b8c33bc-a071-4943-9bba-2196174b3bd8",
   "metadata": {},
   "outputs": [],
   "source": [
    "NMR_long_df['NMR_name'] = NMR_long_df['NMR_name'].str.replace(\"participant.\", \"\", regex=False)"
   ]
  },
  {
   "cell_type": "code",
   "execution_count": 78,
   "id": "8e5e84f7-a6c5-4238-af9a-b29172f0f7d0",
   "metadata": {},
   "outputs": [],
   "source": [
    "NMR_name_description_mapping = pd.read_csv('../Data/NMR_name_description_mapping.csv',\n",
    "                                           encoding='utf-8')"
   ]
  },
  {
   "cell_type": "code",
   "execution_count": 79,
   "id": "9892ef2e-2ba9-4be4-80dd-c611d766fb3d",
   "metadata": {},
   "outputs": [
    {
     "data": {
      "text/html": [
       "<div>\n",
       "<style scoped>\n",
       "    .dataframe tbody tr th:only-of-type {\n",
       "        vertical-align: middle;\n",
       "    }\n",
       "\n",
       "    .dataframe tbody tr th {\n",
       "        vertical-align: top;\n",
       "    }\n",
       "\n",
       "    .dataframe thead th {\n",
       "        text-align: right;\n",
       "    }\n",
       "</style>\n",
       "<table border=\"1\" class=\"dataframe\">\n",
       "  <thead>\n",
       "    <tr style=\"text-align: right;\">\n",
       "      <th></th>\n",
       "      <th>NMR_name</th>\n",
       "      <th>full_name</th>\n",
       "    </tr>\n",
       "  </thead>\n",
       "  <tbody>\n",
       "    <tr>\n",
       "      <th>0</th>\n",
       "      <td>p20280_i0</td>\n",
       "      <td>Glucose-lactate | Instance 0</td>\n",
       "    </tr>\n",
       "    <tr>\n",
       "      <th>1</th>\n",
       "      <td>p20281_i0</td>\n",
       "      <td>Spectrometer-corrected alanine | Instance 0</td>\n",
       "    </tr>\n",
       "  </tbody>\n",
       "</table>\n",
       "</div>"
      ],
      "text/plain": [
       "    NMR_name                                    full_name\n",
       "0  p20280_i0                 Glucose-lactate | Instance 0\n",
       "1  p20281_i0  Spectrometer-corrected alanine | Instance 0"
      ]
     },
     "execution_count": 79,
     "metadata": {},
     "output_type": "execute_result"
    }
   ],
   "source": [
    "NMR_name_description_mapping.head(2)"
   ]
  },
  {
   "cell_type": "code",
   "execution_count": 80,
   "id": "595d2689-7213-4cce-9823-65799c00ea70",
   "metadata": {},
   "outputs": [],
   "source": [
    "NMR_name_description_mapping['full_name'] = NMR_name_description_mapping['full_name'].str.replace(\" | Instance 0\", \"\", regex=False)"
   ]
  },
  {
   "cell_type": "code",
   "execution_count": 81,
   "id": "7e352282-2aca-4ba2-a317-e07facff76c7",
   "metadata": {},
   "outputs": [
    {
     "data": {
      "text/html": [
       "<div>\n",
       "<style scoped>\n",
       "    .dataframe tbody tr th:only-of-type {\n",
       "        vertical-align: middle;\n",
       "    }\n",
       "\n",
       "    .dataframe tbody tr th {\n",
       "        vertical-align: top;\n",
       "    }\n",
       "\n",
       "    .dataframe thead th {\n",
       "        text-align: right;\n",
       "    }\n",
       "</style>\n",
       "<table border=\"1\" class=\"dataframe\">\n",
       "  <thead>\n",
       "    <tr style=\"text-align: right;\">\n",
       "      <th></th>\n",
       "      <th>NMR_name</th>\n",
       "      <th>full_name</th>\n",
       "    </tr>\n",
       "  </thead>\n",
       "  <tbody>\n",
       "    <tr>\n",
       "      <th>0</th>\n",
       "      <td>p20280_i0</td>\n",
       "      <td>Glucose-lactate</td>\n",
       "    </tr>\n",
       "    <tr>\n",
       "      <th>1</th>\n",
       "      <td>p20281_i0</td>\n",
       "      <td>Spectrometer-corrected alanine</td>\n",
       "    </tr>\n",
       "  </tbody>\n",
       "</table>\n",
       "</div>"
      ],
      "text/plain": [
       "    NMR_name                       full_name\n",
       "0  p20280_i0                 Glucose-lactate\n",
       "1  p20281_i0  Spectrometer-corrected alanine"
      ]
     },
     "execution_count": 81,
     "metadata": {},
     "output_type": "execute_result"
    }
   ],
   "source": [
    "NMR_name_description_mapping.head(2)"
   ]
  },
  {
   "cell_type": "code",
   "execution_count": 82,
   "id": "0a3fa533-2041-4732-8365-c5eac0d32936",
   "metadata": {},
   "outputs": [],
   "source": [
    "# 创建一个映射字典\n",
    "name_mapping = dict(zip(NMR_name_description_mapping['NMR_name'], \n",
    "                        NMR_name_description_mapping['full_name']))"
   ]
  },
  {
   "cell_type": "code",
   "execution_count": 83,
   "id": "0f2a6c39-24d4-45cf-af59-c961dfe7502f",
   "metadata": {},
   "outputs": [],
   "source": [
    "# 定义一个函数来执行映射\n",
    "def map_node2(name):\n",
    "    return name_mapping.get(name, name)  # 如果找不到映射，返回原值"
   ]
  },
  {
   "cell_type": "code",
   "execution_count": 84,
   "id": "455abfa6-5cf9-4450-b8dc-ac59eed49ccd",
   "metadata": {},
   "outputs": [],
   "source": [
    "# 应用映射到NMR_name列\n",
    "NMR_long_df['NMR_name'] = NMR_long_df['NMR_name'].apply(map_node2)"
   ]
  },
  {
   "cell_type": "code",
   "execution_count": 85,
   "id": "d01ba45d-aa8f-49cc-975a-46cd8b29d95e",
   "metadata": {},
   "outputs": [
    {
     "name": "stdout",
     "output_type": "stream",
     "text": [
      "       eid         NMR_name  NMR_expression  RecruitmentAge\n",
      "0  1000053  Glucose-lactate         2.97210           24523\n",
      "1  1000148  Glucose-lactate         5.79763           23304\n",
      "              eid                                           NMR_name  \\\n",
      "68833234  6022197  Triglycerides to Total Lipids in Small HDL per...   \n",
      "68833235  6022252  Triglycerides to Total Lipids in Small HDL per...   \n",
      "\n",
      "          NMR_expression  RecruitmentAge  \n",
      "68833234          3.8536           19613  \n",
      "68833235          5.2683           22943  \n"
     ]
    }
   ],
   "source": [
    "# 查看结果\n",
    "print(NMR_long_df.head(2))\n",
    "print(NMR_long_df.tail(2))"
   ]
  },
  {
   "cell_type": "code",
   "execution_count": 86,
   "id": "d9b8282a-0a10-4741-9810-57ba9ed8e673",
   "metadata": {},
   "outputs": [],
   "source": [
    "NMR_long_df.to_csv(\"../Data/NMR_long_df.csv\", index=False)"
   ]
  },
  {
   "cell_type": "markdown",
   "id": "efde12af-b621-49a2-9f03-6b06cd2186b0",
   "metadata": {},
   "source": [
    "## read in embeddings"
   ]
  },
  {
   "cell_type": "code",
   "execution_count": 2,
   "id": "380c2693-6704-4bea-93e3-2e7111abbeef",
   "metadata": {},
   "outputs": [],
   "source": [
    "import pickle\n",
    "import numpy as np"
   ]
  },
  {
   "cell_type": "code",
   "execution_count": 88,
   "id": "b149d936-ec22-423f-bc99-02b5e514ef49",
   "metadata": {},
   "outputs": [
    {
     "name": "stdout",
     "output_type": "stream",
     "text": [
      "1.26.4\n"
     ]
    }
   ],
   "source": [
    "print(np.__version__)"
   ]
  },
  {
   "cell_type": "code",
   "execution_count": 89,
   "id": "6ccf0594-a3fd-4134-9eb8-39d36bffe6c1",
   "metadata": {},
   "outputs": [],
   "source": [
    "with open('../Data/gpt_protein_embeddings_dict.pkl', 'rb') as f:\n",
    "    protein_embeddings_dict = pickle.load(f)"
   ]
  },
  {
   "cell_type": "code",
   "execution_count": 90,
   "id": "28597be1-5bb5-498d-9b39-9272edaf9cd3",
   "metadata": {},
   "outputs": [],
   "source": [
    "# 提取键（按插入顺序，Python 3.7+字典有序）\n",
    "protein_embeddings_dict_keys = list(protein_embeddings_dict.keys())"
   ]
  },
  {
   "cell_type": "code",
   "execution_count": 91,
   "id": "8f163c96-4860-4237-9392-014b6e407094",
   "metadata": {},
   "outputs": [],
   "source": [
    "# 将字典值转换为NumPy矩阵（每行一个向量）\n",
    "protein_matrix = np.array([protein_embeddings_dict[key] for key in protein_embeddings_dict_keys])"
   ]
  },
  {
   "cell_type": "code",
   "execution_count": 92,
   "id": "1022b8fb-2bbf-4bf7-959d-d4a55819e83f",
   "metadata": {},
   "outputs": [],
   "source": [
    "# 创建异构图数据对象\n",
    "protein_features = torch.from_numpy(protein_matrix).float()"
   ]
  },
  {
   "cell_type": "code",
   "execution_count": 93,
   "id": "bb71b28d-6464-434a-97e1-100364d4dda2",
   "metadata": {},
   "outputs": [],
   "source": [
    "with open('../Data/gpt_embeddings_dict.pkl', 'rb') as f:\n",
    "    embeddings_dict = pickle.load(f)"
   ]
  },
  {
   "cell_type": "code",
   "execution_count": 94,
   "id": "d99250b7-ac33-44a2-968e-9cf0b6004031",
   "metadata": {},
   "outputs": [],
   "source": [
    "# 提取键（按插入顺序，Python 3.7+字典有序）\n",
    "embeddings_dict_keys = list(embeddings_dict.keys())"
   ]
  },
  {
   "cell_type": "code",
   "execution_count": 95,
   "id": "5d918685-f248-448b-a81d-de7301697412",
   "metadata": {},
   "outputs": [],
   "source": [
    "# 将字典值转换为NumPy矩阵（每行一个向量）\n",
    "participant_matrix = np.array([embeddings_dict[key] for key in embeddings_dict_keys])"
   ]
  },
  {
   "cell_type": "code",
   "execution_count": 96,
   "id": "ec4af6fe-a506-4f7a-96b3-c8b34c113e52",
   "metadata": {},
   "outputs": [],
   "source": [
    "# 创建异构图数据对象\n",
    "participant_features = torch.from_numpy(participant_matrix).float()"
   ]
  },
  {
   "cell_type": "code",
   "execution_count": 97,
   "id": "8bce08b7-0997-4962-bc6e-386e48e0e3e1",
   "metadata": {},
   "outputs": [],
   "source": [
    "with open('../Data/metabolite_embeddings_dict.pkl', 'rb') as f:\n",
    "    metabolite_embeddings_dict = pickle.load(f)"
   ]
  },
  {
   "cell_type": "code",
   "execution_count": 98,
   "id": "08319b53-b756-4202-b02d-3459a55504b1",
   "metadata": {},
   "outputs": [],
   "source": [
    "# 提取键（按插入顺序，Python 3.7+字典有序）\n",
    "metabolite_embeddings_dict_keys = list(metabolite_embeddings_dict.keys())"
   ]
  },
  {
   "cell_type": "code",
   "execution_count": 99,
   "id": "dbe63f75-38fb-4682-9c7f-db67da6277a1",
   "metadata": {},
   "outputs": [],
   "source": [
    "# 将字典值转换为NumPy矩阵（每行一个向量）\n",
    "metabolite_matrix = np.array([metabolite_embeddings_dict[key] for key in metabolite_embeddings_dict_keys])"
   ]
  },
  {
   "cell_type": "code",
   "execution_count": 100,
   "id": "ab3bfc1e-2f41-4780-8aba-a07ea7dc8075",
   "metadata": {},
   "outputs": [],
   "source": [
    "# 创建异构图数据对象\n",
    "metabolite_features = torch.from_numpy(metabolite_matrix).float()"
   ]
  },
  {
   "cell_type": "markdown",
   "id": "7b98408a-a72e-4ab7-9797-06eb36c93642",
   "metadata": {},
   "source": [
    "## ICD10 embedding"
   ]
  },
  {
   "cell_type": "code",
   "execution_count": 3,
   "id": "1a61f15f-e80a-4a0b-bc5d-20dac1771132",
   "metadata": {},
   "outputs": [],
   "source": [
    "import glob\n",
    "import json\n",
    "import string"
   ]
  },
  {
   "cell_type": "code",
   "execution_count": 102,
   "id": "9ff0a23d-06e5-43ed-9408-34d7ce825084",
   "metadata": {},
   "outputs": [],
   "source": [
    "values = []\n",
    "icd_index = []\n",
    "for index in list(string.ascii_uppercase):\n",
    "    file = glob.glob(f'../Data/icd10_embedding/{index}/icd10_results_*.json')[0]\n",
    "    with open(file, 'r', encoding='utf-8') as f:\n",
    "        data = json.load(f)\n",
    "        for key, value in data['embeddings'].items():\n",
    "            values.append(value)\n",
    "            icd_index.append(key)\n",
    "\n",
    "embeddings = np.array(values)"
   ]
  },
  {
   "cell_type": "code",
   "execution_count": 103,
   "id": "e06ac2f1-7bda-4aa2-8cb3-91896df96089",
   "metadata": {},
   "outputs": [
    {
     "data": {
      "text/plain": [
       "['A00', 'A00.0', 'A00.1']"
      ]
     },
     "execution_count": 103,
     "metadata": {},
     "output_type": "execute_result"
    }
   ],
   "source": [
    "icd_index[0:3]"
   ]
  },
  {
   "cell_type": "code",
   "execution_count": 104,
   "id": "cbc6bd17-3c12-45c9-a7c8-16eb6f397525",
   "metadata": {},
   "outputs": [],
   "source": [
    "icd10_embeddings = {}\n",
    "\n",
    "for index in string.ascii_uppercase:\n",
    "    try:\n",
    "        file = glob.glob(f'../Data/icd10_embedding/{index}/icd10_results_*.json')[0]\n",
    "        \n",
    "        with open(file, 'r', encoding='utf-8') as f:\n",
    "            data = json.load(f)\n",
    "            \n",
    "            # 处理每个键，移除小数点后再添加到总字典\n",
    "            for key, value in data['embeddings'].items():\n",
    "                clean_key = key.replace('.', '')  # 移除小数点\n",
    "                icd10_embeddings[clean_key] = value\n",
    "                \n",
    "    except (IndexError, FileNotFoundError):\n",
    "        print(f\"未找到字母 {index} 对应的文件\")\n",
    "    except Exception as e:\n",
    "        print(f\"处理字母 {index} 时出错: {e}\")"
   ]
  },
  {
   "cell_type": "code",
   "execution_count": 105,
   "id": "4e82393e-9d33-4227-902a-44d2b21bb146",
   "metadata": {},
   "outputs": [
    {
     "data": {
      "text/plain": [
       "dict"
      ]
     },
     "execution_count": 105,
     "metadata": {},
     "output_type": "execute_result"
    }
   ],
   "source": [
    "type(icd10_embeddings)"
   ]
  },
  {
   "cell_type": "code",
   "execution_count": 106,
   "id": "76a7b2f4-6f77-4b51-851e-98670e0d493c",
   "metadata": {},
   "outputs": [
    {
     "name": "stdout",
     "output_type": "stream",
     "text": [
      "键存在于字典中\n"
     ]
    }
   ],
   "source": [
    "# 检查键是否存在\n",
    "if \"C926\" in icd10_embeddings:\n",
    "    print(\"键存在于字典中\")\n",
    "else:\n",
    "    print(\"键不存在于字典中\")"
   ]
  },
  {
   "cell_type": "code",
   "execution_count": 107,
   "id": "e7f34a0f-583e-478a-b80d-2f37fc4d94f0",
   "metadata": {},
   "outputs": [],
   "source": [
    "with open('../Data/icd10_embeddings_dict.pkl', 'wb') as f:\n",
    "    pickle.dump(icd10_embeddings, f)"
   ]
  },
  {
   "cell_type": "code",
   "execution_count": 108,
   "id": "39b42a40-69ab-45e9-8e60-574094c64c6a",
   "metadata": {},
   "outputs": [],
   "source": [
    "# 提取键（按插入顺序，Python 3.7+字典有序）\n",
    "icd10_embeddings_keys = list(icd10_embeddings.keys())"
   ]
  },
  {
   "cell_type": "code",
   "execution_count": 109,
   "id": "b41bfd7f-113d-4b2e-a892-efa120e6190c",
   "metadata": {},
   "outputs": [],
   "source": [
    "# 将字典值转换为NumPy矩阵（每行一个向量）\n",
    "icd10_matrix = np.array([icd10_embeddings[key] for key in icd10_embeddings_keys])"
   ]
  },
  {
   "cell_type": "code",
   "execution_count": 110,
   "id": "e6da430d-fd18-4ac1-85c4-e24b540426be",
   "metadata": {},
   "outputs": [],
   "source": [
    "# 创建异构图数据对象\n",
    "icd10_features = torch.from_numpy(icd10_matrix).float()"
   ]
  },
  {
   "cell_type": "markdown",
   "id": "ccf34974-132d-4a6e-aff5-6a34978c72ef",
   "metadata": {},
   "source": [
    "## Build the Heterogenous Graph"
   ]
  },
  {
   "cell_type": "code",
   "execution_count": 4,
   "id": "73f4af52-d125-4fea-9492-cb0a74840e9b",
   "metadata": {},
   "outputs": [
    {
     "name": "stderr",
     "output_type": "stream",
     "text": [
      "/home/llma/anaconda3/envs/GAT/lib/python3.12/site-packages/tqdm/auto.py:21: TqdmWarning: IProgress not found. Please update jupyter and ipywidgets. See https://ipywidgets.readthedocs.io/en/stable/user_install.html\n",
      "  from .autonotebook import tqdm as notebook_tqdm\n"
     ]
    }
   ],
   "source": [
    "from torch_geometric.data import HeteroData"
   ]
  },
  {
   "cell_type": "code",
   "execution_count": 112,
   "id": "3db79721-7f19-4376-a216-1a737e159bb9",
   "metadata": {},
   "outputs": [],
   "source": [
    "# HeteroData是PyG自带的一个异质图数据结构\n",
    "HGData = HeteroData()"
   ]
  },
  {
   "cell_type": "code",
   "execution_count": 113,
   "id": "8115f49e-d134-41eb-8875-0a36b6c2e41f",
   "metadata": {},
   "outputs": [],
   "source": [
    "# 添加节点的信息\n",
    "# data['paper'].x = ... # [num_papers, num_features_paper]\n",
    "HGData['participant'].x = participant_features\n",
    "HGData['disease'].x = icd10_features\n",
    "HGData['protein'].x = protein_features\n",
    "HGData['metabolite'].x = metabolite_features"
   ]
  },
  {
   "cell_type": "code",
   "execution_count": 114,
   "id": "cfb2296f-3c9c-40ed-8bf8-992214a22d68",
   "metadata": {},
   "outputs": [
    {
     "name": "stdout",
     "output_type": "stream",
     "text": [
      "torch.Size([47626, 1536])\n",
      "torch.Size([18904, 1536])\n",
      "torch.Size([2923, 1536])\n",
      "torch.Size([251, 1536])\n"
     ]
    }
   ],
   "source": [
    "print(HGData['participant'].x.shape)\n",
    "print(HGData['disease'].x.shape)\n",
    "print(HGData['protein'].x.shape)\n",
    "print(HGData['metabolite'].x.shape)"
   ]
  },
  {
   "cell_type": "code",
   "execution_count": 115,
   "id": "277db8ec-0ae6-4851-ab8d-4129b321b1dc",
   "metadata": {},
   "outputs": [
    {
     "data": {
      "text/html": [
       "<div>\n",
       "<style scoped>\n",
       "    .dataframe tbody tr th:only-of-type {\n",
       "        vertical-align: middle;\n",
       "    }\n",
       "\n",
       "    .dataframe tbody tr th {\n",
       "        vertical-align: top;\n",
       "    }\n",
       "\n",
       "    .dataframe thead th {\n",
       "        text-align: right;\n",
       "    }\n",
       "</style>\n",
       "<table border=\"1\" class=\"dataframe\">\n",
       "  <thead>\n",
       "    <tr style=\"text-align: right;\">\n",
       "      <th></th>\n",
       "      <th>eid</th>\n",
       "      <th>ICD10_codes</th>\n",
       "      <th>DiagnosisAge</th>\n",
       "    </tr>\n",
       "  </thead>\n",
       "  <tbody>\n",
       "    <tr>\n",
       "      <th>0</th>\n",
       "      <td>1000122</td>\n",
       "      <td>J383</td>\n",
       "      <td>21370</td>\n",
       "    </tr>\n",
       "    <tr>\n",
       "      <th>1</th>\n",
       "      <td>1000122</td>\n",
       "      <td>M255</td>\n",
       "      <td>22126</td>\n",
       "    </tr>\n",
       "  </tbody>\n",
       "</table>\n",
       "</div>"
      ],
      "text/plain": [
       "       eid ICD10_codes  DiagnosisAge\n",
       "0  1000122        J383         21370\n",
       "1  1000122        M255         22126"
      ]
     },
     "execution_count": 115,
     "metadata": {},
     "output_type": "execute_result"
    }
   ],
   "source": [
    "clinical_df_select_columns.head(2)"
   ]
  },
  {
   "cell_type": "code",
   "execution_count": 116,
   "id": "16cd156b-1238-4add-b5c3-be4bddb951a3",
   "metadata": {},
   "outputs": [],
   "source": [
    "# 创建映射字典，将eid和ICD10_codes映射到节点索引\n",
    "participant_to_idx = {eid: idx for idx, eid in enumerate(embeddings_dict_keys)}\n",
    "disease_to_idx = {icd10: idx for idx, icd10 in enumerate(icd10_embeddings_keys)}\n",
    "\n",
    "# 提取临床数据中的边信息\n",
    "participant_indices = []\n",
    "disease_indices = []\n",
    "DiagnosisAge = []\n",
    "\n",
    "for _, row in clinical_df_select_columns.iterrows():\n",
    "    eid = row['eid']\n",
    "    icd10_code = row['ICD10_codes']\n",
    "    \n",
    "    # 检查eid和ICD10代码是否存在于节点列表中\n",
    "    if eid in participant_to_idx and icd10_code in disease_to_idx:\n",
    "        participant_idx = participant_to_idx[eid]\n",
    "        disease_idx = disease_to_idx[icd10_code]\n",
    "        \n",
    "        participant_indices.append(participant_idx)\n",
    "        disease_indices.append(disease_idx)\n",
    "        DiagnosisAge.append(row['DiagnosisAge'])\n",
    "\n",
    "# 转换为PyTorch张量\n",
    "participant_disease_edge_index = torch.tensor([\n",
    "    participant_indices,\n",
    "    disease_indices\n",
    "], dtype=torch.long)"
   ]
  },
  {
   "cell_type": "code",
   "execution_count": 117,
   "id": "a39df8b4-2cf1-44ac-bbf9-20bbb9ff879f",
   "metadata": {},
   "outputs": [
    {
     "data": {
      "text/html": [
       "<div>\n",
       "<style scoped>\n",
       "    .dataframe tbody tr th:only-of-type {\n",
       "        vertical-align: middle;\n",
       "    }\n",
       "\n",
       "    .dataframe tbody tr th {\n",
       "        vertical-align: top;\n",
       "    }\n",
       "\n",
       "    .dataframe thead th {\n",
       "        text-align: right;\n",
       "    }\n",
       "</style>\n",
       "<table border=\"1\" class=\"dataframe\">\n",
       "  <thead>\n",
       "    <tr style=\"text-align: right;\">\n",
       "      <th></th>\n",
       "      <th>eid</th>\n",
       "      <th>protein_name</th>\n",
       "      <th>protein_expression</th>\n",
       "      <th>RecruitmentAge</th>\n",
       "    </tr>\n",
       "  </thead>\n",
       "  <tbody>\n",
       "    <tr>\n",
       "      <th>0</th>\n",
       "      <td>1002133</td>\n",
       "      <td>a1bg</td>\n",
       "      <td>0.0957</td>\n",
       "      <td>23090</td>\n",
       "    </tr>\n",
       "    <tr>\n",
       "      <th>1</th>\n",
       "      <td>1002201</td>\n",
       "      <td>a1bg</td>\n",
       "      <td>-0.0473</td>\n",
       "      <td>25311</td>\n",
       "    </tr>\n",
       "  </tbody>\n",
       "</table>\n",
       "</div>"
      ],
      "text/plain": [
       "       eid protein_name  protein_expression  RecruitmentAge\n",
       "0  1002133         a1bg              0.0957           23090\n",
       "1  1002201         a1bg             -0.0473           25311"
      ]
     },
     "execution_count": 117,
     "metadata": {},
     "output_type": "execute_result"
    }
   ],
   "source": [
    "Olink_long_df.head(2)"
   ]
  },
  {
   "cell_type": "code",
   "execution_count": 118,
   "id": "fa59d473-32d1-4d43-918a-ea29cbb12f9e",
   "metadata": {},
   "outputs": [],
   "source": [
    "# 创建映射字典，将eid和protein映射到节点索引\n",
    "participant_to_idx = {eid: idx for idx, eid in enumerate(embeddings_dict_keys)}\n",
    "protein_to_idx = {protein: idx for idx, protein in enumerate(protein_embeddings_dict_keys)}\n",
    "\n",
    "# 筛选有效行\n",
    "valid_df = Olink_long_df[\n",
    "    Olink_long_df['eid'].isin(participant_to_idx) & \n",
    "    Olink_long_df['protein_name'].isin(protein_to_idx)\n",
    "].copy()\n",
    "\n",
    "# 映射ID到索引（向量化）\n",
    "valid_df['participant_idx'] = valid_df['eid'].map(participant_to_idx)\n",
    "valid_df['protein_idx'] = valid_df['protein_name'].map(protein_to_idx)\n",
    "\n",
    "# 直接提取列数据（避免循环）\n",
    "participant_indices = valid_df['participant_idx'].to_numpy()\n",
    "protein_indices = valid_df['protein_idx'].to_numpy()\n",
    "protein_expression = valid_df['protein_expression'].to_numpy()\n",
    "protein_RecruitmentAge = valid_df['RecruitmentAge'].to_numpy()"
   ]
  },
  {
   "cell_type": "code",
   "execution_count": 119,
   "id": "6d4448fb-0da2-4f2b-b5a3-8319ac57ca44",
   "metadata": {},
   "outputs": [],
   "source": [
    "# 转换为PyTorch张量\n",
    "participant_protein_edge_index = torch.stack(\n",
    "    [torch.from_numpy(participant_indices),\n",
    "    torch.from_numpy(protein_indices)], dim=0\n",
    ").to(torch.long)"
   ]
  },
  {
   "cell_type": "code",
   "execution_count": 120,
   "id": "43800b86-5d97-4a4e-9c93-fd4582cf2b8e",
   "metadata": {},
   "outputs": [
    {
     "data": {
      "text/html": [
       "<div>\n",
       "<style scoped>\n",
       "    .dataframe tbody tr th:only-of-type {\n",
       "        vertical-align: middle;\n",
       "    }\n",
       "\n",
       "    .dataframe tbody tr th {\n",
       "        vertical-align: top;\n",
       "    }\n",
       "\n",
       "    .dataframe thead th {\n",
       "        text-align: right;\n",
       "    }\n",
       "</style>\n",
       "<table border=\"1\" class=\"dataframe\">\n",
       "  <thead>\n",
       "    <tr style=\"text-align: right;\">\n",
       "      <th></th>\n",
       "      <th>eid</th>\n",
       "      <th>NMR_name</th>\n",
       "      <th>NMR_expression</th>\n",
       "      <th>RecruitmentAge</th>\n",
       "    </tr>\n",
       "  </thead>\n",
       "  <tbody>\n",
       "    <tr>\n",
       "      <th>0</th>\n",
       "      <td>1000053</td>\n",
       "      <td>Glucose-lactate</td>\n",
       "      <td>2.97210</td>\n",
       "      <td>24523</td>\n",
       "    </tr>\n",
       "    <tr>\n",
       "      <th>1</th>\n",
       "      <td>1000148</td>\n",
       "      <td>Glucose-lactate</td>\n",
       "      <td>5.79763</td>\n",
       "      <td>23304</td>\n",
       "    </tr>\n",
       "  </tbody>\n",
       "</table>\n",
       "</div>"
      ],
      "text/plain": [
       "       eid         NMR_name  NMR_expression  RecruitmentAge\n",
       "0  1000053  Glucose-lactate         2.97210           24523\n",
       "1  1000148  Glucose-lactate         5.79763           23304"
      ]
     },
     "execution_count": 120,
     "metadata": {},
     "output_type": "execute_result"
    }
   ],
   "source": [
    "NMR_long_df.head(2)"
   ]
  },
  {
   "cell_type": "code",
   "execution_count": 121,
   "id": "eb4630be-59bb-4aa8-b2fb-16fa93b77921",
   "metadata": {},
   "outputs": [],
   "source": [
    "# 创建映射字典，将eid和protein映射到节点索引\n",
    "participant_to_idx = {eid: idx for idx, eid in enumerate(embeddings_dict_keys)}\n",
    "metabolite_to_idx = {metabolite: idx for idx, metabolite in enumerate(metabolite_embeddings_dict_keys)}\n",
    "\n",
    "# 筛选有效行\n",
    "valid_df = NMR_long_df[\n",
    "    NMR_long_df['eid'].isin(participant_to_idx) & \n",
    "    NMR_long_df['NMR_name'].isin(metabolite_to_idx)\n",
    "].copy()\n",
    "\n",
    "# 映射ID到索引（向量化）\n",
    "valid_df['participant_idx'] = valid_df['eid'].map(participant_to_idx)\n",
    "valid_df['metabolite_idx'] = valid_df['NMR_name'].map(metabolite_to_idx)\n",
    "\n",
    "# 直接提取列数据（避免循环）\n",
    "participant_indices = valid_df['participant_idx'].to_numpy()\n",
    "metabolite_indices = valid_df['metabolite_idx'].to_numpy()\n",
    "NMR_expression = valid_df['NMR_expression'].to_numpy()\n",
    "metabolite_RecruitmentAge = valid_df['RecruitmentAge'].to_numpy()\n",
    "\n",
    "# 转换为PyTorch张量（优化内存分配）\n",
    "participant_metabolite_edge_index = torch.stack([\n",
    "    torch.from_numpy(participant_indices),\n",
    "    torch.from_numpy(metabolite_indices)\n",
    "], dim=0).to(torch.long)"
   ]
  },
  {
   "cell_type": "code",
   "execution_count": 122,
   "id": "f8282914-6b5b-4803-aa04-272d0832cd4a",
   "metadata": {},
   "outputs": [],
   "source": [
    "# 添加边的连接信息\n",
    "# data['author', 'writes', 'paper'].edge_index = ... # [2, num_edges_writes]\n",
    "HGData['participant', 'expresses', 'protein'].edge_index = participant_protein_edge_index\n",
    "HGData['participant', 'expresses', 'metabolite'].edge_index = participant_metabolite_edge_index\n",
    "HGData['participant', 'suffers_from', 'disease'].edge_index = participant_disease_edge_index\n",
    "#HGData['protein', 'interacts_with', 'protein'].edge_index = \n",
    "#HGData['protein', 'causes', 'disease'].edge_index = \n",
    "#HGData['disease', 'is_comorbid_with', 'disease'].edge_index = "
   ]
  },
  {
   "cell_type": "code",
   "execution_count": 123,
   "id": "5c5a68a4-0542-4242-ae21-5c97e2cbe184",
   "metadata": {},
   "outputs": [
    {
     "data": {
      "text/plain": [
       "tensor([[-0.0057,  0.0067,  0.0107,  ..., -0.0036, -0.0166, -0.0310],\n",
       "        [ 0.0133,  0.0176,  0.0039,  ..., -0.0277, -0.0060, -0.0316],\n",
       "        [ 0.0030,  0.0330, -0.0099,  ..., -0.0021, -0.0238, -0.0454],\n",
       "        ...,\n",
       "        [-0.0067,  0.0164, -0.0054,  ..., -0.0091, -0.0008, -0.0460],\n",
       "        [ 0.0114,  0.0209, -0.0284,  ..., -0.0151, -0.0054, -0.0493],\n",
       "        [-0.0164, -0.0015,  0.0004,  ..., -0.0115,  0.0018, -0.0472]])"
      ]
     },
     "execution_count": 123,
     "metadata": {},
     "output_type": "execute_result"
    }
   ],
   "source": [
    "participant_features\n",
    "icd10_features\n",
    "protein_features\n",
    "metabolite_features"
   ]
  },
  {
   "cell_type": "code",
   "execution_count": 124,
   "id": "efbeec61-8824-435e-a905-d14c068d2f2e",
   "metadata": {},
   "outputs": [
    {
     "data": {
      "text/plain": [
       "torch.Size([47626, 1536])"
      ]
     },
     "execution_count": 124,
     "metadata": {},
     "output_type": "execute_result"
    }
   ],
   "source": [
    "participant_features.shape"
   ]
  },
  {
   "cell_type": "code",
   "execution_count": 125,
   "id": "95485dd9-88b7-45ec-9fa3-67e65ea7b97d",
   "metadata": {},
   "outputs": [
    {
     "data": {
      "text/plain": [
       "torch.return_types.max(\n",
       "values=tensor([47625, 18903]),\n",
       "indices=tensor([159697,    920]))"
      ]
     },
     "execution_count": 125,
     "metadata": {},
     "output_type": "execute_result"
    }
   ],
   "source": [
    "participant_disease_edge_index.max(dim=1)"
   ]
  },
  {
   "cell_type": "code",
   "execution_count": 126,
   "id": "9e4c82d0-10a6-4a18-967d-5cf81cae2346",
   "metadata": {},
   "outputs": [
    {
     "name": "stdout",
     "output_type": "stream",
     "text": [
      "HeteroData(\n",
      "  participant={ x=[47626, 1536] },\n",
      "  disease={ x=[18904, 1536] },\n",
      "  protein={ x=[2923, 1536] },\n",
      "  metabolite={ x=[251, 1536] },\n",
      "  (participant, expresses, protein)={ edge_index=[2, 139210798] },\n",
      "  (participant, expresses, metabolite)={ edge_index=[2, 6851045] },\n",
      "  (participant, suffers_from, disease)={ edge_index=[2, 805376] }\n",
      ")\n"
     ]
    }
   ],
   "source": [
    "print(HGData)"
   ]
  },
  {
   "cell_type": "code",
   "execution_count": 127,
   "id": "bd1a9571-151d-4a46-a0d2-2871799e420d",
   "metadata": {},
   "outputs": [],
   "source": [
    "# 创建一个训练掩码，随机选择40000节点作为训练集\n",
    "train_mask = torch.zeros(47626, dtype=torch.bool)\n",
    "train_indices = torch.randperm(47626)[:40000]  # 随机选择40000个节点\n",
    "train_mask[train_indices] = True\n",
    "\n",
    "# 将掩码赋值给HGData\n",
    "HGData['participant'].train_mask = train_mask"
   ]
  },
  {
   "cell_type": "code",
   "execution_count": 128,
   "id": "a6a7a05c-f265-4186-ab59-91b4f5051c0f",
   "metadata": {},
   "outputs": [],
   "source": [
    "val_mask = ~train_mask  # 直接取反\n",
    "HGData['participant'].val_mask = val_mask"
   ]
  },
  {
   "cell_type": "code",
   "execution_count": 129,
   "id": "cae662e6-fe9a-4144-8ff9-a8de69de2088",
   "metadata": {},
   "outputs": [],
   "source": [
    "torch.save(HGData, '../Data/HGData.pt')"
   ]
  },
  {
   "cell_type": "code",
   "execution_count": 130,
   "id": "08555bf3-4344-4db6-9fce-6458e9c35114",
   "metadata": {},
   "outputs": [
    {
     "name": "stdout",
     "output_type": "stream",
     "text": [
      "\n",
      "===== 边目标节点分布检查 =====\n",
      "\n",
      "边类型: ('participant', 'expresses', 'protein')\n",
      "总边数: 139210798\n",
      "唯一目标节点数: 2923 / 2923\n",
      "\n",
      "边类型: ('participant', 'expresses', 'metabolite')\n",
      "总边数: 6851045\n",
      "唯一目标节点数: 251 / 251\n",
      "\n",
      "边类型: ('participant', 'suffers_from', 'disease')\n",
      "总边数: 805376\n",
      "唯一目标节点数: 8549 / 18904\n"
     ]
    }
   ],
   "source": [
    "def check_edge_targets(data):\n",
    "    print(\"\\n===== 边目标节点分布检查 =====\")\n",
    "    for edge_type in data.edge_types:\n",
    "        src_type, etype, dst_type = edge_type\n",
    "        edge_index = data[edge_type].edge_index\n",
    "        \n",
    "        if src_type != 'participant':\n",
    "            continue  # 只检查从participant出发的边\n",
    "            \n",
    "        print(f\"\\n边类型: {edge_type}\")\n",
    "        print(f\"总边数: {edge_index.size(1)}\")\n",
    "        \n",
    "        # 检查目标节点ID的唯一性和分布\n",
    "        dst_nodes = edge_index[1]\n",
    "        unique_dst = dst_nodes.unique()\n",
    "        print(f\"唯一目标节点数: {unique_dst.numel()} / {data[dst_type].num_nodes}\")\n",
    "\n",
    "check_edge_targets(HGData)"
   ]
  },
  {
   "cell_type": "code",
   "execution_count": 5,
   "id": "d0aa33f3-3edb-4639-b6a5-8481d0444b85",
   "metadata": {},
   "outputs": [],
   "source": [
    "from torch_geometric.loader import HGTLoader"
   ]
  },
  {
   "cell_type": "code",
   "execution_count": 6,
   "id": "302a7047-b834-4000-8e2b-20457149c6a7",
   "metadata": {},
   "outputs": [],
   "source": [
    "from torch_geometric.transforms import ToUndirected"
   ]
  },
  {
   "cell_type": "code",
   "execution_count": 133,
   "id": "57b0ac70-863a-44b4-9455-6ba76b1953f4",
   "metadata": {},
   "outputs": [],
   "source": [
    "HGData = torch.load('../Data/HGData.pt', weights_only=False)\n",
    "HGData_Undir = ToUndirected()(HGData)"
   ]
  },
  {
   "cell_type": "code",
   "execution_count": 134,
   "id": "ebce0e5b-310e-440a-bb5d-69e77542ec11",
   "metadata": {},
   "outputs": [],
   "source": [
    "torch.save(HGData_Undir, '../Data/HGData_Undir.pt')"
   ]
  },
  {
   "cell_type": "code",
   "execution_count": 135,
   "id": "62ebd610-0540-4ea1-8e20-af915c4bd4ab",
   "metadata": {},
   "outputs": [
    {
     "name": "stdout",
     "output_type": "stream",
     "text": [
      "HeteroData(\n",
      "  participant={\n",
      "    x=[47626, 1536],\n",
      "    train_mask=[47626],\n",
      "    val_mask=[47626],\n",
      "  },\n",
      "  disease={ x=[18904, 1536] },\n",
      "  protein={ x=[2923, 1536] },\n",
      "  metabolite={ x=[251, 1536] },\n",
      "  (participant, expresses, protein)={ edge_index=[2, 139210798] },\n",
      "  (participant, expresses, metabolite)={ edge_index=[2, 6851045] },\n",
      "  (participant, suffers_from, disease)={ edge_index=[2, 805376] },\n",
      "  (protein, rev_expresses, participant)={ edge_index=[2, 139210798] },\n",
      "  (metabolite, rev_expresses, participant)={ edge_index=[2, 6851045] },\n",
      "  (disease, rev_suffers_from, participant)={ edge_index=[2, 805376] }\n",
      ")\n"
     ]
    }
   ],
   "source": [
    "print(HGData_Undir)"
   ]
  },
  {
   "cell_type": "code",
   "execution_count": 136,
   "id": "6653d30b-2399-4836-b393-852a3a3f6322",
   "metadata": {},
   "outputs": [],
   "source": [
    "train_loader = HGTLoader(data=HGData, num_samples={key: [64] * 1 for key in HGData.node_types}, \n",
    "                         batch_size=512, shuffle=True,\n",
    "                         input_nodes=('participant', None))"
   ]
  },
  {
   "cell_type": "code",
   "execution_count": 137,
   "id": "257bf68a-aa95-4856-b963-540e1954510b",
   "metadata": {},
   "outputs": [
    {
     "name": "stdout",
     "output_type": "stream",
     "text": [
      "\n",
      "===== Batch 1 边信息 =====\n",
      "HeteroData(\n",
      "  participant={\n",
      "    x=[512, 1536],\n",
      "    train_mask=[512],\n",
      "    val_mask=[512],\n",
      "    n_id=[512],\n",
      "    input_id=[512],\n",
      "    batch_size=512,\n",
      "  },\n",
      "  disease={\n",
      "    x=[0, 1536],\n",
      "    n_id=[0],\n",
      "  },\n",
      "  protein={\n",
      "    x=[0, 1536],\n",
      "    n_id=[0],\n",
      "  },\n",
      "  metabolite={\n",
      "    x=[0, 1536],\n",
      "    n_id=[0],\n",
      "  },\n",
      "  (participant, expresses, protein)={\n",
      "    edge_index=[2, 0],\n",
      "    e_id=[0],\n",
      "  },\n",
      "  (participant, expresses, metabolite)={\n",
      "    edge_index=[2, 0],\n",
      "    e_id=[0],\n",
      "  },\n",
      "  (participant, suffers_from, disease)={\n",
      "    edge_index=[2, 0],\n",
      "    e_id=[0],\n",
      "  }\n",
      ")\n",
      "\n",
      "===== Batch 2 边信息 =====\n",
      "HeteroData(\n",
      "  participant={\n",
      "    x=[512, 1536],\n",
      "    train_mask=[512],\n",
      "    val_mask=[512],\n",
      "    n_id=[512],\n",
      "    input_id=[512],\n",
      "    batch_size=512,\n",
      "  },\n",
      "  disease={\n",
      "    x=[0, 1536],\n",
      "    n_id=[0],\n",
      "  },\n",
      "  protein={\n",
      "    x=[0, 1536],\n",
      "    n_id=[0],\n",
      "  },\n",
      "  metabolite={\n",
      "    x=[0, 1536],\n",
      "    n_id=[0],\n",
      "  },\n",
      "  (participant, expresses, protein)={\n",
      "    edge_index=[2, 0],\n",
      "    e_id=[0],\n",
      "  },\n",
      "  (participant, expresses, metabolite)={\n",
      "    edge_index=[2, 0],\n",
      "    e_id=[0],\n",
      "  },\n",
      "  (participant, suffers_from, disease)={\n",
      "    edge_index=[2, 0],\n",
      "    e_id=[0],\n",
      "  }\n",
      ")\n"
     ]
    }
   ],
   "source": [
    "# 遍历前3个batch\n",
    "for i, batch in enumerate(train_loader):\n",
    "    if i > 1:\n",
    "        break  # 只处理前3个batch\n",
    "    \n",
    "    print(f\"\\n===== Batch {i+1} 边信息 =====\")\n",
    "    print(batch)"
   ]
  },
  {
   "cell_type": "code",
   "execution_count": 138,
   "id": "456fe211-6884-4364-9a28-deec64a7f68c",
   "metadata": {},
   "outputs": [],
   "source": [
    "train_loader = HGTLoader(data=HGData_Undir, num_samples={key: [64] * 2 for key in HGData.node_types}, \n",
    "                         batch_size=512, shuffle=True,\n",
    "                         input_nodes=('disease', None))"
   ]
  },
  {
   "cell_type": "code",
   "execution_count": 139,
   "id": "c016b430-934a-4328-ab34-11d5856e5489",
   "metadata": {},
   "outputs": [
    {
     "name": "stdout",
     "output_type": "stream",
     "text": [
      "前三个batch的节点数量统计：\n",
      "\n",
      "===== Batch 1 =====\n",
      "participant节点数量: 128\n",
      "disease节点数量: 576\n",
      "protein节点数量: 64\n",
      "metabolite节点数量: 64\n",
      "\n",
      "===== Batch 2 =====\n",
      "participant节点数量: 128\n",
      "disease节点数量: 576\n",
      "protein节点数量: 64\n",
      "metabolite节点数量: 64\n"
     ]
    }
   ],
   "source": [
    "# 查看前三个batch的节点数量\n",
    "print(\"前三个batch的节点数量统计：\")\n",
    "for i, batch in enumerate(train_loader):\n",
    "    if i > 1:  # 只查看前3个batch\n",
    "        break\n",
    "        \n",
    "    print(f\"\\n===== Batch {i+1} =====\")\n",
    "    node_counts = {}\n",
    "    \n",
    "    # 统计每个节点类型的数量\n",
    "    for node_type in batch.x_dict:\n",
    "        node_counts[node_type] = batch.x_dict[node_type].size(0)\n",
    "    \n",
    "    # 打印结果\n",
    "    for node_type, count in node_counts.items():\n",
    "        print(f\"{node_type}节点数量: {count}\")"
   ]
  },
  {
   "cell_type": "markdown",
   "id": "a23ca721-7e13-4f28-bf70-828f44ac3547",
   "metadata": {},
   "source": [
    "### add self loops"
   ]
  },
  {
   "cell_type": "code",
   "execution_count": 140,
   "id": "0d83e8dd-dfb5-4ae0-b588-e3fc5f584956",
   "metadata": {},
   "outputs": [],
   "source": [
    "def add_self_loops(hg):\n",
    "    \"\"\"为异构图的每个节点类型添加自环边\"\"\"\n",
    "    new_hg = hg.clone()  # 克隆原图以避免修改原始数据\n",
    "    \n",
    "    # 遍历所有节点类型\n",
    "    for ntype in hg.node_types:\n",
    "        # 获取节点数量\n",
    "        num_nodes = hg[ntype].num_nodes\n",
    "    \n",
    "        # 创建自环边的边索引：源节点和目标节点都是0到num_nodes-1\n",
    "        src = torch.arange(num_nodes, dtype=torch.int64)\n",
    "        dst = torch.arange(num_nodes, dtype=torch.int64)\n",
    "        \n",
    "        # 添加自环边到异构图\n",
    "        new_hg[ntype, 'self_loop', ntype].edge_index = torch.stack([src, dst])\n",
    "    \n",
    "    return new_hg\n",
    "\n",
    "HGData_Undir_with_self_loops = add_self_loops(HGData_Undir)"
   ]
  },
  {
   "cell_type": "code",
   "execution_count": 141,
   "id": "1221bd02-fc87-4db2-bb79-4576422bec9a",
   "metadata": {},
   "outputs": [],
   "source": [
    "torch.save(HGData_Undir_with_self_loops, '../Data/HGData_Undir_with_self_loops.pt')"
   ]
  },
  {
   "cell_type": "code",
   "execution_count": 7,
   "id": "52bae627-197d-49ce-ad30-7aa1e677349c",
   "metadata": {},
   "outputs": [],
   "source": [
    "HGData_Undir_with_self_loops = torch.load('../Data/HGData_Undir_with_self_loops.pt', weights_only=False)"
   ]
  },
  {
   "cell_type": "code",
   "execution_count": 145,
   "id": "9e737dd6-d006-4765-8330-cf1cbcc6f6fd",
   "metadata": {},
   "outputs": [],
   "source": [
    "np.save('../Data/protein_expression.npy', protein_expression)\n",
    "np.save('../Data/protein_RecruitmentAge.npy', protein_RecruitmentAge)\n",
    "np.save('../Data/NMR_expression.npy', NMR_expression)\n",
    "np.save('../Data/metabolite_RecruitmentAge.npy', metabolite_RecruitmentAge)\n",
    "np.save('../Data/DiagnosisAge.npy', DiagnosisAge)"
   ]
  },
  {
   "cell_type": "code",
   "execution_count": 8,
   "id": "1b37c194-7f89-4b15-9edd-4818a396c9f9",
   "metadata": {},
   "outputs": [],
   "source": [
    "protein_expression = np.load('../Data/protein_expression.npy')\n",
    "protein_RecruitmentAge = np.load('../Data/protein_RecruitmentAge.npy')\n",
    "NMR_expression = np.load('../Data/NMR_expression.npy')\n",
    "metabolite_RecruitmentAge = np.load('../Data/metabolite_RecruitmentAge.npy')\n",
    "DiagnosisAge = np.load('../Data/DiagnosisAge.npy')"
   ]
  },
  {
   "cell_type": "code",
   "execution_count": 9,
   "id": "9ea76b26-c0d7-4956-a11f-79a111460cc6",
   "metadata": {},
   "outputs": [],
   "source": [
    "protein_expression_tensor = torch.tensor(protein_expression, dtype=torch.float32)"
   ]
  },
  {
   "cell_type": "code",
   "execution_count": 10,
   "id": "bb7ef83a-067c-4724-b96c-5c6dc63fa43d",
   "metadata": {},
   "outputs": [],
   "source": [
    "protein_RecruitmentAge_tensor = torch.tensor(protein_RecruitmentAge, dtype=torch.float32)"
   ]
  },
  {
   "cell_type": "code",
   "execution_count": 11,
   "id": "8126200a-9580-45b6-b86e-73b5e3471e78",
   "metadata": {},
   "outputs": [],
   "source": [
    "NMR_expression_tensor = torch.tensor(NMR_expression, dtype=torch.float32)"
   ]
  },
  {
   "cell_type": "code",
   "execution_count": 12,
   "id": "c14aa054-5f1d-4ddf-9875-711d94f5683a",
   "metadata": {},
   "outputs": [],
   "source": [
    "metabolite_RecruitmentAge_tensor = torch.tensor(metabolite_RecruitmentAge, dtype=torch.float32)"
   ]
  },
  {
   "cell_type": "code",
   "execution_count": 13,
   "id": "b9468fae-30b0-46bb-b932-b1d922517c6d",
   "metadata": {},
   "outputs": [],
   "source": [
    "DiagnosisAge_tensor = torch.tensor(DiagnosisAge, dtype=torch.float32)"
   ]
  },
  {
   "cell_type": "code",
   "execution_count": 14,
   "id": "8de15f00-2742-4f97-9f28-ade82ea0a51c",
   "metadata": {},
   "outputs": [],
   "source": [
    "# Z-score归一化函数\n",
    "def z_score_normalize(tensor):\n",
    "    mean = tensor.mean()\n",
    "    std = tensor.std()\n",
    "    # 防止除零错误\n",
    "    if std == 0:\n",
    "        return tensor\n",
    "    return (tensor - mean) / std"
   ]
  },
  {
   "cell_type": "code",
   "execution_count": 15,
   "id": "990a5847-9caf-44dd-a9f3-d269accc8bb6",
   "metadata": {},
   "outputs": [],
   "source": [
    "# 对年龄数据进行Z-score归一化\n",
    "protein_RecruitmentAge_norm = z_score_normalize(protein_RecruitmentAge_tensor)"
   ]
  },
  {
   "cell_type": "code",
   "execution_count": 16,
   "id": "99358797-e05a-4713-9ab7-b8fd679a9973",
   "metadata": {},
   "outputs": [],
   "source": [
    "metabolite_RecruitmentAge_norm = z_score_normalize(metabolite_RecruitmentAge_tensor)"
   ]
  },
  {
   "cell_type": "code",
   "execution_count": 17,
   "id": "4ffd1bb6-73a8-4e48-a4fe-4a3d8a19855f",
   "metadata": {},
   "outputs": [],
   "source": [
    "DiagnosisAge_norm = z_score_normalize(DiagnosisAge_tensor)"
   ]
  },
  {
   "cell_type": "code",
   "execution_count": 18,
   "id": "88c55613-131c-413a-bbd0-7772b9ebf646",
   "metadata": {},
   "outputs": [],
   "source": [
    "# Min-Max归一化函数\n",
    "def min_max_normalize(tensor):\n",
    "    min_val = tensor.min()\n",
    "    max_val = tensor.max()\n",
    "    # 防止除零错误\n",
    "    if max_val == min_val:\n",
    "        return tensor\n",
    "    return (tensor - min_val) / (max_val - min_val)"
   ]
  },
  {
   "cell_type": "code",
   "execution_count": 19,
   "id": "6fe28f34-168d-43c3-a95a-ff1358466b97",
   "metadata": {},
   "outputs": [],
   "source": [
    "# 对表达量数据进行Min-Max归一化\n",
    "protein_expression_norm = min_max_normalize(protein_expression_tensor)"
   ]
  },
  {
   "cell_type": "code",
   "execution_count": 20,
   "id": "5b363c82-fc47-49f4-8200-3a5bb7e37f14",
   "metadata": {},
   "outputs": [],
   "source": [
    "NMR_expression_norm = min_max_normalize(NMR_expression_tensor)"
   ]
  },
  {
   "cell_type": "code",
   "execution_count": 23,
   "id": "1b30bfcf-18ea-4f4f-9e88-0d5bed5001df",
   "metadata": {},
   "outputs": [],
   "source": [
    "# 添加边的属性信息\n",
    "# data['paper', 'cites', 'paper'].edge_attr = ... # [num_edges_cites, num_features_cites]\n",
    "HGData_Undir_with_self_loops['participant', 'expresses', 'protein'].edge_attr = torch.cat([protein_expression_norm.unsqueeze(1),  # 形状：[num_edges, 1]\n",
    "               protein_RecruitmentAge_norm.unsqueeze(1)], dim=1)\n",
    "\n",
    "HGData_Undir_with_self_loops['participant', 'expresses', 'metabolite'].edge_attr = torch.cat([NMR_expression_norm.unsqueeze(1),\n",
    "               metabolite_RecruitmentAge_norm.unsqueeze(1)], dim=1)\n",
    "\n",
    "HGData_Undir_with_self_loops['participant', 'suffers_from', 'disease'].edge_attr = DiagnosisAge_norm.unsqueeze(1)\n",
    "\n",
    "#HGData['protein', 'interacts_with', 'protein'].edge_attr = None\n",
    "#HGData['protein', 'causes', 'disease'].edge_attr = None\n",
    "#HGData['disease', 'is_comorbid_with', 'disease'].edge_attr = None"
   ]
  },
  {
   "cell_type": "code",
   "execution_count": 24,
   "id": "d7c5b79d-5c4b-4f0e-9400-db1f2c687801",
   "metadata": {},
   "outputs": [
    {
     "name": "stdout",
     "output_type": "stream",
     "text": [
      "HeteroData(\n",
      "  participant={\n",
      "    x=[47626, 1536],\n",
      "    train_mask=[47626],\n",
      "    val_mask=[47626],\n",
      "  },\n",
      "  disease={ x=[18904, 1536] },\n",
      "  protein={ x=[2923, 1536] },\n",
      "  metabolite={ x=[251, 1536] },\n",
      "  (participant, expresses, protein)={\n",
      "    edge_index=[2, 139210798],\n",
      "    edge_attr=[139210798, 2],\n",
      "  },\n",
      "  (participant, expresses, metabolite)={\n",
      "    edge_index=[2, 6851045],\n",
      "    edge_attr=[6851045, 2],\n",
      "  },\n",
      "  (participant, suffers_from, disease)={\n",
      "    edge_index=[2, 805376],\n",
      "    edge_attr=[805376, 1],\n",
      "  },\n",
      "  (protein, rev_expresses, participant)={ edge_index=[2, 139210798] },\n",
      "  (metabolite, rev_expresses, participant)={ edge_index=[2, 6851045] },\n",
      "  (disease, rev_suffers_from, participant)={ edge_index=[2, 805376] },\n",
      "  (participant, self_loop, participant)={ edge_index=[2, 47626] },\n",
      "  (disease, self_loop, disease)={ edge_index=[2, 18904] },\n",
      "  (protein, self_loop, protein)={ edge_index=[2, 2923] },\n",
      "  (metabolite, self_loop, metabolite)={ edge_index=[2, 251] }\n",
      ")\n"
     ]
    }
   ],
   "source": [
    "print(HGData_Undir_with_self_loops)"
   ]
  },
  {
   "cell_type": "code",
   "execution_count": 25,
   "id": "33e55ea3-7063-4b94-9b5d-cafc5cbc2c2b",
   "metadata": {},
   "outputs": [],
   "source": [
    "torch.save(HGData_Undir_with_self_loops, '../Data/HGData_Undir_with_self_loops_with_attr.pt')"
   ]
  },
  {
   "cell_type": "code",
   "execution_count": 27,
   "id": "273c4f8c-f48d-411f-bdde-99363d353380",
   "metadata": {},
   "outputs": [
    {
     "name": "stdout",
     "output_type": "stream",
     "text": [
      "为边类型 ('protein', 'rev_expresses', 'participant') 添加了默认边属性，形状为 torch.Size([139210798, 1])\n",
      "为边类型 ('metabolite', 'rev_expresses', 'participant') 添加了默认边属性，形状为 torch.Size([6851045, 1])\n",
      "为边类型 ('disease', 'rev_suffers_from', 'participant') 添加了默认边属性，形状为 torch.Size([805376, 1])\n",
      "为边类型 ('participant', 'self_loop', 'participant') 添加了默认边属性，形状为 torch.Size([47626, 1])\n",
      "为边类型 ('disease', 'self_loop', 'disease') 添加了默认边属性，形状为 torch.Size([18904, 1])\n",
      "为边类型 ('protein', 'self_loop', 'protein') 添加了默认边属性，形状为 torch.Size([2923, 1])\n",
      "为边类型 ('metabolite', 'self_loop', 'metabolite') 添加了默认边属性，形状为 torch.Size([251, 1])\n"
     ]
    }
   ],
   "source": [
    "def add_default_edge_attr(data):\n",
    "    \"\"\"为没有边属性的边类型添加全1的边属性（维度为1）\"\"\"\n",
    "    for edge_type in data.edge_types:\n",
    "        # 检查边类型是否有edge_attr属性\n",
    "        if 'edge_attr' not in data[edge_type]:\n",
    "            # 获取该边类型的边数量\n",
    "            num_edges = data[edge_type].edge_index.size(1)\n",
    "            # 创建全1的边属性张量，维度为[num_edges, 1]\n",
    "            data[edge_type].edge_attr = torch.ones(num_edges, 1)\n",
    "            print(f\"为边类型 {edge_type} 添加了默认边属性，形状为 {data[edge_type].edge_attr.shape}\")\n",
    "    return data\n",
    "\n",
    "# 使用示例\n",
    "HGData_Undir_with_self_loops_add_default_edge_attr = add_default_edge_attr(HGData_Undir_with_self_loops)"
   ]
  },
  {
   "cell_type": "code",
   "execution_count": 29,
   "id": "752bf759-afee-4a58-9b88-376520f1b6b8",
   "metadata": {},
   "outputs": [
    {
     "name": "stdout",
     "output_type": "stream",
     "text": [
      "HeteroData(\n",
      "  participant={\n",
      "    x=[47626, 1536],\n",
      "    train_mask=[47626],\n",
      "    val_mask=[47626],\n",
      "  },\n",
      "  disease={ x=[18904, 1536] },\n",
      "  protein={ x=[2923, 1536] },\n",
      "  metabolite={ x=[251, 1536] },\n",
      "  (participant, expresses, protein)={\n",
      "    edge_index=[2, 139210798],\n",
      "    edge_attr=[139210798, 2],\n",
      "  },\n",
      "  (participant, expresses, metabolite)={\n",
      "    edge_index=[2, 6851045],\n",
      "    edge_attr=[6851045, 2],\n",
      "  },\n",
      "  (participant, suffers_from, disease)={\n",
      "    edge_index=[2, 805376],\n",
      "    edge_attr=[805376, 1],\n",
      "  },\n",
      "  (protein, rev_expresses, participant)={\n",
      "    edge_index=[2, 139210798],\n",
      "    edge_attr=[139210798, 1],\n",
      "  },\n",
      "  (metabolite, rev_expresses, participant)={\n",
      "    edge_index=[2, 6851045],\n",
      "    edge_attr=[6851045, 1],\n",
      "  },\n",
      "  (disease, rev_suffers_from, participant)={\n",
      "    edge_index=[2, 805376],\n",
      "    edge_attr=[805376, 1],\n",
      "  },\n",
      "  (participant, self_loop, participant)={\n",
      "    edge_index=[2, 47626],\n",
      "    edge_attr=[47626, 1],\n",
      "  },\n",
      "  (disease, self_loop, disease)={\n",
      "    edge_index=[2, 18904],\n",
      "    edge_attr=[18904, 1],\n",
      "  },\n",
      "  (protein, self_loop, protein)={\n",
      "    edge_index=[2, 2923],\n",
      "    edge_attr=[2923, 1],\n",
      "  },\n",
      "  (metabolite, self_loop, metabolite)={\n",
      "    edge_index=[2, 251],\n",
      "    edge_attr=[251, 1],\n",
      "  }\n",
      ")\n"
     ]
    }
   ],
   "source": [
    "print(HGData_Undir_with_self_loops_add_default_edge_attr)"
   ]
  },
  {
   "cell_type": "code",
   "execution_count": 28,
   "id": "bb442dea-8fde-4afe-bafe-0623973cb6c9",
   "metadata": {},
   "outputs": [],
   "source": [
    "torch.save(HGData_Undir_with_self_loops_add_default_edge_attr, '../Data/HGData_Undir_with_self_loops_add_default_edge_attr.pt')"
   ]
  },
  {
   "cell_type": "code",
   "execution_count": null,
   "id": "968e5be9-2479-42d0-8ee6-62cc7a931cd7",
   "metadata": {},
   "outputs": [],
   "source": []
  },
  {
   "cell_type": "code",
   "execution_count": null,
   "id": "53b400d8-1d66-45a2-ba54-32f133d3a7eb",
   "metadata": {},
   "outputs": [],
   "source": []
  },
  {
   "cell_type": "code",
   "execution_count": null,
   "id": "1a0fc053-5e30-49d0-af12-b88584e01575",
   "metadata": {},
   "outputs": [],
   "source": []
  },
  {
   "cell_type": "code",
   "execution_count": null,
   "id": "3518fa80-cafb-400d-b4ba-898841490872",
   "metadata": {},
   "outputs": [],
   "source": []
  },
  {
   "cell_type": "code",
   "execution_count": null,
   "id": "07408fd1-3570-4fb7-843f-be851d3389aa",
   "metadata": {},
   "outputs": [],
   "source": []
  },
  {
   "cell_type": "code",
   "execution_count": null,
   "id": "30b1b6f3-2e42-4d82-9b93-0780ecdb8d1f",
   "metadata": {},
   "outputs": [],
   "source": []
  },
  {
   "cell_type": "code",
   "execution_count": null,
   "id": "5fdc913f-1d70-4662-a7f5-6142b90f7f1c",
   "metadata": {},
   "outputs": [],
   "source": []
  },
  {
   "cell_type": "code",
   "execution_count": null,
   "id": "5d0582f8-b505-4576-834a-3675cf8cc26e",
   "metadata": {},
   "outputs": [],
   "source": []
  },
  {
   "cell_type": "code",
   "execution_count": null,
   "id": "70108f5f-414a-46cc-b88e-d6393b5b88bb",
   "metadata": {},
   "outputs": [],
   "source": []
  },
  {
   "cell_type": "code",
   "execution_count": null,
   "id": "c304051a-f219-4382-88c9-bd8bc2f7f59c",
   "metadata": {},
   "outputs": [],
   "source": []
  },
  {
   "cell_type": "code",
   "execution_count": null,
   "id": "28589bdf-2200-4a20-8547-07068fac7570",
   "metadata": {},
   "outputs": [],
   "source": []
  },
  {
   "cell_type": "code",
   "execution_count": null,
   "id": "4ffbffdd-fe0f-4335-84c8-fb5ce75ca033",
   "metadata": {},
   "outputs": [],
   "source": []
  },
  {
   "cell_type": "code",
   "execution_count": null,
   "id": "7a325cc0-49ef-451b-9a4e-4647f2738672",
   "metadata": {},
   "outputs": [],
   "source": []
  },
  {
   "cell_type": "code",
   "execution_count": null,
   "id": "20152e19-5de8-4532-a83b-f849130c2213",
   "metadata": {},
   "outputs": [],
   "source": []
  },
  {
   "cell_type": "code",
   "execution_count": null,
   "id": "a5f86d54-ca48-41d2-b831-d2b7ec4359b6",
   "metadata": {},
   "outputs": [],
   "source": []
  },
  {
   "cell_type": "code",
   "execution_count": null,
   "id": "7d33887d-1b1a-4372-af64-7089632eef86",
   "metadata": {},
   "outputs": [],
   "source": []
  },
  {
   "cell_type": "markdown",
   "id": "fd2f8972-78f7-4b2e-98de-cf7a2a61050d",
   "metadata": {},
   "source": [
    "## get KNN"
   ]
  },
  {
   "cell_type": "code",
   "execution_count": null,
   "id": "c1fc4b8b-b539-428e-b9d6-f5e450f75d59",
   "metadata": {},
   "outputs": [],
   "source": [
    "import numpy as np\n",
    "from sklearn.metrics import pairwise_distances\n",
    "from typing import List, Optional, Dict, Tuple\n",
    "from scipy.stats import spearmanr"
   ]
  },
  {
   "cell_type": "code",
   "execution_count": null,
   "id": "f0f2a4f7-617f-4129-8ed9-9453af24b535",
   "metadata": {},
   "outputs": [],
   "source": [
    "def get_knn( # 不包含自己\n",
    "    embeddings: np.ndarray,\n",
    "    names: List[str],\n",
    "    metric: str,\n",
    "    k: int,\n",
    "    threshold: Optional[float] = None\n",
    ") -> Dict[str, List[Tuple[str, float]]]:\n",
    "    if metric=='spearman':\n",
    "        corr_matrix, _ = spearmanr(embeddings, axis=1) #axis=1 means rows\n",
    "        dists = 1.0 - np.abs(corr_matrix)\n",
    "    else:\n",
    "        dists = pairwise_distances(embeddings, metric=metric)\n",
    "    n = len(names)\n",
    "    result: Dict[str, List[Tuple[str, float]]] = {}\n",
    "    for i, name in enumerate(names):\n",
    "        dist_row = dists[i]\n",
    "        sorted_idx = np.argsort(dist_row)\n",
    "        neighbors: List[Tuple[str, float]] = []\n",
    "        for j in sorted_idx:\n",
    "            if j == i:\n",
    "                # skip self\n",
    "                continue\n",
    "            dist_ij = float(dist_row[j])\n",
    "            if threshold is not None and dist_ij > threshold:\n",
    "                # skip if beyond threshold\n",
    "                continue\n",
    "            neighbors.append((names[j], dist_ij))\n",
    "            if len(neighbors) >= k:\n",
    "                break\n",
    "\n",
    "        result[name] = neighbors\n",
    "\n",
    "    return result\n",
    "\n",
    "# embs = np.array([\n",
    "#     [0.0, 1.0],\n",
    "#     [1.0, 0.0],\n",
    "#     [1.0, 1.0],\n",
    "#     [2.0, 2.0],\n",
    "# ])\n",
    "# names = [\"A\", \"B\", \"C\", \"D\"]\n",
    "# knn = get_knn(embs, names, metric=\"euclidean\", k=2, threshold=None)\n",
    "# for name, neighbors in knn.items():\n",
    "#     print(f\"{name}: {neighbors}\")"
   ]
  },
  {
   "cell_type": "markdown",
   "id": "e6dca625-9f0e-48d5-99af-6d0d079196b0",
   "metadata": {},
   "source": [
    "##### Olink KNN"
   ]
  },
  {
   "cell_type": "code",
   "execution_count": null,
   "id": "114e829d-3547-4869-99b6-391e4d210b06",
   "metadata": {},
   "outputs": [],
   "source": [
    "Olink_df_imputed.head(2)"
   ]
  },
  {
   "cell_type": "code",
   "execution_count": null,
   "id": "171a76c4-cbf4-494d-b51f-a68ea92669f1",
   "metadata": {},
   "outputs": [],
   "source": [
    "# 复制数据并排除第一列（eid）\n",
    "Olink_df_imputed_processed = Olink_df_imputed.iloc[:, 1:].copy()\n",
    "\n",
    "# 移除列名中的 \"olink_instance_0.\" 前缀\n",
    "Olink_df_imputed_processed.columns = Olink_df_imputed_processed.columns.str.replace('olink_instance_0.', '', regex=False)"
   ]
  },
  {
   "cell_type": "code",
   "execution_count": null,
   "id": "1e64dc2b-1aae-4a5f-91ca-5f4490215299",
   "metadata": {},
   "outputs": [],
   "source": [
    "Olink_df_imputed_processed.head(2)"
   ]
  },
  {
   "cell_type": "code",
   "execution_count": null,
   "id": "6a031471-0cf3-4363-86b0-853765d7c2af",
   "metadata": {},
   "outputs": [],
   "source": [
    "Olink_df_transposed = Olink_df_imputed_processed.T"
   ]
  },
  {
   "cell_type": "code",
   "execution_count": null,
   "id": "6c9a0a6d-3013-4361-9d97-0bad6f6be983",
   "metadata": {},
   "outputs": [],
   "source": [
    "Olink_knn = get_knn(embeddings=Olink_df_transposed.to_numpy(), \n",
    "                    names=Olink_df_transposed.index.tolist(), \n",
    "                    metric=\"spearman\", k=10, threshold=None)"
   ]
  },
  {
   "cell_type": "code",
   "execution_count": null,
   "id": "89e28676-4ff0-49a3-8027-91f524f437b4",
   "metadata": {},
   "outputs": [],
   "source": [
    "# 初始化空列表收集数据\n",
    "rows = []\n",
    "for node1, neighbors in Olink_knn.items():\n",
    "    for neighbor in neighbors:\n",
    "        node2, distance = neighbor\n",
    "        rows.append({\n",
    "            'node1': node1,\n",
    "            'node2': node2,\n",
    "            'relationship': 1\n",
    "        })\n",
    "# 创建DataFrame\n",
    "Olink_knn_dataframe = pd.DataFrame(rows)"
   ]
  },
  {
   "cell_type": "markdown",
   "id": "0483410d-7ab7-4362-bc98-275537e072dd",
   "metadata": {},
   "source": [
    "#### NMR KNN"
   ]
  },
  {
   "cell_type": "code",
   "execution_count": null,
   "id": "f39442ba-f337-4322-b3dc-5b4e29bb24d2",
   "metadata": {},
   "outputs": [],
   "source": [
    "NMR_df_imputed.head(2)"
   ]
  },
  {
   "cell_type": "code",
   "execution_count": null,
   "id": "68327a4c-7bd3-4f33-8d90-3fbec8b8a7b4",
   "metadata": {},
   "outputs": [],
   "source": [
    "# 复制数据并排除第一列（eid）\n",
    "NMR_df_imputed_processed = NMR_df_imputed.iloc[:, 1:].copy()\n",
    "\n",
    "# 移除列名中的 \"participant.\" 前缀\n",
    "NMR_df_imputed_processed.columns = NMR_df_imputed_processed.columns.str.replace('participant.', '', regex=False)"
   ]
  },
  {
   "cell_type": "code",
   "execution_count": null,
   "id": "c8593683-1032-4461-b396-171e32861156",
   "metadata": {},
   "outputs": [],
   "source": [
    "NMR_df_imputed_processed.head(2)"
   ]
  },
  {
   "cell_type": "code",
   "execution_count": null,
   "id": "2767393d-cbfd-40c9-aa50-862945cda7b8",
   "metadata": {},
   "outputs": [],
   "source": [
    "NMR_df_transposed = NMR_df_imputed_processed.T"
   ]
  },
  {
   "cell_type": "code",
   "execution_count": null,
   "id": "bd6ed5b3-af5e-4854-94b1-0dd20ed81949",
   "metadata": {},
   "outputs": [],
   "source": [
    "NMR_knn = get_knn(embeddings=NMR_df_transposed.to_numpy(), \n",
    "                    names=NMR_df_transposed.index.tolist(), \n",
    "                    metric=\"spearman\", k=10, threshold=None)"
   ]
  },
  {
   "cell_type": "code",
   "execution_count": null,
   "id": "18085fbe-df36-4478-814c-0c914d0606cf",
   "metadata": {},
   "outputs": [],
   "source": [
    "# 初始化空列表收集数据\n",
    "rows = []\n",
    "for node1, neighbors in NMR_knn.items():\n",
    "    for neighbor in neighbors:\n",
    "        node2, distance = neighbor\n",
    "        rows.append({\n",
    "            'node1': node1,\n",
    "            'node2': node2,\n",
    "            'relationship': 1\n",
    "        })\n",
    "# 创建DataFrame\n",
    "NMR_knn_dataframe = pd.DataFrame(rows)"
   ]
  },
  {
   "cell_type": "code",
   "execution_count": null,
   "id": "3a94a8fa-9c0c-42f6-a0a0-3eb3e6784daa",
   "metadata": {},
   "outputs": [],
   "source": [
    "# convert NMR names\n",
    "NMR_knn_dataframe['node1'] = NMR_knn_dataframe['node1'].apply(map_node2)\n",
    "NMR_knn_dataframe['node2'] = NMR_knn_dataframe['node2'].apply(map_node2)"
   ]
  },
  {
   "cell_type": "markdown",
   "id": "6ee4a182-047b-41df-8a34-1c1beca8b185",
   "metadata": {},
   "source": [
    "#### ICD10 KNN"
   ]
  },
  {
   "cell_type": "code",
   "execution_count": null,
   "id": "e78a8a9f-c2e2-4697-8348-cec6a7f82ba6",
   "metadata": {},
   "outputs": [],
   "source": [
    "# 提取键（按插入顺序，Python 3.7+字典有序）\n",
    "icd10_embeddings_keys = list(icd10_embeddings.keys())"
   ]
  },
  {
   "cell_type": "code",
   "execution_count": null,
   "id": "703749c4-55f4-4812-98f7-13645ce7eace",
   "metadata": {},
   "outputs": [],
   "source": [
    "# 将字典值转换为NumPy矩阵（每行一个向量）\n",
    "icd10_matrix = np.array([icd10_embeddings[key] for key in icd10_embeddings_keys])"
   ]
  },
  {
   "cell_type": "code",
   "execution_count": null,
   "id": "7d307a84-3bd3-43a4-aec4-f75ffedd3c9e",
   "metadata": {},
   "outputs": [],
   "source": [
    "from sklearn.decomposition import PCA\n",
    "pca = PCA(n_components=150, random_state=42)\n",
    "icd10_matrix_pca = pca.fit_transform(icd10_matrix)\n",
    "print(f\"PCA降维后形状: {icd10_matrix_pca.shape}\")\n",
    "print(f\"解释方差比例: {np.sum(pca.explained_variance_ratio_):.3f}\")"
   ]
  },
  {
   "cell_type": "code",
   "execution_count": null,
   "id": "8016c298-c5bf-4e43-ba0d-1449ce9c6764",
   "metadata": {},
   "outputs": [],
   "source": [
    "icd10_knn = get_knn(embeddings=icd10_matrix_pca, \n",
    "                    names=icd10_embeddings_keys, \n",
    "                    metric=\"euclidean\", k=10, threshold=None)"
   ]
  },
  {
   "cell_type": "code",
   "execution_count": null,
   "id": "66b89746-cbd6-44e8-8618-f2f76ff83ade",
   "metadata": {},
   "outputs": [],
   "source": [
    "# 初始化空列表收集数据\n",
    "rows = []\n",
    "for node1, neighbors in icd10_knn.items():\n",
    "    for neighbor in neighbors:\n",
    "        node2, distance = neighbor\n",
    "        #if node1[0] == node2[0]:\n",
    "        rows.append({\n",
    "                'node1': node1,\n",
    "                'node2': node2,\n",
    "                'relationship': 1})\n",
    "# 创建DataFrame\n",
    "icd10_knn_dataframe = pd.DataFrame(rows)"
   ]
  },
  {
   "cell_type": "markdown",
   "id": "1b58bc53-1b12-4552-b342-40748c177553",
   "metadata": {},
   "source": [
    "#### eid KNN"
   ]
  },
  {
   "cell_type": "code",
   "execution_count": null,
   "id": "2ac54744-e999-4dac-9193-adef941610d9",
   "metadata": {},
   "outputs": [],
   "source": [
    "len(embeddings_dict)"
   ]
  },
  {
   "cell_type": "code",
   "execution_count": null,
   "id": "d287cd5a-4fe3-4f35-9a44-8d8b77d408e2",
   "metadata": {},
   "outputs": [],
   "source": [
    "# 提取键（按插入顺序，Python 3.7+字典有序）\n",
    "embeddings_dict_keys = list(embeddings_dict.keys())"
   ]
  },
  {
   "cell_type": "code",
   "execution_count": null,
   "id": "8cf866e9-f503-4652-8b94-43fa90449d50",
   "metadata": {},
   "outputs": [],
   "source": [
    "select_embeddings_dict_keys = list(set(embeddings_dict_keys) & set(subset_clinical_df['node1'].astype(str).drop_duplicates(keep='first').reset_index(drop=True)))"
   ]
  },
  {
   "cell_type": "code",
   "execution_count": null,
   "id": "a761af29-beaa-44ca-ba1a-07b9c4fbf76a",
   "metadata": {},
   "outputs": [],
   "source": [
    "len(select_embeddings_dict_keys)"
   ]
  },
  {
   "cell_type": "code",
   "execution_count": null,
   "id": "9966d8e4-d6d9-4b51-8781-34533cafb22e",
   "metadata": {},
   "outputs": [],
   "source": [
    "with open('../Data/select_embeddings_dict_keys.json', 'w') as f:\n",
    "    json.dump(select_embeddings_dict_keys,f)"
   ]
  },
  {
   "cell_type": "code",
   "execution_count": null,
   "id": "d7dba52e-3d51-411e-8887-fa726872e56e",
   "metadata": {},
   "outputs": [],
   "source": [
    "# 将字典值转换为NumPy矩阵（每行一个向量）\n",
    "eid_matrix = np.array([embeddings_dict[key] for key in select_embeddings_dict_keys])"
   ]
  },
  {
   "cell_type": "code",
   "execution_count": null,
   "id": "ff7adba1-1b27-4ee2-90af-d045811b0add",
   "metadata": {},
   "outputs": [],
   "source": [
    "from sklearn.decomposition import PCA\n",
    "pca = PCA(n_components=100, random_state=42)\n",
    "eid_matrix_pca = pca.fit_transform(eid_matrix)\n",
    "print(f\"PCA降维后形状: {eid_matrix_pca.shape}\")\n",
    "print(f\"解释方差比例: {np.sum(pca.explained_variance_ratio_):.3f}\")"
   ]
  },
  {
   "cell_type": "code",
   "execution_count": null,
   "id": "763c7ff7-87cb-4291-b12f-06306e2eb5bd",
   "metadata": {},
   "outputs": [],
   "source": [
    "eid_knn = get_knn(embeddings=eid_matrix_pca, \n",
    "                    names=select_embeddings_dict_keys, \n",
    "                    metric=\"euclidean\", k=5, threshold=None)"
   ]
  },
  {
   "cell_type": "code",
   "execution_count": null,
   "id": "724c927c-32da-4fd4-9452-c7d4e34fc1af",
   "metadata": {},
   "outputs": [],
   "source": [
    "# 初始化空列表收集数据\n",
    "rows = []\n",
    "for node1, neighbors in eid_knn.items():\n",
    "    for neighbor in neighbors:\n",
    "        node2, distance = neighbor\n",
    "        rows.append({\n",
    "            'node1': node1,\n",
    "            'node2': node2,\n",
    "            'relationship': 1\n",
    "        })\n",
    "# 创建DataFrame\n",
    "eid_knn_dataframe = pd.DataFrame(rows)"
   ]
  },
  {
   "cell_type": "code",
   "execution_count": null,
   "id": "830bdebe-a32e-4ae3-bc3a-5efcd84d7ccc",
   "metadata": {},
   "outputs": [],
   "source": [
    "# add KNN dataframes\n",
    "merged_df_add_KNN = pd.concat([merged_df, Olink_knn_dataframe, NMR_knn_dataframe, icd10_knn_dataframe, eid_knn_dataframe], ignore_index=True)"
   ]
  },
  {
   "cell_type": "code",
   "execution_count": null,
   "id": "648c176d-6142-4560-9d15-b83e095e4f74",
   "metadata": {},
   "outputs": [],
   "source": [
    "pd.api.types.is_string_dtype(merged_df_add_KNN['node1'])"
   ]
  },
  {
   "cell_type": "code",
   "execution_count": null,
   "id": "4e09fdce-ae39-4d31-93c1-1df682badd5b",
   "metadata": {},
   "outputs": [],
   "source": [
    "merged_df_add_KNN['relationship'] = 1"
   ]
  },
  {
   "cell_type": "code",
   "execution_count": null,
   "id": "562b1a7a-ff73-461f-8444-88e4c28c9795",
   "metadata": {},
   "outputs": [],
   "source": [
    "# 保存为以制表符分隔的文本文件\n",
    "file_path = '../Data/merged_df_long_convert.txt'\n",
    "merged_df_add_KNN.to_csv(file_path, sep='\\t', na_rep='nan', index=False)"
   ]
  },
  {
   "cell_type": "code",
   "execution_count": null,
   "id": "32f10299-1f26-4788-8e74-cbba4e44685c",
   "metadata": {},
   "outputs": [],
   "source": [
    "import numpy as np\n",
    "import os\n",
    "from scipy.sparse import csr_matrix\n",
    "from utils import N2V\n",
    "import pandas as pd\n",
    "from fastnode2vec import Graph, Node2Vec "
   ]
  },
  {
   "cell_type": "code",
   "execution_count": null,
   "id": "eb6041f4-fcfd-46a0-84a5-d7396cba2bed",
   "metadata": {},
   "outputs": [],
   "source": [
    "adj_path = '../Data/merged_df_long_convert.txt'"
   ]
  },
  {
   "cell_type": "code",
   "execution_count": null,
   "id": "bf0b146e-ebc9-4049-9ea8-35d3b7e39290",
   "metadata": {},
   "outputs": [],
   "source": [
    "merged_df = pd.read_csv(adj_path, sep='\\t',\n",
    "    dtype={'node1': str, 'node2': str, 'relationship': float} )\n",
    "merged_df.head(2)"
   ]
  },
  {
   "cell_type": "code",
   "execution_count": null,
   "id": "895deebb-3163-49e3-af21-c1592f348373",
   "metadata": {},
   "outputs": [],
   "source": [
    "# X, A, Y = [], None, []\n",
    "# n_node = 0\n",
    "\n",
    "# # Acquire Edges\n",
    "# edge_list = []\n",
    "# node_list = []\n",
    "# node_type = {}\n",
    "# relationship_list = []\n",
    "\n",
    "# with open(adj_path, 'rt', encoding='utf-8') as f:\n",
    "#     next(f)\n",
    "#     for line in f.readlines():\n",
    "#         node1, node2, relationship, *_ = line.strip().split('\\t')\n",
    "#         edge_list.append((node1, node2))\n",
    "#         node_list.extend([node1, node2])\n",
    "#         relationship_list.append(relationship)\n",
    "\n",
    "# node_map = {item: i for i, item in enumerate(sorted(list(set(node_list))))}\n",
    "# n_node = len(node_map)\n",
    "\n",
    "# # 使用稀疏矩阵存储邻接关系\n",
    "# row = []\n",
    "# col = []\n",
    "# data = []\n",
    "# for i, (node1, node2) in enumerate(edge_list):\n",
    "#     row.append(node_map[node1])\n",
    "#     col.append(node_map[node2])\n",
    "#     data.append(relationship_list[i])  # 使用实际的关系值\n",
    "#     row.append(node_map[node2])\n",
    "#     col.append(node_map[node1])\n",
    "#     data.append(relationship_list[i])  # 使用实际的关系值\n",
    "# A = csr_matrix((data, (row, col)), shape=(n_node, n_node), dtype=np.float32)"
   ]
  },
  {
   "cell_type": "code",
   "execution_count": null,
   "id": "6f0caf57-2006-4635-a9b2-980c40761000",
   "metadata": {},
   "outputs": [],
   "source": [
    "adj_matrix = pd.read_csv(adj_path, sep='\\t',\n",
    "    dtype={'node1': str, 'node2': str, 'relationship': float})\n",
    "# 构建图所需的边列表\n",
    "edges = [(row['node1'], row['node2'], row['relationship']) for _, row in adj_matrix.iterrows()]\n",
    "\n",
    "# 构建图\n",
    "graph = Graph(edges, directed=False, weighted=True)"
   ]
  },
  {
   "cell_type": "code",
   "execution_count": null,
   "id": "086b5fc0-8532-4fea-985f-6f18cb10fe8b",
   "metadata": {},
   "outputs": [],
   "source": [
    "graph.node_names"
   ]
  },
  {
   "cell_type": "code",
   "execution_count": null,
   "id": "afc5c3b2-86e8-42f5-b717-55e571cececa",
   "metadata": {},
   "outputs": [],
   "source": [
    "graph"
   ]
  },
  {
   "cell_type": "code",
   "execution_count": null,
   "id": "97764576-1ff1-4ff2-b64c-7ad685639163",
   "metadata": {},
   "outputs": [],
   "source": [
    "# 保存图对象\n",
    "with open('../Data/graph.pkl', 'wb') as f:\n",
    "    pickle.dump(graph, f)"
   ]
  },
  {
   "cell_type": "code",
   "execution_count": null,
   "id": "be9d46e7-a525-4b9e-a396-b6dcbf7328b1",
   "metadata": {},
   "outputs": [],
   "source": [
    "# 创建新字典，保留原始字典不变\n",
    "merged_dict = {**protein_embeddings_dict, **embeddings_dict, **metabolite_embeddings_dict, **icd10_embeddings}"
   ]
  },
  {
   "cell_type": "code",
   "execution_count": null,
   "id": "f8019e31-2e36-4828-8705-2dfe233a1b58",
   "metadata": {},
   "outputs": [],
   "source": [
    "all(isinstance(key, str) for key in merged_dict.keys())"
   ]
  },
  {
   "cell_type": "code",
   "execution_count": null,
   "id": "402ac88c-d0c5-45a2-b2e2-a52e0fd71faf",
   "metadata": {},
   "outputs": [],
   "source": [
    "all(isinstance(node_name, str) for node_name in graph.node_names)"
   ]
  },
  {
   "cell_type": "code",
   "execution_count": null,
   "id": "9a85405c-dc68-4ebc-9d6b-3e5d794087f5",
   "metadata": {},
   "outputs": [],
   "source": [
    "# 提取所有键并保持顺序（Python 3.7+ 字典保持插入顺序）\n",
    "keys = list(graph.node_names)\n",
    "\n",
    "# 将字典值转换为NumPy矩阵（每行一个向量）\n",
    "matrix = np.array([merged_dict[key] for key in keys])\n",
    "\n",
    "# 检查矩阵形状\n",
    "print(\"矩阵形状:\", matrix.shape)  # 输出: (47626, 向量维度)\n",
    "\n",
    "# 示例：查看前3行\n",
    "print(\"前3行:\\n\", matrix[:3])"
   ]
  },
  {
   "cell_type": "code",
   "execution_count": null,
   "id": "f8c1a0d9-228e-4fda-ab52-25e5a88f94ab",
   "metadata": {},
   "outputs": [],
   "source": [
    "# 保存\n",
    "with open('../Data/keys.json', 'w') as f:\n",
    "    json.dump(keys, f)"
   ]
  },
  {
   "cell_type": "code",
   "execution_count": null,
   "id": "c69b4bfc-8261-436b-93a2-f8e11e845922",
   "metadata": {},
   "outputs": [],
   "source": [
    "np.save('../Data/UKB_node_feature_gpt.npy', matrix)"
   ]
  },
  {
   "cell_type": "code",
   "execution_count": null,
   "id": "ae9668db-3d39-4fb5-9005-7cc258b9e9ac",
   "metadata": {},
   "outputs": [],
   "source": []
  }
 ],
 "metadata": {
  "kernelspec": {
   "display_name": "GAT",
   "language": "python",
   "name": "gat"
  },
  "language_info": {
   "codemirror_mode": {
    "name": "ipython",
    "version": 3
   },
   "file_extension": ".py",
   "mimetype": "text/x-python",
   "name": "python",
   "nbconvert_exporter": "python",
   "pygments_lexer": "ipython3",
   "version": "3.12.10"
  }
 },
 "nbformat": 4,
 "nbformat_minor": 5
}
