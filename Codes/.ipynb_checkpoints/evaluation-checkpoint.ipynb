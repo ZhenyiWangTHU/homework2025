{
 "cells": [
  {
   "cell_type": "code",
   "execution_count": 2,
   "id": "d0e14715-c52e-49b3-9693-3e18d9b82bd9",
   "metadata": {},
   "outputs": [],
   "source": [
    "from sklearn.metrics import roc_curve\n",
    "from sklearn.metrics import auc\n",
    "import matplotlib.pyplot as plt\n",
    "import json\n",
    "import ast\n",
    "import numpy as np\n",
    "from embedding import load_graph_network\n",
    "from train import fit_transform\n",
    "from embedData import embedData\n",
    "import torch\n",
    "from scipy.sparse import identity, csr_matrix"
   ]
  },
  {
   "cell_type": "code",
   "execution_count": null,
   "id": "1001303b-09cc-4aad-bcad-23eff07e0bf3",
   "metadata": {},
   "outputs": [],
   "source": [
    "# embed all data\n",
    "relationship_file = '/home/llma/wzy/comorbidity/Data/merged_df_long_subset.txt'\n",
    "node_feature_file = '/home/llma/wzy/comorbidity/Data/UKB_node_feature_gpt.npy'\n",
    "embedding_save_file = '/home/llma/wzy/comorbidity/Data/UKB_feature.npy'\n",
    "features, adj = load_graph_network(relationship_file, node_feature_file)\n",
    "# 使用稀疏矩阵的方式添加自环\n",
    "adj = adj + identity(adj.shape[0], dtype=adj.dtype, format='csr')\n",
    "\n",
    "embedData(modelPath = '/home/llma/wzy/comorbidity/Codes/UKB_best_dgi.pkl', \n",
    "          features = features, \n",
    "          adj = adj, \n",
    "          embeddingSavePath = embedding_save_file, \n",
    "          n_hid=512,\n",
    "          device = 'cuda')"
   ]
  },
  {
   "cell_type": "code",
   "execution_count": null,
   "id": "7f59ef8e-41f3-46d3-a025-fce1a7193c69",
   "metadata": {},
   "outputs": [],
   "source": []
  },
  {
   "cell_type": "code",
   "execution_count": null,
   "id": "ec890dad-572d-4dd1-9b83-05c86f29e286",
   "metadata": {},
   "outputs": [],
   "source": []
  },
  {
   "cell_type": "code",
   "execution_count": null,
   "id": "9c4e3169-b50a-450b-a7c0-45588b857c6c",
   "metadata": {},
   "outputs": [],
   "source": []
  },
  {
   "cell_type": "code",
   "execution_count": null,
   "id": "2c80cb15-898a-4b34-b846-cb7227130b03",
   "metadata": {},
   "outputs": [],
   "source": []
  },
  {
   "cell_type": "code",
   "execution_count": null,
   "id": "64909aba-7c15-45e2-9e20-6f77ca0f0de6",
   "metadata": {},
   "outputs": [],
   "source": []
  },
  {
   "cell_type": "code",
   "execution_count": null,
   "id": "86521876-342f-44a5-9196-8ba57d6b9e74",
   "metadata": {},
   "outputs": [],
   "source": []
  },
  {
   "cell_type": "code",
   "execution_count": null,
   "id": "a538afe0-d8ad-4b52-91aa-8fc2f47b72bc",
   "metadata": {},
   "outputs": [],
   "source": []
  }
 ],
 "metadata": {
  "kernelspec": {
   "display_name": "GAT",
   "language": "python",
   "name": "gat"
  },
  "language_info": {
   "codemirror_mode": {
    "name": "ipython",
    "version": 3
   },
   "file_extension": ".py",
   "mimetype": "text/x-python",
   "name": "python",
   "nbconvert_exporter": "python",
   "pygments_lexer": "ipython3",
   "version": "3.12.10"
  }
 },
 "nbformat": 4,
 "nbformat_minor": 5
}
