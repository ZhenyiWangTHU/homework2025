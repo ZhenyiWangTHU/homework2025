{
 "cells": [
  {
   "cell_type": "code",
   "execution_count": 1,
   "id": "01690785-2ba3-46cb-bec9-eaee07470d11",
   "metadata": {},
   "outputs": [],
   "source": [
    "# 1. 读取蛋白 info 文件，构建 ID->名称映射字典\n",
    "id_name_map = {}\n",
    "with open('../Data/9606.protein.info.v12.0.txt', 'r') as f_info:\n",
    "    # 跳过表头（根据实际文件调整，比如第一行是表头）\n",
    "    next(f_info)  \n",
    "    for line in f_info:\n",
    "        parts = line.strip().split('\\t')  # 假设分隔符是制表符\n",
    "        protein_id = parts[0]\n",
    "        preferred_name = parts[1]\n",
    "        id_name_map[protein_id] = preferred_name"
   ]
  },
  {
   "cell_type": "code",
   "execution_count": 2,
   "id": "4969aee9-7788-4f97-be89-68e118936ca9",
   "metadata": {},
   "outputs": [],
   "source": [
    "# 2. 处理互作数据文件，替换 ID 为名称\n",
    "with open('../Data/9606.protein.links.v12.0.onlyAB.txt', 'r') as f_inter, \\\n",
    "     open('../Data/PPI_with_names.txt', 'w') as f_out:\n",
    "    # 写新表头\n",
    "    f_out.write('protein1_name\\tprotein2_name\\tcombined_score\\n')  \n",
    "    for line in f_inter:\n",
    "        if line.startswith('protein1'):  # 跳过原表头\n",
    "            continue\n",
    "        p1, p2, score = line.strip().split()\n",
    "        # 替换 ID\n",
    "        p1_name = id_name_map.get(p1, p1)  # 没匹配到就保留原 ID\n",
    "        p2_name = id_name_map.get(p2, p2)\n",
    "        f_out.write(f'{p1_name}\\t{p2_name}\\t{score}\\n')"
   ]
  },
  {
   "cell_type": "code",
   "execution_count": 3,
   "id": "374b7a2d-d97a-4bc7-97d5-f7004a96d955",
   "metadata": {},
   "outputs": [],
   "source": [
    "import pandas as pd"
   ]
  },
  {
   "cell_type": "code",
   "execution_count": 5,
   "id": "1a39c3fe-c7bd-4258-a9bc-ad65be9ca526",
   "metadata": {},
   "outputs": [],
   "source": [
    "# 读取 Excel 文件\n",
    "df = pd.read_table('../Data/PPI_with_names.txt')"
   ]
  },
  {
   "cell_type": "code",
   "execution_count": 6,
   "id": "d13ce451-e91d-4842-b02f-e16e74ce5bee",
   "metadata": {},
   "outputs": [
    {
     "data": {
      "text/html": [
       "<div>\n",
       "<style scoped>\n",
       "    .dataframe tbody tr th:only-of-type {\n",
       "        vertical-align: middle;\n",
       "    }\n",
       "\n",
       "    .dataframe tbody tr th {\n",
       "        vertical-align: top;\n",
       "    }\n",
       "\n",
       "    .dataframe thead th {\n",
       "        text-align: right;\n",
       "    }\n",
       "</style>\n",
       "<table border=\"1\" class=\"dataframe\">\n",
       "  <thead>\n",
       "    <tr style=\"text-align: right;\">\n",
       "      <th></th>\n",
       "      <th>protein1_name</th>\n",
       "      <th>protein2_name</th>\n",
       "      <th>combined_score</th>\n",
       "    </tr>\n",
       "  </thead>\n",
       "  <tbody>\n",
       "    <tr>\n",
       "      <th>0</th>\n",
       "      <td>ARF5</td>\n",
       "      <td>RALGPS2</td>\n",
       "      <td>173</td>\n",
       "    </tr>\n",
       "    <tr>\n",
       "      <th>1</th>\n",
       "      <td>ARF5</td>\n",
       "      <td>FHDC1</td>\n",
       "      <td>154</td>\n",
       "    </tr>\n",
       "    <tr>\n",
       "      <th>2</th>\n",
       "      <td>ARF5</td>\n",
       "      <td>ATP6V1E1</td>\n",
       "      <td>151</td>\n",
       "    </tr>\n",
       "  </tbody>\n",
       "</table>\n",
       "</div>"
      ],
      "text/plain": [
       "  protein1_name protein2_name  combined_score\n",
       "0          ARF5       RALGPS2             173\n",
       "1          ARF5         FHDC1             154\n",
       "2          ARF5      ATP6V1E1             151"
      ]
     },
     "execution_count": 6,
     "metadata": {},
     "output_type": "execute_result"
    }
   ],
   "source": [
    "df.head(3)"
   ]
  },
  {
   "cell_type": "code",
   "execution_count": 7,
   "id": "f6df93f8-c1c0-4b42-8f90-2eb25202c1df",
   "metadata": {},
   "outputs": [],
   "source": [
    "df = df[['protein1_name', 'protein2_name']]"
   ]
  },
  {
   "cell_type": "code",
   "execution_count": 8,
   "id": "ba1f7d90-392c-4ffb-b990-26ada5e8d11f",
   "metadata": {},
   "outputs": [],
   "source": [
    "df = df.rename(columns={'protein1_name':'node1', 'protein2_name':'node2'})"
   ]
  },
  {
   "cell_type": "code",
   "execution_count": 9,
   "id": "551d3973-8487-4073-a1eb-4a5e8df51026",
   "metadata": {},
   "outputs": [],
   "source": [
    "# 将 node1 和 node2 列转换为小写\n",
    "df['node1'] = df['node1'].str.lower()\n",
    "df['node2'] = df['node2'].str.lower()"
   ]
  },
  {
   "cell_type": "code",
   "execution_count": 10,
   "id": "0790d0b6-6fb5-4def-b8d3-7eaed55d9392",
   "metadata": {},
   "outputs": [
    {
     "data": {
      "text/html": [
       "<div>\n",
       "<style scoped>\n",
       "    .dataframe tbody tr th:only-of-type {\n",
       "        vertical-align: middle;\n",
       "    }\n",
       "\n",
       "    .dataframe tbody tr th {\n",
       "        vertical-align: top;\n",
       "    }\n",
       "\n",
       "    .dataframe thead th {\n",
       "        text-align: right;\n",
       "    }\n",
       "</style>\n",
       "<table border=\"1\" class=\"dataframe\">\n",
       "  <thead>\n",
       "    <tr style=\"text-align: right;\">\n",
       "      <th></th>\n",
       "      <th>node1</th>\n",
       "      <th>node2</th>\n",
       "    </tr>\n",
       "  </thead>\n",
       "  <tbody>\n",
       "    <tr>\n",
       "      <th>0</th>\n",
       "      <td>arf5</td>\n",
       "      <td>ralgps2</td>\n",
       "    </tr>\n",
       "    <tr>\n",
       "      <th>1</th>\n",
       "      <td>arf5</td>\n",
       "      <td>fhdc1</td>\n",
       "    </tr>\n",
       "    <tr>\n",
       "      <th>2</th>\n",
       "      <td>arf5</td>\n",
       "      <td>atp6v1e1</td>\n",
       "    </tr>\n",
       "  </tbody>\n",
       "</table>\n",
       "</div>"
      ],
      "text/plain": [
       "  node1     node2\n",
       "0  arf5   ralgps2\n",
       "1  arf5     fhdc1\n",
       "2  arf5  atp6v1e1"
      ]
     },
     "execution_count": 10,
     "metadata": {},
     "output_type": "execute_result"
    }
   ],
   "source": [
    "df.head(3)"
   ]
  },
  {
   "cell_type": "code",
   "execution_count": 12,
   "id": "d11fab80-8d79-4a26-b581-56b5a5901111",
   "metadata": {},
   "outputs": [
    {
     "data": {
      "text/plain": [
       "(6857702, 2)"
      ]
     },
     "execution_count": 12,
     "metadata": {},
     "output_type": "execute_result"
    }
   ],
   "source": [
    "df.shape"
   ]
  },
  {
   "cell_type": "code",
   "execution_count": 13,
   "id": "02d05ecd-7d9a-410b-86e8-ffb2e7029421",
   "metadata": {},
   "outputs": [],
   "source": [
    "result_df = df.drop_duplicates()"
   ]
  },
  {
   "cell_type": "code",
   "execution_count": 14,
   "id": "3cd9ee6b-d182-46c9-b61a-7fd0d63c4671",
   "metadata": {},
   "outputs": [
    {
     "data": {
      "text/plain": [
       "(6857702, 2)"
      ]
     },
     "execution_count": 14,
     "metadata": {},
     "output_type": "execute_result"
    }
   ],
   "source": [
    "result_df.shape"
   ]
  },
  {
   "cell_type": "code",
   "execution_count": 15,
   "id": "3f20ad76-df41-482f-8379-e146b489d638",
   "metadata": {},
   "outputs": [],
   "source": [
    "result_df = result_df.assign(relationship=1.0)"
   ]
  },
  {
   "cell_type": "code",
   "execution_count": 16,
   "id": "268452ae-0ccc-4158-a11a-9aec91473d91",
   "metadata": {},
   "outputs": [
    {
     "data": {
      "text/html": [
       "<div>\n",
       "<style scoped>\n",
       "    .dataframe tbody tr th:only-of-type {\n",
       "        vertical-align: middle;\n",
       "    }\n",
       "\n",
       "    .dataframe tbody tr th {\n",
       "        vertical-align: top;\n",
       "    }\n",
       "\n",
       "    .dataframe thead th {\n",
       "        text-align: right;\n",
       "    }\n",
       "</style>\n",
       "<table border=\"1\" class=\"dataframe\">\n",
       "  <thead>\n",
       "    <tr style=\"text-align: right;\">\n",
       "      <th></th>\n",
       "      <th>node1</th>\n",
       "      <th>node2</th>\n",
       "      <th>relationship</th>\n",
       "    </tr>\n",
       "  </thead>\n",
       "  <tbody>\n",
       "    <tr>\n",
       "      <th>0</th>\n",
       "      <td>arf5</td>\n",
       "      <td>ralgps2</td>\n",
       "      <td>1.0</td>\n",
       "    </tr>\n",
       "    <tr>\n",
       "      <th>1</th>\n",
       "      <td>arf5</td>\n",
       "      <td>fhdc1</td>\n",
       "      <td>1.0</td>\n",
       "    </tr>\n",
       "    <tr>\n",
       "      <th>2</th>\n",
       "      <td>arf5</td>\n",
       "      <td>atp6v1e1</td>\n",
       "      <td>1.0</td>\n",
       "    </tr>\n",
       "  </tbody>\n",
       "</table>\n",
       "</div>"
      ],
      "text/plain": [
       "  node1     node2  relationship\n",
       "0  arf5   ralgps2           1.0\n",
       "1  arf5     fhdc1           1.0\n",
       "2  arf5  atp6v1e1           1.0"
      ]
     },
     "execution_count": 16,
     "metadata": {},
     "output_type": "execute_result"
    }
   ],
   "source": [
    "result_df.head(3)"
   ]
  },
  {
   "cell_type": "markdown",
   "id": "776437dc-5880-4211-ac9f-74bfc8c05833",
   "metadata": {},
   "source": [
    "## Add PPI"
   ]
  },
  {
   "cell_type": "code",
   "execution_count": 17,
   "id": "9d1a45d9-d491-4107-ac1f-458e6a4f129a",
   "metadata": {},
   "outputs": [],
   "source": [
    "merged_df_long = pd.read_csv('../Data/merged_df_add_filtered_disGeNet_disease_disease.txt', sep='\\t', dtype={'node1':str, 'node2': str, 'relationship': float})"
   ]
  },
  {
   "cell_type": "code",
   "execution_count": 18,
   "id": "c68886ab-cc04-4ee8-8828-2d7e61ae99c1",
   "metadata": {},
   "outputs": [
    {
     "data": {
      "text/html": [
       "<div>\n",
       "<style scoped>\n",
       "    .dataframe tbody tr th:only-of-type {\n",
       "        vertical-align: middle;\n",
       "    }\n",
       "\n",
       "    .dataframe tbody tr th {\n",
       "        vertical-align: top;\n",
       "    }\n",
       "\n",
       "    .dataframe thead th {\n",
       "        text-align: right;\n",
       "    }\n",
       "</style>\n",
       "<table border=\"1\" class=\"dataframe\">\n",
       "  <thead>\n",
       "    <tr style=\"text-align: right;\">\n",
       "      <th></th>\n",
       "      <th>node1</th>\n",
       "      <th>node2</th>\n",
       "      <th>relationship</th>\n",
       "    </tr>\n",
       "  </thead>\n",
       "  <tbody>\n",
       "    <tr>\n",
       "      <th>0</th>\n",
       "      <td>1002133</td>\n",
       "      <td>I802</td>\n",
       "      <td>1.0</td>\n",
       "    </tr>\n",
       "    <tr>\n",
       "      <th>1</th>\n",
       "      <td>1002133</td>\n",
       "      <td>M1997</td>\n",
       "      <td>1.0</td>\n",
       "    </tr>\n",
       "    <tr>\n",
       "      <th>2</th>\n",
       "      <td>1002133</td>\n",
       "      <td>M201</td>\n",
       "      <td>1.0</td>\n",
       "    </tr>\n",
       "  </tbody>\n",
       "</table>\n",
       "</div>"
      ],
      "text/plain": [
       "     node1  node2  relationship\n",
       "0  1002133   I802           1.0\n",
       "1  1002133  M1997           1.0\n",
       "2  1002133   M201           1.0"
      ]
     },
     "execution_count": 18,
     "metadata": {},
     "output_type": "execute_result"
    }
   ],
   "source": [
    "merged_df_long.head(3)"
   ]
  },
  {
   "cell_type": "code",
   "execution_count": 19,
   "id": "55aaa5ef-0137-4e86-92fa-72d4f86a4415",
   "metadata": {},
   "outputs": [
    {
     "name": "stdout",
     "output_type": "stream",
     "text": [
      "19466 unique elements in result_df node1 column.\n",
      "去重后，result_df 的 node1 列中有 2870 个元素存在于 merged_df_long 的 node1 或 node2 列中。\n",
      "19595 unique elements in result_df node2 column.\n",
      "去重后，result_df 的 node2 列中有 2869 个元素存在于 merged_df_long 的 node1 或 node2 列中。\n"
     ]
    }
   ],
   "source": [
    "# 1. 将 merged_df_long 的 node1 和 node2 列合并为一个集合（用于高效查找）\n",
    "merged_nodes = set(merged_df_long['node1']) | set(merged_df_long['node2'])\n",
    "\n",
    "# 2. 对 result_df['node1'] 去重，获取唯一元素\n",
    "unique_nodes_node1 = result_df['node1'].unique()  # 返回 numpy 数组\n",
    "\n",
    "# 3. 检查去重后的元素有多少存在于 merged_nodes 中\n",
    "unique_matches_node1 = pd.Series(unique_nodes_node1).isin(merged_nodes).sum()\n",
    "\n",
    "print(f\"{len(unique_nodes_node1)} unique elements in result_df node1 column.\")\n",
    "print(f\"去重后，result_df 的 node1 列中有 {unique_matches_node1} 个元素存在于 merged_df_long 的 node1 或 node2 列中。\")\n",
    "\n",
    "####\n",
    "# 2. 对 result_df['node2'] 去重，获取唯一元素\n",
    "unique_nodes_node2 = result_df['node2'].unique()  # 返回 numpy 数组\n",
    "\n",
    "# 3. 检查去重后的元素有多少存在于 merged_nodes 中\n",
    "unique_matches_node2 = pd.Series(unique_nodes_node2).isin(merged_nodes).sum()\n",
    "\n",
    "print(f\"{len(unique_nodes_node2)} unique elements in result_df node2 column.\")\n",
    "print(f\"去重后，result_df 的 node2 列中有 {unique_matches_node2} 个元素存在于 merged_df_long 的 node1 或 node2 列中。\")"
   ]
  },
  {
   "cell_type": "markdown",
   "id": "e0cc715f-2636-4c1d-91e6-6dfa0b688ea7",
   "metadata": {},
   "source": [
    "#### For new nodes need correspong embedding features, we use overlap nodes firstly."
   ]
  },
  {
   "cell_type": "code",
   "execution_count": 20,
   "id": "c5ccf675-7ebb-4d63-ac66-8393d2d31e3e",
   "metadata": {},
   "outputs": [],
   "source": [
    "merged_nodes = set(merged_df_long['node1']) | set(merged_df_long['node2'])\n",
    "\n",
    "# 筛选 result_df 中 node1 存在于 merged_nodes 的行\n",
    "filtered_df = result_df[\n",
    "    result_df['node1'].isin(merged_nodes) & \n",
    "    result_df['node2'].isin(merged_nodes)\n",
    "]"
   ]
  },
  {
   "cell_type": "code",
   "execution_count": 21,
   "id": "c636dded-d363-43c6-97c7-dfb430993c86",
   "metadata": {},
   "outputs": [
    {
     "name": "stdout",
     "output_type": "stream",
     "text": [
      "result_df行数: 6857702\n",
      "筛选后的数据行数: 376384\n",
      "     node1    node2  relationship\n",
      "1302  m6pr   rabep1           1.0\n",
      "1303  m6pr     ppt1           1.0\n",
      "1306  m6pr     scg3           1.0\n",
      "1310  m6pr    aifm1           1.0\n",
      "1314  m6pr  b4galt1           1.0\n"
     ]
    }
   ],
   "source": [
    "print(f\"result_df行数: {len(result_df)}\")\n",
    "print(f\"筛选后的数据行数: {len(filtered_df)}\")\n",
    "print(filtered_df.head())"
   ]
  },
  {
   "cell_type": "code",
   "execution_count": 22,
   "id": "1f7191ad-e8d7-4883-ab93-88b8fe47098c",
   "metadata": {},
   "outputs": [],
   "source": [
    "# add filtered PPI\n",
    "merged_df_add_PPI = pd.concat([merged_df_long, filtered_df], ignore_index=True)"
   ]
  },
  {
   "cell_type": "code",
   "execution_count": 23,
   "id": "f8ef42bc-ab73-4268-9200-7c9158987bb3",
   "metadata": {},
   "outputs": [],
   "source": [
    "# 保存为以制表符分隔的文本文件 \n",
    "merged_df_add_PPI.to_csv('../Data/merged_df_add_filtered_disGeNet_disease_disease_PPI.txt', sep='\\t', na_rep='nan', index=False)"
   ]
  },
  {
   "cell_type": "markdown",
   "id": "2e82c182-d02b-4b13-bfd1-9a9cbc021414",
   "metadata": {},
   "source": [
    "## prepare input data"
   ]
  },
  {
   "cell_type": "code",
   "execution_count": 24,
   "id": "80db60d0-3160-49f7-afc9-3408366ab9dd",
   "metadata": {},
   "outputs": [
    {
     "name": "stderr",
     "output_type": "stream",
     "text": [
      "/home/llma/anaconda3/envs/GAT/lib/python3.12/site-packages/tqdm/auto.py:21: TqdmWarning: IProgress not found. Please update jupyter and ipywidgets. See https://ipywidgets.readthedocs.io/en/stable/user_install.html\n",
      "  from .autonotebook import tqdm as notebook_tqdm\n"
     ]
    }
   ],
   "source": [
    "import numpy as np\n",
    "import os\n",
    "from scipy.sparse import csr_matrix\n",
    "from utils import N2V\n",
    "import pandas as pd\n",
    "from fastnode2vec import Graph, Node2Vec \n",
    "import pickle\n",
    "import json"
   ]
  },
  {
   "cell_type": "code",
   "execution_count": 25,
   "id": "ed231898-7f40-4329-adbd-eec1630c6ed7",
   "metadata": {},
   "outputs": [],
   "source": [
    "adj_path = '../Data/merged_df_add_filtered_disGeNet_disease_disease_PPI.txt'"
   ]
  },
  {
   "cell_type": "code",
   "execution_count": 26,
   "id": "7a817a76-df3d-42fd-ba7c-135f2fab9e7d",
   "metadata": {},
   "outputs": [
    {
     "data": {
      "text/html": [
       "<div>\n",
       "<style scoped>\n",
       "    .dataframe tbody tr th:only-of-type {\n",
       "        vertical-align: middle;\n",
       "    }\n",
       "\n",
       "    .dataframe tbody tr th {\n",
       "        vertical-align: top;\n",
       "    }\n",
       "\n",
       "    .dataframe thead th {\n",
       "        text-align: right;\n",
       "    }\n",
       "</style>\n",
       "<table border=\"1\" class=\"dataframe\">\n",
       "  <thead>\n",
       "    <tr style=\"text-align: right;\">\n",
       "      <th></th>\n",
       "      <th>node1</th>\n",
       "      <th>node2</th>\n",
       "      <th>relationship</th>\n",
       "    </tr>\n",
       "  </thead>\n",
       "  <tbody>\n",
       "    <tr>\n",
       "      <th>0</th>\n",
       "      <td>1002133</td>\n",
       "      <td>I802</td>\n",
       "      <td>1.0</td>\n",
       "    </tr>\n",
       "    <tr>\n",
       "      <th>1</th>\n",
       "      <td>1002133</td>\n",
       "      <td>M1997</td>\n",
       "      <td>1.0</td>\n",
       "    </tr>\n",
       "  </tbody>\n",
       "</table>\n",
       "</div>"
      ],
      "text/plain": [
       "     node1  node2  relationship\n",
       "0  1002133   I802           1.0\n",
       "1  1002133  M1997           1.0"
      ]
     },
     "execution_count": 26,
     "metadata": {},
     "output_type": "execute_result"
    }
   ],
   "source": [
    "merged_df = pd.read_csv(adj_path, sep='\\t',\n",
    "    dtype={'node1': str, 'node2': str, 'relationship': float} )\n",
    "merged_df.head(2)"
   ]
  },
  {
   "cell_type": "code",
   "execution_count": 27,
   "id": "38c07aba-d452-4883-997e-cb3ebfca9683",
   "metadata": {},
   "outputs": [
    {
     "name": "stderr",
     "output_type": "stream",
     "text": [
      "                                                                                                                                                                                                                                                                                                                                    "
     ]
    }
   ],
   "source": [
    "adj_matrix = pd.read_csv(adj_path, sep='\\t',\n",
    "    dtype={'node1': str, 'node2': str, 'relationship': float})\n",
    "# 构建图所需的边列表\n",
    "edges = [(row['node1'], row['node2'], row['relationship']) for _, row in adj_matrix.iterrows()]\n",
    "\n",
    "# 构建图\n",
    "graph = Graph(edges, directed=False, weighted=True)"
   ]
  },
  {
   "cell_type": "code",
   "execution_count": 28,
   "id": "4291828b-e191-4467-b247-150caef70802",
   "metadata": {},
   "outputs": [
    {
     "data": {
      "text/plain": [
       "array(['1002133', 'I802', 'M1997', ..., 'Z90', 'Z994', 'Z99'],\n",
       "      dtype='<U86')"
      ]
     },
     "execution_count": 28,
     "metadata": {},
     "output_type": "execute_result"
    }
   ],
   "source": [
    "graph.node_names"
   ]
  },
  {
   "cell_type": "code",
   "execution_count": 29,
   "id": "8ea1e9c6-7054-49cb-9482-912ba18401a9",
   "metadata": {},
   "outputs": [
    {
     "data": {
      "text/plain": [
       "<fastnode2vec.graph.Graph at 0x7f8a00096f30>"
      ]
     },
     "execution_count": 29,
     "metadata": {},
     "output_type": "execute_result"
    }
   ],
   "source": [
    "graph"
   ]
  },
  {
   "cell_type": "code",
   "execution_count": 30,
   "id": "67e10e0e-8fb4-481e-a951-794bd802acac",
   "metadata": {},
   "outputs": [],
   "source": [
    "# 保存图对象\n",
    "with open('../Data/graph_add_filtered_disGeNet_disease_disease_PPI.pkl', 'wb') as f:\n",
    "    pickle.dump(graph, f)"
   ]
  },
  {
   "cell_type": "code",
   "execution_count": 31,
   "id": "170e752c-d02a-4d0c-9e57-fe2060976ded",
   "metadata": {},
   "outputs": [],
   "source": [
    "with open('../Data/gpt_protein_embeddings_dict.pkl', 'rb') as f:\n",
    "    protein_embeddings_dict = pickle.load(f)"
   ]
  },
  {
   "cell_type": "code",
   "execution_count": 32,
   "id": "9f179b58-3aeb-4c42-93fa-b0d04473bb0a",
   "metadata": {},
   "outputs": [],
   "source": [
    "with open('../Data/gpt_embeddings_dict.pkl', 'rb') as f:\n",
    "    embeddings_dict = pickle.load(f)"
   ]
  },
  {
   "cell_type": "code",
   "execution_count": 33,
   "id": "49c2a1ce-833a-4d4b-ba98-a15ddc6827f6",
   "metadata": {},
   "outputs": [],
   "source": [
    "with open('../Data/metabolite_embeddings_dict.pkl', 'rb') as f:\n",
    "    metabolite_embeddings_dict = pickle.load(f)"
   ]
  },
  {
   "cell_type": "code",
   "execution_count": 34,
   "id": "0425dc08-e428-4dbb-8eab-24778b24d1a0",
   "metadata": {},
   "outputs": [],
   "source": [
    "with open('../Data/icd10_embeddings_dict.pkl', 'rb') as f:\n",
    "    icd10_embeddings_dict = pickle.load(f)"
   ]
  },
  {
   "cell_type": "code",
   "execution_count": 35,
   "id": "4b15b2d9-47f0-40ba-829e-971abfc588b3",
   "metadata": {},
   "outputs": [],
   "source": [
    "# 创建新字典，保留原始字典不变\n",
    "merged_dict = {**protein_embeddings_dict, **embeddings_dict, **metabolite_embeddings_dict, **icd10_embeddings_dict}"
   ]
  },
  {
   "cell_type": "code",
   "execution_count": 36,
   "id": "32e60755-1f79-4e4b-aaa0-399305d73900",
   "metadata": {},
   "outputs": [
    {
     "name": "stdout",
     "output_type": "stream",
     "text": [
      "矩阵形状: (49373, 1536)\n",
      "前3行:\n",
      " [[-0.0182373  -0.02098356  0.02359651 ... -0.01561102 -0.01053844\n",
      "  -0.00612576]\n",
      " [-0.02499108 -0.0067757   0.02219337 ... -0.02719697 -0.01021568\n",
      "  -0.02587882]\n",
      " [ 0.00454228 -0.00239301  0.02163428 ... -0.01282641 -0.01000684\n",
      "  -0.05185902]]\n"
     ]
    }
   ],
   "source": [
    "# 提取所有键并保持顺序（Python 3.7+ 字典保持插入顺序）\n",
    "keys = list(graph.node_names)\n",
    "\n",
    "# 将字典值转换为NumPy矩阵（每行一个向量）\n",
    "matrix = np.array([merged_dict[key] for key in keys])\n",
    "\n",
    "# 检查矩阵形状\n",
    "print(\"矩阵形状:\", matrix.shape)  # 输出: (47626, 向量维度)\n",
    "\n",
    "# 示例：查看前3行\n",
    "print(\"前3行:\\n\", matrix[:3])"
   ]
  },
  {
   "cell_type": "code",
   "execution_count": 37,
   "id": "2d12377b-7130-4c58-acc3-c1b6fdb1f9fd",
   "metadata": {},
   "outputs": [],
   "source": [
    "# 保存\n",
    "with open('../Data/keys_add_filtered_disGeNet_disease_disease_PPI.json', 'w') as f:\n",
    "    json.dump(keys, f)"
   ]
  },
  {
   "cell_type": "code",
   "execution_count": 38,
   "id": "1304a892-c77a-4b96-a304-14b3172f40a2",
   "metadata": {},
   "outputs": [],
   "source": [
    "np.save('../Data/UKB_node_feature_gpt_add_filtered_disGeNet_disease_disease_PPI.npy', matrix)"
   ]
  },
  {
   "cell_type": "code",
   "execution_count": null,
   "id": "ef14e394-78a7-45d7-86c6-5f57cea5c08b",
   "metadata": {},
   "outputs": [],
   "source": []
  },
  {
   "cell_type": "code",
   "execution_count": null,
   "id": "3ed20a82-6db8-4743-8f0d-7a606bbf9354",
   "metadata": {},
   "outputs": [],
   "source": []
  },
  {
   "cell_type": "code",
   "execution_count": null,
   "id": "99ac27ba-4d4f-4fd9-9172-cc54dd6754ee",
   "metadata": {},
   "outputs": [],
   "source": []
  },
  {
   "cell_type": "code",
   "execution_count": null,
   "id": "4d13df49-f6b5-4e97-b66c-5bded0de0fd4",
   "metadata": {},
   "outputs": [],
   "source": []
  },
  {
   "cell_type": "code",
   "execution_count": null,
   "id": "272630d3-5b72-4848-9589-e106e594c2cc",
   "metadata": {},
   "outputs": [],
   "source": []
  }
 ],
 "metadata": {
  "kernelspec": {
   "display_name": "GAT",
   "language": "python",
   "name": "gat"
  },
  "language_info": {
   "codemirror_mode": {
    "name": "ipython",
    "version": 3
   },
   "file_extension": ".py",
   "mimetype": "text/x-python",
   "name": "python",
   "nbconvert_exporter": "python",
   "pygments_lexer": "ipython3",
   "version": "3.12.10"
  }
 },
 "nbformat": 4,
 "nbformat_minor": 5
}
