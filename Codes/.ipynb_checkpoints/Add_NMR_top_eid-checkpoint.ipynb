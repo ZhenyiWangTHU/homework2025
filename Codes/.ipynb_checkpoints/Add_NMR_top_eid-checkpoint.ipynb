{
 "cells": [
  {
   "cell_type": "code",
   "execution_count": 1,
   "id": "52646fa5-9c0f-497b-84ca-3e8343a2ef61",
   "metadata": {},
   "outputs": [],
   "source": [
    "import pandas as pd"
   ]
  },
  {
   "cell_type": "code",
   "execution_count": 2,
   "id": "857fedd8-bc85-4973-aa79-65ea09d7e21b",
   "metadata": {},
   "outputs": [],
   "source": [
    "NMR_df = pd.read_csv(\"../Data/NMR.csv\")"
   ]
  },
  {
   "cell_type": "code",
   "execution_count": 3,
   "id": "7ca2c817-53c4-4880-b1ea-191394b8f23d",
   "metadata": {},
   "outputs": [
    {
     "data": {
      "text/plain": [
       "(502131, 252)"
      ]
     },
     "execution_count": 3,
     "metadata": {},
     "output_type": "execute_result"
    }
   ],
   "source": [
    "NMR_df.shape"
   ]
  },
  {
   "cell_type": "code",
   "execution_count": 4,
   "id": "40b77465-320b-483b-a8f2-9e7c98e97854",
   "metadata": {},
   "outputs": [],
   "source": [
    "NMR_df['participant.eid'] = NMR_df['participant.eid'].astype(str)"
   ]
  },
  {
   "cell_type": "code",
   "execution_count": 5,
   "id": "7bdc020b-f14d-4da9-bfc8-f0dc4e7b9a91",
   "metadata": {},
   "outputs": [
    {
     "data": {
      "text/html": [
       "<div>\n",
       "<style scoped>\n",
       "    .dataframe tbody tr th:only-of-type {\n",
       "        vertical-align: middle;\n",
       "    }\n",
       "\n",
       "    .dataframe tbody tr th {\n",
       "        vertical-align: top;\n",
       "    }\n",
       "\n",
       "    .dataframe thead th {\n",
       "        text-align: right;\n",
       "    }\n",
       "</style>\n",
       "<table border=\"1\" class=\"dataframe\">\n",
       "  <thead>\n",
       "    <tr style=\"text-align: right;\">\n",
       "      <th></th>\n",
       "      <th>participant.eid</th>\n",
       "      <th>participant.p20280_i0</th>\n",
       "      <th>participant.p20281_i0</th>\n",
       "      <th>participant.p23400_i0</th>\n",
       "      <th>participant.p23401_i0</th>\n",
       "      <th>participant.p23402_i0</th>\n",
       "      <th>participant.p23403_i0</th>\n",
       "      <th>participant.p23404_i0</th>\n",
       "      <th>participant.p23405_i0</th>\n",
       "      <th>participant.p23406_i0</th>\n",
       "      <th>...</th>\n",
       "      <th>participant.p23639_i0</th>\n",
       "      <th>participant.p23640_i0</th>\n",
       "      <th>participant.p23641_i0</th>\n",
       "      <th>participant.p23642_i0</th>\n",
       "      <th>participant.p23643_i0</th>\n",
       "      <th>participant.p23644_i0</th>\n",
       "      <th>participant.p23645_i0</th>\n",
       "      <th>participant.p23646_i0</th>\n",
       "      <th>participant.p23647_i0</th>\n",
       "      <th>participant.p23648_i0</th>\n",
       "    </tr>\n",
       "  </thead>\n",
       "  <tbody>\n",
       "    <tr>\n",
       "      <th>0</th>\n",
       "      <td>1000053</td>\n",
       "      <td>2.9721</td>\n",
       "      <td>0.282259</td>\n",
       "      <td>3.8459</td>\n",
       "      <td>2.9413</td>\n",
       "      <td>1.5075</td>\n",
       "      <td>0.83349</td>\n",
       "      <td>1.9998</td>\n",
       "      <td>1.4338</td>\n",
       "      <td>0.90459</td>\n",
       "      <td>...</td>\n",
       "      <td>49.941</td>\n",
       "      <td>40.646</td>\n",
       "      <td>33.031</td>\n",
       "      <td>7.6145</td>\n",
       "      <td>9.413</td>\n",
       "      <td>58.373</td>\n",
       "      <td>34.427</td>\n",
       "      <td>24.479</td>\n",
       "      <td>9.9478</td>\n",
       "      <td>7.2007</td>\n",
       "    </tr>\n",
       "    <tr>\n",
       "      <th>1</th>\n",
       "      <td>1000122</td>\n",
       "      <td>NaN</td>\n",
       "      <td>NaN</td>\n",
       "      <td>NaN</td>\n",
       "      <td>NaN</td>\n",
       "      <td>NaN</td>\n",
       "      <td>NaN</td>\n",
       "      <td>NaN</td>\n",
       "      <td>NaN</td>\n",
       "      <td>NaN</td>\n",
       "      <td>...</td>\n",
       "      <td>NaN</td>\n",
       "      <td>NaN</td>\n",
       "      <td>NaN</td>\n",
       "      <td>NaN</td>\n",
       "      <td>NaN</td>\n",
       "      <td>NaN</td>\n",
       "      <td>NaN</td>\n",
       "      <td>NaN</td>\n",
       "      <td>NaN</td>\n",
       "      <td>NaN</td>\n",
       "    </tr>\n",
       "  </tbody>\n",
       "</table>\n",
       "<p>2 rows × 252 columns</p>\n",
       "</div>"
      ],
      "text/plain": [
       "  participant.eid  participant.p20280_i0  participant.p20281_i0  \\\n",
       "0         1000053                 2.9721               0.282259   \n",
       "1         1000122                    NaN                    NaN   \n",
       "\n",
       "   participant.p23400_i0  participant.p23401_i0  participant.p23402_i0  \\\n",
       "0                 3.8459                 2.9413                 1.5075   \n",
       "1                    NaN                    NaN                    NaN   \n",
       "\n",
       "   participant.p23403_i0  participant.p23404_i0  participant.p23405_i0  \\\n",
       "0                0.83349                 1.9998                 1.4338   \n",
       "1                    NaN                    NaN                    NaN   \n",
       "\n",
       "   participant.p23406_i0  ...  participant.p23639_i0  participant.p23640_i0  \\\n",
       "0                0.90459  ...                 49.941                 40.646   \n",
       "1                    NaN  ...                    NaN                    NaN   \n",
       "\n",
       "   participant.p23641_i0  participant.p23642_i0  participant.p23643_i0  \\\n",
       "0                 33.031                 7.6145                  9.413   \n",
       "1                    NaN                    NaN                    NaN   \n",
       "\n",
       "   participant.p23644_i0  participant.p23645_i0  participant.p23646_i0  \\\n",
       "0                 58.373                 34.427                 24.479   \n",
       "1                    NaN                    NaN                    NaN   \n",
       "\n",
       "   participant.p23647_i0  participant.p23648_i0  \n",
       "0                 9.9478                 7.2007  \n",
       "1                    NaN                    NaN  \n",
       "\n",
       "[2 rows x 252 columns]"
      ]
     },
     "execution_count": 5,
     "metadata": {},
     "output_type": "execute_result"
    }
   ],
   "source": [
    "NMR_df.head(2)"
   ]
  },
  {
   "cell_type": "code",
   "execution_count": 6,
   "id": "f706433b-1519-4dc7-bcdd-4b50c1442670",
   "metadata": {},
   "outputs": [],
   "source": [
    "NMR_df = NMR_df.rename(columns={'participant.eid': 'eid'})"
   ]
  },
  {
   "cell_type": "code",
   "execution_count": 7,
   "id": "3814a86a-8c8b-4849-844f-0faf77826bb0",
   "metadata": {},
   "outputs": [
    {
     "data": {
      "text/html": [
       "<div>\n",
       "<style scoped>\n",
       "    .dataframe tbody tr th:only-of-type {\n",
       "        vertical-align: middle;\n",
       "    }\n",
       "\n",
       "    .dataframe tbody tr th {\n",
       "        vertical-align: top;\n",
       "    }\n",
       "\n",
       "    .dataframe thead th {\n",
       "        text-align: right;\n",
       "    }\n",
       "</style>\n",
       "<table border=\"1\" class=\"dataframe\">\n",
       "  <thead>\n",
       "    <tr style=\"text-align: right;\">\n",
       "      <th></th>\n",
       "      <th>eid</th>\n",
       "      <th>participant.p20280_i0</th>\n",
       "      <th>participant.p20281_i0</th>\n",
       "      <th>participant.p23400_i0</th>\n",
       "      <th>participant.p23401_i0</th>\n",
       "      <th>participant.p23402_i0</th>\n",
       "      <th>participant.p23403_i0</th>\n",
       "      <th>participant.p23404_i0</th>\n",
       "      <th>participant.p23405_i0</th>\n",
       "      <th>participant.p23406_i0</th>\n",
       "      <th>...</th>\n",
       "      <th>participant.p23639_i0</th>\n",
       "      <th>participant.p23640_i0</th>\n",
       "      <th>participant.p23641_i0</th>\n",
       "      <th>participant.p23642_i0</th>\n",
       "      <th>participant.p23643_i0</th>\n",
       "      <th>participant.p23644_i0</th>\n",
       "      <th>participant.p23645_i0</th>\n",
       "      <th>participant.p23646_i0</th>\n",
       "      <th>participant.p23647_i0</th>\n",
       "      <th>participant.p23648_i0</th>\n",
       "    </tr>\n",
       "  </thead>\n",
       "  <tbody>\n",
       "    <tr>\n",
       "      <th>0</th>\n",
       "      <td>1000053</td>\n",
       "      <td>2.97210</td>\n",
       "      <td>0.282259</td>\n",
       "      <td>3.8459</td>\n",
       "      <td>2.9413</td>\n",
       "      <td>1.5075</td>\n",
       "      <td>0.83349</td>\n",
       "      <td>1.9998</td>\n",
       "      <td>1.4338</td>\n",
       "      <td>0.90459</td>\n",
       "      <td>...</td>\n",
       "      <td>49.941</td>\n",
       "      <td>40.646</td>\n",
       "      <td>33.031</td>\n",
       "      <td>7.6145</td>\n",
       "      <td>9.4130</td>\n",
       "      <td>58.373</td>\n",
       "      <td>34.427</td>\n",
       "      <td>24.479</td>\n",
       "      <td>9.9478</td>\n",
       "      <td>7.2007</td>\n",
       "    </tr>\n",
       "    <tr>\n",
       "      <th>1</th>\n",
       "      <td>1000122</td>\n",
       "      <td>NaN</td>\n",
       "      <td>NaN</td>\n",
       "      <td>NaN</td>\n",
       "      <td>NaN</td>\n",
       "      <td>NaN</td>\n",
       "      <td>NaN</td>\n",
       "      <td>NaN</td>\n",
       "      <td>NaN</td>\n",
       "      <td>NaN</td>\n",
       "      <td>...</td>\n",
       "      <td>NaN</td>\n",
       "      <td>NaN</td>\n",
       "      <td>NaN</td>\n",
       "      <td>NaN</td>\n",
       "      <td>NaN</td>\n",
       "      <td>NaN</td>\n",
       "      <td>NaN</td>\n",
       "      <td>NaN</td>\n",
       "      <td>NaN</td>\n",
       "      <td>NaN</td>\n",
       "    </tr>\n",
       "    <tr>\n",
       "      <th>2</th>\n",
       "      <td>1000148</td>\n",
       "      <td>5.79763</td>\n",
       "      <td>0.407074</td>\n",
       "      <td>6.5412</td>\n",
       "      <td>4.7789</td>\n",
       "      <td>2.1906</td>\n",
       "      <td>0.94260</td>\n",
       "      <td>3.9233</td>\n",
       "      <td>2.5883</td>\n",
       "      <td>1.76230</td>\n",
       "      <td>...</td>\n",
       "      <td>46.042</td>\n",
       "      <td>50.345</td>\n",
       "      <td>40.931</td>\n",
       "      <td>9.4135</td>\n",
       "      <td>3.6133</td>\n",
       "      <td>56.367</td>\n",
       "      <td>40.318</td>\n",
       "      <td>29.758</td>\n",
       "      <td>10.5600</td>\n",
       "      <td>3.3156</td>\n",
       "    </tr>\n",
       "    <tr>\n",
       "      <th>3</th>\n",
       "      <td>1000150</td>\n",
       "      <td>5.32703</td>\n",
       "      <td>0.436711</td>\n",
       "      <td>4.2633</td>\n",
       "      <td>3.1027</td>\n",
       "      <td>1.4863</td>\n",
       "      <td>0.82748</td>\n",
       "      <td>1.9775</td>\n",
       "      <td>1.6164</td>\n",
       "      <td>1.16060</td>\n",
       "      <td>...</td>\n",
       "      <td>49.781</td>\n",
       "      <td>40.044</td>\n",
       "      <td>32.094</td>\n",
       "      <td>7.9500</td>\n",
       "      <td>10.1750</td>\n",
       "      <td>58.825</td>\n",
       "      <td>32.954</td>\n",
       "      <td>23.077</td>\n",
       "      <td>9.8765</td>\n",
       "      <td>8.2210</td>\n",
       "    </tr>\n",
       "  </tbody>\n",
       "</table>\n",
       "<p>4 rows × 252 columns</p>\n",
       "</div>"
      ],
      "text/plain": [
       "       eid  participant.p20280_i0  participant.p20281_i0  \\\n",
       "0  1000053                2.97210               0.282259   \n",
       "1  1000122                    NaN                    NaN   \n",
       "2  1000148                5.79763               0.407074   \n",
       "3  1000150                5.32703               0.436711   \n",
       "\n",
       "   participant.p23400_i0  participant.p23401_i0  participant.p23402_i0  \\\n",
       "0                 3.8459                 2.9413                 1.5075   \n",
       "1                    NaN                    NaN                    NaN   \n",
       "2                 6.5412                 4.7789                 2.1906   \n",
       "3                 4.2633                 3.1027                 1.4863   \n",
       "\n",
       "   participant.p23403_i0  participant.p23404_i0  participant.p23405_i0  \\\n",
       "0                0.83349                 1.9998                 1.4338   \n",
       "1                    NaN                    NaN                    NaN   \n",
       "2                0.94260                 3.9233                 2.5883   \n",
       "3                0.82748                 1.9775                 1.6164   \n",
       "\n",
       "   participant.p23406_i0  ...  participant.p23639_i0  participant.p23640_i0  \\\n",
       "0                0.90459  ...                 49.941                 40.646   \n",
       "1                    NaN  ...                    NaN                    NaN   \n",
       "2                1.76230  ...                 46.042                 50.345   \n",
       "3                1.16060  ...                 49.781                 40.044   \n",
       "\n",
       "   participant.p23641_i0  participant.p23642_i0  participant.p23643_i0  \\\n",
       "0                 33.031                 7.6145                 9.4130   \n",
       "1                    NaN                    NaN                    NaN   \n",
       "2                 40.931                 9.4135                 3.6133   \n",
       "3                 32.094                 7.9500                10.1750   \n",
       "\n",
       "   participant.p23644_i0  participant.p23645_i0  participant.p23646_i0  \\\n",
       "0                 58.373                 34.427                 24.479   \n",
       "1                    NaN                    NaN                    NaN   \n",
       "2                 56.367                 40.318                 29.758   \n",
       "3                 58.825                 32.954                 23.077   \n",
       "\n",
       "   participant.p23647_i0  participant.p23648_i0  \n",
       "0                 9.9478                 7.2007  \n",
       "1                    NaN                    NaN  \n",
       "2                10.5600                 3.3156  \n",
       "3                 9.8765                 8.2210  \n",
       "\n",
       "[4 rows x 252 columns]"
      ]
     },
     "execution_count": 7,
     "metadata": {},
     "output_type": "execute_result"
    }
   ],
   "source": [
    "NMR_df.head(4)"
   ]
  },
  {
   "cell_type": "code",
   "execution_count": 8,
   "id": "6e389bde-1da0-4749-adc7-29398210f65c",
   "metadata": {},
   "outputs": [],
   "source": [
    "# 提取非eid列\n",
    "NMR_cols = NMR_df.columns[1:]  # 第一列是eid"
   ]
  },
  {
   "cell_type": "code",
   "execution_count": 9,
   "id": "4c4ab042-8f55-4912-a00b-037e396a2719",
   "metadata": {},
   "outputs": [],
   "source": [
    "# 找出表达量全为NaN的病人行\n",
    "all_nan_mask = NMR_df[NMR_cols].isna().all(axis=1)"
   ]
  },
  {
   "cell_type": "code",
   "execution_count": 10,
   "id": "2d0c6db1-b669-4c2f-9d18-5c26195f6ab6",
   "metadata": {},
   "outputs": [],
   "source": [
    "# 过滤掉全NaN的病人\n",
    "NMR_df_filtered = NMR_df[~all_nan_mask].copy()"
   ]
  },
  {
   "cell_type": "code",
   "execution_count": 11,
   "id": "a77dedfb-f6b2-4240-b00b-6bb00832fda0",
   "metadata": {},
   "outputs": [
    {
     "data": {
      "text/plain": [
       "(274236, 252)"
      ]
     },
     "execution_count": 11,
     "metadata": {},
     "output_type": "execute_result"
    }
   ],
   "source": [
    "NMR_df_filtered.shape"
   ]
  },
  {
   "cell_type": "code",
   "execution_count": 12,
   "id": "9f9fc9ac-388e-4c0e-b915-362cbc7e94da",
   "metadata": {},
   "outputs": [],
   "source": [
    "# 2. 用各列最小值填补NaN\n",
    "# 计算各列最小值（排除NaN）\n",
    "col_min_values = NMR_df_filtered[NMR_cols].min()\n",
    "\n",
    "# 填补NaN（使用广播机制）\n",
    "NMR_df_imputed = NMR_df_filtered.copy()\n",
    "NMR_df_imputed[NMR_cols] = NMR_df_filtered[NMR_cols].fillna(col_min_values)"
   ]
  },
  {
   "cell_type": "code",
   "execution_count": 13,
   "id": "4d1a9084-7d6c-4816-a10a-5be25d47e9f6",
   "metadata": {},
   "outputs": [
    {
     "data": {
      "text/html": [
       "<div>\n",
       "<style scoped>\n",
       "    .dataframe tbody tr th:only-of-type {\n",
       "        vertical-align: middle;\n",
       "    }\n",
       "\n",
       "    .dataframe tbody tr th {\n",
       "        vertical-align: top;\n",
       "    }\n",
       "\n",
       "    .dataframe thead th {\n",
       "        text-align: right;\n",
       "    }\n",
       "</style>\n",
       "<table border=\"1\" class=\"dataframe\">\n",
       "  <thead>\n",
       "    <tr style=\"text-align: right;\">\n",
       "      <th></th>\n",
       "      <th>eid</th>\n",
       "      <th>participant.p20280_i0</th>\n",
       "      <th>participant.p20281_i0</th>\n",
       "      <th>participant.p23400_i0</th>\n",
       "      <th>participant.p23401_i0</th>\n",
       "      <th>participant.p23402_i0</th>\n",
       "      <th>participant.p23403_i0</th>\n",
       "      <th>participant.p23404_i0</th>\n",
       "      <th>participant.p23405_i0</th>\n",
       "      <th>participant.p23406_i0</th>\n",
       "      <th>...</th>\n",
       "      <th>participant.p23639_i0</th>\n",
       "      <th>participant.p23640_i0</th>\n",
       "      <th>participant.p23641_i0</th>\n",
       "      <th>participant.p23642_i0</th>\n",
       "      <th>participant.p23643_i0</th>\n",
       "      <th>participant.p23644_i0</th>\n",
       "      <th>participant.p23645_i0</th>\n",
       "      <th>participant.p23646_i0</th>\n",
       "      <th>participant.p23647_i0</th>\n",
       "      <th>participant.p23648_i0</th>\n",
       "    </tr>\n",
       "  </thead>\n",
       "  <tbody>\n",
       "    <tr>\n",
       "      <th>0</th>\n",
       "      <td>1000053</td>\n",
       "      <td>2.97210</td>\n",
       "      <td>0.282259</td>\n",
       "      <td>3.8459</td>\n",
       "      <td>2.9413</td>\n",
       "      <td>1.5075</td>\n",
       "      <td>0.83349</td>\n",
       "      <td>1.9998</td>\n",
       "      <td>1.4338</td>\n",
       "      <td>0.90459</td>\n",
       "      <td>...</td>\n",
       "      <td>49.941</td>\n",
       "      <td>40.646</td>\n",
       "      <td>33.031</td>\n",
       "      <td>7.6145</td>\n",
       "      <td>9.4130</td>\n",
       "      <td>58.373</td>\n",
       "      <td>34.427</td>\n",
       "      <td>24.479</td>\n",
       "      <td>9.9478</td>\n",
       "      <td>7.2007</td>\n",
       "    </tr>\n",
       "    <tr>\n",
       "      <th>2</th>\n",
       "      <td>1000148</td>\n",
       "      <td>5.79763</td>\n",
       "      <td>0.407074</td>\n",
       "      <td>6.5412</td>\n",
       "      <td>4.7789</td>\n",
       "      <td>2.1906</td>\n",
       "      <td>0.94260</td>\n",
       "      <td>3.9233</td>\n",
       "      <td>2.5883</td>\n",
       "      <td>1.76230</td>\n",
       "      <td>...</td>\n",
       "      <td>46.042</td>\n",
       "      <td>50.345</td>\n",
       "      <td>40.931</td>\n",
       "      <td>9.4135</td>\n",
       "      <td>3.6133</td>\n",
       "      <td>56.367</td>\n",
       "      <td>40.318</td>\n",
       "      <td>29.758</td>\n",
       "      <td>10.5600</td>\n",
       "      <td>3.3156</td>\n",
       "    </tr>\n",
       "    <tr>\n",
       "      <th>3</th>\n",
       "      <td>1000150</td>\n",
       "      <td>5.32703</td>\n",
       "      <td>0.436711</td>\n",
       "      <td>4.2633</td>\n",
       "      <td>3.1027</td>\n",
       "      <td>1.4863</td>\n",
       "      <td>0.82748</td>\n",
       "      <td>1.9775</td>\n",
       "      <td>1.6164</td>\n",
       "      <td>1.16060</td>\n",
       "      <td>...</td>\n",
       "      <td>49.781</td>\n",
       "      <td>40.044</td>\n",
       "      <td>32.094</td>\n",
       "      <td>7.9500</td>\n",
       "      <td>10.1750</td>\n",
       "      <td>58.825</td>\n",
       "      <td>32.954</td>\n",
       "      <td>23.077</td>\n",
       "      <td>9.8765</td>\n",
       "      <td>8.2210</td>\n",
       "    </tr>\n",
       "    <tr>\n",
       "      <th>5</th>\n",
       "      <td>1000199</td>\n",
       "      <td>5.73236</td>\n",
       "      <td>0.384780</td>\n",
       "      <td>5.8360</td>\n",
       "      <td>3.8974</td>\n",
       "      <td>1.8090</td>\n",
       "      <td>0.81030</td>\n",
       "      <td>3.0389</td>\n",
       "      <td>2.0885</td>\n",
       "      <td>1.93860</td>\n",
       "      <td>...</td>\n",
       "      <td>46.181</td>\n",
       "      <td>48.841</td>\n",
       "      <td>39.874</td>\n",
       "      <td>8.9677</td>\n",
       "      <td>4.9780</td>\n",
       "      <td>58.066</td>\n",
       "      <td>37.815</td>\n",
       "      <td>28.076</td>\n",
       "      <td>9.7397</td>\n",
       "      <td>4.1188</td>\n",
       "    </tr>\n",
       "  </tbody>\n",
       "</table>\n",
       "<p>4 rows × 252 columns</p>\n",
       "</div>"
      ],
      "text/plain": [
       "       eid  participant.p20280_i0  participant.p20281_i0  \\\n",
       "0  1000053                2.97210               0.282259   \n",
       "2  1000148                5.79763               0.407074   \n",
       "3  1000150                5.32703               0.436711   \n",
       "5  1000199                5.73236               0.384780   \n",
       "\n",
       "   participant.p23400_i0  participant.p23401_i0  participant.p23402_i0  \\\n",
       "0                 3.8459                 2.9413                 1.5075   \n",
       "2                 6.5412                 4.7789                 2.1906   \n",
       "3                 4.2633                 3.1027                 1.4863   \n",
       "5                 5.8360                 3.8974                 1.8090   \n",
       "\n",
       "   participant.p23403_i0  participant.p23404_i0  participant.p23405_i0  \\\n",
       "0                0.83349                 1.9998                 1.4338   \n",
       "2                0.94260                 3.9233                 2.5883   \n",
       "3                0.82748                 1.9775                 1.6164   \n",
       "5                0.81030                 3.0389                 2.0885   \n",
       "\n",
       "   participant.p23406_i0  ...  participant.p23639_i0  participant.p23640_i0  \\\n",
       "0                0.90459  ...                 49.941                 40.646   \n",
       "2                1.76230  ...                 46.042                 50.345   \n",
       "3                1.16060  ...                 49.781                 40.044   \n",
       "5                1.93860  ...                 46.181                 48.841   \n",
       "\n",
       "   participant.p23641_i0  participant.p23642_i0  participant.p23643_i0  \\\n",
       "0                 33.031                 7.6145                 9.4130   \n",
       "2                 40.931                 9.4135                 3.6133   \n",
       "3                 32.094                 7.9500                10.1750   \n",
       "5                 39.874                 8.9677                 4.9780   \n",
       "\n",
       "   participant.p23644_i0  participant.p23645_i0  participant.p23646_i0  \\\n",
       "0                 58.373                 34.427                 24.479   \n",
       "2                 56.367                 40.318                 29.758   \n",
       "3                 58.825                 32.954                 23.077   \n",
       "5                 58.066                 37.815                 28.076   \n",
       "\n",
       "   participant.p23647_i0  participant.p23648_i0  \n",
       "0                 9.9478                 7.2007  \n",
       "2                10.5600                 3.3156  \n",
       "3                 9.8765                 8.2210  \n",
       "5                 9.7397                 4.1188  \n",
       "\n",
       "[4 rows x 252 columns]"
      ]
     },
     "execution_count": 13,
     "metadata": {},
     "output_type": "execute_result"
    }
   ],
   "source": [
    "NMR_df_imputed.head(4)"
   ]
  },
  {
   "cell_type": "code",
   "execution_count": 14,
   "id": "02ee2530-d42b-44ef-8179-406a9da2809a",
   "metadata": {},
   "outputs": [
    {
     "name": "stdout",
     "output_type": "stream",
     "text": [
      "              eid               NMR_name  NMR_expression\n",
      "0         1000053  participant.p20280_i0         2.97210\n",
      "1         1000148  participant.p20280_i0         5.79763\n",
      "2         1000150  participant.p20280_i0         5.32703\n",
      "3         1000199  participant.p20280_i0         5.73236\n",
      "4         1000428  participant.p20280_i0         5.26226\n",
      "...           ...                    ...             ...\n",
      "68833231  6022081  participant.p23648_i0         5.61880\n",
      "68833232  6022102  participant.p23648_i0         5.26160\n",
      "68833233  6022141  participant.p23648_i0         4.78620\n",
      "68833234  6022197  participant.p23648_i0         3.85360\n",
      "68833235  6022252  participant.p23648_i0         5.26830\n",
      "\n",
      "[68833236 rows x 3 columns]\n"
     ]
    }
   ],
   "source": [
    "# 将数据框从宽格式转换为长格式\n",
    "NMR_long_df = pd.melt(NMR_df_imputed, id_vars=['eid'], var_name='NMR_name', value_name='NMR_expression')\n",
    "\n",
    "print(NMR_long_df)  "
   ]
  },
  {
   "cell_type": "code",
   "execution_count": 15,
   "id": "ecb1c0e4-027e-4a2a-94d9-e94de85bfae0",
   "metadata": {},
   "outputs": [
    {
     "data": {
      "text/plain": [
       "(274236, 252)"
      ]
     },
     "execution_count": 15,
     "metadata": {},
     "output_type": "execute_result"
    }
   ],
   "source": [
    "NMR_df_imputed.shape"
   ]
  },
  {
   "cell_type": "code",
   "execution_count": 16,
   "id": "dc3deaee-e981-46e2-9f0b-d1e18aba6454",
   "metadata": {},
   "outputs": [
    {
     "data": {
      "text/plain": [
       "68833236"
      ]
     },
     "execution_count": 16,
     "metadata": {},
     "output_type": "execute_result"
    }
   ],
   "source": [
    "274236 * 251"
   ]
  },
  {
   "cell_type": "code",
   "execution_count": 17,
   "id": "872e05d3-6749-4333-9822-daff07b2446f",
   "metadata": {},
   "outputs": [
    {
     "name": "stdout",
     "output_type": "stream",
     "text": [
      "              eid               NMR_name  NMR_expression\n",
      "0         1000053  participant.p20280_i0         2.97210\n",
      "1         1000148  participant.p20280_i0         5.79763\n",
      "2         1000150  participant.p20280_i0         5.32703\n",
      "3         1000199  participant.p20280_i0         5.73236\n",
      "4         1000428  participant.p20280_i0         5.26226\n",
      "...           ...                    ...             ...\n",
      "68833231  6022081  participant.p23648_i0         5.61880\n",
      "68833232  6022102  participant.p23648_i0         5.26160\n",
      "68833233  6022141  participant.p23648_i0         4.78620\n",
      "68833234  6022197  participant.p23648_i0         3.85360\n",
      "68833235  6022252  participant.p23648_i0         5.26830\n",
      "\n",
      "[68833236 rows x 3 columns]\n"
     ]
    }
   ],
   "source": [
    "# 移除 NMR_expression 列中值为 NaN 的行\n",
    "NMR_long_df = NMR_long_df.dropna(subset=['NMR_expression'])\n",
    "\n",
    "print(NMR_long_df) "
   ]
  },
  {
   "cell_type": "code",
   "execution_count": 18,
   "id": "a41e833f-3b5a-4955-9bd8-8ff887f00b2a",
   "metadata": {},
   "outputs": [],
   "source": [
    "# 保存\n",
    "import json\n",
    "with open('../Data/keys.json', 'r') as f:\n",
    "    keys = json.load(f)"
   ]
  },
  {
   "cell_type": "code",
   "execution_count": 19,
   "id": "8b5c3290-87f8-4924-a81a-7a565d04453a",
   "metadata": {},
   "outputs": [],
   "source": [
    "NMR_long_df['eid'] = NMR_long_df['eid'].astype(str)"
   ]
  },
  {
   "cell_type": "code",
   "execution_count": 20,
   "id": "d7481245-138b-47dc-953b-cfecf70608b8",
   "metadata": {},
   "outputs": [
    {
     "data": {
      "text/plain": [
       "(68833236, 3)"
      ]
     },
     "execution_count": 20,
     "metadata": {},
     "output_type": "execute_result"
    }
   ],
   "source": [
    "NMR_long_df.shape"
   ]
  },
  {
   "cell_type": "code",
   "execution_count": 21,
   "id": "48615882-1d1d-490e-9e74-1fb2218ed021",
   "metadata": {},
   "outputs": [],
   "source": [
    "NMR_long_df_filtered = NMR_long_df[NMR_long_df['eid'].isin(keys)]"
   ]
  },
  {
   "cell_type": "code",
   "execution_count": 22,
   "id": "9fc18bbf-81a5-4272-a4eb-f5d42cded7a1",
   "metadata": {},
   "outputs": [
    {
     "data": {
      "text/plain": [
       "(6851045, 3)"
      ]
     },
     "execution_count": 22,
     "metadata": {},
     "output_type": "execute_result"
    }
   ],
   "source": [
    "NMR_long_df_filtered.shape"
   ]
  },
  {
   "cell_type": "code",
   "execution_count": 23,
   "id": "f9b08267-153b-4d11-ba2a-62a3e0928ae7",
   "metadata": {},
   "outputs": [
    {
     "data": {
      "text/html": [
       "<div>\n",
       "<style scoped>\n",
       "    .dataframe tbody tr th:only-of-type {\n",
       "        vertical-align: middle;\n",
       "    }\n",
       "\n",
       "    .dataframe tbody tr th {\n",
       "        vertical-align: top;\n",
       "    }\n",
       "\n",
       "    .dataframe thead th {\n",
       "        text-align: right;\n",
       "    }\n",
       "</style>\n",
       "<table border=\"1\" class=\"dataframe\">\n",
       "  <thead>\n",
       "    <tr style=\"text-align: right;\">\n",
       "      <th></th>\n",
       "      <th>eid</th>\n",
       "      <th>NMR_name</th>\n",
       "      <th>NMR_expression</th>\n",
       "    </tr>\n",
       "  </thead>\n",
       "  <tbody>\n",
       "    <tr>\n",
       "      <th>26</th>\n",
       "      <td>1002133</td>\n",
       "      <td>participant.p20280_i0</td>\n",
       "      <td>4.06436</td>\n",
       "    </tr>\n",
       "    <tr>\n",
       "      <th>28</th>\n",
       "      <td>1002201</td>\n",
       "      <td>participant.p20280_i0</td>\n",
       "      <td>5.62458</td>\n",
       "    </tr>\n",
       "  </tbody>\n",
       "</table>\n",
       "</div>"
      ],
      "text/plain": [
       "        eid               NMR_name  NMR_expression\n",
       "26  1002133  participant.p20280_i0         4.06436\n",
       "28  1002201  participant.p20280_i0         5.62458"
      ]
     },
     "execution_count": 23,
     "metadata": {},
     "output_type": "execute_result"
    }
   ],
   "source": [
    "NMR_long_df_filtered.head(2)"
   ]
  },
  {
   "cell_type": "code",
   "execution_count": 24,
   "id": "ab980a97-54bc-40f8-81e9-55051c938133",
   "metadata": {},
   "outputs": [],
   "source": [
    "# 按 NMR_name 分组，对每个分组内按 NMR_expression 降序排序\n",
    "sorted_NMR_df = NMR_long_df_filtered.sort_values(['NMR_name', 'NMR_expression'], ascending=[True, False])"
   ]
  },
  {
   "cell_type": "code",
   "execution_count": 25,
   "id": "ed6713d4-017a-43ee-aa79-92f7850ec0f0",
   "metadata": {},
   "outputs": [
    {
     "name": "stdout",
     "output_type": "stream",
     "text": [
      "              eid               NMR_name  NMR_expression\n",
      "168304    1367889  participant.p20280_i0         26.3716\n",
      "127879    2679237  participant.p20280_i0         25.2719\n",
      "173922    1875240  participant.p20280_i0         25.0894\n",
      "236502    2603346  participant.p20280_i0         24.0926\n",
      "228214    1847793  participant.p20280_i0         22.5798\n",
      "...           ...                    ...             ...\n",
      "68736808  2229653  participant.p23648_i0          8.1471\n",
      "68633068  2775031  participant.p23648_i0          8.1449\n",
      "68635782  3028140  participant.p23648_i0          8.1446\n",
      "68652786  4571957  participant.p23648_i0          8.1446\n",
      "68561951  1278042  participant.p23648_i0          8.1436\n",
      "\n",
      "[75300 rows x 3 columns]\n"
     ]
    }
   ],
   "source": [
    "# 对每个分组保留前 300 行\n",
    "result_NMR_df = sorted_NMR_df.groupby('NMR_name').head(300)\n",
    "\n",
    "print(result_NMR_df)"
   ]
  },
  {
   "cell_type": "code",
   "execution_count": 26,
   "id": "63c30c78-a321-4b04-babb-0bee1e54ebf9",
   "metadata": {},
   "outputs": [
    {
     "data": {
      "text/plain": [
       "(75300, 3)"
      ]
     },
     "execution_count": 26,
     "metadata": {},
     "output_type": "execute_result"
    }
   ],
   "source": [
    "result_NMR_df.shape"
   ]
  },
  {
   "cell_type": "code",
   "execution_count": 27,
   "id": "80117481-9ed9-45c2-8117-e53ff5d59d77",
   "metadata": {},
   "outputs": [
    {
     "data": {
      "text/plain": [
       "11533"
      ]
     },
     "execution_count": 27,
     "metadata": {},
     "output_type": "execute_result"
    }
   ],
   "source": [
    "len(set(result_NMR_df['eid']))"
   ]
  },
  {
   "cell_type": "code",
   "execution_count": 28,
   "id": "921a020b-cfb1-4b38-bfae-c11973ebc411",
   "metadata": {},
   "outputs": [],
   "source": [
    "result_NMR_df = result_NMR_df.rename(columns={'eid':'node1', 'NMR_name':'node2', 'NMR_expression':'relationship'})"
   ]
  },
  {
   "cell_type": "code",
   "execution_count": 29,
   "id": "8588fb18-931f-48ab-bd49-5b4637b548e3",
   "metadata": {},
   "outputs": [],
   "source": [
    "result_NMR_df['relationship'] = 1.0"
   ]
  },
  {
   "cell_type": "code",
   "execution_count": 30,
   "id": "cb1057f0-51fe-4be1-b21b-a86f7e690c1e",
   "metadata": {},
   "outputs": [],
   "source": [
    "result_NMR_df['node2'] = result_NMR_df['node2'].str.replace(\"participant.\", \"\", regex=False)"
   ]
  },
  {
   "cell_type": "code",
   "execution_count": 31,
   "id": "4c423e34-1a5d-4b81-95b1-63fb39d31f87",
   "metadata": {},
   "outputs": [
    {
     "data": {
      "text/html": [
       "<div>\n",
       "<style scoped>\n",
       "    .dataframe tbody tr th:only-of-type {\n",
       "        vertical-align: middle;\n",
       "    }\n",
       "\n",
       "    .dataframe tbody tr th {\n",
       "        vertical-align: top;\n",
       "    }\n",
       "\n",
       "    .dataframe thead th {\n",
       "        text-align: right;\n",
       "    }\n",
       "</style>\n",
       "<table border=\"1\" class=\"dataframe\">\n",
       "  <thead>\n",
       "    <tr style=\"text-align: right;\">\n",
       "      <th></th>\n",
       "      <th>node1</th>\n",
       "      <th>node2</th>\n",
       "      <th>relationship</th>\n",
       "    </tr>\n",
       "  </thead>\n",
       "  <tbody>\n",
       "    <tr>\n",
       "      <th>168304</th>\n",
       "      <td>1367889</td>\n",
       "      <td>p20280_i0</td>\n",
       "      <td>1.0</td>\n",
       "    </tr>\n",
       "    <tr>\n",
       "      <th>127879</th>\n",
       "      <td>2679237</td>\n",
       "      <td>p20280_i0</td>\n",
       "      <td>1.0</td>\n",
       "    </tr>\n",
       "  </tbody>\n",
       "</table>\n",
       "</div>"
      ],
      "text/plain": [
       "          node1      node2  relationship\n",
       "168304  1367889  p20280_i0           1.0\n",
       "127879  2679237  p20280_i0           1.0"
      ]
     },
     "execution_count": 31,
     "metadata": {},
     "output_type": "execute_result"
    }
   ],
   "source": [
    "result_NMR_df.head(2)"
   ]
  },
  {
   "cell_type": "code",
   "execution_count": 32,
   "id": "59552da6-3df6-4529-9e60-d580cb6963fe",
   "metadata": {},
   "outputs": [],
   "source": [
    "NMR_name_description_mapping = pd.read_csv('../Data/NMR_name_description_mapping.csv',\n",
    "                                           encoding='utf-8')"
   ]
  },
  {
   "cell_type": "code",
   "execution_count": 33,
   "id": "bc441448-4501-4a48-859f-6f6c1ccd5df5",
   "metadata": {},
   "outputs": [
    {
     "data": {
      "text/html": [
       "<div>\n",
       "<style scoped>\n",
       "    .dataframe tbody tr th:only-of-type {\n",
       "        vertical-align: middle;\n",
       "    }\n",
       "\n",
       "    .dataframe tbody tr th {\n",
       "        vertical-align: top;\n",
       "    }\n",
       "\n",
       "    .dataframe thead th {\n",
       "        text-align: right;\n",
       "    }\n",
       "</style>\n",
       "<table border=\"1\" class=\"dataframe\">\n",
       "  <thead>\n",
       "    <tr style=\"text-align: right;\">\n",
       "      <th></th>\n",
       "      <th>NMR_name</th>\n",
       "      <th>full_name</th>\n",
       "    </tr>\n",
       "  </thead>\n",
       "  <tbody>\n",
       "    <tr>\n",
       "      <th>0</th>\n",
       "      <td>p20280_i0</td>\n",
       "      <td>Glucose-lactate | Instance 0</td>\n",
       "    </tr>\n",
       "    <tr>\n",
       "      <th>1</th>\n",
       "      <td>p20281_i0</td>\n",
       "      <td>Spectrometer-corrected alanine | Instance 0</td>\n",
       "    </tr>\n",
       "  </tbody>\n",
       "</table>\n",
       "</div>"
      ],
      "text/plain": [
       "    NMR_name                                    full_name\n",
       "0  p20280_i0                 Glucose-lactate | Instance 0\n",
       "1  p20281_i0  Spectrometer-corrected alanine | Instance 0"
      ]
     },
     "execution_count": 33,
     "metadata": {},
     "output_type": "execute_result"
    }
   ],
   "source": [
    "NMR_name_description_mapping.head(2)"
   ]
  },
  {
   "cell_type": "code",
   "execution_count": 34,
   "id": "c3ec8cdd-2827-4fe4-a5bb-7349b1984029",
   "metadata": {},
   "outputs": [],
   "source": [
    "NMR_name_description_mapping['full_name'] = NMR_name_description_mapping['full_name'].str.replace(\" | Instance 0\", \"\", regex=False)"
   ]
  },
  {
   "cell_type": "code",
   "execution_count": 35,
   "id": "486ee0c5-8909-411a-bdd8-8d9545985fc9",
   "metadata": {},
   "outputs": [
    {
     "data": {
      "text/html": [
       "<div>\n",
       "<style scoped>\n",
       "    .dataframe tbody tr th:only-of-type {\n",
       "        vertical-align: middle;\n",
       "    }\n",
       "\n",
       "    .dataframe tbody tr th {\n",
       "        vertical-align: top;\n",
       "    }\n",
       "\n",
       "    .dataframe thead th {\n",
       "        text-align: right;\n",
       "    }\n",
       "</style>\n",
       "<table border=\"1\" class=\"dataframe\">\n",
       "  <thead>\n",
       "    <tr style=\"text-align: right;\">\n",
       "      <th></th>\n",
       "      <th>NMR_name</th>\n",
       "      <th>full_name</th>\n",
       "    </tr>\n",
       "  </thead>\n",
       "  <tbody>\n",
       "    <tr>\n",
       "      <th>0</th>\n",
       "      <td>p20280_i0</td>\n",
       "      <td>Glucose-lactate</td>\n",
       "    </tr>\n",
       "    <tr>\n",
       "      <th>1</th>\n",
       "      <td>p20281_i0</td>\n",
       "      <td>Spectrometer-corrected alanine</td>\n",
       "    </tr>\n",
       "  </tbody>\n",
       "</table>\n",
       "</div>"
      ],
      "text/plain": [
       "    NMR_name                       full_name\n",
       "0  p20280_i0                 Glucose-lactate\n",
       "1  p20281_i0  Spectrometer-corrected alanine"
      ]
     },
     "execution_count": 35,
     "metadata": {},
     "output_type": "execute_result"
    }
   ],
   "source": [
    "NMR_name_description_mapping.head(2)"
   ]
  },
  {
   "cell_type": "code",
   "execution_count": 36,
   "id": "7a25030a-9a2c-4ebb-90c0-71dfb575d43b",
   "metadata": {},
   "outputs": [],
   "source": [
    "# 创建一个映射字典\n",
    "name_mapping = dict(zip(NMR_name_description_mapping['NMR_name'], \n",
    "                        NMR_name_description_mapping['full_name']))"
   ]
  },
  {
   "cell_type": "code",
   "execution_count": 37,
   "id": "141636c4-1c4d-44a6-83d9-891e357acdc7",
   "metadata": {},
   "outputs": [],
   "source": [
    "# 定义一个函数来执行映射\n",
    "def map_node2(name):\n",
    "    return name_mapping.get(name, name)  # 如果找不到映射，返回原值"
   ]
  },
  {
   "cell_type": "code",
   "execution_count": 38,
   "id": "be4444a1-a0c2-4dbe-bf04-f8e793e01bd8",
   "metadata": {},
   "outputs": [],
   "source": [
    "# 应用映射到node2列\n",
    "result_NMR_df['node2'] = result_NMR_df['node2'].apply(map_node2)"
   ]
  },
  {
   "cell_type": "code",
   "execution_count": 39,
   "id": "f0d6d6e6-2d06-474d-8167-fceb4f0f5e12",
   "metadata": {},
   "outputs": [
    {
     "name": "stdout",
     "output_type": "stream",
     "text": [
      "          node1            node2  relationship\n",
      "168304  1367889  Glucose-lactate           1.0\n",
      "127879  2679237  Glucose-lactate           1.0\n",
      "            node1                                              node2  \\\n",
      "68652786  4571957  Triglycerides to Total Lipids in Small HDL per...   \n",
      "68561951  1278042  Triglycerides to Total Lipids in Small HDL per...   \n",
      "\n",
      "          relationship  \n",
      "68652786           1.0  \n",
      "68561951           1.0  \n"
     ]
    }
   ],
   "source": [
    "# 查看结果\n",
    "print(result_NMR_df.head(2))\n",
    "print(result_NMR_df.tail(2))"
   ]
  },
  {
   "cell_type": "markdown",
   "id": "657919d9-ad75-4cbb-8d1a-93f7373872e8",
   "metadata": {},
   "source": [
    "## Add metabolite top ied"
   ]
  },
  {
   "cell_type": "code",
   "execution_count": 40,
   "id": "88aa0176-2971-4bc8-88c4-3a02f2b5151f",
   "metadata": {},
   "outputs": [],
   "source": [
    "merged_df_long = pd.read_csv('../Data/merged_df_add_filtered_disGeNet_disease_disease_PPI_proteinTopEid.txt', sep='\\t', dtype={'node1':str, 'node2': str, 'relationship': float})"
   ]
  },
  {
   "cell_type": "code",
   "execution_count": 41,
   "id": "e4696f40-0378-4999-8aa7-2b5b2cc79d1a",
   "metadata": {},
   "outputs": [
    {
     "data": {
      "text/html": [
       "<div>\n",
       "<style scoped>\n",
       "    .dataframe tbody tr th:only-of-type {\n",
       "        vertical-align: middle;\n",
       "    }\n",
       "\n",
       "    .dataframe tbody tr th {\n",
       "        vertical-align: top;\n",
       "    }\n",
       "\n",
       "    .dataframe thead th {\n",
       "        text-align: right;\n",
       "    }\n",
       "</style>\n",
       "<table border=\"1\" class=\"dataframe\">\n",
       "  <thead>\n",
       "    <tr style=\"text-align: right;\">\n",
       "      <th></th>\n",
       "      <th>node1</th>\n",
       "      <th>node2</th>\n",
       "      <th>relationship</th>\n",
       "    </tr>\n",
       "  </thead>\n",
       "  <tbody>\n",
       "    <tr>\n",
       "      <th>0</th>\n",
       "      <td>1002133</td>\n",
       "      <td>I802</td>\n",
       "      <td>1.0</td>\n",
       "    </tr>\n",
       "    <tr>\n",
       "      <th>1</th>\n",
       "      <td>1002133</td>\n",
       "      <td>M1997</td>\n",
       "      <td>1.0</td>\n",
       "    </tr>\n",
       "    <tr>\n",
       "      <th>2</th>\n",
       "      <td>1002133</td>\n",
       "      <td>M201</td>\n",
       "      <td>1.0</td>\n",
       "    </tr>\n",
       "  </tbody>\n",
       "</table>\n",
       "</div>"
      ],
      "text/plain": [
       "     node1  node2  relationship\n",
       "0  1002133   I802           1.0\n",
       "1  1002133  M1997           1.0\n",
       "2  1002133   M201           1.0"
      ]
     },
     "execution_count": 41,
     "metadata": {},
     "output_type": "execute_result"
    }
   ],
   "source": [
    "merged_df_long.head(3)"
   ]
  },
  {
   "cell_type": "code",
   "execution_count": 42,
   "id": "9f45ff4b-ecaa-4802-9d4d-24735d05c9b2",
   "metadata": {},
   "outputs": [],
   "source": [
    "# add metabolite top eid\n",
    "merged_df_add_metaboliteTopEid = pd.concat([merged_df_long, result_NMR_df], ignore_index=True)"
   ]
  },
  {
   "cell_type": "code",
   "execution_count": 43,
   "id": "be6f7e49-d191-410c-80b5-2ea27a0e0ee7",
   "metadata": {},
   "outputs": [
    {
     "data": {
      "text/plain": [
       "(2747515, 3)"
      ]
     },
     "execution_count": 43,
     "metadata": {},
     "output_type": "execute_result"
    }
   ],
   "source": [
    "merged_df_add_metaboliteTopEid.shape"
   ]
  },
  {
   "cell_type": "code",
   "execution_count": 44,
   "id": "18ed35db-854d-4a2a-b78e-11f01d974514",
   "metadata": {},
   "outputs": [],
   "source": [
    "merged_df_add_metaboliteTopEid = merged_df_add_metaboliteTopEid.drop_duplicates()"
   ]
  },
  {
   "cell_type": "code",
   "execution_count": 45,
   "id": "c45a7d4d-6a1b-4d56-af3e-7c4b80d0d6aa",
   "metadata": {},
   "outputs": [
    {
     "data": {
      "text/plain": [
       "(2740858, 3)"
      ]
     },
     "execution_count": 45,
     "metadata": {},
     "output_type": "execute_result"
    }
   ],
   "source": [
    "merged_df_add_metaboliteTopEid.shape"
   ]
  },
  {
   "cell_type": "code",
   "execution_count": 46,
   "id": "7116f6a7-98f2-444a-8416-1a82a5b852f1",
   "metadata": {},
   "outputs": [],
   "source": [
    "# 保存为以制表符分隔的文本文件 \n",
    "merged_df_add_metaboliteTopEid.to_csv('../Data/merged_df_add_filtered_disGeNet_disease_disease_PPI_proteinTopEid_metaboliteTopEid.txt', sep='\\t', na_rep='nan', index=False)"
   ]
  },
  {
   "cell_type": "markdown",
   "id": "d9328f93-396e-4b8b-8558-f62b6fdae852",
   "metadata": {},
   "source": [
    "## prepare input data"
   ]
  },
  {
   "cell_type": "code",
   "execution_count": 47,
   "id": "03e82c02-ad67-4ee3-88ea-6960759c7a3d",
   "metadata": {},
   "outputs": [
    {
     "name": "stderr",
     "output_type": "stream",
     "text": [
      "/home/llma/anaconda3/envs/GAT/lib/python3.12/site-packages/tqdm/auto.py:21: TqdmWarning: IProgress not found. Please update jupyter and ipywidgets. See https://ipywidgets.readthedocs.io/en/stable/user_install.html\n",
      "  from .autonotebook import tqdm as notebook_tqdm\n"
     ]
    }
   ],
   "source": [
    "import numpy as np\n",
    "import os\n",
    "from scipy.sparse import csr_matrix\n",
    "from utils import N2V\n",
    "import pandas as pd\n",
    "from fastnode2vec import Graph, Node2Vec \n",
    "import pickle\n",
    "import json"
   ]
  },
  {
   "cell_type": "code",
   "execution_count": 48,
   "id": "370a4484-7afa-44c8-9b96-48715ef40259",
   "metadata": {},
   "outputs": [],
   "source": [
    "adj_path = '../Data/merged_df_add_filtered_disGeNet_disease_disease_PPI_proteinTopEid_metaboliteTopEid.txt'"
   ]
  },
  {
   "cell_type": "code",
   "execution_count": 49,
   "id": "7f36e805-f07e-4643-a068-13f36c859e34",
   "metadata": {},
   "outputs": [
    {
     "data": {
      "text/html": [
       "<div>\n",
       "<style scoped>\n",
       "    .dataframe tbody tr th:only-of-type {\n",
       "        vertical-align: middle;\n",
       "    }\n",
       "\n",
       "    .dataframe tbody tr th {\n",
       "        vertical-align: top;\n",
       "    }\n",
       "\n",
       "    .dataframe thead th {\n",
       "        text-align: right;\n",
       "    }\n",
       "</style>\n",
       "<table border=\"1\" class=\"dataframe\">\n",
       "  <thead>\n",
       "    <tr style=\"text-align: right;\">\n",
       "      <th></th>\n",
       "      <th>node1</th>\n",
       "      <th>node2</th>\n",
       "      <th>relationship</th>\n",
       "    </tr>\n",
       "  </thead>\n",
       "  <tbody>\n",
       "    <tr>\n",
       "      <th>0</th>\n",
       "      <td>1002133</td>\n",
       "      <td>I802</td>\n",
       "      <td>1.0</td>\n",
       "    </tr>\n",
       "    <tr>\n",
       "      <th>1</th>\n",
       "      <td>1002133</td>\n",
       "      <td>M1997</td>\n",
       "      <td>1.0</td>\n",
       "    </tr>\n",
       "  </tbody>\n",
       "</table>\n",
       "</div>"
      ],
      "text/plain": [
       "     node1  node2  relationship\n",
       "0  1002133   I802           1.0\n",
       "1  1002133  M1997           1.0"
      ]
     },
     "execution_count": 49,
     "metadata": {},
     "output_type": "execute_result"
    }
   ],
   "source": [
    "merged_df = pd.read_csv(adj_path, sep='\\t',\n",
    "    dtype={'node1': str, 'node2': str, 'relationship': float} )\n",
    "merged_df.head(2)"
   ]
  },
  {
   "cell_type": "code",
   "execution_count": null,
   "id": "e2292d91-60ef-4ad5-8759-cd564fb3886b",
   "metadata": {},
   "outputs": [],
   "source": [
    "adj_matrix = pd.read_csv(adj_path, sep='\\t',\n",
    "    dtype={'node1': str, 'node2': str, 'relationship': float})\n",
    "# 构建图所需的边列表\n",
    "edges = [(row['node1'], row['node2'], row['relationship']) for _, row in adj_matrix.iterrows()]\n",
    "\n",
    "# 构建图\n",
    "graph = Graph(edges, directed=False, weighted=True)"
   ]
  },
  {
   "cell_type": "code",
   "execution_count": null,
   "id": "99294b47-6f07-4386-a3c2-8ecdb6781210",
   "metadata": {},
   "outputs": [],
   "source": [
    "graph.node_names"
   ]
  },
  {
   "cell_type": "code",
   "execution_count": null,
   "id": "0773558b-707e-4374-bc49-91a413db5e8d",
   "metadata": {},
   "outputs": [],
   "source": [
    "graph"
   ]
  },
  {
   "cell_type": "code",
   "execution_count": null,
   "id": "e95849fa-00b6-4092-92df-95f092a882ca",
   "metadata": {},
   "outputs": [],
   "source": [
    "# 保存图对象\n",
    "with open('../Data/graph_add_filtered_disGeNet_disease_disease_PPI_proteinTopEid_metaboliteTopEid.pkl', 'wb') as f:\n",
    "    pickle.dump(graph, f)"
   ]
  },
  {
   "cell_type": "code",
   "execution_count": null,
   "id": "1fcc415f-cce2-4de9-b537-fb87d8459386",
   "metadata": {},
   "outputs": [],
   "source": [
    "with open('../Data/gpt_protein_embeddings_dict.pkl', 'rb') as f:\n",
    "    protein_embeddings_dict = pickle.load(f)"
   ]
  },
  {
   "cell_type": "code",
   "execution_count": null,
   "id": "6c571729-694f-4801-83d7-ef4b138e858b",
   "metadata": {},
   "outputs": [],
   "source": [
    "with open('../Data/gpt_embeddings_dict.pkl', 'rb') as f:\n",
    "    embeddings_dict = pickle.load(f)"
   ]
  },
  {
   "cell_type": "code",
   "execution_count": null,
   "id": "35970a11-0868-4676-b024-2429a51d568b",
   "metadata": {},
   "outputs": [],
   "source": [
    "with open('../Data/metabolite_embeddings_dict.pkl', 'rb') as f:\n",
    "    metabolite_embeddings_dict = pickle.load(f)"
   ]
  },
  {
   "cell_type": "code",
   "execution_count": null,
   "id": "181b5bb6-ae80-48fa-8c80-c7e4aad1eb4e",
   "metadata": {},
   "outputs": [],
   "source": [
    "with open('../Data/icd10_embeddings_dict.pkl', 'rb') as f:\n",
    "    icd10_embeddings_dict = pickle.load(f)"
   ]
  },
  {
   "cell_type": "code",
   "execution_count": null,
   "id": "2b1d9322-ff13-4f81-b034-c0b94485c74b",
   "metadata": {},
   "outputs": [],
   "source": [
    "# 创建新字典，保留原始字典不变\n",
    "merged_dict = {**protein_embeddings_dict, **embeddings_dict, **metabolite_embeddings_dict, **icd10_embeddings_dict}"
   ]
  },
  {
   "cell_type": "code",
   "execution_count": null,
   "id": "691cd75c-5daa-4db6-a9a0-9957a0653053",
   "metadata": {},
   "outputs": [],
   "source": [
    "# 提取所有键并保持顺序（Python 3.7+ 字典保持插入顺序）\n",
    "keys = list(graph.node_names)\n",
    "\n",
    "# 将字典值转换为NumPy矩阵（每行一个向量）\n",
    "matrix = np.array([merged_dict[key] for key in keys])\n",
    "\n",
    "# 检查矩阵形状\n",
    "print(\"矩阵形状:\", matrix.shape)  # 输出: (47626, 向量维度)\n",
    "\n",
    "# 示例：查看前3行\n",
    "print(\"前3行:\\n\", matrix[:3])"
   ]
  },
  {
   "cell_type": "code",
   "execution_count": null,
   "id": "980d76ec-34f5-4559-a068-050d63d65ea9",
   "metadata": {},
   "outputs": [],
   "source": [
    "# 保存\n",
    "with open('../Data/keys_add_filtered_disGeNet_disease_disease_PPI_proteinTopEid_metaboliteTopEid.json', 'w') as f:\n",
    "    json.dump(keys, f)"
   ]
  },
  {
   "cell_type": "code",
   "execution_count": null,
   "id": "7a0536e7-2d5d-4b73-ba41-75770531e44c",
   "metadata": {},
   "outputs": [],
   "source": [
    "np.save('../Data/UKB_node_feature_gpt_add_filtered_disGeNet_disease_disease_PPI_proteinTopEid_metaboliteTopEid.npy', matrix)"
   ]
  },
  {
   "cell_type": "code",
   "execution_count": null,
   "id": "5e3ddcd7-ee28-405e-beea-9a4e6953ae9b",
   "metadata": {},
   "outputs": [],
   "source": []
  },
  {
   "cell_type": "code",
   "execution_count": null,
   "id": "7669c3f5-6bbb-4fde-8b06-71045bd90d3c",
   "metadata": {},
   "outputs": [],
   "source": []
  },
  {
   "cell_type": "code",
   "execution_count": null,
   "id": "d3f052c4-aae1-4d2b-9085-bc40d13cb35d",
   "metadata": {},
   "outputs": [],
   "source": []
  },
  {
   "cell_type": "code",
   "execution_count": null,
   "id": "ba27614f-01c4-44fa-8305-f9ef05d2e3ce",
   "metadata": {},
   "outputs": [],
   "source": []
  },
  {
   "cell_type": "code",
   "execution_count": null,
   "id": "71f0622c-1cc8-4fef-ac1f-c2bec5ef5362",
   "metadata": {},
   "outputs": [],
   "source": []
  }
 ],
 "metadata": {
  "kernelspec": {
   "display_name": "GAT",
   "language": "python",
   "name": "gat"
  },
  "language_info": {
   "codemirror_mode": {
    "name": "ipython",
    "version": 3
   },
   "file_extension": ".py",
   "mimetype": "text/x-python",
   "name": "python",
   "nbconvert_exporter": "python",
   "pygments_lexer": "ipython3",
   "version": "3.12.10"
  }
 },
 "nbformat": 4,
 "nbformat_minor": 5
}
